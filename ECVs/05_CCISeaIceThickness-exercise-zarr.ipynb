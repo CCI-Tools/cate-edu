{
 "cells": [
  {
   "cell_type": "markdown",
   "metadata": {},
   "source": [
    "<img src=\"media/Cryo+ESA_Logo_plain-50gray.svg\" alt=\"CCI Cryosphere banner\" width=\"1000\"/>\n",
    "\n",
    "# Cryosat-2 Sea ice thickness maps with Cate  and the Zarr Data Store\n",
    "In Cate's Zarr Data Store you can find one [sea ice thickness product derived from Cryosat-2](https://climate.esa.int/en/odp/#/project/sea-ice). This exercise will show you how to visualize and process it.\n",
    "\n",
    "## Preparations\n",
    "If you haven't done so please follow the [Cate tutorial](futurelearn.com/tbd) to get started using the exercises.\n"
   ]
  },
  {
   "cell_type": "markdown",
   "metadata": {},
   "source": [
    "## Querying the opendata portal for ice thickness products"
   ]
  },
  {
   "cell_type": "code",
   "execution_count": null,
   "metadata": {},
   "outputs": [],
   "source": [
    "# To get things started we need to initialize a few things\n",
    "#Load some python modules to make them accessible to the notebook\n",
    "from cate.core.ds import DATA_STORE_POOL\n",
    "import cate.ops as ops\n",
    "from cate.util.monitor import ConsoleMonitor\n",
    "from cate.core.ds import get_metadata_from_descriptor\n",
    "from cate.ops.io import open_dataset\n",
    "\n",
    "# the following is needed to run Cate in a Jupyter Notebook\n",
    "from xcube.util.ipython import enable_asyncio\n",
    "enable_asyncio()\n",
    "\n",
    "# utilities\n",
    "from IPython.display import display\n",
    "import numpy as np\n",
    "from datetime import datetime\n",
    "\n",
    "monitor=ConsoleMonitor()"
   ]
  },
  {
   "cell_type": "markdown",
   "metadata": {},
   "source": [
    "To begin, let us see which data stores are available in the Data Store Pool."
   ]
  },
  {
   "cell_type": "code",
   "execution_count": null,
   "metadata": {},
   "outputs": [],
   "source": [
    "DATA_STORE_POOL.store_instance_ids"
   ]
  },
  {
   "cell_type": "markdown",
   "metadata": {},
   "source": [
    "We see three stores. The 'cci-store' is a store that provides access to all datasets from the CCI Open Data Portal. The 'cci-zarr-store' is a store that contains selected data from the Open Data Portal, converted to the zarr format. The datasets from this store can be opened and processed faster, but the store provides only a small subset of what is offered by the 'cci-store'. The 'local' data store finally allows to access locally provided data. Also, when you select to cache data, you will find it in this store. Cached data can also be opened quickly.\n",
    "\n",
    "For this exercise we use the 'cci-zarr-store'. As this datat store only holds a few datasets, it is fine to list its content entirely."
   ]
  },
  {
   "cell_type": "code",
   "execution_count": null,
   "metadata": {},
   "outputs": [],
   "source": [
    "data_store = DATA_STORE_POOL.get_store('cci-zarr-store')\n",
    "list(data_store.get_data_ids())"
   ]
  },
  {
   "cell_type": "markdown",
   "metadata": {},
   "source": [
    "There are two sea ice datasets. We select the one about Sea ice Thickness for the Northern Hemisphere and proceed to show the contents of this dataset:"
   ]
  },
  {
   "cell_type": "code",
   "execution_count": null,
   "metadata": {},
   "outputs": [],
   "source": [
    "seaice_descriptor=data_store.describe_data('ESACCI-SEAICE-L3C-SITHICK-SIRAL_CRYOSAT2-NH25KMEASE2-2010-2017-fv2.0.zarr')\n",
    "display(seaice_descriptor)"
   ]
  },
  {
   "cell_type": "markdown",
   "metadata": {},
   "source": [
    "Now let us open it. The parameter 'data_store_id' is not absolutely necessary, but it makes the opening a little faster. The parameter 'normalize' should be used so that the dataset is preprocessed in a way that it can be optimally used in Cate."
   ]
  },
  {
   "cell_type": "code",
   "execution_count": null,
   "metadata": {},
   "outputs": [],
   "source": [
    "# Open the Northern Hemisphere gridded dataset\n",
    "seaice_th_ds=open_dataset(ds_id=\"ESACCI-SEAICE-L3C-SITHICK-SIRAL_CRYOSAT2-NH25KMEASE2-2010-2017-fv2.0.zarr\",\n",
    "                          data_store_id='cci-zarr-store',\n",
    "                          normalize=True)"
   ]
  },
  {
   "cell_type": "markdown",
   "metadata": {},
   "source": [
    "## Freeboard and (approximate) sea ice thickness\n",
    "\n",
    "To first order, one can apply the Archimedes principle to convert the freeboard height to the thickness of the sea ice. To do this one could take the variable `freeboard`, which has a correction for the less dense snow on top of the ice corrected for and convert it using the following formula, assuming a uniform ice and sea water density $\\rho_{ice}$ and $\\rho_{w}$ respectively.\n",
    "![Freeboard versus ice thickness](media/cryosatfreeboard.gif)\n",
    "\n",
    "$h_{seaice}=h_{freeboard}\\left(\\frac{\\rho_{w}}{\\rho_{w}-\\rho_{ice}}\\right)$\n",
    "\n",
    "So using reasonable values for the densities, we can compute a factor which gives us an idea how the freeboard height relates to the sea ice thickness. It turns out that only about 1/8th of the actual sea ice thickness is visible above the waterline as freeboard:"
   ]
  },
  {
   "cell_type": "code",
   "execution_count": null,
   "metadata": {},
   "outputs": [],
   "source": [
    "rho_ice=900 # ice density kg/m^3\n",
    "rho_w=1027 # sea water density kg/m^3\n",
    "\n",
    "freeb2seaice=rho_w/(rho_w-rho_ice)\n",
    "print (f\"Approximate freeboard to sea ice thickness conversion factor {freeb2seaice}\")"
   ]
  },
  {
   "cell_type": "markdown",
   "metadata": {},
   "source": [
    "The dataset, which we opened above, has a variable called `sea_ice_thickness` which uses better estimates of the ice and sea water densities, and also incorporates the density of the snow layer which is sitting on top of the sea ice. So we can take that variable and make an animation.\n",
    "\n",
    "## Create an animation of the arctic sea ice thickness"
   ]
  },
  {
   "cell_type": "code",
   "execution_count": null,
   "metadata": {},
   "outputs": [],
   "source": [
    "import matplotlib.pyplot as plt\n",
    "from matplotlib import animation,cm\n",
    "from IPython.display import HTML\n",
    "import numpy as np\n",
    "from copy import copy\n",
    "# Make sure that the initial iconcentrationmage is not shown inline in the notebook\n",
    "%matplotlib\n",
    "\n",
    "# We also want to visualize the chang over time so we create an animation with the python module matplotlib\n",
    "# You can find more information on matplotlib animations here: https://matplotlib.org/stable/api/animation_api.html\n",
    "\n",
    "ith=0\n",
    "fig, ax = plt.subplots()\n",
    "fig.set_size_inches(8,8)\n",
    "\n",
    "cmSea=copy(cm.get_cmap(\"viridis\"))\n",
    "cmSea.set_bad('grey')\n",
    "\n",
    "#let's strip off the irrelevant edges which contain Nan's\n",
    "xrng=np.arange(120,300)\n",
    "yrng=np.arange(120,300)\n",
    "\n",
    "im=ax.imshow(seaice_th_ds.sea_ice_thickness.isel(time=ith,xc=xrng,yc=yrng).data,cmap=cmSea)\n",
    "cbar=ax.figure.colorbar(im,ax=ax)\n",
    "cbar.ax.set_ylabel(\"meter\")\n",
    "\n",
    "nframes=seaice_th_ds.dims[\"time\"]\n",
    "\n",
    "def initSeaice():\n",
    "    ax.set_title(\"Sea ice thickness %s\"%np.datetime_as_string(seaice_th_ds.time[ith],unit=\"D\"))    \n",
    "    return (im,)\n",
    "\n",
    "def animSeaIce(i):\n",
    "    print(f\"Animating frame {i} of {nframes - 1}\", end=\"\\r\")\n",
    "    ax.set_title(\"Sea ice thickness %s\"%np.datetime_as_string(seaice_th_ds.time[i],unit=\"D\"))\n",
    "    im.set_array(seaice_th_ds.sea_ice_thickness.isel(time=i,xc=xrng,yc=yrng).data)\n",
    "    return (im,)\n",
    "\n",
    "\n",
    "\n",
    "anim = animation.FuncAnimation(fig, animSeaIce, init_func=initSeaice,\n",
    "                               frames=nframes, interval=100, \n",
    "                               blit=True)\n",
    "\n",
    "# The to_jshtml call creates some html code and javascript which allows us to control the animation\n",
    "HTML(anim.to_jshtml())\n"
   ]
  },
  {
   "cell_type": "markdown",
   "metadata": {},
   "source": [
    "## Conversion of sea ice thickness and sea ice concentration to sea ice volume\n",
    "\n",
    "Upon a closer inspection of the dataset, one can also find a sea ice concentration variable, $C_{seaice}$, which has been interpolated on the same grid. This allows us to compute sea ice volume variations, $V_{seaice}$ over time by integrating over the valid data points of the Arctic:\n",
    "\n",
    "$V_{seaice} (t)=\\int_{Arctic} C_{seaice}(\\theta,\\lambda,t) h_{seaice}(\\theta,\\lambda,t) \\sin \\theta d\\theta d\\lambda$\n",
    "\n",
    "We have the advantage that the data is already supplied as a Lambert azimuthal equal-area projection, so we can assign the same area, $dA$, to each 25kmx25km grid cell and simply convert the integral to a sum.\n",
    "\n",
    "$V_{seaice} (t)\\approx \\sum_{i,j} C_{seaice}(i,j,t) h_{seaice}(i,j,t) dA$\n",
    "\n"
   ]
  },
  {
   "cell_type": "code",
   "execution_count": null,
   "metadata": {},
   "outputs": [],
   "source": [
    "dA=25**2 # cell area in km^2\n",
    "#note the conversion factor 1e-5 accounts for converting meter to km and sea ice concentration in percent to a fraction \n",
    "conv=1e-5\n",
    "tmp=conv*seaice_th_ds.sea_ice_thickness*seaice_th_ds.sea_ice_concentration \n",
    "Vseaice=dA*tmp.sum(dim=['xc','yc'],skipna=True)\n"
   ]
  },
  {
   "cell_type": "code",
   "execution_count": null,
   "metadata": {},
   "outputs": [],
   "source": [
    "%matplotlib inline \n",
    "fig, ax = plt.subplots()\n",
    "fig.set_size_inches(8,8)\n",
    "Vseaice.plot(ax=ax,marker='o')\n",
    "ax.set_title(\"Arctic sea ice volume (for dataset coverage only)\")\n",
    "ax.set_ylabel(\"km^3\")"
   ]
  },
  {
   "cell_type": "markdown",
   "metadata": {},
   "source": [
    "# Questions\n",
    "\n",
    "1. Try plotting the variables `freeboard`, `radar_freeboard`. How much do they differ? What is causing the difference?\n",
    "2. To compare the behavior among the different seasons, try creating a plot which has the months as x-axis. Hint: you can use [xarray's groupby function](http://xarray.pydata.org/en/stable/generated/xarray.DataArray.groupby.html) to sort the dataset.\n",
    "3. From the animation it looks like the ice is drifting over time. Try to create so called [Hovmöller plots](https://cate.readthedocs.io/en/latest/use_cases.html?highlight=hovm%C3%B6ller#analysis-of-equatorial-aerosol-and-cloud-features-using-hovmoller-diagrams) of certain x,y sections (2D plot with the spatial coordinate on the x axis and the time axis on the y axis colored according to the sea ice thickness). Can you spot the sea ice drift in those plots?\n"
   ]
  },
  {
   "cell_type": "code",
   "execution_count": null,
   "metadata": {},
   "outputs": [],
   "source": []
  }
 ],
 "metadata": {
  "kernelspec": {
   "display_name": "xcube",
   "language": "python",
   "name": "xcube"
  },
  "language_info": {
   "codemirror_mode": {
    "name": "ipython",
    "version": 3
   },
   "file_extension": ".py",
   "mimetype": "text/x-python",
   "name": "python",
   "nbconvert_exporter": "python",
   "pygments_lexer": "ipython3",
   "version": "3.8.8"
  }
 },
 "nbformat": 4,
 "nbformat_minor": 4
}
