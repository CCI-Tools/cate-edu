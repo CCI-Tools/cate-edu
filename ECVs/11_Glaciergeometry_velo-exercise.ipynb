{
 "cells": [
  {
   "cell_type": "markdown",
   "metadata": {},
   "source": [
    "<img src=\"media/Cryo+ESA_Logo_plain-50gray.svg\" alt=\"CCI Cryosphere banner\" width=\"1000\"/>\n",
    "\n",
    "# Exercise: Plotting grounding line locations and Velocities for the Pine Island and Thwaites glacier\n",
    "\n",
    "The velocity and grounding line CCI datasets from the open data portal, allow a closer look at some of the Antarctic glaciers. Two large glaciers, which are undergoing a rapid change at the moment are the Thwaites glacier and Pine Island glacier. I this exercise you'll plot the grounding lines and glacier velocities.\n",
    "\n",
    "## Preparations\n",
    "If you haven't done so please follow the [Cate tutorial](https://www.futurelearn.com/courses/understanding-climate-change-using-satellite-climate-data/1/steps/1230976) to get started using the Jupyter notebook exercises.\n",
    "\n",
    "## Cate software and the open data portal\n",
    "\n",
    "We'll be querying the open data portal for sea ice concentration products as produced by the [Climate Change Initiative Sea Ice project](https://climate.esa.int/en/projects/sea-ice/). The [**open data portal**](https://climate.esa.int/en/odp/#/dashboard) hosts a variety of datasets on the [Jasmin infrastructure on the UK](https://jasmin.ac.uk/). These can be queried using the dedicated [Cate python module](https://cate.readthedocs.io/en/latest/). Cate allows retrieving data from the data portal and the web-interface which you find at [cate.climate.esa.int](https://cate.climate.esa.int) is build upon it.\n",
    "\n",
    "In this Jupyter notebook exercise we will directly call Cate functions, and it will show you how these can be used in advanced workflows.\n",
    "\n",
    "## Starting the exercise\n",
    "To perform the exercise and execute the code in this notebook you can run it through the [mybinder.org](https://mybinder.org/) service by clicking on the binder link below (if resources allow it). Alternatively, you can download/clone the notebooks from [github](https://github.com/CCI-Tools/cate-edu) and run them through your own Jupyter notebook instance (this may initially take more time to setup, but does allow you to store your changes and extend the notebooks exercises to your own needs).\n",
    "\n",
    "[![click to run this notebook on mybinder.org](https://mybinder.org/badge_logo.svg)](https://mybinder.org/v2/gh/CCI-Tools/cate-edu/HEAD?filepath=ECVs%2F11_Glaciergeometry_velo-exercise.ipynb)\n",
    "\n",
    "or [clone the notebook repository on github](https://github.com/CCI-Tools/cate-edu)"
   ]
  },
  {
   "cell_type": "markdown",
   "metadata": {},
   "source": [
    "## Step 1: loading python modules and initialize the data store pool"
   ]
  },
  {
   "cell_type": "code",
   "execution_count": null,
   "metadata": {},
   "outputs": [],
   "source": [
    "# To get things started we need to initialize a few things\n",
    "#Load some python modules to make them accessible to the notebook\n",
    "from cate.core.ds import DATA_STORE_POOL\n",
    "import cate.ops as ops\n",
    "from cate.ops.io import open_dataset\n",
    "\n",
    "# the following is needed to run Cate in a Jupyter Notebook\n",
    "from xcube.util.ipython import enable_asyncio\n",
    "enable_asyncio()\n",
    "\n",
    "# utilities\n",
    "from IPython.display import display\n",
    "import numpy as np\n",
    "from datetime import datetime\n",
    "import os"
   ]
  },
  {
   "cell_type": "code",
   "execution_count": null,
   "metadata": {},
   "outputs": [],
   "source": [
    "#initialize the local data store\n",
    "data_store = DATA_STORE_POOL.get_store('local')"
   ]
  },
  {
   "cell_type": "markdown",
   "metadata": {},
   "source": [
    "## Step 2: Download Shapefiles and a Tiff file\n",
    "The grounding lines are contained within shapefiles and the glacier velocity in a georeferenced Tiff file. We will download these files and register them in the local cate store."
   ]
  },
  {
   "cell_type": "code",
   "execution_count": null,
   "metadata": {},
   "outputs": [],
   "source": [
    "#setup some trings to name the datasources and files (Grounding lines)\n",
    "dsid=\"local.AIS_CCI_GLL_Ferrigno_PineIS_Thwaites_Smith_Pope_Kohler\"\n",
    "basen=\"20170428_090554_AIS_CCI_GLL_Ferrigno_PineIS_Thwaites_Smith_Pope_Kohler\"\n",
    "shpfile=os.path.join(dsid,basen+\".shp\")\n",
    "\n",
    "\n",
    "#setup some trings to name the datasources and files (velocity geotiffs)\n",
    "fileN=\"ais_cci_iv_PIG_S1avg_v20160125_v1_vv.tif\"\n",
    "vdsid=\"local.AIS_CCI_IV_PIG_S1\"\n",
    "tiffFile=os.path.join(vdsid,fileN)\n"
   ]
  },
  {
   "cell_type": "code",
   "execution_count": null,
   "metadata": {},
   "outputs": [],
   "source": [
    "#Download the Pine island glacier grounding line shapefiles and make them available through cate\n",
    "import os\n",
    "import requests\n",
    "import urllib.request\n",
    "from datetime import datetime\n",
    "from cate.core.ds import DataAccessError\n",
    "\n",
    "# Download shapefiles of the grounding line locations\n",
    "rooturl=\"https://data.cci.ceda.ac.uk/thredds/fileServer/esacci/ice_sheets_antarctica/data/grounding_line_locations/Ferrigno_PineIS_Thwaites_Smith_Pope_Kohler/v2.0_cci_subset/\"\n",
    "urls=[rooturl+\"00README_catalogue_and_licence.txt\"]\n",
    "basen=\"20170428_090554_AIS_CCI_GLL_Ferrigno_PineIS_Thwaites_Smith_Pope_Kohler\"\n",
    "for suf in [\".shp\",\".dbf\",\".shx\",\".prj\"]:\n",
    "    urls.append(rooturl+basen+suf)\n",
    "\n",
    "\n",
    "#directory to download the data to. For the datasource naming to be consistent but make sure it's located in the _store_dir directory of your local datastore and the subdirectory start with 'local.'' \n",
    "downloadDir=os.path.join(data_store.base_dir,dsid)\n",
    "\n",
    "os.makedirs(downloadDir, exist_ok=True)\n",
    "for url in urls:\n",
    "    r=requests.get(url)\n",
    "    fileOut=os.path.join(downloadDir,os.path.basename(url))\n",
    "    if os.path.exists(fileOut):\n",
    "        print(\"Already downloaded, skipping %s\"%fileOut)\n",
    "        continue\n",
    "    print(\"Downloading %s\"%fileOut)\n",
    "    with open(fileOut,'wb') as fid:\n",
    "        fid.write(r.content)\n",
    "\n",
    "\n",
    "#create a new datasource and add the *shp file\n",
    "try:\n",
    "    data_store.register_data(dsid,shpfile)\n",
    "except DataAccessError:\n",
    "    #OK since it already registered\n",
    "    pass\n",
    "\n",
    "#also download the geotiff of averaged absolute velocities of the Pine Island and Thwaites glacier\n",
    "vrooturl=\"ftp://anon-ftp.ceda.ac.uk/neodc/esacci/ice_sheets_antarctica/data/ice_velocity/pine_island_glacier/v1.0/ais_cci_iv_PIG_S1t065_20141010_20160121_v160427/\"\n",
    "\n",
    "#This is an alternative datasource mirror so it will run in mybinder (which doesn't allow ftp downloads)\n",
    "vrooturl=\"https://raw.githubusercontent.com/CCI-Tools/cate-edu/main/binder/alternative_data/\"\n",
    "\n",
    "vdownloadDir=os.path.join(data_store.base_dir,vdsid)\n",
    "os.makedirs(vdownloadDir, exist_ok=True)\n",
    "\n",
    "with urllib.request.urlopen(vrooturl+fileN) as r:\n",
    "    fileOut=os.path.join(vdownloadDir,fileN)\n",
    "    if os.path.exists(fileOut):\n",
    "        print(\"Already downloaded, skipping %s\"%fileOut)\n",
    "    else:\n",
    "        with open(fileOut,\"wb\") as fid:\n",
    "            print(\"Downloading %s\"%fileOut)\n",
    "            fid.write(r.read())\n",
    "\n",
    "        \n",
    "try:\n",
    "    vds=data_store.register_data(vdsid,tiffFile)\n",
    "except DataAccessError:\n",
    "    #OK dataset is already registered\n",
    "    pass\n",
    "\n"
   ]
  },
  {
   "cell_type": "markdown",
   "metadata": {},
   "source": [
    "## Step 3: load the data and visualize them\n",
    "The grounding lines will be loaded into a geopandas dataframe, whereas the velocity image will be opened using rasterio."
   ]
  },
  {
   "cell_type": "code",
   "execution_count": null,
   "metadata": {},
   "outputs": [],
   "source": [
    "#Until cate supports reading shapefiles directly through the datastore read the shapefiles from a file\n",
    "from cate.ops import read_geo_data_frame\n",
    "import xarray as xr\n",
    "\n",
    "PinesGLL=read_geo_data_frame(os.path.join(data_store.base_dir,shpfile))\n",
    "\n",
    "#also read the tiff file with absolute velocities\n",
    "velo=xr.open_rasterio(os.path.join(data_store.base_dir,tiffFile))\n",
    "#mask nodatavalues (so they won't be plotted)\n",
    "velo=velo.where(velo != velo.nodatavals[0])\n"
   ]
  },
  {
   "cell_type": "markdown",
   "metadata": {},
   "source": [
    "We can now create a figure with both the velocities and grounding line locations."
   ]
  },
  {
   "cell_type": "code",
   "execution_count": null,
   "metadata": {},
   "outputs": [],
   "source": [
    "# create a plot of the velocities and grounding lines of Pine Island and Thwaites glacier\n",
    "%matplotlib inline\n",
    "import cartopy.crs as ccrs\n",
    "import matplotlib.pyplot as mpl\n",
    "import rasterio.plot\n",
    "\n",
    "mpl.figure(figsize=(16,10))\n",
    "#note the projection below corresponds to the EPSG 3031 which is the samge projection as used by the ice velocity Geotiff\n",
    "crs=ccrs.SouthPolarStereo(0,true_scale_latitude=-71)\n",
    "\n",
    "ax = mpl.subplot(projection=crs)\n",
    "velo[0,:,:].plot.imshow(ax=ax,vmin=0,vmax=20,cmap=\"Blues\")\n",
    "\n",
    "#plot the grounding lines\n",
    "PinesGLLReproject=PinesGLL.to_crs(crs.proj4_init)\n",
    "ax.add_geometries(PinesGLLReproject.geometry,crs=crs,edgeColor='red',faceColor='none',lineWidth=3)\n",
    "ax.coastlines(resolution='10m')\n",
    "\n",
    "#add some labels to recognize the glaciers\n",
    "ax.text(-106.749997,-75.499998,\"Thwaites glacier\",transform=ccrs.PlateCarree(),FontSize=16)\n",
    "ax.text(-99,-75.4,\"Pine Island glacier\",transform=ccrs.PlateCarree(),FontSize=16)\n",
    "\n",
    "ax.set_title(\"Pine Island and Thwaites averaged glacier velocities [m/day] and a selection of grounding lines\")\n"
   ]
  },
  {
   "cell_type": "markdown",
   "metadata": {},
   "source": [
    "# Questions (share your answers in the forum and discuss)\n",
    "1. Can you spot the glacier front of the Pine Island glacier? \n",
    "2. Why is there such big difference between the location of the glacier front and the grounding line?\n",
    "3. The grounding line for the Thwaites glacier is not shown, were would you expect to find it?\n",
    "4. Try plotting a scalebar on top of the plot to get an idea for the dimensions of the glaciers "
   ]
  }
 ],
 "metadata": {
  "kernelspec": {
   "display_name": "Python",
   "language": "python",
   "name": "python3"
  },
  "language_info": {
   "codemirror_mode": {
    "name": "ipython",
    "version": 3
   },
   "file_extension": ".py",
   "mimetype": "text/x-python",
   "name": "python",
   "nbconvert_exporter": "python",
   "pygments_lexer": "ipython3",
   "version": "3.8.5"
  }
 },
 "nbformat": 4,
 "nbformat_minor": 4
}
