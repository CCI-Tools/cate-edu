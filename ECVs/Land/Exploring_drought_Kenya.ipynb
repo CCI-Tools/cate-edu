{
 "cells": [
  {
   "cell_type": "markdown",
   "metadata": {},
   "source": [
    "# Exploring the Drought in Kenya using Soil Moisture\n",
    "<img src=\"media/Land_logo.png\" alt=\"CCI Land banner\" width=\"1000\"/>\n",
    "\n",
    "License: \n",
    "<a rel=\"license\" href=\"http://creativecommons.org/licenses/by-sa/4.0/\"><img alt=\"Creative Commons License\" style=\"border-width:0\" src=\"https://i.creativecommons.org/l/by-sa/4.0/80x15.png\" /></a>\n",
    "\n",
    "# 1. Introduction to the exercise\n",
    "Kenya is a drought-prone country, mainly due to its peculiar environmental conditions. While agriculture supports up to 75% of Kenya's population and generates almost all food requirements, drought is a major constraint on rain-fed agricultural production, particularly in arid and semi-arid Kenya. In the last century, Kenya has faced almost 29 droughts, some of them in the last decade. The frequency and severity of droughts in Kenya seems to be increasing over time. As a result, crop failures and livestock deaths are leading to severe food shortages in Kenya and food insecurity. [The Climate Change Initiative hosts a soil moisture dataset](https://esa-soilmoisture-cci.org/) that can be used to generate an index of draught severity called Drought Index. In this exercise, we apply the soil moisture data to generate this Drought Indicator for Kenya.\n",
    "\n",
    "![workflow](media/SM_exercise_kenya.png)\n",
    "The input data is daily images of soil moisture (SM, m3/m3) for Kenya and for a number of years (2000.01.01-2020.01.01).\n",
    "There are several approaches to obtaining periods of droughts following information on soil moisture. In this xcercise, we follow the Soil Moisture Deficit Index to address drought in Kenya.\n",
    "\n",
    "1. Download the daily SM images for the area of interest and for the period considered \n",
    "2. Extract the agricultural area using landcover map\n",
    "3. Calculate the average SM per month\n",
    "4. Group the monthly SM by month (all monthly SM of January, February, etc.) for the time span concerned\n",
    "5. Calculate the median, maximum, and minimum values per pixel of the long term monthly images. Three images per month\n",
    "6. With the actual image of the SM of a given month (SWj), calculate the monthly soil deficit of the month (SDj)\n",
    "7. With (SDj) and the Soil Moisture Deficit Index of the month (j-1) (SMDIj-1), calculate the SMDIj. Note: SMDI1= SD1/50 for initial month\n",
    "8. -4 <= SMDIj <= 4 indicating from very dry to very wet conditions\n",
    "9. Identify the very dry areas by identifying a consecutive number of months of negative SMDIj.\n",
    "10. Identify the year and the months of the very dry area in Kenya\n",
    "\n",
    "\n",
    "## 1.1. Exercise objectives\n",
    "In this exercise you will learn to use Cate in order to:\n",
    "1. Search for soil moisture data from the [ESA CCI Open data portal](https://climate.esa.int/en/odp/#/dashboard)\n",
    "2. Apply the soil moisture data to generate information required for the drought model\n",
    "3. Create a drought index based on soil moisture dataset for Kenya\n",
    "4. Identify periods and regions of drought over Kenya\n",
    "\n",
    "## Getting started with jupyter notebooks and the cate webui\n",
    "If you haven't done so please follow the [CATE from Jupyter notebooks](https://www.futurelearn.com/courses/understanding-climate-change-using-satellite-data/1/steps/1271881) to get started using the Jupyter notebook exercises.\n",
    "\n",
    "## CATE software and the open data portal\n",
    "\n",
    "We'll be querying the open data portal for soil moisture products as produced by the [Climate Change Initiative Soil Moisture project](https://climate.esa.int/en/projects/soil-moisture/). The [**open data portal**](https://climate.esa.int/en/odp/#/dashboard) hosts a variety of datasets on the [Jasmin infrastructure in the UK](https://jasmin.ac.uk/). These can be queried using the dedicated [CATE python module](https://cate.readthedocs.io/en/latest/). CATE allows retrieving data from the data portal using its [web-interface](https://cate.climate.esa.int).\n",
    "\n",
    "In this Jupyter notebook exercise, we will directly call CATE functions, and it will show you how these can be used in advanced workflows.\n",
    "\n",
    "## Starting the exercise\n",
    "To perform the exercise and execute the code in this notebook you can run it through the [mybinder.org](https://mybinder.org/) service by clicking on the binder link below (if resources allow it). Alternatively, you can download/clone the notebooks from [github](https://github.com/CCI-Tools/cate-edu) and run them through your own Jupyter notebook instance (this may initially take more time to setup, but does allow you to store your changes and extend the notebooks exercises to your own needs).\n",
    "\n",
    "[![click to run this notebook on mybinder.org](https://mybinder.org/badge_logo.svg)](https://mybinder.org/v2/gh/CCI-Tools/cate-edu/10eaadd3924621444631fe2ea0d3f51a224244ee?urlpath=lab%2Ftree%2FECVs%2FLand%2FExploring_drought_Kenya.ipynb)\n",
    "\n",
    "or [clone the notebook repository on github](https://github.com/CCI-Tools/cate-edu)\n",
    "\n",
    "## 1.2. Are you ready to go?\n",
    "Please follow the steps below, and run all the code cells step by step\n",
    "Here are a few technical reminders:\n",
    "* `tabs` play an important role in python and remove the need for brackets. If you incorrectly align you code, it will not run and you'll get alignment errors.\n",
    "* you can execute **code cells**, by selecting the cell and pressing either the *play* button or pressing `Ctrl+Enter`\n",
    "* Indexing in python is 0-based (i.e. the first entry is denoted by 0)\n",
    "* You're encouraged to try out different settings"
   ]
  },
  {
   "cell_type": "markdown",
   "metadata": {},
   "source": [
    "## 1.3. Initializing some modules "
   ]
  },
  {
   "cell_type": "code",
   "execution_count": 1,
   "metadata": {},
   "outputs": [],
   "source": [
    "# Load some parts of the cate module so we can communicate with its datastore\n",
    "\n",
    "from cate.core import DATA_STORE_POOL\n",
    "import cate.ops as ops\n",
    "from cate.ops.io import open_dataset\n",
    "\n",
    "from datetime import datetime\n",
    "\n",
    "from shapely import wkt # needed later when we apply regional constraints\n",
    "import xarray as xr # Xarray allows flexible indexing of multi-dimensional arrays. Xarray Datasets and DataArrays underly many routines in cate\n",
    "import numpy as np\n",
    "import dask # allows some computations to be faster\n",
    "\n",
    "import logging\n",
    "# There are some irrelevant warnings later which we want to suppressed \n",
    "logging.captureWarnings(True) #although when developing code it's usually better to keep this disabled)\n",
    "\n",
    "import warnings\n",
    "warnings.filterwarnings('ignore')\n",
    "\n",
    "# plotting tools\n",
    "import matplotlib.pyplot as plt\n",
    "import cartopy.crs as ccrs #to work with geographical projections\n",
    "\n",
    "# When we plot, we would like the figures to appear in the notebook itself\n",
    "%matplotlib inline \n",
    "\n",
    "# We need this temporary hack to work around (https://stackoverflow.com/questions/56154176/runtimeerror-asyncio-run-cannot-be-called-from-a-running-event-loop)\n",
    "#import nest_asyncio\n",
    "#nest_asyncio.apply()\n",
    "\n",
    "# the following is needed to run Cate in a Jupyter Notebook\n",
    "from xcube.util.ipython import enable_asyncio\n",
    "enable_asyncio()\n",
    "    \n",
    "import cartopy.feature as cfeature"
   ]
  },
  {
   "cell_type": "markdown",
   "metadata": {},
   "source": [
    "To begin, let us see which data stores are available in the Data Store Pool."
   ]
  },
  {
   "cell_type": "code",
   "execution_count": 2,
   "metadata": {},
   "outputs": [
    {
     "data": {
      "text/plain": [
       "['cci-store', 'cci-zarr-store', 'local']"
      ]
     },
     "execution_count": 2,
     "metadata": {},
     "output_type": "execute_result"
    }
   ],
   "source": [
    "DATA_STORE_POOL.store_instance_ids"
   ]
  },
  {
   "cell_type": "code",
   "execution_count": 3,
   "metadata": {},
   "outputs": [
    {
     "data": {
      "application/json": {
       "additionalProperties": false,
       "type": "object"
      },
      "text/plain": [
       "<xcube.util.jsonschema.JsonObjectSchema at 0x7fb116fbd760>"
      ]
     },
     "metadata": {},
     "output_type": "display_data"
    }
   ],
   "source": [
    "# uncomment/comment the cci_store variable below to use the \n",
    "cci_store = 'cci-zarr-store'\n",
    "# cci_store = 'cci-store'\n",
    "\n",
    "data_store = DATA_STORE_POOL.get_store(cci_store)\n",
    "display(data_store.get_search_params_schema())"
   ]
  },
  {
   "cell_type": "markdown",
   "metadata": {},
   "source": [
    "# 2. Find the required data in ESA's CCI Open Data Portal\n",
    "\n",
    "## 2.1. List all data in the CCI ZARR store\n",
    "\n",
    "Let's start with finding 'Soil Moisture', and 'Land Cover' data by querying for the Essential Climate Variables name `SOILMOISTURE` and `LAND_COVER`\n",
    "\n"
   ]
  },
  {
   "cell_type": "code",
   "execution_count": 4,
   "metadata": {},
   "outputs": [
    {
     "name": "stdout",
     "output_type": "stream",
     "text": [
      "ESACCI-BIOMASS-L4-AGB-MERGED-100m-2010-2018-fv2.0.zarr\n",
      "ESACCI-GHG-L2-CH4-SCIAMACHY-WFMD-2002-2011-fv1.zarr\n",
      "ESACCI-GHG-L2-CO2-SCIAMACHY-WFMD-2002-2012-fv1.zarr\n",
      "ESACCI-ICESHEETS_Antarctica_GMB-2002-2016-v1.1.zarr\n",
      "ESACCI-ICESHEETS_Greenland_GMB-2003-2016-v1.1.zarr\n",
      "ESACCI-L3C_CLOUD-CLD_PRODUCTS-AVHRR_NOAA-1982-2016-fv3.0.zarr\n",
      "ESACCI-L3C_SNOW-SWE-1979-2018-fv1.0.zarr\n",
      "ESACCI-L4_GHRSST-SST-GMPE-GLOB_CDR2.0-1981-2016-v02.0-fv01.0.zarr\n",
      "ESACCI-LC-L4-LCCS-Map-300m-P1Y-1992-2015-v2.0.7b.zarr\n",
      "ESACCI-OC-L3S-IOP-MERGED-1M_MONTHLY_4km_GEO_PML_OCx_QAA-1997-2020-fv5.0.zarr\n",
      "ESACCI-PERMAFROST-L4-ALT-MODISLST-AREA4_PP-1997-2018-fv02.0.zarr\n",
      "ESACCI-SEAICE-L3C-SITHICK-SIRAL_CRYOSAT2-NH25KMEASE2-2010-2017-fv2.0.zarr\n",
      "ESACCI-SEAICE-L4-SICONC-AMSR_50.0kmEASE2-NH-2002-2017-fv2.1.zarr\n",
      "ESACCI-SEALEVEL-IND-MSLTR-MERGED-1993-2016-fv02.zarr\n",
      "ESACCI-SEALEVEL-L4-MSLA-MERGED-1993-2015-fv02.zarr\n",
      "ESACCI-SOILMOISTURE-L3S-SSMV-COMBINED-1978-2020-fv05.3.zarr\n"
     ]
    }
   ],
   "source": [
    "if cci_store == 'cci-zarr-store':\n",
    "    #you can also list all the data ids of the smaller zarr catalogue\n",
    "    print(*list(data_store.get_data_ids()),sep=\"\\n\") \n",
    "else:\n",
    "    soilmoistureQuery = data_store.search_data(ecv=\"SOILMOISTURE\")\n",
    "    for i,soilItem in enumerate(soilmoistureQuery):\n",
    "        print(f\"\\nDataset item {i}:\\nds_id: {soilItem.data_id}\")\n",
    "        display(soilItem)"
   ]
  },
  {
   "cell_type": "markdown",
   "metadata": {},
   "source": [
    "## 2.2. Select the correct data name"
   ]
  },
  {
   "cell_type": "code",
   "execution_count": 5,
   "metadata": {},
   "outputs": [
    {
     "data": {
      "application/json": {
       "attrs": {
        "Conventions": "CF-1.7",
        "cdm_data_type": "Grid",
        "comment": "This dataset was produced with funding of the ESA CCI+ Soil Moisture project; ESRIN Contract No: 4000126684/19/I-NB",
        "contact": "cci_sm_contact@eodc.eu",
        "creator_email": "cci_sm_contact@eodc.eu",
        "creator_name": "Department of Geodesy and Geoinformation, Technical University of Vienna",
        "creator_url": "https://climers.geo.tuwien.ac.at/",
        "date_created": "20210218T230539Z",
        "geospatial_lat_max": "90.0",
        "geospatial_lat_min": "-90.0",
        "geospatial_lat_resolution": "0.25 degree",
        "geospatial_lat_units": "degrees_north",
        "geospatial_lon_max": "180.0",
        "geospatial_lon_min": "-180.0",
        "geospatial_lon_resolution": "0.25 degree",
        "geospatial_lon_units": "degrees_east",
        "geospatial_vertical_max": "0.0",
        "geospatial_vertical_min": "0.0",
        "history": "2021-02-18 23:05:39 - product produced\n2021-06-07 16:36:21 - converted by nc2zarr, version 1.1.2.dev0",
        "id": "ESACCI-SOILMOISTURE-L3S-SSMV-COMBINED-20201231000000-fv05.3.nc",
        "institution": "Technical University of Vienna (AUT); VanderSat B.V. Noordwijk (NL)",
        "keywords": "Soil Moisture/Water Content",
        "keywords_vocabulary": "NASA Global Change Master Directory (GCMD) Science Keywords",
        "license": "Data use is free and open for all registered users.",
        "naming_authority": "TU Wien",
        "platform": "Nimbus 7, DMSP, TRMM, AQUA, Coriolis, GCOM-W1, MIRAS, SMAP, GPM, FengYun-3B; ERS-1, ERS-2, METOP-A, METOP-B",
        "product_version": "v05.3",
        "project": "Climate Change Initiative - European Space Agency",
        "references": "http://www.esa-soilmoisture-cci.org; Dorigo, W.A., Wagner, W., Albergel, C., Albrecht, F.,  Balsamo, G., Brocca, L., Chung, D., Ertl, M., Forkel, M., Gruber, A., Haas, E., Hamer, D. P. Hirschi, M., Ikonen, J., De Jeu, R. Kidd, R. Lahoz, W., Liu, Y.Y., Miralles, D., Lecomte, P. (2017) ESA CCI Soil Moisture for improved Earth system understanding: State-of-the art and future directions. In Remote Sensing of Environment, 2017, ISSN 0034-4257, https://doi.org/10.1016/j.rse.2017.07.001; Gruber, A., Scanlon, T., van der Schalie, R., Wagner, W., Dorigo, W. (2019) Evolution of the ESA CCI Soil Moisture Climate Data Records and their underlying merging methodology. Earth System Science Data 11, 717-739, https://doi.org/10.5194/essd-11-717-2019; Gruber, A., Dorigo, W. A., Crow, W., Wagner W. (2017). Triple Collocation-Based Merging of Satellite Soil Moisture Retrievals. IEEE Transactions on Geoscience and Remote Sensing. PP. 1-13. https://doi.org/10.1109/TGRS.2017.2734070",
        "sensor": "SMMR, SSM/I, TMI, AMSR-E, WindSat, AMSR2, SMOS, SMAP_radiometer, GMI, VIRR; AMI-WS, ASCAT-A, ASCAT-B",
        "source": "WARP 5.5R1.1/AMI-WS/ERS12 Level 2 Soil Moisture; WARP 5.4R1.0/AMI-WS/ERS2 Level 2 Soil Moisture; H115: Metop ASCAT Surface Soil Moisture Climate Data Record v5 12.5 km sampling, DOI: 10.15770/EUM_SAF_H_0006; H116: Metop ASCAT Surface Soil Moisture Climate Data Record v5 Extension 12.5 km sampling; H115: Metop ASCAT Surface Soil Moisture Climate Data Record v5 12.5 km sampling, DOI: 10.15770/EUM_SAF_H_0006; H116: Metop ASCAT Surface Soil Moisture Climate Data Record v5 Extension 12.5 km sampling;; LPRMv6/SMMR/Nimbus 7 L3 Surface Soil Moisture, Ancillary Params, and quality flags; LPRMv6/SSMI/F08, F11, F13 DMSP L3 Surface Soil Moisture, Ancillary Params, and quality flags; LPRMv6/TMI/TRMM L2 Surface Soil Moisture, Ancillary Params, and QC; LPRMv6/AMSR-E/Aqua L2B Surface Soil Moisture, Ancillary Params, and QC; LPRMv6/WINDSAT/CORIOLIS L2 Surface Soil Moisture, Ancillary Params, and QC; LPRMv6/AMSR2/GCOM-W1 L3 Surface Soil Moisture, Ancillary Params; LPRMv6/SMOS/MIRAS L3 Surface Soil Moisture, CATDS Level 3 Brightness Temperatures (L3TB) version 300 RE03 & RE04; LPRMv6/SMAP_radiometer/SMAP L2 Surface Soil Moisture, Ancillary Params, and QC; LPRMv6/GMI/GPM L3 Surface Soil Moisture, Ancillary Params, and quality flags; LPRMv6/VIRR/FengYun-3B L3 Surface Soil Moisture, Ancillary Params, and quality flags;;",
        "spatial_resolution": "25km",
        "standard_name_vocabulary": "NetCDF Climate and Forecast (CF) Metadata Convention",
        "summary": "This dataset was produced with funding of the ESA CCI+ Soil Moisture project; ESRIN Contract No: 4000126684/19/I-NB",
        "time_coverage_duration": "P42Y",
        "time_coverage_end": "2020-12-31 00:00:00",
        "time_coverage_resolution": "P1D",
        "time_coverage_start": "1978-11-01 00:00:00",
        "title": "ESA CCI Surface Soil Moisture COMBINED active+passive Product",
        "tracking_id": "174f51a4-6a06-4352-a712-4d3f77bd8166"
       },
       "bbox": [
        -180,
        -90,
        180,
        90
       ],
       "coords": {
        "lat": {
         "attrs": {
          "_CoordinateAxisType": "Lat",
          "standard_name": "latitude",
          "units": "degrees_north",
          "valid_range": [
           -90,
           90
          ]
         },
         "dims": [
          "lat"
         ],
         "dtype": "float64",
         "name": "lat"
        },
        "lon": {
         "attrs": {
          "_CoordinateAxisType": "Lon",
          "standard_name": "longitude",
          "units": "degrees_east",
          "valid_range": [
           -180,
           180
          ]
         },
         "dims": [
          "lon"
         ],
         "dtype": "float64",
         "name": "lon"
        },
        "time": {
         "attrs": {
          "standard_name": "time"
         },
         "dims": [
          "time"
         ],
         "dtype": "datetime64[ns]",
         "name": "time"
        }
       },
       "data_id": "ESACCI-SOILMOISTURE-L3S-SSMV-COMBINED-1978-2020-fv05.3.zarr",
       "data_type": "dataset",
       "data_vars": {
        "dnflag": {
         "attrs": {
          "_CoordinateAxes": "time lat lon",
          "bit_meanings": [
           "NaN",
           "day",
           "night"
          ],
          "bits": [
           0,
           1,
           2
          ],
          "dtype": "int8",
          "flag_meanings": [
           "NaN",
           "day",
           "night",
           "day_night_combination"
          ],
          "flag_values": [
           0,
           1,
           2,
           3
          ],
          "long_name": "Day / Night Flag",
          "valid_range": [
           0,
           3
          ]
         },
         "chunks": [
          16,
          720,
          720
         ],
         "dims": [
          "time",
          "lat",
          "lon"
         ],
         "dtype": "float32",
         "name": "dnflag"
        },
        "flag": {
         "attrs": {
          "_CoordinateAxes": "time lat lon",
          "bit_meanings": [
           "no_data_inconsistency_detected",
           "snow_coverage_or_temperature_below_zero",
           "dense_vegetation",
           "others_no_convergence_in_the_model_thus_no_valid_sm_estimates",
           "soil_moisture_value_exceeds_physical_boundary",
           "weight_of_measurement_below_threshold",
           "all_datasets_deemed_unreliable",
           "NaN"
          ],
          "bits": [
           0,
           1,
           2,
           3,
           4,
           5,
           6,
           7
          ],
          "dtype": "int8",
          "flag_meanings": [
           "no_data_inconsistency_detected",
           "dense_vegetation",
           "others_no_convergence_in_the_model_thus_no_valid_sm_estimates",
           "combination_of_flag_values_2_and_4",
           "combination_of_flag_values_1_and_2_and_4_and_8_and_16_and_32_and_64"
          ],
          "flag_values": [
           0,
           2,
           4,
           6,
           127
          ],
          "long_name": "Flag",
          "valid_range": [
           0,
           127
          ]
         },
         "chunks": [
          16,
          720,
          720
         ],
         "dims": [
          "time",
          "lat",
          "lon"
         ],
         "dtype": "float32",
         "name": "flag"
        },
        "freqbandID": {
         "attrs": {
          "_CoordinateAxes": "time lat lon",
          "dtype": "int16",
          "flag_meanings": [
           "NaN",
           "C66",
           "X107"
          ],
          "flag_values": [
           0,
           4,
           64
          ],
          "long_name": "Frequency Band Identification",
          "valid_range": [
           0,
           511
          ]
         },
         "chunks": [
          16,
          720,
          720
         ],
         "dims": [
          "time",
          "lat",
          "lon"
         ],
         "dtype": "float32",
         "name": "freqbandID"
        },
        "mode": {
         "attrs": {
          "_CoordinateAxes": "time lat lon",
          "bit_meanings": [
           "NaN",
           "ascending",
           "descending"
          ],
          "bits": [
           0,
           1,
           2
          ],
          "dtype": "int8",
          "flag_meanings": [
           "NaN",
           "ascending",
           "descending",
           "ascending_descending_combination"
          ],
          "flag_values": [
           0,
           1,
           2,
           3
          ],
          "long_name": "Satellite Mode",
          "valid_range": [
           0,
           3
          ]
         },
         "chunks": [
          16,
          720,
          720
         ],
         "dims": [
          "time",
          "lat",
          "lon"
         ],
         "dtype": "float32",
         "name": "mode"
        },
        "sensor": {
         "attrs": {
          "_CoordinateAxes": "time lat lon",
          "dtype": "int16",
          "flag_meanings": [
           "NaN",
           "SMMR"
          ],
          "flag_values": [
           0,
           1
          ],
          "long_name": "Sensor",
          "valid_range": [
           0,
           16383
          ]
         },
         "chunks": [
          16,
          720,
          720
         ],
         "dims": [
          "time",
          "lat",
          "lon"
         ],
         "dtype": "float32",
         "name": "sensor"
        },
        "sm": {
         "attrs": {
          "_CoordinateAxes": "time lat lon",
          "dtype": "float32",
          "long_name": "Volumetric Soil Moisture",
          "units": "m3 m-3",
          "valid_range": [
           0,
           1
          ]
         },
         "chunks": [
          16,
          720,
          720
         ],
         "dims": [
          "time",
          "lat",
          "lon"
         ],
         "dtype": "float32",
         "name": "sm"
        },
        "sm_uncertainty": {
         "attrs": {
          "_CoordinateAxes": "time lat lon",
          "dtype": "float32",
          "long_name": "Volumetric Soil Moisture Uncertainty",
          "units": "m3 m-3",
          "valid_range": [
           0,
           1
          ]
         },
         "chunks": [
          16,
          720,
          720
         ],
         "dims": [
          "time",
          "lat",
          "lon"
         ],
         "dtype": "float32",
         "name": "sm_uncertainty"
        },
        "t0": {
         "attrs": {
          "_CoordinateAxes": "time lat lon",
          "dtype": "float64",
          "long_name": "Observation Timestamp",
          "valid_range": [
           3225,
           3227
          ]
         },
         "chunks": [
          16,
          720,
          720
         ],
         "dims": [
          "time",
          "lat",
          "lon"
         ],
         "dtype": "datetime64[ns]",
         "name": "t0"
        }
       },
       "dims": {
        "lat": 720,
        "lon": 1440,
        "time": 15402
       },
       "spatial_res": 0.25,
       "time_period": "1D",
       "time_range": [
        "1978-10-31",
        "2020-12-31"
       ]
      },
      "text/plain": [
       "<xcube.core.store.descriptor.DatasetDescriptor at 0x7fb098114f40>"
      ]
     },
     "metadata": {},
     "output_type": "display_data"
    },
    {
     "data": {
      "application/json": {
       "attrs": {
        "Conventions": "CF-1.6",
        "TileSize": "2048:2048",
        "catalogue_url": "https://catalogue.ceda.ac.uk/uuid/b382ebe6679d44b8b0e68ea4ef4b701c",
        "cdm_data_type": "grid",
        "comment": "",
        "contact": "landcover-cci@uclouvain.be",
        "creator_email": "landcover-cci@uclouvain.be",
        "creator_name": "University catholique de Louvain",
        "creator_url": "http://www.uclouvain.be/",
        "crs": 1178880137,
        "date_created": "20170615T163947Z",
        "geospatial_lat_max": "90.0",
        "geospatial_lat_min": "-90.0",
        "geospatial_lat_resolution": "0.002778",
        "geospatial_lat_units": "degrees_north",
        "geospatial_lon_max": "180.0",
        "geospatial_lon_min": "-180.0",
        "geospatial_lon_resolution": "0.002778",
        "geospatial_lon_units": "degrees_east",
        "history": "amorgos-4,0, lc-sdr-1.0, lc-sr-1.0, lc-classification-1.0,lc-user-tools-3.13",
        "id": "ESACCI-LC-L4-LCCS-Map-300m-P1Y-2015-v2.0.7",
        "institution": "Universite catholique de Louvain",
        "keywords": "land cover classification,satellite,observation",
        "keywords_vocabulary": "NASA Global Change Master Directory (GCMD) Science Keywords",
        "license": "ESA CCI Data Policy: free and open access",
        "naming_authority": "org.esa-cci",
        "product_version": "2.0.7",
        "project": "Climate Change Initiative - European Space Agency",
        "references": "http://www.esa-landcover-cci.org/",
        "source": "MERIS FR L1B version 5.05, MERIS RR L1B version 8.0, SPOT VGT P",
        "spatial_resolution": "300m",
        "standard_name_vocabulary": "NetCDF Climate and Forecast (CF) Standard Names version 21",
        "summary": "This dataset contains the global ESA CCI land cover classification map derived from satellite data of one epoch.",
        "time_coverage_duration": "P1Y",
        "time_coverage_end": "20150703T000000Z",
        "time_coverage_resolution": "P1Y",
        "time_coverage_start": "20150703T000000Z",
        "title": "ESA CCI Land Cover Map",
        "tracking_id": "12590bad-9014-4a91-9048-d06b67965490",
        "type": "ESACCI-LC-L4-LCCS-Map-300m-P1Y"
       },
       "bbox": [
        -180,
        -90.00000033908944,
        180,
        90.00000033908944
       ],
       "coords": {
        "lat": {
         "attrs": {
          "long_name": "latitude",
          "standard_name": "latitude",
          "units": "degrees_north",
          "valid_max": 89.99861145019531,
          "valid_min": -89.99861145019531
         },
         "dims": [
          "lat"
         ],
         "dtype": "float32",
         "name": "lat"
        },
        "lon": {
         "attrs": {
          "long_name": "longitude",
          "standard_name": "longitude",
          "units": "degrees_east",
          "valid_max": 179.9986114501953,
          "valid_min": -179.9986114501953
         },
         "dims": [
          "lon"
         ],
         "dtype": "float32",
         "name": "lon"
        },
        "time": {
         "dims": [
          "time"
         ],
         "dtype": "datetime64[ns]",
         "name": "time"
        }
       },
       "data_id": "ESACCI-LC-L4-LCCS-Map-300m-P1Y-1992-2015-v2.0.7b.zarr",
       "data_type": "dataset",
       "data_vars": {
        "change_count": {
         "attrs": {
          "long_name": "number of class changes",
          "valid_max": 100,
          "valid_min": 0
         },
         "chunks": [
          1,
          2592,
          1296
         ],
         "dims": [
          "time",
          "lat",
          "lon"
         ],
         "dtype": "float32",
         "name": "change_count"
        },
        "current_pixel_state": {
         "attrs": {
          "flag_meanings": "invalid clear_land clear_water clear_snow_ice cloud cloud_shadow",
          "flag_values": [
           0,
           1,
           2,
           3,
           4,
           5
          ],
          "long_name": "LC pixel type mask",
          "standard_name": "land_cover_lccs status_flag",
          "valid_max": 5,
          "valid_min": 0
         },
         "chunks": [
          1,
          2592,
          1296
         ],
         "dims": [
          "time",
          "lat",
          "lon"
         ],
         "dtype": "float32",
         "name": "current_pixel_state"
        },
        "lccs_class": {
         "attrs": {
          "ancillary_variables": "processed_flag current_pixel_state observation_count change_count",
          "flag_meanings": "no_data cropland_rainfed cropland_rainfed_herbaceous_cover cropland_rainfed_tree_or_shrub_cover cropland_irrigated mosaic_cropland mosaic_natural_vegetation tree_broadleaved_evergreen_closed_to_open tree_broadleaved_deciduous_closed_to_open tree_broadleaved_deciduous_closed tree_broadleaved_deciduous_open tree_needleleaved_evergreen_closed_to_open tree_needleleaved_evergreen_closed tree_needleleaved_evergreen_open tree_needleleaved_deciduous_closed_to_open tree_needleleaved_deciduous_closed tree_needleleaved_deciduous_open tree_mixed mosaic_tree_and_shrub mosaic_herbaceous shrubland shrubland_evergreen shrubland_deciduous grassland lichens_and_mosses sparse_vegetation sparse_tree sparse_shrub sparse_herbaceous tree_cover_flooded_fresh_or_brakish_water tree_cover_flooded_saline_water shrub_or_herbaceous_cover_flooded urban bare_areas bare_areas_consolidated bare_areas_unconsolidated water snow_and_ice",
          "flag_values": [
           0,
           10,
           11,
           12,
           20,
           30,
           40,
           50,
           60,
           61,
           62,
           70,
           71,
           72,
           80,
           81,
           82,
           90,
           100,
           110,
           120,
           121,
           122,
           -126,
           -116,
           -106,
           -105,
           -104,
           -103,
           -96,
           -86,
           -76,
           -66,
           -56,
           -55,
           -54,
           -46,
           -36
          ],
          "long_name": "Land cover class defined in LCCS",
          "standard_name": "land_cover_lccs",
          "valid_max": 220,
          "valid_min": 1
         },
         "chunks": [
          1,
          2592,
          1296
         ],
         "dims": [
          "time",
          "lat",
          "lon"
         ],
         "dtype": "float32",
         "name": "lccs_class"
        },
        "observation_count": {
         "attrs": {
          "long_name": "number of valid observations",
          "standard_name": "land_cover_lccs number_of_observations",
          "valid_max": 32767,
          "valid_min": 0
         },
         "chunks": [
          1,
          2592,
          1296
         ],
         "dims": [
          "time",
          "lat",
          "lon"
         ],
         "dtype": "float32",
         "name": "observation_count"
        },
        "processed_flag": {
         "attrs": {
          "flag_meanings": "not_processed processed",
          "flag_values": [
           0,
           1
          ],
          "long_name": "LC map processed area flag",
          "standard_name": "land_cover_lccs status_flag",
          "valid_max": 1,
          "valid_min": 0
         },
         "chunks": [
          1,
          2592,
          1296
         ],
         "dims": [
          "time",
          "lat",
          "lon"
         ],
         "dtype": "float32",
         "name": "processed_flag"
        }
       },
       "dims": {
        "lat": 64800,
        "lon": 129600,
        "time": 24
       },
       "time_range": [
        "1992-07-02",
        "2015-07-03"
       ]
      },
      "text/plain": [
       "<xcube.core.store.descriptor.DatasetDescriptor at 0x7fb099d4cd30>"
      ]
     },
     "metadata": {},
     "output_type": "display_data"
    }
   ],
   "source": [
    "#note the appropriate dataset is called slightly different depending on the cci-store which is being used\n",
    "if cci_store == \"cci-zarr-store\":\n",
    "    SMdataset_id = \"ESACCI-SOILMOISTURE-L3S-SSMV-COMBINED-1978-2020-fv05.3.zarr\"\n",
    "    LCdataset_id = \"ESACCI-LC-L4-LCCS-Map-300m-P1Y-1992-2015-v2.0.7b.zarr\"\n",
    "else:\n",
    "    SMdataset_id = \"esacci.SOILMOISTURE.day.L3S.SSMV.multi-sensor.multi-platform.COMBINED.v05-3.r1\"\n",
    "    LCdataset_id = \"esacci.LC.L4.LCCS.Map.300m.p1y.v20.7b.r1\"# check this name\n",
    "    \n",
    "#describe the dataset\n",
    "soil_descriptor = data_store.describe_data(SMdataset_id)\n",
    "display(soil_descriptor)\n",
    "\n",
    "LC_descriptor = data_store.describe_data(LCdataset_id)\n",
    "display(LC_descriptor)\n"
   ]
  },
  {
   "cell_type": "markdown",
   "metadata": {},
   "source": [
    "# 3. Download (a subset of) the data and store it 'locally'\n",
    "Up to now, we just queried the open data portal but did not actually download or process any data. In the following steps you will be extracting the required data by setting constraints in time and space to reduce the data download. The soil moisture data will aslo be sampled on monthly intervals before being stored locally\n",
    "\n",
    "\n",
    "\n",
    "\n"
   ]
  },
  {
   "cell_type": "markdown",
   "metadata": {},
   "source": [
    "## 3.1. Apply a regional restriction based a polygon\n",
    "Polygons, and other geometrical objects can be conveniently expressed in the [Well Known Text representation (WKT)](https://en.wikipedia.org/wiki/Well-known_text_representation_of_geometry). The polygon below `Polygon (( ...))`, was drawn using [QGIS](https://www.qgis.org/en/site/) and exported as WKT.\n",
    "The points of the polygon are represented in latitude (Lat), longitude(Long) coordinates. Start from the most left point, going clockwise and close the polygon, i.e. the first point should also appear as the last point. In this example we have a polygon with five points, so WKT expression is:\n",
    "<cod>\n",
    "Polygon((Lat1, Long1, Lat2, Long2, Lat3, Long, Lat4, Long4, Lat5, Long5, *Lat1, Long1*))</cod>\n",
    "\n",
    "This Polygon should be loaded in a [Shapely Polygon object](https://shapely.readthedocs.io/en/stable/manual.html?highlight=Polygon#Polygon) so CATE can work with."
   ]
  },
  {
   "cell_type": "code",
   "execution_count": 6,
   "metadata": {},
   "outputs": [
    {
     "data": {
      "text/plain": [
       "<cartopy.mpl.feature_artist.FeatureArtist at 0x7fb099cc8cd0>"
      ]
     },
     "execution_count": 6,
     "metadata": {},
     "output_type": "execute_result"
    },
    {
     "data": {
      "image/png": "[encoded data removed]",
      "text/plain": [
       "<Figure size 432x288 with 1 Axes>"
      ]
     },
     "metadata": {
      "needs_background": "light"
     },
     "output_type": "display_data"
    }
   ],
   "source": [
    "# The WKT representation representing the rough outline of the Kenya as a region of interest \n",
    "\n",
    "wktkenyaDrought = \"Polygon ((34.0218774057365323 5.83180890691609211, 43.11430983816897111 5.80626836637555233, 42.62903956789870108 -3.10738028227309826, 40.17714767600680403 -5.96792082281363712, 32.5660665949257222 -2.494407309300124, 32.5660665949257222 -2.494407309300124, 32.5660665949257222 -2.494407309300124, 34.0218774057365323 5.83180890691609211))\"\n",
    "KenyaPoly = wkt.loads(wktkenyaDrought)\n",
    "\n",
    "mapproj = ccrs.LambertConformal(central_longitude=37.9, central_latitude=-0.02)\n",
    "# Curious as you might be, let's make a quick and dirty plot to see how the polygon looks like on a map\n",
    "ax = plt.axes([0, 0, 1, 1], projection=mapproj)\n",
    "ax.set_extent([30, 45, 10, -10])\n",
    "ax.coastlines()\n",
    "ax.stock_img()\n",
    "ax.add_geometries([KenyaPoly], crs=ccrs.PlateCarree(), facecolor=\"lightblue\", edgecolor=\"blue\", alpha=0.5)\n",
    "\n",
    "#spice up your plot with some Natural Earth country boundaries\n",
    "ax.add_feature(cfeature.BORDERS, edgecolor='gray')\n"
   ]
  },
  {
   "cell_type": "markdown",
   "metadata": {},
   "source": [
    "Results of step 3.1: Apply a polygon to the region of interest"
   ]
  },
  {
   "cell_type": "markdown",
   "metadata": {},
   "source": [
    "## 3.2 Open a subset based upon region and time constraints"
   ]
  },
  {
   "cell_type": "code",
   "execution_count": 7,
   "metadata": {},
   "outputs": [],
   "source": [
    "withinT = [datetime(2005,1,1),datetime(2020,12,31)]\n",
    "\n",
    "# load the dataset\n",
    "soilDset = open_dataset(ds_id=SMdataset_id, data_store_id=cci_store, time_range=withinT, normalize=True, region=wktkenyaDrought)\n",
    "\n"
   ]
  },
  {
   "cell_type": "code",
   "execution_count": 8,
   "metadata": {},
   "outputs": [],
   "source": [
    "withinT1 = [datetime(2015,6,3),datetime(2015,7,3)]\n",
    "# load the dataset\n",
    "LCDset = open_dataset(ds_id=LCdataset_id, data_store_id=cci_store, time_range=withinT1, normalize=True, region=wktkenyaDrought)"
   ]
  },
  {
   "cell_type": "markdown",
   "metadata": {},
   "source": [
    "## 3.3. Show that the correct dataset is opened"
   ]
  },
  {
   "cell_type": "code",
   "execution_count": 9,
   "metadata": {},
   "outputs": [
    {
     "data": {
      "text/html": [
       "<div><svg style=\"position: absolute; width: 0; height: 0; overflow: hidden\">\n",
       "<defs>\n",
       "<symbol id=\"icon-database\" viewBox=\"0 0 32 32\">\n",
       "<path d=\"M16 0c-8.837 0-16 2.239-16 5v4c0 2.761 7.163 5 16 5s16-2.239 16-5v-4c0-2.761-7.163-5-16-5z\"></path>\n",
       "<path d=\"M16 17c-8.837 0-16-2.239-16-5v6c0 2.761 7.163 5 16 5s16-2.239 16-5v-6c0 2.761-7.163 5-16 5z\"></path>\n",
       "<path d=\"M16 26c-8.837 0-16-2.239-16-5v6c0 2.761 7.163 5 16 5s16-2.239 16-5v-6c0 2.761-7.163 5-16 5z\"></path>\n",
       "</symbol>\n",
       "<symbol id=\"icon-file-text2\" viewBox=\"0 0 32 32\">\n",
       "<path d=\"M28.681 7.159c-0.694-0.947-1.662-2.053-2.724-3.116s-2.169-2.030-3.116-2.724c-1.612-1.182-2.393-1.319-2.841-1.319h-15.5c-1.378 0-2.5 1.121-2.5 2.5v27c0 1.378 1.122 2.5 2.5 2.5h23c1.378 0 2.5-1.122 2.5-2.5v-19.5c0-0.448-0.137-1.23-1.319-2.841zM24.543 5.457c0.959 0.959 1.712 1.825 2.268 2.543h-4.811v-4.811c0.718 0.556 1.584 1.309 2.543 2.268zM28 29.5c0 0.271-0.229 0.5-0.5 0.5h-23c-0.271 0-0.5-0.229-0.5-0.5v-27c0-0.271 0.229-0.5 0.5-0.5 0 0 15.499-0 15.5 0v7c0 0.552 0.448 1 1 1h7v19.5z\"></path>\n",
       "<path d=\"M23 26h-14c-0.552 0-1-0.448-1-1s0.448-1 1-1h14c0.552 0 1 0.448 1 1s-0.448 1-1 1z\"></path>\n",
       "<path d=\"M23 22h-14c-0.552 0-1-0.448-1-1s0.448-1 1-1h14c0.552 0 1 0.448 1 1s-0.448 1-1 1z\"></path>\n",
       "<path d=\"M23 18h-14c-0.552 0-1-0.448-1-1s0.448-1 1-1h14c0.552 0 1 0.448 1 1s-0.448 1-1 1z\"></path>\n",
       "</symbol>\n",
       "</defs>\n",
       "</svg>\n",
       "<style>/* CSS stylesheet for displaying xarray objects in jupyterlab.\n",
       " *\n",
       " */\n",
       "\n",
       ":root {\n",
       "  --xr-font-color0: var(--jp-content-font-color0, rgba(0, 0, 0, 1));\n",
       "  --xr-font-color2: var(--jp-content-font-color2, rgba(0, 0, 0, 0.54));\n",
       "  --xr-font-color3: var(--jp-content-font-color3, rgba(0, 0, 0, 0.38));\n",
       "  --xr-border-color: var(--jp-border-color2, #e0e0e0);\n",
       "  --xr-disabled-color: var(--jp-layout-color3, #bdbdbd);\n",
       "  --xr-background-color: var(--jp-layout-color0, white);\n",
       "  --xr-background-color-row-even: var(--jp-layout-color1, white);\n",
       "  --xr-background-color-row-odd: var(--jp-layout-color2, #eeeeee);\n",
       "}\n",
       "\n",
       "html[theme=dark],\n",
       "body.vscode-dark {\n",
       "  --xr-font-color0: rgba(255, 255, 255, 1);\n",
       "  --xr-font-color2: rgba(255, 255, 255, 0.54);\n",
       "  --xr-font-color3: rgba(255, 255, 255, 0.38);\n",
       "  --xr-border-color: #1F1F1F;\n",
       "  --xr-disabled-color: #515151;\n",
       "  --xr-background-color: #111111;\n",
       "  --xr-background-color-row-even: #111111;\n",
       "  --xr-background-color-row-odd: #313131;\n",
       "}\n",
       "\n",
       ".xr-wrap {\n",
       "  display: block;\n",
       "  min-width: 300px;\n",
       "  max-width: 700px;\n",
       "}\n",
       "\n",
       ".xr-text-repr-fallback {\n",
       "  /* fallback to plain text repr when CSS is not injected (untrusted notebook) */\n",
       "  display: none;\n",
       "}\n",
       "\n",
       ".xr-header {\n",
       "  padding-top: 6px;\n",
       "  padding-bottom: 6px;\n",
       "  margin-bottom: 4px;\n",
       "  border-bottom: solid 1px var(--xr-border-color);\n",
       "}\n",
       "\n",
       ".xr-header > div,\n",
       ".xr-header > ul {\n",
       "  display: inline;\n",
       "  margin-top: 0;\n",
       "  margin-bottom: 0;\n",
       "}\n",
       "\n",
       ".xr-obj-type,\n",
       ".xr-array-name {\n",
       "  margin-left: 2px;\n",
       "  margin-right: 10px;\n",
       "}\n",
       "\n",
       ".xr-obj-type {\n",
       "  color: var(--xr-font-color2);\n",
       "}\n",
       "\n",
       ".xr-sections {\n",
       "  padding-left: 0 !important;\n",
       "  display: grid;\n",
       "  grid-template-columns: 150px auto auto 1fr 20px 20px;\n",
       "}\n",
       "\n",
       ".xr-section-item {\n",
       "  display: contents;\n",
       "}\n",
       "\n",
       ".xr-section-item input {\n",
       "  display: none;\n",
       "}\n",
       "\n",
       ".xr-section-item input + label {\n",
       "  color: var(--xr-disabled-color);\n",
       "}\n",
       "\n",
       ".xr-section-item input:enabled + label {\n",
       "  cursor: pointer;\n",
       "  color: var(--xr-font-color2);\n",
       "}\n",
       "\n",
       ".xr-section-item input:enabled + label:hover {\n",
       "  color: var(--xr-font-color0);\n",
       "}\n",
       "\n",
       ".xr-section-summary {\n",
       "  grid-column: 1;\n",
       "  color: var(--xr-font-color2);\n",
       "  font-weight: 500;\n",
       "}\n",
       "\n",
       ".xr-section-summary > span {\n",
       "  display: inline-block;\n",
       "  padding-left: 0.5em;\n",
       "}\n",
       "\n",
       ".xr-section-summary-in:disabled + label {\n",
       "  color: var(--xr-font-color2);\n",
       "}\n",
       "\n",
       ".xr-section-summary-in + label:before {\n",
       "  display: inline-block;\n",
       "  content: '►';\n",
       "  font-size: 11px;\n",
       "  width: 15px;\n",
       "  text-align: center;\n",
       "}\n",
       "\n",
       ".xr-section-summary-in:disabled + label:before {\n",
       "  color: var(--xr-disabled-color);\n",
       "}\n",
       "\n",
       ".xr-section-summary-in:checked + label:before {\n",
       "  content: '▼';\n",
       "}\n",
       "\n",
       ".xr-section-summary-in:checked + label > span {\n",
       "  display: none;\n",
       "}\n",
       "\n",
       ".xr-section-summary,\n",
       ".xr-section-inline-details {\n",
       "  padding-top: 4px;\n",
       "  padding-bottom: 4px;\n",
       "}\n",
       "\n",
       ".xr-section-inline-details {\n",
       "  grid-column: 2 / -1;\n",
       "}\n",
       "\n",
       ".xr-section-details {\n",
       "  display: none;\n",
       "  grid-column: 1 / -1;\n",
       "  margin-bottom: 5px;\n",
       "}\n",
       "\n",
       ".xr-section-summary-in:checked ~ .xr-section-details {\n",
       "  display: contents;\n",
       "}\n",
       "\n",
       ".xr-array-wrap {\n",
       "  grid-column: 1 / -1;\n",
       "  display: grid;\n",
       "  grid-template-columns: 20px auto;\n",
       "}\n",
       "\n",
       ".xr-array-wrap > label {\n",
       "  grid-column: 1;\n",
       "  vertical-align: top;\n",
       "}\n",
       "\n",
       ".xr-preview {\n",
       "  color: var(--xr-font-color3);\n",
       "}\n",
       "\n",
       ".xr-array-preview,\n",
       ".xr-array-data {\n",
       "  padding: 0 5px !important;\n",
       "  grid-column: 2;\n",
       "}\n",
       "\n",
       ".xr-array-data,\n",
       ".xr-array-in:checked ~ .xr-array-preview {\n",
       "  display: none;\n",
       "}\n",
       "\n",
       ".xr-array-in:checked ~ .xr-array-data,\n",
       ".xr-array-preview {\n",
       "  display: inline-block;\n",
       "}\n",
       "\n",
       ".xr-dim-list {\n",
       "  display: inline-block !important;\n",
       "  list-style: none;\n",
       "  padding: 0 !important;\n",
       "  margin: 0;\n",
       "}\n",
       "\n",
       ".xr-dim-list li {\n",
       "  display: inline-block;\n",
       "  padding: 0;\n",
       "  margin: 0;\n",
       "}\n",
       "\n",
       ".xr-dim-list:before {\n",
       "  content: '(';\n",
       "}\n",
       "\n",
       ".xr-dim-list:after {\n",
       "  content: ')';\n",
       "}\n",
       "\n",
       ".xr-dim-list li:not(:last-child):after {\n",
       "  content: ',';\n",
       "  padding-right: 5px;\n",
       "}\n",
       "\n",
       ".xr-has-index {\n",
       "  font-weight: bold;\n",
       "}\n",
       "\n",
       ".xr-var-list,\n",
       ".xr-var-item {\n",
       "  display: contents;\n",
       "}\n",
       "\n",
       ".xr-var-item > div,\n",
       ".xr-var-item label,\n",
       ".xr-var-item > .xr-var-name span {\n",
       "  background-color: var(--xr-background-color-row-even);\n",
       "  margin-bottom: 0;\n",
       "}\n",
       "\n",
       ".xr-var-item > .xr-var-name:hover span {\n",
       "  padding-right: 5px;\n",
       "}\n",
       "\n",
       ".xr-var-list > li:nth-child(odd) > div,\n",
       ".xr-var-list > li:nth-child(odd) > label,\n",
       ".xr-var-list > li:nth-child(odd) > .xr-var-name span {\n",
       "  background-color: var(--xr-background-color-row-odd);\n",
       "}\n",
       "\n",
       ".xr-var-name {\n",
       "  grid-column: 1;\n",
       "}\n",
       "\n",
       ".xr-var-dims {\n",
       "  grid-column: 2;\n",
       "}\n",
       "\n",
       ".xr-var-dtype {\n",
       "  grid-column: 3;\n",
       "  text-align: right;\n",
       "  color: var(--xr-font-color2);\n",
       "}\n",
       "\n",
       ".xr-var-preview {\n",
       "  grid-column: 4;\n",
       "}\n",
       "\n",
       ".xr-var-name,\n",
       ".xr-var-dims,\n",
       ".xr-var-dtype,\n",
       ".xr-preview,\n",
       ".xr-attrs dt {\n",
       "  white-space: nowrap;\n",
       "  overflow: hidden;\n",
       "  text-overflow: ellipsis;\n",
       "  padding-right: 10px;\n",
       "}\n",
       "\n",
       ".xr-var-name:hover,\n",
       ".xr-var-dims:hover,\n",
       ".xr-var-dtype:hover,\n",
       ".xr-attrs dt:hover {\n",
       "  overflow: visible;\n",
       "  width: auto;\n",
       "  z-index: 1;\n",
       "}\n",
       "\n",
       ".xr-var-attrs,\n",
       ".xr-var-data {\n",
       "  display: none;\n",
       "  background-color: var(--xr-background-color) !important;\n",
       "  padding-bottom: 5px !important;\n",
       "}\n",
       "\n",
       ".xr-var-attrs-in:checked ~ .xr-var-attrs,\n",
       ".xr-var-data-in:checked ~ .xr-var-data {\n",
       "  display: block;\n",
       "}\n",
       "\n",
       ".xr-var-data > table {\n",
       "  float: right;\n",
       "}\n",
       "\n",
       ".xr-var-name span,\n",
       ".xr-var-data,\n",
       ".xr-attrs {\n",
       "  padding-left: 25px !important;\n",
       "}\n",
       "\n",
       ".xr-attrs,\n",
       ".xr-var-attrs,\n",
       ".xr-var-data {\n",
       "  grid-column: 1 / -1;\n",
       "}\n",
       "\n",
       "dl.xr-attrs {\n",
       "  padding: 0;\n",
       "  margin: 0;\n",
       "  display: grid;\n",
       "  grid-template-columns: 125px auto;\n",
       "}\n",
       "\n",
       ".xr-attrs dt,\n",
       ".xr-attrs dd {\n",
       "  padding: 0;\n",
       "  margin: 0;\n",
       "  float: left;\n",
       "  padding-right: 10px;\n",
       "  width: auto;\n",
       "}\n",
       "\n",
       ".xr-attrs dt {\n",
       "  font-weight: normal;\n",
       "  grid-column: 1;\n",
       "}\n",
       "\n",
       ".xr-attrs dt:hover span {\n",
       "  display: inline-block;\n",
       "  background: var(--xr-background-color);\n",
       "  padding-right: 10px;\n",
       "}\n",
       "\n",
       ".xr-attrs dd {\n",
       "  grid-column: 2;\n",
       "  white-space: pre-wrap;\n",
       "  word-break: break-all;\n",
       "}\n",
       "\n",
       ".xr-icon-database,\n",
       ".xr-icon-file-text2 {\n",
       "  display: inline-block;\n",
       "  vertical-align: middle;\n",
       "  width: 1em;\n",
       "  height: 1.5em !important;\n",
       "  stroke-width: 0;\n",
       "  stroke: currentColor;\n",
       "  fill: currentColor;\n",
       "}\n",
       "</style><pre class='xr-text-repr-fallback'>&lt;xarray.Dataset&gt;\n",
       "Dimensions:              (time: 1, lat: 4247, lon: 3797)\n",
       "Coordinates:\n",
       "  * lat                  (lat) float32 -5.965 -5.963 -5.96 ... 5.824 5.826 5.829\n",
       "  * lon                  (lon) float32 32.57 32.57 32.57 ... 43.11 43.11 43.11\n",
       "  * time                 (time) datetime64[ns] 2015-07-03\n",
       "Data variables:\n",
       "    change_count         (time, lat, lon) float32 dask.array&lt;chunksize=(1, 852, 1236), meta=np.ndarray&gt;\n",
       "    current_pixel_state  (time, lat, lon) float32 dask.array&lt;chunksize=(1, 852, 1236), meta=np.ndarray&gt;\n",
       "    lccs_class           (time, lat, lon) float32 dask.array&lt;chunksize=(1, 852, 1236), meta=np.ndarray&gt;\n",
       "    observation_count    (time, lat, lon) float32 dask.array&lt;chunksize=(1, 852, 1236), meta=np.ndarray&gt;\n",
       "    processed_flag       (time, lat, lon) float32 dask.array&lt;chunksize=(1, 852, 1236), meta=np.ndarray&gt;\n",
       "Attributes: (12/38)\n",
       "    Conventions:                CF-1.6\n",
       "    TileSize:                   2048:2048\n",
       "    catalogue_url:              https://catalogue.ceda.ac.uk/uuid/b382ebe6679...\n",
       "    cdm_data_type:              grid\n",
       "    comment:                    \n",
       "    contact:                    landcover-cci@uclouvain.be\n",
       "    ...                         ...\n",
       "    summary:                    This dataset contains the global ESA CCI land...\n",
       "    time_coverage_end:          2015-07-03T00:00:00\n",
       "    time_coverage_start:        2015-07-03T00:00:00\n",
       "    title:                      ESA CCI Land Cover Map\n",
       "    tracking_id:                12590bad-9014-4a91-9048-d06b67965490\n",
       "    type:                       ESACCI-LC-L4-LCCS-Map-300m-P1Y</pre><div class='xr-wrap' hidden><div class='xr-header'><div class='xr-obj-type'>xarray.Dataset</div></div><ul class='xr-sections'><li class='xr-section-item'><input id='section-27ad3af2-1478-45a3-9730-93fddb1f6792' class='xr-section-summary-in' type='checkbox' disabled ><label for='section-27ad3af2-1478-45a3-9730-93fddb1f6792' class='xr-section-summary'  title='Expand/collapse section'>Dimensions:</label><div class='xr-section-inline-details'><ul class='xr-dim-list'><li><span class='xr-has-index'>time</span>: 1</li><li><span class='xr-has-index'>lat</span>: 4247</li><li><span class='xr-has-index'>lon</span>: 3797</li></ul></div><div class='xr-section-details'></div></li><li class='xr-section-item'><input id='section-30fe36a9-973d-4003-8b5b-095c3df84f55' class='xr-section-summary-in' type='checkbox'  checked><label for='section-30fe36a9-973d-4003-8b5b-095c3df84f55' class='xr-section-summary' >Coordinates: <span>(3)</span></label><div class='xr-section-inline-details'></div><div class='xr-section-details'><ul class='xr-var-list'><li class='xr-var-item'><div class='xr-var-name'><span class='xr-has-index'>lat</span></div><div class='xr-var-dims'>(lat)</div><div class='xr-var-dtype'>float32</div><div class='xr-var-preview xr-preview'>-5.965 -5.963 -5.96 ... 5.826 5.829</div><input id='attrs-636ac1bb-d259-4ffc-ab65-5ca569a127db' class='xr-var-attrs-in' type='checkbox' ><label for='attrs-636ac1bb-d259-4ffc-ab65-5ca569a127db' title='Show/Hide attributes'><svg class='icon xr-icon-file-text2'><use xlink:href='#icon-file-text2'></use></svg></label><input id='data-dfdd6045-b2fd-4a07-8e0e-ede6fca02bf9' class='xr-var-data-in' type='checkbox'><label for='data-dfdd6045-b2fd-4a07-8e0e-ede6fca02bf9' title='Show/Hide data repr'><svg class='icon xr-icon-database'><use xlink:href='#icon-database'></use></svg></label><div class='xr-var-attrs'><dl class='xr-attrs'><dt><span>long_name :</span></dt><dd>latitude</dd><dt><span>standard_name :</span></dt><dd>latitude</dd><dt><span>units :</span></dt><dd>degrees_north</dd><dt><span>valid_max :</span></dt><dd>89.99861145019531</dd><dt><span>valid_min :</span></dt><dd>-89.99861145019531</dd></dl></div><div class='xr-var-data'><pre>array([-5.965278, -5.9625  , -5.959722, ...,  5.823611,  5.826389,  5.829167],\n",
       "      dtype=float32)</pre></div></li><li class='xr-var-item'><div class='xr-var-name'><span class='xr-has-index'>lon</span></div><div class='xr-var-dims'>(lon)</div><div class='xr-var-dtype'>float32</div><div class='xr-var-preview xr-preview'>32.57 32.57 32.57 ... 43.11 43.11</div><input id='attrs-2375798f-c63e-4214-80c7-25fdedaf0aec' class='xr-var-attrs-in' type='checkbox' ><label for='attrs-2375798f-c63e-4214-80c7-25fdedaf0aec' title='Show/Hide attributes'><svg class='icon xr-icon-file-text2'><use xlink:href='#icon-file-text2'></use></svg></label><input id='data-f5878720-daa1-4eac-88d3-e39edd6e9768' class='xr-var-data-in' type='checkbox'><label for='data-f5878720-daa1-4eac-88d3-e39edd6e9768' title='Show/Hide data repr'><svg class='icon xr-icon-database'><use xlink:href='#icon-database'></use></svg></label><div class='xr-var-attrs'><dl class='xr-attrs'><dt><span>long_name :</span></dt><dd>longitude</dd><dt><span>standard_name :</span></dt><dd>longitude</dd><dt><span>units :</span></dt><dd>degrees_east</dd><dt><span>valid_max :</span></dt><dd>179.9986114501953</dd><dt><span>valid_min :</span></dt><dd>-179.9986114501953</dd></dl></div><div class='xr-var-data'><pre>array([32.568054, 32.570835, 32.573612, ..., 43.106945, 43.109722, 43.1125  ],\n",
       "      dtype=float32)</pre></div></li><li class='xr-var-item'><div class='xr-var-name'><span class='xr-has-index'>time</span></div><div class='xr-var-dims'>(time)</div><div class='xr-var-dtype'>datetime64[ns]</div><div class='xr-var-preview xr-preview'>2015-07-03</div><input id='attrs-e2fde15e-6de1-48a3-b603-a9a7d7d0f461' class='xr-var-attrs-in' type='checkbox' disabled><label for='attrs-e2fde15e-6de1-48a3-b603-a9a7d7d0f461' title='Show/Hide attributes'><svg class='icon xr-icon-file-text2'><use xlink:href='#icon-file-text2'></use></svg></label><input id='data-f518c54a-8592-46b3-9a96-0212beb10580' class='xr-var-data-in' type='checkbox'><label for='data-f518c54a-8592-46b3-9a96-0212beb10580' title='Show/Hide data repr'><svg class='icon xr-icon-database'><use xlink:href='#icon-database'></use></svg></label><div class='xr-var-attrs'><dl class='xr-attrs'></dl></div><div class='xr-var-data'><pre>array([&#x27;2015-07-03T00:00:00.000000000&#x27;], dtype=&#x27;datetime64[ns]&#x27;)</pre></div></li></ul></div></li><li class='xr-section-item'><input id='section-b3b5dade-6019-4300-9f51-6b9612b6ed4f' class='xr-section-summary-in' type='checkbox'  checked><label for='section-b3b5dade-6019-4300-9f51-6b9612b6ed4f' class='xr-section-summary' >Data variables: <span>(5)</span></label><div class='xr-section-inline-details'></div><div class='xr-section-details'><ul class='xr-var-list'><li class='xr-var-item'><div class='xr-var-name'><span>change_count</span></div><div class='xr-var-dims'>(time, lat, lon)</div><div class='xr-var-dtype'>float32</div><div class='xr-var-preview xr-preview'>dask.array&lt;chunksize=(1, 852, 1236), meta=np.ndarray&gt;</div><input id='attrs-299c7a28-5b24-4f41-b9a9-3f4e514af4a9' class='xr-var-attrs-in' type='checkbox' ><label for='attrs-299c7a28-5b24-4f41-b9a9-3f4e514af4a9' title='Show/Hide attributes'><svg class='icon xr-icon-file-text2'><use xlink:href='#icon-file-text2'></use></svg></label><input id='data-e7cd5f31-3005-4dd7-81e8-05f2ce6ce761' class='xr-var-data-in' type='checkbox'><label for='data-e7cd5f31-3005-4dd7-81e8-05f2ce6ce761' title='Show/Hide data repr'><svg class='icon xr-icon-database'><use xlink:href='#icon-database'></use></svg></label><div class='xr-var-attrs'><dl class='xr-attrs'><dt><span>long_name :</span></dt><dd>number of class changes</dd><dt><span>valid_max :</span></dt><dd>100</dd><dt><span>valid_min :</span></dt><dd>0</dd></dl></div><div class='xr-var-data'><table>\n",
       "    <tr>\n",
       "        <td>\n",
       "            <table>\n",
       "                <thead>\n",
       "                    <tr>\n",
       "                        <td> </td>\n",
       "                        <th> Array </th>\n",
       "                        <th> Chunk </th>\n",
       "                    </tr>\n",
       "                </thead>\n",
       "                <tbody>\n",
       "                    \n",
       "                    <tr>\n",
       "                        <th> Bytes </th>\n",
       "                        <td> 61.52 MiB </td>\n",
       "                        <td> 12.81 MiB </td>\n",
       "                    </tr>\n",
       "                    \n",
       "                    <tr>\n",
       "                        <th> Shape </th>\n",
       "                        <td> (1, 4247, 3797) </td>\n",
       "                        <td> (1, 2592, 1296) </td>\n",
       "                    </tr>\n",
       "                    <tr>\n",
       "                        <th> Count </th>\n",
       "                        <td> 60235 Tasks </td>\n",
       "                        <td> 9 Chunks </td>\n",
       "                    </tr>\n",
       "                    <tr>\n",
       "                    <th> Type </th>\n",
       "                    <td> float32 </td>\n",
       "                    <td> numpy.ndarray </td>\n",
       "                    </tr>\n",
       "                </tbody>\n",
       "            </table>\n",
       "        </td>\n",
       "        <td>\n",
       "        <svg width=\"182\" height=\"184\" style=\"stroke:rgb(0,0,0);stroke-width:1\" >\n",
       "\n",
       "  <!-- Horizontal lines -->\n",
       "  <line x1=\"10\" y1=\"0\" x2=\"24\" y2=\"14\" style=\"stroke-width:2\" />\n",
       "  <line x1=\"10\" y1=\"24\" x2=\"24\" y2=\"39\" />\n",
       "  <line x1=\"10\" y1=\"97\" x2=\"24\" y2=\"112\" />\n",
       "  <line x1=\"10\" y1=\"120\" x2=\"24\" y2=\"134\" style=\"stroke-width:2\" />\n",
       "\n",
       "  <!-- Vertical lines -->\n",
       "  <line x1=\"10\" y1=\"0\" x2=\"10\" y2=\"120\" style=\"stroke-width:2\" />\n",
       "  <line x1=\"24\" y1=\"14\" x2=\"24\" y2=\"134\" style=\"stroke-width:2\" />\n",
       "\n",
       "  <!-- Colored Rectangle -->\n",
       "  <polygon points=\"10.0,0.0 24.9485979497544,14.948597949754403 24.9485979497544,134.9485979497544 10.0,120.0\" style=\"fill:#ECB172A0;stroke-width:0\"/>\n",
       "\n",
       "  <!-- Horizontal lines -->\n",
       "  <line x1=\"10\" y1=\"0\" x2=\"117\" y2=\"0\" style=\"stroke-width:2\" />\n",
       "  <line x1=\"24\" y1=\"14\" x2=\"132\" y2=\"14\" style=\"stroke-width:2\" />\n",
       "\n",
       "  <!-- Vertical lines -->\n",
       "  <line x1=\"10\" y1=\"0\" x2=\"24\" y2=\"14\" style=\"stroke-width:2\" />\n",
       "  <line x1=\"44\" y1=\"0\" x2=\"59\" y2=\"14\" />\n",
       "  <line x1=\"81\" y1=\"0\" x2=\"96\" y2=\"14\" />\n",
       "  <line x1=\"117\" y1=\"0\" x2=\"132\" y2=\"14\" style=\"stroke-width:2\" />\n",
       "\n",
       "  <!-- Colored Rectangle -->\n",
       "  <polygon points=\"10.0,0.0 117.28514245349658,0.0 132.23374040325098,14.948597949754403 24.9485979497544,14.948597949754403\" style=\"fill:#ECB172A0;stroke-width:0\"/>\n",
       "\n",
       "  <!-- Horizontal lines -->\n",
       "  <line x1=\"24\" y1=\"14\" x2=\"132\" y2=\"14\" style=\"stroke-width:2\" />\n",
       "  <line x1=\"24\" y1=\"39\" x2=\"132\" y2=\"39\" />\n",
       "  <line x1=\"24\" y1=\"112\" x2=\"132\" y2=\"112\" />\n",
       "  <line x1=\"24\" y1=\"134\" x2=\"132\" y2=\"134\" style=\"stroke-width:2\" />\n",
       "\n",
       "  <!-- Vertical lines -->\n",
       "  <line x1=\"24\" y1=\"14\" x2=\"24\" y2=\"134\" style=\"stroke-width:2\" />\n",
       "  <line x1=\"59\" y1=\"14\" x2=\"59\" y2=\"134\" />\n",
       "  <line x1=\"96\" y1=\"14\" x2=\"96\" y2=\"134\" />\n",
       "  <line x1=\"132\" y1=\"14\" x2=\"132\" y2=\"134\" style=\"stroke-width:2\" />\n",
       "\n",
       "  <!-- Colored Rectangle -->\n",
       "  <polygon points=\"24.9485979497544,14.948597949754403 132.23374040325098,14.948597949754403 132.23374040325098,134.9485979497544 24.9485979497544,134.9485979497544\" style=\"fill:#ECB172A0;stroke-width:0\"/>\n",
       "\n",
       "  <!-- Text -->\n",
       "  <text x=\"78.591169\" y=\"154.948598\" font-size=\"1.0rem\" font-weight=\"100\" text-anchor=\"middle\" >3797</text>\n",
       "  <text x=\"152.233740\" y=\"74.948598\" font-size=\"1.0rem\" font-weight=\"100\" text-anchor=\"middle\" transform=\"rotate(-90,152.233740,74.948598)\">4247</text>\n",
       "  <text x=\"7.474299\" y=\"147.474299\" font-size=\"1.0rem\" font-weight=\"100\" text-anchor=\"middle\" transform=\"rotate(45,7.474299,147.474299)\">1</text>\n",
       "</svg>\n",
       "        </td>\n",
       "    </tr>\n",
       "</table></div></li><li class='xr-var-item'><div class='xr-var-name'><span>current_pixel_state</span></div><div class='xr-var-dims'>(time, lat, lon)</div><div class='xr-var-dtype'>float32</div><div class='xr-var-preview xr-preview'>dask.array&lt;chunksize=(1, 852, 1236), meta=np.ndarray&gt;</div><input id='attrs-3a3a4a3c-7ab8-4a4c-93ea-d4fcacf155b7' class='xr-var-attrs-in' type='checkbox' ><label for='attrs-3a3a4a3c-7ab8-4a4c-93ea-d4fcacf155b7' title='Show/Hide attributes'><svg class='icon xr-icon-file-text2'><use xlink:href='#icon-file-text2'></use></svg></label><input id='data-7a2294c5-638b-4554-9703-d5083f9401d6' class='xr-var-data-in' type='checkbox'><label for='data-7a2294c5-638b-4554-9703-d5083f9401d6' title='Show/Hide data repr'><svg class='icon xr-icon-database'><use xlink:href='#icon-database'></use></svg></label><div class='xr-var-attrs'><dl class='xr-attrs'><dt><span>flag_meanings :</span></dt><dd>invalid clear_land clear_water clear_snow_ice cloud cloud_shadow</dd><dt><span>flag_values :</span></dt><dd>[0, 1, 2, 3, 4, 5]</dd><dt><span>long_name :</span></dt><dd>LC pixel type mask</dd><dt><span>standard_name :</span></dt><dd>land_cover_lccs status_flag</dd><dt><span>valid_max :</span></dt><dd>5</dd><dt><span>valid_min :</span></dt><dd>0</dd></dl></div><div class='xr-var-data'><table>\n",
       "    <tr>\n",
       "        <td>\n",
       "            <table>\n",
       "                <thead>\n",
       "                    <tr>\n",
       "                        <td> </td>\n",
       "                        <th> Array </th>\n",
       "                        <th> Chunk </th>\n",
       "                    </tr>\n",
       "                </thead>\n",
       "                <tbody>\n",
       "                    \n",
       "                    <tr>\n",
       "                        <th> Bytes </th>\n",
       "                        <td> 61.52 MiB </td>\n",
       "                        <td> 12.81 MiB </td>\n",
       "                    </tr>\n",
       "                    \n",
       "                    <tr>\n",
       "                        <th> Shape </th>\n",
       "                        <td> (1, 4247, 3797) </td>\n",
       "                        <td> (1, 2592, 1296) </td>\n",
       "                    </tr>\n",
       "                    <tr>\n",
       "                        <th> Count </th>\n",
       "                        <td> 60235 Tasks </td>\n",
       "                        <td> 9 Chunks </td>\n",
       "                    </tr>\n",
       "                    <tr>\n",
       "                    <th> Type </th>\n",
       "                    <td> float32 </td>\n",
       "                    <td> numpy.ndarray </td>\n",
       "                    </tr>\n",
       "                </tbody>\n",
       "            </table>\n",
       "        </td>\n",
       "        <td>\n",
       "        <svg width=\"182\" height=\"184\" style=\"stroke:rgb(0,0,0);stroke-width:1\" >\n",
       "\n",
       "  <!-- Horizontal lines -->\n",
       "  <line x1=\"10\" y1=\"0\" x2=\"24\" y2=\"14\" style=\"stroke-width:2\" />\n",
       "  <line x1=\"10\" y1=\"24\" x2=\"24\" y2=\"39\" />\n",
       "  <line x1=\"10\" y1=\"97\" x2=\"24\" y2=\"112\" />\n",
       "  <line x1=\"10\" y1=\"120\" x2=\"24\" y2=\"134\" style=\"stroke-width:2\" />\n",
       "\n",
       "  <!-- Vertical lines -->\n",
       "  <line x1=\"10\" y1=\"0\" x2=\"10\" y2=\"120\" style=\"stroke-width:2\" />\n",
       "  <line x1=\"24\" y1=\"14\" x2=\"24\" y2=\"134\" style=\"stroke-width:2\" />\n",
       "\n",
       "  <!-- Colored Rectangle -->\n",
       "  <polygon points=\"10.0,0.0 24.9485979497544,14.948597949754403 24.9485979497544,134.9485979497544 10.0,120.0\" style=\"fill:#ECB172A0;stroke-width:0\"/>\n",
       "\n",
       "  <!-- Horizontal lines -->\n",
       "  <line x1=\"10\" y1=\"0\" x2=\"117\" y2=\"0\" style=\"stroke-width:2\" />\n",
       "  <line x1=\"24\" y1=\"14\" x2=\"132\" y2=\"14\" style=\"stroke-width:2\" />\n",
       "\n",
       "  <!-- Vertical lines -->\n",
       "  <line x1=\"10\" y1=\"0\" x2=\"24\" y2=\"14\" style=\"stroke-width:2\" />\n",
       "  <line x1=\"44\" y1=\"0\" x2=\"59\" y2=\"14\" />\n",
       "  <line x1=\"81\" y1=\"0\" x2=\"96\" y2=\"14\" />\n",
       "  <line x1=\"117\" y1=\"0\" x2=\"132\" y2=\"14\" style=\"stroke-width:2\" />\n",
       "\n",
       "  <!-- Colored Rectangle -->\n",
       "  <polygon points=\"10.0,0.0 117.28514245349658,0.0 132.23374040325098,14.948597949754403 24.9485979497544,14.948597949754403\" style=\"fill:#ECB172A0;stroke-width:0\"/>\n",
       "\n",
       "  <!-- Horizontal lines -->\n",
       "  <line x1=\"24\" y1=\"14\" x2=\"132\" y2=\"14\" style=\"stroke-width:2\" />\n",
       "  <line x1=\"24\" y1=\"39\" x2=\"132\" y2=\"39\" />\n",
       "  <line x1=\"24\" y1=\"112\" x2=\"132\" y2=\"112\" />\n",
       "  <line x1=\"24\" y1=\"134\" x2=\"132\" y2=\"134\" style=\"stroke-width:2\" />\n",
       "\n",
       "  <!-- Vertical lines -->\n",
       "  <line x1=\"24\" y1=\"14\" x2=\"24\" y2=\"134\" style=\"stroke-width:2\" />\n",
       "  <line x1=\"59\" y1=\"14\" x2=\"59\" y2=\"134\" />\n",
       "  <line x1=\"96\" y1=\"14\" x2=\"96\" y2=\"134\" />\n",
       "  <line x1=\"132\" y1=\"14\" x2=\"132\" y2=\"134\" style=\"stroke-width:2\" />\n",
       "\n",
       "  <!-- Colored Rectangle -->\n",
       "  <polygon points=\"24.9485979497544,14.948597949754403 132.23374040325098,14.948597949754403 132.23374040325098,134.9485979497544 24.9485979497544,134.9485979497544\" style=\"fill:#ECB172A0;stroke-width:0\"/>\n",
       "\n",
       "  <!-- Text -->\n",
       "  <text x=\"78.591169\" y=\"154.948598\" font-size=\"1.0rem\" font-weight=\"100\" text-anchor=\"middle\" >3797</text>\n",
       "  <text x=\"152.233740\" y=\"74.948598\" font-size=\"1.0rem\" font-weight=\"100\" text-anchor=\"middle\" transform=\"rotate(-90,152.233740,74.948598)\">4247</text>\n",
       "  <text x=\"7.474299\" y=\"147.474299\" font-size=\"1.0rem\" font-weight=\"100\" text-anchor=\"middle\" transform=\"rotate(45,7.474299,147.474299)\">1</text>\n",
       "</svg>\n",
       "        </td>\n",
       "    </tr>\n",
       "</table></div></li><li class='xr-var-item'><div class='xr-var-name'><span>lccs_class</span></div><div class='xr-var-dims'>(time, lat, lon)</div><div class='xr-var-dtype'>float32</div><div class='xr-var-preview xr-preview'>dask.array&lt;chunksize=(1, 852, 1236), meta=np.ndarray&gt;</div><input id='attrs-42f5c7fb-28ff-4f04-8a07-2e0d87a90a95' class='xr-var-attrs-in' type='checkbox' ><label for='attrs-42f5c7fb-28ff-4f04-8a07-2e0d87a90a95' title='Show/Hide attributes'><svg class='icon xr-icon-file-text2'><use xlink:href='#icon-file-text2'></use></svg></label><input id='data-1dfd9ec9-473b-4cb1-8a45-3313173897c0' class='xr-var-data-in' type='checkbox'><label for='data-1dfd9ec9-473b-4cb1-8a45-3313173897c0' title='Show/Hide data repr'><svg class='icon xr-icon-database'><use xlink:href='#icon-database'></use></svg></label><div class='xr-var-attrs'><dl class='xr-attrs'><dt><span>ancillary_variables :</span></dt><dd>processed_flag current_pixel_state observation_count change_count</dd><dt><span>flag_meanings :</span></dt><dd>no_data cropland_rainfed cropland_rainfed_herbaceous_cover cropland_rainfed_tree_or_shrub_cover cropland_irrigated mosaic_cropland mosaic_natural_vegetation tree_broadleaved_evergreen_closed_to_open tree_broadleaved_deciduous_closed_to_open tree_broadleaved_deciduous_closed tree_broadleaved_deciduous_open tree_needleleaved_evergreen_closed_to_open tree_needleleaved_evergreen_closed tree_needleleaved_evergreen_open tree_needleleaved_deciduous_closed_to_open tree_needleleaved_deciduous_closed tree_needleleaved_deciduous_open tree_mixed mosaic_tree_and_shrub mosaic_herbaceous shrubland shrubland_evergreen shrubland_deciduous grassland lichens_and_mosses sparse_vegetation sparse_tree sparse_shrub sparse_herbaceous tree_cover_flooded_fresh_or_brakish_water tree_cover_flooded_saline_water shrub_or_herbaceous_cover_flooded urban bare_areas bare_areas_consolidated bare_areas_unconsolidated water snow_and_ice</dd><dt><span>flag_values :</span></dt><dd>[0, 10, 11, 12, 20, 30, 40, 50, 60, 61, 62, 70, 71, 72, 80, 81, 82, 90, 100, 110, 120, 121, 122, -126, -116, -106, -105, -104, -103, -96, -86, -76, -66, -56, -55, -54, -46, -36]</dd><dt><span>long_name :</span></dt><dd>Land cover class defined in LCCS</dd><dt><span>standard_name :</span></dt><dd>land_cover_lccs</dd><dt><span>valid_max :</span></dt><dd>220</dd><dt><span>valid_min :</span></dt><dd>1</dd></dl></div><div class='xr-var-data'><table>\n",
       "    <tr>\n",
       "        <td>\n",
       "            <table>\n",
       "                <thead>\n",
       "                    <tr>\n",
       "                        <td> </td>\n",
       "                        <th> Array </th>\n",
       "                        <th> Chunk </th>\n",
       "                    </tr>\n",
       "                </thead>\n",
       "                <tbody>\n",
       "                    \n",
       "                    <tr>\n",
       "                        <th> Bytes </th>\n",
       "                        <td> 61.52 MiB </td>\n",
       "                        <td> 12.81 MiB </td>\n",
       "                    </tr>\n",
       "                    \n",
       "                    <tr>\n",
       "                        <th> Shape </th>\n",
       "                        <td> (1, 4247, 3797) </td>\n",
       "                        <td> (1, 2592, 1296) </td>\n",
       "                    </tr>\n",
       "                    <tr>\n",
       "                        <th> Count </th>\n",
       "                        <td> 60235 Tasks </td>\n",
       "                        <td> 9 Chunks </td>\n",
       "                    </tr>\n",
       "                    <tr>\n",
       "                    <th> Type </th>\n",
       "                    <td> float32 </td>\n",
       "                    <td> numpy.ndarray </td>\n",
       "                    </tr>\n",
       "                </tbody>\n",
       "            </table>\n",
       "        </td>\n",
       "        <td>\n",
       "        <svg width=\"182\" height=\"184\" style=\"stroke:rgb(0,0,0);stroke-width:1\" >\n",
       "\n",
       "  <!-- Horizontal lines -->\n",
       "  <line x1=\"10\" y1=\"0\" x2=\"24\" y2=\"14\" style=\"stroke-width:2\" />\n",
       "  <line x1=\"10\" y1=\"24\" x2=\"24\" y2=\"39\" />\n",
       "  <line x1=\"10\" y1=\"97\" x2=\"24\" y2=\"112\" />\n",
       "  <line x1=\"10\" y1=\"120\" x2=\"24\" y2=\"134\" style=\"stroke-width:2\" />\n",
       "\n",
       "  <!-- Vertical lines -->\n",
       "  <line x1=\"10\" y1=\"0\" x2=\"10\" y2=\"120\" style=\"stroke-width:2\" />\n",
       "  <line x1=\"24\" y1=\"14\" x2=\"24\" y2=\"134\" style=\"stroke-width:2\" />\n",
       "\n",
       "  <!-- Colored Rectangle -->\n",
       "  <polygon points=\"10.0,0.0 24.9485979497544,14.948597949754403 24.9485979497544,134.9485979497544 10.0,120.0\" style=\"fill:#ECB172A0;stroke-width:0\"/>\n",
       "\n",
       "  <!-- Horizontal lines -->\n",
       "  <line x1=\"10\" y1=\"0\" x2=\"117\" y2=\"0\" style=\"stroke-width:2\" />\n",
       "  <line x1=\"24\" y1=\"14\" x2=\"132\" y2=\"14\" style=\"stroke-width:2\" />\n",
       "\n",
       "  <!-- Vertical lines -->\n",
       "  <line x1=\"10\" y1=\"0\" x2=\"24\" y2=\"14\" style=\"stroke-width:2\" />\n",
       "  <line x1=\"44\" y1=\"0\" x2=\"59\" y2=\"14\" />\n",
       "  <line x1=\"81\" y1=\"0\" x2=\"96\" y2=\"14\" />\n",
       "  <line x1=\"117\" y1=\"0\" x2=\"132\" y2=\"14\" style=\"stroke-width:2\" />\n",
       "\n",
       "  <!-- Colored Rectangle -->\n",
       "  <polygon points=\"10.0,0.0 117.28514245349658,0.0 132.23374040325098,14.948597949754403 24.9485979497544,14.948597949754403\" style=\"fill:#ECB172A0;stroke-width:0\"/>\n",
       "\n",
       "  <!-- Horizontal lines -->\n",
       "  <line x1=\"24\" y1=\"14\" x2=\"132\" y2=\"14\" style=\"stroke-width:2\" />\n",
       "  <line x1=\"24\" y1=\"39\" x2=\"132\" y2=\"39\" />\n",
       "  <line x1=\"24\" y1=\"112\" x2=\"132\" y2=\"112\" />\n",
       "  <line x1=\"24\" y1=\"134\" x2=\"132\" y2=\"134\" style=\"stroke-width:2\" />\n",
       "\n",
       "  <!-- Vertical lines -->\n",
       "  <line x1=\"24\" y1=\"14\" x2=\"24\" y2=\"134\" style=\"stroke-width:2\" />\n",
       "  <line x1=\"59\" y1=\"14\" x2=\"59\" y2=\"134\" />\n",
       "  <line x1=\"96\" y1=\"14\" x2=\"96\" y2=\"134\" />\n",
       "  <line x1=\"132\" y1=\"14\" x2=\"132\" y2=\"134\" style=\"stroke-width:2\" />\n",
       "\n",
       "  <!-- Colored Rectangle -->\n",
       "  <polygon points=\"24.9485979497544,14.948597949754403 132.23374040325098,14.948597949754403 132.23374040325098,134.9485979497544 24.9485979497544,134.9485979497544\" style=\"fill:#ECB172A0;stroke-width:0\"/>\n",
       "\n",
       "  <!-- Text -->\n",
       "  <text x=\"78.591169\" y=\"154.948598\" font-size=\"1.0rem\" font-weight=\"100\" text-anchor=\"middle\" >3797</text>\n",
       "  <text x=\"152.233740\" y=\"74.948598\" font-size=\"1.0rem\" font-weight=\"100\" text-anchor=\"middle\" transform=\"rotate(-90,152.233740,74.948598)\">4247</text>\n",
       "  <text x=\"7.474299\" y=\"147.474299\" font-size=\"1.0rem\" font-weight=\"100\" text-anchor=\"middle\" transform=\"rotate(45,7.474299,147.474299)\">1</text>\n",
       "</svg>\n",
       "        </td>\n",
       "    </tr>\n",
       "</table></div></li><li class='xr-var-item'><div class='xr-var-name'><span>observation_count</span></div><div class='xr-var-dims'>(time, lat, lon)</div><div class='xr-var-dtype'>float32</div><div class='xr-var-preview xr-preview'>dask.array&lt;chunksize=(1, 852, 1236), meta=np.ndarray&gt;</div><input id='attrs-7d6666bf-d5c7-4b46-957f-26aab66b7c5d' class='xr-var-attrs-in' type='checkbox' ><label for='attrs-7d6666bf-d5c7-4b46-957f-26aab66b7c5d' title='Show/Hide attributes'><svg class='icon xr-icon-file-text2'><use xlink:href='#icon-file-text2'></use></svg></label><input id='data-bb1c89c1-4512-4d68-9dea-a54c0750a6be' class='xr-var-data-in' type='checkbox'><label for='data-bb1c89c1-4512-4d68-9dea-a54c0750a6be' title='Show/Hide data repr'><svg class='icon xr-icon-database'><use xlink:href='#icon-database'></use></svg></label><div class='xr-var-attrs'><dl class='xr-attrs'><dt><span>long_name :</span></dt><dd>number of valid observations</dd><dt><span>standard_name :</span></dt><dd>land_cover_lccs number_of_observations</dd><dt><span>valid_max :</span></dt><dd>32767</dd><dt><span>valid_min :</span></dt><dd>0</dd></dl></div><div class='xr-var-data'><table>\n",
       "    <tr>\n",
       "        <td>\n",
       "            <table>\n",
       "                <thead>\n",
       "                    <tr>\n",
       "                        <td> </td>\n",
       "                        <th> Array </th>\n",
       "                        <th> Chunk </th>\n",
       "                    </tr>\n",
       "                </thead>\n",
       "                <tbody>\n",
       "                    \n",
       "                    <tr>\n",
       "                        <th> Bytes </th>\n",
       "                        <td> 61.52 MiB </td>\n",
       "                        <td> 12.81 MiB </td>\n",
       "                    </tr>\n",
       "                    \n",
       "                    <tr>\n",
       "                        <th> Shape </th>\n",
       "                        <td> (1, 4247, 3797) </td>\n",
       "                        <td> (1, 2592, 1296) </td>\n",
       "                    </tr>\n",
       "                    <tr>\n",
       "                        <th> Count </th>\n",
       "                        <td> 60235 Tasks </td>\n",
       "                        <td> 9 Chunks </td>\n",
       "                    </tr>\n",
       "                    <tr>\n",
       "                    <th> Type </th>\n",
       "                    <td> float32 </td>\n",
       "                    <td> numpy.ndarray </td>\n",
       "                    </tr>\n",
       "                </tbody>\n",
       "            </table>\n",
       "        </td>\n",
       "        <td>\n",
       "        <svg width=\"182\" height=\"184\" style=\"stroke:rgb(0,0,0);stroke-width:1\" >\n",
       "\n",
       "  <!-- Horizontal lines -->\n",
       "  <line x1=\"10\" y1=\"0\" x2=\"24\" y2=\"14\" style=\"stroke-width:2\" />\n",
       "  <line x1=\"10\" y1=\"24\" x2=\"24\" y2=\"39\" />\n",
       "  <line x1=\"10\" y1=\"97\" x2=\"24\" y2=\"112\" />\n",
       "  <line x1=\"10\" y1=\"120\" x2=\"24\" y2=\"134\" style=\"stroke-width:2\" />\n",
       "\n",
       "  <!-- Vertical lines -->\n",
       "  <line x1=\"10\" y1=\"0\" x2=\"10\" y2=\"120\" style=\"stroke-width:2\" />\n",
       "  <line x1=\"24\" y1=\"14\" x2=\"24\" y2=\"134\" style=\"stroke-width:2\" />\n",
       "\n",
       "  <!-- Colored Rectangle -->\n",
       "  <polygon points=\"10.0,0.0 24.9485979497544,14.948597949754403 24.9485979497544,134.9485979497544 10.0,120.0\" style=\"fill:#ECB172A0;stroke-width:0\"/>\n",
       "\n",
       "  <!-- Horizontal lines -->\n",
       "  <line x1=\"10\" y1=\"0\" x2=\"117\" y2=\"0\" style=\"stroke-width:2\" />\n",
       "  <line x1=\"24\" y1=\"14\" x2=\"132\" y2=\"14\" style=\"stroke-width:2\" />\n",
       "\n",
       "  <!-- Vertical lines -->\n",
       "  <line x1=\"10\" y1=\"0\" x2=\"24\" y2=\"14\" style=\"stroke-width:2\" />\n",
       "  <line x1=\"44\" y1=\"0\" x2=\"59\" y2=\"14\" />\n",
       "  <line x1=\"81\" y1=\"0\" x2=\"96\" y2=\"14\" />\n",
       "  <line x1=\"117\" y1=\"0\" x2=\"132\" y2=\"14\" style=\"stroke-width:2\" />\n",
       "\n",
       "  <!-- Colored Rectangle -->\n",
       "  <polygon points=\"10.0,0.0 117.28514245349658,0.0 132.23374040325098,14.948597949754403 24.9485979497544,14.948597949754403\" style=\"fill:#ECB172A0;stroke-width:0\"/>\n",
       "\n",
       "  <!-- Horizontal lines -->\n",
       "  <line x1=\"24\" y1=\"14\" x2=\"132\" y2=\"14\" style=\"stroke-width:2\" />\n",
       "  <line x1=\"24\" y1=\"39\" x2=\"132\" y2=\"39\" />\n",
       "  <line x1=\"24\" y1=\"112\" x2=\"132\" y2=\"112\" />\n",
       "  <line x1=\"24\" y1=\"134\" x2=\"132\" y2=\"134\" style=\"stroke-width:2\" />\n",
       "\n",
       "  <!-- Vertical lines -->\n",
       "  <line x1=\"24\" y1=\"14\" x2=\"24\" y2=\"134\" style=\"stroke-width:2\" />\n",
       "  <line x1=\"59\" y1=\"14\" x2=\"59\" y2=\"134\" />\n",
       "  <line x1=\"96\" y1=\"14\" x2=\"96\" y2=\"134\" />\n",
       "  <line x1=\"132\" y1=\"14\" x2=\"132\" y2=\"134\" style=\"stroke-width:2\" />\n",
       "\n",
       "  <!-- Colored Rectangle -->\n",
       "  <polygon points=\"24.9485979497544,14.948597949754403 132.23374040325098,14.948597949754403 132.23374040325098,134.9485979497544 24.9485979497544,134.9485979497544\" style=\"fill:#ECB172A0;stroke-width:0\"/>\n",
       "\n",
       "  <!-- Text -->\n",
       "  <text x=\"78.591169\" y=\"154.948598\" font-size=\"1.0rem\" font-weight=\"100\" text-anchor=\"middle\" >3797</text>\n",
       "  <text x=\"152.233740\" y=\"74.948598\" font-size=\"1.0rem\" font-weight=\"100\" text-anchor=\"middle\" transform=\"rotate(-90,152.233740,74.948598)\">4247</text>\n",
       "  <text x=\"7.474299\" y=\"147.474299\" font-size=\"1.0rem\" font-weight=\"100\" text-anchor=\"middle\" transform=\"rotate(45,7.474299,147.474299)\">1</text>\n",
       "</svg>\n",
       "        </td>\n",
       "    </tr>\n",
       "</table></div></li><li class='xr-var-item'><div class='xr-var-name'><span>processed_flag</span></div><div class='xr-var-dims'>(time, lat, lon)</div><div class='xr-var-dtype'>float32</div><div class='xr-var-preview xr-preview'>dask.array&lt;chunksize=(1, 852, 1236), meta=np.ndarray&gt;</div><input id='attrs-4c2539d4-103a-4f98-95f9-b622b8891956' class='xr-var-attrs-in' type='checkbox' ><label for='attrs-4c2539d4-103a-4f98-95f9-b622b8891956' title='Show/Hide attributes'><svg class='icon xr-icon-file-text2'><use xlink:href='#icon-file-text2'></use></svg></label><input id='data-3cad5254-c882-4344-9aed-33c9dccfe2ef' class='xr-var-data-in' type='checkbox'><label for='data-3cad5254-c882-4344-9aed-33c9dccfe2ef' title='Show/Hide data repr'><svg class='icon xr-icon-database'><use xlink:href='#icon-database'></use></svg></label><div class='xr-var-attrs'><dl class='xr-attrs'><dt><span>flag_meanings :</span></dt><dd>not_processed processed</dd><dt><span>flag_values :</span></dt><dd>[0, 1]</dd><dt><span>long_name :</span></dt><dd>LC map processed area flag</dd><dt><span>standard_name :</span></dt><dd>land_cover_lccs status_flag</dd><dt><span>valid_max :</span></dt><dd>1</dd><dt><span>valid_min :</span></dt><dd>0</dd></dl></div><div class='xr-var-data'><table>\n",
       "    <tr>\n",
       "        <td>\n",
       "            <table>\n",
       "                <thead>\n",
       "                    <tr>\n",
       "                        <td> </td>\n",
       "                        <th> Array </th>\n",
       "                        <th> Chunk </th>\n",
       "                    </tr>\n",
       "                </thead>\n",
       "                <tbody>\n",
       "                    \n",
       "                    <tr>\n",
       "                        <th> Bytes </th>\n",
       "                        <td> 61.52 MiB </td>\n",
       "                        <td> 12.81 MiB </td>\n",
       "                    </tr>\n",
       "                    \n",
       "                    <tr>\n",
       "                        <th> Shape </th>\n",
       "                        <td> (1, 4247, 3797) </td>\n",
       "                        <td> (1, 2592, 1296) </td>\n",
       "                    </tr>\n",
       "                    <tr>\n",
       "                        <th> Count </th>\n",
       "                        <td> 60235 Tasks </td>\n",
       "                        <td> 9 Chunks </td>\n",
       "                    </tr>\n",
       "                    <tr>\n",
       "                    <th> Type </th>\n",
       "                    <td> float32 </td>\n",
       "                    <td> numpy.ndarray </td>\n",
       "                    </tr>\n",
       "                </tbody>\n",
       "            </table>\n",
       "        </td>\n",
       "        <td>\n",
       "        <svg width=\"182\" height=\"184\" style=\"stroke:rgb(0,0,0);stroke-width:1\" >\n",
       "\n",
       "  <!-- Horizontal lines -->\n",
       "  <line x1=\"10\" y1=\"0\" x2=\"24\" y2=\"14\" style=\"stroke-width:2\" />\n",
       "  <line x1=\"10\" y1=\"24\" x2=\"24\" y2=\"39\" />\n",
       "  <line x1=\"10\" y1=\"97\" x2=\"24\" y2=\"112\" />\n",
       "  <line x1=\"10\" y1=\"120\" x2=\"24\" y2=\"134\" style=\"stroke-width:2\" />\n",
       "\n",
       "  <!-- Vertical lines -->\n",
       "  <line x1=\"10\" y1=\"0\" x2=\"10\" y2=\"120\" style=\"stroke-width:2\" />\n",
       "  <line x1=\"24\" y1=\"14\" x2=\"24\" y2=\"134\" style=\"stroke-width:2\" />\n",
       "\n",
       "  <!-- Colored Rectangle -->\n",
       "  <polygon points=\"10.0,0.0 24.9485979497544,14.948597949754403 24.9485979497544,134.9485979497544 10.0,120.0\" style=\"fill:#ECB172A0;stroke-width:0\"/>\n",
       "\n",
       "  <!-- Horizontal lines -->\n",
       "  <line x1=\"10\" y1=\"0\" x2=\"117\" y2=\"0\" style=\"stroke-width:2\" />\n",
       "  <line x1=\"24\" y1=\"14\" x2=\"132\" y2=\"14\" style=\"stroke-width:2\" />\n",
       "\n",
       "  <!-- Vertical lines -->\n",
       "  <line x1=\"10\" y1=\"0\" x2=\"24\" y2=\"14\" style=\"stroke-width:2\" />\n",
       "  <line x1=\"44\" y1=\"0\" x2=\"59\" y2=\"14\" />\n",
       "  <line x1=\"81\" y1=\"0\" x2=\"96\" y2=\"14\" />\n",
       "  <line x1=\"117\" y1=\"0\" x2=\"132\" y2=\"14\" style=\"stroke-width:2\" />\n",
       "\n",
       "  <!-- Colored Rectangle -->\n",
       "  <polygon points=\"10.0,0.0 117.28514245349658,0.0 132.23374040325098,14.948597949754403 24.9485979497544,14.948597949754403\" style=\"fill:#ECB172A0;stroke-width:0\"/>\n",
       "\n",
       "  <!-- Horizontal lines -->\n",
       "  <line x1=\"24\" y1=\"14\" x2=\"132\" y2=\"14\" style=\"stroke-width:2\" />\n",
       "  <line x1=\"24\" y1=\"39\" x2=\"132\" y2=\"39\" />\n",
       "  <line x1=\"24\" y1=\"112\" x2=\"132\" y2=\"112\" />\n",
       "  <line x1=\"24\" y1=\"134\" x2=\"132\" y2=\"134\" style=\"stroke-width:2\" />\n",
       "\n",
       "  <!-- Vertical lines -->\n",
       "  <line x1=\"24\" y1=\"14\" x2=\"24\" y2=\"134\" style=\"stroke-width:2\" />\n",
       "  <line x1=\"59\" y1=\"14\" x2=\"59\" y2=\"134\" />\n",
       "  <line x1=\"96\" y1=\"14\" x2=\"96\" y2=\"134\" />\n",
       "  <line x1=\"132\" y1=\"14\" x2=\"132\" y2=\"134\" style=\"stroke-width:2\" />\n",
       "\n",
       "  <!-- Colored Rectangle -->\n",
       "  <polygon points=\"24.9485979497544,14.948597949754403 132.23374040325098,14.948597949754403 132.23374040325098,134.9485979497544 24.9485979497544,134.9485979497544\" style=\"fill:#ECB172A0;stroke-width:0\"/>\n",
       "\n",
       "  <!-- Text -->\n",
       "  <text x=\"78.591169\" y=\"154.948598\" font-size=\"1.0rem\" font-weight=\"100\" text-anchor=\"middle\" >3797</text>\n",
       "  <text x=\"152.233740\" y=\"74.948598\" font-size=\"1.0rem\" font-weight=\"100\" text-anchor=\"middle\" transform=\"rotate(-90,152.233740,74.948598)\">4247</text>\n",
       "  <text x=\"7.474299\" y=\"147.474299\" font-size=\"1.0rem\" font-weight=\"100\" text-anchor=\"middle\" transform=\"rotate(45,7.474299,147.474299)\">1</text>\n",
       "</svg>\n",
       "        </td>\n",
       "    </tr>\n",
       "</table></div></li></ul></div></li><li class='xr-section-item'><input id='section-cc23187b-5cdb-4f5a-b2ac-a998ad03e93a' class='xr-section-summary-in' type='checkbox'  ><label for='section-cc23187b-5cdb-4f5a-b2ac-a998ad03e93a' class='xr-section-summary' >Attributes: <span>(38)</span></label><div class='xr-section-inline-details'></div><div class='xr-section-details'><dl class='xr-attrs'><dt><span>Conventions :</span></dt><dd>CF-1.6</dd><dt><span>TileSize :</span></dt><dd>2048:2048</dd><dt><span>catalogue_url :</span></dt><dd>https://catalogue.ceda.ac.uk/uuid/b382ebe6679d44b8b0e68ea4ef4b701c</dd><dt><span>cdm_data_type :</span></dt><dd>grid</dd><dt><span>comment :</span></dt><dd></dd><dt><span>contact :</span></dt><dd>landcover-cci@uclouvain.be</dd><dt><span>creator_email :</span></dt><dd>landcover-cci@uclouvain.be</dd><dt><span>creator_name :</span></dt><dd>University catholique de Louvain</dd><dt><span>creator_url :</span></dt><dd>http://www.uclouvain.be/</dd><dt><span>crs :</span></dt><dd>1178880137</dd><dt><span>date_created :</span></dt><dd>20170615T163947Z</dd><dt><span>geospatial_lat_max :</span></dt><dd>90.0</dd><dt><span>geospatial_lat_min :</span></dt><dd>-90.0</dd><dt><span>geospatial_lat_resolution :</span></dt><dd>0.002778</dd><dt><span>geospatial_lat_units :</span></dt><dd>degrees_north</dd><dt><span>geospatial_lon_max :</span></dt><dd>180.0</dd><dt><span>geospatial_lon_min :</span></dt><dd>-180.0</dd><dt><span>geospatial_lon_resolution :</span></dt><dd>0.002778</dd><dt><span>geospatial_lon_units :</span></dt><dd>degrees_east</dd><dt><span>history :</span></dt><dd>amorgos-4,0, lc-sdr-1.0, lc-sr-1.0, lc-classification-1.0,lc-user-tools-3.13\n",
       "Modified with Cate v3.0.1.dev1 cate.ops.normalize.normalize v1.0 \n",
       "Default input values: OrderedDict([(&#x27;ds&#x27;, {&#x27;position&#x27;: 0, &#x27;data_type&#x27;: &lt;class &#x27;xarray.core.dataset.Dataset&#x27;&gt;, &#x27;description&#x27;: &#x27;The dataset to normalize.&#x27;})])\n",
       "Provided input values: {&#x27;ds&#x27;: &lt;class &#x27;xarray.core.dataset.Dataset&#x27;&gt;}\n",
       "</dd><dt><span>id :</span></dt><dd>ESACCI-LC-L4-LCCS-Map-300m-P1Y-2015-v2.0.7</dd><dt><span>institution :</span></dt><dd>Universite catholique de Louvain</dd><dt><span>keywords :</span></dt><dd>land cover classification,satellite,observation</dd><dt><span>keywords_vocabulary :</span></dt><dd>NASA Global Change Master Directory (GCMD) Science Keywords</dd><dt><span>license :</span></dt><dd>ESA CCI Data Policy: free and open access</dd><dt><span>naming_authority :</span></dt><dd>org.esa-cci</dd><dt><span>product_version :</span></dt><dd>2.0.7</dd><dt><span>project :</span></dt><dd>Climate Change Initiative - European Space Agency</dd><dt><span>references :</span></dt><dd>http://www.esa-landcover-cci.org/</dd><dt><span>source :</span></dt><dd>MERIS FR L1B version 5.05, MERIS RR L1B version 8.0, SPOT VGT P</dd><dt><span>spatial_resolution :</span></dt><dd>300m</dd><dt><span>standard_name_vocabulary :</span></dt><dd>NetCDF Climate and Forecast (CF) Standard Names version 21</dd><dt><span>summary :</span></dt><dd>This dataset contains the global ESA CCI land cover classification map derived from satellite data of one epoch.</dd><dt><span>time_coverage_end :</span></dt><dd>2015-07-03T00:00:00</dd><dt><span>time_coverage_start :</span></dt><dd>2015-07-03T00:00:00</dd><dt><span>title :</span></dt><dd>ESA CCI Land Cover Map</dd><dt><span>tracking_id :</span></dt><dd>12590bad-9014-4a91-9048-d06b67965490</dd><dt><span>type :</span></dt><dd>ESACCI-LC-L4-LCCS-Map-300m-P1Y</dd></dl></div></li></ul></div></div>"
      ],
      "text/plain": [
       "<xarray.Dataset>\n",
       "Dimensions:              (time: 1, lat: 4247, lon: 3797)\n",
       "Coordinates:\n",
       "  * lat                  (lat) float32 -5.965 -5.963 -5.96 ... 5.824 5.826 5.829\n",
       "  * lon                  (lon) float32 32.57 32.57 32.57 ... 43.11 43.11 43.11\n",
       "  * time                 (time) datetime64[ns] 2015-07-03\n",
       "Data variables:\n",
       "    change_count         (time, lat, lon) float32 dask.array<chunksize=(1, 852, 1236), meta=np.ndarray>\n",
       "    current_pixel_state  (time, lat, lon) float32 dask.array<chunksize=(1, 852, 1236), meta=np.ndarray>\n",
       "    lccs_class           (time, lat, lon) float32 dask.array<chunksize=(1, 852, 1236), meta=np.ndarray>\n",
       "    observation_count    (time, lat, lon) float32 dask.array<chunksize=(1, 852, 1236), meta=np.ndarray>\n",
       "    processed_flag       (time, lat, lon) float32 dask.array<chunksize=(1, 852, 1236), meta=np.ndarray>\n",
       "Attributes: (12/38)\n",
       "    Conventions:                CF-1.6\n",
       "    TileSize:                   2048:2048\n",
       "    catalogue_url:              https://catalogue.ceda.ac.uk/uuid/b382ebe6679...\n",
       "    cdm_data_type:              grid\n",
       "    comment:                    \n",
       "    contact:                    landcover-cci@uclouvain.be\n",
       "    ...                         ...\n",
       "    summary:                    This dataset contains the global ESA CCI land...\n",
       "    time_coverage_end:          2015-07-03T00:00:00\n",
       "    time_coverage_start:        2015-07-03T00:00:00\n",
       "    title:                      ESA CCI Land Cover Map\n",
       "    tracking_id:                12590bad-9014-4a91-9048-d06b67965490\n",
       "    type:                       ESACCI-LC-L4-LCCS-Map-300m-P1Y"
      ]
     },
     "execution_count": 9,
     "metadata": {},
     "output_type": "execute_result"
    }
   ],
   "source": [
    "LCDset"
   ]
  },
  {
   "cell_type": "markdown",
   "metadata": {},
   "source": [
    "# 4. Extract 'Agricultural Area' class from land cover map "
   ]
  },
  {
   "cell_type": "markdown",
   "metadata": {},
   "source": [
    "## 4.1. Extract soil moisture for the agricultural area. \n",
    "Use the agricultural area class to extract soil moisture for the agricultural area.\n",
    "First, we need to create a mask based on the land cover class"
   ]
  },
  {
   "cell_type": "code",
   "execution_count": 10,
   "metadata": {},
   "outputs": [
    {
     "name": "stdout",
     "output_type": "stream",
     "text": [
      "0 no_data\n",
      "10 cropland_rainfed\n",
      "11 cropland_rainfed_herbaceous_cover\n",
      "12 cropland_rainfed_tree_or_shrub_cover\n",
      "20 cropland_irrigated\n",
      "30 mosaic_cropland\n",
      "40 mosaic_natural_vegetation\n",
      "50 tree_broadleaved_evergreen_closed_to_open\n",
      "60 tree_broadleaved_deciduous_closed_to_open\n",
      "61 tree_broadleaved_deciduous_closed\n",
      "62 tree_broadleaved_deciduous_open\n",
      "70 tree_needleleaved_evergreen_closed_to_open\n",
      "71 tree_needleleaved_evergreen_closed\n",
      "72 tree_needleleaved_evergreen_open\n",
      "80 tree_needleleaved_deciduous_closed_to_open\n",
      "81 tree_needleleaved_deciduous_closed\n",
      "82 tree_needleleaved_deciduous_open\n",
      "90 tree_mixed\n",
      "100 mosaic_tree_and_shrub\n",
      "110 mosaic_herbaceous\n",
      "120 shrubland\n",
      "121 shrubland_evergreen\n",
      "122 shrubland_deciduous\n",
      "-126 grassland\n",
      "-116 lichens_and_mosses\n",
      "-106 sparse_vegetation\n",
      "-105 sparse_tree\n",
      "-104 sparse_shrub\n",
      "-103 sparse_herbaceous\n",
      "-96 tree_cover_flooded_fresh_or_brakish_water\n",
      "-86 tree_cover_flooded_saline_water\n",
      "-76 shrub_or_herbaceous_cover_flooded\n",
      "-66 urban\n",
      "-56 bare_areas\n",
      "-55 bare_areas_consolidated\n",
      "-54 bare_areas_unconsolidated\n",
      "-46 water\n",
      "-36 snow_and_ice\n"
     ]
    },
    {
     "data": {
      "text/plain": [
       "<cartopy.mpl.feature_artist.FeatureArtist at 0x7fb0981142b0>"
      ]
     },
     "execution_count": 10,
     "metadata": {},
     "output_type": "execute_result"
    },
    {
     "data": {
      "image/png": "[encoded data removed]",
      "text/plain": [
       "<Figure size 432x288 with 2 Axes>"
      ]
     },
     "metadata": {
      "needs_background": "light"
     },
     "output_type": "display_data"
    }
   ],
   "source": [
    "# print the land cover attributes (note: we need to split nameing at whitespace) and search for\n",
    "for val,flag in zip(LCDset.lccs_class.attrs[\"flag_values\"],LCDset.lccs_class.attrs[\"flag_meanings\"].split()):\n",
    "     print(val,flag)\n",
    "\n",
    "#Let's make a list of the classes we're interested\n",
    "import re\n",
    "# in this case let's gather all classes which have 'crop' in it's name\n",
    "agriclasses = [val for val,flag in zip(LCDset.lccs_class.attrs[\"flag_values\"], LCDset.lccs_class.attrs[\"flag_meanings\"].split()) if re.search('cropland',flag)]\n",
    "\n",
    "# create  a mask and remove the time axis (it has only one coordinate)\n",
    "mask = LCDset.lccs_class.isin(agriclasses).squeeze('time')\n",
    "\n",
    "#interpolate mask onto the soil moisture grid so it can be more easily applied\n",
    "masksm = mask.astype(int).interp(lat=soilDset.lat, lon=soilDset.lon, method='nearest')\n",
    "masksm = masksm.where(masksm == 1) # set the 0 values to Nan (not a numbers)\n",
    "\n",
    "\n",
    "# you can make a plot of the mask if you're interested\n",
    "p = masksm.plot(transform=ccrs.PlateCarree(),subplot_kws={\"projection\": mapproj})\n",
    "p.axes.coastlines()\n",
    "p.axes.add_feature(cfeature.BORDERS, edgecolor='gray')\n"
   ]
  },
  {
   "cell_type": "markdown",
   "metadata": {},
   "source": [
    "Result step 4.2: Land cover classes in the area of interest"
   ]
  },
  {
   "cell_type": "markdown",
   "metadata": {},
   "source": [
    "## 4.2. Monthly aggregate"
   ]
  },
  {
   "cell_type": "code",
   "execution_count": 11,
   "metadata": {},
   "outputs": [],
   "source": [
    "smMonDset = ops.temporal_aggregation(ds=soilDset,method=\"mean\",period=\"MS\")\n"
   ]
  },
  {
   "cell_type": "markdown",
   "metadata": {},
   "source": [
    "# 5. Soil Moisture Deficit Index (SMDI)\n",
    "\n",
    "## 5.1. How to compute SMDI?\n"
   ]
  },
  {
   "cell_type": "markdown",
   "metadata": {},
   "source": [
    "For soil moisture the method we will use is called the Soil moisture deficit index (SMDI). It is an index where the soil moisture of previous months are used to calculate the SMDI of the actual month.\n",
    "\n",
    "Variables\n",
    "1. ${SMDI}_j$= soil moisture deficit index of the month j\n",
    "2. ${SMDI}_{j-1}$= SMDI at month j-1 (previous month) \n",
    "3. $SD_j$ = monthly soil deficit at month j  \n",
    "4. $SW_j$ = actual monthly soil moisture at month j.The is the soil moiture map corresponding to a certain map\n",
    "5. $MSW_j$= long-term monthly **median** available soil water at month j. There will be 12 maps, one per month.\n",
    "6. $maxSW_j$= long-term monthly **maximum** available soil water at month j. There will be 12 maps, one per month.\n",
    "7. $minSW_j$ = long-term monthly **minimum** available soil water at month j. There will be 12 maps, one per month.\n",
    "8. NOTE: $_{j-1}$ stands for the month previous to month j.\n",
    "\n",
    "**The sequence of the equations are**:\n",
    "1. Calculate: $MSW_j$, $maxSW_j$, $minSW_j$\n",
    "2. Calculate the monthly soil deficit for the month j\n",
    "$$SD_j = (SW_j – MSW_j)/(maxSW_j – SW_j) *100,\\quad  if SWj > MSWj$$ \n",
    "$$SD_j= (SW_j – MSW_j)/(MSW_j – minSW_j)* 100,\\quad  if SW_j =< MSW_j$$ \n",
    "3. Calculate the soil moisture deficit index dor the month 1 (estimated and initial value)\n",
    "$SMDI_1 = SD_1/50$  for initial month \n",
    "4. Calculate the soil moistiure deficit index for all the other months\n",
    "$${SMDI}_j= 0.5 * {SMDI}_{j-1}+SD_j/50$$\n",
    "\n",
    "The $SMDI_j$ value varies from -4 to 4 being the negatives indicators of drought. Persistant drought can be detected by monthly accumulation of negatives SMDI giving room to a number of analysis."
   ]
  },
  {
   "cell_type": "markdown",
   "metadata": {},
   "source": [
    "## 5.2. Compute the monthly climatology "
   ]
  },
  {
   "cell_type": "code",
   "execution_count": 12,
   "metadata": {},
   "outputs": [],
   "source": [
    "# get the median, min and max for all Jan's, Feb's etc.\n",
    "smClim = soilDset.sm.groupby(\"time.month\")\n",
    "smMed, smMin, smMax = dask.compute(smClim.median(), smClim.min(), smClim.max())\n",
    "# in case you don't want to use dask, uncomment the following, takes much longer, though\n",
    "#smMed=smClim.median()\n",
    "#smMin=smClim.min()\n",
    "#smMax=smClim.max()\n"
   ]
  },
  {
   "cell_type": "markdown",
   "metadata": {},
   "source": [
    "## 5.3. Compute SMDI"
   ]
  },
  {
   "cell_type": "markdown",
   "metadata": {},
   "source": [
    "The cell below takes about 4 to 5 min when using dask in the cell above. "
   ]
  },
  {
   "cell_type": "code",
   "execution_count": 13,
   "metadata": {},
   "outputs": [
    {
     "name": "stdout",
     "output_type": "stream",
     "text": [
      "Compute Soil moisture deficit for 191, 2020-12-01 00:00:00\n",
      "Took 0:04:24.495921\n"
     ]
    }
   ],
   "source": [
    "# allocate enough data to hold the result (create an xarray.DataArray, and copy the coordinate axes lon,lat,time from the orginal dataset)\n",
    "\n",
    "#Allocate the Soil Moisture deficit index\n",
    "\n",
    "smdIndex = xr.DataArray(np.zeros(smMonDset.sm.shape), name=\"smd_indx\", dims=[\"time\",\"lat\",\"lon\"], coords={\"lon\":smMonDset.lon, \"lat\":smMonDset.lat, \"time\":smMonDset.time})\n",
    "\n",
    "start_run_time = datetime.now()\n",
    "for i,dt in enumerate(smMonDset.time.to_pandas()):\n",
    "    #Monthly anomaly w.r.t. long term climatological median\n",
    "    print(f\"Compute Soil moisture deficit for {i}, {str(dt)}\", end='\\r')\n",
    "    dSm = smMonDset.sm[i,:,:] - smMed[dt.month-1,:,:]\n",
    "    smMed_m_min = smMed[dt.month-1,:,:] - smMin[dt.month-1,:,:]\n",
    "    smMax_m_med = smMax[dt.month-1,:,:] - smMed[dt.month-1,:,:]\n",
    "    smd = 100*xr.where(dSm < 0, dSm/smMed_m_min, dSm/smMax_m_med)\n",
    "    \n",
    "    #also mask results in the pixels of interest only\n",
    "    smd = masksm*smd\n",
    "    if i == 0:\n",
    "        smdIndex[i,:,:] = smd/50\n",
    "    else:\n",
    "        smdIndex[i,:,:] = 0.5*smdIndex[i-1,:,:]+smd/50\n",
    "print(f'\\nTook {datetime.now() - start_run_time}')"
   ]
  },
  {
   "cell_type": "markdown",
   "metadata": {
    "jp-MarkdownHeadingCollapsed": true,
    "tags": []
   },
   "source": [
    "# 6. Results analysis\n"
   ]
  },
  {
   "cell_type": "markdown",
   "metadata": {},
   "source": [
    "Create a profile plot (for a location) and a map at a specific time\n",
    "\n",
    "# 6.1. Create a simple time series plot of a location"
   ]
  },
  {
   "cell_type": "code",
   "execution_count": 14,
   "metadata": {},
   "outputs": [
    {
     "data": {
      "image/png": "[encoded data removed]",
      "text/plain": [
       "<Figure size 432x288 with 2 Axes>"
      ]
     },
     "metadata": {
      "needs_background": "light"
     },
     "output_type": "display_data"
    }
   ],
   "source": [
    "#plt.figure()\n",
    "fig, axes = plt.subplots(nrows=2, ncols=1)\n",
    "ilon = 33\n",
    "ilat = 2.0\n",
    "ploc1 = smdIndex.sel(lat=ilat, lon=ilon, method=\"nearest\").plot(ax=axes[0])\n",
    "ploc2 = smMonDset.sm.sel(lat=ilat, lon=ilon, method=\"nearest\").plot(ax=axes[1])"
   ]
  },
  {
   "cell_type": "markdown",
   "metadata": {},
   "source": [
    "## Create a geographical plot at a certain month"
   ]
  },
  {
   "cell_type": "code",
   "execution_count": 15,
   "metadata": {},
   "outputs": [
    {
     "name": "stdout",
     "output_type": "stream",
     "text": [
      "Plotting epoch 2005-02-01T00:00:00.000000000\n"
     ]
    },
    {
     "data": {
      "text/plain": [
       "Text(0.5, 1.0, 'Soil moisture deficit index at 2005-02-01')"
      ]
     },
     "execution_count": 15,
     "metadata": {},
     "output_type": "execute_result"
    },
    {
     "data": {
      "image/png": "[encoded data removed]",
      "text/plain": [
       "<Figure size 432x288 with 2 Axes>"
      ]
     },
     "metadata": {
      "needs_background": "light"
     },
     "output_type": "display_data"
    }
   ],
   "source": [
    "# Create a geographical plot at a certain month\n",
    "it = 1\n",
    "epoch = smdIndex.time[it].data\n",
    "print(f\"Plotting epoch {str(epoch)}\")\n",
    "\n",
    "ax = plt.subplot(projection=mapproj)\n",
    "p = smdIndex.sel(time=epoch).plot(ax=ax, transform=ccrs.PlateCarree())\n",
    "\n",
    "#also plot the location relevant for the plot above\n",
    "ax.scatter([ilon], [ilat], transform=ccrs.PlateCarree(), color=\"black\")\n",
    "p.axes.coastlines()\n",
    "p.axes.set_title(f\"Soil moisture deficit index at {(str(epoch)[:10])}\")"
   ]
  },
  {
   "cell_type": "markdown",
   "metadata": {},
   "source": [
    "\n",
    "# 7. Questions\n",
    "1. Try creating a time plot of the monthly mean of the SMDI\n",
    "2. Identify the very dry areas by identifying a consecutive number of months of negative SMDIj.\n",
    "3. Create a plot durng the drought period at certain key locations (e.g., Turkana, Mandera, Marsabit, Garissa, Wajir, Isiolo, Tana River, Machakos, Makueni, and Kitu)\n",
    "3. Identify the year, and the months of the very dry area in Kenya.\n",
    "4. Check out the 'https://foodsecurityindex.eiu.com/Country' and determoine the Global food security index for Kenya.\n",
    "5. Check out the 'http://www.fao.org/publications/sofi/2020/en/' for Kenya and the interpret the number of undernourished people in that country."
   ]
  },
  {
   "cell_type": "code",
   "execution_count": null,
   "metadata": {},
   "outputs": [],
   "source": []
  }
 ],
 "metadata": {
  "kernelspec": {
   "display_name": "Python 3 (ipykernel)",
   "language": "python",
   "name": "python3"
  },
  "language_info": {
   "codemirror_mode": {
    "name": "ipython",
    "version": 3
   },
   "file_extension": ".py",
   "mimetype": "text/x-python",
   "name": "python",
   "nbconvert_exporter": "python",
   "pygments_lexer": "ipython3",
   "version": "3.9.7"
  }
 },
 "nbformat": 4,
 "nbformat_minor": 4
}
