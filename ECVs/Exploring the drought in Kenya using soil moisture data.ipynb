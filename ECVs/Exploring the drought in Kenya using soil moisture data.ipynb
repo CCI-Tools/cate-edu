{
 "cells": [
  {
   "cell_type": "markdown",
   "metadata": {},
   "source": [
    "![Banner](media/CATE-ITC-Banner.png)"
   ]
  },
  {
   "cell_type": "markdown",
   "metadata": {},
   "source": [
    "# Exploring the Drought in Kenya using Soil Moisture\n",
    "Exercise 01: Land\n",
    "\n",
    "![Drought](media/Land_logo.png)\n",
    "\n",
    "Photo credit: ESA\n",
    "\n",
    "Authors: Elnaz Neinavaz, Roelof Rietbroek\n",
    "\n",
    "Last update: 15th of Jan 2021\n",
    "\n",
    "License: \n",
    "<a rel=\"license\" href=\"http://creativecommons.org/licenses/by-sa/4.0/\"><img alt=\"Creative Commons License\" style=\"border-width:0\" src=\"https://i.creativecommons.org/l/by-sa/4.0/80x15.png\" /></a>\n",
    "\n",
    "# 1. Introduction to the exercise\n",
    "Kenya is a drought-prone country, mainly due to its peculiar environmental conditions. While agriculture supports up to 75% of Kenya's population and generates almost all food requirements, drought is a major constraint on rain-fed agricultural production, particularly in arid and semi-arid Kenya. In the last century, Kenya has faced almost 29 droughts, some of them in the last decade. The frequency and severity of droughts in Kenya seems to be increasing over time. As a result, crop failures and livestock deaths are leading to severe food shortages in Kenya and food insecurity. [The Climate Change Initiative hosts a soil moisture dataset](https://esa-soilmoisture-cci.org/) that can be used to generate an index of draught severity called Drought Index. In this exercise, we apply the soil moisture data to generate this Drought Indicator for Kenya.\n",
    "\n",
    "![workflow](media/SM%20exercise%20kenya.png)\n",
    "The input data is daily images of soil moisture (SM, m3/m3) for Kenya and for a number of years (2000.01.01-2020.01.01).\n",
    "There are several approaches to obtaining periods of droughts following information on soil moisture. In this xcercise, we follow the Soil Moisture Deficit Index to address drought in Kenya.\n",
    "\n",
    "1. Download the daily SM images for the area of interest and for the period considered \n",
    "2. Extract the agricultural area using landcover map\n",
    "3. Calculate the average SM per month\n",
    "4. Group the monthly SM by month (all monthly SM of January, February, etc.) for the time span concerned\n",
    "5. Calculate the median, maximum, and minimum values per pixel of the long term monthly images. Three images per month\n",
    "6. With the actual image of the SM of a given month (SWj), calculate the monthly soil deficit of the month (SDj)\n",
    "7. With (SDj) and the Soil Moisture Deficit Index of the month (j-1) (SMDIj-1), calculate the SMDIj. Note: SMDI1= SD1/50 for initial month\n",
    "8. -4 <= SMDIj <= 4 indicating from very dry to very wet conditions\n",
    "9. Identify the very dry areas by identifying a consecutive number of months of negative SMDIj.\n",
    "10. Identify the year and the months of the very dry area in Kenya\n",
    "\n",
    "\n",
    "## 1.1. Exercise objectives\n",
    "In this exercise you will learn to use Cate in order to:\n",
    "1. Search for soil moisture data from the [ESA CCI Open data portal](https://climate.esa.int/en/odp/#/dashboard)\n",
    "2. Apply the soil moisture data to generate information required for the drought model\n",
    "3. Create a drought index based on soil moisture dataset for Kenya\n",
    "4. Identify periods and regions of drought over Kenya\n",
    "\n",
    "## Getting started with jupyter notebooks and the cate webui\n",
    "Todo: add hyperlink to general instructions on setting up Cate\n",
    "\n",
    "## 1.2. Are you ready to go?\n",
    "Please follow the steps below, and run all the code cells step by step\n",
    "Here are a few technical reminders:\n",
    "* `tabs` play an important role in python and remove the need for brackets. If you incorrectly align you code, it will not run and you'll get alignment errors.\n",
    "* you can execute **code cells**, by selecting the cell and pressing either the *play* button or pressing `Ctrl+Enter`\n",
    "* Indexing in python is 0-based (i.e. the first entry is denoted by 0)\n",
    "* You're encouraged to try out different settings"
   ]
  },
  {
   "cell_type": "markdown",
   "metadata": {},
   "source": [
    "## 1.3. Initializing some modules "
   ]
  },
  {
   "cell_type": "code",
   "execution_count": 17,
   "metadata": {},
   "outputs": [],
   "source": [
    "#Load some parts of the cate module so we can communicate with its datastore\n",
    "from cate.core.ds import DATA_STORE_REGISTRY\n",
    "import cate.ops as ops\n",
    "from cate.util.monitor import ConsoleMonitor\n",
    "from datetime import datetime\n",
    "import cartopy.feature as cfeature #needed to get natural earth shapes\n",
    "from shapely import wkt # needed later when we apply region constraints\n",
    "import xarray as xr\n",
    "import numpy as np\n",
    "import logging\n",
    "import os\n",
    "# plotting tools\n",
    "import matplotlib.pyplot as plt\n",
    "import cartopy.crs as ccrs #to work with geographical projections\n",
    "import pandas as pd\n",
    "%matplotlib inline\n",
    "\n",
    "import logging\n",
    "\n",
    "# There are some irrelevant warnings later which we want to suppressed \n",
    "logging.captureWarnings(True) #although when developing code it's usually better to keep this disabled)\n",
    "\n",
    "#We need this temporary hack to work around (https://stackoverflow.com/questions/56154176/runtimeerror-asyncio-run-cannot-be-called-from-a-running-event-loop)\n",
    "import nest_asyncio\n",
    "nest_asyncio.apply()\n",
    "\n",
    "\n",
    "\n",
    "    \n"
   ]
  },
  {
   "cell_type": "code",
   "execution_count": 2,
   "metadata": {},
   "outputs": [],
   "source": [
    "# We're going to need to talk to the online data store\n",
    "\n",
    "## This one is online and connects to ESA's CCI open data portal\n",
    "onlineStore = DATA_STORE_REGISTRY.get_data_store('esa_cci_odp_os')\n",
    "\n",
    "\n",
    "## The monitor below may be used to facilitate logging of output\n",
    "monitor=ConsoleMonitor(stay_in_line=True)"
   ]
  },
  {
   "cell_type": "markdown",
   "metadata": {},
   "source": [
    "# 2. Find the required data in ESA's CCI Open Data Portal\n",
    "\n",
    "Let's start with finding 'Soil Moisture', and 'Land Cover' data by querying for the Essential Climate Variables name `SOILMOISTURE` and `LAND_COVER`\n",
    "\n"
   ]
  },
  {
   "cell_type": "code",
   "execution_count": 3,
   "metadata": {},
   "outputs": [],
   "source": [
    "# soilmoistureQuery=data_store.query(query_expr=\"esacci.SOILMOISTURE.day.L3S.SSMS.multi-sensor.multi-platform.ACTIVE.05-2.r1\")\n",
    "soilmoistureQuery=onlineStore.query(query_expr=\"SOILMOISTURE\")\n",
    "\n",
    "# landcoverQuery=data_store.query(query_expr=\"esacci.SOILMOISTURE.day.L3S.SSMS.multi-sensor.multi-platform.ACTIVE.05-2.r1\") ?????\n",
    "landcoverQuery=onlineStore.query(query_expr=\"LAND_COVER\")"
   ]
  },
  {
   "cell_type": "markdown",
   "metadata": {},
   "source": [
    "Let's have a look in what we found\n",
    "\n"
   ]
  },
  {
   "cell_type": "code",
   "execution_count": null,
   "metadata": {},
   "outputs": [],
   "source": [
    "\n",
    "# We may find multiple data sources for the 'soil moisture',  which match the criteria, so let's see how many \n",
    "print(\"Found %d Soil moisture data sources\"%(len(soilmoistureQuery)))\n",
    "for datasrc in soilmoistureQuery:\n",
    "    print(datasrc.title)\n",
    "    \n",
    "    \n",
    "print(\"Found %d Land cover data sources\"%(len(landcoverQuery)))\n",
    "for datasrc in landcoverQuery:\n",
    "    print(datasrc.title)\n",
    "    \n",
    "    \n",
    "# are you interested in more details? Try printing out some meta information of the found datasets\n",
    "print(landcoverQuery[0].meta_info)\n"
   ]
  },
  {
   "cell_type": "markdown",
   "metadata": {},
   "source": [
    "## 2.1. Questions\n",
    "A number of checks need to be done over the avilable datasets:\n",
    "1. Note down the units of the soil Moisture maps for information.\n",
    "2. What kind of classes do you need to find agricultural areas?\n",
    "3. Who should you cite when using this datasets?"
   ]
  },
  {
   "cell_type": "markdown",
   "metadata": {},
   "source": [
    "# 3. Download (a subset of) the data and store it 'locally'\n",
    "Up to now, we just queried the open data portal but did not actually download or process any data. In the following steps you will be extracting the required data by setting constraints in time and space to reduce the data download. The soil moisture data will aslo be sampled on monthly intervals before being stored locally\n",
    "\n",
    "\n",
    "\n",
    "\n"
   ]
  },
  {
   "cell_type": "markdown",
   "metadata": {},
   "source": [
    "## 3.1. Apply a regional restriction based on a hand-drawn polygon\n",
    "Polygons, and other geometr directoryical objects in GIS systems can be conveniently expressed in the [Well Known Text representation (WKT)](https://en.wikipedia.org/wiki/Well-known_text_representation_of_geometry). The polygon below `Polygon (( ...))`, was drawn using [QGIS](https://www.qgis.org/en/site/) and exported as WKT. We furthermore need to load this in a [Shapely Polygon object](https://shapely.readthedocs.io/en/stable/manual.html?highlight=Polygon#Polygon) so cate can work with."
   ]
  },
  {
   "cell_type": "code",
   "execution_count": 4,
   "metadata": {},
   "outputs": [
    {
     "data": {
      "text/plain": [
       "<cartopy.mpl.feature_artist.FeatureArtist at 0x7fa72ccf2fd0>"
      ]
     },
     "execution_count": 4,
     "metadata": {},
     "output_type": "execute_result"
    },
    {
     "name": "stderr",
     "output_type": "stream",
     "text": [
      "/usr/lib/python3.9/site-packages/IPython/core/events.py:89: UserWarning: This figure includes Axes that are not compatible with tight_layout, so results might be incorrect.\n",
      "  func(*args, **kwargs)\n",
      "/usr/lib/python3.9/site-packages/IPython/core/pylabtools.py:132: UserWarning: This figure includes Axes that are not compatible with tight_layout, so results might be incorrect.\n",
      "  fig.canvas.print_figure(bytes_io, **kw)\n"
     ]
    },
    {
     "data": {
      "image/png": "[encoded data removed]",
      "text/plain": [
       "<Figure size 432x288 with 1 Axes>"
      ]
     },
     "metadata": {
      "needs_background": "light"
     },
     "output_type": "display_data"
    }
   ],
   "source": [
    "# The WKT representation representing the rough outline of the Kenya as a region of interest \n",
    "\n",
    "wktkenyaDrought=\"Polygon ((34.0218774057365323 5.83180890691609211, 43.11430983816897111 5.80626836637555233, 42.62903956789870108 -3.10738028227309826, 40.17714767600680403 -5.96792082281363712, 32.5660665949257222 -2.494407309300124, 32.5660665949257222 -2.494407309300124, 32.5660665949257222 -2.494407309300124, 34.0218774057365323 5.83180890691609211))\"\n",
    "KenyaPoly=wkt.loads(wktkenyaDrought)\n",
    "\n",
    "mapproj=ccrs.LambertConformal(central_longitude= 37.9,central_latitude=-0.02)\n",
    "# Curious as you might be, let's make a quick and dirty plot to see how the polygon looks like on a map\n",
    "ax = plt.axes([0, 0, 1, 1],projection=mapproj)\n",
    "ax.set_extent([30, 45, 10, -10])\n",
    "ax.coastlines()\n",
    "ax.add_geometries([KenyaPoly],crs=ccrs.PlateCarree(),facecolor=\"lightblue\",edgecolor=\"blue\",alpha=0.5)\n",
    "\n",
    "#spice up your plot with some Natural Earth country boundaries\n",
    "ax.add_feature(cfeature.BORDERS, edgecolor='gray')\n"
   ]
  },
  {
   "cell_type": "code",
   "execution_count": 5,
   "metadata": {},
   "outputs": [],
   "source": [
    "# Resample soil moisture on monthly averages\n",
    "def saveToLocalDs(localName,xrData):\n",
    "    \"\"\"Quick function to Save and xarray DataSet to a local datasource\"\"\"\n",
    "    #open the local store\n",
    "    localStore = DATA_STORE_REGISTRY.get_data_store('local')\n",
    "    fout=localStore.data_store_path+\"/local.\"+localName+\"/local.\"+localName+\".nc\"\n",
    "    \n",
    "    trange=[pd.to_datetime(xrData.time.min().data),pd.to_datetime(xrData.time.max().data)]\n",
    " \n",
    "    # the directly may not exists so make sure to create it\n",
    "    try:\n",
    "        os.mkdir(os.path.dirname(fout))\n",
    "    except FileExistsError:\n",
    "        pass\n",
    "    monitor=ConsoleMonitor(stay_in_line=True)\n",
    "#     ops.save_dataset(ds=xrData,file=fout,monitor=monitor)\n",
    "\n",
    "    #Create a cate compatible datasource\n",
    "    local_id=\"local.\"+localName\n",
    "    localDs=localStore.create_data_source(local_id,title=local_id,time_range=trange)\n",
    "    # Add the newly created netcdf file to local datasource\n",
    "    localDs.add_dataset(fout)\n",
    "    localStore.register_ds(localDs)\n",
    "    return localDs\n",
    "    \n",
    "svarName=\"SoilmoistureMonthly_Kenya\"\n",
    "\n",
    "# Create monthly averages from the opendap dataset\n",
    "combinedId=2\n",
    "\n",
    "#apply time constraint\n",
    "withinT=[datetime(2015,1,1),datetime(2016,1,1)]\n",
    "#withinT=[datetime(2010,1,1),datetime(2020,1,1)]"
   ]
  },
  {
   "cell_type": "code",
   "execution_count": 14,
   "metadata": {},
   "outputs": [],
   "source": [
    "#uncomment to actually apply the monthly sampling\n",
    "# smdat=soilmoistureQuery[combinedId].open_dataset(region=KenyaPoly,time_range=withinT)\n",
    "# smMonDset=ops.temporal_aggregation(ds=smdat,output_resolution=\"month\",method=\"mean\")\n",
    "\n",
    "# #Download a subset based upon region and time constraints from the online store:\n",
    "#soilmoistureComb=saveToLocalDs(svarName,smMonDset)"
   ]
  },
  {
   "cell_type": "code",
   "execution_count": 6,
   "metadata": {},
   "outputs": [],
   "source": [
    "# Quicker (if you've downloaded the data before) Retrieve the monthly data from your local store\n",
    "localStore= DATA_STORE_REGISTRY.get_data_store('local')\n",
    "#localStore.invalidate() this may be needed to reload the local store catalogue\n",
    "smid=\"local.%s\"%(svarName)\n",
    "soilmoistureComb=localStore.query(ds_id=smid)[0] #note that we take the first element from the list (we only expect one entry)"
   ]
  },
  {
   "cell_type": "code",
   "execution_count": 7,
   "metadata": {},
   "outputs": [],
   "source": [
    "#Download Landcover data\n",
    "lcvarName=\"Land_cover_Keyna2015\"\n",
    "\n",
    "\n",
    "# Retrieve form the online store and download for local use\n",
    "# landId=1 # we take the 2nd dataset (remember we're using 0-indexed lists in python)\n",
    "# withinT=[datetime(2015,1,1),datetime(2015,12,31)]\n",
    "# lc=landcoverQuery[landId].make_local(local_name=lcvarName,monitor=monitor,time_range=withinT,region=KenyaPoly)\n",
    "\n",
    "# Quicker (if you've downloaded the data before) Retrieve the data from your local store\n",
    "#localStore.invalidate() this may be needed to reload the local store catalogue\n",
    "lcid=\"local.%s\"%(lcvarName)\n",
    "landcover=localStore.query(ds_id=lcid)[0] #note that we take the first element from the list (we only expect one entry)"
   ]
  },
  {
   "cell_type": "markdown",
   "metadata": {},
   "source": [
    "## 3.2. Once we have downloaded the data let's see what we actually got"
   ]
  },
  {
   "cell_type": "code",
   "execution_count": null,
   "metadata": {},
   "outputs": [],
   "source": [
    "print(landcover.variables_info)\n",
    "print(soilmoistureComb.variables_info)"
   ]
  },
  {
   "cell_type": "code",
   "execution_count": 8,
   "metadata": {},
   "outputs": [],
   "source": [
    "# open the datasets (this will return xarray datasets). Note we will restrict the loaded variables such that not too much data is loaded in memory\n",
    "lcdata=landcover.open_dataset(var_names=[\"lccs_class\"])\n",
    "smdata=soilmoistureComb.open_dataset(var_names=[\"sm\"])\n"
   ]
  },
  {
   "cell_type": "markdown",
   "metadata": {},
   "source": [
    "# 4. Extract 'Agricultural Area' class from land cover map \n",
    "\n",
    "Use the agricultural area class to extract soil moisture for the agricultural area.\n",
    "First, we need to create a mask based on the land cover class"
   ]
  },
  {
   "cell_type": "code",
   "execution_count": 9,
   "metadata": {},
   "outputs": [
    {
     "name": "stdout",
     "output_type": "stream",
     "text": [
      "0 no_data\n",
      "10 cropland_rainfed\n",
      "11 cropland_rainfed_herbaceous_cover\n",
      "12 cropland_rainfed_tree_or_shrub_cover\n",
      "20 cropland_irrigated\n",
      "30 mosaic_cropland\n",
      "40 mosaic_natural_vegetation\n",
      "50 tree_broadleaved_evergreen_closed_to_open\n",
      "60 tree_broadleaved_deciduous_closed_to_open\n",
      "61 tree_broadleaved_deciduous_closed\n",
      "62 tree_broadleaved_deciduous_open\n",
      "70 tree_needleleaved_evergreen_closed_to_open\n",
      "71 tree_needleleaved_evergreen_closed\n",
      "72 tree_needleleaved_evergreen_open\n",
      "80 tree_needleleaved_deciduous_closed_to_open\n",
      "81 tree_needleleaved_deciduous_closed\n",
      "82 tree_needleleaved_deciduous_open\n",
      "90 tree_mixed\n",
      "100 mosaic_tree_and_shrub\n",
      "110 mosaic_herbaceous\n",
      "120 shrubland\n",
      "121 shrubland_evergreen\n",
      "122 shrubland_deciduous\n",
      "-126 grassland\n",
      "-116 lichens_and_mosses\n",
      "-106 sparse_vegetation\n",
      "-105 sparse_tree\n",
      "-104 sparse_shrub\n",
      "-103 sparse_herbaceous\n",
      "-96 tree_cover_flooded_fresh_or_brakish_water\n",
      "-86 tree_cover_flooded_saline_water\n",
      "-76 shrub_or_herbaceous_cover_flooded\n",
      "-66 urban\n",
      "-56 bare_areas\n",
      "-55 bare_areas_consolidated\n",
      "-54 bare_areas_unconsolidated\n",
      "-46 water\n",
      "-36 snow_and_ice\n"
     ]
    },
    {
     "data": {
      "text/plain": [
       "<cartopy.mpl.feature_artist.FeatureArtist at 0x7fa72c9302b0>"
      ]
     },
     "execution_count": 9,
     "metadata": {},
     "output_type": "execute_result"
    },
    {
     "name": "stderr",
     "output_type": "stream",
     "text": [
      "/usr/lib/python3.9/site-packages/IPython/core/events.py:89: UserWarning: Tight layout not applied. The left and right margins cannot be made large enough to accommodate all axes decorations. \n",
      "  func(*args, **kwargs)\n"
     ]
    },
    {
     "data": {
      "image/png": "[encoded data removed]",
      "text/plain": [
       "<Figure size 432x288 with 2 Axes>"
      ]
     },
     "metadata": {
      "needs_background": "light"
     },
     "output_type": "display_data"
    }
   ],
   "source": [
    "# print the land cover attributes (note: we need to split nameing at whitespace) and search for\n",
    "for val,flag in zip(lcdata.lccs_class.attrs[\"flag_values\"],lcdata.lccs_class.attrs[\"flag_meanings\"].split()):\n",
    "     print(val,flag)\n",
    "\n",
    "#Let's make a list of the classes we're interested\n",
    "import re\n",
    "# in this case let's gather all classes which have 'crop' in it's name\n",
    "agriclasses=[val for val,flag in zip(lcdata.lccs_class.attrs[\"flag_values\"],lcdata.lccs_class.attrs[\"flag_meanings\"].split()) if re.search('cropland',flag)]\n",
    "\n",
    "# create  a mask and remove the time axis (it has only one coordinate)\n",
    "mask=lcdata.lccs_class.isin(agriclasses).squeeze('time')\n",
    "\n",
    "#interpolate mask onto the soil moisture grid so it can be more easily applied\n",
    "masksm=mask.astype(int).interp(lat=smdata.lat,lon=smdata.lon,method='nearest')\n",
    "masksm=masksm.where(masksm == 1) # set the 0 values to Nan (not a numbers)\n",
    "\n",
    "\n",
    "# you can make a plot of the mask if you're interested\n",
    "p = masksm.plot(transform=ccrs.PlateCarree(),subplot_kws={\"projection\": mapproj})\n",
    "p.axes.coastlines()\n",
    "p.axes.add_feature(cfeature.BORDERS, edgecolor='gray')\n"
   ]
  },
  {
   "cell_type": "markdown",
   "metadata": {},
   "source": [
    "# 5. To identify drought periods we need to compute the so called *Soil Moisture Deficit Index*\n",
    "\n",
    "How to compute the Soil Moisture Deficit Index (SMDI)\n"
   ]
  },
  {
   "cell_type": "markdown",
   "metadata": {},
   "source": [
    "For soil moisture the method we will use is called the Soil moisture deficit index (SMDI). It is a solution where the soil moisture of the previous month is used to calculate the SMDI of the actual month. A loop is used t cover the whole series. \n",
    "\n",
    "Variables\n",
    "1. ${SMDI}_j$= soil moisture deficit index of the month j\n",
    "2. ${SMDI}_{j-1}$= SMDI at month j-1 (previous month) \n",
    "3. $SD_j$ = monthly soil deficit at month j  \n",
    "4. $SW_j$ = actual monthly soil moisture at month j.The is the soil moiture map corresponding to a certain map\n",
    "5. $MSW_j$= long-term monthly **median** available soil water at month j. There will be 12 maps, one per month.\n",
    "6. $maxSW_j$= long-term monthly **maximum** available soil water at month j. There will be 12 maps, one per month.\n",
    "7. $minSW_j$ = long-term monthly **minimum** available soil water at month j. There will be 12 maps, one per month.\n",
    "8. NOTE: $_j-1$ stands for the month previous to month j.\n",
    "\n",
    "## The sequence of the equations are:\n",
    "1. Calculate: $MSW_j$, $maxSW_j$, $minSW_j$\n",
    "2. Calculate the monthly soil deficit for the month j\n",
    "$$SD_j = (SW_j – MSW_j)/(maxSW_j – SW_j) *100,\\quad  if SWj > MSWj$$ \n",
    "$$SD_j= (SW_j – MSW_j)/(MSW_j – minSW_j)* 100,\\quad  if SW_j =< MSW_j$$ \n",
    "3. Calculate the soil moisture deficit index dor the month 1 (estimated and initial value)\n",
    "$SMDI_1 = SD_1/50$  for initial month \n",
    "4. Calculate the soil moistiure deficit index for all the other months\n",
    "$${SMDI}_j= 0.5 * {SMDI}_{j-1}+SD_j/50$$\n",
    "\n",
    "The $SMDI i a value going from -4 to 4 being the negatives indicators of drought. Persistant drought can be detected by monthly accumulation of negatives SMDI giving room to a number of analysis."
   ]
  },
  {
   "cell_type": "code",
   "execution_count": 36,
   "metadata": {},
   "outputs": [],
   "source": [
    "# get the median, min and max for all Jan's, Feb's etc.\n",
    "smClim=smdata.sm.groupby(\"time.month\")\n",
    "smMed=smClim.median()\n",
    "smMin=smClim.min()\n",
    "smMax=smClim.max()\n"
   ]
  },
  {
   "cell_type": "code",
   "execution_count": 52,
   "metadata": {},
   "outputs": [
    {
     "name": "stdout",
     "output_type": "stream",
     "text": [
      "Compute Soil moisture deficit for 12, 2016-01-01 00:00:00\r"
     ]
    }
   ],
   "source": [
    "# allocate enough data to hold the result (create an xarray.DataArray, and copy the coordinate axes lon,lat,time from the orginal dataset)\n",
    "\n",
    "#Allocate the Soil Moisture deficit index\n",
    "smdIndex = xr.DataArray(np.zeros(smdata.sm.shape),name=\"smd_indx\",dims=[\"time\",\"lat\",\"lon\"],coords={\"lon\":smdata.lon,\"lat\":smdata.lat,\"time\":smdata.time})\n",
    "\n",
    "for i,dt in enumerate(smdata.time.to_pandas()):\n",
    "    #Monthly anomaly w.r.t. long term climatological median\n",
    "    print(\"Compute Soil moisture deficit for %d, %s\"%(i,str(dt)),end='\\r')\n",
    "    dSm=smdata.sm[i,:,:]-smMed[dt.month-1,:,:]\n",
    "    smMed_m_min=smMed[dt.month-1,:,:]-smMin[dt.month-1,:,:]\n",
    "    smMax_m_med=smMax[dt.month-1,:,:]-smMed[dt.month-1,:,:]\n",
    "    smd=100*xr.where(dSm < 0,dSm/smMed_m_min,dSm/smMax_m_med)\n",
    "    #also mask results in the pixels of interest only\n",
    "    smd=masksm*smd\n",
    "    if i == 0:\n",
    "        smdIndex[i,:,:]=smd/50\n",
    "    else:\n",
    "        smdIndex[i,:,:]=0.5*smdIndex[i-1,:,:]+smd/50"
   ]
  },
  {
   "cell_type": "markdown",
   "metadata": {},
   "source": [
    "# 6. Results analysis\n"
   ]
  },
  {
   "cell_type": "markdown",
   "metadata": {},
   "source": [
    "## 6.1. Create a geographical plot at a certain time\n",
    "\n",
    "Create a geographical plot at a certain time, and at certain key locations (e.g., Turkana, Mandera, Marsabit, Garissa, Wajir, Isiolo, Tana River, Machakos, Makueni, and Kitu)"
   ]
  },
  {
   "cell_type": "code",
   "execution_count": null,
   "metadata": {},
   "outputs": [],
   "source": [
    "it=10\n",
    "epoch=smdIndex.time[it].data\n",
    "print(\"Plotting epoch %s\"%str(epoch))\n",
    "ax = plt.subplot(projection=mapproj)\n",
    "p = smdIndex.sel(time=epoch).plot(ax=ax,transform=ccrs.PlateCarree())\n",
    "p.axes.coastlines()\n",
    "p.axes.set_title(\"Soil moisture deficit index at %s\"%(str(epoch)[:10]))"
   ]
  },
  {
   "cell_type": "markdown",
   "metadata": {},
   "source": [
    "\n",
    "# 7. Questions\n",
    "1. Try creating a time plot of the monthly mean of the SMDI\n",
    "2. Identify the very dry areas by identifying a consecutive number of months of negative SMDIj.\n",
    "3. Create a plot durng the draought period at certain key locations (e.g., Turkana, Mandera, Marsabit, Garissa, Wajir, Isiolo, Tana River, Machakos, Makueni, and Kitu)\n",
    "3. Identify the year, and the months of the very dry area in Kenya.\n",
    "4. Check out the 'https://foodsecurityindex.eiu.com/Country' and determoine the Global food security index for Kenya.\n",
    "5. Check out the 'http://www.fao.org/publications/sofi/2020/en/' for Kenya and the interpret the number of undernourished people in that country."
   ]
  },
  {
   "cell_type": "code",
   "execution_count": null,
   "metadata": {},
   "outputs": [],
   "source": []
  }
 ],
 "metadata": {
  "kernelspec": {
   "display_name": "pycci",
   "language": "python",
   "name": "pycci"
  },
  "language_info": {
   "codemirror_mode": {
    "name": "ipython",
    "version": 3
   },
   "file_extension": ".py",
   "mimetype": "text/x-python",
   "name": "python",
   "nbconvert_exporter": "python",
   "pygments_lexer": "ipython3",
   "version": "3.9.6"
  }
 },
 "nbformat": 4,
 "nbformat_minor": 4
}
