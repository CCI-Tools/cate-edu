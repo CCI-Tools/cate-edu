{
 "cells": [
  {
   "cell_type": "markdown",
   "metadata": {},
   "source": [
    "<img src=\"media/Cryo+ESA_Logo_plain-50gray.svg\" alt=\"CCI Cryosphere banner\" width=\"1000\"/>\n",
    "\n",
    "# Visualing sea ice concentrations with Cate \n",
    "In this exercise you will use the cate python toolbox to visualize sea ice. After doing this exercise you'll have a good idea to see how sea ice changes over the season, and you'll understand how it cha.nges over the years. \n",
    "\n",
    "<img src=\"media/Thin_sea-ice.jpg\" alt=\"A picture of sea ice taken from a boat\" width=\"1000\"/>\n",
    "\n",
    "*Floating chunks of sea ice, [source](https://www.esa.int/var/esa/storage/images/esa_multimedia/images/2016/12/thin_sea-ice/16576336-1-eng-GB/Thin_sea-ice.jpg)*\n",
    "\n",
    "## Preparations\n",
    "If you haven't done so please follow the [Cate tutorial](futurelearn.com/tbd) to get started using the exercises.\n"
   ]
  },
  {
   "cell_type": "markdown",
   "metadata": {},
   "source": [
    "## Querying the opendata portal"
   ]
  },
  {
   "cell_type": "code",
   "execution_count": 1,
   "metadata": {},
   "outputs": [],
   "source": [
    "# To get things started we need to initialize a few things\n",
    "#Load some python modules to make them accessible to the notebook\n",
    "from cate.core.ds import DATA_STORE_POOL\n",
    "import cate.ops as ops\n",
    "from cate.util.monitor import ConsoleMonitor\n",
    "\n",
    "from xcube.util.ipython import enable_asyncio\n",
    "enable_asyncio()\n",
    "\n",
    "#temporary hack to work around (https://stackoverflow.com/questions/56154176/runtimeerror-asyncio-run-cannot-be-called-from-a-running-event-loop)\n",
    "# import nest_asyncio\n",
    "# nest_asyncio.apply()\n",
    "# end temporary hack\n",
    "\n",
    "monitor=ConsoleMonitor()"
   ]
  },
  {
   "cell_type": "code",
   "execution_count": 2,
   "metadata": {},
   "outputs": [
    {
     "data": {
      "text/plain": [
       "['cci-store', 'cci-zarr-store', 'local']"
      ]
     },
     "execution_count": 2,
     "metadata": {},
     "output_type": "execute_result"
    }
   ],
   "source": [
    "#initialize the online data store (In the background this class connects to the service at his connects to the site at https://catalogue.ceda.ac.uk)\n",
    "# data_store = DATA_STORE_REGISTRY.get_data_store('esa_cci_odp_os')\n",
    "DATA_STORE_POOL.store_instance_ids"
   ]
  },
  {
   "cell_type": "code",
   "execution_count": 3,
   "metadata": {},
   "outputs": [],
   "source": [
    "#initialize the online data store (In the background this class connects to the service at his connects to the site at https://catalogue.ceda.ac.uk)\n",
    "data_store = DATA_STORE_POOL.get_store('cci-zarr-store')"
   ]
  },
  {
   "cell_type": "code",
   "execution_count": null,
   "metadata": {},
   "outputs": [],
   "source": [
    "# To get an idea of what is available in the online data portal one can query it and loop over it's result to print some information to the screen\n",
    "#the query siconc is short for sea ice concentration\n",
    "#seaiceqry=data_store.search_data(ecv='SEAICE', data_type=\"SICONC\")\n",
    "\n",
    "from cate.core.ds import get_metadata_from_descriptor\n",
    "\n",
    "seaiceqry=data_store.search_data()\n",
    "\n",
    "for i,seaiceItem in enumerate(seaiceqry):\n",
    "    print(\"\\nDataset item %d:\\nds_id: %s\"%(i,seaiceItem.data_id))\n",
    "    seaiceItemMetadata = get_metadata_from_descriptor(seaiceItem)\n",
    "    print(seaiceItemMetadata)"
   ]
  },
  {
   "cell_type": "code",
   "execution_count": null,
   "metadata": {},
   "outputs": [],
   "source": [
    "from datetime import datetime\n",
    "# OK let's pick out a dataset:the 50 km resolution sea ice concentration dataset which has daily values\n",
    "# The [0] at the end of the command means that we take the first item of the result list (we actually only expect one item)\n",
    "#seaiceConc=data_store.query(\"esacci.SEAICE.day.L4.SICONC.multi-sensor.multi-platform.AMSR_50kmEASE2.2-1.NH\")[0]\n",
    "\n",
    "#Open the dataset for use (this may take a while so we only take one year at this stage)\n",
    "yr=2012\n",
    "trange=[datetime(yr,1,1),datetime(yr,12,31)]\n",
    "#seaiceDset=seaiceConc.open_dataset(time_range=trange)\n",
    "\n",
    "from cate.ops.io import open_dataset\n",
    "\n",
    "seaiceDset=open_dataset(ds_id=\"esacci.SEAICE.day.L4.SICONC.multi-sensor.multi-platform.AMSR_50kmEASE2.2-1.NH\",\n",
    "                        time_range=trange,\n",
    "                        normalize=False)"
   ]
  },
  {
   "cell_type": "markdown",
   "metadata": {},
   "source": [
    "## Visualize the arctic sea ice concentration on a given day"
   ]
  },
  {
   "cell_type": "code",
   "execution_count": null,
   "metadata": {},
   "outputs": [],
   "source": [
    "# Plot the sea ice concentration on a chosen day\n",
    "%matplotlib inline\n",
    "import numpy as np\n",
    "ithday=160\n",
    "print(\"plotting sea ice at %s\"%np.datetime_as_string(seaiceDset.time[2], unit='D'))\n",
    "seaiceDset.ice_conc.isel(time=ithday).plot()"
   ]
  },
  {
   "cell_type": "markdown",
   "metadata": {},
   "source": [
    "## Create an animation of the Arctic sea ice concentration"
   ]
  },
  {
   "cell_type": "code",
   "execution_count": null,
   "metadata": {},
   "outputs": [],
   "source": [
    "import matplotlib.pyplot as plt\n",
    "from matplotlib import animation,cm\n",
    "from IPython.display import HTML\n",
    "import numpy as np\n",
    "from copy import copy\n",
    "# Make sure that the initial iconcentrationmage is not shown inline in the notebook\n",
    "%matplotlib\n",
    "\n",
    "# We also want to visualize the chang over time so we create an animation with the python module matplotlib\n",
    "# You can find more information on matplotlib animations here: https://matplotlib.org/stable/api/animation_api.html\n",
    "\n",
    "ith=0\n",
    "fig, ax = plt.subplots()\n",
    "fig.set_size_inches(8,8)\n",
    "\n",
    "cmSea=copy(cm.get_cmap(\"bone\"))\n",
    "cmSea.set_bad('grey')\n",
    "im=ax.imshow(seaiceDset.ice_conc.isel(time=ith).data,cmap=cmSea)\n",
    "\n",
    "def initSeaice():\n",
    "    ax.set_title(\"Sea ice concentration %s\"%np.datetime_as_string(seaiceDset.time[ith],unit=\"D\"))    \n",
    "    return (im,)\n",
    "\n",
    "\n",
    "def animSeaIce(i):\n",
    "    print(\"Animating frame %d\"%i,end=\"\\r\")\n",
    "    ax.set_title(\"Sea ice concentration %s\"%np.datetime_as_string(seaiceDset.time[i],unit=\"D\"))\n",
    "    im.set_array(seaiceDset.ice_conc.isel(time=i).data)\n",
    "    return (im,)\n",
    "\n",
    "nframes=seaiceDset.dims[\"time\"]\n",
    "\n",
    "anim = animation.FuncAnimation(fig, animSeaIce, init_func=initSeaice,\n",
    "                               frames=nframes, interval=100, \n",
    "                               blit=True)\n",
    "\n",
    "# The to_jshtml call creates some html code and javascript which allows us to control the animation\n",
    "HTML(anim.to_jshtml())"
   ]
  },
  {
   "cell_type": "markdown",
   "metadata": {},
   "source": [
    "# Questions\n",
    "\n",
    "1. Why is there a relative small amount of sea ice between Greenland and Norway?\n",
    "2. There are certain locations where not all of the sea ice melts in summer, so called multi-year sea ice. In which locations do you expect to find this multi year sea ice?\n",
    "3. Try to search online for seasons with expectional low and high coverage of sea ice, and repeat the exercise for those years by modifying the python `yr` variable.\n",
    "4. How does the sea ice grow in the Russian Arctic? From the coast, the existing sea ice in the central Arctic, or both?"
   ]
  }
 ],
 "metadata": {
  "kernelspec": {
   "display_name": "xcube",
   "language": "python",
   "name": "xcube"
  },
  "language_info": {
   "codemirror_mode": {
    "name": "ipython",
    "version": 3
   },
   "file_extension": ".py",
   "mimetype": "text/x-python",
   "name": "python",
   "nbconvert_exporter": "python",
   "pygments_lexer": "ipython3",
   "version": "3.8.8"
  }
 },
 "nbformat": 4,
 "nbformat_minor": 4
}
