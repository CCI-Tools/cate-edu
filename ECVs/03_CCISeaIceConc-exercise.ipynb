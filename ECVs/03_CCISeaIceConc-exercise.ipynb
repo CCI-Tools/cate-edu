{
 "cells": [
  {
   "cell_type": "markdown",
   "metadata": {},
   "source": [
    "<img src=\"media/Cryo+ESA_Logo_plain-50gray.svg\" alt=\"CCI Cryosphere banner\" width=\"1000\"/>\n",
    "\n",
    "# Visualing sea ice concentrations\n",
    "In this exercise you will use the cate python toolbox to visualize sea ice. After doing this exercise you'll have a good idea to see how sea ice changes over the season, and you'll understand how it changes over the years. \n",
    "\n",
    "<img src=\"media/Thin_sea-ice.jpg\" alt=\"A picture of sea ice taken from a boat\" width=\"1000\"/>\n",
    "\n",
    "*Floating chunks of sea ice, [source](https://www.esa.int/var/esa/storage/images/esa_multimedia/images/2016/12/thin_sea-ice/16576336-1-eng-GB/Thin_sea-ice.jpg)*\n",
    "\n",
    "## Preparations\n",
    "If you haven't done so please follow the [Cate tutorial](futurelearn.com/tbd) to get started using the exercises.\n"
   ]
  },
  {
   "cell_type": "markdown",
   "metadata": {},
   "source": [
    "## Querying the opendata portal"
   ]
  },
  {
   "cell_type": "code",
   "execution_count": 1,
   "metadata": {},
   "outputs": [
    {
     "name": "stderr",
     "output_type": "stream",
     "text": [
      "/usr/lib/python3.9/site-packages/pyproj/__init__.py:78: UserWarning: Valid PROJ data directory not found. Either set the path using the environmental variable PROJ_LIB or with `pyproj.datadir.set_data_dir`.\n",
      "  warnings.warn(str(err))\n"
     ]
    }
   ],
   "source": [
    "# To get things started we need to initialize a few things\n",
    "#Load some python modules to make them accessible to the notebook\n",
    "from cate.core.ds import DATA_STORE_POOL\n",
    "import cate.ops as ops\n",
    "from cate.util.monitor import ConsoleMonitor\n",
    "from cate.ops.io import open_dataset\n",
    "\n",
    "# the following is needed to run Cate in a Jupyter Notebook\n",
    "from xcube.util.ipython import enable_asyncio\n",
    "enable_asyncio()\n",
    "\n",
    "# utilitiess3fs\n",
    "from IPython.display import display\n",
    "import numpy as np\n",
    "from datetime import datetime\n",
    "\n",
    "monitor=ConsoleMonitor()"
   ]
  },
  {
   "cell_type": "markdown",
   "metadata": {},
   "source": [
    "To begin, let us see which data stores are available in the Data Store Pool."
   ]
  },
  {
   "cell_type": "code",
   "execution_count": 2,
   "metadata": {},
   "outputs": [
    {
     "data": {
      "text/plain": [
       "['cci-store', 'cci-zarr-store', 'local']"
      ]
     },
     "execution_count": 2,
     "metadata": {},
     "output_type": "execute_result"
    }
   ],
   "source": [
    "DATA_STORE_POOL.store_instance_ids"
   ]
  },
  {
   "cell_type": "markdown",
   "metadata": {},
   "source": [
    "We see three stores. The 'cci-store' is a store that provides access to all datasets from the CCI Open Data Portal. The 'cci-zarr-store' is a store that contains selected data from the Open Data Portal, converted to the zarr format. The datasets from this store can be opened and processed faster, but the store provides only a small subset of what is offered by the 'cci-store'. The 'local' data store finally allows to access locally provided data. Also, when you select to cache data, you will find it in this store. Cached data can also be opened quickly.\n",
    "\n",
    "For starters, let us use the 'cci-store' which connects to the Open Data Portal and allows access to the datasets listed at https://catalogue.ceda.ac.uk. We can ask for the search parameters of the store to see how a search can be performed."
   ]
  },
  {
   "cell_type": "code",
   "execution_count": 3,
   "metadata": {},
   "outputs": [
    {
     "data": {
      "application/json": {
       "additionalProperties": false,
       "properties": {
        "bbox": {
         "items": [
          {
           "type": "number"
          },
          {
           "type": "number"
          },
          {
           "type": "number"
          },
          {
           "type": "number"
          }
         ],
         "type": "array"
        },
        "data_type": {
         "enum": [
          "IOP",
          "SSTdepth",
          "SEC",
          "SSTskin",
          "IV",
          "CLD_PRODUCTS",
          "AER_PRODUCTS",
          "CHLOR_A",
          "GMB",
          "LK_PRODUCTS",
          "SSS",
          "CO2",
          "NP",
          "SCFV",
          "SITHICK",
          "AEX",
          "SSMV",
          "BA",
          "SWH",
          "AAI",
          "PFR",
          "MSLTR",
          "AGB",
          "AOD",
          "CFL",
          "ALT",
          "SICONC",
          "SLA",
          "CH4",
          "OC_PRODUCTS",
          "LCCS",
          "K_490",
          "SCFG",
          "MSLA",
          "TC",
          "SWE",
          "WB",
          "GTD",
          "GLL",
          "SSMS",
          "MSL",
          "RRS",
          "MSLAMPH",
          "LP"
         ],
         "type": "string"
        },
        "ecv": {
         "enum": [
          "LAKES",
          "SEASURFACESALINITY",
          "PERMAFROST",
          "SEAICE",
          "OC",
          "SOILMOISTURE",
          "SST",
          "FIRE",
          "GHG",
          "ICESHEETS",
          "CLOUD",
          "OZONE",
          "SEALEVEL",
          "BIOMASS",
          "SNOW",
          "LC",
          "SEASTATE",
          "AEROSOL"
         ],
         "type": "string"
        },
        "end_date": {
         "format": "date-time",
         "type": "string"
        },
        "frequency": {
         "enum": [
          "10 days",
          "satellite-orbit-frequency",
          "unspecified",
          "8 days",
          "13 years",
          "month",
          "15 days",
          "day",
          "climatology",
          "year",
          "5 days"
         ],
         "type": "string"
        },
        "institute": {
         "enum": [
          "Plymouth Marine Laboratory",
          "Alfred-Wegener-Institut Helmholtz-Zentrum für Polar- und Meeresforschung",
          "ENVironmental Earth Observation IT GmbH",
          "multi-institution",
          "DTU Space",
          "Vienna University of Technology",
          "Deutscher Wetterdienst",
          "Netherlands Institute for Space Research",
          "Technische Universität Dresden",
          "Institute of Environmental Physics",
          "Rutherford Appleton Laboratory",
          "Universite Catholique de Louvain",
          "University of Alcala",
          "University of Leicester",
          "Norwegian Meteorological Institute",
          "University of Bremen",
          "Belgian Institute for Space Aeronomy",
          "Deutsches Zentrum fuer Luft- und Raumfahrt",
          "Freie Universitaet Berlin",
          "Royal Netherlands Meteorological Institute",
          "The Geological Survey of Denmark and Greenland"
         ],
         "type": "string"
        },
        "platform": {
         "enum": [
          "Metop-A",
          "ODIN",
          "NOAA-7",
          "ERS-2",
          "Jason-3",
          "Sentinel-5P",
          "Jason-1",
          "ALOS",
          "multi-platform",
          "Envisat",
          "Jason-2",
          "NOAA-19",
          "OCO-2",
          "Terra",
          "NOAA-18",
          "NOAA-17",
          "Unspecified",
          "RadarSat-2",
          "Aqua",
          "GOSAT",
          "CryoSat-2",
          "NOAA-12",
          "Topex-Poseidon",
          "NOAA-15",
          "NOAA-16",
          "NOAA-11",
          "ERS-1",
          "GFO",
          "Sentinel-1A",
          "Sentinel-2A",
          "NOAA-9",
          "GRACE",
          "NOAA-14",
          "SARAL"
         ],
         "type": "string"
        },
        "processing_level": {
         "enum": [
          "L2P",
          "L3C",
          "Unspecified",
          "L3U",
          "IND",
          "L3S",
          "L4",
          "L2",
          "L3"
         ],
         "type": "string"
        },
        "product_string": {
         "enum": [
          "Map",
          "MERGED_OI_7DAY_RUNNINGMEAN_DAILY_25km",
          "MERIS_ENVISAT",
          "NH",
          "ATSR2-AATSR",
          "ERS-2",
          "AVHRR17_G",
          "MODISLST_CRYOGRID",
          "SE_ASIA",
          "AATSR-ENVISAT-ENS_DAILY",
          "GOMOS_ENVISAT",
          "BESD",
          "AATSR-ENVISAT-ENS_ANNUAL",
          "OCPR",
          "ATSR1",
          "AVHRR_MERGED",
          "AVHRR09_G",
          "MULTI_1D",
          "AVHRR-PM",
          "SRFP",
          "SRPR",
          "WAFRICA",
          "ATSR2-ENVISAT-ENS",
          "MODIS_TERRA",
          "AVHRR-AM",
          "AATSR-ENVISAT-ENS_MONTHLY",
          "OSIRIS_ODIN",
          "ADV",
          "AVHRR07_G",
          "SU",
          "OSTIA",
          "ACTIVE",
          "GMPE",
          "Envisat",
          "NE_ATL",
          "Jason-2",
          "AMSR_50kmEASE2",
          "CryoSat-2",
          "Topex-Poseidon",
          "MIPAS_ENVISAT",
          "AERGOM",
          "ATSR2-ENVISAT-ENS_ANNUAL",
          "MSI",
          "AVHRR14_G",
          "AATSR-ENVISAT-ENS",
          "AVHRR12_G",
          "MSAAI",
          "ATSR2-ENVISAT-ENS_DAILY",
          "Jason-3",
          "AVHRR11_G",
          "AVHRR19_G",
          "ATSR2",
          "AVHRR15_G",
          "PASSIVE",
          "AVHRR18_G",
          "IMAP",
          "WFMD",
          "MZM",
          "AMSR_25kmEASE2",
          "MED_SEA",
          "MERGED",
          "MERGED_OI_Monthly_CENTRED_15Day_25km",
          "AATSR",
          "EMMA",
          "GFO",
          "AVHRRMTA_G",
          "N_INDIAN",
          "SCIAMACHY_ENVISAT",
          "VARIOUS",
          "Saral",
          "COMBINED",
          "S_AUSTRALIA",
          "ORAC",
          "Jason-1",
          "MERIS-AATSR",
          "SH50KMEASE2",
          "ATSR2-ENVISAT-ENS_MONTHLY",
          "SMR_ODIN",
          "NH25KMEASE2",
          "OCFP",
          "MULTI_1M",
          "MODIS_AQUA",
          "ERA5_MODISLST_BIASCORRECTED",
          "ERS-1",
          "AVHRR16_G",
          "UNSPECIFIED",
          "SH"
         ],
         "type": "string"
        },
        "product_version": {
         "enum": [
          "5-0",
          "v05-3",
          "v7-0",
          "v3-0",
          "2-1",
          "v1-1",
          "3-00",
          "v2-2c",
          "2-31",
          "v02-01-02",
          "04-01_seg-",
          "05-2",
          "v0001",
          "3-0",
          "04-01-",
          "v2-3-8",
          "2-2",
          "2-0-7",
          "1-1",
          "v2-6",
          "v4-0",
          "1-2",
          "v7-0-1",
          "1-0",
          "v1-2",
          "3-1",
          "1-7",
          "v06-1",
          "1-4",
          "v1-0",
          "2-0",
          "03-0",
          "4-2",
          "1-3",
          "fv0100",
          "1-5",
          "v7-2",
          "v2-2a",
          "v2-2b",
          "v08",
          "v5-1",
          "v1-3",
          "4-3",
          "ch4_v1-2",
          "4-0",
          "v2-1",
          "fv0002",
          "04-01"
         ],
         "type": "string"
        },
        "sensor": {
         "enum": [
          "PALSAR",
          "SMR",
          "TANSO-FTS",
          "SIRAL",
          "AVHRR-2",
          "GRACE-instrument",
          "OSIRIS",
          "Unspecified",
          "AMI-SAR",
          "AVHRR-3",
          "TROPOMI",
          "ATSR-2",
          "MIPAS",
          "Poseidon-3B",
          "RA",
          "AltiKa",
          "SAR-2000",
          "ASAR",
          "SCIAMACHY",
          "MODIS",
          "MSI-(Sentinel-2)",
          "RA-2",
          "GFO-RA",
          "NRA",
          "OCO",
          "GOMOS",
          "AATSR",
          "Poseidon-2",
          "Poseidon-3",
          "multi-sensor",
          "SAR-(RadarSat-2)",
          "ATSR",
          "SAR-C-(Sentinel-1)",
          "MERIS"
         ],
         "type": "string"
        },
        "start_date": {
         "format": "date-time",
         "type": "string"
        }
       },
       "type": "object"
      },
      "text/plain": [
       "<xcube.util.jsonschema.JsonObjectSchema at 0x7f4812dde490>"
      ]
     },
     "execution_count": 3,
     "metadata": {},
     "output_type": "execute_result"
    }
   ],
   "source": [
    "data_store = DATA_STORE_POOL.get_store('cci-store')\n",
    "data_store.get_search_params_schema()"
   ]
  },
  {
   "cell_type": "markdown",
   "metadata": {},
   "source": [
    "For this exercise, we are interested in Sea Ice data sets, so we ask for datasets of the essential climate variable (ecv) \"SEAICE\". Also, to further restrict our search, we look for the data type 'SICONC', as we are interested in Sea Ice Concentration. We then display the results of the query."
   ]
  },
  {
   "cell_type": "code",
   "execution_count": 4,
   "metadata": {},
   "outputs": [
    {
     "name": "stdout",
     "output_type": "stream",
     "text": [
      "\n",
      "Dataset item 0:\n",
      "ds_id: esacci.SEAICE.day.L4.SICONC.multi-sensor.multi-platform.AMSR_25kmEASE2.2-1.NH\n"
     ]
    },
    {
     "data": {
      "application/json": {
       "attrs": {
        "abstract": "The dataset provides a Climate Data Record of Sea Ice Concentration (SIC) for the polar regions, derived from medium resolution passive microwave satellite data from the Advanced Microwave Scanning Radiometer series (AMSR-E and AMSR-2).  It is processed with an algorithm using medium resolution (19 GHz and 37 GHz) imaging channels, and has been gridded at 25km grid spacing.   This version of the product is v2.1, which is an extension of the v2.0 Sea_Ice_cci data and has identical data until 2015-12-25.\n\nThis product was generated in the context of the ESA Climate Change Initiative Programme (ESA CCI) by the Sea Ice CCI (Sea_Ice_cci) project. The EUMETSAT OSI SAF contributed with access and re-use of part of its processing software and facilities.\n\nA SIC CDR at 50 km grid spacing is also available.",
        "catalog_url": "https://catalogue.ceda.ac.uk/uuid/f17f146a31b14dfd960cde0874236ee5",
        "cci_project": "SEAICE",
        "data_type": "SICONC",
        "ecv": "SEAICE",
        "history": "2017-02-14T15:40:40Z creation",
        "institute": "Norwegian Meteorological Institute",
        "licences": "Use of these data is covered by the following licence: http://licences.ceda.ac.uk/image/data_access_condition/esacci_seaice_terms_and_conditions.pdf . When using these data you must cite them correctly using the citation given on the CEDA Data Catalogue record.",
        "platform_id": "multi-platform",
        "processing_level": "L4",
        "product_string": "AMSR_25kmEASE2",
        "product_version": "2-1",
        "project": "Climate Change Initiative - European Space Agency",
        "publication_date": "2017-10-06T11:09:00",
        "references": "Product User Guide DX.X Issue X.X,Algorithm Theoretical Basis Document v3 DX.X Issue X.X,http://www.esa-seaice-cci.org,http://www.esa-cci.org",
        "sensor_id": "multi-sensor",
        "source": "FCDR of AMSR-E Brightness Temperatures V3 (doi: 10.5067/AMSR-E/AE_L2A.003), AMSR2 L1R data from JAXA,ERA-Interim fields from ECMWF (doi: 10.1002/qj.828)",
        "title": "ESA Sea Ice Climate Change Initiative (Sea_Ice_cci):  Sea Ice Concentration Climate Data Record from the AMSR-E and AMSR-2 instruments at 25km grid spacing, version 2.1",
        "uuid": "f17f146a31b14dfd960cde0874236ee5"
       },
       "bbox": [
        -180,
        -90,
        180,
        90
       ],
       "coords": {
        "Lambert_Azimuthal_Grid": {
         "attrs": {
          "data_type": "int64",
          "dimensions": [],
          "false_easting": 0,
          "false_northing": 0,
          "file_dimensions": [],
          "fill_value": 9223372036854776000,
          "grid_mapping_name": "lambert_azimuthal_equal_area",
          "inverse_flattening": 298.257223563,
          "latitude_of_projection_origin": 90,
          "longitude_of_projection_origin": 0,
          "orig_data_type": "int32",
          "proj4_string": "+proj=laea +lon_0=0 +datum=WGS84 +ellps=WGS84 +lat_0=90.0",
          "semi_major_axis": 6378137,
          "shape": [],
          "size": 1
         },
         "dims": [],
         "dtype": "int64",
         "name": "Lambert_Azimuthal_Grid"
        },
        "time": {
         "attrs": {
          "axis": "T",
          "bounds": "time_bnds",
          "calendar": "standard",
          "chunk_sizes": 524288,
          "data_type": "float64",
          "dimensions": [
           "time"
          ],
          "file_chunk_sizes": 524288,
          "file_dimensions": [
           "time"
          ],
          "fill_value": null,
          "long_name": "reference time of product",
          "orig_data_type": "float64",
          "shape": [
           1
          ],
          "size": 1,
          "standard_name": "time",
          "units": "seconds since 1978-01-01 00:00:00"
         },
         "dims": [
          "time"
         ],
         "dtype": "float64",
         "name": "time"
        },
        "time_bnds": {
         "attrs": {
          "chunk_sizes": [
           1,
           2
          ],
          "data_type": "float64",
          "dimensions": [
           "time",
           "nv"
          ],
          "file_chunk_sizes": [
           1,
           2
          ],
          "file_dimensions": [
           "time",
           "nv"
          ],
          "fill_value": null,
          "orig_data_type": "float64",
          "shape": [
           1,
           2
          ],
          "size": 2,
          "units": "seconds since 1978-01-01 00:00:00"
         },
         "dims": [
          "time",
          "nv"
         ],
         "dtype": "float64",
         "name": "time_bnds"
        },
        "xc": {
         "attrs": {
          "data_type": "float64",
          "dimensions": [
           "xc"
          ],
          "file_dimensions": [
           "xc"
          ],
          "fill_value": null,
          "long_name": "x coordinate of projection (eastings)",
          "orig_data_type": "float64",
          "shape": [
           432
          ],
          "size": 432,
          "standard_name": "projection_x_coordinate",
          "units": "km"
         },
         "dims": [
          "xc"
         ],
         "dtype": "float64",
         "name": "xc"
        },
        "yc": {
         "attrs": {
          "data_type": "float64",
          "dimensions": [
           "yc"
          ],
          "file_dimensions": [
           "yc"
          ],
          "fill_value": null,
          "long_name": "y coordinate of projection (northings)",
          "orig_data_type": "float64",
          "shape": [
           432
          ],
          "size": 432,
          "standard_name": "projection_y_coordinate",
          "units": "km"
         },
         "dims": [
          "yc"
         ],
         "dtype": "float64",
         "name": "yc"
        }
       },
       "data_id": "esacci.SEAICE.day.L4.SICONC.multi-sensor.multi-platform.AMSR_25kmEASE2.2-1.NH",
       "data_vars": {
        "algorithm_standard_error": {
         "attrs": {
          "chunk_sizes": [
           1,
           432,
           432
          ],
          "comment": "this is one of the two components contributing to 'total_standard_error'",
          "coordinates": "time lat lon",
          "data_type": "int32",
          "dimensions": [
           "time",
           "yc",
           "xc"
          ],
          "file_chunk_sizes": [
           1,
           432,
           432
          ],
          "file_dimensions": [
           "time",
           "yc",
           "xc"
          ],
          "fill_value": -32767,
          "grid_mapping": "Lambert_Azimuthal_Grid",
          "long_name": "algorithm uncertainty (one standard deviation) of concentration of sea ice",
          "orig_data_type": "int32",
          "scale_factor": 0.01,
          "shape": [
           1,
           432,
           432
          ],
          "size": 186624,
          "units": "%"
         },
         "dims": [
          "time",
          "yc",
          "xc"
         ],
         "dtype": "int32",
         "name": "algorithm_standard_error"
        },
        "ice_conc": {
         "attrs": {
          "ancillary_variables": "total_standard_error status_flag",
          "chunk_sizes": [
           1,
           432,
           432
          ],
          "comment": "this field is the primary sea ice concentration estimate for this climate data record",
          "coordinates": "time lat lon",
          "data_type": "int32",
          "dimensions": [
           "time",
           "yc",
           "xc"
          ],
          "file_chunk_sizes": [
           1,
           432,
           432
          ],
          "file_dimensions": [
           "time",
           "yc",
           "xc"
          ],
          "fill_value": -32767,
          "grid_mapping": "Lambert_Azimuthal_Grid",
          "long_name": "fully filtered concentration of sea ice using atmospheric correction of brightness temperatures and open water filters",
          "orig_data_type": "int32",
          "scale_factor": 0.01,
          "shape": [
           1,
           432,
           432
          ],
          "size": 186624,
          "standard_name": "sea_ice_area_fraction",
          "units": "%",
          "valid_max": 10000,
          "valid_min": 0
         },
         "dims": [
          "time",
          "yc",
          "xc"
         ],
         "dtype": "int32",
         "name": "ice_conc"
        },
        "lat": {
         "attrs": {
          "data_type": "float32",
          "dimensions": [
           "yc",
           "xc"
          ],
          "file_dimensions": [
           "yc",
           "xc"
          ],
          "fill_value": null,
          "long_name": "latitude coordinate",
          "orig_data_type": "float32",
          "shape": [
           432,
           432
          ],
          "size": 186624,
          "standard_name": "latitude",
          "units": "degrees_north"
         },
         "dims": [
          "time",
          "yc",
          "xc"
         ],
         "dtype": "float32",
         "name": "lat"
        },
        "lon": {
         "attrs": {
          "data_type": "float32",
          "dimensions": [
           "yc",
           "xc"
          ],
          "file_dimensions": [
           "yc",
           "xc"
          ],
          "fill_value": null,
          "long_name": "longitude coordinate",
          "orig_data_type": "float32",
          "shape": [
           432,
           432
          ],
          "size": 186624,
          "standard_name": "longitude",
          "units": "degrees_east"
         },
         "dims": [
          "time",
          "yc",
          "xc"
         ],
         "dtype": "float32",
         "name": "lon"
        },
        "raw_ice_conc_values": {
         "attrs": {
          "chunk_sizes": [
           1,
           432,
           432
          ],
          "comment": "this field can be used in combination with 'ice_conc' to access un-bounded normal distribution of sea ice concentration estimates corresponding to the uncertainty estimate in 'total_standard_error'. It does also feature some amount of un-physical data (below 0% and above 100%).",
          "coordinates": "time lat lon",
          "data_type": "int32",
          "dimensions": [
           "time",
           "yc",
           "xc"
          ],
          "file_chunk_sizes": [
           1,
           432,
           432
          ],
          "file_dimensions": [
           "time",
           "yc",
           "xc"
          ],
          "fill_value": -32767,
          "grid_mapping": "Lambert_Azimuthal_Grid",
          "long_name": "sea ice concentration estimates as retrieved by the algorithm, and that were edited away by the various filters",
          "orig_data_type": "int32",
          "scale_factor": 0.01,
          "shape": [
           1,
           432,
           432
          ],
          "size": 186624,
          "units": "%"
         },
         "dims": [
          "time",
          "yc",
          "xc"
         ],
         "dtype": "int32",
         "name": "raw_ice_conc_values"
        },
        "smearing_standard_error": {
         "attrs": {
          "chunk_sizes": [
           1,
           432,
           432
          ],
          "comment": "this is one of the two components contributing to 'total_standard_error'",
          "coordinates": "time lat lon",
          "data_type": "int32",
          "dimensions": [
           "time",
           "yc",
           "xc"
          ],
          "file_chunk_sizes": [
           1,
           432,
           432
          ],
          "file_dimensions": [
           "time",
           "yc",
           "xc"
          ],
          "fill_value": -32767,
          "grid_mapping": "Lambert_Azimuthal_Grid",
          "long_name": "smearing uncertainty (one standard deviation) of concentration of sea ice",
          "orig_data_type": "int32",
          "scale_factor": 0.01,
          "shape": [
           1,
           432,
           432
          ],
          "size": 186624,
          "units": "%"
         },
         "dims": [
          "time",
          "yc",
          "xc"
         ],
         "dtype": "int32",
         "name": "smearing_standard_error"
        },
        "status_flag": {
         "attrs": {
          "chunk_sizes": [
           1,
           432,
           432
          ],
          "comment": "Flag values found in the map might be combinations of those listed above. For example flag value 80 (= 2^4 + 2^6 = 16 + 64) indicates high_t2m AND temporal_interp",
          "coordinates": "time lat lon",
          "data_type": "int16",
          "dimensions": [
           "time",
           "yc",
           "xc"
          ],
          "file_chunk_sizes": [
           1,
           432,
           432
          ],
          "file_dimensions": [
           "time",
           "yc",
           "xc"
          ],
          "fill_value": -32768,
          "flag_descriptions": "\nall bits to 0 (flag 0): Nominal retrieval by the SIC algorithm\nbit 1 (flag 1): Position is over land\nbit 2 (flag 2): Position is lake\nbit 3 (flag 4): SIC is set to zero by the open water filter\nbit 4 (flag 8): SIC value is changed for correcting land spill-over effects\nbit 5 (flag 16): Handle with caution, the 2m air temperature is high at this position, and this might be false ice\nbit 6 (flag 32): Value is the result of spatial interpolation\nbit 7 (flag 64): Value is the result of temporal interpolation\nbit 8 (flag 128): SIC is set to zero since position is outside maximum sea ice climatology.",
          "flag_masks": [
           1,
           2,
           4,
           8,
           16,
           32,
           64,
           128
          ],
          "flag_meanings": "land lake open_water_filtered land_spill_over high_t2m spatial_interp temporal_interp max_ice_climo",
          "grid_mapping": "Lambert_Azimuthal_Grid",
          "long_name": "status flag bit array for sea ice concentration retrievals",
          "orig_data_type": "int16",
          "shape": [
           1,
           432,
           432
          ],
          "size": 186624,
          "standard_name": "sea_ice_area_fraction status_flag",
          "valid_max": 32767,
          "valid_min": 0
         },
         "dims": [
          "time",
          "yc",
          "xc"
         ],
         "dtype": "int16",
         "name": "status_flag"
        },
        "total_standard_error": {
         "attrs": {
          "chunk_sizes": [
           1,
           432,
           432
          ],
          "coordinates": "time lat lon",
          "data_type": "int32",
          "dimensions": [
           "time",
           "yc",
           "xc"
          ],
          "file_chunk_sizes": [
           1,
           432,
           432
          ],
          "file_dimensions": [
           "time",
           "yc",
           "xc"
          ],
          "fill_value": -32767,
          "grid_mapping": "Lambert_Azimuthal_Grid",
          "long_name": "total uncertainty (one standard deviation) of concentration of sea ice",
          "orig_data_type": "int32",
          "scale_factor": 0.01,
          "shape": [
           1,
           432,
           432
          ],
          "size": 186624,
          "standard_name": "sea_ice_area_fraction standard_error",
          "units": "%"
         },
         "dims": [
          "time",
          "yc",
          "xc"
         ],
         "dtype": "int32",
         "name": "total_standard_error"
        }
       },
       "dims": {
        "nv": 2,
        "time": 5138,
        "xc": 432,
        "yc": 432
       },
       "open_params_schema": {
        "additionalProperties": false,
        "properties": {
         "time_range": {
          "items": [
           {
            "format": "date",
            "maxDate": "2017-05-15",
            "minDate": "2002-05-31",
            "type": "string"
           },
           {
            "format": "date",
            "maxDate": "2017-05-15",
            "minDate": "2002-05-31",
            "type": "string"
           }
          ],
          "type": "array"
         },
         "variable_names": {
          "items": {
           "enum": [
            "lat",
            "lon",
            "ice_conc",
            "raw_ice_conc_values",
            "total_standard_error",
            "smearing_standard_error",
            "algorithm_standard_error",
            "status_flag"
           ],
           "type": "string"
          },
          "type": "array"
         }
        },
        "type": "object"
       },
       "spatial_res": 25,
       "time_period": "1D",
       "time_range": [
        "2002-05-31",
        "2017-05-15"
       ],
       "type_specifier": "dataset"
      },
      "text/plain": [
       "<xcube.core.store.descriptor.DatasetDescriptor at 0x7f4812443700>"
      ]
     },
     "metadata": {},
     "output_type": "display_data"
    },
    {
     "name": "stdout",
     "output_type": "stream",
     "text": [
      "\n",
      "Dataset item 1:\n",
      "ds_id: esacci.SEAICE.day.L4.SICONC.multi-sensor.multi-platform.AMSR_25kmEASE2.2-1.SH\n"
     ]
    },
    {
     "data": {
      "application/json": {
       "attrs": {
        "abstract": "The dataset provides a Climate Data Record of Sea Ice Concentration (SIC) for the polar regions, derived from medium resolution passive microwave satellite data from the Advanced Microwave Scanning Radiometer series (AMSR-E and AMSR-2).  It is processed with an algorithm using medium resolution (19 GHz and 37 GHz) imaging channels, and has been gridded at 25km grid spacing.   This version of the product is v2.1, which is an extension of the v2.0 Sea_Ice_cci data and has identical data until 2015-12-25.\n\nThis product was generated in the context of the ESA Climate Change Initiative Programme (ESA CCI) by the Sea Ice CCI (Sea_Ice_cci) project. The EUMETSAT OSI SAF contributed with access and re-use of part of its processing software and facilities.\n\nA SIC CDR at 50 km grid spacing is also available.",
        "catalog_url": "https://catalogue.ceda.ac.uk/uuid/f17f146a31b14dfd960cde0874236ee5",
        "cci_project": "SEAICE",
        "data_type": "SICONC",
        "ecv": "SEAICE",
        "history": "2017-02-14T16:01:54Z creation",
        "institute": "Norwegian Meteorological Institute",
        "licences": "Use of these data is covered by the following licence: http://licences.ceda.ac.uk/image/data_access_condition/esacci_seaice_terms_and_conditions.pdf . When using these data you must cite them correctly using the citation given on the CEDA Data Catalogue record.",
        "platform_id": "multi-platform",
        "processing_level": "L4",
        "product_string": "AMSR_25kmEASE2",
        "product_version": "2-1",
        "project": "Climate Change Initiative - European Space Agency",
        "publication_date": "2017-10-06T11:09:00",
        "references": "Product User Guide DX.X Issue X.X,Algorithm Theoretical Basis Document v3 DX.X Issue X.X,http://www.esa-seaice-cci.org,http://www.esa-cci.org",
        "sensor_id": "multi-sensor",
        "source": "FCDR of AMSR-E Brightness Temperatures V3 (doi: 10.5067/AMSR-E/AE_L2A.003), AMSR2 L1R data from JAXA,ERA-Interim fields from ECMWF (doi: 10.1002/qj.828)",
        "title": "ESA Sea Ice Climate Change Initiative (Sea_Ice_cci):  Sea Ice Concentration Climate Data Record from the AMSR-E and AMSR-2 instruments at 25km grid spacing, version 2.1",
        "uuid": "f17f146a31b14dfd960cde0874236ee5"
       },
       "bbox": [
        -180,
        -90,
        180,
        90
       ],
       "coords": {
        "Lambert_Azimuthal_Grid": {
         "attrs": {
          "data_type": "int64",
          "dimensions": [],
          "false_easting": 0,
          "false_northing": 0,
          "file_dimensions": [],
          "fill_value": 9223372036854776000,
          "grid_mapping_name": "lambert_azimuthal_equal_area",
          "inverse_flattening": 298.257223563,
          "latitude_of_projection_origin": -90,
          "longitude_of_projection_origin": 0,
          "orig_data_type": "int32",
          "proj4_string": "+proj=laea +lon_0=0 +datum=WGS84 +ellps=WGS84 +lat_0=-90.0",
          "semi_major_axis": 6378137,
          "shape": [],
          "size": 1
         },
         "dims": [],
         "dtype": "int64",
         "name": "Lambert_Azimuthal_Grid"
        },
        "time": {
         "attrs": {
          "axis": "T",
          "bounds": "time_bnds",
          "calendar": "standard",
          "chunk_sizes": 524288,
          "data_type": "float64",
          "dimensions": [
           "time"
          ],
          "file_chunk_sizes": 524288,
          "file_dimensions": [
           "time"
          ],
          "fill_value": null,
          "long_name": "reference time of product",
          "orig_data_type": "float64",
          "shape": [
           1
          ],
          "size": 1,
          "standard_name": "time",
          "units": "seconds since 1978-01-01 00:00:00"
         },
         "dims": [
          "time"
         ],
         "dtype": "float64",
         "name": "time"
        },
        "time_bnds": {
         "attrs": {
          "chunk_sizes": [
           1,
           2
          ],
          "data_type": "float64",
          "dimensions": [
           "time",
           "nv"
          ],
          "file_chunk_sizes": [
           1,
           2
          ],
          "file_dimensions": [
           "time",
           "nv"
          ],
          "fill_value": null,
          "orig_data_type": "float64",
          "shape": [
           1,
           2
          ],
          "size": 2,
          "units": "seconds since 1978-01-01 00:00:00"
         },
         "dims": [
          "time",
          "nv"
         ],
         "dtype": "float64",
         "name": "time_bnds"
        },
        "xc": {
         "attrs": {
          "data_type": "float64",
          "dimensions": [
           "xc"
          ],
          "file_dimensions": [
           "xc"
          ],
          "fill_value": null,
          "long_name": "x coordinate of projection (eastings)",
          "orig_data_type": "float64",
          "shape": [
           432
          ],
          "size": 432,
          "standard_name": "projection_x_coordinate",
          "units": "km"
         },
         "dims": [
          "xc"
         ],
         "dtype": "float64",
         "name": "xc"
        },
        "yc": {
         "attrs": {
          "data_type": "float64",
          "dimensions": [
           "yc"
          ],
          "file_dimensions": [
           "yc"
          ],
          "fill_value": null,
          "long_name": "y coordinate of projection (northings)",
          "orig_data_type": "float64",
          "shape": [
           432
          ],
          "size": 432,
          "standard_name": "projection_y_coordinate",
          "units": "km"
         },
         "dims": [
          "yc"
         ],
         "dtype": "float64",
         "name": "yc"
        }
       },
       "data_id": "esacci.SEAICE.day.L4.SICONC.multi-sensor.multi-platform.AMSR_25kmEASE2.2-1.SH",
       "data_vars": {
        "algorithm_standard_error": {
         "attrs": {
          "chunk_sizes": [
           1,
           432,
           432
          ],
          "comment": "this is one of the two components contributing to 'total_standard_error'",
          "coordinates": "time lat lon",
          "data_type": "int32",
          "dimensions": [
           "time",
           "yc",
           "xc"
          ],
          "file_chunk_sizes": [
           1,
           432,
           432
          ],
          "file_dimensions": [
           "time",
           "yc",
           "xc"
          ],
          "fill_value": -32767,
          "grid_mapping": "Lambert_Azimuthal_Grid",
          "long_name": "algorithm uncertainty (one standard deviation) of concentration of sea ice",
          "orig_data_type": "int32",
          "scale_factor": 0.01,
          "shape": [
           1,
           432,
           432
          ],
          "size": 186624,
          "units": "%"
         },
         "dims": [
          "time",
          "yc",
          "xc"
         ],
         "dtype": "int32",
         "name": "algorithm_standard_error"
        },
        "ice_conc": {
         "attrs": {
          "ancillary_variables": "total_standard_error status_flag",
          "chunk_sizes": [
           1,
           432,
           432
          ],
          "comment": "this field is the primary sea ice concentration estimate for this climate data record",
          "coordinates": "time lat lon",
          "data_type": "int32",
          "dimensions": [
           "time",
           "yc",
           "xc"
          ],
          "file_chunk_sizes": [
           1,
           432,
           432
          ],
          "file_dimensions": [
           "time",
           "yc",
           "xc"
          ],
          "fill_value": -32767,
          "grid_mapping": "Lambert_Azimuthal_Grid",
          "long_name": "fully filtered concentration of sea ice using atmospheric correction of brightness temperatures and open water filters",
          "orig_data_type": "int32",
          "scale_factor": 0.01,
          "shape": [
           1,
           432,
           432
          ],
          "size": 186624,
          "standard_name": "sea_ice_area_fraction",
          "units": "%",
          "valid_max": 10000,
          "valid_min": 0
         },
         "dims": [
          "time",
          "yc",
          "xc"
         ],
         "dtype": "int32",
         "name": "ice_conc"
        },
        "lat": {
         "attrs": {
          "data_type": "float32",
          "dimensions": [
           "yc",
           "xc"
          ],
          "file_dimensions": [
           "yc",
           "xc"
          ],
          "fill_value": null,
          "long_name": "latitude coordinate",
          "orig_data_type": "float32",
          "shape": [
           432,
           432
          ],
          "size": 186624,
          "standard_name": "latitude",
          "units": "degrees_north"
         },
         "dims": [
          "time",
          "yc",
          "xc"
         ],
         "dtype": "float32",
         "name": "lat"
        },
        "lon": {
         "attrs": {
          "data_type": "float32",
          "dimensions": [
           "yc",
           "xc"
          ],
          "file_dimensions": [
           "yc",
           "xc"
          ],
          "fill_value": null,
          "long_name": "longitude coordinate",
          "orig_data_type": "float32",
          "shape": [
           432,
           432
          ],
          "size": 186624,
          "standard_name": "longitude",
          "units": "degrees_east"
         },
         "dims": [
          "time",
          "yc",
          "xc"
         ],
         "dtype": "float32",
         "name": "lon"
        },
        "raw_ice_conc_values": {
         "attrs": {
          "chunk_sizes": [
           1,
           432,
           432
          ],
          "comment": "this field can be used in combination with 'ice_conc' to access un-bounded normal distribution of sea ice concentration estimates corresponding to the uncertainty estimate in 'total_standard_error'. It does also feature some amount of un-physical data (below 0% and above 100%).",
          "coordinates": "time lat lon",
          "data_type": "int32",
          "dimensions": [
           "time",
           "yc",
           "xc"
          ],
          "file_chunk_sizes": [
           1,
           432,
           432
          ],
          "file_dimensions": [
           "time",
           "yc",
           "xc"
          ],
          "fill_value": -32767,
          "grid_mapping": "Lambert_Azimuthal_Grid",
          "long_name": "sea ice concentration estimates as retrieved by the algorithm, and that were edited away by the various filters",
          "orig_data_type": "int32",
          "scale_factor": 0.01,
          "shape": [
           1,
           432,
           432
          ],
          "size": 186624,
          "units": "%"
         },
         "dims": [
          "time",
          "yc",
          "xc"
         ],
         "dtype": "int32",
         "name": "raw_ice_conc_values"
        },
        "smearing_standard_error": {
         "attrs": {
          "chunk_sizes": [
           1,
           432,
           432
          ],
          "comment": "this is one of the two components contributing to 'total_standard_error'",
          "coordinates": "time lat lon",
          "data_type": "int32",
          "dimensions": [
           "time",
           "yc",
           "xc"
          ],
          "file_chunk_sizes": [
           1,
           432,
           432
          ],
          "file_dimensions": [
           "time",
           "yc",
           "xc"
          ],
          "fill_value": -32767,
          "grid_mapping": "Lambert_Azimuthal_Grid",
          "long_name": "smearing uncertainty (one standard deviation) of concentration of sea ice",
          "orig_data_type": "int32",
          "scale_factor": 0.01,
          "shape": [
           1,
           432,
           432
          ],
          "size": 186624,
          "units": "%"
         },
         "dims": [
          "time",
          "yc",
          "xc"
         ],
         "dtype": "int32",
         "name": "smearing_standard_error"
        },
        "status_flag": {
         "attrs": {
          "chunk_sizes": [
           1,
           432,
           432
          ],
          "comment": "Flag values found in the map might be combinations of those listed above. For example flag value 80 (= 2^4 + 2^6 = 16 + 64) indicates high_t2m AND temporal_interp",
          "coordinates": "time lat lon",
          "data_type": "int16",
          "dimensions": [
           "time",
           "yc",
           "xc"
          ],
          "file_chunk_sizes": [
           1,
           432,
           432
          ],
          "file_dimensions": [
           "time",
           "yc",
           "xc"
          ],
          "fill_value": -32768,
          "flag_descriptions": "\nall bits to 0 (flag 0): Nominal retrieval by the SIC algorithm\nbit 1 (flag 1): Position is over land\nbit 2 (flag 2): Position is lake\nbit 3 (flag 4): SIC is set to zero by the open water filter\nbit 4 (flag 8): SIC value is changed for correcting land spill-over effects\nbit 5 (flag 16): Handle with caution, the 2m air temperature is high at this position, and this might be false ice\nbit 6 (flag 32): Value is the result of spatial interpolation\nbit 7 (flag 64): Value is the result of temporal interpolation\nbit 8 (flag 128): SIC is set to zero since position is outside maximum sea ice climatology.",
          "flag_masks": [
           1,
           2,
           4,
           8,
           16,
           32,
           64,
           128
          ],
          "flag_meanings": "land lake open_water_filtered land_spill_over high_t2m spatial_interp temporal_interp max_ice_climo",
          "grid_mapping": "Lambert_Azimuthal_Grid",
          "long_name": "status flag bit array for sea ice concentration retrievals",
          "orig_data_type": "int16",
          "shape": [
           1,
           432,
           432
          ],
          "size": 186624,
          "standard_name": "sea_ice_area_fraction status_flag",
          "valid_max": 32767,
          "valid_min": 0
         },
         "dims": [
          "time",
          "yc",
          "xc"
         ],
         "dtype": "int16",
         "name": "status_flag"
        },
        "total_standard_error": {
         "attrs": {
          "chunk_sizes": [
           1,
           432,
           432
          ],
          "coordinates": "time lat lon",
          "data_type": "int32",
          "dimensions": [
           "time",
           "yc",
           "xc"
          ],
          "file_chunk_sizes": [
           1,
           432,
           432
          ],
          "file_dimensions": [
           "time",
           "yc",
           "xc"
          ],
          "fill_value": -32767,
          "grid_mapping": "Lambert_Azimuthal_Grid",
          "long_name": "total uncertainty (one standard deviation) of concentration of sea ice",
          "orig_data_type": "int32",
          "scale_factor": 0.01,
          "shape": [
           1,
           432,
           432
          ],
          "size": 186624,
          "standard_name": "sea_ice_area_fraction standard_error",
          "units": "%"
         },
         "dims": [
          "time",
          "yc",
          "xc"
         ],
         "dtype": "int32",
         "name": "total_standard_error"
        }
       },
       "dims": {
        "nv": 2,
        "time": 5138,
        "xc": 432,
        "yc": 432
       },
       "open_params_schema": {
        "additionalProperties": false,
        "properties": {
         "time_range": {
          "items": [
           {
            "format": "date",
            "maxDate": "2017-05-15",
            "minDate": "2002-05-31",
            "type": "string"
           },
           {
            "format": "date",
            "maxDate": "2017-05-15",
            "minDate": "2002-05-31",
            "type": "string"
           }
          ],
          "type": "array"
         },
         "variable_names": {
          "items": {
           "enum": [
            "lat",
            "lon",
            "ice_conc",
            "raw_ice_conc_values",
            "total_standard_error",
            "smearing_standard_error",
            "algorithm_standard_error",
            "status_flag"
           ],
           "type": "string"
          },
          "type": "array"
         }
        },
        "type": "object"
       },
       "spatial_res": 25,
       "time_period": "1D",
       "time_range": [
        "2002-05-31",
        "2017-05-15"
       ],
       "type_specifier": "dataset"
      },
      "text/plain": [
       "<xcube.core.store.descriptor.DatasetDescriptor at 0x7f4812406520>"
      ]
     },
     "metadata": {},
     "output_type": "display_data"
    },
    {
     "name": "stdout",
     "output_type": "stream",
     "text": [
      "\n",
      "Dataset item 2:\n",
      "ds_id: esacci.SEAICE.day.L4.SICONC.multi-sensor.multi-platform.AMSR_50kmEASE2.2-1.NH\n"
     ]
    },
    {
     "data": {
      "application/json": {
       "attrs": {
        "abstract": "The dataset provides a Climate Data Record of Sea Ice Concentration (SIC) for the polar regions, derived from medium resolution passive microwave satellite data from the Advanced Microwave Scanning Radiometer series (AMSR-E and AMSR-2).  It is processed with an algorithm using coarse resolution (6 GHz and 37 GHz) imaging channels, and has been gridded at 50km grid spacing. This version of the product is v2.1, which is an extension of the version 2.0 Sea_Ice_cci dataset and has identical data until 2015-12-25.\n\nThis product was generated in the context of the ESA Climate Change Initiative Programme (ESA CCI) by the Sea_Ice_CCI project. The EUMETSAT OSI SAF contributed with access and re-use of part of its processing software and facilities.\n\nA SIC CDR at 25km grid spacing is also available.",
        "catalog_url": "https://catalogue.ceda.ac.uk/uuid/5f75fcb0c58740d99b07953797bc041e",
        "cci_project": "SEAICE",
        "data_type": "SICONC",
        "ecv": "SEAICE",
        "history": "2017-02-14T15:04:07Z creation",
        "institute": "Norwegian Meteorological Institute",
        "licences": "Use of these data is covered by the following licence: http://licences.ceda.ac.uk/image/data_access_condition/esacci_seaice_terms_and_conditions.pdf . When using these data you must cite them correctly using the citation given on the CEDA Data Catalogue record.",
        "platform_id": "multi-platform",
        "processing_level": "L4",
        "product_string": "AMSR_50kmEASE2",
        "product_version": "2-1",
        "project": "Climate Change Initiative - European Space Agency",
        "publication_date": "2017-10-06T11:09:54",
        "references": "Product User Guide DX.X Issue X.X,Algorithm Theoretical Basis Document v3 DX.X Issue X.X,http://www.esa-seaice-cci.org,http://www.esa-cci.org",
        "sensor_id": "multi-sensor",
        "source": "FCDR of AMSR-E Brightness Temperatures V3 (doi: 10.5067/AMSR-E/AE_L2A.003), AMSR2 L1R data from JAXA,ERA-Interim fields from ECMWF (doi: 10.1002/qj.828)",
        "title": "ESA Sea Ice Climate Change Initiative (Sea_Ice_cci):  Sea Ice Concentration Climate Data Record from the AMSR-E and AMSR-2 instruments at 50km grid spacing, version 2.1",
        "uuid": "5f75fcb0c58740d99b07953797bc041e"
       },
       "bbox": [
        -180,
        -90,
        180,
        90
       ],
       "coords": {
        "Lambert_Azimuthal_Grid": {
         "attrs": {
          "data_type": "int64",
          "dimensions": [],
          "false_easting": 0,
          "false_northing": 0,
          "file_dimensions": [],
          "fill_value": 9223372036854776000,
          "grid_mapping_name": "lambert_azimuthal_equal_area",
          "inverse_flattening": 298.257223563,
          "latitude_of_projection_origin": 90,
          "longitude_of_projection_origin": 0,
          "orig_data_type": "int32",
          "proj4_string": "+proj=laea +lon_0=0 +datum=WGS84 +ellps=WGS84 +lat_0=90.0",
          "semi_major_axis": 6378137,
          "shape": [],
          "size": 1
         },
         "dims": [],
         "dtype": "int64",
         "name": "Lambert_Azimuthal_Grid"
        },
        "time": {
         "attrs": {
          "axis": "T",
          "bounds": "time_bnds",
          "calendar": "standard",
          "chunk_sizes": 524288,
          "data_type": "float64",
          "dimensions": [
           "time"
          ],
          "file_chunk_sizes": 524288,
          "file_dimensions": [
           "time"
          ],
          "fill_value": null,
          "long_name": "reference time of product",
          "orig_data_type": "float64",
          "shape": [
           1
          ],
          "size": 1,
          "standard_name": "time",
          "units": "seconds since 1978-01-01 00:00:00"
         },
         "dims": [
          "time"
         ],
         "dtype": "float64",
         "name": "time"
        },
        "time_bnds": {
         "attrs": {
          "chunk_sizes": [
           1,
           2
          ],
          "data_type": "float64",
          "dimensions": [
           "time",
           "nv"
          ],
          "file_chunk_sizes": [
           1,
           2
          ],
          "file_dimensions": [
           "time",
           "nv"
          ],
          "fill_value": null,
          "orig_data_type": "float64",
          "shape": [
           1,
           2
          ],
          "size": 2,
          "units": "seconds since 1978-01-01 00:00:00"
         },
         "dims": [
          "time",
          "nv"
         ],
         "dtype": "float64",
         "name": "time_bnds"
        },
        "xc": {
         "attrs": {
          "data_type": "float64",
          "dimensions": [
           "xc"
          ],
          "file_dimensions": [
           "xc"
          ],
          "fill_value": null,
          "long_name": "x coordinate of projection (eastings)",
          "orig_data_type": "float64",
          "shape": [
           216
          ],
          "size": 216,
          "standard_name": "projection_x_coordinate",
          "units": "km"
         },
         "dims": [
          "xc"
         ],
         "dtype": "float64",
         "name": "xc"
        },
        "yc": {
         "attrs": {
          "data_type": "float64",
          "dimensions": [
           "yc"
          ],
          "file_dimensions": [
           "yc"
          ],
          "fill_value": null,
          "long_name": "y coordinate of projection (northings)",
          "orig_data_type": "float64",
          "shape": [
           216
          ],
          "size": 216,
          "standard_name": "projection_y_coordinate",
          "units": "km"
         },
         "dims": [
          "yc"
         ],
         "dtype": "float64",
         "name": "yc"
        }
       },
       "data_id": "esacci.SEAICE.day.L4.SICONC.multi-sensor.multi-platform.AMSR_50kmEASE2.2-1.NH",
       "data_vars": {
        "algorithm_standard_error": {
         "attrs": {
          "chunk_sizes": [
           1,
           216,
           216
          ],
          "comment": "this is one of the two components contributing to 'total_standard_error'",
          "coordinates": "time lat lon",
          "data_type": "int32",
          "dimensions": [
           "time",
           "yc",
           "xc"
          ],
          "file_chunk_sizes": [
           1,
           216,
           216
          ],
          "file_dimensions": [
           "time",
           "yc",
           "xc"
          ],
          "fill_value": -32767,
          "grid_mapping": "Lambert_Azimuthal_Grid",
          "long_name": "algorithm uncertainty (one standard deviation) of concentration of sea ice",
          "orig_data_type": "int32",
          "scale_factor": 0.01,
          "shape": [
           1,
           216,
           216
          ],
          "size": 46656,
          "units": "%"
         },
         "dims": [
          "time",
          "yc",
          "xc"
         ],
         "dtype": "int32",
         "name": "algorithm_standard_error"
        },
        "ice_conc": {
         "attrs": {
          "ancillary_variables": "total_standard_error status_flag",
          "chunk_sizes": [
           1,
           216,
           216
          ],
          "comment": "this field is the primary sea ice concentration estimate for this climate data record",
          "coordinates": "time lat lon",
          "data_type": "int32",
          "dimensions": [
           "time",
           "yc",
           "xc"
          ],
          "file_chunk_sizes": [
           1,
           216,
           216
          ],
          "file_dimensions": [
           "time",
           "yc",
           "xc"
          ],
          "fill_value": -32767,
          "grid_mapping": "Lambert_Azimuthal_Grid",
          "long_name": "fully filtered concentration of sea ice using atmospheric correction of brightness temperatures and open water filters",
          "orig_data_type": "int32",
          "scale_factor": 0.01,
          "shape": [
           1,
           216,
           216
          ],
          "size": 46656,
          "standard_name": "sea_ice_area_fraction",
          "units": "%",
          "valid_max": 10000,
          "valid_min": 0
         },
         "dims": [
          "time",
          "yc",
          "xc"
         ],
         "dtype": "int32",
         "name": "ice_conc"
        },
        "lat": {
         "attrs": {
          "data_type": "float32",
          "dimensions": [
           "yc",
           "xc"
          ],
          "file_dimensions": [
           "yc",
           "xc"
          ],
          "fill_value": null,
          "long_name": "latitude coordinate",
          "orig_data_type": "float32",
          "shape": [
           216,
           216
          ],
          "size": 46656,
          "standard_name": "latitude",
          "units": "degrees_north"
         },
         "dims": [
          "time",
          "yc",
          "xc"
         ],
         "dtype": "float32",
         "name": "lat"
        },
        "lon": {
         "attrs": {
          "data_type": "float32",
          "dimensions": [
           "yc",
           "xc"
          ],
          "file_dimensions": [
           "yc",
           "xc"
          ],
          "fill_value": null,
          "long_name": "longitude coordinate",
          "orig_data_type": "float32",
          "shape": [
           216,
           216
          ],
          "size": 46656,
          "standard_name": "longitude",
          "units": "degrees_east"
         },
         "dims": [
          "time",
          "yc",
          "xc"
         ],
         "dtype": "float32",
         "name": "lon"
        },
        "raw_ice_conc_values": {
         "attrs": {
          "chunk_sizes": [
           1,
           216,
           216
          ],
          "comment": "this field can be used in combination with 'ice_conc' to access un-bounded normal distribution of sea ice concentration estimates corresponding to the uncertainty estimate in 'total_standard_error'. It does also feature some amount of un-physical data (below 0% and above 100%).",
          "coordinates": "time lat lon",
          "data_type": "int32",
          "dimensions": [
           "time",
           "yc",
           "xc"
          ],
          "file_chunk_sizes": [
           1,
           216,
           216
          ],
          "file_dimensions": [
           "time",
           "yc",
           "xc"
          ],
          "fill_value": -32767,
          "grid_mapping": "Lambert_Azimuthal_Grid",
          "long_name": "sea ice concentration estimates as retrieved by the algorithm, and that were edited away by the various filters",
          "orig_data_type": "int32",
          "scale_factor": 0.01,
          "shape": [
           1,
           216,
           216
          ],
          "size": 46656,
          "units": "%"
         },
         "dims": [
          "time",
          "yc",
          "xc"
         ],
         "dtype": "int32",
         "name": "raw_ice_conc_values"
        },
        "smearing_standard_error": {
         "attrs": {
          "chunk_sizes": [
           1,
           216,
           216
          ],
          "comment": "this is one of the two components contributing to 'total_standard_error'",
          "coordinates": "time lat lon",
          "data_type": "int32",
          "dimensions": [
           "time",
           "yc",
           "xc"
          ],
          "file_chunk_sizes": [
           1,
           216,
           216
          ],
          "file_dimensions": [
           "time",
           "yc",
           "xc"
          ],
          "fill_value": -32767,
          "grid_mapping": "Lambert_Azimuthal_Grid",
          "long_name": "smearing uncertainty (one standard deviation) of concentration of sea ice",
          "orig_data_type": "int32",
          "scale_factor": 0.01,
          "shape": [
           1,
           216,
           216
          ],
          "size": 46656,
          "units": "%"
         },
         "dims": [
          "time",
          "yc",
          "xc"
         ],
         "dtype": "int32",
         "name": "smearing_standard_error"
        },
        "status_flag": {
         "attrs": {
          "chunk_sizes": [
           1,
           216,
           216
          ],
          "comment": "Flag values found in the map might be combinations of those listed above. For example flag value 80 (= 2^4 + 2^6 = 16 + 64) indicates high_t2m AND temporal_interp",
          "coordinates": "time lat lon",
          "data_type": "int16",
          "dimensions": [
           "time",
           "yc",
           "xc"
          ],
          "file_chunk_sizes": [
           1,
           216,
           216
          ],
          "file_dimensions": [
           "time",
           "yc",
           "xc"
          ],
          "fill_value": -32768,
          "flag_descriptions": "\nall bits to 0 (flag 0): Nominal retrieval by the SIC algorithm\nbit 1 (flag 1): Position is over land\nbit 2 (flag 2): Position is lake\nbit 3 (flag 4): SIC is set to zero by the open water filter\nbit 4 (flag 8): SIC value is changed for correcting land spill-over effects\nbit 5 (flag 16): Handle with caution, the 2m air temperature is high at this position, and this might be false ice\nbit 6 (flag 32): Value is the result of spatial interpolation\nbit 7 (flag 64): Value is the result of temporal interpolation\nbit 8 (flag 128): SIC is set to zero since position is outside maximum sea ice climatology.",
          "flag_masks": [
           1,
           2,
           4,
           8,
           16,
           32,
           64,
           128
          ],
          "flag_meanings": "land lake open_water_filtered land_spill_over high_t2m spatial_interp temporal_interp max_ice_climo",
          "grid_mapping": "Lambert_Azimuthal_Grid",
          "long_name": "status flag bit array for sea ice concentration retrievals",
          "orig_data_type": "int16",
          "shape": [
           1,
           216,
           216
          ],
          "size": 46656,
          "standard_name": "sea_ice_area_fraction status_flag",
          "valid_max": 32767,
          "valid_min": 0
         },
         "dims": [
          "time",
          "yc",
          "xc"
         ],
         "dtype": "int16",
         "name": "status_flag"
        },
        "total_standard_error": {
         "attrs": {
          "chunk_sizes": [
           1,
           216,
           216
          ],
          "coordinates": "time lat lon",
          "data_type": "int32",
          "dimensions": [
           "time",
           "yc",
           "xc"
          ],
          "file_chunk_sizes": [
           1,
           216,
           216
          ],
          "file_dimensions": [
           "time",
           "yc",
           "xc"
          ],
          "fill_value": -32767,
          "grid_mapping": "Lambert_Azimuthal_Grid",
          "long_name": "total uncertainty (one standard deviation) of concentration of sea ice",
          "orig_data_type": "int32",
          "scale_factor": 0.01,
          "shape": [
           1,
           216,
           216
          ],
          "size": 46656,
          "standard_name": "sea_ice_area_fraction standard_error",
          "units": "%"
         },
         "dims": [
          "time",
          "yc",
          "xc"
         ],
         "dtype": "int32",
         "name": "total_standard_error"
        }
       },
       "dims": {
        "nv": 2,
        "time": 5137,
        "xc": 216,
        "yc": 216
       },
       "open_params_schema": {
        "additionalProperties": false,
        "properties": {
         "time_range": {
          "items": [
           {
            "format": "date",
            "maxDate": "2017-05-15",
            "minDate": "2002-05-31",
            "type": "string"
           },
           {
            "format": "date",
            "maxDate": "2017-05-15",
            "minDate": "2002-05-31",
            "type": "string"
           }
          ],
          "type": "array"
         },
         "variable_names": {
          "items": {
           "enum": [
            "lat",
            "lon",
            "ice_conc",
            "raw_ice_conc_values",
            "total_standard_error",
            "smearing_standard_error",
            "algorithm_standard_error",
            "status_flag"
           ],
           "type": "string"
          },
          "type": "array"
         }
        },
        "type": "object"
       },
       "spatial_res": 50,
       "time_period": "1D",
       "time_range": [
        "2002-05-31",
        "2017-05-15"
       ],
       "type_specifier": "dataset"
      },
      "text/plain": [
       "<xcube.core.store.descriptor.DatasetDescriptor at 0x7f48123ef040>"
      ]
     },
     "metadata": {},
     "output_type": "display_data"
    },
    {
     "name": "stdout",
     "output_type": "stream",
     "text": [
      "\n",
      "Dataset item 3:\n",
      "ds_id: esacci.SEAICE.day.L4.SICONC.multi-sensor.multi-platform.AMSR_50kmEASE2.2-1.SH\n"
     ]
    },
    {
     "data": {
      "application/json": {
       "attrs": {
        "abstract": "The dataset provides a Climate Data Record of Sea Ice Concentration (SIC) for the polar regions, derived from medium resolution passive microwave satellite data from the Advanced Microwave Scanning Radiometer series (AMSR-E and AMSR-2).  It is processed with an algorithm using coarse resolution (6 GHz and 37 GHz) imaging channels, and has been gridded at 50km grid spacing. This version of the product is v2.1, which is an extension of the version 2.0 Sea_Ice_cci dataset and has identical data until 2015-12-25.\n\nThis product was generated in the context of the ESA Climate Change Initiative Programme (ESA CCI) by the Sea_Ice_CCI project. The EUMETSAT OSI SAF contributed with access and re-use of part of its processing software and facilities.\n\nA SIC CDR at 25km grid spacing is also available.",
        "catalog_url": "https://catalogue.ceda.ac.uk/uuid/5f75fcb0c58740d99b07953797bc041e",
        "cci_project": "SEAICE",
        "data_type": "SICONC",
        "ecv": "SEAICE",
        "history": "2017-02-14T15:14:03Z creation",
        "institute": "Norwegian Meteorological Institute",
        "licences": "Use of these data is covered by the following licence: http://licences.ceda.ac.uk/image/data_access_condition/esacci_seaice_terms_and_conditions.pdf . When using these data you must cite them correctly using the citation given on the CEDA Data Catalogue record.",
        "platform_id": "multi-platform",
        "processing_level": "L4",
        "product_string": "AMSR_50kmEASE2",
        "product_version": "2-1",
        "project": "Climate Change Initiative - European Space Agency",
        "publication_date": "2017-10-06T11:09:54",
        "references": "Product User Guide DX.X Issue X.X,Algorithm Theoretical Basis Document v3 DX.X Issue X.X,http://www.esa-seaice-cci.org,http://www.esa-cci.org",
        "sensor_id": "multi-sensor",
        "source": "FCDR of AMSR-E Brightness Temperatures V3 (doi: 10.5067/AMSR-E/AE_L2A.003), AMSR2 L1R data from JAXA,ERA-Interim fields from ECMWF (doi: 10.1002/qj.828)",
        "title": "ESA Sea Ice Climate Change Initiative (Sea_Ice_cci):  Sea Ice Concentration Climate Data Record from the AMSR-E and AMSR-2 instruments at 50km grid spacing, version 2.1",
        "uuid": "5f75fcb0c58740d99b07953797bc041e"
       },
       "bbox": [
        -180,
        -90,
        180,
        90
       ],
       "coords": {
        "Lambert_Azimuthal_Grid": {
         "attrs": {
          "data_type": "int64",
          "dimensions": [],
          "false_easting": 0,
          "false_northing": 0,
          "file_dimensions": [],
          "fill_value": 9223372036854776000,
          "grid_mapping_name": "lambert_azimuthal_equal_area",
          "inverse_flattening": 298.257223563,
          "latitude_of_projection_origin": -90,
          "longitude_of_projection_origin": 0,
          "orig_data_type": "int32",
          "proj4_string": "+proj=laea +lon_0=0 +datum=WGS84 +ellps=WGS84 +lat_0=-90.0",
          "semi_major_axis": 6378137,
          "shape": [],
          "size": 1
         },
         "dims": [],
         "dtype": "int64",
         "name": "Lambert_Azimuthal_Grid"
        },
        "time": {
         "attrs": {
          "axis": "T",
          "bounds": "time_bnds",
          "calendar": "standard",
          "chunk_sizes": 524288,
          "data_type": "float64",
          "dimensions": [
           "time"
          ],
          "file_chunk_sizes": 524288,
          "file_dimensions": [
           "time"
          ],
          "fill_value": null,
          "long_name": "reference time of product",
          "orig_data_type": "float64",
          "shape": [
           1
          ],
          "size": 1,
          "standard_name": "time",
          "units": "seconds since 1978-01-01 00:00:00"
         },
         "dims": [
          "time"
         ],
         "dtype": "float64",
         "name": "time"
        },
        "time_bnds": {
         "attrs": {
          "chunk_sizes": [
           1,
           2
          ],
          "data_type": "float64",
          "dimensions": [
           "time",
           "nv"
          ],
          "file_chunk_sizes": [
           1,
           2
          ],
          "file_dimensions": [
           "time",
           "nv"
          ],
          "fill_value": null,
          "orig_data_type": "float64",
          "shape": [
           1,
           2
          ],
          "size": 2,
          "units": "seconds since 1978-01-01 00:00:00"
         },
         "dims": [
          "time",
          "nv"
         ],
         "dtype": "float64",
         "name": "time_bnds"
        },
        "xc": {
         "attrs": {
          "data_type": "float64",
          "dimensions": [
           "xc"
          ],
          "file_dimensions": [
           "xc"
          ],
          "fill_value": null,
          "long_name": "x coordinate of projection (eastings)",
          "orig_data_type": "float64",
          "shape": [
           216
          ],
          "size": 216,
          "standard_name": "projection_x_coordinate",
          "units": "km"
         },
         "dims": [
          "xc"
         ],
         "dtype": "float64",
         "name": "xc"
        },
        "yc": {
         "attrs": {
          "data_type": "float64",
          "dimensions": [
           "yc"
          ],
          "file_dimensions": [
           "yc"
          ],
          "fill_value": null,
          "long_name": "y coordinate of projection (northings)",
          "orig_data_type": "float64",
          "shape": [
           216
          ],
          "size": 216,
          "standard_name": "projection_y_coordinate",
          "units": "km"
         },
         "dims": [
          "yc"
         ],
         "dtype": "float64",
         "name": "yc"
        }
       },
       "data_id": "esacci.SEAICE.day.L4.SICONC.multi-sensor.multi-platform.AMSR_50kmEASE2.2-1.SH",
       "data_vars": {
        "algorithm_standard_error": {
         "attrs": {
          "chunk_sizes": [
           1,
           216,
           216
          ],
          "comment": "this is one of the two components contributing to 'total_standard_error'",
          "coordinates": "time lat lon",
          "data_type": "int32",
          "dimensions": [
           "time",
           "yc",
           "xc"
          ],
          "file_chunk_sizes": [
           1,
           216,
           216
          ],
          "file_dimensions": [
           "time",
           "yc",
           "xc"
          ],
          "fill_value": -32767,
          "grid_mapping": "Lambert_Azimuthal_Grid",
          "long_name": "algorithm uncertainty (one standard deviation) of concentration of sea ice",
          "orig_data_type": "int32",
          "scale_factor": 0.01,
          "shape": [
           1,
           216,
           216
          ],
          "size": 46656,
          "units": "%"
         },
         "dims": [
          "time",
          "yc",
          "xc"
         ],
         "dtype": "int32",
         "name": "algorithm_standard_error"
        },
        "ice_conc": {
         "attrs": {
          "ancillary_variables": "total_standard_error status_flag",
          "chunk_sizes": [
           1,
           216,
           216
          ],
          "comment": "this field is the primary sea ice concentration estimate for this climate data record",
          "coordinates": "time lat lon",
          "data_type": "int32",
          "dimensions": [
           "time",
           "yc",
           "xc"
          ],
          "file_chunk_sizes": [
           1,
           216,
           216
          ],
          "file_dimensions": [
           "time",
           "yc",
           "xc"
          ],
          "fill_value": -32767,
          "grid_mapping": "Lambert_Azimuthal_Grid",
          "long_name": "fully filtered concentration of sea ice using atmospheric correction of brightness temperatures and open water filters",
          "orig_data_type": "int32",
          "scale_factor": 0.01,
          "shape": [
           1,
           216,
           216
          ],
          "size": 46656,
          "standard_name": "sea_ice_area_fraction",
          "units": "%",
          "valid_max": 10000,
          "valid_min": 0
         },
         "dims": [
          "time",
          "yc",
          "xc"
         ],
         "dtype": "int32",
         "name": "ice_conc"
        },
        "lat": {
         "attrs": {
          "data_type": "float32",
          "dimensions": [
           "yc",
           "xc"
          ],
          "file_dimensions": [
           "yc",
           "xc"
          ],
          "fill_value": null,
          "long_name": "latitude coordinate",
          "orig_data_type": "float32",
          "shape": [
           216,
           216
          ],
          "size": 46656,
          "standard_name": "latitude",
          "units": "degrees_north"
         },
         "dims": [
          "time",
          "yc",
          "xc"
         ],
         "dtype": "float32",
         "name": "lat"
        },
        "lon": {
         "attrs": {
          "data_type": "float32",
          "dimensions": [
           "yc",
           "xc"
          ],
          "file_dimensions": [
           "yc",
           "xc"
          ],
          "fill_value": null,
          "long_name": "longitude coordinate",
          "orig_data_type": "float32",
          "shape": [
           216,
           216
          ],
          "size": 46656,
          "standard_name": "longitude",
          "units": "degrees_east"
         },
         "dims": [
          "time",
          "yc",
          "xc"
         ],
         "dtype": "float32",
         "name": "lon"
        },
        "raw_ice_conc_values": {
         "attrs": {
          "chunk_sizes": [
           1,
           216,
           216
          ],
          "comment": "this field can be used in combination with 'ice_conc' to access un-bounded normal distribution of sea ice concentration estimates corresponding to the uncertainty estimate in 'total_standard_error'. It does also feature some amount of un-physical data (below 0% and above 100%).",
          "coordinates": "time lat lon",
          "data_type": "int32",
          "dimensions": [
           "time",
           "yc",
           "xc"
          ],
          "file_chunk_sizes": [
           1,
           216,
           216
          ],
          "file_dimensions": [
           "time",
           "yc",
           "xc"
          ],
          "fill_value": -32767,
          "grid_mapping": "Lambert_Azimuthal_Grid",
          "long_name": "sea ice concentration estimates as retrieved by the algorithm, and that were edited away by the various filters",
          "orig_data_type": "int32",
          "scale_factor": 0.01,
          "shape": [
           1,
           216,
           216
          ],
          "size": 46656,
          "units": "%"
         },
         "dims": [
          "time",
          "yc",
          "xc"
         ],
         "dtype": "int32",
         "name": "raw_ice_conc_values"
        },
        "smearing_standard_error": {
         "attrs": {
          "chunk_sizes": [
           1,
           216,
           216
          ],
          "comment": "this is one of the two components contributing to 'total_standard_error'",
          "coordinates": "time lat lon",
          "data_type": "int32",
          "dimensions": [
           "time",
           "yc",
           "xc"
          ],
          "file_chunk_sizes": [
           1,
           216,
           216
          ],
          "file_dimensions": [
           "time",
           "yc",
           "xc"
          ],
          "fill_value": -32767,
          "grid_mapping": "Lambert_Azimuthal_Grid",
          "long_name": "smearing uncertainty (one standard deviation) of concentration of sea ice",
          "orig_data_type": "int32",
          "scale_factor": 0.01,
          "shape": [
           1,
           216,
           216
          ],
          "size": 46656,
          "units": "%"
         },
         "dims": [
          "time",
          "yc",
          "xc"
         ],
         "dtype": "int32",
         "name": "smearing_standard_error"
        },
        "status_flag": {
         "attrs": {
          "chunk_sizes": [
           1,
           216,
           216
          ],
          "comment": "Flag values found in the map might be combinations of those listed above. For example flag value 80 (= 2^4 + 2^6 = 16 + 64) indicates high_t2m AND temporal_interp",
          "coordinates": "time lat lon",
          "data_type": "int16",
          "dimensions": [
           "time",
           "yc",
           "xc"
          ],
          "file_chunk_sizes": [
           1,
           216,
           216
          ],
          "file_dimensions": [
           "time",
           "yc",
           "xc"
          ],
          "fill_value": -32768,
          "flag_descriptions": "\nall bits to 0 (flag 0): Nominal retrieval by the SIC algorithm\nbit 1 (flag 1): Position is over land\nbit 2 (flag 2): Position is lake\nbit 3 (flag 4): SIC is set to zero by the open water filter\nbit 4 (flag 8): SIC value is changed for correcting land spill-over effects\nbit 5 (flag 16): Handle with caution, the 2m air temperature is high at this position, and this might be false ice\nbit 6 (flag 32): Value is the result of spatial interpolation\nbit 7 (flag 64): Value is the result of temporal interpolation\nbit 8 (flag 128): SIC is set to zero since position is outside maximum sea ice climatology.",
          "flag_masks": [
           1,
           2,
           4,
           8,
           16,
           32,
           64,
           128
          ],
          "flag_meanings": "land lake open_water_filtered land_spill_over high_t2m spatial_interp temporal_interp max_ice_climo",
          "grid_mapping": "Lambert_Azimuthal_Grid",
          "long_name": "status flag bit array for sea ice concentration retrievals",
          "orig_data_type": "int16",
          "shape": [
           1,
           216,
           216
          ],
          "size": 46656,
          "standard_name": "sea_ice_area_fraction status_flag",
          "valid_max": 32767,
          "valid_min": 0
         },
         "dims": [
          "time",
          "yc",
          "xc"
         ],
         "dtype": "int16",
         "name": "status_flag"
        },
        "total_standard_error": {
         "attrs": {
          "chunk_sizes": [
           1,
           216,
           216
          ],
          "coordinates": "time lat lon",
          "data_type": "int32",
          "dimensions": [
           "time",
           "yc",
           "xc"
          ],
          "file_chunk_sizes": [
           1,
           216,
           216
          ],
          "file_dimensions": [
           "time",
           "yc",
           "xc"
          ],
          "fill_value": -32767,
          "grid_mapping": "Lambert_Azimuthal_Grid",
          "long_name": "total uncertainty (one standard deviation) of concentration of sea ice",
          "orig_data_type": "int32",
          "scale_factor": 0.01,
          "shape": [
           1,
           216,
           216
          ],
          "size": 46656,
          "standard_name": "sea_ice_area_fraction standard_error",
          "units": "%"
         },
         "dims": [
          "time",
          "yc",
          "xc"
         ],
         "dtype": "int32",
         "name": "total_standard_error"
        }
       },
       "dims": {
        "nv": 2,
        "time": 5137,
        "xc": 216,
        "yc": 216
       },
       "open_params_schema": {
        "additionalProperties": false,
        "properties": {
         "time_range": {
          "items": [
           {
            "format": "date",
            "maxDate": "2017-05-15",
            "minDate": "2002-05-31",
            "type": "string"
           },
           {
            "format": "date",
            "maxDate": "2017-05-15",
            "minDate": "2002-05-31",
            "type": "string"
           }
          ],
          "type": "array"
         },
         "variable_names": {
          "items": {
           "enum": [
            "lat",
            "lon",
            "ice_conc",
            "raw_ice_conc_values",
            "total_standard_error",
            "smearing_standard_error",
            "algorithm_standard_error",
            "status_flag"
           ],
           "type": "string"
          },
          "type": "array"
         }
        },
        "type": "object"
       },
       "spatial_res": 50,
       "time_period": "1D",
       "time_range": [
        "2002-05-31",
        "2017-05-15"
       ],
       "type_specifier": "dataset"
      },
      "text/plain": [
       "<xcube.core.store.descriptor.DatasetDescriptor at 0x7f48844344c0>"
      ]
     },
     "metadata": {},
     "output_type": "display_data"
    }
   ],
   "source": [
    "# To get an idea of what is available in the online data portal one can query it and loop over it's result to print some information to the screen\n",
    "#the query siconc is short for sea ice concentration\n",
    "seaiceqry=data_store.search_data(ecv='SEAICE', data_type=\"SICONC\")\n",
    "\n",
    "for i,seaiceItem in enumerate(seaiceqry):\n",
    "    print(\"\\nDataset item %d:\\nds_id: %s\"%(i,seaiceItem.data_id))\n",
    "    display(seaiceItem)"
   ]
  },
  {
   "cell_type": "markdown",
   "metadata": {},
   "source": [
    "Of these, we pick \"esacci.SEAICE.day.L4.SICONC.multi-sensor.multi-platform.AMSR_50kmEASE2.2-1.NH\", the 50 km resolution sea ice concentration dataset which has daily values, and open it. Here, we also want to only look at the data from the year 2012, so we build a time range and pass it as parameter. The parameter 'data_store_id' is not absolutely necessary, but it makes the opening a little faster. The parameter 'normalize' should be used so that the dataset is preprocessed in a way that it can be optimally used in Cate."
   ]
  },
  {
   "cell_type": "code",
   "execution_count": 5,
   "metadata": {},
   "outputs": [
    {
     "name": "stderr",
     "output_type": "stream",
     "text": [
      "/home/cate/pycciv30/lib/python3.9/site-packages/xcube_cci/chunkstore.py:181: UserWarning: Could not find dimensions of variable 'Lambert_Azimuthal_Grid'. Will omit it from the dataset.\n",
      "  warnings.warn(f\"Could not find dimensions of variable '{variable_name}'. \"\n"
     ]
    },
    {
     "ename": "RuntimeError",
     "evalue": "There is no current event loop in thread 'Thread-4'.",
     "output_type": "error",
     "traceback": [
      "\u001b[0;31m---------------------------------------------------------------------------\u001b[0m",
      "\u001b[0;31mKeyError\u001b[0m                                  Traceback (most recent call last)",
      "\u001b[0;32m/usr/lib/python3.9/site-packages/zarr/storage.py\u001b[0m in \u001b[0;36m__getitem__\u001b[0;34m(self, key)\u001b[0m\n\u001b[1;32m   2103\u001b[0m             \u001b[0;32mwith\u001b[0m \u001b[0mself\u001b[0m\u001b[0;34m.\u001b[0m\u001b[0m_mutex\u001b[0m\u001b[0;34m:\u001b[0m\u001b[0;34m\u001b[0m\u001b[0;34m\u001b[0m\u001b[0m\n\u001b[0;32m-> 2104\u001b[0;31m                 \u001b[0mvalue\u001b[0m \u001b[0;34m=\u001b[0m \u001b[0mself\u001b[0m\u001b[0;34m.\u001b[0m\u001b[0m_values_cache\u001b[0m\u001b[0;34m[\u001b[0m\u001b[0mkey\u001b[0m\u001b[0;34m]\u001b[0m\u001b[0;34m\u001b[0m\u001b[0;34m\u001b[0m\u001b[0m\n\u001b[0m\u001b[1;32m   2105\u001b[0m                 \u001b[0;31m# cache hit if no KeyError is raised\u001b[0m\u001b[0;34m\u001b[0m\u001b[0;34m\u001b[0m\u001b[0;34m\u001b[0m\u001b[0m\n",
      "\u001b[0;31mKeyError\u001b[0m: 'lat/0.0.0'",
      "\nDuring handling of the above exception, another exception occurred:\n",
      "\u001b[0;31mRuntimeError\u001b[0m                              Traceback (most recent call last)",
      "\u001b[0;32m<ipython-input-5-9f981063877a>\u001b[0m in \u001b[0;36m<module>\u001b[0;34m\u001b[0m\n\u001b[1;32m      2\u001b[0m \u001b[0mtrange\u001b[0m\u001b[0;34m=\u001b[0m\u001b[0;34m[\u001b[0m\u001b[0mdatetime\u001b[0m\u001b[0;34m(\u001b[0m\u001b[0myr\u001b[0m\u001b[0;34m,\u001b[0m\u001b[0;36m1\u001b[0m\u001b[0;34m,\u001b[0m\u001b[0;36m1\u001b[0m\u001b[0;34m)\u001b[0m\u001b[0;34m,\u001b[0m\u001b[0mdatetime\u001b[0m\u001b[0;34m(\u001b[0m\u001b[0myr\u001b[0m\u001b[0;34m,\u001b[0m\u001b[0;36m12\u001b[0m\u001b[0;34m,\u001b[0m\u001b[0;36m31\u001b[0m\u001b[0;34m)\u001b[0m\u001b[0;34m]\u001b[0m\u001b[0;34m\u001b[0m\u001b[0;34m\u001b[0m\u001b[0m\n\u001b[1;32m      3\u001b[0m \u001b[0;34m\u001b[0m\u001b[0m\n\u001b[0;32m----> 4\u001b[0;31m seaiceDset=open_dataset(ds_id=\"esacci.SEAICE.day.L4.SICONC.multi-sensor.multi-platform.AMSR_50kmEASE2.2-1.NH\",\n\u001b[0m\u001b[1;32m      5\u001b[0m                         \u001b[0mdata_store_id\u001b[0m\u001b[0;34m=\u001b[0m\u001b[0;34m'cci-store'\u001b[0m\u001b[0;34m,\u001b[0m\u001b[0;34m\u001b[0m\u001b[0;34m\u001b[0m\u001b[0m\n\u001b[1;32m      6\u001b[0m                         time_range=trange)\n",
      "\u001b[0;32m~/pycciv30/lib/python3.9/site-packages/cate/core/op.py\u001b[0m in \u001b[0;36m__call__\u001b[0;34m(self, monitor, *args, **kwargs)\u001b[0m\n\u001b[1;32m    214\u001b[0m \u001b[0;34m\u001b[0m\u001b[0m\n\u001b[1;32m    215\u001b[0m         \u001b[0;31m# call the callable\u001b[0m\u001b[0;34m\u001b[0m\u001b[0;34m\u001b[0m\u001b[0;34m\u001b[0m\u001b[0m\n\u001b[0;32m--> 216\u001b[0;31m         \u001b[0mreturn_value\u001b[0m \u001b[0;34m=\u001b[0m \u001b[0mself\u001b[0m\u001b[0;34m.\u001b[0m\u001b[0m_wrapped_op\u001b[0m\u001b[0;34m(\u001b[0m\u001b[0;34m**\u001b[0m\u001b[0minput_values\u001b[0m\u001b[0;34m)\u001b[0m\u001b[0;34m\u001b[0m\u001b[0;34m\u001b[0m\u001b[0m\n\u001b[0m\u001b[1;32m    217\u001b[0m \u001b[0;34m\u001b[0m\u001b[0m\n\u001b[1;32m    218\u001b[0m         \u001b[0;32mif\u001b[0m \u001b[0mself\u001b[0m\u001b[0;34m.\u001b[0m\u001b[0mop_meta_info\u001b[0m\u001b[0;34m.\u001b[0m\u001b[0mhas_named_outputs\u001b[0m\u001b[0;34m:\u001b[0m\u001b[0;34m\u001b[0m\u001b[0;34m\u001b[0m\u001b[0m\n",
      "\u001b[0;32m~/pycciv30/lib/python3.9/site-packages/cate/ops/io.py\u001b[0m in \u001b[0;36mopen_dataset\u001b[0;34m(ds_id, time_range, region, var_names, normalize, data_store_id, force_local, local_ds_id, monitor)\u001b[0m\n\u001b[1;32m     92\u001b[0m                                           monitor=monitor)\n\u001b[1;32m     93\u001b[0m     \u001b[0;32mif\u001b[0m \u001b[0mds\u001b[0m \u001b[0;32mand\u001b[0m \u001b[0mnormalize\u001b[0m\u001b[0;34m:\u001b[0m\u001b[0;34m\u001b[0m\u001b[0;34m\u001b[0m\u001b[0m\n\u001b[0;32m---> 94\u001b[0;31m         \u001b[0;32mreturn\u001b[0m \u001b[0madjust_temporal_attrs\u001b[0m\u001b[0;34m(\u001b[0m\u001b[0mnormalize_op\u001b[0m\u001b[0;34m(\u001b[0m\u001b[0mds\u001b[0m\u001b[0;34m)\u001b[0m\u001b[0;34m)\u001b[0m\u001b[0;34m\u001b[0m\u001b[0;34m\u001b[0m\u001b[0m\n\u001b[0m\u001b[1;32m     95\u001b[0m \u001b[0;34m\u001b[0m\u001b[0m\n\u001b[1;32m     96\u001b[0m     \u001b[0;32mreturn\u001b[0m \u001b[0mds\u001b[0m\u001b[0;34m\u001b[0m\u001b[0;34m\u001b[0m\u001b[0m\n",
      "\u001b[0;32m~/pycciv30/lib/python3.9/site-packages/cate/core/op.py\u001b[0m in \u001b[0;36m__call__\u001b[0;34m(self, monitor, *args, **kwargs)\u001b[0m\n\u001b[1;32m    214\u001b[0m \u001b[0;34m\u001b[0m\u001b[0m\n\u001b[1;32m    215\u001b[0m         \u001b[0;31m# call the callable\u001b[0m\u001b[0;34m\u001b[0m\u001b[0;34m\u001b[0m\u001b[0;34m\u001b[0m\u001b[0m\n\u001b[0;32m--> 216\u001b[0;31m         \u001b[0mreturn_value\u001b[0m \u001b[0;34m=\u001b[0m \u001b[0mself\u001b[0m\u001b[0;34m.\u001b[0m\u001b[0m_wrapped_op\u001b[0m\u001b[0;34m(\u001b[0m\u001b[0;34m**\u001b[0m\u001b[0minput_values\u001b[0m\u001b[0;34m)\u001b[0m\u001b[0;34m\u001b[0m\u001b[0;34m\u001b[0m\u001b[0m\n\u001b[0m\u001b[1;32m    217\u001b[0m \u001b[0;34m\u001b[0m\u001b[0m\n\u001b[1;32m    218\u001b[0m         \u001b[0;32mif\u001b[0m \u001b[0mself\u001b[0m\u001b[0;34m.\u001b[0m\u001b[0mop_meta_info\u001b[0m\u001b[0;34m.\u001b[0m\u001b[0mhas_named_outputs\u001b[0m\u001b[0;34m:\u001b[0m\u001b[0;34m\u001b[0m\u001b[0;34m\u001b[0m\u001b[0m\n",
      "\u001b[0;32m~/pycciv30/lib/python3.9/site-packages/cate/ops/normalize.py\u001b[0m in \u001b[0;36mnormalize\u001b[0;34m(ds)\u001b[0m\n\u001b[1;32m     58\u001b[0m     \u001b[0;34m:\u001b[0m\u001b[0;32mreturn\u001b[0m\u001b[0;34m:\u001b[0m \u001b[0mThe\u001b[0m \u001b[0mnormalized\u001b[0m \u001b[0mdataset\u001b[0m\u001b[0;34m,\u001b[0m \u001b[0;32mor\u001b[0m \u001b[0mthe\u001b[0m \u001b[0moriginal\u001b[0m \u001b[0mdataset\u001b[0m\u001b[0;34m,\u001b[0m \u001b[0;32mif\u001b[0m \u001b[0mit\u001b[0m \u001b[0;32mis\u001b[0m \u001b[0malready\u001b[0m \u001b[0;34m\"normal\"\u001b[0m\u001b[0;34m.\u001b[0m\u001b[0;34m\u001b[0m\u001b[0;34m\u001b[0m\u001b[0m\n\u001b[1;32m     59\u001b[0m     \"\"\"\n\u001b[0;32m---> 60\u001b[0;31m     \u001b[0;32mreturn\u001b[0m \u001b[0mxcube_normalize\u001b[0m\u001b[0;34m.\u001b[0m\u001b[0mnormalize_dataset\u001b[0m\u001b[0;34m(\u001b[0m\u001b[0mds\u001b[0m\u001b[0;34m,\u001b[0m \u001b[0mreverse_decreasing_lat\u001b[0m\u001b[0;34m=\u001b[0m\u001b[0;32mTrue\u001b[0m\u001b[0;34m)\u001b[0m\u001b[0;34m\u001b[0m\u001b[0;34m\u001b[0m\u001b[0m\n\u001b[0m\u001b[1;32m     61\u001b[0m \u001b[0;34m\u001b[0m\u001b[0m\n\u001b[1;32m     62\u001b[0m \u001b[0;34m\u001b[0m\u001b[0m\n",
      "\u001b[0;32m~/pycciv30/lib/python3.9/site-packages/xcube/core/normalize.py\u001b[0m in \u001b[0;36mnormalize_dataset\u001b[0;34m(ds, reverse_decreasing_lat)\u001b[0m\n\u001b[1;32m     82\u001b[0m     \u001b[0mds\u001b[0m \u001b[0;34m=\u001b[0m \u001b[0m_normalize_lon_360\u001b[0m\u001b[0;34m(\u001b[0m\u001b[0mds\u001b[0m\u001b[0;34m)\u001b[0m\u001b[0;34m\u001b[0m\u001b[0;34m\u001b[0m\u001b[0m\n\u001b[1;32m     83\u001b[0m     \u001b[0;32mif\u001b[0m \u001b[0mreverse_decreasing_lat\u001b[0m\u001b[0;34m:\u001b[0m\u001b[0;34m\u001b[0m\u001b[0;34m\u001b[0m\u001b[0m\n\u001b[0;32m---> 84\u001b[0;31m         \u001b[0mds\u001b[0m \u001b[0;34m=\u001b[0m \u001b[0m_reverse_decreasing_lat\u001b[0m\u001b[0;34m(\u001b[0m\u001b[0mds\u001b[0m\u001b[0;34m)\u001b[0m\u001b[0;34m\u001b[0m\u001b[0;34m\u001b[0m\u001b[0m\n\u001b[0m\u001b[1;32m     85\u001b[0m     \u001b[0mds\u001b[0m \u001b[0;34m=\u001b[0m \u001b[0mnormalize_missing_time\u001b[0m\u001b[0;34m(\u001b[0m\u001b[0mds\u001b[0m\u001b[0;34m)\u001b[0m\u001b[0;34m\u001b[0m\u001b[0;34m\u001b[0m\u001b[0m\n\u001b[1;32m     86\u001b[0m     \u001b[0mds\u001b[0m \u001b[0;34m=\u001b[0m \u001b[0m_normalize_jd2datetime\u001b[0m\u001b[0;34m(\u001b[0m\u001b[0mds\u001b[0m\u001b[0;34m)\u001b[0m\u001b[0;34m\u001b[0m\u001b[0;34m\u001b[0m\u001b[0m\n",
      "\u001b[0;32m~/pycciv30/lib/python3.9/site-packages/xcube/core/normalize.py\u001b[0m in \u001b[0;36m_reverse_decreasing_lat\u001b[0;34m(ds)\u001b[0m\n\u001b[1;32m    278\u001b[0m     \"\"\"\n\u001b[1;32m    279\u001b[0m     \u001b[0;32mtry\u001b[0m\u001b[0;34m:\u001b[0m\u001b[0;34m\u001b[0m\u001b[0;34m\u001b[0m\u001b[0m\n\u001b[0;32m--> 280\u001b[0;31m         \u001b[0;32mif\u001b[0m \u001b[0m_is_lat_decreasing\u001b[0m\u001b[0;34m(\u001b[0m\u001b[0mds\u001b[0m\u001b[0;34m.\u001b[0m\u001b[0mlat\u001b[0m\u001b[0;34m)\u001b[0m\u001b[0;34m:\u001b[0m\u001b[0;34m\u001b[0m\u001b[0;34m\u001b[0m\u001b[0m\n\u001b[0m\u001b[1;32m    281\u001b[0m             \u001b[0mds\u001b[0m \u001b[0;34m=\u001b[0m \u001b[0mds\u001b[0m\u001b[0;34m.\u001b[0m\u001b[0msel\u001b[0m\u001b[0;34m(\u001b[0m\u001b[0mlat\u001b[0m\u001b[0;34m=\u001b[0m\u001b[0mslice\u001b[0m\u001b[0;34m(\u001b[0m\u001b[0;32mNone\u001b[0m\u001b[0;34m,\u001b[0m \u001b[0;32mNone\u001b[0m\u001b[0;34m,\u001b[0m \u001b[0;34m-\u001b[0m\u001b[0;36m1\u001b[0m\u001b[0;34m)\u001b[0m\u001b[0;34m)\u001b[0m\u001b[0;34m\u001b[0m\u001b[0;34m\u001b[0m\u001b[0m\n\u001b[1;32m    282\u001b[0m     \u001b[0;32mexcept\u001b[0m \u001b[0mAttributeError\u001b[0m\u001b[0;34m:\u001b[0m\u001b[0;34m\u001b[0m\u001b[0;34m\u001b[0m\u001b[0m\n",
      "\u001b[0;32m~/pycciv30/lib/python3.9/site-packages/xcube/core/normalize.py\u001b[0m in \u001b[0;36m_is_lat_decreasing\u001b[0;34m(lat)\u001b[0m\n\u001b[1;32m    683\u001b[0m     \u001b[0mDetermine\u001b[0m \u001b[0;32mif\u001b[0m \u001b[0mthe\u001b[0m \u001b[0mlatitude\u001b[0m \u001b[0;32mis\u001b[0m \u001b[0mdecreasing\u001b[0m\u001b[0;34m\u001b[0m\u001b[0;34m\u001b[0m\u001b[0m\n\u001b[1;32m    684\u001b[0m     \"\"\"\n\u001b[0;32m--> 685\u001b[0;31m     \u001b[0;32mif\u001b[0m \u001b[0mlat\u001b[0m\u001b[0;34m[\u001b[0m\u001b[0;36m0\u001b[0m\u001b[0;34m]\u001b[0m \u001b[0;34m>\u001b[0m \u001b[0mlat\u001b[0m\u001b[0;34m[\u001b[0m\u001b[0;34m-\u001b[0m\u001b[0;36m1\u001b[0m\u001b[0;34m]\u001b[0m\u001b[0;34m:\u001b[0m\u001b[0;34m\u001b[0m\u001b[0;34m\u001b[0m\u001b[0m\n\u001b[0m\u001b[1;32m    686\u001b[0m         \u001b[0;32mreturn\u001b[0m \u001b[0;32mTrue\u001b[0m\u001b[0;34m\u001b[0m\u001b[0;34m\u001b[0m\u001b[0m\n\u001b[1;32m    687\u001b[0m \u001b[0;34m\u001b[0m\u001b[0m\n",
      "\u001b[0;32m/usr/lib/python3.9/site-packages/xarray/core/dataarray.py\u001b[0m in \u001b[0;36mfunc\u001b[0;34m(self, other)\u001b[0m\n\u001b[1;32m   2993\u001b[0m                 \u001b[0;32melse\u001b[0m \u001b[0mf\u001b[0m\u001b[0;34m(\u001b[0m\u001b[0mother_variable\u001b[0m\u001b[0;34m,\u001b[0m \u001b[0mself\u001b[0m\u001b[0;34m.\u001b[0m\u001b[0mvariable\u001b[0m\u001b[0;34m)\u001b[0m\u001b[0;34m\u001b[0m\u001b[0;34m\u001b[0m\u001b[0m\n\u001b[1;32m   2994\u001b[0m             )\n\u001b[0;32m-> 2995\u001b[0;31m             \u001b[0mcoords\u001b[0m\u001b[0;34m,\u001b[0m \u001b[0mindexes\u001b[0m \u001b[0;34m=\u001b[0m \u001b[0mself\u001b[0m\u001b[0;34m.\u001b[0m\u001b[0mcoords\u001b[0m\u001b[0;34m.\u001b[0m\u001b[0m_merge_raw\u001b[0m\u001b[0;34m(\u001b[0m\u001b[0mother_coords\u001b[0m\u001b[0;34m)\u001b[0m\u001b[0;34m\u001b[0m\u001b[0;34m\u001b[0m\u001b[0m\n\u001b[0m\u001b[1;32m   2996\u001b[0m             \u001b[0mname\u001b[0m \u001b[0;34m=\u001b[0m \u001b[0mself\u001b[0m\u001b[0;34m.\u001b[0m\u001b[0m_result_name\u001b[0m\u001b[0;34m(\u001b[0m\u001b[0mother\u001b[0m\u001b[0;34m)\u001b[0m\u001b[0;34m\u001b[0m\u001b[0;34m\u001b[0m\u001b[0m\n\u001b[1;32m   2997\u001b[0m \u001b[0;34m\u001b[0m\u001b[0m\n",
      "\u001b[0;32m/usr/lib/python3.9/site-packages/xarray/core/coordinates.py\u001b[0m in \u001b[0;36m_merge_raw\u001b[0;34m(self, other)\u001b[0m\n\u001b[1;32m    166\u001b[0m             \u001b[0mindexes\u001b[0m \u001b[0;34m=\u001b[0m \u001b[0mdict\u001b[0m\u001b[0;34m(\u001b[0m\u001b[0mself\u001b[0m\u001b[0;34m.\u001b[0m\u001b[0mindexes\u001b[0m\u001b[0;34m)\u001b[0m\u001b[0;34m\u001b[0m\u001b[0;34m\u001b[0m\u001b[0m\n\u001b[1;32m    167\u001b[0m         \u001b[0;32melse\u001b[0m\u001b[0;34m:\u001b[0m\u001b[0;34m\u001b[0m\u001b[0;34m\u001b[0m\u001b[0m\n\u001b[0;32m--> 168\u001b[0;31m             \u001b[0mvariables\u001b[0m\u001b[0;34m,\u001b[0m \u001b[0mindexes\u001b[0m \u001b[0;34m=\u001b[0m \u001b[0mmerge_coordinates_without_align\u001b[0m\u001b[0;34m(\u001b[0m\u001b[0;34m[\u001b[0m\u001b[0mself\u001b[0m\u001b[0;34m,\u001b[0m \u001b[0mother\u001b[0m\u001b[0;34m]\u001b[0m\u001b[0;34m)\u001b[0m\u001b[0;34m\u001b[0m\u001b[0;34m\u001b[0m\u001b[0m\n\u001b[0m\u001b[1;32m    169\u001b[0m         \u001b[0;32mreturn\u001b[0m \u001b[0mvariables\u001b[0m\u001b[0;34m,\u001b[0m \u001b[0mindexes\u001b[0m\u001b[0;34m\u001b[0m\u001b[0;34m\u001b[0m\u001b[0m\n\u001b[1;32m    170\u001b[0m \u001b[0;34m\u001b[0m\u001b[0m\n",
      "\u001b[0;32m/usr/lib/python3.9/site-packages/xarray/core/merge.py\u001b[0m in \u001b[0;36mmerge_coordinates_without_align\u001b[0;34m(objects, prioritized, exclude_dims)\u001b[0m\n\u001b[1;32m    327\u001b[0m         \u001b[0mfiltered\u001b[0m \u001b[0;34m=\u001b[0m \u001b[0mcollected\u001b[0m\u001b[0;34m\u001b[0m\u001b[0;34m\u001b[0m\u001b[0m\n\u001b[1;32m    328\u001b[0m \u001b[0;34m\u001b[0m\u001b[0m\n\u001b[0;32m--> 329\u001b[0;31m     \u001b[0;32mreturn\u001b[0m \u001b[0mmerge_collected\u001b[0m\u001b[0;34m(\u001b[0m\u001b[0mfiltered\u001b[0m\u001b[0;34m,\u001b[0m \u001b[0mprioritized\u001b[0m\u001b[0;34m)\u001b[0m\u001b[0;34m\u001b[0m\u001b[0;34m\u001b[0m\u001b[0m\n\u001b[0m\u001b[1;32m    330\u001b[0m \u001b[0;34m\u001b[0m\u001b[0m\n\u001b[1;32m    331\u001b[0m \u001b[0;34m\u001b[0m\u001b[0m\n",
      "\u001b[0;32m/usr/lib/python3.9/site-packages/xarray/core/merge.py\u001b[0m in \u001b[0;36mmerge_collected\u001b[0;34m(grouped, prioritized, compat)\u001b[0m\n\u001b[1;32m    227\u001b[0m                 \u001b[0mvariables\u001b[0m \u001b[0;34m=\u001b[0m \u001b[0;34m[\u001b[0m\u001b[0mvariable\u001b[0m \u001b[0;32mfor\u001b[0m \u001b[0mvariable\u001b[0m\u001b[0;34m,\u001b[0m \u001b[0m_\u001b[0m \u001b[0;32min\u001b[0m \u001b[0melements_list\u001b[0m\u001b[0;34m]\u001b[0m\u001b[0;34m\u001b[0m\u001b[0;34m\u001b[0m\u001b[0m\n\u001b[1;32m    228\u001b[0m                 \u001b[0;32mtry\u001b[0m\u001b[0;34m:\u001b[0m\u001b[0;34m\u001b[0m\u001b[0;34m\u001b[0m\u001b[0m\n\u001b[0;32m--> 229\u001b[0;31m                     \u001b[0mmerged_vars\u001b[0m\u001b[0;34m[\u001b[0m\u001b[0mname\u001b[0m\u001b[0;34m]\u001b[0m \u001b[0;34m=\u001b[0m \u001b[0munique_variable\u001b[0m\u001b[0;34m(\u001b[0m\u001b[0mname\u001b[0m\u001b[0;34m,\u001b[0m \u001b[0mvariables\u001b[0m\u001b[0;34m,\u001b[0m \u001b[0mcompat\u001b[0m\u001b[0;34m)\u001b[0m\u001b[0;34m\u001b[0m\u001b[0;34m\u001b[0m\u001b[0m\n\u001b[0m\u001b[1;32m    230\u001b[0m                 \u001b[0;32mexcept\u001b[0m \u001b[0mMergeError\u001b[0m\u001b[0;34m:\u001b[0m\u001b[0;34m\u001b[0m\u001b[0;34m\u001b[0m\u001b[0m\n\u001b[1;32m    231\u001b[0m                     \u001b[0;32mif\u001b[0m \u001b[0mcompat\u001b[0m \u001b[0;34m!=\u001b[0m \u001b[0;34m\"minimal\"\u001b[0m\u001b[0;34m:\u001b[0m\u001b[0;34m\u001b[0m\u001b[0;34m\u001b[0m\u001b[0m\n",
      "\u001b[0;32m/usr/lib/python3.9/site-packages/xarray/core/merge.py\u001b[0m in \u001b[0;36munique_variable\u001b[0;34m(name, variables, compat, equals)\u001b[0m\n\u001b[1;32m    132\u001b[0m         \u001b[0;32mif\u001b[0m \u001b[0mequals\u001b[0m \u001b[0;32mis\u001b[0m \u001b[0;32mNone\u001b[0m\u001b[0;34m:\u001b[0m\u001b[0;34m\u001b[0m\u001b[0;34m\u001b[0m\u001b[0m\n\u001b[1;32m    133\u001b[0m             \u001b[0;31m# now compare values with minimum number of computes\u001b[0m\u001b[0;34m\u001b[0m\u001b[0;34m\u001b[0m\u001b[0;34m\u001b[0m\u001b[0m\n\u001b[0;32m--> 134\u001b[0;31m             \u001b[0mout\u001b[0m \u001b[0;34m=\u001b[0m \u001b[0mout\u001b[0m\u001b[0;34m.\u001b[0m\u001b[0mcompute\u001b[0m\u001b[0;34m(\u001b[0m\u001b[0;34m)\u001b[0m\u001b[0;34m\u001b[0m\u001b[0;34m\u001b[0m\u001b[0m\n\u001b[0m\u001b[1;32m    135\u001b[0m             \u001b[0;32mfor\u001b[0m \u001b[0mvar\u001b[0m \u001b[0;32min\u001b[0m \u001b[0mvariables\u001b[0m\u001b[0;34m[\u001b[0m\u001b[0;36m1\u001b[0m\u001b[0;34m:\u001b[0m\u001b[0;34m]\u001b[0m\u001b[0;34m:\u001b[0m\u001b[0;34m\u001b[0m\u001b[0;34m\u001b[0m\u001b[0m\n\u001b[1;32m    136\u001b[0m                 \u001b[0mequals\u001b[0m \u001b[0;34m=\u001b[0m \u001b[0mgetattr\u001b[0m\u001b[0;34m(\u001b[0m\u001b[0mout\u001b[0m\u001b[0;34m,\u001b[0m \u001b[0mcompat\u001b[0m\u001b[0;34m)\u001b[0m\u001b[0;34m(\u001b[0m\u001b[0mvar\u001b[0m\u001b[0;34m)\u001b[0m\u001b[0;34m\u001b[0m\u001b[0;34m\u001b[0m\u001b[0m\n",
      "\u001b[0;32m/usr/lib/python3.9/site-packages/xarray/core/variable.py\u001b[0m in \u001b[0;36mcompute\u001b[0;34m(self, **kwargs)\u001b[0m\n\u001b[1;32m    501\u001b[0m         \"\"\"\n\u001b[1;32m    502\u001b[0m         \u001b[0mnew\u001b[0m \u001b[0;34m=\u001b[0m \u001b[0mself\u001b[0m\u001b[0;34m.\u001b[0m\u001b[0mcopy\u001b[0m\u001b[0;34m(\u001b[0m\u001b[0mdeep\u001b[0m\u001b[0;34m=\u001b[0m\u001b[0;32mFalse\u001b[0m\u001b[0;34m)\u001b[0m\u001b[0;34m\u001b[0m\u001b[0;34m\u001b[0m\u001b[0m\n\u001b[0;32m--> 503\u001b[0;31m         \u001b[0;32mreturn\u001b[0m \u001b[0mnew\u001b[0m\u001b[0;34m.\u001b[0m\u001b[0mload\u001b[0m\u001b[0;34m(\u001b[0m\u001b[0;34m**\u001b[0m\u001b[0mkwargs\u001b[0m\u001b[0;34m)\u001b[0m\u001b[0;34m\u001b[0m\u001b[0;34m\u001b[0m\u001b[0m\n\u001b[0m\u001b[1;32m    504\u001b[0m \u001b[0;34m\u001b[0m\u001b[0m\n\u001b[1;32m    505\u001b[0m     \u001b[0;32mdef\u001b[0m \u001b[0m__dask_tokenize__\u001b[0m\u001b[0;34m(\u001b[0m\u001b[0mself\u001b[0m\u001b[0;34m)\u001b[0m\u001b[0;34m:\u001b[0m\u001b[0;34m\u001b[0m\u001b[0;34m\u001b[0m\u001b[0m\n",
      "\u001b[0;32m/usr/lib/python3.9/site-packages/xarray/core/variable.py\u001b[0m in \u001b[0;36mload\u001b[0;34m(self, **kwargs)\u001b[0m\n\u001b[1;32m    477\u001b[0m         \"\"\"\n\u001b[1;32m    478\u001b[0m         \u001b[0;32mif\u001b[0m \u001b[0mis_duck_dask_array\u001b[0m\u001b[0;34m(\u001b[0m\u001b[0mself\u001b[0m\u001b[0;34m.\u001b[0m\u001b[0m_data\u001b[0m\u001b[0;34m)\u001b[0m\u001b[0;34m:\u001b[0m\u001b[0;34m\u001b[0m\u001b[0;34m\u001b[0m\u001b[0m\n\u001b[0;32m--> 479\u001b[0;31m             \u001b[0mself\u001b[0m\u001b[0;34m.\u001b[0m\u001b[0m_data\u001b[0m \u001b[0;34m=\u001b[0m \u001b[0mas_compatible_data\u001b[0m\u001b[0;34m(\u001b[0m\u001b[0mself\u001b[0m\u001b[0;34m.\u001b[0m\u001b[0m_data\u001b[0m\u001b[0;34m.\u001b[0m\u001b[0mcompute\u001b[0m\u001b[0;34m(\u001b[0m\u001b[0;34m**\u001b[0m\u001b[0mkwargs\u001b[0m\u001b[0;34m)\u001b[0m\u001b[0;34m)\u001b[0m\u001b[0;34m\u001b[0m\u001b[0;34m\u001b[0m\u001b[0m\n\u001b[0m\u001b[1;32m    480\u001b[0m         \u001b[0;32melif\u001b[0m \u001b[0;32mnot\u001b[0m \u001b[0mis_duck_array\u001b[0m\u001b[0;34m(\u001b[0m\u001b[0mself\u001b[0m\u001b[0;34m.\u001b[0m\u001b[0m_data\u001b[0m\u001b[0;34m)\u001b[0m\u001b[0;34m:\u001b[0m\u001b[0;34m\u001b[0m\u001b[0;34m\u001b[0m\u001b[0m\n\u001b[1;32m    481\u001b[0m             \u001b[0mself\u001b[0m\u001b[0;34m.\u001b[0m\u001b[0m_data\u001b[0m \u001b[0;34m=\u001b[0m \u001b[0mnp\u001b[0m\u001b[0;34m.\u001b[0m\u001b[0masarray\u001b[0m\u001b[0;34m(\u001b[0m\u001b[0mself\u001b[0m\u001b[0;34m.\u001b[0m\u001b[0m_data\u001b[0m\u001b[0;34m)\u001b[0m\u001b[0;34m\u001b[0m\u001b[0;34m\u001b[0m\u001b[0m\n",
      "\u001b[0;32m/usr/lib/python3.9/site-packages/dask/base.py\u001b[0m in \u001b[0;36mcompute\u001b[0;34m(self, **kwargs)\u001b[0m\n\u001b[1;32m    281\u001b[0m         \u001b[0mdask\u001b[0m\u001b[0;34m.\u001b[0m\u001b[0mbase\u001b[0m\u001b[0;34m.\u001b[0m\u001b[0mcompute\u001b[0m\u001b[0;34m\u001b[0m\u001b[0;34m\u001b[0m\u001b[0m\n\u001b[1;32m    282\u001b[0m         \"\"\"\n\u001b[0;32m--> 283\u001b[0;31m         \u001b[0;34m(\u001b[0m\u001b[0mresult\u001b[0m\u001b[0;34m,\u001b[0m\u001b[0;34m)\u001b[0m \u001b[0;34m=\u001b[0m \u001b[0mcompute\u001b[0m\u001b[0;34m(\u001b[0m\u001b[0mself\u001b[0m\u001b[0;34m,\u001b[0m \u001b[0mtraverse\u001b[0m\u001b[0;34m=\u001b[0m\u001b[0;32mFalse\u001b[0m\u001b[0;34m,\u001b[0m \u001b[0;34m**\u001b[0m\u001b[0mkwargs\u001b[0m\u001b[0;34m)\u001b[0m\u001b[0;34m\u001b[0m\u001b[0;34m\u001b[0m\u001b[0m\n\u001b[0m\u001b[1;32m    284\u001b[0m         \u001b[0;32mreturn\u001b[0m \u001b[0mresult\u001b[0m\u001b[0;34m\u001b[0m\u001b[0;34m\u001b[0m\u001b[0m\n\u001b[1;32m    285\u001b[0m \u001b[0;34m\u001b[0m\u001b[0m\n",
      "\u001b[0;32m/usr/lib/python3.9/site-packages/dask/base.py\u001b[0m in \u001b[0;36mcompute\u001b[0;34m(*args, **kwargs)\u001b[0m\n\u001b[1;32m    563\u001b[0m         \u001b[0mpostcomputes\u001b[0m\u001b[0;34m.\u001b[0m\u001b[0mappend\u001b[0m\u001b[0;34m(\u001b[0m\u001b[0mx\u001b[0m\u001b[0;34m.\u001b[0m\u001b[0m__dask_postcompute__\u001b[0m\u001b[0;34m(\u001b[0m\u001b[0;34m)\u001b[0m\u001b[0;34m)\u001b[0m\u001b[0;34m\u001b[0m\u001b[0;34m\u001b[0m\u001b[0m\n\u001b[1;32m    564\u001b[0m \u001b[0;34m\u001b[0m\u001b[0m\n\u001b[0;32m--> 565\u001b[0;31m     \u001b[0mresults\u001b[0m \u001b[0;34m=\u001b[0m \u001b[0mschedule\u001b[0m\u001b[0;34m(\u001b[0m\u001b[0mdsk\u001b[0m\u001b[0;34m,\u001b[0m \u001b[0mkeys\u001b[0m\u001b[0;34m,\u001b[0m \u001b[0;34m**\u001b[0m\u001b[0mkwargs\u001b[0m\u001b[0;34m)\u001b[0m\u001b[0;34m\u001b[0m\u001b[0;34m\u001b[0m\u001b[0m\n\u001b[0m\u001b[1;32m    566\u001b[0m     \u001b[0;32mreturn\u001b[0m \u001b[0mrepack\u001b[0m\u001b[0;34m(\u001b[0m\u001b[0;34m[\u001b[0m\u001b[0mf\u001b[0m\u001b[0;34m(\u001b[0m\u001b[0mr\u001b[0m\u001b[0;34m,\u001b[0m \u001b[0;34m*\u001b[0m\u001b[0ma\u001b[0m\u001b[0;34m)\u001b[0m \u001b[0;32mfor\u001b[0m \u001b[0mr\u001b[0m\u001b[0;34m,\u001b[0m \u001b[0;34m(\u001b[0m\u001b[0mf\u001b[0m\u001b[0;34m,\u001b[0m \u001b[0ma\u001b[0m\u001b[0;34m)\u001b[0m \u001b[0;32min\u001b[0m \u001b[0mzip\u001b[0m\u001b[0;34m(\u001b[0m\u001b[0mresults\u001b[0m\u001b[0;34m,\u001b[0m \u001b[0mpostcomputes\u001b[0m\u001b[0;34m)\u001b[0m\u001b[0;34m]\u001b[0m\u001b[0;34m)\u001b[0m\u001b[0;34m\u001b[0m\u001b[0;34m\u001b[0m\u001b[0m\n\u001b[1;32m    567\u001b[0m \u001b[0;34m\u001b[0m\u001b[0m\n",
      "\u001b[0;32m/usr/lib/python3.9/site-packages/dask/threaded.py\u001b[0m in \u001b[0;36mget\u001b[0;34m(dsk, result, cache, num_workers, pool, **kwargs)\u001b[0m\n\u001b[1;32m     74\u001b[0m                 \u001b[0mpools\u001b[0m\u001b[0;34m[\u001b[0m\u001b[0mthread\u001b[0m\u001b[0;34m]\u001b[0m\u001b[0;34m[\u001b[0m\u001b[0mnum_workers\u001b[0m\u001b[0;34m]\u001b[0m \u001b[0;34m=\u001b[0m \u001b[0mpool\u001b[0m\u001b[0;34m\u001b[0m\u001b[0;34m\u001b[0m\u001b[0m\n\u001b[1;32m     75\u001b[0m \u001b[0;34m\u001b[0m\u001b[0m\n\u001b[0;32m---> 76\u001b[0;31m     results = get_async(\n\u001b[0m\u001b[1;32m     77\u001b[0m         \u001b[0mpool\u001b[0m\u001b[0;34m.\u001b[0m\u001b[0mapply_async\u001b[0m\u001b[0;34m,\u001b[0m\u001b[0;34m\u001b[0m\u001b[0;34m\u001b[0m\u001b[0m\n\u001b[1;32m     78\u001b[0m         \u001b[0mlen\u001b[0m\u001b[0;34m(\u001b[0m\u001b[0mpool\u001b[0m\u001b[0;34m.\u001b[0m\u001b[0m_pool\u001b[0m\u001b[0;34m)\u001b[0m\u001b[0;34m,\u001b[0m\u001b[0;34m\u001b[0m\u001b[0;34m\u001b[0m\u001b[0m\n",
      "\u001b[0;32m/usr/lib/python3.9/site-packages/dask/local.py\u001b[0m in \u001b[0;36mget_async\u001b[0;34m(apply_async, num_workers, dsk, result, cache, get_id, rerun_exceptions_locally, pack_exception, raise_exception, callbacks, dumps, loads, **kwargs)\u001b[0m\n\u001b[1;32m    485\u001b[0m                         \u001b[0m_execute_task\u001b[0m\u001b[0;34m(\u001b[0m\u001b[0mtask\u001b[0m\u001b[0;34m,\u001b[0m \u001b[0mdata\u001b[0m\u001b[0;34m)\u001b[0m  \u001b[0;31m# Re-execute locally\u001b[0m\u001b[0;34m\u001b[0m\u001b[0;34m\u001b[0m\u001b[0m\n\u001b[1;32m    486\u001b[0m                     \u001b[0;32melse\u001b[0m\u001b[0;34m:\u001b[0m\u001b[0;34m\u001b[0m\u001b[0;34m\u001b[0m\u001b[0m\n\u001b[0;32m--> 487\u001b[0;31m                         \u001b[0mraise_exception\u001b[0m\u001b[0;34m(\u001b[0m\u001b[0mexc\u001b[0m\u001b[0;34m,\u001b[0m \u001b[0mtb\u001b[0m\u001b[0;34m)\u001b[0m\u001b[0;34m\u001b[0m\u001b[0;34m\u001b[0m\u001b[0m\n\u001b[0m\u001b[1;32m    488\u001b[0m                 \u001b[0mres\u001b[0m\u001b[0;34m,\u001b[0m \u001b[0mworker_id\u001b[0m \u001b[0;34m=\u001b[0m \u001b[0mloads\u001b[0m\u001b[0;34m(\u001b[0m\u001b[0mres_info\u001b[0m\u001b[0;34m)\u001b[0m\u001b[0;34m\u001b[0m\u001b[0;34m\u001b[0m\u001b[0m\n\u001b[1;32m    489\u001b[0m                 \u001b[0mstate\u001b[0m\u001b[0;34m[\u001b[0m\u001b[0;34m\"cache\"\u001b[0m\u001b[0;34m]\u001b[0m\u001b[0;34m[\u001b[0m\u001b[0mkey\u001b[0m\u001b[0;34m]\u001b[0m \u001b[0;34m=\u001b[0m \u001b[0mres\u001b[0m\u001b[0;34m\u001b[0m\u001b[0;34m\u001b[0m\u001b[0m\n",
      "\u001b[0;32m/usr/lib/python3.9/site-packages/dask/local.py\u001b[0m in \u001b[0;36mreraise\u001b[0;34m(exc, tb)\u001b[0m\n\u001b[1;32m    315\u001b[0m     \u001b[0;32mif\u001b[0m \u001b[0mexc\u001b[0m\u001b[0;34m.\u001b[0m\u001b[0m__traceback__\u001b[0m \u001b[0;32mis\u001b[0m \u001b[0;32mnot\u001b[0m \u001b[0mtb\u001b[0m\u001b[0;34m:\u001b[0m\u001b[0;34m\u001b[0m\u001b[0;34m\u001b[0m\u001b[0m\n\u001b[1;32m    316\u001b[0m         \u001b[0;32mraise\u001b[0m \u001b[0mexc\u001b[0m\u001b[0;34m.\u001b[0m\u001b[0mwith_traceback\u001b[0m\u001b[0;34m(\u001b[0m\u001b[0mtb\u001b[0m\u001b[0;34m)\u001b[0m\u001b[0;34m\u001b[0m\u001b[0;34m\u001b[0m\u001b[0m\n\u001b[0;32m--> 317\u001b[0;31m     \u001b[0;32mraise\u001b[0m \u001b[0mexc\u001b[0m\u001b[0;34m\u001b[0m\u001b[0;34m\u001b[0m\u001b[0m\n\u001b[0m\u001b[1;32m    318\u001b[0m \u001b[0;34m\u001b[0m\u001b[0m\n\u001b[1;32m    319\u001b[0m \u001b[0;34m\u001b[0m\u001b[0m\n",
      "\u001b[0;32m/usr/lib/python3.9/site-packages/dask/local.py\u001b[0m in \u001b[0;36mexecute_task\u001b[0;34m(key, task_info, dumps, loads, get_id, pack_exception)\u001b[0m\n\u001b[1;32m    220\u001b[0m     \u001b[0;32mtry\u001b[0m\u001b[0;34m:\u001b[0m\u001b[0;34m\u001b[0m\u001b[0;34m\u001b[0m\u001b[0m\n\u001b[1;32m    221\u001b[0m         \u001b[0mtask\u001b[0m\u001b[0;34m,\u001b[0m \u001b[0mdata\u001b[0m \u001b[0;34m=\u001b[0m \u001b[0mloads\u001b[0m\u001b[0;34m(\u001b[0m\u001b[0mtask_info\u001b[0m\u001b[0;34m)\u001b[0m\u001b[0;34m\u001b[0m\u001b[0;34m\u001b[0m\u001b[0m\n\u001b[0;32m--> 222\u001b[0;31m         \u001b[0mresult\u001b[0m \u001b[0;34m=\u001b[0m \u001b[0m_execute_task\u001b[0m\u001b[0;34m(\u001b[0m\u001b[0mtask\u001b[0m\u001b[0;34m,\u001b[0m \u001b[0mdata\u001b[0m\u001b[0;34m)\u001b[0m\u001b[0;34m\u001b[0m\u001b[0;34m\u001b[0m\u001b[0m\n\u001b[0m\u001b[1;32m    223\u001b[0m         \u001b[0mid\u001b[0m \u001b[0;34m=\u001b[0m \u001b[0mget_id\u001b[0m\u001b[0;34m(\u001b[0m\u001b[0;34m)\u001b[0m\u001b[0;34m\u001b[0m\u001b[0;34m\u001b[0m\u001b[0m\n\u001b[1;32m    224\u001b[0m         \u001b[0mresult\u001b[0m \u001b[0;34m=\u001b[0m \u001b[0mdumps\u001b[0m\u001b[0;34m(\u001b[0m\u001b[0;34m(\u001b[0m\u001b[0mresult\u001b[0m\u001b[0;34m,\u001b[0m \u001b[0mid\u001b[0m\u001b[0;34m)\u001b[0m\u001b[0;34m)\u001b[0m\u001b[0;34m\u001b[0m\u001b[0;34m\u001b[0m\u001b[0m\n",
      "\u001b[0;32m/usr/lib/python3.9/site-packages/dask/core.py\u001b[0m in \u001b[0;36m_execute_task\u001b[0;34m(arg, cache, dsk)\u001b[0m\n\u001b[1;32m    119\u001b[0m         \u001b[0;31m# temporaries by their reference count and can execute certain\u001b[0m\u001b[0;34m\u001b[0m\u001b[0;34m\u001b[0m\u001b[0;34m\u001b[0m\u001b[0m\n\u001b[1;32m    120\u001b[0m         \u001b[0;31m# operations in-place.\u001b[0m\u001b[0;34m\u001b[0m\u001b[0;34m\u001b[0m\u001b[0;34m\u001b[0m\u001b[0m\n\u001b[0;32m--> 121\u001b[0;31m         \u001b[0;32mreturn\u001b[0m \u001b[0mfunc\u001b[0m\u001b[0;34m(\u001b[0m\u001b[0;34m*\u001b[0m\u001b[0;34m(\u001b[0m\u001b[0m_execute_task\u001b[0m\u001b[0;34m(\u001b[0m\u001b[0ma\u001b[0m\u001b[0;34m,\u001b[0m \u001b[0mcache\u001b[0m\u001b[0;34m)\u001b[0m \u001b[0;32mfor\u001b[0m \u001b[0ma\u001b[0m \u001b[0;32min\u001b[0m \u001b[0margs\u001b[0m\u001b[0;34m)\u001b[0m\u001b[0;34m)\u001b[0m\u001b[0;34m\u001b[0m\u001b[0;34m\u001b[0m\u001b[0m\n\u001b[0m\u001b[1;32m    122\u001b[0m     \u001b[0;32melif\u001b[0m \u001b[0;32mnot\u001b[0m \u001b[0mishashable\u001b[0m\u001b[0;34m(\u001b[0m\u001b[0marg\u001b[0m\u001b[0;34m)\u001b[0m\u001b[0;34m:\u001b[0m\u001b[0;34m\u001b[0m\u001b[0;34m\u001b[0m\u001b[0m\n\u001b[1;32m    123\u001b[0m         \u001b[0;32mreturn\u001b[0m \u001b[0marg\u001b[0m\u001b[0;34m\u001b[0m\u001b[0;34m\u001b[0m\u001b[0m\n",
      "\u001b[0;32m/usr/lib/python3.9/site-packages/dask/array/core.py\u001b[0m in \u001b[0;36mgetter\u001b[0;34m(a, b, asarray, lock)\u001b[0m\n\u001b[1;32m    113\u001b[0m         \u001b[0;31m# `is_arraylike` evaluates to `True` in that case.\u001b[0m\u001b[0;34m\u001b[0m\u001b[0;34m\u001b[0m\u001b[0;34m\u001b[0m\u001b[0m\n\u001b[1;32m    114\u001b[0m         \u001b[0;32mif\u001b[0m \u001b[0masarray\u001b[0m \u001b[0;32mand\u001b[0m \u001b[0;34m(\u001b[0m\u001b[0;32mnot\u001b[0m \u001b[0mis_arraylike\u001b[0m\u001b[0;34m(\u001b[0m\u001b[0mc\u001b[0m\u001b[0;34m)\u001b[0m \u001b[0;32mor\u001b[0m \u001b[0misinstance\u001b[0m\u001b[0;34m(\u001b[0m\u001b[0mc\u001b[0m\u001b[0;34m,\u001b[0m \u001b[0mnp\u001b[0m\u001b[0;34m.\u001b[0m\u001b[0mmatrix\u001b[0m\u001b[0;34m)\u001b[0m\u001b[0;34m)\u001b[0m\u001b[0;34m:\u001b[0m\u001b[0;34m\u001b[0m\u001b[0;34m\u001b[0m\u001b[0m\n\u001b[0;32m--> 115\u001b[0;31m             \u001b[0mc\u001b[0m \u001b[0;34m=\u001b[0m \u001b[0mnp\u001b[0m\u001b[0;34m.\u001b[0m\u001b[0masarray\u001b[0m\u001b[0;34m(\u001b[0m\u001b[0mc\u001b[0m\u001b[0;34m)\u001b[0m\u001b[0;34m\u001b[0m\u001b[0;34m\u001b[0m\u001b[0m\n\u001b[0m\u001b[1;32m    116\u001b[0m     \u001b[0;32mfinally\u001b[0m\u001b[0;34m:\u001b[0m\u001b[0;34m\u001b[0m\u001b[0;34m\u001b[0m\u001b[0m\n\u001b[1;32m    117\u001b[0m         \u001b[0;32mif\u001b[0m \u001b[0mlock\u001b[0m\u001b[0;34m:\u001b[0m\u001b[0;34m\u001b[0m\u001b[0;34m\u001b[0m\u001b[0m\n",
      "\u001b[0;32m/usr/lib/python3.9/site-packages/numpy/core/_asarray.py\u001b[0m in \u001b[0;36masarray\u001b[0;34m(a, dtype, order, like)\u001b[0m\n\u001b[1;32m    100\u001b[0m         \u001b[0;32mreturn\u001b[0m \u001b[0m_asarray_with_like\u001b[0m\u001b[0;34m(\u001b[0m\u001b[0ma\u001b[0m\u001b[0;34m,\u001b[0m \u001b[0mdtype\u001b[0m\u001b[0;34m=\u001b[0m\u001b[0mdtype\u001b[0m\u001b[0;34m,\u001b[0m \u001b[0morder\u001b[0m\u001b[0;34m=\u001b[0m\u001b[0morder\u001b[0m\u001b[0;34m,\u001b[0m \u001b[0mlike\u001b[0m\u001b[0;34m=\u001b[0m\u001b[0mlike\u001b[0m\u001b[0;34m)\u001b[0m\u001b[0;34m\u001b[0m\u001b[0;34m\u001b[0m\u001b[0m\n\u001b[1;32m    101\u001b[0m \u001b[0;34m\u001b[0m\u001b[0m\n\u001b[0;32m--> 102\u001b[0;31m     \u001b[0;32mreturn\u001b[0m \u001b[0marray\u001b[0m\u001b[0;34m(\u001b[0m\u001b[0ma\u001b[0m\u001b[0;34m,\u001b[0m \u001b[0mdtype\u001b[0m\u001b[0;34m,\u001b[0m \u001b[0mcopy\u001b[0m\u001b[0;34m=\u001b[0m\u001b[0;32mFalse\u001b[0m\u001b[0;34m,\u001b[0m \u001b[0morder\u001b[0m\u001b[0;34m=\u001b[0m\u001b[0morder\u001b[0m\u001b[0;34m)\u001b[0m\u001b[0;34m\u001b[0m\u001b[0;34m\u001b[0m\u001b[0m\n\u001b[0m\u001b[1;32m    103\u001b[0m \u001b[0;34m\u001b[0m\u001b[0m\n\u001b[1;32m    104\u001b[0m \u001b[0;34m\u001b[0m\u001b[0m\n",
      "\u001b[0;32m/usr/lib/python3.9/site-packages/xarray/core/indexing.py\u001b[0m in \u001b[0;36m__array__\u001b[0;34m(self, dtype)\u001b[0m\n\u001b[1;32m    501\u001b[0m \u001b[0;34m\u001b[0m\u001b[0m\n\u001b[1;32m    502\u001b[0m     \u001b[0;32mdef\u001b[0m \u001b[0m__array__\u001b[0m\u001b[0;34m(\u001b[0m\u001b[0mself\u001b[0m\u001b[0;34m,\u001b[0m \u001b[0mdtype\u001b[0m\u001b[0;34m=\u001b[0m\u001b[0;32mNone\u001b[0m\u001b[0;34m)\u001b[0m\u001b[0;34m:\u001b[0m\u001b[0;34m\u001b[0m\u001b[0;34m\u001b[0m\u001b[0m\n\u001b[0;32m--> 503\u001b[0;31m         \u001b[0;32mreturn\u001b[0m \u001b[0mnp\u001b[0m\u001b[0;34m.\u001b[0m\u001b[0masarray\u001b[0m\u001b[0;34m(\u001b[0m\u001b[0mself\u001b[0m\u001b[0;34m.\u001b[0m\u001b[0marray\u001b[0m\u001b[0;34m,\u001b[0m \u001b[0mdtype\u001b[0m\u001b[0;34m=\u001b[0m\u001b[0mdtype\u001b[0m\u001b[0;34m)\u001b[0m\u001b[0;34m\u001b[0m\u001b[0;34m\u001b[0m\u001b[0m\n\u001b[0m\u001b[1;32m    504\u001b[0m \u001b[0;34m\u001b[0m\u001b[0m\n\u001b[1;32m    505\u001b[0m     \u001b[0;32mdef\u001b[0m \u001b[0m__getitem__\u001b[0m\u001b[0;34m(\u001b[0m\u001b[0mself\u001b[0m\u001b[0;34m,\u001b[0m \u001b[0mkey\u001b[0m\u001b[0;34m)\u001b[0m\u001b[0;34m:\u001b[0m\u001b[0;34m\u001b[0m\u001b[0;34m\u001b[0m\u001b[0m\n",
      "\u001b[0;32m/usr/lib/python3.9/site-packages/numpy/core/_asarray.py\u001b[0m in \u001b[0;36masarray\u001b[0;34m(a, dtype, order, like)\u001b[0m\n\u001b[1;32m    100\u001b[0m         \u001b[0;32mreturn\u001b[0m \u001b[0m_asarray_with_like\u001b[0m\u001b[0;34m(\u001b[0m\u001b[0ma\u001b[0m\u001b[0;34m,\u001b[0m \u001b[0mdtype\u001b[0m\u001b[0;34m=\u001b[0m\u001b[0mdtype\u001b[0m\u001b[0;34m,\u001b[0m \u001b[0morder\u001b[0m\u001b[0;34m=\u001b[0m\u001b[0morder\u001b[0m\u001b[0;34m,\u001b[0m \u001b[0mlike\u001b[0m\u001b[0;34m=\u001b[0m\u001b[0mlike\u001b[0m\u001b[0;34m)\u001b[0m\u001b[0;34m\u001b[0m\u001b[0;34m\u001b[0m\u001b[0m\n\u001b[1;32m    101\u001b[0m \u001b[0;34m\u001b[0m\u001b[0m\n\u001b[0;32m--> 102\u001b[0;31m     \u001b[0;32mreturn\u001b[0m \u001b[0marray\u001b[0m\u001b[0;34m(\u001b[0m\u001b[0ma\u001b[0m\u001b[0;34m,\u001b[0m \u001b[0mdtype\u001b[0m\u001b[0;34m,\u001b[0m \u001b[0mcopy\u001b[0m\u001b[0;34m=\u001b[0m\u001b[0;32mFalse\u001b[0m\u001b[0;34m,\u001b[0m \u001b[0morder\u001b[0m\u001b[0;34m=\u001b[0m\u001b[0morder\u001b[0m\u001b[0;34m)\u001b[0m\u001b[0;34m\u001b[0m\u001b[0;34m\u001b[0m\u001b[0m\n\u001b[0m\u001b[1;32m    103\u001b[0m \u001b[0;34m\u001b[0m\u001b[0m\n\u001b[1;32m    104\u001b[0m \u001b[0;34m\u001b[0m\u001b[0m\n",
      "\u001b[0;32m/usr/lib/python3.9/site-packages/xarray/core/indexing.py\u001b[0m in \u001b[0;36m__array__\u001b[0;34m(self, dtype)\u001b[0m\n\u001b[1;32m    661\u001b[0m \u001b[0;34m\u001b[0m\u001b[0m\n\u001b[1;32m    662\u001b[0m     \u001b[0;32mdef\u001b[0m \u001b[0m__array__\u001b[0m\u001b[0;34m(\u001b[0m\u001b[0mself\u001b[0m\u001b[0;34m,\u001b[0m \u001b[0mdtype\u001b[0m\u001b[0;34m=\u001b[0m\u001b[0;32mNone\u001b[0m\u001b[0;34m)\u001b[0m\u001b[0;34m:\u001b[0m\u001b[0;34m\u001b[0m\u001b[0;34m\u001b[0m\u001b[0m\n\u001b[0;32m--> 663\u001b[0;31m         \u001b[0;32mreturn\u001b[0m \u001b[0mnp\u001b[0m\u001b[0;34m.\u001b[0m\u001b[0masarray\u001b[0m\u001b[0;34m(\u001b[0m\u001b[0mself\u001b[0m\u001b[0;34m.\u001b[0m\u001b[0marray\u001b[0m\u001b[0;34m,\u001b[0m \u001b[0mdtype\u001b[0m\u001b[0;34m=\u001b[0m\u001b[0mdtype\u001b[0m\u001b[0;34m)\u001b[0m\u001b[0;34m\u001b[0m\u001b[0;34m\u001b[0m\u001b[0m\n\u001b[0m\u001b[1;32m    664\u001b[0m \u001b[0;34m\u001b[0m\u001b[0m\n\u001b[1;32m    665\u001b[0m     \u001b[0;32mdef\u001b[0m \u001b[0m__getitem__\u001b[0m\u001b[0;34m(\u001b[0m\u001b[0mself\u001b[0m\u001b[0;34m,\u001b[0m \u001b[0mkey\u001b[0m\u001b[0;34m)\u001b[0m\u001b[0;34m:\u001b[0m\u001b[0;34m\u001b[0m\u001b[0;34m\u001b[0m\u001b[0m\n",
      "\u001b[0;32m/usr/lib/python3.9/site-packages/numpy/core/_asarray.py\u001b[0m in \u001b[0;36masarray\u001b[0;34m(a, dtype, order, like)\u001b[0m\n\u001b[1;32m    100\u001b[0m         \u001b[0;32mreturn\u001b[0m \u001b[0m_asarray_with_like\u001b[0m\u001b[0;34m(\u001b[0m\u001b[0ma\u001b[0m\u001b[0;34m,\u001b[0m \u001b[0mdtype\u001b[0m\u001b[0;34m=\u001b[0m\u001b[0mdtype\u001b[0m\u001b[0;34m,\u001b[0m \u001b[0morder\u001b[0m\u001b[0;34m=\u001b[0m\u001b[0morder\u001b[0m\u001b[0;34m,\u001b[0m \u001b[0mlike\u001b[0m\u001b[0;34m=\u001b[0m\u001b[0mlike\u001b[0m\u001b[0;34m)\u001b[0m\u001b[0;34m\u001b[0m\u001b[0;34m\u001b[0m\u001b[0m\n\u001b[1;32m    101\u001b[0m \u001b[0;34m\u001b[0m\u001b[0m\n\u001b[0;32m--> 102\u001b[0;31m     \u001b[0;32mreturn\u001b[0m \u001b[0marray\u001b[0m\u001b[0;34m(\u001b[0m\u001b[0ma\u001b[0m\u001b[0;34m,\u001b[0m \u001b[0mdtype\u001b[0m\u001b[0;34m,\u001b[0m \u001b[0mcopy\u001b[0m\u001b[0;34m=\u001b[0m\u001b[0;32mFalse\u001b[0m\u001b[0;34m,\u001b[0m \u001b[0morder\u001b[0m\u001b[0;34m=\u001b[0m\u001b[0morder\u001b[0m\u001b[0;34m)\u001b[0m\u001b[0;34m\u001b[0m\u001b[0;34m\u001b[0m\u001b[0m\n\u001b[0m\u001b[1;32m    103\u001b[0m \u001b[0;34m\u001b[0m\u001b[0m\n\u001b[1;32m    104\u001b[0m \u001b[0;34m\u001b[0m\u001b[0m\n",
      "\u001b[0;32m/usr/lib/python3.9/site-packages/xarray/core/indexing.py\u001b[0m in \u001b[0;36m__array__\u001b[0;34m(self, dtype)\u001b[0m\n\u001b[1;32m    566\u001b[0m     \u001b[0;32mdef\u001b[0m \u001b[0m__array__\u001b[0m\u001b[0;34m(\u001b[0m\u001b[0mself\u001b[0m\u001b[0;34m,\u001b[0m \u001b[0mdtype\u001b[0m\u001b[0;34m=\u001b[0m\u001b[0;32mNone\u001b[0m\u001b[0;34m)\u001b[0m\u001b[0;34m:\u001b[0m\u001b[0;34m\u001b[0m\u001b[0;34m\u001b[0m\u001b[0m\n\u001b[1;32m    567\u001b[0m         \u001b[0marray\u001b[0m \u001b[0;34m=\u001b[0m \u001b[0mas_indexable\u001b[0m\u001b[0;34m(\u001b[0m\u001b[0mself\u001b[0m\u001b[0;34m.\u001b[0m\u001b[0marray\u001b[0m\u001b[0;34m)\u001b[0m\u001b[0;34m\u001b[0m\u001b[0;34m\u001b[0m\u001b[0m\n\u001b[0;32m--> 568\u001b[0;31m         \u001b[0;32mreturn\u001b[0m \u001b[0mnp\u001b[0m\u001b[0;34m.\u001b[0m\u001b[0masarray\u001b[0m\u001b[0;34m(\u001b[0m\u001b[0marray\u001b[0m\u001b[0;34m[\u001b[0m\u001b[0mself\u001b[0m\u001b[0;34m.\u001b[0m\u001b[0mkey\u001b[0m\u001b[0;34m]\u001b[0m\u001b[0;34m,\u001b[0m \u001b[0mdtype\u001b[0m\u001b[0;34m=\u001b[0m\u001b[0;32mNone\u001b[0m\u001b[0;34m)\u001b[0m\u001b[0;34m\u001b[0m\u001b[0;34m\u001b[0m\u001b[0m\n\u001b[0m\u001b[1;32m    569\u001b[0m \u001b[0;34m\u001b[0m\u001b[0m\n\u001b[1;32m    570\u001b[0m     \u001b[0;32mdef\u001b[0m \u001b[0mtranspose\u001b[0m\u001b[0;34m(\u001b[0m\u001b[0mself\u001b[0m\u001b[0;34m,\u001b[0m \u001b[0morder\u001b[0m\u001b[0;34m)\u001b[0m\u001b[0;34m:\u001b[0m\u001b[0;34m\u001b[0m\u001b[0;34m\u001b[0m\u001b[0m\n",
      "\u001b[0;32m/usr/lib/python3.9/site-packages/xarray/backends/zarr.py\u001b[0m in \u001b[0;36m__getitem__\u001b[0;34m(self, key)\u001b[0m\n\u001b[1;32m     71\u001b[0m         \u001b[0marray\u001b[0m \u001b[0;34m=\u001b[0m \u001b[0mself\u001b[0m\u001b[0;34m.\u001b[0m\u001b[0mget_array\u001b[0m\u001b[0;34m(\u001b[0m\u001b[0;34m)\u001b[0m\u001b[0;34m\u001b[0m\u001b[0;34m\u001b[0m\u001b[0m\n\u001b[1;32m     72\u001b[0m         \u001b[0;32mif\u001b[0m \u001b[0misinstance\u001b[0m\u001b[0;34m(\u001b[0m\u001b[0mkey\u001b[0m\u001b[0;34m,\u001b[0m \u001b[0mindexing\u001b[0m\u001b[0;34m.\u001b[0m\u001b[0mBasicIndexer\u001b[0m\u001b[0;34m)\u001b[0m\u001b[0;34m:\u001b[0m\u001b[0;34m\u001b[0m\u001b[0;34m\u001b[0m\u001b[0m\n\u001b[0;32m---> 73\u001b[0;31m             \u001b[0;32mreturn\u001b[0m \u001b[0marray\u001b[0m\u001b[0;34m[\u001b[0m\u001b[0mkey\u001b[0m\u001b[0;34m.\u001b[0m\u001b[0mtuple\u001b[0m\u001b[0;34m]\u001b[0m\u001b[0;34m\u001b[0m\u001b[0;34m\u001b[0m\u001b[0m\n\u001b[0m\u001b[1;32m     74\u001b[0m         \u001b[0;32melif\u001b[0m \u001b[0misinstance\u001b[0m\u001b[0;34m(\u001b[0m\u001b[0mkey\u001b[0m\u001b[0;34m,\u001b[0m \u001b[0mindexing\u001b[0m\u001b[0;34m.\u001b[0m\u001b[0mVectorizedIndexer\u001b[0m\u001b[0;34m)\u001b[0m\u001b[0;34m:\u001b[0m\u001b[0;34m\u001b[0m\u001b[0;34m\u001b[0m\u001b[0m\n\u001b[1;32m     75\u001b[0m             return array.vindex[\n",
      "\u001b[0;32m/usr/lib/python3.9/site-packages/zarr/core.py\u001b[0m in \u001b[0;36m__getitem__\u001b[0;34m(self, selection)\u001b[0m\n\u001b[1;32m    569\u001b[0m \u001b[0;34m\u001b[0m\u001b[0m\n\u001b[1;32m    570\u001b[0m         \u001b[0mfields\u001b[0m\u001b[0;34m,\u001b[0m \u001b[0mselection\u001b[0m \u001b[0;34m=\u001b[0m \u001b[0mpop_fields\u001b[0m\u001b[0;34m(\u001b[0m\u001b[0mselection\u001b[0m\u001b[0;34m)\u001b[0m\u001b[0;34m\u001b[0m\u001b[0;34m\u001b[0m\u001b[0m\n\u001b[0;32m--> 571\u001b[0;31m         \u001b[0;32mreturn\u001b[0m \u001b[0mself\u001b[0m\u001b[0;34m.\u001b[0m\u001b[0mget_basic_selection\u001b[0m\u001b[0;34m(\u001b[0m\u001b[0mselection\u001b[0m\u001b[0;34m,\u001b[0m \u001b[0mfields\u001b[0m\u001b[0;34m=\u001b[0m\u001b[0mfields\u001b[0m\u001b[0;34m)\u001b[0m\u001b[0;34m\u001b[0m\u001b[0;34m\u001b[0m\u001b[0m\n\u001b[0m\u001b[1;32m    572\u001b[0m \u001b[0;34m\u001b[0m\u001b[0m\n\u001b[1;32m    573\u001b[0m     \u001b[0;32mdef\u001b[0m \u001b[0mget_basic_selection\u001b[0m\u001b[0;34m(\u001b[0m\u001b[0mself\u001b[0m\u001b[0;34m,\u001b[0m \u001b[0mselection\u001b[0m\u001b[0;34m=\u001b[0m\u001b[0mEllipsis\u001b[0m\u001b[0;34m,\u001b[0m \u001b[0mout\u001b[0m\u001b[0;34m=\u001b[0m\u001b[0;32mNone\u001b[0m\u001b[0;34m,\u001b[0m \u001b[0mfields\u001b[0m\u001b[0;34m=\u001b[0m\u001b[0;32mNone\u001b[0m\u001b[0;34m)\u001b[0m\u001b[0;34m:\u001b[0m\u001b[0;34m\u001b[0m\u001b[0;34m\u001b[0m\u001b[0m\n",
      "\u001b[0;32m/usr/lib/python3.9/site-packages/zarr/core.py\u001b[0m in \u001b[0;36mget_basic_selection\u001b[0;34m(self, selection, out, fields)\u001b[0m\n\u001b[1;32m    694\u001b[0m                                                 fields=fields)\n\u001b[1;32m    695\u001b[0m         \u001b[0;32melse\u001b[0m\u001b[0;34m:\u001b[0m\u001b[0;34m\u001b[0m\u001b[0;34m\u001b[0m\u001b[0m\n\u001b[0;32m--> 696\u001b[0;31m             return self._get_basic_selection_nd(selection=selection, out=out,\n\u001b[0m\u001b[1;32m    697\u001b[0m                                                 fields=fields)\n\u001b[1;32m    698\u001b[0m \u001b[0;34m\u001b[0m\u001b[0m\n",
      "\u001b[0;32m/usr/lib/python3.9/site-packages/zarr/core.py\u001b[0m in \u001b[0;36m_get_basic_selection_nd\u001b[0;34m(self, selection, out, fields)\u001b[0m\n\u001b[1;32m    737\u001b[0m         \u001b[0mindexer\u001b[0m \u001b[0;34m=\u001b[0m \u001b[0mBasicIndexer\u001b[0m\u001b[0;34m(\u001b[0m\u001b[0mselection\u001b[0m\u001b[0;34m,\u001b[0m \u001b[0mself\u001b[0m\u001b[0;34m)\u001b[0m\u001b[0;34m\u001b[0m\u001b[0;34m\u001b[0m\u001b[0m\n\u001b[1;32m    738\u001b[0m \u001b[0;34m\u001b[0m\u001b[0m\n\u001b[0;32m--> 739\u001b[0;31m         \u001b[0;32mreturn\u001b[0m \u001b[0mself\u001b[0m\u001b[0;34m.\u001b[0m\u001b[0m_get_selection\u001b[0m\u001b[0;34m(\u001b[0m\u001b[0mindexer\u001b[0m\u001b[0;34m=\u001b[0m\u001b[0mindexer\u001b[0m\u001b[0;34m,\u001b[0m \u001b[0mout\u001b[0m\u001b[0;34m=\u001b[0m\u001b[0mout\u001b[0m\u001b[0;34m,\u001b[0m \u001b[0mfields\u001b[0m\u001b[0;34m=\u001b[0m\u001b[0mfields\u001b[0m\u001b[0;34m)\u001b[0m\u001b[0;34m\u001b[0m\u001b[0;34m\u001b[0m\u001b[0m\n\u001b[0m\u001b[1;32m    740\u001b[0m \u001b[0;34m\u001b[0m\u001b[0m\n\u001b[1;32m    741\u001b[0m     \u001b[0;32mdef\u001b[0m \u001b[0mget_orthogonal_selection\u001b[0m\u001b[0;34m(\u001b[0m\u001b[0mself\u001b[0m\u001b[0;34m,\u001b[0m \u001b[0mselection\u001b[0m\u001b[0;34m,\u001b[0m \u001b[0mout\u001b[0m\u001b[0;34m=\u001b[0m\u001b[0;32mNone\u001b[0m\u001b[0;34m,\u001b[0m \u001b[0mfields\u001b[0m\u001b[0;34m=\u001b[0m\u001b[0;32mNone\u001b[0m\u001b[0;34m)\u001b[0m\u001b[0;34m:\u001b[0m\u001b[0;34m\u001b[0m\u001b[0;34m\u001b[0m\u001b[0m\n",
      "\u001b[0;32m/usr/lib/python3.9/site-packages/zarr/core.py\u001b[0m in \u001b[0;36m_get_selection\u001b[0;34m(self, indexer, out, fields)\u001b[0m\n\u001b[1;32m   1027\u001b[0m \u001b[0;34m\u001b[0m\u001b[0m\n\u001b[1;32m   1028\u001b[0m                 \u001b[0;31m# load chunk selection into output array\u001b[0m\u001b[0;34m\u001b[0m\u001b[0;34m\u001b[0m\u001b[0;34m\u001b[0m\u001b[0m\n\u001b[0;32m-> 1029\u001b[0;31m                 self._chunk_getitem(chunk_coords, chunk_selection, out, out_selection,\n\u001b[0m\u001b[1;32m   1030\u001b[0m                                     drop_axes=indexer.drop_axes, fields=fields)\n\u001b[1;32m   1031\u001b[0m         \u001b[0;32melse\u001b[0m\u001b[0;34m:\u001b[0m\u001b[0;34m\u001b[0m\u001b[0;34m\u001b[0m\u001b[0m\n",
      "\u001b[0;32m/usr/lib/python3.9/site-packages/zarr/core.py\u001b[0m in \u001b[0;36m_chunk_getitem\u001b[0;34m(self, chunk_coords, chunk_selection, out, out_selection, drop_axes, fields)\u001b[0m\n\u001b[1;32m   1660\u001b[0m         \u001b[0;32mtry\u001b[0m\u001b[0;34m:\u001b[0m\u001b[0;34m\u001b[0m\u001b[0;34m\u001b[0m\u001b[0m\n\u001b[1;32m   1661\u001b[0m             \u001b[0;31m# obtain compressed data for chunk\u001b[0m\u001b[0;34m\u001b[0m\u001b[0;34m\u001b[0m\u001b[0;34m\u001b[0m\u001b[0m\n\u001b[0;32m-> 1662\u001b[0;31m             \u001b[0mcdata\u001b[0m \u001b[0;34m=\u001b[0m \u001b[0mself\u001b[0m\u001b[0;34m.\u001b[0m\u001b[0mchunk_store\u001b[0m\u001b[0;34m[\u001b[0m\u001b[0mckey\u001b[0m\u001b[0;34m]\u001b[0m\u001b[0;34m\u001b[0m\u001b[0;34m\u001b[0m\u001b[0m\n\u001b[0m\u001b[1;32m   1663\u001b[0m \u001b[0;34m\u001b[0m\u001b[0m\n\u001b[1;32m   1664\u001b[0m         \u001b[0;32mexcept\u001b[0m \u001b[0mKeyError\u001b[0m\u001b[0;34m:\u001b[0m\u001b[0;34m\u001b[0m\u001b[0;34m\u001b[0m\u001b[0m\n",
      "\u001b[0;32m/usr/lib/python3.9/site-packages/zarr/storage.py\u001b[0m in \u001b[0;36m__getitem__\u001b[0;34m(self, key)\u001b[0m\n\u001b[1;32m   2110\u001b[0m         \u001b[0;32mexcept\u001b[0m \u001b[0mKeyError\u001b[0m\u001b[0;34m:\u001b[0m\u001b[0;34m\u001b[0m\u001b[0;34m\u001b[0m\u001b[0m\n\u001b[1;32m   2111\u001b[0m             \u001b[0;31m# cache miss, retrieve value from the store\u001b[0m\u001b[0;34m\u001b[0m\u001b[0;34m\u001b[0m\u001b[0;34m\u001b[0m\u001b[0m\n\u001b[0;32m-> 2112\u001b[0;31m             \u001b[0mvalue\u001b[0m \u001b[0;34m=\u001b[0m \u001b[0mself\u001b[0m\u001b[0;34m.\u001b[0m\u001b[0m_store\u001b[0m\u001b[0;34m[\u001b[0m\u001b[0mkey\u001b[0m\u001b[0;34m]\u001b[0m\u001b[0;34m\u001b[0m\u001b[0;34m\u001b[0m\u001b[0m\n\u001b[0m\u001b[1;32m   2113\u001b[0m             \u001b[0;32mwith\u001b[0m \u001b[0mself\u001b[0m\u001b[0;34m.\u001b[0m\u001b[0m_mutex\u001b[0m\u001b[0;34m:\u001b[0m\u001b[0;34m\u001b[0m\u001b[0;34m\u001b[0m\u001b[0m\n\u001b[1;32m   2114\u001b[0m                 \u001b[0mself\u001b[0m\u001b[0;34m.\u001b[0m\u001b[0mmisses\u001b[0m \u001b[0;34m+=\u001b[0m \u001b[0;36m1\u001b[0m\u001b[0;34m\u001b[0m\u001b[0;34m\u001b[0m\u001b[0m\n",
      "\u001b[0;32m~/pycciv30/lib/python3.9/site-packages/xcube_cci/chunkstore.py\u001b[0m in \u001b[0;36m__getitem__\u001b[0;34m(self, key)\u001b[0m\n\u001b[1;32m    586\u001b[0m             \u001b[0mvalue\u001b[0m \u001b[0;34m=\u001b[0m \u001b[0mself\u001b[0m\u001b[0;34m.\u001b[0m\u001b[0m_vfs\u001b[0m\u001b[0;34m[\u001b[0m\u001b[0mkey\u001b[0m\u001b[0;34m]\u001b[0m\u001b[0;34m\u001b[0m\u001b[0;34m\u001b[0m\u001b[0m\n\u001b[1;32m    587\u001b[0m         \u001b[0;32mif\u001b[0m \u001b[0misinstance\u001b[0m\u001b[0;34m(\u001b[0m\u001b[0mvalue\u001b[0m\u001b[0;34m,\u001b[0m \u001b[0mtuple\u001b[0m\u001b[0;34m)\u001b[0m\u001b[0;34m:\u001b[0m\u001b[0;34m\u001b[0m\u001b[0;34m\u001b[0m\u001b[0m\n\u001b[0;32m--> 588\u001b[0;31m             \u001b[0;32mreturn\u001b[0m \u001b[0mself\u001b[0m\u001b[0;34m.\u001b[0m\u001b[0m_fetch_chunk\u001b[0m\u001b[0;34m(\u001b[0m\u001b[0mkey\u001b[0m\u001b[0;34m,\u001b[0m \u001b[0;34m*\u001b[0m\u001b[0mvalue\u001b[0m\u001b[0;34m)\u001b[0m\u001b[0;34m\u001b[0m\u001b[0;34m\u001b[0m\u001b[0m\n\u001b[0m\u001b[1;32m    589\u001b[0m         \u001b[0;32mreturn\u001b[0m \u001b[0mvalue\u001b[0m\u001b[0;34m\u001b[0m\u001b[0;34m\u001b[0m\u001b[0m\n\u001b[1;32m    590\u001b[0m \u001b[0;34m\u001b[0m\u001b[0m\n",
      "\u001b[0;32m~/pycciv30/lib/python3.9/site-packages/xcube_cci/chunkstore.py\u001b[0m in \u001b[0;36m_fetch_chunk\u001b[0;34m(self, key, var_name, chunk_index)\u001b[0m\n\u001b[1;32m    507\u001b[0m \u001b[0;34m\u001b[0m\u001b[0m\n\u001b[1;32m    508\u001b[0m         \u001b[0;32mif\u001b[0m \u001b[0mexception\u001b[0m\u001b[0;34m:\u001b[0m\u001b[0;34m\u001b[0m\u001b[0;34m\u001b[0m\u001b[0m\n\u001b[0;32m--> 509\u001b[0;31m             \u001b[0;32mraise\u001b[0m \u001b[0mexception\u001b[0m\u001b[0;34m\u001b[0m\u001b[0;34m\u001b[0m\u001b[0m\n\u001b[0m\u001b[1;32m    510\u001b[0m \u001b[0;34m\u001b[0m\u001b[0m\n\u001b[1;32m    511\u001b[0m         \u001b[0;32mreturn\u001b[0m \u001b[0mchunk_data\u001b[0m\u001b[0;34m\u001b[0m\u001b[0;34m\u001b[0m\u001b[0m\n",
      "\u001b[0;32m~/pycciv30/lib/python3.9/site-packages/xcube_cci/chunkstore.py\u001b[0m in \u001b[0;36m_fetch_chunk\u001b[0;34m(self, key, var_name, chunk_index)\u001b[0m\n\u001b[1;32m    492\u001b[0m         \u001b[0;32mtry\u001b[0m\u001b[0;34m:\u001b[0m\u001b[0;34m\u001b[0m\u001b[0;34m\u001b[0m\u001b[0m\n\u001b[1;32m    493\u001b[0m             \u001b[0mexception\u001b[0m \u001b[0;34m=\u001b[0m \u001b[0;32mNone\u001b[0m\u001b[0;34m\u001b[0m\u001b[0;34m\u001b[0m\u001b[0m\n\u001b[0;32m--> 494\u001b[0;31m             \u001b[0mchunk_data\u001b[0m \u001b[0;34m=\u001b[0m \u001b[0mself\u001b[0m\u001b[0;34m.\u001b[0m\u001b[0mfetch_chunk\u001b[0m\u001b[0;34m(\u001b[0m\u001b[0mkey\u001b[0m\u001b[0;34m,\u001b[0m \u001b[0mvar_name\u001b[0m\u001b[0;34m,\u001b[0m \u001b[0mchunk_index\u001b[0m\u001b[0;34m,\u001b[0m \u001b[0mrequest_time_range\u001b[0m\u001b[0;34m)\u001b[0m\u001b[0;34m\u001b[0m\u001b[0;34m\u001b[0m\u001b[0m\n\u001b[0m\u001b[1;32m    495\u001b[0m         \u001b[0;32mexcept\u001b[0m \u001b[0mException\u001b[0m \u001b[0;32mas\u001b[0m \u001b[0me\u001b[0m\u001b[0;34m:\u001b[0m\u001b[0;34m\u001b[0m\u001b[0;34m\u001b[0m\u001b[0m\n\u001b[1;32m    496\u001b[0m             \u001b[0mexception\u001b[0m \u001b[0;34m=\u001b[0m \u001b[0me\u001b[0m\u001b[0;34m\u001b[0m\u001b[0;34m\u001b[0m\u001b[0m\n",
      "\u001b[0;32m~/pycciv30/lib/python3.9/site-packages/xcube_cci/chunkstore.py\u001b[0m in \u001b[0;36mfetch_chunk\u001b[0;34m(self, key, var_name, chunk_index, time_range)\u001b[0m\n\u001b[1;32m    755\u001b[0m \u001b[0;34m\u001b[0m\u001b[0m\n\u001b[1;32m    756\u001b[0m         \u001b[0mstart_time\u001b[0m\u001b[0;34m,\u001b[0m \u001b[0mend_time\u001b[0m \u001b[0;34m=\u001b[0m \u001b[0mtime_range\u001b[0m\u001b[0;34m\u001b[0m\u001b[0;34m\u001b[0m\u001b[0m\n\u001b[0;32m--> 757\u001b[0;31m         \u001b[0midentifier\u001b[0m \u001b[0;34m=\u001b[0m \u001b[0mself\u001b[0m\u001b[0;34m.\u001b[0m\u001b[0m_cci_odp\u001b[0m\u001b[0;34m.\u001b[0m\u001b[0mget_dataset_id\u001b[0m\u001b[0;34m(\u001b[0m\u001b[0mself\u001b[0m\u001b[0;34m.\u001b[0m\u001b[0m_dataset_name\u001b[0m\u001b[0;34m)\u001b[0m\u001b[0;34m\u001b[0m\u001b[0;34m\u001b[0m\u001b[0m\n\u001b[0m\u001b[1;32m    758\u001b[0m         \u001b[0miso_start_date\u001b[0m \u001b[0;34m=\u001b[0m \u001b[0mstart_time\u001b[0m\u001b[0;34m.\u001b[0m\u001b[0mtz_localize\u001b[0m\u001b[0;34m(\u001b[0m\u001b[0;32mNone\u001b[0m\u001b[0;34m)\u001b[0m\u001b[0;34m.\u001b[0m\u001b[0misoformat\u001b[0m\u001b[0;34m(\u001b[0m\u001b[0;34m)\u001b[0m\u001b[0;34m\u001b[0m\u001b[0;34m\u001b[0m\u001b[0m\n\u001b[1;32m    759\u001b[0m         \u001b[0miso_end_date\u001b[0m \u001b[0;34m=\u001b[0m \u001b[0mend_time\u001b[0m\u001b[0;34m.\u001b[0m\u001b[0mtz_localize\u001b[0m\u001b[0;34m(\u001b[0m\u001b[0;32mNone\u001b[0m\u001b[0;34m)\u001b[0m\u001b[0;34m.\u001b[0m\u001b[0misoformat\u001b[0m\u001b[0;34m(\u001b[0m\u001b[0;34m)\u001b[0m\u001b[0;34m\u001b[0m\u001b[0;34m\u001b[0m\u001b[0m\n",
      "\u001b[0;32m~/pycciv30/lib/python3.9/site-packages/xcube_cci/cciodp.py\u001b[0m in \u001b[0;36mget_dataset_id\u001b[0;34m(self, dataset_name)\u001b[0m\n\u001b[1;32m    865\u001b[0m \u001b[0;34m\u001b[0m\u001b[0m\n\u001b[1;32m    866\u001b[0m     \u001b[0;32mdef\u001b[0m \u001b[0mget_dataset_id\u001b[0m\u001b[0;34m(\u001b[0m\u001b[0mself\u001b[0m\u001b[0;34m,\u001b[0m \u001b[0mdataset_name\u001b[0m\u001b[0;34m:\u001b[0m \u001b[0mstr\u001b[0m\u001b[0;34m)\u001b[0m \u001b[0;34m->\u001b[0m \u001b[0mstr\u001b[0m\u001b[0;34m:\u001b[0m\u001b[0;34m\u001b[0m\u001b[0;34m\u001b[0m\u001b[0m\n\u001b[0;32m--> 867\u001b[0;31m         \u001b[0;32mreturn\u001b[0m \u001b[0mself\u001b[0m\u001b[0;34m.\u001b[0m\u001b[0m_run_with_session\u001b[0m\u001b[0;34m(\u001b[0m\u001b[0mself\u001b[0m\u001b[0;34m.\u001b[0m\u001b[0m_get_dataset_id\u001b[0m\u001b[0;34m,\u001b[0m \u001b[0mdataset_name\u001b[0m\u001b[0;34m)\u001b[0m\u001b[0;34m\u001b[0m\u001b[0;34m\u001b[0m\u001b[0m\n\u001b[0m\u001b[1;32m    868\u001b[0m \u001b[0;34m\u001b[0m\u001b[0m\n\u001b[1;32m    869\u001b[0m     \u001b[0;32masync\u001b[0m \u001b[0;32mdef\u001b[0m \u001b[0m_get_dataset_id\u001b[0m\u001b[0;34m(\u001b[0m\u001b[0mself\u001b[0m\u001b[0;34m,\u001b[0m \u001b[0msession\u001b[0m\u001b[0;34m,\u001b[0m \u001b[0mdataset_name\u001b[0m\u001b[0;34m:\u001b[0m \u001b[0mstr\u001b[0m\u001b[0;34m)\u001b[0m \u001b[0;34m->\u001b[0m \u001b[0mstr\u001b[0m\u001b[0;34m:\u001b[0m\u001b[0;34m\u001b[0m\u001b[0;34m\u001b[0m\u001b[0m\n",
      "\u001b[0;32m~/pycciv30/lib/python3.9/site-packages/xcube_cci/cciodp.py\u001b[0m in \u001b[0;36m_run_with_session\u001b[0;34m(self, async_function, *params)\u001b[0m\n\u001b[1;32m    409\u001b[0m         \u001b[0;31m# See https://github.com/aio-libs/aiohttp/blob/master/docs/\u001b[0m\u001b[0;34m\u001b[0m\u001b[0;34m\u001b[0m\u001b[0;34m\u001b[0m\u001b[0m\n\u001b[1;32m    410\u001b[0m         \u001b[0;31m# client_advanced.rst#graceful-shutdown\u001b[0m\u001b[0;34m\u001b[0m\u001b[0;34m\u001b[0m\u001b[0;34m\u001b[0m\u001b[0m\n\u001b[0;32m--> 411\u001b[0;31m         \u001b[0mloop\u001b[0m \u001b[0;34m=\u001b[0m \u001b[0masyncio\u001b[0m\u001b[0;34m.\u001b[0m\u001b[0mget_event_loop\u001b[0m\u001b[0;34m(\u001b[0m\u001b[0;34m)\u001b[0m\u001b[0;34m\u001b[0m\u001b[0;34m\u001b[0m\u001b[0m\n\u001b[0m\u001b[1;32m    412\u001b[0m         \u001b[0mcoro\u001b[0m \u001b[0;34m=\u001b[0m \u001b[0m_run_with_session_executor\u001b[0m\u001b[0;34m(\u001b[0m\u001b[0masync_function\u001b[0m\u001b[0;34m,\u001b[0m \u001b[0;34m*\u001b[0m\u001b[0mparams\u001b[0m\u001b[0;34m,\u001b[0m \u001b[0mheaders\u001b[0m\u001b[0;34m=\u001b[0m\u001b[0mself\u001b[0m\u001b[0;34m.\u001b[0m\u001b[0m_headers\u001b[0m\u001b[0;34m)\u001b[0m\u001b[0;34m\u001b[0m\u001b[0;34m\u001b[0m\u001b[0m\n\u001b[1;32m    413\u001b[0m         \u001b[0mresult\u001b[0m \u001b[0;34m=\u001b[0m \u001b[0mloop\u001b[0m\u001b[0;34m.\u001b[0m\u001b[0mrun_until_complete\u001b[0m\u001b[0;34m(\u001b[0m\u001b[0mcoro\u001b[0m\u001b[0;34m)\u001b[0m\u001b[0;34m\u001b[0m\u001b[0;34m\u001b[0m\u001b[0m\n",
      "\u001b[0;32m/usr/lib/python3.9/asyncio/events.py\u001b[0m in \u001b[0;36mget_event_loop\u001b[0;34m(self)\u001b[0m\n\u001b[1;32m    640\u001b[0m \u001b[0;34m\u001b[0m\u001b[0m\n\u001b[1;32m    641\u001b[0m         \u001b[0;32mif\u001b[0m \u001b[0mself\u001b[0m\u001b[0;34m.\u001b[0m\u001b[0m_local\u001b[0m\u001b[0;34m.\u001b[0m\u001b[0m_loop\u001b[0m \u001b[0;32mis\u001b[0m \u001b[0;32mNone\u001b[0m\u001b[0;34m:\u001b[0m\u001b[0;34m\u001b[0m\u001b[0;34m\u001b[0m\u001b[0m\n\u001b[0;32m--> 642\u001b[0;31m             raise RuntimeError('There is no current event loop in thread %r.'\n\u001b[0m\u001b[1;32m    643\u001b[0m                                % threading.current_thread().name)\n\u001b[1;32m    644\u001b[0m \u001b[0;34m\u001b[0m\u001b[0m\n",
      "\u001b[0;31mRuntimeError\u001b[0m: There is no current event loop in thread 'Thread-4'."
     ]
    }
   ],
   "source": [
    "yr=2012\n",
    "trange=[datetime(yr,1,1),datetime(yr,12,31)]\n",
    "\n",
    "seaiceDset=open_dataset(ds_id=\"esacci.SEAICE.day.L4.SICONC.multi-sensor.multi-platform.AMSR_50kmEASE2.2-1.NH\",\n",
    "                        data_store_id='cci-store',\n",
    "                        time_range=trange)"
   ]
  },
  {
   "cell_type": "markdown",
   "metadata": {},
   "source": [
    "## Visualize the arctic sea ice concentration on a given day"
   ]
  },
  {
   "cell_type": "code",
   "execution_count": null,
   "metadata": {},
   "outputs": [],
   "source": [
    "# Plot the sea ice concentration on a chosen day\n",
    "%matplotlib inline\n",
    "import numpy as np\n",
    "ithday=204\n",
    "print(\"plotting sea ice at %s\"%np.datetime_as_string(seaiceDset.time[ithday], unit='D'))\n",
    "seaiceDset.ice_conc.isel(time=ithday).plot()"
   ]
  },
  {
   "cell_type": "markdown",
   "metadata": {},
   "source": [
    "## Create an animation of the Arctic sea ice concentration"
   ]
  },
  {
   "cell_type": "code",
   "execution_count": null,
   "metadata": {},
   "outputs": [],
   "source": [
    "import matplotlib.pyplot as plt\n",
    "from matplotlib import animation,cm\n",
    "from IPython.display import HTML\n",
    "import numpy as np\n",
    "from copy import copy\n",
    "# Make sure that the initial iconcentrationmage is not shown inline in the notebook\n",
    "%matplotlib\n",
    "\n",
    "# We also want to visualize the chang over time so we create an animation with the python module matplotlib\n",
    "# You can find more information on matplotlib animations here: https://matplotlib.org/stable/api/animation_api.html\n",
    "\n",
    "ith=0\n",
    "fig, ax = plt.subplots()\n",
    "fig.set_size_inches(8,8)\n",
    "\n",
    "cmSea=copy(cm.get_cmap(\"bone\"))\n",
    "cmSea.set_bad('grey')\n",
    "im=ax.imshow(seaiceDset.ice_conc.isel(time=ith).data,cmap=cmSea, vmin=0, vmax=100)\n",
    "\n",
    "nframes=seaiceDset.dims[\"time\"] - 204\n",
    "\n",
    "def initSeaice():\n",
    "    ax.set_title(\"Sea ice concentration %s\"%np.datetime_as_string(seaiceDset.time[ith],unit=\"D\"))    \n",
    "    return (im,)\n",
    "\n",
    "\n",
    "def animSeaIce(i):\n",
    "    print(f\"Animating frame {i} of {nframes - 1}\", end=\"\\r\")\n",
    "    ax.set_title(\"Sea ice concentration %s\"%np.datetime_as_string(seaiceDset.time[i],unit=\"D\"))\n",
    "    im.set_array(seaiceDset.ice_conc.isel(time=i+204).data)\n",
    "    return (im,)\n",
    "\n",
    "anim = animation.FuncAnimation(fig, animSeaIce, init_func=initSeaice,\n",
    "                               frames=nframes, interval=100, \n",
    "                               blit=True)\n",
    "\n",
    "# The to_jshtml call creates some html code and javascript which allows us to control the animation\n",
    "HTML(anim.to_jshtml())"
   ]
  },
  {
   "cell_type": "markdown",
   "metadata": {},
   "source": [
    "# Questions (please share your answers and discuss these on the forum)\n",
    "\n",
    "1. Why is there a relative small amount of sea ice between Greenland and Norway?\n",
    "2. There are certain locations where not all of the sea ice melts in summer, so called multi-year sea ice. In which locations do you expect to find this multi year sea ice?\n",
    "3. Try to search online for seasons with expectional low and high coverage of sea ice, and repeat the exercise for those years by modifying the python `yr` variable.\n",
    "4. How does the sea ice grow in the Russian Arctic? From the coast, the existing sea ice in the central Arctic, or both?"
   ]
  }
 ],
 "metadata": {
  "kernelspec": {
   "display_name": "pycciv30",
   "language": "python",
   "name": "pycciv30"
  },
  "language_info": {
   "codemirror_mode": {
    "name": "ipython",
    "version": 3
   },
   "file_extension": ".py",
   "mimetype": "text/x-python",
   "name": "python",
   "nbconvert_exporter": "python",
   "pygments_lexer": "ipython3",
   "version": "3.9.6"
  }
 },
 "nbformat": 4,
 "nbformat_minor": 4
}
