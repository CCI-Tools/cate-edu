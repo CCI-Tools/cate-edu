{
 "cells": [
  {
   "cell_type": "markdown",
   "metadata": {},
   "source": [
    "<img src=\"media/Cryo+ESA_Logo_plain-50gray.svg\" alt=\"CCI Cryosphere banner\" width=\"1000\"/>\n",
    "\n",
    "# Visualing sea ice concentrations with Cate using the Open Data Portal\n",
    "In this exercise you will use the cate python toolbox to visualize sea ice. After doing this exercise you'll have a good idea to see how sea ice changes over the season, and you'll understand how it changes over the years. \n",
    "\n",
    "<img src=\"media/Thin_sea-ice.jpg\" alt=\"A picture of sea ice taken from a boat\" width=\"1000\"/>\n",
    "\n",
    "*Floating chunks of sea ice, [source](https://www.esa.int/var/esa/storage/images/esa_multimedia/images/2016/12/thin_sea-ice/16576336-1-eng-GB/Thin_sea-ice.jpg)*\n",
    "\n",
    "## Preparations\n",
    "If you haven't done so please follow the [Cate tutorial](futurelearn.com/tbd) to get started using the exercises.\n"
   ]
  },
  {
   "cell_type": "markdown",
   "metadata": {},
   "source": [
    "## Querying the opendata portal"
   ]
  },
  {
   "cell_type": "code",
   "execution_count": null,
   "metadata": {},
   "outputs": [],
   "source": [
    "# To get things started we need to initialize a few things\n",
    "#Load some python modules to make them accessible to the notebook\n",
    "from cate.core.ds import DATA_STORE_POOL\n",
    "import cate.ops as ops\n",
    "from cate.util.monitor import ConsoleMonitor\n",
    "from cate.ops.io import open_dataset\n",
    "\n",
    "# the following is needed to run Cate in a Jupyter Notebook\n",
    "from xcube.util.ipython import enable_asyncio\n",
    "enable_asyncio()\n",
    "\n",
    "# utilities\n",
    "from IPython.display import display\n",
    "import numpy as np\n",
    "from datetime import datetime\n",
    "\n",
    "monitor=ConsoleMonitor()"
   ]
  },
  {
   "cell_type": "markdown",
   "metadata": {},
   "source": [
    "To begin, let us see which data stores are available in the Data Store Pool."
   ]
  },
  {
   "cell_type": "code",
   "execution_count": null,
   "metadata": {},
   "outputs": [],
   "source": [
    "DATA_STORE_POOL.store_instance_ids"
   ]
  },
  {
   "cell_type": "markdown",
   "metadata": {},
   "source": [
    "We see three stores. The 'cci-store' is a store that provides access to all datasets from the CCI Open Data Portal. The 'cci-zarr-store' is a store that contains selected data from the Open Data Portal, converted to the zarr format. The datasets from this store can be opened and processed faster, but the store provides only a small subset of what is offered by the 'cci-store'. The 'local' data store finally allows to access locally provided data. Also, when you select to cache data, you will find it in this store. Cached data can also be opened quickly.\n",
    "\n",
    "For starters, let us use the 'cci-store' which connects to the Open Data Portal and allows access to the datasets listed at https://catalogue.ceda.ac.uk. We can ask for the search parameters of the store to see how a search can be performed."
   ]
  },
  {
   "cell_type": "code",
   "execution_count": null,
   "metadata": {},
   "outputs": [],
   "source": [
    "data_store = DATA_STORE_POOL.get_store('cci-store')\n",
    "data_store.get_search_params_schema()"
   ]
  },
  {
   "cell_type": "markdown",
   "metadata": {},
   "source": [
    "For this exercise, we are interested in Sea Ice data sets, so we ask for datasets of the ecv \"PERMAFROST\". Also, to further restrict our search, we look for the data type 'SICONC', as we are interested in Sea Ice Concentration. We then display the results of the query."
   ]
  },
  {
   "cell_type": "code",
   "execution_count": null,
   "metadata": {},
   "outputs": [],
   "source": [
    "# To get an idea of what is available in the online data portal one can query it and loop over it's result to print some information to the screen\n",
    "#the query siconc is short for sea ice concentration\n",
    "seaiceqry=data_store.search_data(ecv='SEAICE', data_type=\"SICONC\")\n",
    "\n",
    "for i,seaiceItem in enumerate(seaiceqry):\n",
    "    print(\"\\nDataset item %d:\\nds_id: %s\"%(i,seaiceItem.data_id))\n",
    "    display(seaiceItem)"
   ]
  },
  {
   "cell_type": "markdown",
   "metadata": {},
   "source": [
    "Of these, we pick \"esacci.SEAICE.day.L4.SICONC.multi-sensor.multi-platform.AMSR_50kmEASE2.2-1.NH\", the 50 km resolution sea ice concentration dataset which has daily values, and open it. Here, we also want to only look at the data from the year 2012, so we build a time range and pass it as parameter. The parameter 'data_store_id' is not absolutely necessary, but it makes the opening a little faster. The parameter 'normalize' should be used so that the dataset is preprocessed in a way that it can be optimally used in Cate."
   ]
  },
  {
   "cell_type": "code",
   "execution_count": null,
   "metadata": {},
   "outputs": [],
   "source": [
    "yr=2012\n",
    "trange=[datetime(yr,1,1),datetime(yr,12,31)]\n",
    "\n",
    "seaiceDset=open_dataset(ds_id=\"esacci.SEAICE.day.L4.SICONC.multi-sensor.multi-platform.AMSR_50kmEASE2.2-1.NH\",\n",
    "                        data_store_id='cci-store',\n",
    "                        time_range=trange)"
   ]
  },
  {
   "cell_type": "markdown",
   "metadata": {},
   "source": [
    "## Visualize the arctic sea ice concentration on a given day"
   ]
  },
  {
   "cell_type": "code",
   "execution_count": null,
   "metadata": {},
   "outputs": [],
   "source": [
    "# Plot the sea ice concentration on a chosen day\n",
    "%matplotlib inline\n",
    "import numpy as np\n",
    "ithday=204\n",
    "print(\"plotting sea ice at %s\"%np.datetime_as_string(seaiceDset.time[ithday], unit='D'))\n",
    "seaiceDset.ice_conc.isel(time=ithday).plot()"
   ]
  },
  {
   "cell_type": "markdown",
   "metadata": {},
   "source": [
    "## Create an animation of the Arctic sea ice concentration"
   ]
  },
  {
   "cell_type": "code",
   "execution_count": null,
   "metadata": {},
   "outputs": [],
   "source": [
    "import matplotlib.pyplot as plt\n",
    "from matplotlib import animation,cm\n",
    "from IPython.display import HTML\n",
    "import numpy as np\n",
    "from copy import copy\n",
    "# Make sure that the initial iconcentrationmage is not shown inline in the notebook\n",
    "%matplotlib\n",
    "\n",
    "# We also want to visualize the chang over time so we create an animation with the python module matplotlib\n",
    "# You can find more information on matplotlib animations here: https://matplotlib.org/stable/api/animation_api.html\n",
    "\n",
    "ith=0\n",
    "fig, ax = plt.subplots()\n",
    "fig.set_size_inches(8,8)\n",
    "\n",
    "cmSea=copy(cm.get_cmap(\"bone\"))\n",
    "cmSea.set_bad('grey')\n",
    "im=ax.imshow(seaiceDset.ice_conc.isel(time=ith).data,cmap=cmSea, vmin=0, vmax=100)\n",
    "\n",
    "nframes=seaiceDset.dims[\"time\"] - 204\n",
    "\n",
    "def initSeaice():\n",
    "    ax.set_title(\"Sea ice concentration %s\"%np.datetime_as_string(seaiceDset.time[ith],unit=\"D\"))    \n",
    "    return (im,)\n",
    "\n",
    "\n",
    "def animSeaIce(i):\n",
    "    print(f\"Animating frame {i} of {nframes - 1}\", end=\"\\r\")\n",
    "    ax.set_title(\"Sea ice concentration %s\"%np.datetime_as_string(seaiceDset.time[i],unit=\"D\"))\n",
    "    im.set_array(seaiceDset.ice_conc.isel(time=i+204).data)\n",
    "    return (im,)\n",
    "\n",
    "anim = animation.FuncAnimation(fig, animSeaIce, init_func=initSeaice,\n",
    "                               frames=nframes, interval=100, \n",
    "                               blit=True)\n",
    "\n",
    "# The to_jshtml call creates some html code and javascript which allows us to control the animation\n",
    "HTML(anim.to_jshtml())"
   ]
  },
  {
   "cell_type": "markdown",
   "metadata": {},
   "source": [
    "# Questions\n",
    "\n",
    "1. Why is there a relative small amount of sea ice between Greenland and Norway?\n",
    "2. There are certain locations where not all of the sea ice melts in summer, so called multi-year sea ice. In which locations do you expect to find this multi year sea ice?\n",
    "3. Try to search online for seasons with expectional low and high coverage of sea ice, and repeat the exercise for those years by modifying the python `yr` variable.\n",
    "4. How does the sea ice grow in the Russian Arctic? From the coast, the existing sea ice in the central Arctic, or both?"
   ]
  }
 ],
 "metadata": {
  "kernelspec": {
   "display_name": "xcube",
   "language": "python",
   "name": "xcube"
  },
  "language_info": {
   "codemirror_mode": {
    "name": "ipython",
    "version": 3
   },
   "file_extension": ".py",
   "mimetype": "text/x-python",
   "name": "python",
   "nbconvert_exporter": "python",
   "pygments_lexer": "ipython3",
   "version": "3.8.8"
  }
 },
 "nbformat": 4,
 "nbformat_minor": 4
}
