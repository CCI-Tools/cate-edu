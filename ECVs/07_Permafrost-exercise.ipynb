{
 "cells": [
  {
   "cell_type": "markdown",
   "metadata": {},
   "source": [
    "<img src=\"media/Cryo+ESA_Logo_plain-50gray.svg\" alt=\"CCI Cryosphere banner\" width=\"1000\"/>\n",
    "\n",
    "# Mapping the permafrost active layer thickness\n",
    "\n",
    "The Open Data Portal hosts three permafrost datasets you can find here [permafrost active layer thickness](https://climate.esa.int/en/odp/#/project/permafrost). This exercise will show you how to visualize and process these datasets.\n",
    "\n",
    "## Preparations\n",
    "If you haven't done so please follow the [Cate tutorial](https://www.futurelearn.com/courses/understanding-climate-change-using-satellite-climate-data/1/steps/1230976) to get started using the Jupyter notebook exercises.\n",
    "\n",
    "## Cate software and the open data portal\n",
    "\n",
    "We'll be querying the open data portal for sea ice concentration products as produced by the [Climate Change Initiative Sea Ice project](https://climate.esa.int/en/projects/sea-ice/). The [**open data portal**](https://climate.esa.int/en/odp/#/dashboard) hosts a variety of datasets on the [Jasmin infrastructure on the UK](https://jasmin.ac.uk/). These can be queried using the dedicated [Cate python module](https://cate.readthedocs.io/en/latest/). Cate allows retrieving data from the data portal and the web-interface which you find at [cate.climate.esa.int](https://cate.climate.esa.int) is build upon it.\n",
    "\n",
    "In this Jupyter notebook exercise we will directly call Cate functions, and it will show you how these can be used in advanced workflows.\n",
    "\n",
    "## Starting the exercise\n",
    "To perform the exercise and execute the code in this notebook you can run it through the [mybinder.org](https://mybinder.org/) service by clicking on the binder link below (if resources allow it). Alternatively, you can download/clone the notebooks from [github](https://github.com/CCI-Tools/cate-edu) and run them through your own Jupyter notebook instance (this may initially take more time to setup, but does allow you to store your changes and extend the notebooks exercises to your own needs).\n",
    "\n",
    "[![click to run this notebook on mybinder.org](https://mybinder.org/badge_logo.svg)](https://mybinder.org/v2/gh/CCI-Tools/cate-edu/HEAD?filepath=ECVs%2F07_Permafrost-exercise.ipynb)\n",
    "\n",
    "or [clone the notebook repository on github](https://github.com/CCI-Tools/cate-edu)"
   ]
  },
  {
   "cell_type": "markdown",
   "metadata": {},
   "source": [
    "## Step 1: loading python modules and initialize the data store pool"
   ]
  },
  {
   "cell_type": "code",
   "execution_count": 1,
   "metadata": {},
   "outputs": [],
   "source": [
    "# To get things started we need to initialize a few things\n",
    "#Load some python modules to make them accessible to the notebook\n",
    "from cate.core.ds import DATA_STORE_POOL\n",
    "import cate.ops as ops\n",
    "from cate.core.ds import get_metadata_from_descriptor\n",
    "from cate.ops.io import open_dataset\n",
    "\n",
    "# the following is needed to run Cate in a Jupyter Notebook\n",
    "from xcube.util.ipython import enable_asyncio\n",
    "enable_asyncio()\n",
    "\n",
    "# utilities\n",
    "from IPython.display import display\n",
    "import numpy as np\n",
    "from datetime import datetime"
   ]
  },
  {
   "cell_type": "markdown",
   "metadata": {},
   "source": [
    "To begin, let us see which data stores are available in the Data Store Pool."
   ]
  },
  {
   "cell_type": "code",
   "execution_count": 2,
   "metadata": {},
   "outputs": [
    {
     "data": {
      "text/plain": [
       "['cci-store', 'cci-zarr-store', 'local']"
      ]
     },
     "execution_count": 2,
     "metadata": {},
     "output_type": "execute_result"
    }
   ],
   "source": [
    "DATA_STORE_POOL.store_instance_ids"
   ]
  },
  {
   "cell_type": "markdown",
   "metadata": {},
   "source": [
    "We see three different stores. \n",
    "\n",
    "The **cci-store** is a store that provides access to all datasets from the CCI Open Data Portal. It connects to the Open Data Portal and allows access to the datasets listed at https://catalogue.ceda.ac.uk. We can ask for the search parameters of the store to see how a search can be performed.\n",
    "\n",
    "The **cci-zarr-store** is a store that contains selected data from the Open Data Portal, converted to the [zarr format](https://zarr.readthedocs.io/en/stable/). The datasets from this store can be opened and processed faster, but the store provides only a small subset of what is offered by the **cci-store**. \n",
    "\n",
    "The **local** data store finally allows to access locally provided data. Also, when you select to cache data, you will find it in this store. Cached data can also be opened quickly.\n",
    "\n",
    "This notebook will allow you to try out both the *cci-zarr-store* and the *cci-store*. Just uncomment/comment the appropriate `cci_store` variable below."
   ]
  },
  {
   "cell_type": "code",
   "execution_count": 3,
   "metadata": {},
   "outputs": [
    {
     "data": {
      "application/json": {
       "additionalProperties": false,
       "properties": {
        "bbox": {
         "items": [
          {
           "type": "number"
          },
          {
           "type": "number"
          },
          {
           "type": "number"
          },
          {
           "type": "number"
          }
         ],
         "type": "array"
        },
        "data_type": {
         "enum": [
          "PFR",
          "AER_PRODUCTS",
          "GTD",
          "IOP",
          "GLL",
          "MSLTR",
          "IV",
          "MSL",
          "AAI",
          "MSLAMPH",
          "SSS",
          "BA",
          "MSLA",
          "SITHICK",
          "TC",
          "K_490",
          "LCCS",
          "GMB",
          "SCFG",
          "ALT",
          "CO2",
          "SSMV",
          "RRS",
          "SEC",
          "SWE",
          "AOD",
          "CLD_PRODUCTS",
          "SSMS",
          "CH4",
          "CHLOR_A",
          "SICONC",
          "OC_PRODUCTS",
          "SSTdepth",
          "LP",
          "AEX",
          "WB",
          "AGB",
          "LK_PRODUCTS",
          "NP",
          "SSTskin",
          "SCFV",
          "SWH",
          "CFL"
         ],
         "type": "string"
        },
        "ecv": {
         "enum": [
          "SNOW",
          "SEASTATE",
          "BIOMASS",
          "SEASURFACESALINITY",
          "LC",
          "OZONE",
          "SEAICE",
          "FIRE",
          "SEALEVEL",
          "PERMAFROST",
          "SOILMOISTURE",
          "LAKES",
          "OC",
          "SST",
          "ICESHEETS",
          "AEROSOL",
          "GHG",
          "CLOUD"
         ],
         "type": "string"
        },
        "end_date": {
         "format": "date-time",
         "type": "string"
        },
        "frequency": {
         "enum": [
          "satellite-orbit-frequency",
          "unspecified",
          "8 days",
          "13 years",
          "climatology",
          "day",
          "15 days",
          "5 days",
          "month",
          "year"
         ],
         "type": "string"
        },
        "institute": {
         "enum": [
          "Plymouth Marine Laboratory",
          "Alfred-Wegener-Institut Helmholtz-Zentrum für Polar- und Meeresforschung",
          "ENVironmental Earth Observation IT GmbH",
          "multi-institution",
          "DTU Space",
          "Vienna University of Technology",
          "Deutscher Wetterdienst",
          "Netherlands Institute for Space Research",
          "Technische Universität Dresden",
          "Institute of Environmental Physics",
          "Rutherford Appleton Laboratory",
          "Universite Catholique de Louvain",
          "University of Alcala",
          "University of Leicester",
          "Norwegian Meteorological Institute",
          "University of Bremen",
          "Belgian Institute for Space Aeronomy",
          "Deutsches Zentrum fuer Luft- und Raumfahrt",
          "Freie Universitaet Berlin",
          "Royal Netherlands Meteorological Institute",
          "The Geological Survey of Denmark and Greenland"
         ],
         "type": "string"
        },
        "platform": {
         "enum": [
          "NOAA-12",
          "RadarSat-2",
          "ERS-1",
          "Aqua",
          "Envisat",
          "Sentinel-1A",
          "Sentinel-5P",
          "NOAA-14",
          "GFO",
          "ODIN",
          "CryoSat-2",
          "ALOS",
          "ERS-2",
          "NOAA-17",
          "NOAA-16",
          "SARAL",
          "Metop-A",
          "Sentinel-2A",
          "NOAA-18",
          "Unspecified",
          "Jason-3",
          "GRACE",
          "GOSAT",
          "NOAA-11",
          "NOAA-15",
          "Topex-Poseidon",
          "Jason-1",
          "OCO-2",
          "multi-platform",
          "NOAA-9",
          "Jason-2",
          "NOAA-19",
          "Terra",
          "NOAA-7"
         ],
         "type": "string"
        },
        "processing_level": {
         "enum": [
          "L3S",
          "Unspecified",
          "L4",
          "L2P",
          "IND",
          "L3U",
          "L3C",
          "L2",
          "L3"
         ],
         "type": "string"
        },
        "product_string": {
         "enum": [
          "VARIOUS",
          "ERS-1",
          "Envisat",
          "GOMOS_ENVISAT",
          "GFO",
          "FOCAL",
          "SMR_ODIN",
          "ATSR2-AATSR",
          "ERS-2",
          "AVHRR16_G",
          "SH50KMEASE2",
          "MODIS_AQUA",
          "MERGED_OI_Monthly_CENTRED_15Day_25km",
          "AVHRR19_G",
          "AVHRR-PM",
          "AVHRR14_G",
          "AATSR",
          "ATSR1",
          "AVHRR_MERGED",
          "MULTI_1D",
          "OCPR",
          "Map",
          "MULTI_1M",
          "ATSR2-ENVISAT-ENS",
          "WFMD",
          "IMAP",
          "MODISLST_CRYOGRID",
          "SRFP",
          "Saral",
          "MZM",
          "CryoSat-2",
          "ATSR2",
          "AVHRR11_G",
          "EMMA",
          "PASSIVE",
          "AVHRR15_G",
          "MERIS-AATSR",
          "Jason-1",
          "AVHRR09_G",
          "ADV",
          "SCIAMACHY_ENVISAT",
          "AATSR-ENVISAT-ENS_MONTHLY",
          "SU",
          "NH25KMEASE2",
          "AATSR-ENVISAT-ENS_ANNUAL",
          "AVHRR17_G",
          "ATSR2-ENVISAT-ENS_DAILY",
          "MERGED",
          "COMBINED",
          "AVHRR12_G",
          "AATSR-ENVISAT-ENS_DAILY",
          "ATSR2-ENVISAT-ENS_ANNUAL",
          "MSAAI",
          "AERGOM",
          "Jason-3",
          "ERA5_MODISLST_BIASCORRECTED",
          "AVHRR-AM",
          "AVHRR07_G",
          "GMPE",
          "AVHRRMTA_G",
          "AATSR-ENVISAT-ENS",
          "SRPR",
          "NH",
          "ORAC",
          "MODIS_TERRA",
          "AMSR_50kmEASE2",
          "MIPAS_ENVISAT",
          "OSIRIS_ODIN",
          "MSI",
          "OCFP",
          "MERIS_ENVISAT",
          "SH",
          "ATSR2-ENVISAT-ENS_MONTHLY",
          "MERGED_OI_7DAY_RUNNINGMEAN_DAILY_25km",
          "AVHRR18_G",
          "OSTIA",
          "UNSPECIFIED",
          "Topex-Poseidon",
          "ACTIVE",
          "AMSR_25kmEASE2",
          "Jason-2",
          "BESD"
         ],
         "type": "string"
        },
        "product_version": {
         "enum": [
          "fv0002",
          "v2-1",
          "1-5",
          "v02-01-02",
          "04-01_seg-",
          "2-0-7",
          "3-0",
          "3-1",
          "v2-3-8",
          "v2-2b",
          "2-0",
          "2-2",
          "4-2",
          "v7-0",
          "v2-2a",
          "v7-0-1",
          "v1-2",
          "1-7",
          "v0001",
          "05-2",
          "v1-1",
          "ch4_v1-2",
          "3-00",
          "1-4",
          "v1-3",
          "v09",
          "v3-0",
          "v08",
          "4-3",
          "v06-1",
          "v2-6",
          "v2-2c",
          "v5-1",
          "04-01-",
          "1-1",
          "1-0",
          "04-01",
          "v7-2",
          "4-0",
          "1-2",
          "3-21",
          "5-0",
          "v4-0",
          "v05-3",
          "03-0",
          "fv0100",
          "2-31",
          "1-3",
          "2-1",
          "v1-0"
         ],
         "type": "string"
        },
        "sensor": {
         "enum": [
          "SMR",
          "AVHRR-2",
          "AVHRR-3",
          "SIRAL",
          "SAR-2000",
          "GOMOS",
          "AltiKa",
          "ASAR",
          "PALSAR",
          "MODIS",
          "GFO-RA",
          "RA",
          "MERIS",
          "MIPAS",
          "Poseidon-3",
          "Poseidon-3B",
          "SCIAMACHY",
          "RA-2",
          "ATSR-2",
          "TANSO-FTS",
          "SAR-(RadarSat-2)",
          "MSI-(Sentinel-2)",
          "multi-sensor",
          "Unspecified",
          "AMI-SAR",
          "AATSR",
          "NRA",
          "SAR-C-(Sentinel-1)",
          "Poseidon-2",
          "ATSR",
          "OSIRIS",
          "GRACE-instrument",
          "OCO",
          "TROPOMI"
         ],
         "type": "string"
        },
        "start_date": {
         "format": "date-time",
         "type": "string"
        }
       },
       "type": "object"
      },
      "text/plain": [
       "<xcube.util.jsonschema.JsonObjectSchema at 0x7f21de7aed00>"
      ]
     },
     "metadata": {},
     "output_type": "display_data"
    }
   ],
   "source": [
    "# uncomment/comment the cci_store variable below to use the \n",
    "# cci_store='cci-zarr-store'\n",
    "cci_store = 'cci-store'\n",
    "\n",
    "data_store = DATA_STORE_POOL.get_store(cci_store)\n",
    "display(data_store.get_search_params_schema())\n",
    "\n",
    "if cci_store == 'cci-zarr-store':\n",
    "    #you can also list all the data ids of the smaller zarr catalogue\n",
    "    list(data_store.get_data_ids())"
   ]
  },
  {
   "cell_type": "markdown",
   "metadata": {},
   "source": [
    "## Step 2: Finding Permafrost data\n",
    "For this exercise, we are interested in Permafrost data sets, so we ask for datasets of the ecv \"PERMAFROST\". We then display the results of the query."
   ]
  },
  {
   "cell_type": "code",
   "execution_count": 4,
   "metadata": {},
   "outputs": [
    {
     "name": "stdout",
     "output_type": "stream",
     "text": [
      "\n",
      "Dataset item 0:\n"
     ]
    },
    {
     "data": {
      "application/json": {
       "attrs": {
        "abstract": "This dataset contains permafrost active layer thickness data produced as part of the European Space Agency's (ESA) Climate Change Initiative (CCI) Permafrost project. It forms part of the second version of their Climate Research Data Package (CRDP v2). It is derived from a thermal model driven and constrained by satellite data. Grid products of CDRP v2 are released in annual files, covering the start to the end of the Julian year. The maximum depth of seasonal thaw is provided, which corresponds to the active layer thickness.\n\nCase A: This covers the Northern Hemisphere (north of 30°) for the period 2003-2019 based on MODIS Land Surface temperature merged with downscaled ERA5 reanalysis near-surface air temperature data.\nCase B: This covers the Northern Hemisphere (north of 30°) for the period 1997-2002 based on downscaled ERA5 reanalysis near-surface air temperature data which are bias-corrected with the Case A product for the overlap period 2003-2019 using a pixel-specific statistics for each day of the year.",
        "catalog_url": "https://catalogue.ceda.ac.uk/uuid/67a3f8c8dc914ef99f7f08eb0d997e23",
        "cci_project": "PERMAFROST",
        "comment": "These data were produced at ESA CCI as part of the ESA Permafrost CCI+ project Contract No 4000123681-18-I-NB. They are part of the 2nd Climate Research Data Package release.",
        "data_type": "ALT",
        "ecv": "PERMAFROST",
        "history": "2021-02-24 10:08:07",
        "institute": "Department of Geosciences, University of Oslo",
        "licences": "Use of these data is covered by the following licence: https://artefacts.ceda.ac.uk/licences/specific_licences/esacci_permafrost_terms_and_conditions.pdf . When using these data you must cite them correctly using the citation given on the CEDA Data Catalogue record.",
        "platform_id": "multi-platform",
        "processing_level": "L4",
        "product_string": "ERA5_MODISLST_BIASCORRECTED",
        "product_version": "03-0",
        "project": "Climate Change Initiative - European Space Agency",
        "publication_date": "2021-06-25T16:58:28",
        "references": "http://cci.esa.int/Permafrost, https://doi.org/10.5194/gmd-9-523-2016",
        "sensor_id": "multi-sensor",
        "source": "ERA5 Ranalysis, MODIS MOD11A1 and MYD11A1 level 3 Collection 6, ESA CCI Land Cover dataset v1.6.1",
        "title": "ESA Permafrost Climate Change Initiative (Permafrost_cci):   Permafrost active layer thickness for the Northern Hemisphere, v3.0",
        "uuid": "67a3f8c8dc914ef99f7f08eb0d997e23"
       },
       "bbox": [
        -180,
        30,
        180,
        90
       ],
       "coords": {
        "time": {
         "attrs": {
          "axis": "T",
          "calendar": "standard",
          "chunk_sizes": 524288,
          "data_type": "float64",
          "dimensions": [
           "time"
          ],
          "file_chunk_sizes": 524288,
          "file_dimensions": [
           "time"
          ],
          "fill_value": null,
          "long_name": "time",
          "orig_data_type": "float64",
          "shape": [
           1
          ],
          "size": 1,
          "standard_name": "time",
          "units": "hours since 1950-01-01 00:00:00"
         },
         "dims": [
          "time"
         ],
         "dtype": "float64",
         "name": "time"
        },
        "time_bnds": {
         "attrs": {
          "calendar": "proleptic_gregorian",
          "standard_name": "time_bnds",
          "units": "seconds since 1970-01-01T00:00:00Z"
         },
         "dims": [
          "time",
          "bnds"
         ],
         "dtype": "int64",
         "name": "time_bnds"
        },
        "x": {
         "attrs": {
          "actual_range": [
           -6111938.535111316,
           7566906.108876757
          ],
          "axis": "X",
          "data_type": "float64",
          "dimensions": [
           "x"
          ],
          "file_dimensions": [
           "x"
          ],
          "fill_value": null,
          "long_name": "x coordinate of projection",
          "orig_data_type": "float64",
          "shape": [
           14762
          ],
          "size": 14762,
          "standard_name": "projection_x_coordinate",
          "units": "m"
         },
         "dims": [
          "x"
         ],
         "dtype": "float64",
         "name": "x"
        },
        "y": {
         "attrs": {
          "actual_range": [
           -5477994.701867972,
           4115358.40741319
          ],
          "axis": "Y",
          "data_type": "float64",
          "dimensions": [
           "y"
          ],
          "file_dimensions": [
           "y"
          ],
          "fill_value": null,
          "long_name": "y coordinate of projection",
          "orig_data_type": "float64",
          "shape": [
           10353
          ],
          "size": 10353,
          "standard_name": "projection_y_coordinate",
          "units": "m"
         },
         "dims": [
          "y"
         ],
         "dtype": "float64",
         "name": "y"
        }
       },
       "crs": "\\\"WGS 84 / Arctic Polar Stereographic\\\"",
       "data_id": "esacci.PERMAFROST.yr.L4.ALT.multi-sensor.multi-platform.ERA5_MODISLST_BIASCORRECTED.03-0.r1",
       "data_type": "dataset",
       "data_vars": {
        "ALT": {
         "attrs": {
          "_Unsigned": "true",
          "actual_max": 100,
          "actual_min": 0.01,
          "add_offset": 0,
          "chunk_sizes": [
           1,
           1151,
           1641
          ],
          "conversion": "to metres: x*0.01",
          "data_type": "uint16",
          "dimensions": [
           "time",
           "y",
           "x"
          ],
          "file_chunk_sizes": [
           1,
           1151,
           1641
          ],
          "file_dimensions": [
           "time",
           "y",
           "x"
          ],
          "fill_value": 0,
          "grid_mapping": "polar_stereographic",
          "orig_data_type": "uint16",
          "scale_factor": 0.01,
          "shape": [
           1,
           10353,
           14762
          ],
          "size": 152830986,
          "standard_name": "permafrost_active_layer_thickness",
          "units": "metres",
          "valid_max": 10000,
          "valid_min": 0
         },
         "dims": [
          "time",
          "y",
          "x"
         ],
         "dtype": "uint16",
         "name": "ALT"
        },
        "polar_stereographic": {
         "attrs": {
          "GeoTransform": "-8679599.425969256 926.6254331383326 0 4120958.560533902 0 -926.6254331383326 ",
          "crs_wkt": "PROJCS[\\\"WGS 84 / Arctic Polar Stereographic\\\",GEOGCS[\\\"WGS 84\\\",DATUM[\\\"WGS_1984\\\",SPHEROID[\\\"WGS 84\\\",6378137,298.257223563,AUTHORITY[\\\"EPSG\\\",\\\"7030\\\"]],AUTHORITY[\\\"EPSG\\\",\\\"6326\\\"]],PRIMEM[\\\"Greenwich\\\",0,AUTHORITY[\\\"EPSG\\\",\\\"8901\\\"]],UNIT[\\\"degree\\\",0.0174532925199433,AUTHORITY[\\\"EPSG\\\",\\\"9122\\\"]],AUTHORITY[\\\"EPSG\\\",\\\"4326\\\"]],PROJECTION[\\\"Polar_Stereographic\\\"],PARAMETER[\\\"latitude_of_origin\\\",71],PARAMETER[\\\"central_meridian\\\",0],PARAMETER[\\\"scale_factor\\\",1],PARAMETER[\\\"false_easting\\\",0],PARAMETER[\\\"false_northing\\\",0],UNIT[\\\"metre\\\",1,AUTHORITY[\\\"EPSG\\\",\\\"9001\\\"]],AXIS[\\\"X\\\",EAST],AXIS[\\\"Y\\\",NORTH],AUTHORITY[\\\"EPSG\\\",\\\"3995\\\"]]",
          "data_type": "int64",
          "dimensions": [],
          "esri_wkt": "PROJCS[\\\"WGS_84_Arctic_Polar_Stereographic\\\",GEOGCS[\\\"GCS_WGS_1984\\\",DATUM[\\\"D_WGS_1984\\\",SPHEROID[\\\"WGS_1984\\\",6378137,298.257223563]],PRIMEM[\\\"Greenwich\\\",0],UNIT[\\\"Degree\\\",0.017453292519943295]],PROJECTION[\\\"Stereographic_North_Pole\\\"],PARAMETER[\\\"standard_parallel_1\\\",71],PARAMETER[\\\"central_meridian\\\",0],PARAMETER[\\\"false_easting\\\",0],PARAMETER[\\\"false_northing\\\",0],UNIT[\\\"Meter\\\",1]]",
          "false_easting": 0,
          "false_northing": 0,
          "file_dimensions": [],
          "fill_value": 9223372036854776000,
          "grid_mapping_name": "polar_stereographic",
          "inverse_flattening": 298.257223563,
          "latitude_of_projection_origin": 90,
          "longitude_of_prime_meridian": 0,
          "orig_data_type": "int32",
          "semi_major_axis": 6378137,
          "shape": [],
          "size": 1,
          "spatial_ref": "GEOGCS[\\\"WGS 84\\\",DATUM[\\\"WGS_1984\\\",SPHEROID[\\\"WGS 84\\\",6378137,298.257223563,AUTHORITY[\\\"EPSG\\\",\\\"7030\\\"]],AUTHORITY[\\\"EPSG\\\",\\\"6326\\\"]],PRIMEM[\\\"Greenwich\\\",0],UNIT[\\\"degree\\\",0.0174532925199433],AUTHORITY[\\\"EPSG\\\",\\\"4326\\\"]],PROJECTION[\\\"Polar_Stereographic\\\"],PARAMETER[\\\"latitude_of_origin\\\",45],PARAMETER[\\\"central_meridian\\\",-170],PARAMETER[\\\"scale_factor\\\",1],PARAMETER[\\\"false_easting\\\",0],PARAMETER[\\\"false_northing\\\",0],UNIT[\\\"metre\\\",1,AUTHORITY[\\\"EPSG\\\",\\\"9001\\\"]]",
          "standard_parallel": 71,
          "straight_vertical_longitude_from_pole": 0
         },
         "dims": [],
         "dtype": "int64",
         "name": "polar_stereographic"
        }
       },
       "dims": {
        "bnds": 2,
        "time": 6,
        "x": 14762,
        "y": 10353
       },
       "open_params_schema": {
        "additionalProperties": false,
        "properties": {
         "normalize_data": {
          "default": true,
          "type": "boolean"
         },
         "time_range": {
          "items": [
           {
            "format": "date",
            "maxDate": "2019-12-31",
            "minDate": "1997-01-01",
            "type": "string"
           },
           {
            "format": "date",
            "maxDate": "2019-12-31",
            "minDate": "1997-01-01",
            "type": "string"
           }
          ],
          "type": "array"
         },
         "variable_names": {
          "items": {
           "enum": [
            "polar_stereographic",
            "ALT"
           ],
           "type": "string"
          },
          "type": "array"
         }
        },
        "type": "object"
       },
       "spatial_res": 926.62543305,
       "time_period": "1Y",
       "time_range": [
        "1997-01-01",
        "2019-12-31"
       ]
      },
      "text/plain": [
       "<xcube.core.store.descriptor.DatasetDescriptor at 0x7f217aa0e100>"
      ]
     },
     "metadata": {},
     "output_type": "display_data"
    },
    {
     "name": "stdout",
     "output_type": "stream",
     "text": [
      "\n",
      "Dataset item 1:\n"
     ]
    },
    {
     "data": {
      "application/json": {
       "attrs": {
        "abstract": "This dataset contains permafrost active layer thickness data produced as part of the European Space Agency's (ESA) Climate Change Initiative (CCI) Permafrost project. It forms part of the second version of their Climate Research Data Package (CRDP v2). It is derived from a thermal model driven and constrained by satellite data. Grid products of CDRP v2 are released in annual files, covering the start to the end of the Julian year. The maximum depth of seasonal thaw is provided, which corresponds to the active layer thickness.\n\nCase A: This covers the Northern Hemisphere (north of 30°) for the period 2003-2019 based on MODIS Land Surface temperature merged with downscaled ERA5 reanalysis near-surface air temperature data.\nCase B: This covers the Northern Hemisphere (north of 30°) for the period 1997-2002 based on downscaled ERA5 reanalysis near-surface air temperature data which are bias-corrected with the Case A product for the overlap period 2003-2019 using a pixel-specific statistics for each day of the year.",
        "catalog_url": "https://catalogue.ceda.ac.uk/uuid/67a3f8c8dc914ef99f7f08eb0d997e23",
        "cci_project": "PERMAFROST",
        "comment": "These data were produced at ESA CCI as part of the ESA Permafrost CCI+ project Contract No 4000123681-18-I-NB. They are part of the 2nd Climate Research Data Package release.",
        "data_type": "ALT",
        "ecv": "PERMAFROST",
        "history": "2021-02-24 10:31:37",
        "institute": "Department of Geosciences, University of Oslo",
        "licences": "Use of these data is covered by the following licence: https://artefacts.ceda.ac.uk/licences/specific_licences/esacci_permafrost_terms_and_conditions.pdf . When using these data you must cite them correctly using the citation given on the CEDA Data Catalogue record.",
        "platform_id": "multi-platform",
        "processing_level": "L4",
        "product_string": "MODISLST_CRYOGRID",
        "product_version": "03-0",
        "project": "Climate Change Initiative - European Space Agency",
        "publication_date": "2021-06-25T16:58:28",
        "references": "http://cci.esa.int/Permafrost, https://doi.org/10.5194/gmd-9-523-2016",
        "sensor_id": "multi-sensor",
        "source": "MODIS MOD11A1 and MYD11A1 level 3 Collection 6, ESA CCI Land Cover dataset v1.6.1, ERA5 Reanalysis",
        "title": "ESA Permafrost Climate Change Initiative (Permafrost_cci):   Permafrost active layer thickness for the Northern Hemisphere, v3.0",
        "uuid": "67a3f8c8dc914ef99f7f08eb0d997e23"
       },
       "bbox": [
        -180,
        30,
        180,
        90
       ],
       "coords": {
        "time": {
         "attrs": {
          "axis": "T",
          "calendar": "standard",
          "chunk_sizes": 524288,
          "data_type": "float64",
          "dimensions": [
           "time"
          ],
          "file_chunk_sizes": 524288,
          "file_dimensions": [
           "time"
          ],
          "fill_value": null,
          "long_name": "time",
          "orig_data_type": "float64",
          "shape": [
           1
          ],
          "size": 1,
          "standard_name": "time",
          "units": "hours since 1950-01-01 00:00:00"
         },
         "dims": [
          "time"
         ],
         "dtype": "float64",
         "name": "time"
        },
        "time_bnds": {
         "attrs": {
          "calendar": "proleptic_gregorian",
          "standard_name": "time_bnds",
          "units": "seconds since 1970-01-01T00:00:00Z"
         },
         "dims": [
          "time",
          "bnds"
         ],
         "dtype": "int64",
         "name": "time_bnds"
        },
        "x": {
         "attrs": {
          "actual_range": [
           -6111938.535111316,
           7566906.108876757
          ],
          "axis": "X",
          "data_type": "float64",
          "dimensions": [
           "x"
          ],
          "file_dimensions": [
           "x"
          ],
          "fill_value": null,
          "long_name": "x coordinate of projection",
          "orig_data_type": "float64",
          "shape": [
           14762
          ],
          "size": 14762,
          "standard_name": "projection_x_coordinate",
          "units": "m"
         },
         "dims": [
          "x"
         ],
         "dtype": "float64",
         "name": "x"
        },
        "y": {
         "attrs": {
          "actual_range": [
           -5477994.701867972,
           4115358.40741319
          ],
          "axis": "Y",
          "data_type": "float64",
          "dimensions": [
           "y"
          ],
          "file_dimensions": [
           "y"
          ],
          "fill_value": null,
          "long_name": "y coordinate of projection",
          "orig_data_type": "float64",
          "shape": [
           10353
          ],
          "size": 10353,
          "standard_name": "projection_y_coordinate",
          "units": "m"
         },
         "dims": [
          "y"
         ],
         "dtype": "float64",
         "name": "y"
        }
       },
       "crs": "\\\"WGS 84 / Arctic Polar Stereographic\\\"",
       "data_id": "esacci.PERMAFROST.yr.L4.ALT.multi-sensor.multi-platform.MODISLST_CRYOGRID.03-0.r1",
       "data_type": "dataset",
       "data_vars": {
        "ALT": {
         "attrs": {
          "_Unsigned": "true",
          "actual_max": 100,
          "actual_min": 0.01,
          "add_offset": 0,
          "chunk_sizes": [
           1,
           1151,
           1641
          ],
          "conversion": "to metres: x*0.01",
          "data_type": "uint16",
          "dimensions": [
           "time",
           "y",
           "x"
          ],
          "file_chunk_sizes": [
           1,
           1151,
           1641
          ],
          "file_dimensions": [
           "time",
           "y",
           "x"
          ],
          "fill_value": 0,
          "grid_mapping": "polar_stereographic",
          "orig_data_type": "uint16",
          "scale_factor": 0.01,
          "shape": [
           1,
           10353,
           14762
          ],
          "size": 152830986,
          "standard_name": "permafrost_active_layer_thickness",
          "units": "metres",
          "valid_max": 10000,
          "valid_min": 0
         },
         "dims": [
          "time",
          "y",
          "x"
         ],
         "dtype": "uint16",
         "name": "ALT"
        },
        "polar_stereographic": {
         "attrs": {
          "GeoTransform": "-8679599.425969256 926.6254331383326 0 4120958.560533902 0 -926.6254331383326 ",
          "crs_wkt": "PROJCS[\\\"WGS 84 / Arctic Polar Stereographic\\\",GEOGCS[\\\"WGS 84\\\",DATUM[\\\"WGS_1984\\\",SPHEROID[\\\"WGS 84\\\",6378137,298.257223563,AUTHORITY[\\\"EPSG\\\",\\\"7030\\\"]],AUTHORITY[\\\"EPSG\\\",\\\"6326\\\"]],PRIMEM[\\\"Greenwich\\\",0,AUTHORITY[\\\"EPSG\\\",\\\"8901\\\"]],UNIT[\\\"degree\\\",0.0174532925199433,AUTHORITY[\\\"EPSG\\\",\\\"9122\\\"]],AUTHORITY[\\\"EPSG\\\",\\\"4326\\\"]],PROJECTION[\\\"Polar_Stereographic\\\"],PARAMETER[\\\"latitude_of_origin\\\",71],PARAMETER[\\\"central_meridian\\\",0],PARAMETER[\\\"scale_factor\\\",1],PARAMETER[\\\"false_easting\\\",0],PARAMETER[\\\"false_northing\\\",0],UNIT[\\\"metre\\\",1,AUTHORITY[\\\"EPSG\\\",\\\"9001\\\"]],AXIS[\\\"X\\\",EAST],AXIS[\\\"Y\\\",NORTH],AUTHORITY[\\\"EPSG\\\",\\\"3995\\\"]]",
          "data_type": "int64",
          "dimensions": [],
          "esri_wkt": "PROJCS[\\\"WGS_84_Arctic_Polar_Stereographic\\\",GEOGCS[\\\"GCS_WGS_1984\\\",DATUM[\\\"D_WGS_1984\\\",SPHEROID[\\\"WGS_1984\\\",6378137,298.257223563]],PRIMEM[\\\"Greenwich\\\",0],UNIT[\\\"Degree\\\",0.017453292519943295]],PROJECTION[\\\"Stereographic_North_Pole\\\"],PARAMETER[\\\"standard_parallel_1\\\",71],PARAMETER[\\\"central_meridian\\\",0],PARAMETER[\\\"false_easting\\\",0],PARAMETER[\\\"false_northing\\\",0],UNIT[\\\"Meter\\\",1]]",
          "false_easting": 0,
          "false_northing": 0,
          "file_dimensions": [],
          "fill_value": 9223372036854776000,
          "grid_mapping_name": "polar_stereographic",
          "inverse_flattening": 298.257223563,
          "latitude_of_projection_origin": 90,
          "longitude_of_prime_meridian": 0,
          "orig_data_type": "int32",
          "semi_major_axis": 6378137,
          "shape": [],
          "size": 1,
          "spatial_ref": "GEOGCS[\\\"WGS 84\\\",DATUM[\\\"WGS_1984\\\",SPHEROID[\\\"WGS 84\\\",6378137,298.257223563,AUTHORITY[\\\"EPSG\\\",\\\"7030\\\"]],AUTHORITY[\\\"EPSG\\\",\\\"6326\\\"]],PRIMEM[\\\"Greenwich\\\",0],UNIT[\\\"degree\\\",0.0174532925199433],AUTHORITY[\\\"EPSG\\\",\\\"4326\\\"]],PROJECTION[\\\"Polar_Stereographic\\\"],PARAMETER[\\\"latitude_of_origin\\\",45],PARAMETER[\\\"central_meridian\\\",-170],PARAMETER[\\\"scale_factor\\\",1],PARAMETER[\\\"false_easting\\\",0],PARAMETER[\\\"false_northing\\\",0],UNIT[\\\"metre\\\",1,AUTHORITY[\\\"EPSG\\\",\\\"9001\\\"]]",
          "standard_parallel": 71,
          "straight_vertical_longitude_from_pole": 0
         },
         "dims": [],
         "dtype": "int64",
         "name": "polar_stereographic"
        }
       },
       "dims": {
        "bnds": 2,
        "time": 17,
        "x": 14762,
        "y": 10353
       },
       "open_params_schema": {
        "additionalProperties": false,
        "properties": {
         "normalize_data": {
          "default": true,
          "type": "boolean"
         },
         "time_range": {
          "items": [
           {
            "format": "date",
            "maxDate": "2019-12-31",
            "minDate": "1997-01-01",
            "type": "string"
           },
           {
            "format": "date",
            "maxDate": "2019-12-31",
            "minDate": "1997-01-01",
            "type": "string"
           }
          ],
          "type": "array"
         },
         "variable_names": {
          "items": {
           "enum": [
            "polar_stereographic",
            "ALT"
           ],
           "type": "string"
          },
          "type": "array"
         }
        },
        "type": "object"
       },
       "spatial_res": 926.62543305,
       "time_period": "1Y",
       "time_range": [
        "1997-01-01",
        "2019-12-31"
       ]
      },
      "text/plain": [
       "<xcube.core.store.descriptor.DatasetDescriptor at 0x7f217a967d90>"
      ]
     },
     "metadata": {},
     "output_type": "display_data"
    },
    {
     "name": "stdout",
     "output_type": "stream",
     "text": [
      "\n",
      "Dataset item 2:\n"
     ]
    },
    {
     "data": {
      "application/json": {
       "attrs": {
        "abstract": "This dataset contains permafrost ground temperature data produced as part of the European Space Agency's (ESA) Climate Change Initiative (CCI) Permafrost project. It forms part of the second version of their Climate Research Data Package (CRDP v2). It is derived from a thermal model driven and constrained by satellite data. Grid products of CDRP v2 are released in annual files, covering the start to the end of the Julian year. This corresponds to average annual ground temperatures and is provided for specific depths (surface, 1m, 2m, 5m , 10m).\n\nCase A: This covers the Northern Hemisphere (north of 30°) for the period 2003-2019 based on MODIS Land Surface temperature merged with downscaled ERA5 reanalysis near-surface air temperature data.\nCase B: This covers the Northern Hemisphere (north of 30°) for the period 1997-2002 based on downscaled ERA5 reanalysis near-surface air temperature data which are bias-corrected with the Case A product for the overlap period 2003-2019 using a pixel-specific statistics for each day of the year.",
        "catalog_url": "https://catalogue.ceda.ac.uk/uuid/b25d4a6174de4ac78000d034f500a268",
        "cci_project": "PERMAFROST",
        "comment": "These data were produced at ESA CCI as part of the ESA Permafrost CCI+ project Contract No 4000123681-18-I-NB. They are part of the 2nd Climate Research Data Package release.",
        "data_type": "GTD",
        "ecv": "PERMAFROST",
        "history": "2021-02-24 10:08:07",
        "institute": "Department of Geosciences, University of Oslo",
        "licences": "Use of these data is covered by the following licence: https://artefacts.ceda.ac.uk/licences/specific_licences/esacci_permafrost_terms_and_conditions.pdf . When using these data you must cite them correctly using the citation given on the CEDA Data Catalogue record.",
        "platform_id": "multi-platform",
        "processing_level": "L4",
        "product_string": "ERA5_MODISLST_BIASCORRECTED",
        "product_version": "03-0",
        "project": "Climate Change Initiative - European Space Agency",
        "publication_date": "2021-06-25T16:59:05",
        "references": "http://cci.esa.int/Permafrost, https://doi.org/10.5194/gmd-9-523-2016",
        "sensor_id": "multi-sensor",
        "source": "ERA5 Ranalysis, MODIS MOD11A1 and MYD11A1 level 3 Collection 6, ESA CCI Land Cover dataset v1.6.1",
        "title": "ESA Permafrost Climate Change Initiative (Permafrost_cci):   Permafrost Ground Temperature for the Northern Hemisphere, v3.0",
        "uuid": "b25d4a6174de4ac78000d034f500a268"
       },
       "bbox": [
        -180,
        30,
        180,
        90
       ],
       "coords": {
        "time": {
         "attrs": {
          "axis": "T",
          "calendar": "standard",
          "chunk_sizes": 524288,
          "data_type": "float64",
          "dimensions": [
           "time"
          ],
          "file_chunk_sizes": 524288,
          "file_dimensions": [
           "time"
          ],
          "fill_value": null,
          "long_name": "time",
          "orig_data_type": "float64",
          "shape": [
           1
          ],
          "size": 1,
          "standard_name": "time",
          "units": "hours since 1950-01-01 00:00:00"
         },
         "dims": [
          "time"
         ],
         "dtype": "float64",
         "name": "time"
        },
        "time_bnds": {
         "attrs": {
          "calendar": "proleptic_gregorian",
          "standard_name": "time_bnds",
          "units": "seconds since 1970-01-01T00:00:00Z"
         },
         "dims": [
          "time",
          "bnds"
         ],
         "dtype": "int64",
         "name": "time_bnds"
        },
        "x": {
         "attrs": {
          "actual_range": [
           -6111938.535111316,
           7566906.108876757
          ],
          "axis": "X",
          "data_type": "float64",
          "dimensions": [
           "x"
          ],
          "file_dimensions": [
           "x"
          ],
          "fill_value": null,
          "long_name": "x coordinate of projection",
          "orig_data_type": "float64",
          "shape": [
           14762
          ],
          "size": 14762,
          "standard_name": "projection_x_coordinate",
          "units": "m"
         },
         "dims": [
          "x"
         ],
         "dtype": "float64",
         "name": "x"
        },
        "y": {
         "attrs": {
          "actual_range": [
           -5477994.701867972,
           4115358.40741319
          ],
          "axis": "Y",
          "data_type": "float64",
          "dimensions": [
           "y"
          ],
          "file_dimensions": [
           "y"
          ],
          "fill_value": null,
          "long_name": "y coordinate of projection",
          "orig_data_type": "float64",
          "shape": [
           10353
          ],
          "size": 10353,
          "standard_name": "projection_y_coordinate",
          "units": "m"
         },
         "dims": [
          "y"
         ],
         "dtype": "float64",
         "name": "y"
        }
       },
       "crs": "\\\"WGS 84 / Arctic Polar Stereographic\\\"",
       "data_id": "esacci.PERMAFROST.yr.L4.GTD.multi-sensor.multi-platform.ERA5_MODISLST_BIASCORRECTED.03-0.r1",
       "data_type": "dataset",
       "data_vars": {
        "GST": {
         "attrs": {
          "_Unsigned": "true",
          "actual_max": 26.64,
          "actual_min": -21.71,
          "add_offset": -273.15,
          "chunk_sizes": [
           1,
           1151,
           1641
          ],
          "conversion": "to degrees celsius: x*0.01-273.15",
          "data_type": "uint16",
          "dimensions": [
           "time",
           "y",
           "x"
          ],
          "file_chunk_sizes": [
           1,
           1151,
           1641
          ],
          "file_dimensions": [
           "time",
           "y",
           "x"
          ],
          "fill_value": 0,
          "grid_mapping": "polar_stereographic",
          "orig_data_type": "uint16",
          "scale_factor": 0.01,
          "shape": [
           1,
           10353,
           14762
          ],
          "size": 152830986,
          "standard_name": "surface_temperature",
          "units": "degrees celsius",
          "valid_max": -28221,
          "valid_min": 17315
         },
         "dims": [
          "time",
          "y",
          "x"
         ],
         "dtype": "uint16",
         "name": "GST"
        },
        "T10m": {
         "attrs": {
          "_Unsigned": "true",
          "actual_max": 28.33,
          "actual_min": -21.42,
          "add_offset": -273.15,
          "chunk_sizes": [
           1,
           1151,
           1641
          ],
          "conversion": "to degrees celsius: x*0.01-273.15",
          "data_type": "uint16",
          "dimensions": [
           "time",
           "y",
           "x"
          ],
          "file_chunk_sizes": [
           1,
           1151,
           1641
          ],
          "file_dimensions": [
           "time",
           "y",
           "x"
          ],
          "fill_value": 0,
          "grid_mapping": "polar_stereographic",
          "orig_data_type": "uint16",
          "scale_factor": 0.01,
          "shape": [
           1,
           10353,
           14762
          ],
          "size": 152830986,
          "standard_name": "solid_earth_subsurface_temperature",
          "units": "degrees celsius",
          "valid_max": -28221,
          "valid_min": 17315
         },
         "dims": [
          "time",
          "y",
          "x"
         ],
         "dtype": "uint16",
         "name": "T10m"
        },
        "T1m": {
         "attrs": {
          "_Unsigned": "true",
          "actual_max": 26.94,
          "actual_min": -21.68,
          "add_offset": -273.15,
          "chunk_sizes": [
           1,
           1151,
           1641
          ],
          "conversion": "to degrees celsius: x*0.01-273.15",
          "data_type": "uint16",
          "dimensions": [
           "time",
           "y",
           "x"
          ],
          "file_chunk_sizes": [
           1,
           1151,
           1641
          ],
          "file_dimensions": [
           "time",
           "y",
           "x"
          ],
          "fill_value": 0,
          "grid_mapping": "polar_stereographic",
          "orig_data_type": "uint16",
          "scale_factor": 0.01,
          "shape": [
           1,
           10353,
           14762
          ],
          "size": 152830986,
          "standard_name": "solid_earth_subsurface_temperature",
          "units": "degrees celsius",
          "valid_max": -28221,
          "valid_min": 17315
         },
         "dims": [
          "time",
          "y",
          "x"
         ],
         "dtype": "uint16",
         "name": "T1m"
        },
        "T2m": {
         "attrs": {
          "_Unsigned": "true",
          "actual_max": 27.24,
          "actual_min": -21.65,
          "add_offset": -273.15,
          "chunk_sizes": [
           1,
           1151,
           1641
          ],
          "conversion": "to degrees celsius: x*0.01-273.15",
          "data_type": "uint16",
          "dimensions": [
           "time",
           "y",
           "x"
          ],
          "file_chunk_sizes": [
           1,
           1151,
           1641
          ],
          "file_dimensions": [
           "time",
           "y",
           "x"
          ],
          "fill_value": 0,
          "grid_mapping": "polar_stereographic",
          "orig_data_type": "uint16",
          "scale_factor": 0.01,
          "shape": [
           1,
           10353,
           14762
          ],
          "size": 152830986,
          "standard_name": "solid_earth_subsurface_temperature",
          "units": "degrees celsius",
          "valid_max": -28221,
          "valid_min": 17315
         },
         "dims": [
          "time",
          "y",
          "x"
         ],
         "dtype": "uint16",
         "name": "T2m"
        },
        "T5m": {
         "attrs": {
          "_Unsigned": "true",
          "actual_max": 27.92,
          "actual_min": -21.56,
          "add_offset": -273.15,
          "chunk_sizes": [
           1,
           1151,
           1641
          ],
          "conversion": "to degrees celsius: x*0.01-273.15",
          "data_type": "uint16",
          "dimensions": [
           "time",
           "y",
           "x"
          ],
          "file_chunk_sizes": [
           1,
           1151,
           1641
          ],
          "file_dimensions": [
           "time",
           "y",
           "x"
          ],
          "fill_value": 0,
          "grid_mapping": "polar_stereographic",
          "orig_data_type": "uint16",
          "scale_factor": 0.01,
          "shape": [
           1,
           10353,
           14762
          ],
          "size": 152830986,
          "standard_name": "solid_earth_subsurface_temperature",
          "units": "degrees celsius",
          "valid_max": -28221,
          "valid_min": 17315
         },
         "dims": [
          "time",
          "y",
          "x"
         ],
         "dtype": "uint16",
         "name": "T5m"
        },
        "polar_stereographic": {
         "attrs": {
          "GeoTransform": "-8679599.425969256 926.6254331383326 0 4120958.560533902 0 -926.6254331383326 ",
          "crs_wkt": "PROJCS[\\\"WGS 84 / Arctic Polar Stereographic\\\",GEOGCS[\\\"WGS 84\\\",DATUM[\\\"WGS_1984\\\",SPHEROID[\\\"WGS 84\\\",6378137,298.257223563,AUTHORITY[\\\"EPSG\\\",\\\"7030\\\"]],AUTHORITY[\\\"EPSG\\\",\\\"6326\\\"]],PRIMEM[\\\"Greenwich\\\",0,AUTHORITY[\\\"EPSG\\\",\\\"8901\\\"]],UNIT[\\\"degree\\\",0.0174532925199433,AUTHORITY[\\\"EPSG\\\",\\\"9122\\\"]],AUTHORITY[\\\"EPSG\\\",\\\"4326\\\"]],PROJECTION[\\\"Polar_Stereographic\\\"],PARAMETER[\\\"latitude_of_origin\\\",71],PARAMETER[\\\"central_meridian\\\",0],PARAMETER[\\\"scale_factor\\\",1],PARAMETER[\\\"false_easting\\\",0],PARAMETER[\\\"false_northing\\\",0],UNIT[\\\"metre\\\",1,AUTHORITY[\\\"EPSG\\\",\\\"9001\\\"]],AXIS[\\\"X\\\",EAST],AXIS[\\\"Y\\\",NORTH],AUTHORITY[\\\"EPSG\\\",\\\"3995\\\"]]",
          "data_type": "int64",
          "dimensions": [],
          "esri_wkt": "PROJCS[\\\"WGS_84_Arctic_Polar_Stereographic\\\",GEOGCS[\\\"GCS_WGS_1984\\\",DATUM[\\\"D_WGS_1984\\\",SPHEROID[\\\"WGS_1984\\\",6378137,298.257223563]],PRIMEM[\\\"Greenwich\\\",0],UNIT[\\\"Degree\\\",0.017453292519943295]],PROJECTION[\\\"Stereographic_North_Pole\\\"],PARAMETER[\\\"standard_parallel_1\\\",71],PARAMETER[\\\"central_meridian\\\",0],PARAMETER[\\\"false_easting\\\",0],PARAMETER[\\\"false_northing\\\",0],UNIT[\\\"Meter\\\",1]]",
          "false_easting": 0,
          "false_northing": 0,
          "file_dimensions": [],
          "fill_value": 9223372036854776000,
          "grid_mapping_name": "polar_stereographic",
          "inverse_flattening": 298.257223563,
          "latitude_of_projection_origin": 90,
          "longitude_of_prime_meridian": 0,
          "orig_data_type": "int32",
          "semi_major_axis": 6378137,
          "shape": [],
          "size": 1,
          "spatial_ref": "GEOGCS[\\\"WGS 84\\\",DATUM[\\\"WGS_1984\\\",SPHEROID[\\\"WGS 84\\\",6378137,298.257223563,AUTHORITY[\\\"EPSG\\\",\\\"7030\\\"]],AUTHORITY[\\\"EPSG\\\",\\\"6326\\\"]],PRIMEM[\\\"Greenwich\\\",0],UNIT[\\\"degree\\\",0.0174532925199433],AUTHORITY[\\\"EPSG\\\",\\\"4326\\\"]],PROJECTION[\\\"Polar_Stereographic\\\"],PARAMETER[\\\"latitude_of_origin\\\",45],PARAMETER[\\\"central_meridian\\\",-170],PARAMETER[\\\"scale_factor\\\",1],PARAMETER[\\\"false_easting\\\",0],PARAMETER[\\\"false_northing\\\",0],UNIT[\\\"metre\\\",1,AUTHORITY[\\\"EPSG\\\",\\\"9001\\\"]]",
          "standard_parallel": 71,
          "straight_vertical_longitude_from_pole": 0
         },
         "dims": [],
         "dtype": "int64",
         "name": "polar_stereographic"
        }
       },
       "dims": {
        "bnds": 2,
        "time": 6,
        "x": 14762,
        "y": 10353
       },
       "open_params_schema": {
        "additionalProperties": false,
        "properties": {
         "normalize_data": {
          "default": true,
          "type": "boolean"
         },
         "time_range": {
          "items": [
           {
            "format": "date",
            "maxDate": "2019-12-31",
            "minDate": "1997-01-01",
            "type": "string"
           },
           {
            "format": "date",
            "maxDate": "2019-12-31",
            "minDate": "1997-01-01",
            "type": "string"
           }
          ],
          "type": "array"
         },
         "variable_names": {
          "items": {
           "enum": [
            "polar_stereographic",
            "GST",
            "T1m",
            "T2m",
            "T5m",
            "T10m"
           ],
           "type": "string"
          },
          "type": "array"
         }
        },
        "type": "object"
       },
       "spatial_res": 926.62543305,
       "time_period": "1Y",
       "time_range": [
        "1997-01-01",
        "2019-12-31"
       ]
      },
      "text/plain": [
       "<xcube.core.store.descriptor.DatasetDescriptor at 0x7f217a9df100>"
      ]
     },
     "metadata": {},
     "output_type": "display_data"
    },
    {
     "name": "stdout",
     "output_type": "stream",
     "text": [
      "\n",
      "Dataset item 3:\n"
     ]
    },
    {
     "data": {
      "application/json": {
       "attrs": {
        "abstract": "This dataset contains permafrost ground temperature data produced as part of the European Space Agency's (ESA) Climate Change Initiative (CCI) Permafrost project. It forms part of the second version of their Climate Research Data Package (CRDP v2). It is derived from a thermal model driven and constrained by satellite data. Grid products of CDRP v2 are released in annual files, covering the start to the end of the Julian year. This corresponds to average annual ground temperatures and is provided for specific depths (surface, 1m, 2m, 5m , 10m).\n\nCase A: This covers the Northern Hemisphere (north of 30°) for the period 2003-2019 based on MODIS Land Surface temperature merged with downscaled ERA5 reanalysis near-surface air temperature data.\nCase B: This covers the Northern Hemisphere (north of 30°) for the period 1997-2002 based on downscaled ERA5 reanalysis near-surface air temperature data which are bias-corrected with the Case A product for the overlap period 2003-2019 using a pixel-specific statistics for each day of the year.",
        "catalog_url": "https://catalogue.ceda.ac.uk/uuid/b25d4a6174de4ac78000d034f500a268",
        "cci_project": "PERMAFROST",
        "comment": "These data were produced at ESA CCI as part of the ESA Permafrost CCI+ project Contract No 4000123681-18-I-NB. They are part of the 2nd Climate Research Data Package release.",
        "data_type": "GTD",
        "ecv": "PERMAFROST",
        "history": "2021-02-24 10:31:37",
        "institute": "Department of Geosciences, University of Oslo",
        "licences": "Use of these data is covered by the following licence: https://artefacts.ceda.ac.uk/licences/specific_licences/esacci_permafrost_terms_and_conditions.pdf . When using these data you must cite them correctly using the citation given on the CEDA Data Catalogue record.",
        "platform_id": "multi-platform",
        "processing_level": "L4",
        "product_string": "MODISLST_CRYOGRID",
        "product_version": "03-0",
        "project": "Climate Change Initiative - European Space Agency",
        "publication_date": "2021-06-25T16:59:05",
        "references": "http://cci.esa.int/Permafrost, https://doi.org/10.5194/gmd-9-523-2016",
        "sensor_id": "multi-sensor",
        "source": "MODIS MOD11A1 and MYD11A1 level 3 Collection 6, ESA CCI Land Cover dataset v1.6.1, ERA5 Reanalysis",
        "title": "ESA Permafrost Climate Change Initiative (Permafrost_cci):   Permafrost Ground Temperature for the Northern Hemisphere, v3.0",
        "uuid": "b25d4a6174de4ac78000d034f500a268"
       },
       "bbox": [
        -180,
        30,
        180,
        90
       ],
       "coords": {
        "time": {
         "attrs": {
          "axis": "T",
          "calendar": "standard",
          "chunk_sizes": 524288,
          "data_type": "float64",
          "dimensions": [
           "time"
          ],
          "file_chunk_sizes": 524288,
          "file_dimensions": [
           "time"
          ],
          "fill_value": null,
          "long_name": "time",
          "orig_data_type": "float64",
          "shape": [
           1
          ],
          "size": 1,
          "standard_name": "time",
          "units": "hours since 1950-01-01 00:00:00"
         },
         "dims": [
          "time"
         ],
         "dtype": "float64",
         "name": "time"
        },
        "time_bnds": {
         "attrs": {
          "calendar": "proleptic_gregorian",
          "standard_name": "time_bnds",
          "units": "seconds since 1970-01-01T00:00:00Z"
         },
         "dims": [
          "time",
          "bnds"
         ],
         "dtype": "int64",
         "name": "time_bnds"
        },
        "x": {
         "attrs": {
          "actual_range": [
           -6111938.535111316,
           7566906.108876757
          ],
          "axis": "X",
          "data_type": "float64",
          "dimensions": [
           "x"
          ],
          "file_dimensions": [
           "x"
          ],
          "fill_value": null,
          "long_name": "x coordinate of projection",
          "orig_data_type": "float64",
          "shape": [
           14762
          ],
          "size": 14762,
          "standard_name": "projection_x_coordinate",
          "units": "m"
         },
         "dims": [
          "x"
         ],
         "dtype": "float64",
         "name": "x"
        },
        "y": {
         "attrs": {
          "actual_range": [
           -5477994.701867972,
           4115358.40741319
          ],
          "axis": "Y",
          "data_type": "float64",
          "dimensions": [
           "y"
          ],
          "file_dimensions": [
           "y"
          ],
          "fill_value": null,
          "long_name": "y coordinate of projection",
          "orig_data_type": "float64",
          "shape": [
           10353
          ],
          "size": 10353,
          "standard_name": "projection_y_coordinate",
          "units": "m"
         },
         "dims": [
          "y"
         ],
         "dtype": "float64",
         "name": "y"
        }
       },
       "crs": "\\\"WGS 84 / Arctic Polar Stereographic\\\"",
       "data_id": "esacci.PERMAFROST.yr.L4.GTD.multi-sensor.multi-platform.MODISLST_CRYOGRID.03-0.r1",
       "data_type": "dataset",
       "data_vars": {
        "GST": {
         "attrs": {
          "_Unsigned": "true",
          "actual_max": 28.25,
          "actual_min": -22.65,
          "add_offset": -273.15,
          "chunk_sizes": [
           1,
           1151,
           1641
          ],
          "conversion": "to degrees celsius: x*0.01-273.15",
          "data_type": "uint16",
          "dimensions": [
           "time",
           "y",
           "x"
          ],
          "file_chunk_sizes": [
           1,
           1151,
           1641
          ],
          "file_dimensions": [
           "time",
           "y",
           "x"
          ],
          "fill_value": 0,
          "grid_mapping": "polar_stereographic",
          "orig_data_type": "uint16",
          "scale_factor": 0.01,
          "shape": [
           1,
           10353,
           14762
          ],
          "size": 152830986,
          "standard_name": "surface_temperature",
          "units": "degrees celsius",
          "valid_max": -28221,
          "valid_min": 17315
         },
         "dims": [
          "time",
          "y",
          "x"
         ],
         "dtype": "uint16",
         "name": "GST"
        },
        "T10m": {
         "attrs": {
          "_Unsigned": "true",
          "actual_max": 28.52,
          "actual_min": -21.47,
          "add_offset": -273.15,
          "chunk_sizes": [
           1,
           1151,
           1641
          ],
          "conversion": "to degrees celsius: x*0.01-273.15",
          "data_type": "uint16",
          "dimensions": [
           "time",
           "y",
           "x"
          ],
          "file_chunk_sizes": [
           1,
           1151,
           1641
          ],
          "file_dimensions": [
           "time",
           "y",
           "x"
          ],
          "fill_value": 0,
          "grid_mapping": "polar_stereographic",
          "orig_data_type": "uint16",
          "scale_factor": 0.01,
          "shape": [
           1,
           10353,
           14762
          ],
          "size": 152830986,
          "standard_name": "solid_earth_subsurface_temperature",
          "units": "degrees celsius",
          "valid_max": -28221,
          "valid_min": 17315
         },
         "dims": [
          "time",
          "y",
          "x"
         ],
         "dtype": "uint16",
         "name": "T10m"
        },
        "T1m": {
         "attrs": {
          "_Unsigned": "true",
          "actual_max": 28.28,
          "actual_min": -22.15,
          "add_offset": -273.15,
          "chunk_sizes": [
           1,
           1151,
           1641
          ],
          "conversion": "to degrees celsius: x*0.01-273.15",
          "data_type": "uint16",
          "dimensions": [
           "time",
           "y",
           "x"
          ],
          "file_chunk_sizes": [
           1,
           1151,
           1641
          ],
          "file_dimensions": [
           "time",
           "y",
           "x"
          ],
          "fill_value": 0,
          "grid_mapping": "polar_stereographic",
          "orig_data_type": "uint16",
          "scale_factor": 0.01,
          "shape": [
           1,
           10353,
           14762
          ],
          "size": 152830986,
          "standard_name": "solid_earth_subsurface_temperature",
          "units": "degrees celsius",
          "valid_max": -28221,
          "valid_min": 17315
         },
         "dims": [
          "time",
          "y",
          "x"
         ],
         "dtype": "uint16",
         "name": "T1m"
        },
        "T2m": {
         "attrs": {
          "_Unsigned": "true",
          "actual_max": 28.35,
          "actual_min": -21.81,
          "add_offset": -273.15,
          "chunk_sizes": [
           1,
           1151,
           1641
          ],
          "conversion": "to degrees celsius: x*0.01-273.15",
          "data_type": "uint16",
          "dimensions": [
           "time",
           "y",
           "x"
          ],
          "file_chunk_sizes": [
           1,
           1151,
           1641
          ],
          "file_dimensions": [
           "time",
           "y",
           "x"
          ],
          "fill_value": 0,
          "grid_mapping": "polar_stereographic",
          "orig_data_type": "uint16",
          "scale_factor": 0.01,
          "shape": [
           1,
           10353,
           14762
          ],
          "size": 152830986,
          "standard_name": "solid_earth_subsurface_temperature",
          "units": "degrees celsius",
          "valid_max": -28221,
          "valid_min": 17315
         },
         "dims": [
          "time",
          "y",
          "x"
         ],
         "dtype": "uint16",
         "name": "T2m"
        },
        "T5m": {
         "attrs": {
          "_Unsigned": "true",
          "actual_max": 28.48,
          "actual_min": -21.64,
          "add_offset": -273.15,
          "chunk_sizes": [
           1,
           1151,
           1641
          ],
          "conversion": "to degrees celsius: x*0.01-273.15",
          "data_type": "uint16",
          "dimensions": [
           "time",
           "y",
           "x"
          ],
          "file_chunk_sizes": [
           1,
           1151,
           1641
          ],
          "file_dimensions": [
           "time",
           "y",
           "x"
          ],
          "fill_value": 0,
          "grid_mapping": "polar_stereographic",
          "orig_data_type": "uint16",
          "scale_factor": 0.01,
          "shape": [
           1,
           10353,
           14762
          ],
          "size": 152830986,
          "standard_name": "solid_earth_subsurface_temperature",
          "units": "degrees celsius",
          "valid_max": -28221,
          "valid_min": 17315
         },
         "dims": [
          "time",
          "y",
          "x"
         ],
         "dtype": "uint16",
         "name": "T5m"
        },
        "polar_stereographic": {
         "attrs": {
          "GeoTransform": "-8679599.425969256 926.6254331383326 0 4120958.560533902 0 -926.6254331383326 ",
          "crs_wkt": "PROJCS[\\\"WGS 84 / Arctic Polar Stereographic\\\",GEOGCS[\\\"WGS 84\\\",DATUM[\\\"WGS_1984\\\",SPHEROID[\\\"WGS 84\\\",6378137,298.257223563,AUTHORITY[\\\"EPSG\\\",\\\"7030\\\"]],AUTHORITY[\\\"EPSG\\\",\\\"6326\\\"]],PRIMEM[\\\"Greenwich\\\",0,AUTHORITY[\\\"EPSG\\\",\\\"8901\\\"]],UNIT[\\\"degree\\\",0.0174532925199433,AUTHORITY[\\\"EPSG\\\",\\\"9122\\\"]],AUTHORITY[\\\"EPSG\\\",\\\"4326\\\"]],PROJECTION[\\\"Polar_Stereographic\\\"],PARAMETER[\\\"latitude_of_origin\\\",71],PARAMETER[\\\"central_meridian\\\",0],PARAMETER[\\\"scale_factor\\\",1],PARAMETER[\\\"false_easting\\\",0],PARAMETER[\\\"false_northing\\\",0],UNIT[\\\"metre\\\",1,AUTHORITY[\\\"EPSG\\\",\\\"9001\\\"]],AXIS[\\\"X\\\",EAST],AXIS[\\\"Y\\\",NORTH],AUTHORITY[\\\"EPSG\\\",\\\"3995\\\"]]",
          "data_type": "int64",
          "dimensions": [],
          "esri_wkt": "PROJCS[\\\"WGS_84_Arctic_Polar_Stereographic\\\",GEOGCS[\\\"GCS_WGS_1984\\\",DATUM[\\\"D_WGS_1984\\\",SPHEROID[\\\"WGS_1984\\\",6378137,298.257223563]],PRIMEM[\\\"Greenwich\\\",0],UNIT[\\\"Degree\\\",0.017453292519943295]],PROJECTION[\\\"Stereographic_North_Pole\\\"],PARAMETER[\\\"standard_parallel_1\\\",71],PARAMETER[\\\"central_meridian\\\",0],PARAMETER[\\\"false_easting\\\",0],PARAMETER[\\\"false_northing\\\",0],UNIT[\\\"Meter\\\",1]]",
          "false_easting": 0,
          "false_northing": 0,
          "file_dimensions": [],
          "fill_value": 9223372036854776000,
          "grid_mapping_name": "polar_stereographic",
          "inverse_flattening": 298.257223563,
          "latitude_of_projection_origin": 90,
          "longitude_of_prime_meridian": 0,
          "orig_data_type": "int32",
          "semi_major_axis": 6378137,
          "shape": [],
          "size": 1,
          "spatial_ref": "GEOGCS[\\\"WGS 84\\\",DATUM[\\\"WGS_1984\\\",SPHEROID[\\\"WGS 84\\\",6378137,298.257223563,AUTHORITY[\\\"EPSG\\\",\\\"7030\\\"]],AUTHORITY[\\\"EPSG\\\",\\\"6326\\\"]],PRIMEM[\\\"Greenwich\\\",0],UNIT[\\\"degree\\\",0.0174532925199433],AUTHORITY[\\\"EPSG\\\",\\\"4326\\\"]],PROJECTION[\\\"Polar_Stereographic\\\"],PARAMETER[\\\"latitude_of_origin\\\",45],PARAMETER[\\\"central_meridian\\\",-170],PARAMETER[\\\"scale_factor\\\",1],PARAMETER[\\\"false_easting\\\",0],PARAMETER[\\\"false_northing\\\",0],UNIT[\\\"metre\\\",1,AUTHORITY[\\\"EPSG\\\",\\\"9001\\\"]]",
          "standard_parallel": 71,
          "straight_vertical_longitude_from_pole": 0
         },
         "dims": [],
         "dtype": "int64",
         "name": "polar_stereographic"
        }
       },
       "dims": {
        "bnds": 2,
        "time": 17,
        "x": 14762,
        "y": 10353
       },
       "open_params_schema": {
        "additionalProperties": false,
        "properties": {
         "normalize_data": {
          "default": true,
          "type": "boolean"
         },
         "time_range": {
          "items": [
           {
            "format": "date",
            "maxDate": "2019-12-31",
            "minDate": "1997-01-01",
            "type": "string"
           },
           {
            "format": "date",
            "maxDate": "2019-12-31",
            "minDate": "1997-01-01",
            "type": "string"
           }
          ],
          "type": "array"
         },
         "variable_names": {
          "items": {
           "enum": [
            "polar_stereographic",
            "GST",
            "T1m",
            "T2m",
            "T5m",
            "T10m"
           ],
           "type": "string"
          },
          "type": "array"
         }
        },
        "type": "object"
       },
       "spatial_res": 926.62543305,
       "time_period": "1Y",
       "time_range": [
        "1997-01-01",
        "2019-12-31"
       ]
      },
      "text/plain": [
       "<xcube.core.store.descriptor.DatasetDescriptor at 0x7f217a9c6c70>"
      ]
     },
     "metadata": {},
     "output_type": "display_data"
    },
    {
     "name": "stdout",
     "output_type": "stream",
     "text": [
      "\n",
      "Dataset item 4:\n"
     ]
    },
    {
     "data": {
      "application/json": {
       "attrs": {
        "abstract": "This dataset contains permafrost extent data produced as part of the European Space Agency's (ESA) Climate Change Initiative (CCI) Permafrost project. It forms part of the second version of their Climate Research Data Package (CRDP v2). It is derived from a thermal model driven and constrained by satellite data. Grid products of CDRP v2 are released in annual files, covering the start to the end of the Julian year. This corresponds to average annual ground temperatures (at 2 m depth) which forms the basis for the retrieval of yearly fraction of permafrost-underlain and permafrost-free area within a pixel. A classification according to the IPA (International Permafrost Association) zonation delivers the well-known permafrost zones, distinguishing isolated (0-10%) sporadic (10-50%), discontinuous (50-90%) and continuous permafrost (90-100%).\n\nCase A: This covers the Northern Hemisphere (north of 30°) for the period 2003-2019 based on MODIS Land Surface temperature merged with downscaled ERA5 reanalysis near-surface air temperature data.  \nCase B: This covers the Northern Hemisphere (north of 30°) for the period 1997-2002 based on downscaled ERA5 reanalysis near-surface air temperature data which are bias-corrected with the Case A product for the overlap period 2003-2019 using a pixel-specific statistics for each day of the year.",
        "catalog_url": "https://catalogue.ceda.ac.uk/uuid/6e2091cb0c8b4106921b63cd5357c97c",
        "cci_project": "PERMAFROST",
        "comment": "These data were produced at ESA CCI as part of the ESA Permafrost CCI+ project Contract No 4000123681-18-I-NB. They are part of the 2nd Climate Research Data Package release.",
        "data_type": "PFR",
        "ecv": "PERMAFROST",
        "history": "2021-02-24 10:08:07",
        "institute": "Department of Geosciences, University of Oslo",
        "licences": "Use of these data is covered by the following licence: https://artefacts.ceda.ac.uk/licences/specific_licences/esacci_permafrost_terms_and_conditions.pdf . When using these data you must cite them correctly using the citation given on the CEDA Data Catalogue record.",
        "platform_id": "multi-platform",
        "processing_level": "L4",
        "product_string": "ERA5_MODISLST_BIASCORRECTED",
        "product_version": "03-0",
        "project": "Climate Change Initiative - European Space Agency",
        "publication_date": "2021-06-25T16:57:59",
        "references": "http://cci.esa.int/Permafrost, https://doi.org/10.5194/gmd-9-523-2016",
        "sensor_id": "multi-sensor",
        "source": "ERA5 Ranalysis, MODIS MOD11A1 and MYD11A1 level 3 Collection 6, ESA CCI Land Cover dataset v1.6.1",
        "title": "ESA Permafrost Climate Change Initiative (Permafrost_cci):   Permafrost extent for the Northern Hemisphere, v3.0",
        "uuid": "6e2091cb0c8b4106921b63cd5357c97c"
       },
       "bbox": [
        -180,
        30,
        180,
        90
       ],
       "coords": {
        "time": {
         "attrs": {
          "axis": "T",
          "calendar": "standard",
          "chunk_sizes": 524288,
          "data_type": "float64",
          "dimensions": [
           "time"
          ],
          "file_chunk_sizes": 524288,
          "file_dimensions": [
           "time"
          ],
          "fill_value": null,
          "long_name": "time",
          "orig_data_type": "float64",
          "shape": [
           1
          ],
          "size": 1,
          "standard_name": "time",
          "units": "hours since 1950-01-01 00:00:00"
         },
         "dims": [
          "time"
         ],
         "dtype": "float64",
         "name": "time"
        },
        "time_bnds": {
         "attrs": {
          "calendar": "proleptic_gregorian",
          "standard_name": "time_bnds",
          "units": "seconds since 1970-01-01T00:00:00Z"
         },
         "dims": [
          "time",
          "bnds"
         ],
         "dtype": "int64",
         "name": "time_bnds"
        },
        "x": {
         "attrs": {
          "actual_range": [
           -6111938.535111316,
           7566906.108876757
          ],
          "axis": "X",
          "data_type": "float64",
          "dimensions": [
           "x"
          ],
          "file_dimensions": [
           "x"
          ],
          "fill_value": null,
          "long_name": "x coordinate of projection",
          "orig_data_type": "float64",
          "shape": [
           14762
          ],
          "size": 14762,
          "standard_name": "projection_x_coordinate",
          "units": "m"
         },
         "dims": [
          "x"
         ],
         "dtype": "float64",
         "name": "x"
        },
        "y": {
         "attrs": {
          "actual_range": [
           -5477994.701867972,
           4115358.40741319
          ],
          "axis": "Y",
          "data_type": "float64",
          "dimensions": [
           "y"
          ],
          "file_dimensions": [
           "y"
          ],
          "fill_value": null,
          "long_name": "y coordinate of projection",
          "orig_data_type": "float64",
          "shape": [
           10353
          ],
          "size": 10353,
          "standard_name": "projection_y_coordinate",
          "units": "m"
         },
         "dims": [
          "y"
         ],
         "dtype": "float64",
         "name": "y"
        }
       },
       "crs": "\\\"WGS 84 / Arctic Polar Stereographic\\\"",
       "data_id": "esacci.PERMAFROST.yr.L4.PFR.multi-sensor.multi-platform.ERA5_MODISLST_BIASCORRECTED.03-0.r1",
       "data_type": "dataset",
       "data_vars": {
        "PFR": {
         "attrs": {
          "_Unsigned": "false",
          "actual_max": "100 percent",
          "actual_min": "14 percent",
          "chunk_sizes": [
           1,
           1479,
           2109
          ],
          "conversion": "no",
          "data_type": "uint8",
          "dimensions": [
           "time",
           "y",
           "x"
          ],
          "file_chunk_sizes": [
           1,
           1479,
           2109
          ],
          "file_dimensions": [
           "time",
           "y",
           "x"
          ],
          "fill_value": 0,
          "grid_mapping": "polar_stereographic",
          "orig_data_type": "uint8",
          "shape": [
           1,
           10353,
           14762
          ],
          "size": 152830986,
          "standard_name": "permafrost_area_fraction",
          "units": "percent",
          "valid_max": 100,
          "valid_min": 0
         },
         "dims": [
          "time",
          "y",
          "x"
         ],
         "dtype": "uint8",
         "name": "PFR"
        },
        "polar_stereographic": {
         "attrs": {
          "GeoTransform": "-8679599.425969256 926.6254331383326 0 4120958.560533902 0 -926.6254331383326 ",
          "crs_wkt": "PROJCS[\\\"WGS 84 / Arctic Polar Stereographic\\\",GEOGCS[\\\"WGS 84\\\",DATUM[\\\"WGS_1984\\\",SPHEROID[\\\"WGS 84\\\",6378137,298.257223563,AUTHORITY[\\\"EPSG\\\",\\\"7030\\\"]],AUTHORITY[\\\"EPSG\\\",\\\"6326\\\"]],PRIMEM[\\\"Greenwich\\\",0,AUTHORITY[\\\"EPSG\\\",\\\"8901\\\"]],UNIT[\\\"degree\\\",0.0174532925199433,AUTHORITY[\\\"EPSG\\\",\\\"9122\\\"]],AUTHORITY[\\\"EPSG\\\",\\\"4326\\\"]],PROJECTION[\\\"Polar_Stereographic\\\"],PARAMETER[\\\"latitude_of_origin\\\",71],PARAMETER[\\\"central_meridian\\\",0],PARAMETER[\\\"scale_factor\\\",1],PARAMETER[\\\"false_easting\\\",0],PARAMETER[\\\"false_northing\\\",0],UNIT[\\\"metre\\\",1,AUTHORITY[\\\"EPSG\\\",\\\"9001\\\"]],AXIS[\\\"X\\\",EAST],AXIS[\\\"Y\\\",NORTH],AUTHORITY[\\\"EPSG\\\",\\\"3995\\\"]]",
          "data_type": "int64",
          "dimensions": [],
          "esri_wkt": "PROJCS[\\\"WGS_84_Arctic_Polar_Stereographic\\\",GEOGCS[\\\"GCS_WGS_1984\\\",DATUM[\\\"D_WGS_1984\\\",SPHEROID[\\\"WGS_1984\\\",6378137,298.257223563]],PRIMEM[\\\"Greenwich\\\",0],UNIT[\\\"Degree\\\",0.017453292519943295]],PROJECTION[\\\"Stereographic_North_Pole\\\"],PARAMETER[\\\"standard_parallel_1\\\",71],PARAMETER[\\\"central_meridian\\\",0],PARAMETER[\\\"false_easting\\\",0],PARAMETER[\\\"false_northing\\\",0],UNIT[\\\"Meter\\\",1]]",
          "false_easting": 0,
          "false_northing": 0,
          "file_dimensions": [],
          "fill_value": 9223372036854776000,
          "grid_mapping_name": "polar_stereographic",
          "inverse_flattening": 298.257223563,
          "latitude_of_projection_origin": 90,
          "longitude_of_prime_meridian": 0,
          "orig_data_type": "int32",
          "semi_major_axis": 6378137,
          "shape": [],
          "size": 1,
          "spatial_ref": "GEOGCS[\\\"WGS 84\\\",DATUM[\\\"WGS_1984\\\",SPHEROID[\\\"WGS 84\\\",6378137,298.257223563,AUTHORITY[\\\"EPSG\\\",\\\"7030\\\"]],AUTHORITY[\\\"EPSG\\\",\\\"6326\\\"]],PRIMEM[\\\"Greenwich\\\",0],UNIT[\\\"degree\\\",0.0174532925199433],AUTHORITY[\\\"EPSG\\\",\\\"4326\\\"]],PROJECTION[\\\"Polar_Stereographic\\\"],PARAMETER[\\\"latitude_of_origin\\\",45],PARAMETER[\\\"central_meridian\\\",-170],PARAMETER[\\\"scale_factor\\\",1],PARAMETER[\\\"false_easting\\\",0],PARAMETER[\\\"false_northing\\\",0],UNIT[\\\"metre\\\",1,AUTHORITY[\\\"EPSG\\\",\\\"9001\\\"]]",
          "standard_parallel": 71,
          "straight_vertical_longitude_from_pole": 0
         },
         "dims": [],
         "dtype": "int64",
         "name": "polar_stereographic"
        }
       },
       "dims": {
        "bnds": 2,
        "time": 6,
        "x": 14762,
        "y": 10353
       },
       "open_params_schema": {
        "additionalProperties": false,
        "properties": {
         "normalize_data": {
          "default": true,
          "type": "boolean"
         },
         "time_range": {
          "items": [
           {
            "format": "date",
            "maxDate": "2019-12-31",
            "minDate": "1997-01-01",
            "type": "string"
           },
           {
            "format": "date",
            "maxDate": "2019-12-31",
            "minDate": "1997-01-01",
            "type": "string"
           }
          ],
          "type": "array"
         },
         "variable_names": {
          "items": {
           "enum": [
            "polar_stereographic",
            "PFR"
           ],
           "type": "string"
          },
          "type": "array"
         }
        },
        "type": "object"
       },
       "spatial_res": 926.62543305,
       "time_period": "1Y",
       "time_range": [
        "1997-01-01",
        "2019-12-31"
       ]
      },
      "text/plain": [
       "<xcube.core.store.descriptor.DatasetDescriptor at 0x7f217a9bd7f0>"
      ]
     },
     "metadata": {},
     "output_type": "display_data"
    },
    {
     "name": "stdout",
     "output_type": "stream",
     "text": [
      "\n",
      "Dataset item 5:\n"
     ]
    },
    {
     "data": {
      "application/json": {
       "attrs": {
        "abstract": "This dataset contains permafrost extent data produced as part of the European Space Agency's (ESA) Climate Change Initiative (CCI) Permafrost project. It forms part of the second version of their Climate Research Data Package (CRDP v2). It is derived from a thermal model driven and constrained by satellite data. Grid products of CDRP v2 are released in annual files, covering the start to the end of the Julian year. This corresponds to average annual ground temperatures (at 2 m depth) which forms the basis for the retrieval of yearly fraction of permafrost-underlain and permafrost-free area within a pixel. A classification according to the IPA (International Permafrost Association) zonation delivers the well-known permafrost zones, distinguishing isolated (0-10%) sporadic (10-50%), discontinuous (50-90%) and continuous permafrost (90-100%).\n\nCase A: This covers the Northern Hemisphere (north of 30°) for the period 2003-2019 based on MODIS Land Surface temperature merged with downscaled ERA5 reanalysis near-surface air temperature data.  \nCase B: This covers the Northern Hemisphere (north of 30°) for the period 1997-2002 based on downscaled ERA5 reanalysis near-surface air temperature data which are bias-corrected with the Case A product for the overlap period 2003-2019 using a pixel-specific statistics for each day of the year.",
        "catalog_url": "https://catalogue.ceda.ac.uk/uuid/6e2091cb0c8b4106921b63cd5357c97c",
        "cci_project": "PERMAFROST",
        "comment": "These data were produced at ESA CCI as part of the ESA Permafrost CCI+ project Contract No 4000123681-18-I-NB. They are part of the 2nd Climate Research Data Package release.",
        "data_type": "PFR",
        "ecv": "PERMAFROST",
        "history": "2021-02-24 10:31:37",
        "institute": "Department of Geosciences, University of Oslo",
        "licences": "Use of these data is covered by the following licence: https://artefacts.ceda.ac.uk/licences/specific_licences/esacci_permafrost_terms_and_conditions.pdf . When using these data you must cite them correctly using the citation given on the CEDA Data Catalogue record.",
        "platform_id": "multi-platform",
        "processing_level": "L4",
        "product_string": "MODISLST_CRYOGRID",
        "product_version": "03-0",
        "project": "Climate Change Initiative - European Space Agency",
        "publication_date": "2021-06-25T16:57:59",
        "references": "http://cci.esa.int/Permafrost, https://doi.org/10.5194/gmd-9-523-2016",
        "sensor_id": "multi-sensor",
        "source": "MODIS MOD11A1 and MYD11A1 level 3 Collection 6, ESA CCI Land Cover dataset v1.6.1, ERA5 Reanalysis",
        "title": "ESA Permafrost Climate Change Initiative (Permafrost_cci):   Permafrost extent for the Northern Hemisphere, v3.0",
        "uuid": "6e2091cb0c8b4106921b63cd5357c97c"
       },
       "bbox": [
        -180,
        30,
        180,
        90
       ],
       "coords": {
        "time": {
         "attrs": {
          "axis": "T",
          "calendar": "standard",
          "chunk_sizes": 524288,
          "data_type": "float64",
          "dimensions": [
           "time"
          ],
          "file_chunk_sizes": 524288,
          "file_dimensions": [
           "time"
          ],
          "fill_value": null,
          "long_name": "time",
          "orig_data_type": "float64",
          "shape": [
           1
          ],
          "size": 1,
          "standard_name": "time",
          "units": "hours since 1950-01-01 00:00:00"
         },
         "dims": [
          "time"
         ],
         "dtype": "float64",
         "name": "time"
        },
        "time_bnds": {
         "attrs": {
          "calendar": "proleptic_gregorian",
          "standard_name": "time_bnds",
          "units": "seconds since 1970-01-01T00:00:00Z"
         },
         "dims": [
          "time",
          "bnds"
         ],
         "dtype": "int64",
         "name": "time_bnds"
        },
        "x": {
         "attrs": {
          "actual_range": [
           -6111938.535111316,
           7566906.108876757
          ],
          "axis": "X",
          "data_type": "float64",
          "dimensions": [
           "x"
          ],
          "file_dimensions": [
           "x"
          ],
          "fill_value": null,
          "long_name": "x coordinate of projection",
          "orig_data_type": "float64",
          "shape": [
           14762
          ],
          "size": 14762,
          "standard_name": "projection_x_coordinate",
          "units": "m"
         },
         "dims": [
          "x"
         ],
         "dtype": "float64",
         "name": "x"
        },
        "y": {
         "attrs": {
          "actual_range": [
           -5477994.701867972,
           4115358.40741319
          ],
          "axis": "Y",
          "data_type": "float64",
          "dimensions": [
           "y"
          ],
          "file_dimensions": [
           "y"
          ],
          "fill_value": null,
          "long_name": "y coordinate of projection",
          "orig_data_type": "float64",
          "shape": [
           10353
          ],
          "size": 10353,
          "standard_name": "projection_y_coordinate",
          "units": "m"
         },
         "dims": [
          "y"
         ],
         "dtype": "float64",
         "name": "y"
        }
       },
       "crs": "\\\"WGS 84 / Arctic Polar Stereographic\\\"",
       "data_id": "esacci.PERMAFROST.yr.L4.PFR.multi-sensor.multi-platform.MODISLST_CRYOGRID.03-0.r1",
       "data_type": "dataset",
       "data_vars": {
        "PFR": {
         "attrs": {
          "_Unsigned": "false",
          "actual_max": "100 percent",
          "actual_min": "14 percent",
          "chunk_sizes": [
           1,
           1479,
           2109
          ],
          "conversion": "no",
          "data_type": "uint8",
          "dimensions": [
           "time",
           "y",
           "x"
          ],
          "file_chunk_sizes": [
           1,
           1479,
           2109
          ],
          "file_dimensions": [
           "time",
           "y",
           "x"
          ],
          "fill_value": 0,
          "grid_mapping": "polar_stereographic",
          "orig_data_type": "uint8",
          "shape": [
           1,
           10353,
           14762
          ],
          "size": 152830986,
          "standard_name": "permafrost_area_fraction",
          "units": "percent",
          "valid_max": 100,
          "valid_min": 0
         },
         "dims": [
          "time",
          "y",
          "x"
         ],
         "dtype": "uint8",
         "name": "PFR"
        },
        "polar_stereographic": {
         "attrs": {
          "GeoTransform": "-8679599.425969256 926.6254331383326 0 4120958.560533902 0 -926.6254331383326 ",
          "crs_wkt": "PROJCS[\\\"WGS 84 / Arctic Polar Stereographic\\\",GEOGCS[\\\"WGS 84\\\",DATUM[\\\"WGS_1984\\\",SPHEROID[\\\"WGS 84\\\",6378137,298.257223563,AUTHORITY[\\\"EPSG\\\",\\\"7030\\\"]],AUTHORITY[\\\"EPSG\\\",\\\"6326\\\"]],PRIMEM[\\\"Greenwich\\\",0,AUTHORITY[\\\"EPSG\\\",\\\"8901\\\"]],UNIT[\\\"degree\\\",0.0174532925199433,AUTHORITY[\\\"EPSG\\\",\\\"9122\\\"]],AUTHORITY[\\\"EPSG\\\",\\\"4326\\\"]],PROJECTION[\\\"Polar_Stereographic\\\"],PARAMETER[\\\"latitude_of_origin\\\",71],PARAMETER[\\\"central_meridian\\\",0],PARAMETER[\\\"scale_factor\\\",1],PARAMETER[\\\"false_easting\\\",0],PARAMETER[\\\"false_northing\\\",0],UNIT[\\\"metre\\\",1,AUTHORITY[\\\"EPSG\\\",\\\"9001\\\"]],AXIS[\\\"X\\\",EAST],AXIS[\\\"Y\\\",NORTH],AUTHORITY[\\\"EPSG\\\",\\\"3995\\\"]]",
          "data_type": "int64",
          "dimensions": [],
          "esri_wkt": "PROJCS[\\\"WGS_84_Arctic_Polar_Stereographic\\\",GEOGCS[\\\"GCS_WGS_1984\\\",DATUM[\\\"D_WGS_1984\\\",SPHEROID[\\\"WGS_1984\\\",6378137,298.257223563]],PRIMEM[\\\"Greenwich\\\",0],UNIT[\\\"Degree\\\",0.017453292519943295]],PROJECTION[\\\"Stereographic_North_Pole\\\"],PARAMETER[\\\"standard_parallel_1\\\",71],PARAMETER[\\\"central_meridian\\\",0],PARAMETER[\\\"false_easting\\\",0],PARAMETER[\\\"false_northing\\\",0],UNIT[\\\"Meter\\\",1]]",
          "false_easting": 0,
          "false_northing": 0,
          "file_dimensions": [],
          "fill_value": 9223372036854776000,
          "grid_mapping_name": "polar_stereographic",
          "inverse_flattening": 298.257223563,
          "latitude_of_projection_origin": 90,
          "longitude_of_prime_meridian": 0,
          "orig_data_type": "int32",
          "semi_major_axis": 6378137,
          "shape": [],
          "size": 1,
          "spatial_ref": "GEOGCS[\\\"WGS 84\\\",DATUM[\\\"WGS_1984\\\",SPHEROID[\\\"WGS 84\\\",6378137,298.257223563,AUTHORITY[\\\"EPSG\\\",\\\"7030\\\"]],AUTHORITY[\\\"EPSG\\\",\\\"6326\\\"]],PRIMEM[\\\"Greenwich\\\",0],UNIT[\\\"degree\\\",0.0174532925199433],AUTHORITY[\\\"EPSG\\\",\\\"4326\\\"]],PROJECTION[\\\"Polar_Stereographic\\\"],PARAMETER[\\\"latitude_of_origin\\\",45],PARAMETER[\\\"central_meridian\\\",-170],PARAMETER[\\\"scale_factor\\\",1],PARAMETER[\\\"false_easting\\\",0],PARAMETER[\\\"false_northing\\\",0],UNIT[\\\"metre\\\",1,AUTHORITY[\\\"EPSG\\\",\\\"9001\\\"]]",
          "standard_parallel": 71,
          "straight_vertical_longitude_from_pole": 0
         },
         "dims": [],
         "dtype": "int64",
         "name": "polar_stereographic"
        }
       },
       "dims": {
        "bnds": 2,
        "time": 17,
        "x": 14762,
        "y": 10353
       },
       "open_params_schema": {
        "additionalProperties": false,
        "properties": {
         "normalize_data": {
          "default": true,
          "type": "boolean"
         },
         "time_range": {
          "items": [
           {
            "format": "date",
            "maxDate": "2019-12-31",
            "minDate": "1997-01-01",
            "type": "string"
           },
           {
            "format": "date",
            "maxDate": "2019-12-31",
            "minDate": "1997-01-01",
            "type": "string"
           }
          ],
          "type": "array"
         },
         "variable_names": {
          "items": {
           "enum": [
            "polar_stereographic",
            "PFR"
           ],
           "type": "string"
          },
          "type": "array"
         }
        },
        "type": "object"
       },
       "spatial_res": 926.62543305,
       "time_period": "1Y",
       "time_range": [
        "1997-01-01",
        "2019-12-31"
       ]
      },
      "text/plain": [
       "<xcube.core.store.descriptor.DatasetDescriptor at 0x7f217ab53100>"
      ]
     },
     "metadata": {},
     "output_type": "display_data"
    }
   ],
   "source": [
    "# To get an idea of what is available in the online data portal one can query it and loop over it's result to print some information to the screen\n",
    "permafqry = data_store.search_data(ecv=\"PERMAFROST\")\n",
    "\n",
    "for i,pfItem in enumerate(permafqry):\n",
    "    print(f'\\nDataset item {i}:')\n",
    "    display(pfItem)"
   ]
  },
  {
   "cell_type": "markdown",
   "metadata": {},
   "source": [
    "Of these, we pick the multi sensor bias corrected dataset and open it. The parameter 'data_store_id' is not absolutely necessary, but it makes the opening a little faster. The parameter 'normalize' should be used so that the dataset is preprocessed in a way that it can be optimally used in Cate."
   ]
  },
  {
   "cell_type": "code",
   "execution_count": 5,
   "metadata": {},
   "outputs": [
    {
     "data": {
      "application/json": {
       "attrs": {
        "abstract": "This dataset contains permafrost active layer thickness data produced as part of the European Space Agency's (ESA) Climate Change Initiative (CCI) Permafrost project. It forms part of the second version of their Climate Research Data Package (CRDP v2). It is derived from a thermal model driven and constrained by satellite data. Grid products of CDRP v2 are released in annual files, covering the start to the end of the Julian year. The maximum depth of seasonal thaw is provided, which corresponds to the active layer thickness.\n\nCase A: This covers the Northern Hemisphere (north of 30°) for the period 2003-2019 based on MODIS Land Surface temperature merged with downscaled ERA5 reanalysis near-surface air temperature data.\nCase B: This covers the Northern Hemisphere (north of 30°) for the period 1997-2002 based on downscaled ERA5 reanalysis near-surface air temperature data which are bias-corrected with the Case A product for the overlap period 2003-2019 using a pixel-specific statistics for each day of the year.",
        "catalog_url": "https://catalogue.ceda.ac.uk/uuid/67a3f8c8dc914ef99f7f08eb0d997e23",
        "cci_project": "PERMAFROST",
        "comment": "These data were produced at ESA CCI as part of the ESA Permafrost CCI+ project Contract No 4000123681-18-I-NB. They are part of the 2nd Climate Research Data Package release.",
        "data_type": "ALT",
        "ecv": "PERMAFROST",
        "history": "2021-02-24 10:08:07",
        "institute": "Department of Geosciences, University of Oslo",
        "licences": "Use of these data is covered by the following licence: https://artefacts.ceda.ac.uk/licences/specific_licences/esacci_permafrost_terms_and_conditions.pdf . When using these data you must cite them correctly using the citation given on the CEDA Data Catalogue record.",
        "platform_id": "multi-platform",
        "processing_level": "L4",
        "product_string": "ERA5_MODISLST_BIASCORRECTED",
        "product_version": "03-0",
        "project": "Climate Change Initiative - European Space Agency",
        "publication_date": "2021-06-25T16:58:28",
        "references": "http://cci.esa.int/Permafrost, https://doi.org/10.5194/gmd-9-523-2016",
        "sensor_id": "multi-sensor",
        "source": "ERA5 Ranalysis, MODIS MOD11A1 and MYD11A1 level 3 Collection 6, ESA CCI Land Cover dataset v1.6.1",
        "title": "ESA Permafrost Climate Change Initiative (Permafrost_cci):   Permafrost active layer thickness for the Northern Hemisphere, v3.0",
        "uuid": "67a3f8c8dc914ef99f7f08eb0d997e23"
       },
       "bbox": [
        -180,
        30,
        180,
        90
       ],
       "coords": {
        "time": {
         "attrs": {
          "axis": "T",
          "calendar": "standard",
          "chunk_sizes": 524288,
          "data_type": "float64",
          "dimensions": [
           "time"
          ],
          "file_chunk_sizes": 524288,
          "file_dimensions": [
           "time"
          ],
          "fill_value": null,
          "long_name": "time",
          "orig_data_type": "float64",
          "shape": [
           1
          ],
          "size": 1,
          "standard_name": "time",
          "units": "hours since 1950-01-01 00:00:00"
         },
         "dims": [
          "time"
         ],
         "dtype": "float64",
         "name": "time"
        },
        "time_bnds": {
         "attrs": {
          "calendar": "proleptic_gregorian",
          "standard_name": "time_bnds",
          "units": "seconds since 1970-01-01T00:00:00Z"
         },
         "dims": [
          "time",
          "bnds"
         ],
         "dtype": "int64",
         "name": "time_bnds"
        },
        "x": {
         "attrs": {
          "actual_range": [
           -6111938.535111316,
           7566906.108876757
          ],
          "axis": "X",
          "data_type": "float64",
          "dimensions": [
           "x"
          ],
          "file_dimensions": [
           "x"
          ],
          "fill_value": null,
          "long_name": "x coordinate of projection",
          "orig_data_type": "float64",
          "shape": [
           14762
          ],
          "size": 14762,
          "standard_name": "projection_x_coordinate",
          "units": "m"
         },
         "dims": [
          "x"
         ],
         "dtype": "float64",
         "name": "x"
        },
        "y": {
         "attrs": {
          "actual_range": [
           -5477994.701867972,
           4115358.40741319
          ],
          "axis": "Y",
          "data_type": "float64",
          "dimensions": [
           "y"
          ],
          "file_dimensions": [
           "y"
          ],
          "fill_value": null,
          "long_name": "y coordinate of projection",
          "orig_data_type": "float64",
          "shape": [
           10353
          ],
          "size": 10353,
          "standard_name": "projection_y_coordinate",
          "units": "m"
         },
         "dims": [
          "y"
         ],
         "dtype": "float64",
         "name": "y"
        }
       },
       "crs": "\\\"WGS 84 / Arctic Polar Stereographic\\\"",
       "data_id": "esacci.PERMAFROST.yr.L4.ALT.multi-sensor.multi-platform.ERA5_MODISLST_BIASCORRECTED.03-0.r1",
       "data_type": "dataset",
       "data_vars": {
        "ALT": {
         "attrs": {
          "_Unsigned": "true",
          "actual_max": 100,
          "actual_min": 0.01,
          "add_offset": 0,
          "chunk_sizes": [
           1,
           1151,
           1641
          ],
          "conversion": "to metres: x*0.01",
          "data_type": "uint16",
          "dimensions": [
           "time",
           "y",
           "x"
          ],
          "file_chunk_sizes": [
           1,
           1151,
           1641
          ],
          "file_dimensions": [
           "time",
           "y",
           "x"
          ],
          "fill_value": 0,
          "grid_mapping": "polar_stereographic",
          "orig_data_type": "uint16",
          "scale_factor": 0.01,
          "shape": [
           1,
           10353,
           14762
          ],
          "size": 152830986,
          "standard_name": "permafrost_active_layer_thickness",
          "units": "metres",
          "valid_max": 10000,
          "valid_min": 0
         },
         "dims": [
          "time",
          "y",
          "x"
         ],
         "dtype": "uint16",
         "name": "ALT"
        },
        "polar_stereographic": {
         "attrs": {
          "GeoTransform": "-8679599.425969256 926.6254331383326 0 4120958.560533902 0 -926.6254331383326 ",
          "crs_wkt": "PROJCS[\\\"WGS 84 / Arctic Polar Stereographic\\\",GEOGCS[\\\"WGS 84\\\",DATUM[\\\"WGS_1984\\\",SPHEROID[\\\"WGS 84\\\",6378137,298.257223563,AUTHORITY[\\\"EPSG\\\",\\\"7030\\\"]],AUTHORITY[\\\"EPSG\\\",\\\"6326\\\"]],PRIMEM[\\\"Greenwich\\\",0,AUTHORITY[\\\"EPSG\\\",\\\"8901\\\"]],UNIT[\\\"degree\\\",0.0174532925199433,AUTHORITY[\\\"EPSG\\\",\\\"9122\\\"]],AUTHORITY[\\\"EPSG\\\",\\\"4326\\\"]],PROJECTION[\\\"Polar_Stereographic\\\"],PARAMETER[\\\"latitude_of_origin\\\",71],PARAMETER[\\\"central_meridian\\\",0],PARAMETER[\\\"scale_factor\\\",1],PARAMETER[\\\"false_easting\\\",0],PARAMETER[\\\"false_northing\\\",0],UNIT[\\\"metre\\\",1,AUTHORITY[\\\"EPSG\\\",\\\"9001\\\"]],AXIS[\\\"X\\\",EAST],AXIS[\\\"Y\\\",NORTH],AUTHORITY[\\\"EPSG\\\",\\\"3995\\\"]]",
          "data_type": "int64",
          "dimensions": [],
          "esri_wkt": "PROJCS[\\\"WGS_84_Arctic_Polar_Stereographic\\\",GEOGCS[\\\"GCS_WGS_1984\\\",DATUM[\\\"D_WGS_1984\\\",SPHEROID[\\\"WGS_1984\\\",6378137,298.257223563]],PRIMEM[\\\"Greenwich\\\",0],UNIT[\\\"Degree\\\",0.017453292519943295]],PROJECTION[\\\"Stereographic_North_Pole\\\"],PARAMETER[\\\"standard_parallel_1\\\",71],PARAMETER[\\\"central_meridian\\\",0],PARAMETER[\\\"false_easting\\\",0],PARAMETER[\\\"false_northing\\\",0],UNIT[\\\"Meter\\\",1]]",
          "false_easting": 0,
          "false_northing": 0,
          "file_dimensions": [],
          "fill_value": 9223372036854776000,
          "grid_mapping_name": "polar_stereographic",
          "inverse_flattening": 298.257223563,
          "latitude_of_projection_origin": 90,
          "longitude_of_prime_meridian": 0,
          "orig_data_type": "int32",
          "semi_major_axis": 6378137,
          "shape": [],
          "size": 1,
          "spatial_ref": "GEOGCS[\\\"WGS 84\\\",DATUM[\\\"WGS_1984\\\",SPHEROID[\\\"WGS 84\\\",6378137,298.257223563,AUTHORITY[\\\"EPSG\\\",\\\"7030\\\"]],AUTHORITY[\\\"EPSG\\\",\\\"6326\\\"]],PRIMEM[\\\"Greenwich\\\",0],UNIT[\\\"degree\\\",0.0174532925199433],AUTHORITY[\\\"EPSG\\\",\\\"4326\\\"]],PROJECTION[\\\"Polar_Stereographic\\\"],PARAMETER[\\\"latitude_of_origin\\\",45],PARAMETER[\\\"central_meridian\\\",-170],PARAMETER[\\\"scale_factor\\\",1],PARAMETER[\\\"false_easting\\\",0],PARAMETER[\\\"false_northing\\\",0],UNIT[\\\"metre\\\",1,AUTHORITY[\\\"EPSG\\\",\\\"9001\\\"]]",
          "standard_parallel": 71,
          "straight_vertical_longitude_from_pole": 0
         },
         "dims": [],
         "dtype": "int64",
         "name": "polar_stereographic"
        }
       },
       "dims": {
        "bnds": 2,
        "time": 6,
        "x": 14762,
        "y": 10353
       },
       "open_params_schema": {
        "additionalProperties": false,
        "properties": {
         "normalize_data": {
          "default": true,
          "type": "boolean"
         },
         "time_range": {
          "items": [
           {
            "format": "date",
            "maxDate": "2019-12-31",
            "minDate": "1997-01-01",
            "type": "string"
           },
           {
            "format": "date",
            "maxDate": "2019-12-31",
            "minDate": "1997-01-01",
            "type": "string"
           }
          ],
          "type": "array"
         },
         "variable_names": {
          "items": {
           "enum": [
            "polar_stereographic",
            "ALT"
           ],
           "type": "string"
          },
          "type": "array"
         }
        },
        "type": "object"
       },
       "time_period": "1Y",
       "time_range": [
        "1997-01-01",
        "2019-12-31"
       ]
      },
      "text/plain": [
       "<xcube.core.store.descriptor.DatasetDescriptor at 0x7f21de7f4dc0>"
      ]
     },
     "metadata": {},
     "output_type": "display_data"
    }
   ],
   "source": [
    "#note the appropriate dataset is called slightly different depending on the cci-store which is being used\n",
    "if cci_store == 'cci-store':\n",
    "    dataset_id = \"esacci.PERMAFROST.yr.L4.ALT.multi-sensor.multi-platform.ERA5_MODISLST_BIASCORRECTED.03-0.r1\"\n",
    "elif cci_store == \"cci-zarr-store\":\n",
    "    dataset_id = \"ESACCI-PERMAFROST-L4-ALT-MODISLST-AREA4_PP-1997-2018-fv02.0.zarr\"\n",
    "\n",
    "#describe the dataset\n",
    "data_descriptor = data_store.describe_data(dataset_id)\n",
    "display(data_descriptor)"
   ]
  },
  {
   "cell_type": "code",
   "execution_count": 6,
   "metadata": {},
   "outputs": [
    {
     "name": "stderr",
     "output_type": "stream",
     "text": [
      "/home/alicja/miniconda3/envs/cate-env/lib/python3.9/site-packages/xcube_cci/dataaccess.py:286: RuntimeWarning: Failed to open Zarr store with consolidated metadata, falling back to try reading non-consolidated metadata. This is typically much slower for opening a dataset. To silence this warning, consider:\n",
      "1. Consolidating metadata in this existing store with zarr.consolidate_metadata().\n",
      "2. Explicitly setting consolidated=False, to avoid trying to read consolidate metadata, or\n",
      "3. Explicitly setting consolidated=True, to raise an error in this case instead of falling back to try reading non-consolidated metadata.\n",
      "  ds = xr.open_zarr(chunk_store)\n"
     ]
    }
   ],
   "source": [
    "permaALTDset = open_dataset(ds_id=dataset_id, data_store_id=cci_store, normalize=True)"
   ]
  },
  {
   "cell_type": "markdown",
   "metadata": {},
   "source": [
    "## Step 3: Visualization of the active layer thickness\n",
    "Now that we have opened the data set, we can visualize it so we can learn on where permafrost occurs"
   ]
  },
  {
   "cell_type": "code",
   "execution_count": 7,
   "metadata": {},
   "outputs": [
    {
     "data": {
      "text/plain": [
       "Text(0.5, 1.0, 'Permafrost active layer thickness in the Northern hemisphere')"
      ]
     },
     "execution_count": 7,
     "metadata": {},
     "output_type": "execute_result"
    },
    {
     "name": "stderr",
     "output_type": "stream",
     "text": [
      "/home/alicja/miniconda3/envs/cate-env/lib/python3.9/site-packages/cartopy/crs.py:825: ShapelyDeprecationWarning: __len__ for multi-part geometries is deprecated and will be removed in Shapely 2.0. Check the length of the `geoms` property instead to get the  number of parts of a multi-part geometry.\n",
      "  if len(multi_line_string) > 1:\n",
      "/home/alicja/miniconda3/envs/cate-env/lib/python3.9/site-packages/cartopy/crs.py:877: ShapelyDeprecationWarning: Iteration over multi-part geometries is deprecated and will be removed in Shapely 2.0. Use the `geoms` property to access the constituent parts of a multi-part geometry.\n",
      "  for line in multi_line_string:\n",
      "/home/alicja/miniconda3/envs/cate-env/lib/python3.9/site-packages/cartopy/crs.py:944: ShapelyDeprecationWarning: __len__ for multi-part geometries is deprecated and will be removed in Shapely 2.0. Check the length of the `geoms` property instead to get the  number of parts of a multi-part geometry.\n",
      "  if len(p_mline) > 0:\n",
      "/home/alicja/miniconda3/envs/cate-env/lib/python3.9/site-packages/cartopy/crs.py:982: ShapelyDeprecationWarning: Iteration over multi-part geometries is deprecated and will be removed in Shapely 2.0. Use the `geoms` property to access the constituent parts of a multi-part geometry.\n",
      "  line_strings.extend(multi_line_string)\n",
      "/home/alicja/miniconda3/envs/cate-env/lib/python3.9/site-packages/cartopy/crs.py:982: ShapelyDeprecationWarning: __len__ for multi-part geometries is deprecated and will be removed in Shapely 2.0. Check the length of the `geoms` property instead to get the  number of parts of a multi-part geometry.\n",
      "  line_strings.extend(multi_line_string)\n"
     ]
    },
    {
     "data": {
      "image/png": "[encoded data removed]",
      "text/plain": [
       "<Figure size 1152x720 with 2 Axes>"
      ]
     },
     "metadata": {
      "needs_background": "light"
     },
     "output_type": "display_data"
    }
   ],
   "source": [
    "%matplotlib inline\n",
    "import matplotlib.pyplot as mpl\n",
    "import cartopy.crs as ccrs\n",
    "\n",
    "it = 0\n",
    "\n",
    "mpl.figure(figsize=(16, 10))\n",
    "crs = ccrs.NorthPolarStereo(0, true_scale_latitude=71)\n",
    "\n",
    "ax = mpl.subplot(projection=crs)\n",
    "permaALTDset.ALT[it,:,:].plot.imshow(vmin=0, vmax=4, ax=ax)\n",
    "\n",
    "ax.coastlines(resolution='10m')\n",
    "\n",
    "ax.set_title(\"Permafrost active layer thickness in the Northern hemisphere\")\n"
   ]
  },
  {
   "cell_type": "markdown",
   "metadata": {},
   "source": [
    "## Questions (share your answers on the forum and discuss)\n",
    "Now that you've done the exercise, you can try to tweak some settings to get further insights in permafrost changes.\n",
    "1. In general, higher latitudes are associated with a thinner active layer. How can you explain this?\n",
    "2. Copy the plotting code in a new cell and try to make a plot of the change in active layer thickness (difference between last and first epoch). Make sure to choose a divergent colormap (e.g. seismic centered at a value of zero)\n",
    "3. Is there a general decrease or increase of the active layer thickness? Would this be expected under a warming climate?"
   ]
  }
 ],
 "metadata": {
  "kernelspec": {
   "display_name": "Python 3 (ipykernel)",
   "language": "python",
   "name": "python3"
  },
  "language_info": {
   "codemirror_mode": {
    "name": "ipython",
    "version": 3
   },
   "file_extension": ".py",
   "mimetype": "text/x-python",
   "name": "python",
   "nbconvert_exporter": "python",
   "pygments_lexer": "ipython3",
   "version": "3.9.7"
  }
 },
 "nbformat": 4,
 "nbformat_minor": 4
}
