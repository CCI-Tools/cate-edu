{
 "cells": [
  {
   "cell_type": "markdown",
   "metadata": {},
   "source": [
    "<img src=\"media/Cryo+ESA_Logo_plain-50gray.svg\" alt=\"CCI Cryosphere banner\" width=\"1000\"/>\n",
    "\n",
    "# Mapping the permafrost active layer thickness\n",
    "\n",
    "The Open Data Portal hosts three permafrost datasets you can find here [permafrost active layer thickness](https://climate.esa.int/en/odp/#/project/permafrost). This exercise will show you how to visualize and process these datasets.\n",
    "\n",
    "## Preparations\n",
    "If you haven't done so please follow the [Cate tutorial](futurelearn.com/tbd) to get started using the exercises.\n",
    "\n",
    "## Cate software and the open data portal\n",
    "\n",
    "In this exercise we'll be querying the open data portal for sea ice concentration products as produced by the [Climate Change Initiative Sea Ice project](https://climate.esa.int/en/projects/sea-ice/). The [**open data portal**](https://climate.esa.int/en/odp/#/dashboard) hosts a variety of datasets on the [Jasmin infrastructure on the UK](https://jasmin.ac.uk/). These can be queried using the dedicated [Cate python module](https://cate.readthedocs.io/en/latest/). Cate allows retrieving data from the data portal and the web-interface which you find at [cate.climate.esa.int](https://cate.climate.esa.int) is build upon it.\n",
    "\n",
    "In this Jupyter notebook exercise we will directly call Cate functions, and it will show you how these can be used in advanced worksflows."
   ]
  },
  {
   "cell_type": "markdown",
   "metadata": {},
   "source": [
    "## Step 1: loading python modules and initialize the data store pool"
   ]
  },
  {
   "cell_type": "code",
   "execution_count": 2,
   "metadata": {},
   "outputs": [],
   "source": [
    "# To get things started we need to initialize a few things\n",
    "#Load some python modules to make them accessible to the notebook\n",
    "from cate.core.ds import DATA_STORE_POOL\n",
    "import cate.ops as ops\n",
    "from cate.core.ds import get_metadata_from_descriptor\n",
    "from cate.ops.io import open_dataset\n",
    "\n",
    "# the following is needed to run Cate in a Jupyter Notebook\n",
    "from xcube.util.ipython import enable_asyncio\n",
    "enable_asyncio()\n",
    "\n",
    "# utilities\n",
    "from IPython.display import display\n",
    "import numpy as np\n",
    "from datetime import datetime"
   ]
  },
  {
   "cell_type": "markdown",
   "metadata": {},
   "source": [
    "To begin, let us see which data stores are available in the Data Store Pool."
   ]
  },
  {
   "cell_type": "code",
   "execution_count": 3,
   "metadata": {},
   "outputs": [
    {
     "data": {
      "text/plain": [
       "['cci-store', 'cci-zarr-store', 'local']"
      ]
     },
     "execution_count": 3,
     "metadata": {},
     "output_type": "execute_result"
    }
   ],
   "source": [
    "DATA_STORE_POOL.store_instance_ids"
   ]
  },
  {
   "cell_type": "markdown",
   "metadata": {},
   "source": [
    "We see three stores. The 'cci-store' is a store that provides access to all datasets from the CCI Open Data Portal. The 'cci-zarr-store' is a store that contains selected data from the Open Data Portal, converted to the zarr format. The datasets from this store can be opened and processed faster, but the store provides only a small subset of what is offered by the 'cci-store'. The 'local' data store finally allows to access locally provided data. Also, when you select to cache data, you will find it in this store. Cached data can also be opened quickly.\n",
    "\n",
    "For starters, let us use the 'cci-store' which connects to the Open Data Portal and allows access to the datasets listed at https://catalogue.ceda.ac.uk. We can ask for the search parameters of the store to see how a search can be performed."
   ]
  },
  {
   "cell_type": "code",
   "execution_count": 4,
   "metadata": {},
   "outputs": [
    {
     "data": {
      "application/json": {
       "additionalProperties": false,
       "properties": {
        "bbox": {
         "items": [
          {
           "type": "number"
          },
          {
           "type": "number"
          },
          {
           "type": "number"
          },
          {
           "type": "number"
          }
         ],
         "type": "array"
        },
        "data_type": {
         "enum": [
          "AEX",
          "WB",
          "SWE",
          "ALT",
          "NP",
          "SSTskin",
          "IV",
          "LK_PRODUCTS",
          "LP",
          "LCCS",
          "SSMV",
          "AER_PRODUCTS",
          "SSTdepth",
          "MSLAMPH",
          "MSLTR",
          "CH4",
          "AOD",
          "SITHICK",
          "CHLOR_A",
          "OC_PRODUCTS",
          "RRS",
          "SSMS",
          "CO2",
          "IOP",
          "BA",
          "GMB",
          "PFR",
          "SLA",
          "K_490",
          "SCFG",
          "SEC",
          "GTD",
          "MSLA",
          "SCFV",
          "GLL",
          "CLD_PRODUCTS",
          "AGB",
          "SWH",
          "TC",
          "SSS",
          "SICONC",
          "MSL",
          "CFL",
          "AAI"
         ],
         "type": "string"
        },
        "ecv": {
         "enum": [
          "PERMAFROST",
          "SNOW",
          "SST",
          "SEALEVEL",
          "AEROSOL",
          "SOILMOISTURE",
          "FIRE",
          "LAKES",
          "OZONE",
          "CLOUD",
          "LC",
          "SEAICE",
          "SEASTATE",
          "SEASURFACESALINITY",
          "GHG",
          "ICESHEETS",
          "BIOMASS",
          "OC"
         ],
         "type": "string"
        },
        "end_date": {
         "format": "date-time",
         "type": "string"
        },
        "frequency": {
         "enum": [
          "15 days",
          "8 days",
          "satellite-orbit-frequency",
          "climatology",
          "unspecified",
          "5 days",
          "10 days",
          "year",
          "day",
          "13 years",
          "month"
         ],
         "type": "string"
        },
        "institute": {
         "enum": [
          "Plymouth Marine Laboratory",
          "Alfred-Wegener-Institut Helmholtz-Zentrum für Polar- und Meeresforschung",
          "ENVironmental Earth Observation IT GmbH",
          "multi-institution",
          "DTU Space",
          "Vienna University of Technology",
          "Deutscher Wetterdienst",
          "Netherlands Institute for Space Research",
          "Technische Universität Dresden",
          "Institute of Environmental Physics",
          "Rutherford Appleton Laboratory",
          "Universite Catholique de Louvain",
          "University of Alcala",
          "University of Leicester",
          "Norwegian Meteorological Institute",
          "University of Bremen",
          "Belgian Institute for Space Aeronomy",
          "Deutsches Zentrum fuer Luft- und Raumfahrt",
          "Freie Universitaet Berlin",
          "Royal Netherlands Meteorological Institute",
          "The Geological Survey of Denmark and Greenland"
         ],
         "type": "string"
        },
        "platform": {
         "enum": [
          "NOAA-7",
          "NOAA-9",
          "Sentinel-1A",
          "GRACE",
          "RadarSat-2",
          "Envisat",
          "NOAA-11",
          "Metop-A",
          "CryoSat-2",
          "ALOS",
          "NOAA-19",
          "Sentinel-2A",
          "NOAA-14",
          "ODIN",
          "GOSAT",
          "Aqua",
          "Jason-2",
          "NOAA-12",
          "Sentinel-5P",
          "Jason-3",
          "Unspecified",
          "ERS-2",
          "NOAA-17",
          "multi-platform",
          "NOAA-16",
          "OCO-2",
          "Jason-1",
          "NOAA-15",
          "Terra",
          "ERS-1",
          "NOAA-18",
          "GFO",
          "Topex-Poseidon",
          "SARAL"
         ],
         "type": "string"
        },
        "processing_level": {
         "enum": [
          "L2P",
          "L4",
          "L3U",
          "L3C",
          "IND",
          "L3S",
          "Unspecified",
          "L3",
          "L2"
         ],
         "type": "string"
        },
        "product_string": {
         "enum": [
          "ACTIVE",
          "AVHRR_MERGED",
          "CryoSat-2",
          "AATSR-ENVISAT-ENS_MONTHLY",
          "Map",
          "NH",
          "OSIRIS_ODIN",
          "ATSR2-ENVISAT-ENS",
          "SMR_ODIN",
          "MIPAS_ENVISAT",
          "SH50KMEASE2",
          "Jason-2",
          "UNSPECIFIED",
          "NH25KMEASE2",
          "AVHRR07_G",
          "MED_SEA",
          "OSTIA",
          "AVHRR12_G",
          "SCIAMACHY_ENVISAT",
          "ATSR2-ENVISAT-ENS_ANNUAL",
          "MULTI_1M",
          "VARIOUS",
          "SE_ASIA",
          "MULTI_1D",
          "AATSR-ENVISAT-ENS_DAILY",
          "SH",
          "AERGOM",
          "Envisat",
          "MODISLST_CRYOGRID",
          "OCFP",
          "AVHRR14_G",
          "AVHRR17_G",
          "MERGED",
          "SRFP",
          "ERA5_MODISLST_BIASCORRECTED",
          "MERGED_OI_Monthly_CENTRED_15Day_25km",
          "MSI",
          "AVHRR-PM",
          "MSAAI",
          "NE_ATL",
          "AATSR-ENVISAT-ENS",
          "AATSR-ENVISAT-ENS_ANNUAL",
          "AATSR",
          "AMSR_50kmEASE2",
          "ERS-2",
          "PASSIVE",
          "GMPE",
          "ATSR2-ENVISAT-ENS_MONTHLY",
          "Saral",
          "MERGED_OI_7DAY_RUNNINGMEAN_DAILY_25km",
          "ADV",
          "Jason-1",
          "COMBINED",
          "AVHRR18_G",
          "N_INDIAN",
          "GFO",
          "AVHRR15_G",
          "WFMD",
          "ATSR2-AATSR",
          "SU",
          "EMMA",
          "SRPR",
          "BESD",
          "AVHRR16_G",
          "GOMOS_ENVISAT",
          "MODIS_AQUA",
          "S_AUSTRALIA",
          "Jason-3",
          "OCPR",
          "ATSR2",
          "ATSR2-ENVISAT-ENS_DAILY",
          "MERIS_ENVISAT",
          "MERIS-AATSR",
          "ATSR1",
          "ERS-1",
          "MZM",
          "AVHRRMTA_G",
          "AMSR_25kmEASE2",
          "ORAC",
          "MODIS_TERRA",
          "AVHRR19_G",
          "AVHRR11_G",
          "IMAP",
          "WAFRICA",
          "AVHRR09_G",
          "Topex-Poseidon",
          "AVHRR-AM"
         ],
         "type": "string"
        },
        "product_version": {
         "enum": [
          "v1-1",
          "v5-1",
          "1-4",
          "v7-0",
          "03-0",
          "v06-1",
          "3-0",
          "v2-3-8",
          "2-31",
          "v08",
          "v05-3",
          "v02-01-02",
          "04-01_seg-",
          "1-2",
          "4-3",
          "2-1",
          "v3-0",
          "3-00",
          "04-01-",
          "05-2",
          "1-1",
          "3-1",
          "5-0",
          "1-0",
          "v1-3",
          "2-2",
          "v2-6",
          "1-7",
          "ch4_v1-2",
          "v2-2b",
          "fv0002",
          "v4-0",
          "2-0-7",
          "4-2",
          "fv0100",
          "v2-1",
          "v1-0",
          "1-3",
          "v1-2",
          "v7-0-1",
          "4-0",
          "v2-2a",
          "v7-2",
          "v2-2c",
          "2-0",
          "v0001",
          "04-01",
          "1-5"
         ],
         "type": "string"
        },
        "sensor": {
         "enum": [
          "MIPAS",
          "TROPOMI",
          "AVHRR-2",
          "MODIS",
          "SAR-C-(Sentinel-1)",
          "SCIAMACHY",
          "OCO",
          "GOMOS",
          "OSIRIS",
          "TANSO-FTS",
          "AltiKa",
          "GFO-RA",
          "ATSR",
          "Unspecified",
          "AATSR",
          "NRA",
          "ASAR",
          "AMI-SAR",
          "GRACE-instrument",
          "MSI-(Sentinel-2)",
          "SMR",
          "PALSAR",
          "multi-sensor",
          "Poseidon-3B",
          "SAR-(RadarSat-2)",
          "RA-2",
          "Poseidon-2",
          "ATSR-2",
          "SIRAL",
          "Poseidon-3",
          "AVHRR-3",
          "SAR-2000",
          "MERIS",
          "RA"
         ],
         "type": "string"
        },
        "start_date": {
         "format": "date-time",
         "type": "string"
        }
       },
       "type": "object"
      },
      "text/plain": [
       "<xcube.util.jsonschema.JsonObjectSchema at 0x7e9c4d85e0>"
      ]
     },
     "execution_count": 4,
     "metadata": {},
     "output_type": "execute_result"
    }
   ],
   "source": [
    "data_store = DATA_STORE_POOL.get_store('cci-store')\n",
    "data_store.get_search_params_schema()"
   ]
  },
  {
   "cell_type": "markdown",
   "metadata": {},
   "source": [
    "## Step 2: Finding Permafrost data\n",
    "For this exercise, we are interested in Permafrost data sets, so we ask for datasets of the ecv \"PERMAFROST\". We then display the results of the query."
   ]
  },
  {
   "cell_type": "code",
   "execution_count": null,
   "metadata": {},
   "outputs": [],
   "source": [
    "# To get an idea of what is available in the online data portal one can query it and loop over it's result to print some information to the screen\n",
    "permafqry=data_store.search_data(ecv=\"PERMAFROST\")\n",
    "\n",
    "for i,pfItem in enumerate(permafqry):\n",
    "    print(f'\\nDataset item {i}:')\n",
    "    display(pfItem)"
   ]
  },
  {
   "cell_type": "markdown",
   "metadata": {},
   "source": [
    "Of these, we pick \"esacci.PERMAFROST.yr.L4.ALT.multi-sensor.multi-platform.ERA5_MODISLST_BIASCORRECTED.03-0.r1\" and open it. The parameter 'data_store_id' is not absolutely necessary, but it makes the opening a little faster. The parameter 'normalize' should be used so that the dataset is preprocessed in a way that it can be optimally used in Cate."
   ]
  },
  {
   "cell_type": "code",
   "execution_count": null,
   "metadata": {},
   "outputs": [],
   "source": [
    "permaALTDset=open_dataset(ds_id=\"esacci.PERMAFROST.yr.L4.ALT.multi-sensor.multi-platform.ERA5_MODISLST_BIASCORRECTED.03-0.r1\",\n",
    "                          data_store_id='cci-store',normalize=True)"
   ]
  },
  {
   "cell_type": "markdown",
   "metadata": {},
   "source": [
    "## Step 3: Visualization of the active layer thickness\n",
    "Now that we have opened the data set, we can visualize it so we can learn on where permafrost occurs"
   ]
  },
  {
   "cell_type": "code",
   "execution_count": null,
   "metadata": {},
   "outputs": [],
   "source": [
    "%matplotlib inline\n",
    "import matplotlib.pyplot as mpl\n",
    "import cartopy.crs as ccrs\n",
    "\n",
    "it=0\n",
    "\n",
    "mpl.figure(figsize=(16,10))\n",
    "crs=ccrs.NorthPolarStereo(0,true_scale_latitude=71)\n",
    "\n",
    "ax = mpl.subplot(projection=crs)\n",
    "permaALTDset.ALT[it,:,:].plot.imshow(vmin=0,vmax=4,ax=ax)\n",
    "\n",
    "ax.coastlines(resolution='10m')\n",
    "\n",
    "ax.set_title(\"Permafrost active layer thickness in the Northern hemisphere\")\n"
   ]
  },
  {
   "cell_type": "markdown",
   "metadata": {},
   "source": [
    "## Questions (share your answers on the forum and discuss)\n",
    "1. In general, higher latitudes are associated with a thinner active layer. How can you explain this?\n",
    "2. Copy the plotting code in a new cell and try to make a plot of the change in active layer thickness (difference between last and first epoch). Make sure to choose a divergent colormap (e.g. seismic centered at a value of zero)\n",
    "3. Is there a general decrease or increase of the active layer thickness? Would this be expected under a warming climate?"
   ]
  }
 ],
 "metadata": {
  "kernelspec": {
   "display_name": "Python (ipykernel)",
   "language": "python",
   "name": "python3"
  },
  "language_info": {
   "codemirror_mode": {
    "name": "ipython",
    "version": 3
   },
   "file_extension": ".py",
   "mimetype": "text/x-python",
   "name": "python",
   "nbconvert_exporter": "python",
   "pygments_lexer": "ipython3",
   "version": "3.8.10"
  }
 },
 "nbformat": 4,
 "nbformat_minor": 4
}
