{
 "cells": [
  {
   "cell_type": "markdown",
   "metadata": {},
   "source": [
    "<!-- CCI UTwente header -->\n",
    "<!-- <img src=\"media/cci-toolbox-logo-latex.jpg\" width=\"250px\" style=\"float:left\" /><img src=\"media/UT-ITC-logo-RGB.png\" width=\"250px\" style=\"float: right\" /> -->\n",
    "<!-- End CCI UTwente header -->\n",
    "![banner](media/CATE-ITC-Banner.png)"
   ]
  },
  {
   "cell_type": "markdown",
   "metadata": {},
   "source": [
    "# Thru Climate with Cate: Exploring the 2018 European Drought with Soil Moisture\n",
    "\n",
    "[YOPU CAN RUN THE EXERCISE FOLLOWING THE LINK HERE](https://mybinder.org/v2/gh/CCI-Tools/cate-edu/0c1e5e4b0bf06d31a009008f2f7d9f2895dcbe11?filepath=ECVs%2F4.2_Exercise_Drought_water_availability.ipynb)\n",
    "\n",
    "\n",
    "License: <a rel=\"license\" href=\"http://creativecommons.org/licenses/by-sa/4.0/\"><img alt=\"Creative Commons License\" style=\"border-width:0\" src=\"https://i.creativecommons.org/l/by-sa/4.0/80x15.png\" style=\"float:left\" /></a>\n",
    "\n",
    "## Introduction\n",
    "During the summer of 2018 there was a prolonged period of drought which affected large parts of Europe. The Climate Change Initiative hosts a soil moisture dataset which can be used to create and index of draught severity called **drought index**. In this exercise we'll use the soil moisture data to create this drought indicator. We then proceed to see if this drought indicator showed the 2018 drought in Europe.\n",
    "\n",
    "<!-- <img src=\"media/droughtaffec.jpg\" width=\"80%\" /> -->\n",
    "![drought](media/droughtaffec.jpg)\n",
    "\n",
    "*The level in the river Elbe in Magdeburg dropped significantly due to the drought in 2018. Credit: Marco Kaschuba*\n",
    "\n",
    "To illustrate the event, a Sentinel 2 image of 2018 (drought) and 2017 (normal year) of the same month were used in a comparison sequence for the city of Enschede in the Netherlands. Some recognizable areas were used for detailed comparison (University of Twente Campus, agricultural land and recreational area Het Rutbeek)"
   ]
  },
  {
   "cell_type": "markdown",
   "metadata": {
    "tags": []
   },
   "source": [
    "# Video\n",
    "<iframe src=\"https://player.vimeo.com/video/500435588\" width=\"640\" height=\"360\" frameborder=\"0\" allow=\"autoplay; fullscreen; picture-in-picture\" allowfullscreen></iframe>"
   ]
  },
  {
   "cell_type": "markdown",
   "metadata": {},
   "source": [
    "### Exercise Outline\n",
    "The input data are only daily images of soil moisture (in the unitless units m3/m3) for a given area and, ideally, for a large number of years.\n",
    "There are many methods to obtain periods of droughts following information of soil moisture (SM). Consecutive periods of severe drought might eventually lead to a higher degradation process of desertification. Here the \"Soil Moisture Deficit index\" method is explained (See also Box PROCESS). The steps are:\n",
    "\n",
    "1. Download the daily SM images for the area and period\n",
    "2. Calculate the average SM per month. Optionally calculate the average SM per year\n",
    "3. Group the monthly SM by months (all monthly SM of January, February, etc) for the period\n",
    "4. For the monthly groups, calulate the median, maximum and minimum values per pixel. The output is 3 images per month\n",
    "5. With the actual image of Soil Moisture of a given month (SWj), and the maps in point 4, calculate the monthly soil deficit of the month (SDj)\n",
    "6. With (SDj) and the Soil Moisture Deficit Index of the previous month (j-1), called (SMDIj-1), calculate the SMDIj. Note: SMDI1= SD1/50 for initial month\n",
    "7. The outcome is SMDIj. -4 <= SMDIj <= 4 indicative varying from very dry to very wet conditions. \n",
    "8. Identify the dry areas affected by severe and prolonged droughts by searching a consecutive number of months of negative SMDIj.\n",
    "\n",
    "The flowchart is expressed in the following graph\n",
    "<!-- <img src=\"media/SM_exercise.jpg\" width=\"80%\" /> -->\n",
    "![flowchart](media/SM_exercise.jpeg)\n",
    "\n",
    "## Exercise objectives\n",
    "In this exercise you'll learn to use Cate in order to:\n",
    "1. Search for soil moisture data from the [ESA CCI Open data portal](https://climate.esa.int/en/odp/#/dashboard).\n",
    "2. Manipulate the soil moisture data to produce information required for the drought model.\n",
    "3. Create a drought index based on soil moisture data.\n",
    "4. Identify periods and regions of drought.\n",
    "\n",
    "## Getting started with jupyter notebooks and the cate webui\n",
    "Todo: add hyperlink to general instructions on setting up Cate\n",
    "Here are a few technical reminders:\n",
    "* `tabs` play an important role in python and remove the need for brackets. If you incorrectly align you code, it will not run and you'll get alignment errors.\n",
    "* you can execute **code cells**, by selecting the cell and pressing either the *play* button or pressing `Ctrl+Enter`\n",
    "* Indexing in python is 0-based (i.e. the first entry is denoted by 0)\n",
    "* commenting/uncommenting code can be quickly done by pressing the shortcut `ctrl+by 0/`\n",
    "* You are encouraged to try out different settings under your responsibility\n",
    "\n",
    "# Are you ready to go?\n",
    "Please follow the steps below. Understand the procedure and run all the code cells step by step."
   ]
  },
  {
   "cell_type": "markdown",
   "metadata": {},
   "source": [
    "# Step 1: Initialize python models and connect to Data stores through CateSte"
   ]
  },
  {
   "cell_type": "code",
   "execution_count": 8,
   "metadata": {},
   "outputs": [],
   "source": [
    "# Load some parts of the cate module so we can communicate with its datastore\n",
    "\n",
    "from cate.core.ds import DATA_STORE_POOL\n",
    "import cate.ops as ops\n",
    "from cate.ops.io import open_dataset\n",
    "\n",
    "from datetime import datetime\n",
    "\n",
    "from shapely import wkt # needed later when we apply regional constraints\n",
    "import xarray as xr # Xarray allows flexible indexing of multi-dimensional arrays. Xarray Datasets and DataArrays underly many routines in cate\n",
    "import numpy as np\n",
    "import logging\n",
    "\n",
    "# There are some irrelevant warnings later which we want to suppressed \n",
    "logging.captureWarnings(True) #although when developing code it's usually better to keep this disabled)\n",
    "\n",
    "# plotting tools\n",
    "import matplotlib.pyplot as plt\n",
    "import cartopy.crs as ccrs #to work with geographical projections\n",
    "\n",
    "# When we plot, we would like the figures to appear in the notebook itself\n",
    "%matplotlib inline \n",
    "\n",
    "# We need this temporary hack to work around (https://stackoverflow.com/questions/56154176/runtimeerror-asyncio-run-cannot-be-called-from-a-running-event-loop)\n",
    "#import nest_asyncio\n",
    "#nest_asyncio.apply()\n",
    "\n",
    "# the following is needed to run Cate in a Jupyter Notebook\n",
    "from xcube.util.ipython import enable_asyncio\n",
    "enable_asyncio()\n"
   ]
  },
  {
   "cell_type": "markdown",
   "metadata": {},
   "source": [
    "To begin, let us see which data stores are available in the Data Store Pool."
   ]
  },
  {
   "cell_type": "code",
   "execution_count": 2,
   "metadata": {},
   "outputs": [
    {
     "data": {
      "text/plain": [
       "['cci-store', 'cci-zarr-store', 'local']"
      ]
     },
     "execution_count": 2,
     "metadata": {},
     "output_type": "execute_result"
    }
   ],
   "source": [
    "DATA_STORE_POOL.store_instance_ids"
   ]
  },
  {
   "cell_type": "code",
   "execution_count": 9,
   "metadata": {},
   "outputs": [
    {
     "data": {
      "application/json": {
       "additionalProperties": false,
       "properties": {
        "bbox": {
         "items": [
          {
           "type": "number"
          },
          {
           "type": "number"
          },
          {
           "type": "number"
          },
          {
           "type": "number"
          }
         ],
         "type": "array"
        },
        "data_type": {
         "enum": [
          "CHLOR_A",
          "SCFG",
          "MSLA",
          "SEC",
          "AEX",
          "CLD_PRODUCTS",
          "AOD",
          "LCCS",
          "SSTskin",
          "AAI",
          "MSLAMPH",
          "SICONC",
          "SSMS",
          "ALT",
          "AER_PRODUCTS",
          "SCFV",
          "WB",
          "CO2",
          "OC_PRODUCTS",
          "GLL",
          "K_490",
          "SWH",
          "SSMV",
          "LK_PRODUCTS",
          "TC",
          "CH4",
          "MSLTR",
          "LP",
          "IV",
          "GTD",
          "SLA",
          "NP",
          "CFL",
          "PFR",
          "RRS",
          "SWE",
          "SITHICK",
          "BA",
          "GMB",
          "MSL",
          "SSS",
          "IOP",
          "SSTdepth",
          "AGB"
         ],
         "type": "string"
        },
        "ecv": {
         "enum": [
          "SNOW",
          "LAKES",
          "SST",
          "FIRE",
          "SEASTATE",
          "OC",
          "SEASURFACESALINITY",
          "GHG",
          "AEROSOL",
          "LC",
          "OZONE",
          "ICESHEETS",
          "PERMAFROST",
          "SEAICE",
          "SEALEVEL",
          "BIOMASS",
          "SOILMOISTURE",
          "CLOUD"
         ],
         "type": "string"
        },
        "end_date": {
         "format": "date-time",
         "type": "string"
        },
        "frequency": {
         "enum": [
          "5 days",
          "day",
          "climatology",
          "month",
          "year",
          "satellite-orbit-frequency",
          "unspecified",
          "10 days",
          "13 years",
          "15 days",
          "8 days"
         ],
         "type": "string"
        },
        "institute": {
         "enum": [
          "Plymouth Marine Laboratory",
          "Alfred-Wegener-Institut Helmholtz-Zentrum für Polar- und Meeresforschung",
          "ENVironmental Earth Observation IT GmbH",
          "multi-institution",
          "DTU Space",
          "Vienna University of Technology",
          "Deutscher Wetterdienst",
          "Netherlands Institute for Space Research",
          "Technische Universität Dresden",
          "Institute of Environmental Physics",
          "Rutherford Appleton Laboratory",
          "Universite Catholique de Louvain",
          "University of Alcala",
          "University of Leicester",
          "Norwegian Meteorological Institute",
          "University of Bremen",
          "Belgian Institute for Space Aeronomy",
          "Deutsches Zentrum fuer Luft- und Raumfahrt",
          "Freie Universitaet Berlin",
          "Royal Netherlands Meteorological Institute",
          "The Geological Survey of Denmark and Greenland"
         ],
         "type": "string"
        },
        "platform": {
         "enum": [
          "Envisat",
          "multi-platform",
          "NOAA-9",
          "CryoSat-2",
          "ODIN",
          "Jason-2",
          "Sentinel-5P",
          "NOAA-19",
          "Jason-1",
          "Sentinel-1A",
          "NOAA-14",
          "Terra",
          "NOAA-16",
          "RadarSat-2",
          "NOAA-15",
          "GFO",
          "NOAA-11",
          "SARAL",
          "OCO-2",
          "Jason-3",
          "ERS-1",
          "ALOS",
          "NOAA-17",
          "ERS-2",
          "Sentinel-2A",
          "GOSAT",
          "GRACE",
          "Metop-A",
          "Topex-Poseidon",
          "Aqua",
          "NOAA-12",
          "Unspecified",
          "NOAA-18",
          "NOAA-7"
         ],
         "type": "string"
        },
        "processing_level": {
         "enum": [
          "L3C",
          "L2P",
          "Unspecified",
          "L3S",
          "IND",
          "L4",
          "L3",
          "L2",
          "L3U"
         ],
         "type": "string"
        },
        "product_string": {
         "enum": [
          "Envisat",
          "CryoSat-2",
          "Jason-2",
          "AATSR-ENVISAT-ENS_ANNUAL",
          "AVHRR-AM",
          "AATSR-ENVISAT-ENS_MONTHLY",
          "OSIRIS_ODIN",
          "OCPR",
          "MODIS_TERRA",
          "GFO",
          "ATSR1",
          "MERGED",
          "NE_ATL",
          "MERIS-AATSR",
          "OSTIA",
          "AVHRR17_G",
          "MERIS_ENVISAT",
          "ACTIVE",
          "SCIAMACHY_ENVISAT",
          "GOMOS_ENVISAT",
          "ATSR2-ENVISAT-ENS",
          "WFMD",
          "MED_SEA",
          "N_INDIAN",
          "Jason-1",
          "MULTI_1D",
          "VARIOUS",
          "AATSR-ENVISAT-ENS",
          "ATSR2-ENVISAT-ENS_DAILY",
          "AVHRR_MERGED",
          "MZM",
          "AVHRR18_G",
          "S_AUSTRALIA",
          "SH50KMEASE2",
          "WAFRICA",
          "Map",
          "ORAC",
          "MODIS_AQUA",
          "AVHRR09_G",
          "ATSR2-AATSR",
          "MULTI_1M",
          "ATSR2-ENVISAT-ENS_MONTHLY",
          "AVHRR-PM",
          "AVHRR19_G",
          "IMAP",
          "SRFP",
          "AATSR",
          "AMSR_25kmEASE2",
          "GMPE",
          "EMMA",
          "BESD",
          "ERS-1",
          "COMBINED",
          "ATSR2-ENVISAT-ENS_ANNUAL",
          "ERS-2",
          "PASSIVE",
          "NH25KMEASE2",
          "MODISLST_CRYOGRID",
          "Saral",
          "AATSR-ENVISAT-ENS_DAILY",
          "UNSPECIFIED",
          "AVHRR16_G",
          "AERGOM",
          "SE_ASIA",
          "NH",
          "OCFP",
          "SMR_ODIN",
          "AVHRR14_G",
          "SRPR",
          "SU",
          "MIPAS_ENVISAT",
          "ATSR2",
          "AVHRR12_G",
          "Jason-3",
          "ADV",
          "MSI",
          "AVHRR15_G",
          "AVHRR11_G",
          "AVHRR07_G",
          "AMSR_50kmEASE2",
          "ERA5_MODISLST_BIASCORRECTED",
          "Topex-Poseidon",
          "AVHRRMTA_G",
          "MERGED_OI_7DAY_RUNNINGMEAN_DAILY_25km",
          "MERGED_OI_Monthly_CENTRED_15Day_25km",
          "SH",
          "MSAAI"
         ],
         "type": "string"
        },
        "product_version": {
         "enum": [
          "v05-3",
          "3-00",
          "1-0",
          "1-7",
          "04-01-",
          "5-0",
          "ch4_v1-2",
          "v2-2c",
          "v2-2b",
          "v1-2",
          "fv0100",
          "04-01_seg-",
          "v02-01-02",
          "v7-2",
          "1-2",
          "04-01",
          "1-3",
          "05-2",
          "4-3",
          "1-1",
          "fv0002",
          "v7-0",
          "2-0-7",
          "3-1",
          "v2-6",
          "v3-0",
          "3-0",
          "v1-0",
          "v2-2a",
          "03-0",
          "v06-1",
          "4-0",
          "2-31",
          "v1-1",
          "2-0",
          "2-2",
          "v7-0-1",
          "4-2",
          "v08",
          "v0001",
          "v2-3-8",
          "v1-3",
          "v4-0",
          "1-4",
          "v5-1",
          "1-5",
          "v2-1",
          "2-1"
         ],
         "type": "string"
        },
        "sensor": {
         "enum": [
          "RA",
          "SAR-(RadarSat-2)",
          "AltiKa",
          "RA-2",
          "GFO-RA",
          "SAR-C-(Sentinel-1)",
          "ATSR-2",
          "AVHRR-2",
          "AATSR",
          "Poseidon-3",
          "MODIS",
          "SCIAMACHY",
          "ASAR",
          "Poseidon-3B",
          "OSIRIS",
          "PALSAR",
          "SIRAL",
          "Poseidon-2",
          "multi-sensor",
          "AVHRR-3",
          "SAR-2000",
          "GOMOS",
          "MERIS",
          "ATSR",
          "MIPAS",
          "NRA",
          "TROPOMI",
          "Unspecified",
          "GRACE-instrument",
          "AMI-SAR",
          "OCO",
          "MSI-(Sentinel-2)",
          "SMR",
          "TANSO-FTS"
         ],
         "type": "string"
        },
        "start_date": {
         "format": "date-time",
         "type": "string"
        }
       },
       "type": "object"
      },
      "text/plain": [
       "<xcube.util.jsonschema.JsonObjectSchema at 0x7f3cabe21940>"
      ]
     },
     "metadata": {},
     "output_type": "display_data"
    }
   ],
   "source": [
    "# uncomment/comment the cci_store variable below to use the \n",
    "# cci_store='cci-zarr-store'\n",
    "cci_store='cci-store'\n",
    "\n",
    "data_store = DATA_STORE_POOL.get_store(cci_store)\n",
    "display(data_store.get_search_params_schema())\n",
    "\n",
    "if cci_store == 'cci-zarr-store':\n",
    "    #you can also list all the data ids of the smaller zarr catalogue\n",
    "    list(data_store.get_data_ids())"
   ]
  },
  {
   "cell_type": "markdown",
   "metadata": {},
   "source": [
    "# Step 2 Find your data in ESA's CCI Open Data Portal\n",
    "\n",
    "Let's start with finding soilmoisture data by querying for the Essential Climate Variable name `SOILMOISTURE`"
   ]
  },
  {
   "cell_type": "code",
   "execution_count": 10,
   "metadata": {},
   "outputs": [],
   "source": [
    "soilmoistureQuery=data_store.search_data(ecv=\"SOILMOISTURE\")"
   ]
  },
  {
   "cell_type": "code",
   "execution_count": 11,
   "metadata": {},
   "outputs": [
    {
     "name": "stdout",
     "output_type": "stream",
     "text": [
      "\n",
      "Dataset item 0:\n",
      "ds_id: esacci.SOILMOISTURE.day.L3S.SSMS.multi-sensor.multi-platform.ACTIVE.05-2.r1\n"
     ]
    },
    {
     "data": {
      "application/json": {
       "attrs": {
        "abstract": "The Soil Moisture CCI ACTIVE dataset is one of the three datasets created as part of the European Space Agency's (ESA) Soil Moisture Essential Climate Variable (ECV) Climate Change Initiative (CCI) project. The product has been created by fusing scatterometer soil moisture products, derived from the instruments AMI-WS and ASCAT. PASSIVE and COMBINED products have also been created.\n\nThe v05.2 ACTIVE product, provided as global daily images in NetCDF-4 classic file format, presents a global coverage of surface soil moisture at a spatial resolution of 0.25 degrees. It is provided in percent of saturation [%] and covers the period (yyyy-mm-dd) 1991-08-05 to 2019-12-31. For information regarding the theoretical and algorithmic base of the product, please see the Algorithm Theoretical Baseline Document. Other additional reference documents and information relating to the dataset can also be found on the CCI Soil Moisture project website.\n\nThe data set should be cited using all three of the following references:\n\n1. Gruber, A., Scanlon, T., van der Schalie, R., Wagner, W., and Dorigo, W. (2019). Evolution of the ESA CCI Soil Moisture climate data records and their underlying merging methodology, Earth Syst. Sci. Data, 11, 717–739, https://doi.org/10.5194/essd-11-717-2019\n\n2. Dorigo, W.A., Wagner, W., Albergel, C., Albrecht, F., Balsamo, G., Brocca, L., Chung, D., Ertl, M., Forkel, M., Gruber, A., Haas, E., Hamer, D. P. Hirschi, M., Ikonen, J., De Jeu, R. Kidd, R. Lahoz, W., Liu, Y.Y., Miralles, D., Lecomte, P. (2017). ESA CCI Soil Moisture for improved Earth system understanding: State-of-the art and future directions. In Remote Sensing of Environment, 2017, ISSN 0034-4257, https://doi.org/10.1016/j.rse.2017.07.001\n\n3. Gruber, A., Dorigo, W. A., Crow, W., Wagner W. (2017). Triple Collocation-Based Merging of Satellite Soil Moisture Retrievals. IEEE Transactions on Geoscience and Remote Sensing. PP. 1-13. 10.1109/TGRS.2017.2734070",
        "catalog_url": "https://catalogue.ceda.ac.uk/uuid/dd3da2570363429791b51120bdd29c02",
        "cci_project": "SOILMOISTURE",
        "comment": "This dataset was produced with funding of the ESA CCI+ Soil Moisture project; ESRIN Contract No: 4000126684/19/I-NB",
        "data_type": "SSMS",
        "ecv": "SOILMOISTURE",
        "history": "2020-02-20 12:00:00 - product produced",
        "licences": "Use of these data is covered by the following licence: http://artefacts.ceda.ac.uk/licences/specific_licences/esacci_soilmoisture_terms_and_conditions.pdf . When using these data you must cite them correctly using the citation given on the CEDA Data Catalogue record.",
        "platform_id": "multi-platform",
        "processing_level": "L3S",
        "product_string": "ACTIVE",
        "product_version": "05-2",
        "project": "Climate Change Initiative - European Space Agency",
        "publication_date": "2020-11-23T15:02:02",
        "references": "http://www.esa-soilmoisture-cci.org; Dorigo, W.A., Wagner, W., Albergel, C., Albrecht, F.,  Balsamo, G., Brocca, L., Chung, D., Ertl, M., Forkel, M., Gruber, A., Haas, E., Hamer, D. P. Hirschi, M., Ikonen, J., De Jeu, R. Kidd, R. Lahoz, W., Liu, Y.Y., Miralles, D., Lecomte, P. (2017) ESA CCI Soil Moisture for improved Earth system understanding: State-of-the art and future directions. In Remote Sensing of Environment, 2017, ISSN 0034-4257, https://doi.org/10.1016/j.rse.2017.07.001; Gruber, A., Scanlon, T., van der Schalie, R., Wagner, W., Dorigo, W. (2019) Evolution of the ESA CCI Soil Moisture Climate Data Records and their underlying merging methodology. Earth System Science Data 11, 717-739, https://doi.org/10.5194/essd-11-717-2019; Gruber, A., Dorigo, W. A., Crow, W., Wagner W. (2017). Triple Collocation-Based Merging of Satellite Soil Moisture Retrievals. IEEE Transactions on Geoscience and Remote Sensing. PP. 1-13. https://doi.org/10.1109/TGRS.2017.2734070",
        "sensor_id": "multi-sensor",
        "source": "WARP 5.5R1.1/AMI-WS/ERS12 Level 2 Soil Moisture; WARP 5.4R1.0/AMI-WS/ERS2 Level 2 Soil Moisture; H115: Metop ASCAT Surface Soil Moisture Climate Data Record v5 12.5 km sampling, DOI: 10.15770/EUM_SAF_H_0006; H116: Metop ASCAT Surface Soil Moisture Climate Data Record v5 Extension 12.5 km sampling; H115: Metop ASCAT Surface Soil Moisture Climate Data Record v5 12.5 km sampling, DOI: 10.15770/EUM_SAF_H_0006; H116: Metop ASCAT Surface Soil Moisture Climate Data Record v5 Extension 12.5 km sampling",
        "title": "ESA Soil Moisture Climate Change Initiative (Soil_Moisture_cci): ACTIVE Product, Version 05.2",
        "uuid": "dd3da2570363429791b51120bdd29c02"
       },
       "bbox": [
        -180,
        -90,
        180,
        90
       ],
       "coords": {
        "lat": {
         "attrs": {
          "_CoordinateAxisType": "Lat",
          "chunk_sizes": 720,
          "data_type": "float32",
          "dimensions": [
           "lat"
          ],
          "file_chunk_sizes": 720,
          "file_dimensions": [
           "lat"
          ],
          "fill_value": null,
          "orig_data_type": "float32",
          "shape": [
           720
          ],
          "size": 720,
          "standard_name": "latitude",
          "units": "degrees_north",
          "valid_range": [
           -90,
           90
          ]
         },
         "dims": [
          "lat"
         ],
         "dtype": "float32",
         "name": "lat"
        },
        "lon": {
         "attrs": {
          "_CoordinateAxisType": "Lon",
          "chunk_sizes": 1440,
          "data_type": "float32",
          "dimensions": [
           "lon"
          ],
          "file_chunk_sizes": 1440,
          "file_dimensions": [
           "lon"
          ],
          "fill_value": null,
          "orig_data_type": "float32",
          "shape": [
           1440
          ],
          "size": 1440,
          "standard_name": "longitude",
          "units": "degrees_east",
          "valid_range": [
           -180,
           180
          ]
         },
         "dims": [
          "lon"
         ],
         "dtype": "float32",
         "name": "lon"
        },
        "time": {
         "attrs": {
          "_CoordinateAxisType": "Time",
          "calendar": "standard",
          "chunk_sizes": 1,
          "data_type": "float64",
          "dimensions": [
           "time"
          ],
          "file_chunk_sizes": 1,
          "file_dimensions": [
           "time"
          ],
          "fill_value": null,
          "orig_data_type": "float64",
          "shape": [
           1
          ],
          "size": 1,
          "standard_name": "time",
          "units": "days since 1970-01-01 00:00:00 UTC"
         },
         "dims": [
          "time"
         ],
         "dtype": "float64",
         "name": "time"
        }
       },
       "data_id": "esacci.SOILMOISTURE.day.L3S.SSMS.multi-sensor.multi-platform.ACTIVE.05-2.r1",
       "data_vars": {
        "dnflag": {
         "attrs": {
          "_CoordinateAxes": "time lat lon",
          "_Unsigned": "false",
          "chunk_sizes": [
           1,
           720,
           1440
          ],
          "data_type": "uint8",
          "dimensions": [
           "time",
           "lat",
           "lon"
          ],
          "file_chunk_sizes": [
           1,
           720,
           1440
          ],
          "file_dimensions": [
           "time",
           "lat",
           "lon"
          ],
          "fill_value": 0,
          "flag_meanings": "NaN day night day_night_combination",
          "flag_values": [
           0,
           1,
           2,
           3
          ],
          "long_name": "Day / Night Flag",
          "orig_data_type": "uint8",
          "shape": [
           1,
           720,
           1440
          ],
          "size": 1036800
         },
         "dims": [
          "time",
          "lat",
          "lon"
         ],
         "dtype": "uint8",
         "name": "dnflag"
        },
        "flag": {
         "attrs": {
          "_CoordinateAxes": "time lat lon",
          "_Unsigned": "false",
          "chunk_sizes": [
           1,
           720,
           1440
          ],
          "data_type": "uint8",
          "dimensions": [
           "time",
           "lat",
           "lon"
          ],
          "file_chunk_sizes": [
           1,
           720,
           1440
          ],
          "file_dimensions": [
           "time",
           "lat",
           "lon"
          ],
          "fill_value": 127,
          "flag_meanings": "no_data_inconsistency_detected snow_coverage_or_temperature_below_zero others_no_convergence_in_the_model_thus_no_valid_sm_estimates combination_of_flag_values_1_and_4 NaN",
          "flag_values": [
           0,
           1,
           4,
           5,
           127
          ],
          "long_name": "Flag",
          "orig_data_type": "uint8",
          "shape": [
           1,
           720,
           1440
          ],
          "size": 1036800
         },
         "dims": [
          "time",
          "lat",
          "lon"
         ],
         "dtype": "uint8",
         "name": "flag"
        },
        "freqbandID": {
         "attrs": {
          "_CoordinateAxes": "time lat lon",
          "chunk_sizes": [
           1,
           720,
           1440
          ],
          "data_type": "int16",
          "dimensions": [
           "time",
           "lat",
           "lon"
          ],
          "file_chunk_sizes": [
           1,
           720,
           1440
          ],
          "file_dimensions": [
           "time",
           "lat",
           "lon"
          ],
          "fill_value": 0,
          "flag_meanings": "NaN C53",
          "flag_values": [
           0,
           2
          ],
          "long_name": "Frequency Band Identification",
          "orig_data_type": "int16",
          "shape": [
           1,
           720,
           1440
          ],
          "size": 1036800
         },
         "dims": [
          "time",
          "lat",
          "lon"
         ],
         "dtype": "int16",
         "name": "freqbandID"
        },
        "mode": {
         "attrs": {
          "_CoordinateAxes": "time lat lon",
          "_Unsigned": "false",
          "chunk_sizes": [
           1,
           720,
           1440
          ],
          "data_type": "uint8",
          "dimensions": [
           "time",
           "lat",
           "lon"
          ],
          "file_chunk_sizes": [
           1,
           720,
           1440
          ],
          "file_dimensions": [
           "time",
           "lat",
           "lon"
          ],
          "fill_value": 0,
          "flag_meanings": "NaN ascending descending ascending_descending_combination",
          "flag_values": [
           0,
           1,
           2,
           3
          ],
          "long_name": "Satellite  Mode",
          "orig_data_type": "uint8",
          "shape": [
           1,
           720,
           1440
          ],
          "size": 1036800
         },
         "dims": [
          "time",
          "lat",
          "lon"
         ],
         "dtype": "uint8",
         "name": "mode"
        },
        "sensor": {
         "attrs": {
          "_CoordinateAxes": "time lat lon",
          "chunk_sizes": [
           1,
           720,
           1440
          ],
          "data_type": "int16",
          "dimensions": [
           "time",
           "lat",
           "lon"
          ],
          "file_chunk_sizes": [
           1,
           720,
           1440
          ],
          "file_dimensions": [
           "time",
           "lat",
           "lon"
          ],
          "fill_value": 0,
          "flag_meanings": "NaN AMIWS ASCATA ASCATB ASCATA+ASCATB",
          "flag_values": [
           0,
           128,
           256,
           512,
           768
          ],
          "long_name": "Sensor",
          "orig_data_type": "int16",
          "shape": [
           1,
           720,
           1440
          ],
          "size": 1036800
         },
         "dims": [
          "time",
          "lat",
          "lon"
         ],
         "dtype": "int16",
         "name": "sensor"
        },
        "sm": {
         "attrs": {
          "_CoordinateAxes": "time lat lon",
          "chunk_sizes": [
           1,
           720,
           1440
          ],
          "data_type": "float32",
          "dimensions": [
           "time",
           "lat",
           "lon"
          ],
          "file_chunk_sizes": [
           1,
           720,
           1440
          ],
          "file_dimensions": [
           "time",
           "lat",
           "lon"
          ],
          "fill_value": -9999,
          "long_name": "Percent of Saturation Soil Moisture",
          "orig_data_type": "float32",
          "shape": [
           1,
           720,
           1440
          ],
          "size": 1036800,
          "units": "percent",
          "valid_range": [
           0,
           100
          ]
         },
         "dims": [
          "time",
          "lat",
          "lon"
         ],
         "dtype": "float32",
         "name": "sm"
        },
        "sm_uncertainty": {
         "attrs": {
          "_CoordinateAxes": "time lat lon",
          "chunk_sizes": [
           1,
           720,
           1440
          ],
          "data_type": "float32",
          "description": "Uncertainty is the estimated standard deviation of the  observation",
          "dimensions": [
           "time",
           "lat",
           "lon"
          ],
          "file_chunk_sizes": [
           1,
           720,
           1440
          ],
          "file_dimensions": [
           "time",
           "lat",
           "lon"
          ],
          "fill_value": -9999,
          "long_name": "Percent of Saturation Soil Moisture Uncertainty",
          "orig_data_type": "float32",
          "shape": [
           1,
           720,
           1440
          ],
          "size": 1036800,
          "units": "percent",
          "valid_range": [
           0,
           100
          ]
         },
         "dims": [
          "time",
          "lat",
          "lon"
         ],
         "dtype": "float32",
         "name": "sm_uncertainty"
        },
        "t0": {
         "attrs": {
          "_CoordinateAxes": "time lat lon",
          "chunk_sizes": [
           1,
           360,
           720
          ],
          "data_type": "float64",
          "dimensions": [
           "time",
           "lat",
           "lon"
          ],
          "file_chunk_sizes": [
           1,
           360,
           720
          ],
          "file_dimensions": [
           "time",
           "lat",
           "lon"
          ],
          "fill_value": -9999,
          "long_name": "Observation Timestamp",
          "orig_data_type": "float64",
          "shape": [
           1,
           720,
           1440
          ],
          "size": 1036800,
          "units": "days since 1970-01-01 00:00:00 UTC",
          "valid_range": [
           7886.5,
           7887.5
          ]
         },
         "dims": [
          "time",
          "lat",
          "lon"
         ],
         "dtype": "float64",
         "name": "t0"
        }
       },
       "dims": {
        "lat": 720,
        "lon": 1440,
        "time": 10376
       },
       "open_params_schema": {
        "additionalProperties": false,
        "properties": {
         "bbox": {
          "items": [
           {
            "maximum": 180,
            "minimum": -180,
            "type": "number"
           },
           {
            "maximum": 90,
            "minimum": -90,
            "type": "number"
           },
           {
            "maximum": 180,
            "minimum": -180,
            "type": "number"
           },
           {
            "maximum": 90,
            "minimum": -90,
            "type": "number"
           }
          ],
          "type": "array"
         },
         "time_range": {
          "items": [
           {
            "format": "date",
            "maxDate": "2019-12-31",
            "minDate": "1991-08-05",
            "type": "string"
           },
           {
            "format": "date",
            "maxDate": "2019-12-31",
            "minDate": "1991-08-05",
            "type": "string"
           }
          ],
          "type": "array"
         },
         "variable_names": {
          "items": {
           "enum": [
            "t0",
            "sm",
            "sm_uncertainty",
            "dnflag",
            "flag",
            "freqbandID",
            "mode",
            "sensor"
           ],
           "type": "string"
          },
          "type": "array"
         }
        },
        "type": "object"
       },
       "time_period": "1D",
       "time_range": [
        "1991-08-05",
        "2019-12-31"
       ],
       "type_specifier": "dataset"
      },
      "text/plain": [
       "<xcube.core.store.descriptor.DatasetDescriptor at 0x7f3cabd9e7c0>"
      ]
     },
     "metadata": {},
     "output_type": "display_data"
    },
    {
     "name": "stdout",
     "output_type": "stream",
     "text": [
      "\n",
      "Dataset item 1:\n",
      "ds_id: esacci.SOILMOISTURE.day.L3S.SSMS.multi-sensor.multi-platform.ACTIVE.v05-3.r1\n"
     ]
    },
    {
     "data": {
      "application/json": {
       "attrs": {
        "abstract": "The Soil Moisture CCI ACTIVE dataset is one of the three datasets created as part of the European Space Agency's (ESA) Soil Moisture Essential Climate Variable (ECV) Climate Change Initiative (CCI) project. The product has been created by fusing scatterometer soil moisture products, derived from the instruments AMI-WS and ASCAT. PASSIVE and COMBINED products have also been created.\n\nThe v05.3 ACTIVE product, provided as global daily images in NetCDF-4 classic file format, presents a global coverage of surface soil moisture at a spatial resolution of 0.25 degrees. It is provided in percent of saturation [%] and covers the period (yyyy-mm-dd) 1991-08-05 to 2020-12-31. For information regarding the theoretical and algorithmic base of the product, please see the Algorithm Theoretical Baseline Document. Other additional reference documents and information relating to the dataset can also be found on the CCI Soil Moisture project website.\n\nThe data set should be cited using all three of the following references:\n\n1. Gruber, A., Scanlon, T., van der Schalie, R., Wagner, W., and Dorigo, W. (2019). Evolution of the ESA CCI Soil Moisture climate data records and their underlying merging methodology, Earth Syst. Sci. Data, 11, 717–739, https://doi.org/10.5194/essd-11-717-2019\n\n2. Dorigo, W.A., Wagner, W., Albergel, C., Albrecht, F., Balsamo, G., Brocca, L., Chung, D., Ertl, M., Forkel, M., Gruber, A., Haas, E., Hamer, D. P. Hirschi, M., Ikonen, J., De Jeu, R. Kidd, R. Lahoz, W., Liu, Y.Y., Miralles, D., Lecomte, P. (2017). ESA CCI Soil Moisture for improved Earth system understanding: State-of-the art and future directions. In Remote Sensing of Environment, 2017, ISSN 0034-4257, https://doi.org/10.1016/j.rse.2017.07.001\n\n3. Gruber, A., Dorigo, W. A., Crow, W., Wagner W. (2017). Triple Collocation-Based Merging of Satellite Soil Moisture Retrievals. IEEE Transactions on Geoscience and Remote Sensing. PP. 1-13. 10.1109/TGRS.2017.2734070",
        "catalog_url": "https://catalogue.ceda.ac.uk/uuid/1da8dadcdfb642f4aad2384f02efe756",
        "cci_project": "SOILMOISTURE",
        "data_type": "SSMS",
        "ecv": "SOILMOISTURE",
        "licences": "Use of these data is covered by the following licence: http://artefacts.ceda.ac.uk/licences/specific_licences/esacci_soilmoisture_terms_and_conditions.pdf . When using these data you must cite them correctly using the citation given on the CEDA Data Catalogue record.",
        "platform_id": "multi-platform",
        "processing_level": "L3S",
        "product_string": "ACTIVE",
        "product_version": "v05-3",
        "publication_date": "2021-03-18T08:51:13",
        "sensor_id": "multi-sensor",
        "title": "ESA Soil Moisture Climate Change Initiative (Soil_Moisture_cci): ACTIVE Product, Version 05.3",
        "uuid": "1da8dadcdfb642f4aad2384f02efe756"
       },
       "bbox": [
        -180,
        -90,
        180,
        90
       ],
       "coords": {
        "time": {
         "attrs": {
          "calendar": "proleptic_gregorian",
          "standard_name": "time",
          "units": "seconds since 1970-01-01T00:00:00Z"
         },
         "dims": [
          "time"
         ],
         "dtype": "int64",
         "name": "time"
        }
       },
       "data_id": "esacci.SOILMOISTURE.day.L3S.SSMS.multi-sensor.multi-platform.ACTIVE.v05-3.r1",
       "dims": {
        "time": 10742
       },
       "open_params_schema": {
        "additionalProperties": false,
        "properties": {
         "time_range": {
          "items": [
           {
            "format": "date",
            "maxDate": "2020-12-31",
            "minDate": "1991-08-05",
            "type": "string"
           },
           {
            "format": "date",
            "maxDate": "2020-12-31",
            "minDate": "1991-08-05",
            "type": "string"
           }
          ],
          "type": "array"
         },
         "variable_names": {
          "items": {
           "type": "string"
          },
          "type": "array"
         }
        },
        "type": "object"
       },
       "time_period": "1D",
       "time_range": [
        "1991-08-05",
        "2020-12-31"
       ],
       "type_specifier": "dataset"
      },
      "text/plain": [
       "<xcube.core.store.descriptor.DatasetDescriptor at 0x7f3cabd9ef40>"
      ]
     },
     "metadata": {},
     "output_type": "display_data"
    },
    {
     "name": "stdout",
     "output_type": "stream",
     "text": [
      "\n",
      "Dataset item 2:\n",
      "ds_id: esacci.SOILMOISTURE.day.L3S.SSMS.multi-sensor.multi-platform.ACTIVE.v06-1.r1\n"
     ]
    },
    {
     "data": {
      "application/json": {
       "attrs": {
        "abstract": "The Soil Moisture CCI ACTIVE dataset is one of the three datasets created as part of the European Space Agency's (ESA) Soil Moisture Essential Climate Variable (ECV) Climate Change Initiative (CCI) project. The product has been created by fusing scatterometer soil moisture products, derived from the instruments AMI-WS and ASCAT. PASSIVE and COMBINED products have also been created.\n\nThe v06.1 ACTIVE product, provided as global daily images in NetCDF-4 classic file format, presents a global coverage of surface soil moisture at a spatial resolution of 0.25 degrees. It is provided in percent of saturation [%] and covers the period (yyyy-mm-dd) 1991-08-05 to 2020-12-31. For information regarding the theoretical and algorithmic base of the product, please see the Algorithm Theoretical Baseline Document. Additional reference documents and information relating to the dataset can also be found on the CCI Soil Moisture project website.\n\nThe data set should be cited using the following references:\n\n1. Gruber, A., Scanlon, T., van der Schalie, R., Wagner, W., and Dorigo, W. (2019). Evolution of the ESA CCI Soil Moisture climate data records and their underlying merging methodology, Earth Syst. Sci. Data, 11, 717–739, https://doi.org/10.5194/essd-11-717-2019\n\n2. Dorigo, W.A., Wagner, W., Albergel, C., Albrecht, F., Balsamo, G., Brocca, L., Chung, D., Ertl, M., Forkel, M., Gruber, A., Haas, E., Hamer, D. P. Hirschi, M., Ikonen, J., De Jeu, R. Kidd, R. Lahoz, W., Liu, Y.Y., Miralles, D., Lecomte, P. (2017). ESA CCI Soil Moisture for improved Earth system understanding: State-of-the art and future directions. In Remote Sensing of Environment, 2017, ISSN 0034-4257, https://doi.org/10.1016/j.rse.2017.07.001",
        "catalog_url": "https://catalogue.ceda.ac.uk/uuid/c2af8764c84744de87a69db7fecf7af9",
        "cci_project": "SOILMOISTURE",
        "data_type": "SSMS",
        "ecv": "SOILMOISTURE",
        "licences": "Use of these data is covered by the following licence: http://artefacts.ceda.ac.uk/licences/specific_licences/esacci_soilmoisture_terms_and_conditions.pdf . When using these data you must cite them correctly using the citation given on the CEDA Data Catalogue record.",
        "platform_id": "multi-platform",
        "processing_level": "L3S",
        "product_string": "ACTIVE",
        "product_version": "v06-1",
        "publication_date": "2021-04-19T15:39:47",
        "sensor_id": "multi-sensor",
        "title": "ESA Soil Moisture Climate Change Initiative (Soil_Moisture_cci): ACTIVE product, Version 06.1",
        "uuid": "c2af8764c84744de87a69db7fecf7af9"
       },
       "bbox": [
        -180,
        -90,
        180,
        90
       ],
       "coords": {
        "time": {
         "attrs": {
          "calendar": "proleptic_gregorian",
          "standard_name": "time",
          "units": "seconds since 1970-01-01T00:00:00Z"
         },
         "dims": [
          "time"
         ],
         "dtype": "int64",
         "name": "time"
        }
       },
       "data_id": "esacci.SOILMOISTURE.day.L3S.SSMS.multi-sensor.multi-platform.ACTIVE.v06-1.r1",
       "dims": {
        "time": 10742
       },
       "open_params_schema": {
        "additionalProperties": false,
        "properties": {
         "time_range": {
          "items": [
           {
            "format": "date",
            "maxDate": "2020-12-31",
            "minDate": "1991-08-05",
            "type": "string"
           },
           {
            "format": "date",
            "maxDate": "2020-12-31",
            "minDate": "1991-08-05",
            "type": "string"
           }
          ],
          "type": "array"
         },
         "variable_names": {
          "items": {
           "type": "string"
          },
          "type": "array"
         }
        },
        "type": "object"
       },
       "time_period": "1D",
       "time_range": [
        "1991-08-05",
        "2020-12-31"
       ],
       "type_specifier": "dataset"
      },
      "text/plain": [
       "<xcube.core.store.descriptor.DatasetDescriptor at 0x7f3cac7be9d0>"
      ]
     },
     "metadata": {},
     "output_type": "display_data"
    },
    {
     "name": "stdout",
     "output_type": "stream",
     "text": [
      "\n",
      "Dataset item 3:\n",
      "ds_id: esacci.SOILMOISTURE.day.L3S.SSMV.multi-sensor.multi-platform.COMBINED.05-2.r1\n"
     ]
    },
    {
     "data": {
      "application/json": {
       "attrs": {
        "abstract": "The Soil Moisture CCI COMBINED dataset is one of three datasets created as part of the European Space Agency's (ESA) Soil Moisture Essential Climate Variable (ECV) Climate Change Initiative (CCI) project. The product has been created by directly merging Level 2 scatterometer and radiometer soil moisture products derived from the AMI-WS, ASCAT, SMMR, SSM/I, TMI, AMSR-E, WindSat, AMSR2, SMOS and SMAP satellite instruments. PASSIVE and ACTIVE products have also been created.\n\nThe v05.2 COMBINED product, provided as global daily images in NetCDF-4 classic file format, presents a global coverage of surface soil moisture at a spatial resolution of 0.25 degrees. It is provided in volumetric units [m3 m-3] and covers the period (yyyy-mm-dd) 1978-11-01 to 2019-12-31. For information regarding the theoretical and algorithmic base of the product, please see the Algorithm Theoretical Baseline Document. Other additional reference documents and information relating to the dataset can also be found on the CCI Soil Moisture project website.\n\nThe data set should be cited using all three of the following references:\n\n1. Gruber, A., Scanlon, T., van der Schalie, R., Wagner, W., and Dorigo, W. (2019). Evolution of the ESA CCI Soil Moisture climate data records and their underlying merging methodology, Earth Syst. Sci. Data, 11, 717–739, https://doi.org/10.5194/essd-11-717-2019\n\n2. Dorigo, W.A., Wagner, W., Albergel, C., Albrecht, F., Balsamo, G., Brocca, L., Chung, D., Ertl, M., Forkel, M., Gruber, A., Haas, E., Hamer, D. P. Hirschi, M., Ikonen, J., De Jeu, R. Kidd, R. Lahoz, W., Liu, Y.Y., Miralles, D., Lecomte, P. (2017). ESA CCI Soil Moisture for improved Earth system understanding: State-of-the art and future directions. In Remote Sensing of Environment, 2017, ISSN 0034-4257, https://doi.org/10.1016/j.rse.2017.07.001\n\n3. Gruber, A., Dorigo, W. A., Crow, W., Wagner W. (2017). Triple Collocation-Based Merging of Satellite Soil Moisture Retrievals. IEEE Transactions on Geoscience and Remote Sensing. PP. 1-13. 10.1109/TGRS.2017.2734070",
        "catalog_url": "https://catalogue.ceda.ac.uk/uuid/057dd6c36f0741d3b97f9eee688b7835",
        "cci_project": "SOILMOISTURE",
        "comment": "This dataset was produced with funding of the ESA CCI+ Soil Moisture project; ESRIN Contract No: 4000126684/19/I-NB",
        "data_type": "SSMV",
        "ecv": "SOILMOISTURE",
        "history": "2020-02-20 12:00:00 - product produced",
        "licences": "Use of these data is covered by the following licence: http://artefacts.ceda.ac.uk/licences/specific_licences/esacci_soilmoisture_terms_and_conditions.pdf . When using these data you must cite them correctly using the citation given on the CEDA Data Catalogue record.",
        "platform_id": "multi-platform",
        "processing_level": "L3S",
        "product_string": "COMBINED",
        "product_version": "05-2",
        "project": "Climate Change Initiative - European Space Agency",
        "publication_date": "2020-11-23T14:59:00",
        "references": "http://www.esa-soilmoisture-cci.org; Dorigo, W.A., Wagner, W., Albergel, C., Albrecht, F.,  Balsamo, G., Brocca, L., Chung, D., Ertl, M., Forkel, M., Gruber, A., Haas, E., Hamer, D. P. Hirschi, M., Ikonen, J., De Jeu, R. Kidd, R. Lahoz, W., Liu, Y.Y., Miralles, D., Lecomte, P. (2017) ESA CCI Soil Moisture for improved Earth system understanding: State-of-the art and future directions. In Remote Sensing of Environment, 2017, ISSN 0034-4257, https://doi.org/10.1016/j.rse.2017.07.001; Gruber, A., Scanlon, T., van der Schalie, R., Wagner, W., Dorigo, W. (2019) Evolution of the ESA CCI Soil Moisture Climate Data Records and their underlying merging methodology. Earth System Science Data 11, 717-739, https://doi.org/10.5194/essd-11-717-2019; Gruber, A., Dorigo, W. A., Crow, W., Wagner W. (2017). Triple Collocation-Based Merging of Satellite Soil Moisture Retrievals. IEEE Transactions on Geoscience and Remote Sensing. PP. 1-13. https://doi.org/10.1109/TGRS.2017.2734070",
        "sensor_id": "multi-sensor",
        "source": "WARP 5.5R1.1/AMI-WS/ERS12 Level 2 Soil Moisture; WARP 5.4R1.0/AMI-WS/ERS2 Level 2 Soil Moisture; H115: Metop ASCAT Surface Soil Moisture Climate Data Record v5 12.5 km sampling, DOI: 10.15770/EUM_SAF_H_0006; H116: Metop ASCAT Surface Soil Moisture Climate Data Record v5 Extension 12.5 km sampling; H115: Metop ASCAT Surface Soil Moisture Climate Data Record v5 12.5 km sampling, DOI: 10.15770/EUM_SAF_H_0006; H116: Metop ASCAT Surface Soil Moisture Climate Data Record v5 Extension 12.5 km sampling; LPRMv06/SMMR/Nimbus 7 L3 Surface Soil Moisture, Ancillary Params, and quality flags; LPRMv06/SSMI/F08, F11, F13 DMSP L3 Surface Soil Moisture, Ancillary Params, and quality flags; LPRMv06/TMI/TRMM L2 Surface Soil Moisture, Ancillary Params, and QC; LPRMv06/AMSR-E/Aqua L2B Surface Soil Moisture, Ancillary Params, and QC; LPRMv06/WINDSAT/CORIOLIS L2 Surface Soil Moisture, Ancillary Params, and QC; LPRMv06/AMSR2/GCOM-W1 L3 Surface Soil Moisture, Ancillary Params; LPRMv06/SMOS/MIRAS L3 Surface Soil Moisture, CATDS Level 3 Brightness Temperatures (L3TB) version 300 RE03 & RE04; LPRMv06/SMAP_radiometer/SMAP L2 Surface Soil Moisture, Ancillary Params, and QC;",
        "title": "ESA Soil Moisture Climate Change Initiative (Soil_Moisture_cci): COMBINED Product, Version 05.2",
        "uuid": "057dd6c36f0741d3b97f9eee688b7835"
       },
       "bbox": [
        -180,
        -90,
        180,
        90
       ],
       "coords": {
        "lat": {
         "attrs": {
          "_CoordinateAxisType": "Lat",
          "chunk_sizes": 720,
          "data_type": "float32",
          "dimensions": [
           "lat"
          ],
          "file_chunk_sizes": 720,
          "file_dimensions": [
           "lat"
          ],
          "fill_value": null,
          "orig_data_type": "float32",
          "shape": [
           720
          ],
          "size": 720,
          "standard_name": "latitude",
          "units": "degrees_north",
          "valid_range": [
           -90,
           90
          ]
         },
         "dims": [
          "lat"
         ],
         "dtype": "float32",
         "name": "lat"
        },
        "lon": {
         "attrs": {
          "_CoordinateAxisType": "Lon",
          "chunk_sizes": 1440,
          "data_type": "float32",
          "dimensions": [
           "lon"
          ],
          "file_chunk_sizes": 1440,
          "file_dimensions": [
           "lon"
          ],
          "fill_value": null,
          "orig_data_type": "float32",
          "shape": [
           1440
          ],
          "size": 1440,
          "standard_name": "longitude",
          "units": "degrees_east",
          "valid_range": [
           -180,
           180
          ]
         },
         "dims": [
          "lon"
         ],
         "dtype": "float32",
         "name": "lon"
        },
        "time": {
         "attrs": {
          "_CoordinateAxisType": "Time",
          "calendar": "standard",
          "chunk_sizes": 1,
          "data_type": "float64",
          "dimensions": [
           "time"
          ],
          "file_chunk_sizes": 1,
          "file_dimensions": [
           "time"
          ],
          "fill_value": null,
          "orig_data_type": "float64",
          "shape": [
           1
          ],
          "size": 1,
          "standard_name": "time",
          "units": "days since 1970-01-01 00:00:00 UTC"
         },
         "dims": [
          "time"
         ],
         "dtype": "float64",
         "name": "time"
        }
       },
       "data_id": "esacci.SOILMOISTURE.day.L3S.SSMV.multi-sensor.multi-platform.COMBINED.05-2.r1",
       "data_vars": {
        "dnflag": {
         "attrs": {
          "_CoordinateAxes": "time lat lon",
          "_Unsigned": "false",
          "chunk_sizes": [
           1,
           720,
           1440
          ],
          "data_type": "uint8",
          "dimensions": [
           "time",
           "lat",
           "lon"
          ],
          "file_chunk_sizes": [
           1,
           720,
           1440
          ],
          "file_dimensions": [
           "time",
           "lat",
           "lon"
          ],
          "fill_value": 0,
          "flag_meanings": "NaN day night day_night_combination",
          "flag_values": [
           0,
           1,
           2,
           3
          ],
          "long_name": "Day / Night Flag",
          "orig_data_type": "uint8",
          "shape": [
           1,
           720,
           1440
          ],
          "size": 1036800
         },
         "dims": [
          "time",
          "lat",
          "lon"
         ],
         "dtype": "uint8",
         "name": "dnflag"
        },
        "flag": {
         "attrs": {
          "_CoordinateAxes": "time lat lon",
          "_Unsigned": "false",
          "chunk_sizes": [
           1,
           720,
           1440
          ],
          "data_type": "uint8",
          "dimensions": [
           "time",
           "lat",
           "lon"
          ],
          "file_chunk_sizes": [
           1,
           720,
           1440
          ],
          "file_dimensions": [
           "time",
           "lat",
           "lon"
          ],
          "fill_value": 127,
          "flag_meanings": "no_data_inconsistency_detected snow_coverage_or_temperature_below_zero dense_vegetation combination_of_flag_values_1_and_2 others_no_convergence_in_the_model_thus_no_valid_sm_estimates combination_of_flag_values_1_and_4 combination_of_flag_values_2_and_4 combination_of_flag_values_1_and_2_and_4 soil_moisture_value_exceeds_physical_boundary combination_of_flag_values_1_and_8 combination_of_flag_values_2_and_8 combination_of_flag_values_1_and_2_and_8 combination_of_flag_values_4_and_8 combination_of_flag_values_1_and_4_and_8 combination_of_flag_values_2_and_4_and_8 combination_of_flag_values_1_and_2_and_4_and_8 weight_of_measurement_below_threshold combination_of_flag_values_1_and_16 combination_of_flag_values_2_and_16 combination_of_flag_values_1_and_2_and_16 combination_of_flag_values_4_and_16 combination_of_flag_values_1_and_4_and_16 combination_of_flag_values_2_and_4_and_16 combination_of_flag_values_1_and_2_and_4_and_16 combination_of_flag_values_8_and_16 combination_of_flag_values_1_and_8_and_16 combination_of_flag_values_2_and_8_and_16 combination_of_flag_values_1_and_2_and_8_and_16 combination_of_flag_values_4_and_8_and_16 combination_of_flag_values_1_and_4_and_8_and_16 combination_of_flag_values_2_and_4_and_8_and_16 combination_of_flag_values_1_and_2_and_4_and_8_and_16 NaN",
          "flag_values": [
           0,
           1,
           2,
           3,
           4,
           5,
           6,
           7,
           8,
           9,
           10,
           11,
           12,
           13,
           14,
           15,
           16,
           17,
           18,
           19,
           20,
           21,
           22,
           23,
           24,
           25,
           26,
           27,
           28,
           29,
           30,
           31,
           127
          ],
          "long_name": "Flag",
          "orig_data_type": "uint8",
          "shape": [
           1,
           720,
           1440
          ],
          "size": 1036800
         },
         "dims": [
          "time",
          "lat",
          "lon"
         ],
         "dtype": "uint8",
         "name": "flag"
        },
        "freqbandID": {
         "attrs": {
          "_CoordinateAxes": "time lat lon",
          "chunk_sizes": [
           1,
           720,
           1440
          ],
          "data_type": "int16",
          "dimensions": [
           "time",
           "lat",
           "lon"
          ],
          "file_chunk_sizes": [
           1,
           720,
           1440
          ],
          "file_dimensions": [
           "time",
           "lat",
           "lon"
          ],
          "fill_value": 0,
          "flag_meanings": "NaN L14 C53 L14+C53 C66 C68 L14+C68 C53+C68 L14+C53+C68 C69 L14+C69 C53+C69 L14+C53+C69 C68+C69 L14+C68+C69 C53+C68+C69 L14+C53+C68+C69 C73 L14+C73 C53+C73 L14+C53+C73 X107 L14+X107 C53+X107 L14+C53+X107 C68+X107 L14+C68+X107 C53+C68+X107 L14+C53+C68+X107 C69+X107 L14+C69+X107 C53+C69+X107 L14+C53+C69+X107 K194 C53+K194",
          "flag_values": [
           0,
           1,
           2,
           3,
           4,
           8,
           9,
           10,
           11,
           16,
           17,
           18,
           19,
           24,
           25,
           26,
           27,
           32,
           33,
           34,
           35,
           64,
           65,
           66,
           67,
           72,
           73,
           74,
           75,
           80,
           81,
           82,
           83,
           128,
           130
          ],
          "long_name": "Frequency Band Identification",
          "orig_data_type": "int16",
          "shape": [
           1,
           720,
           1440
          ],
          "size": 1036800
         },
         "dims": [
          "time",
          "lat",
          "lon"
         ],
         "dtype": "int16",
         "name": "freqbandID"
        },
        "mode": {
         "attrs": {
          "_CoordinateAxes": "time lat lon",
          "_Unsigned": "false",
          "chunk_sizes": [
           1,
           720,
           1440
          ],
          "data_type": "uint8",
          "dimensions": [
           "time",
           "lat",
           "lon"
          ],
          "file_chunk_sizes": [
           1,
           720,
           1440
          ],
          "file_dimensions": [
           "time",
           "lat",
           "lon"
          ],
          "fill_value": 0,
          "flag_meanings": "NaN ascending descending ascending_descending_combination",
          "flag_values": [
           0,
           1,
           2,
           3
          ],
          "long_name": "Satellite  Mode",
          "orig_data_type": "uint8",
          "shape": [
           1,
           720,
           1440
          ],
          "size": 1036800
         },
         "dims": [
          "time",
          "lat",
          "lon"
         ],
         "dtype": "uint8",
         "name": "mode"
        },
        "sensor": {
         "attrs": {
          "_CoordinateAxes": "time lat lon",
          "chunk_sizes": [
           1,
           720,
           1440
          ],
          "data_type": "int16",
          "dimensions": [
           "time",
           "lat",
           "lon"
          ],
          "file_chunk_sizes": [
           1,
           720,
           1440
          ],
          "file_dimensions": [
           "time",
           "lat",
           "lon"
          ],
          "fill_value": 0,
          "flag_meanings": "NaN SMMR SSMI TMI AMSRE WindSat AMSRE+WindSat AMSR2 SMOS AMSRE+SMOS WindSat+SMOS AMSRE+WindSat+SMOS AMSR2+SMOS AMIWS SSMI+AMIWS TMI+AMIWS AMSRE+AMIWS ASCATA AMSRE+ASCATA WindSat+ASCATA AMSRE+WindSat+ASCATA AMSR2+ASCATA SMOS+ASCATA AMSRE+SMOS+ASCATA WindSat+SMOS+ASCATA AMSRE+WindSat+SMOS+ASCATA AMSR2+SMOS+ASCATA ASCATB AMSR2+ASCATB SMOS+ASCATB AMSR2+SMOS+ASCATB ASCATA+ASCATB AMSRE+ASCATA+ASCATB WindSat+ASCATA+ASCATB AMSRE+WindSat+ASCATA+ASCATB AMSR2+ASCATA+ASCATB SMOS+ASCATA+ASCATB AMSRE+SMOS+ASCATA+ASCATB WindSat+SMOS+ASCATA+ASCATB AMSRE+WindSat+SMOS+ASCATA+ASCATB AMSR2+SMOS+ASCATA+ASCATB SMAP AMSR2+SMAP SMOS+SMAP AMSR2+SMOS+SMAP ASCATA+SMAP AMSR2+ASCATA+SMAP SMOS+ASCATA+SMAP AMSR2+SMOS+ASCATA+SMAP ASCATB+SMAP AMSR2+ASCATB+SMAP SMOS+ASCATB+SMAP AMSR2+SMOS+ASCATB+SMAP ASCATA+ASCATB+SMAP AMSR2+ASCATA+ASCATB+SMAP SMOS+ASCATA+ASCATB+SMAP AMSR2+SMOS+ASCATA+ASCATB+SMAP",
          "flag_values": [
           0,
           1,
           2,
           4,
           8,
           16,
           24,
           32,
           64,
           72,
           80,
           88,
           96,
           128,
           130,
           132,
           136,
           256,
           264,
           272,
           280,
           288,
           320,
           328,
           336,
           344,
           352,
           512,
           544,
           576,
           608,
           768,
           776,
           784,
           792,
           800,
           832,
           840,
           848,
           856,
           864,
           1024,
           1056,
           1088,
           1120,
           1280,
           1312,
           1344,
           1376,
           1536,
           1568,
           1600,
           1632,
           1792,
           1824,
           1856,
           1888
          ],
          "long_name": "Sensor",
          "orig_data_type": "int16",
          "shape": [
           1,
           720,
           1440
          ],
          "size": 1036800
         },
         "dims": [
          "time",
          "lat",
          "lon"
         ],
         "dtype": "int16",
         "name": "sensor"
        },
        "sm": {
         "attrs": {
          "_CoordinateAxes": "time lat lon",
          "chunk_sizes": [
           1,
           720,
           1440
          ],
          "data_type": "float32",
          "dimensions": [
           "time",
           "lat",
           "lon"
          ],
          "file_chunk_sizes": [
           1,
           720,
           1440
          ],
          "file_dimensions": [
           "time",
           "lat",
           "lon"
          ],
          "fill_value": -9999,
          "long_name": "Volumetric Soil Moisture",
          "orig_data_type": "float32",
          "shape": [
           1,
           720,
           1440
          ],
          "size": 1036800,
          "units": "m3 m-3",
          "valid_range": [
           0,
           1
          ]
         },
         "dims": [
          "time",
          "lat",
          "lon"
         ],
         "dtype": "float32",
         "name": "sm"
        },
        "sm_uncertainty": {
         "attrs": {
          "_CoordinateAxes": "time lat lon",
          "chunk_sizes": [
           1,
           720,
           1440
          ],
          "data_type": "float32",
          "description": "Uncertainty is the estimated standard deviation of the  observation",
          "dimensions": [
           "time",
           "lat",
           "lon"
          ],
          "file_chunk_sizes": [
           1,
           720,
           1440
          ],
          "file_dimensions": [
           "time",
           "lat",
           "lon"
          ],
          "fill_value": -9999,
          "long_name": "Volumetric Soil Moisture Uncertainty",
          "orig_data_type": "float32",
          "shape": [
           1,
           720,
           1440
          ],
          "size": 1036800,
          "units": "m3 m-3",
          "valid_range": [
           0,
           1
          ]
         },
         "dims": [
          "time",
          "lat",
          "lon"
         ],
         "dtype": "float32",
         "name": "sm_uncertainty"
        },
        "t0": {
         "attrs": {
          "_CoordinateAxes": "time lat lon",
          "chunk_sizes": [
           1,
           360,
           720
          ],
          "data_type": "float64",
          "dimensions": [
           "time",
           "lat",
           "lon"
          ],
          "file_chunk_sizes": [
           1,
           360,
           720
          ],
          "file_dimensions": [
           "time",
           "lat",
           "lon"
          ],
          "fill_value": -9999,
          "long_name": "Observation Timestamp",
          "orig_data_type": "float64",
          "shape": [
           1,
           720,
           1440
          ],
          "size": 1036800,
          "units": "days since 1970-01-01 00:00:00 UTC",
          "valid_range": [
           3226.5,
           3227.5
          ]
         },
         "dims": [
          "time",
          "lat",
          "lon"
         ],
         "dtype": "float64",
         "name": "t0"
        }
       },
       "dims": {
        "lat": 720,
        "lon": 1440,
        "time": 15036
       },
       "open_params_schema": {
        "additionalProperties": false,
        "properties": {
         "bbox": {
          "items": [
           {
            "maximum": 180,
            "minimum": -180,
            "type": "number"
           },
           {
            "maximum": 90,
            "minimum": -90,
            "type": "number"
           },
           {
            "maximum": 180,
            "minimum": -180,
            "type": "number"
           },
           {
            "maximum": 90,
            "minimum": -90,
            "type": "number"
           }
          ],
          "type": "array"
         },
         "time_range": {
          "items": [
           {
            "format": "date",
            "maxDate": "2019-12-31",
            "minDate": "1978-11-01",
            "type": "string"
           },
           {
            "format": "date",
            "maxDate": "2019-12-31",
            "minDate": "1978-11-01",
            "type": "string"
           }
          ],
          "type": "array"
         },
         "variable_names": {
          "items": {
           "enum": [
            "t0",
            "sm",
            "sm_uncertainty",
            "dnflag",
            "flag",
            "freqbandID",
            "mode",
            "sensor"
           ],
           "type": "string"
          },
          "type": "array"
         }
        },
        "type": "object"
       },
       "time_period": "1D",
       "time_range": [
        "1978-11-01",
        "2019-12-31"
       ],
       "type_specifier": "dataset"
      },
      "text/plain": [
       "<xcube.core.store.descriptor.DatasetDescriptor at 0x7f3cabe263a0>"
      ]
     },
     "metadata": {},
     "output_type": "display_data"
    },
    {
     "name": "stdout",
     "output_type": "stream",
     "text": [
      "\n",
      "Dataset item 4:\n",
      "ds_id: esacci.SOILMOISTURE.day.L3S.SSMV.multi-sensor.multi-platform.COMBINED.v05-3.r1\n"
     ]
    },
    {
     "data": {
      "application/json": {
       "attrs": {
        "abstract": "The Soil Moisture CCI COMBINED dataset is one of three datasets created as part of the European Space Agency's (ESA) Soil Moisture Essential Climate Variable (ECV) Climate Change Initiative (CCI) project. The product has been created by directly merging Level 2 scatterometer and radiometer soil moisture products derived from the AMI-WS, ASCAT, SMMR, SSM/I, TMI, AMSR-E, WindSat, AMSR2, SMOS and SMAP satellite instruments. PASSIVE and ACTIVE products have also been created.\n\nThe v05.3 COMBINED product, provided as global daily images in NetCDF-4 classic file format, presents a global coverage of surface soil moisture at a spatial resolution of 0.25 degrees. It is provided in volumetric units [m3 m-3] and covers the period (yyyy-mm-dd) 1978-11-01 to 2020-12-31. For information regarding the theoretical and algorithmic base of the product, please see the Algorithm Theoretical Baseline Document. Other additional reference documents and information relating to the dataset can also be found on the CCI Soil Moisture project website.\n\nThe data set should be cited using all three of the following references:\n\n1. Gruber, A., Scanlon, T., van der Schalie, R., Wagner, W., and Dorigo, W. (2019). Evolution of the ESA CCI Soil Moisture climate data records and their underlying merging methodology, Earth Syst. Sci. Data, 11, 717–739, https://doi.org/10.5194/essd-11-717-2019\n\n2. Dorigo, W.A., Wagner, W., Albergel, C., Albrecht, F., Balsamo, G., Brocca, L., Chung, D., Ertl, M., Forkel, M., Gruber, A., Haas, E., Hamer, D. P. Hirschi, M., Ikonen, J., De Jeu, R. Kidd, R. Lahoz, W., Liu, Y.Y., Miralles, D., Lecomte, P. (2017). ESA CCI Soil Moisture for improved Earth system understanding: State-of-the art and future directions. In Remote Sensing of Environment, 2017, ISSN 0034-4257, https://doi.org/10.1016/j.rse.2017.07.001\n\n3. Gruber, A., Dorigo, W. A., Crow, W., Wagner W. (2017). Triple Collocation-Based Merging of Satellite Soil Moisture Retrievals. IEEE Transactions on Geoscience and Remote Sensing. PP. 1-13. 10.1109/TGRS.2017.2734070",
        "catalog_url": "https://catalogue.ceda.ac.uk/uuid/e43aead9947549078c2d108b2c3632b2",
        "cci_project": "SOILMOISTURE",
        "data_type": "SSMV",
        "ecv": "SOILMOISTURE",
        "licences": "Use of these data is covered by the following licence: http://artefacts.ceda.ac.uk/licences/specific_licences/esacci_soilmoisture_terms_and_conditions.pdf . When using these data you must cite them correctly using the citation given on the CEDA Data Catalogue record.",
        "platform_id": "multi-platform",
        "processing_level": "L3S",
        "product_string": "COMBINED",
        "product_version": "v05-3",
        "publication_date": "2021-03-18T08:50:58",
        "sensor_id": "multi-sensor",
        "title": "ESA Soil Moisture Climate Change Initiative (Soil_Moisture_cci): COMBINED Product, Version 05.3",
        "uuid": "e43aead9947549078c2d108b2c3632b2"
       },
       "bbox": [
        -180,
        -90,
        180,
        90
       ],
       "coords": {
        "time": {
         "attrs": {
          "calendar": "proleptic_gregorian",
          "standard_name": "time",
          "units": "seconds since 1970-01-01T00:00:00Z"
         },
         "dims": [
          "time"
         ],
         "dtype": "int64",
         "name": "time"
        }
       },
       "data_id": "esacci.SOILMOISTURE.day.L3S.SSMV.multi-sensor.multi-platform.COMBINED.v05-3.r1",
       "dims": {
        "time": 15402
       },
       "open_params_schema": {
        "additionalProperties": false,
        "properties": {
         "time_range": {
          "items": [
           {
            "format": "date",
            "maxDate": "2020-12-31",
            "minDate": "1978-11-01",
            "type": "string"
           },
           {
            "format": "date",
            "maxDate": "2020-12-31",
            "minDate": "1978-11-01",
            "type": "string"
           }
          ],
          "type": "array"
         },
         "variable_names": {
          "items": {
           "type": "string"
          },
          "type": "array"
         }
        },
        "type": "object"
       },
       "time_period": "1D",
       "time_range": [
        "1978-11-01",
        "2020-12-31"
       ],
       "type_specifier": "dataset"
      },
      "text/plain": [
       "<xcube.core.store.descriptor.DatasetDescriptor at 0x7f3cabe70c10>"
      ]
     },
     "metadata": {},
     "output_type": "display_data"
    },
    {
     "name": "stdout",
     "output_type": "stream",
     "text": [
      "\n",
      "Dataset item 5:\n",
      "ds_id: esacci.SOILMOISTURE.day.L3S.SSMV.multi-sensor.multi-platform.COMBINED.v06-1.r1\n"
     ]
    },
    {
     "data": {
      "application/json": {
       "attrs": {
        "abstract": "The Soil Moisture CCI COMBINED dataset is one of three datasets created as part of the European Space Agency's (ESA) Soil Moisture Essential Climate Variable (ECV) Climate Change Initiative (CCI) project. The product has been created by directly merging Level 2 scatterometer and radiometer soil moisture products derived from the AMI-WS, ASCAT, SMMR, SSM/I, TMI, AMSR-E, WindSat, AMSR2, SMOS, SMAP, FY-3B and GPM satellite instruments. PASSIVE and ACTIVE products have also been created.\n\nThe v06.1 COMBINED product, provided as global daily images in NetCDF-4 classic file format, presents a global coverage of surface soil moisture at a spatial resolution of 0.25 degrees. It is provided in volumetric units [m3 m-3] and covers the period (yyyy-mm-dd) 1978-11-01 to 2020-12-31. For information regarding the theoretical and algorithmic base of the product, please see the Algorithm Theoretical Baseline Document. Additional reference documents and information relating to the dataset can also be found on the CCI Soil Moisture project website.\n\nThe data set should be cited using the following references:\n\n1. Gruber, A., Scanlon, T., van der Schalie, R., Wagner, W., and Dorigo, W. (2019). Evolution of the ESA CCI Soil Moisture climate data records and their underlying merging methodology, Earth Syst. Sci. Data, 11, 717–739, https://doi.org/10.5194/essd-11-717-2019\n\n2. Dorigo, W.A., Wagner, W., Albergel, C., Albrecht, F., Balsamo, G., Brocca, L., Chung, D., Ertl, M., Forkel, M., Gruber, A., Haas, E., Hamer, D. P. Hirschi, M., Ikonen, J., De Jeu, R. Kidd, R. Lahoz, W., Liu, Y.Y., Miralles, D., Lecomte, P. (2017). ESA CCI Soil Moisture for improved Earth system understanding: State-of-the art and future directions. In Remote Sensing of Environment, 2017, ISSN 0034-4257, https://doi.org/10.1016/j.rse.2017.07.001",
        "catalog_url": "https://catalogue.ceda.ac.uk/uuid/43d73291472444e6b9c2d2420dbad7d6",
        "cci_project": "SOILMOISTURE",
        "data_type": "SSMV",
        "ecv": "SOILMOISTURE",
        "licences": "Use of these data is covered by the following licence: http://artefacts.ceda.ac.uk/licences/specific_licences/esacci_soilmoisture_terms_and_conditions.pdf . When using these data you must cite them correctly using the citation given on the CEDA Data Catalogue record.",
        "platform_id": "multi-platform",
        "processing_level": "L3S",
        "product_string": "COMBINED",
        "product_version": "v06-1",
        "publication_date": "2021-04-19T15:41:14",
        "sensor_id": "multi-sensor",
        "title": "ESA Soil Moisture Climate Change Initiative (Soil_Moisture_cci): COMBINED product, Version 06.1",
        "uuid": "43d73291472444e6b9c2d2420dbad7d6"
       },
       "bbox": [
        -180,
        -90,
        180,
        90
       ],
       "coords": {
        "time": {
         "attrs": {
          "calendar": "proleptic_gregorian",
          "standard_name": "time",
          "units": "seconds since 1970-01-01T00:00:00Z"
         },
         "dims": [
          "time"
         ],
         "dtype": "int64",
         "name": "time"
        }
       },
       "data_id": "esacci.SOILMOISTURE.day.L3S.SSMV.multi-sensor.multi-platform.COMBINED.v06-1.r1",
       "dims": {
        "time": 15402
       },
       "open_params_schema": {
        "additionalProperties": false,
        "properties": {
         "time_range": {
          "items": [
           {
            "format": "date",
            "maxDate": "2020-12-31",
            "minDate": "1978-11-01",
            "type": "string"
           },
           {
            "format": "date",
            "maxDate": "2020-12-31",
            "minDate": "1978-11-01",
            "type": "string"
           }
          ],
          "type": "array"
         },
         "variable_names": {
          "items": {
           "type": "string"
          },
          "type": "array"
         }
        },
        "type": "object"
       },
       "time_period": "1D",
       "time_range": [
        "1978-11-01",
        "2020-12-31"
       ],
       "type_specifier": "dataset"
      },
      "text/plain": [
       "<xcube.core.store.descriptor.DatasetDescriptor at 0x7f3d1fecb640>"
      ]
     },
     "metadata": {},
     "output_type": "display_data"
    },
    {
     "name": "stdout",
     "output_type": "stream",
     "text": [
      "\n",
      "Dataset item 6:\n",
      "ds_id: esacci.SOILMOISTURE.day.L3S.SSMV.multi-sensor.multi-platform.PASSIVE.05-2.r1\n"
     ]
    },
    {
     "data": {
      "application/json": {
       "attrs": {
        "abstract": "The Soil Moisture CCI PASSIVE dataset is one of three datasets created as part of the European Space Agency's (ESA) Soil Moisture Essential Climate Variable (ECV) Climate Change Initiative (CCI) project. The product has been created by merging data from the SMMR, SSM/I, TMI, AMSR-E, WindSat, AMSR2, SMOS and SMAP satellite instruments. ACTIVE and COMBINED products have also been created.\n\nThe v05.2 PASSIVE product, provided as global daily images in NetCDF-4 classic file format, presents a global coverage of surface soil moisture at a spatial resolution of 0.25 degrees. It is provided in volumetric units [m3 m-3] and covers the period (yyyy-mm-dd) 1978-11-01 to 2019-12-31. For information regarding the theoretical and algorithmic base of the product, please see the Algorithm Theoretical Baseline Document. Other additional reference documents and information relating to the dataset can also be found on the CCI Soil Moisture project website.\n\nThe data set should be cited using all three of the following references:\n\n1. Gruber, A., Scanlon, T., van der Schalie, R., Wagner, W., and Dorigo, W. (2019). Evolution of the ESA CCI Soil Moisture climate data records and their underlying merging methodology, Earth Syst. Sci. Data, 11, 717–739, https://doi.org/10.5194/essd-11-717-2019\n\n2. Dorigo, W.A., Wagner, W., Albergel, C., Albrecht, F., Balsamo, G., Brocca, L., Chung, D., Ertl, M., Forkel, M., Gruber, A., Haas, E., Hamer, D. P. Hirschi, M., Ikonen, J., De Jeu, R. Kidd, R. Lahoz, W., Liu, Y.Y., Miralles, D., Lecomte, P. (2017). ESA CCI Soil Moisture for improved Earth system understanding: State-of-the art and future directions. In Remote Sensing of Environment, 2017, ISSN 0034-4257, https://doi.org/10.1016/j.rse.2017.07.001\n\n3. Gruber, A., Dorigo, W. A., Crow, W., Wagner W. (2017). Triple Collocation-Based Merging of Satellite Soil Moisture Retrievals. IEEE Transactions on Geoscience and Remote Sensing. PP. 1-13. 10.1109/TGRS.2017.2734070",
        "catalog_url": "https://catalogue.ceda.ac.uk/uuid/f0580e34da524770b0a5d43c033b33dc",
        "cci_project": "SOILMOISTURE",
        "comment": "This dataset was produced with funding of the ESA CCI+ Soil Moisture project; ESRIN Contract No: 4000126684/19/I-NB",
        "data_type": "SSMV",
        "ecv": "SOILMOISTURE",
        "history": "2020-02-20 12:00:00 - product produced",
        "licences": "Use of these data is covered by the following licence: http://artefacts.ceda.ac.uk/licences/specific_licences/esacci_soilmoisture_terms_and_conditions.pdf . When using these data you must cite them correctly using the citation given on the CEDA Data Catalogue record.",
        "platform_id": "multi-platform",
        "processing_level": "L3S",
        "product_string": "PASSIVE",
        "product_version": "05-2",
        "project": "Climate Change Initiative - European Space Agency",
        "publication_date": "2020-11-23T14:54:10",
        "references": "http://www.esa-soilmoisture-cci.org; Dorigo, W.A., Wagner, W., Albergel, C., Albrecht, F.,  Balsamo, G., Brocca, L., Chung, D., Ertl, M., Forkel, M., Gruber, A., Haas, E., Hamer, D. P. Hirschi, M., Ikonen, J., De Jeu, R. Kidd, R. Lahoz, W., Liu, Y.Y., Miralles, D., Lecomte, P. (2017) ESA CCI Soil Moisture for improved Earth system understanding: State-of-the art and future directions. In Remote Sensing of Environment, 2017, ISSN 0034-4257, https://doi.org/10.1016/j.rse.2017.07.001; Gruber, A., Scanlon, T., van der Schalie, R., Wagner, W., Dorigo, W. (2019) Evolution of the ESA CCI Soil Moisture Climate Data Records and their underlying merging methodology. Earth System Science Data 11, 717-739, https://doi.org/10.5194/essd-11-717-2019; Gruber, A., Dorigo, W. A., Crow, W., Wagner W. (2017). Triple Collocation-Based Merging of Satellite Soil Moisture Retrievals. IEEE Transactions on Geoscience and Remote Sensing. PP. 1-13. https://doi.org/10.1109/TGRS.2017.2734070",
        "sensor_id": "multi-sensor",
        "source": "LPRMv06/SMMR/Nimbus 7 L3 Surface Soil Moisture, Ancillary Params, and quality flags; LPRMv06/SSMI/F08, F11, F13 DMSP L3 Surface Soil Moisture, Ancillary Params, and quality flags; LPRMv06/TMI/TRMM L2 Surface Soil Moisture, Ancillary Params, and QC; LPRMv06/AMSR-E/Aqua L2B Surface Soil Moisture, Ancillary Params, and QC; LPRMv06/WINDSAT/CORIOLIS L2 Surface Soil Moisture, Ancillary Params, and QC; LPRMv06/AMSR2/GCOM-W1 L3 Surface Soil Moisture, Ancillary Params; LPRMv06/SMOS/MIRAS L3 Surface Soil Moisture, CATDS Level 3 Brightness Temperatures (L3TB) version 300 RE03 & RE04; LPRMv06/SMAP_radiometer/SMAP L2 Surface Soil Moisture, Ancillary Params, and QC",
        "title": "ESA Soil Moisture Climate Change Initiative (Soil_Moisture_cci): PASSIVE Product, Version 05.2",
        "uuid": "f0580e34da524770b0a5d43c033b33dc"
       },
       "bbox": [
        -180,
        -90,
        180,
        90
       ],
       "coords": {
        "lat": {
         "attrs": {
          "_CoordinateAxisType": "Lat",
          "chunk_sizes": 720,
          "data_type": "float32",
          "dimensions": [
           "lat"
          ],
          "file_chunk_sizes": 720,
          "file_dimensions": [
           "lat"
          ],
          "fill_value": null,
          "orig_data_type": "float32",
          "shape": [
           720
          ],
          "size": 720,
          "standard_name": "latitude",
          "units": "degrees_north",
          "valid_range": [
           -90,
           90
          ]
         },
         "dims": [
          "lat"
         ],
         "dtype": "float32",
         "name": "lat"
        },
        "lon": {
         "attrs": {
          "_CoordinateAxisType": "Lon",
          "chunk_sizes": 1440,
          "data_type": "float32",
          "dimensions": [
           "lon"
          ],
          "file_chunk_sizes": 1440,
          "file_dimensions": [
           "lon"
          ],
          "fill_value": null,
          "orig_data_type": "float32",
          "shape": [
           1440
          ],
          "size": 1440,
          "standard_name": "longitude",
          "units": "degrees_east",
          "valid_range": [
           -180,
           180
          ]
         },
         "dims": [
          "lon"
         ],
         "dtype": "float32",
         "name": "lon"
        },
        "time": {
         "attrs": {
          "_CoordinateAxisType": "Time",
          "calendar": "standard",
          "chunk_sizes": 1,
          "data_type": "float64",
          "dimensions": [
           "time"
          ],
          "file_chunk_sizes": 1,
          "file_dimensions": [
           "time"
          ],
          "fill_value": null,
          "orig_data_type": "float64",
          "shape": [
           1
          ],
          "size": 1,
          "standard_name": "time",
          "units": "days since 1970-01-01 00:00:00 UTC"
         },
         "dims": [
          "time"
         ],
         "dtype": "float64",
         "name": "time"
        }
       },
       "data_id": "esacci.SOILMOISTURE.day.L3S.SSMV.multi-sensor.multi-platform.PASSIVE.05-2.r1",
       "data_vars": {
        "dnflag": {
         "attrs": {
          "_CoordinateAxes": "time lat lon",
          "_Unsigned": "false",
          "chunk_sizes": [
           1,
           720,
           1440
          ],
          "data_type": "uint8",
          "dimensions": [
           "time",
           "lat",
           "lon"
          ],
          "file_chunk_sizes": [
           1,
           720,
           1440
          ],
          "file_dimensions": [
           "time",
           "lat",
           "lon"
          ],
          "fill_value": 0,
          "flag_meanings": "NaN night",
          "flag_values": [
           0,
           2
          ],
          "long_name": "Day / Night Flag",
          "orig_data_type": "uint8",
          "shape": [
           1,
           720,
           1440
          ],
          "size": 1036800
         },
         "dims": [
          "time",
          "lat",
          "lon"
         ],
         "dtype": "uint8",
         "name": "dnflag"
        },
        "flag": {
         "attrs": {
          "_CoordinateAxes": "time lat lon",
          "_Unsigned": "false",
          "chunk_sizes": [
           1,
           720,
           1440
          ],
          "data_type": "uint8",
          "dimensions": [
           "time",
           "lat",
           "lon"
          ],
          "file_chunk_sizes": [
           1,
           720,
           1440
          ],
          "file_dimensions": [
           "time",
           "lat",
           "lon"
          ],
          "fill_value": 127,
          "flag_meanings": "no_data_inconsistency_detected snow_coverage_or_temperature_below_zero dense_vegetation combination_of_flag_values_1_and_2 others_no_convergence_in_the_model_thus_no_valid_sm_estimates combination_of_flag_values_1_and_4 combination_of_flag_values_2_and_4 combination_of_flag_values_1_and_2_and_4 soil_moisture_value_exceeds_physical_boundary combination_of_flag_values_1_and_8 combination_of_flag_values_2_and_8 combination_of_flag_values_1_and_2_and_8 combination_of_flag_values_4_and_8 combination_of_flag_values_1_and_4_and_8 combination_of_flag_values_2_and_4_and_8 weight_of_measurement_below_threshold combination_of_flag_values_1_and_16 combination_of_flag_values_2_and_16 combination_of_flag_values_1_and_2_and_16 combination_of_flag_values_4_and_16 combination_of_flag_values_1_and_4_and_16 combination_of_flag_values_2_and_4_and_16 combination_of_flag_values_1_and_2_and_4_and_16 combination_of_flag_values_8_and_16 combination_of_flag_values_1_and_8_and_16 combination_of_flag_values_2_and_8_and_16 combination_of_flag_values_1_and_2_and_8_and_16 combination_of_flag_values_4_and_8_and_16 combination_of_flag_values_1_and_4_and_8_and_16 combination_of_flag_values_2_and_4_and_8_and_16 NaN",
          "flag_values": [
           0,
           1,
           2,
           3,
           4,
           5,
           6,
           7,
           8,
           9,
           10,
           11,
           12,
           13,
           14,
           16,
           17,
           18,
           19,
           20,
           21,
           22,
           23,
           24,
           25,
           26,
           27,
           28,
           29,
           30,
           127
          ],
          "long_name": "Flag",
          "orig_data_type": "uint8",
          "shape": [
           1,
           720,
           1440
          ],
          "size": 1036800
         },
         "dims": [
          "time",
          "lat",
          "lon"
         ],
         "dtype": "uint8",
         "name": "flag"
        },
        "freqbandID": {
         "attrs": {
          "_CoordinateAxes": "time lat lon",
          "chunk_sizes": [
           1,
           720,
           1440
          ],
          "data_type": "int16",
          "dimensions": [
           "time",
           "lat",
           "lon"
          ],
          "file_chunk_sizes": [
           1,
           720,
           1440
          ],
          "file_dimensions": [
           "time",
           "lat",
           "lon"
          ],
          "fill_value": 0,
          "flag_meanings": "NaN L14 C66 C68 L14+C68 C69 L14+C69 C68+C69 L14+C68+C69 C73 L14+C73 X107 L14+X107 C68+X107 L14+C68+X107 C69+X107 L14+C69+X107 K194",
          "flag_values": [
           0,
           1,
           4,
           8,
           9,
           16,
           17,
           24,
           25,
           32,
           33,
           64,
           65,
           72,
           73,
           80,
           81,
           128
          ],
          "long_name": "Frequency Band Identification",
          "orig_data_type": "int16",
          "shape": [
           1,
           720,
           1440
          ],
          "size": 1036800
         },
         "dims": [
          "time",
          "lat",
          "lon"
         ],
         "dtype": "int16",
         "name": "freqbandID"
        },
        "mode": {
         "attrs": {
          "_CoordinateAxes": "time lat lon",
          "_Unsigned": "false",
          "chunk_sizes": [
           1,
           720,
           1440
          ],
          "data_type": "uint8",
          "dimensions": [
           "time",
           "lat",
           "lon"
          ],
          "file_chunk_sizes": [
           1,
           720,
           1440
          ],
          "file_dimensions": [
           "time",
           "lat",
           "lon"
          ],
          "fill_value": 0,
          "flag_meanings": "NaN ascending descending ascending_descending_combination",
          "flag_values": [
           0,
           1,
           2,
           3
          ],
          "long_name": "Satellite  Mode",
          "orig_data_type": "uint8",
          "shape": [
           1,
           720,
           1440
          ],
          "size": 1036800
         },
         "dims": [
          "time",
          "lat",
          "lon"
         ],
         "dtype": "uint8",
         "name": "mode"
        },
        "sensor": {
         "attrs": {
          "_CoordinateAxes": "time lat lon",
          "chunk_sizes": [
           1,
           720,
           1440
          ],
          "data_type": "int16",
          "dimensions": [
           "time",
           "lat",
           "lon"
          ],
          "file_chunk_sizes": [
           1,
           720,
           1440
          ],
          "file_dimensions": [
           "time",
           "lat",
           "lon"
          ],
          "fill_value": 0,
          "flag_meanings": "NaN SMMR SSMI TMI AMSRE WindSat AMSRE+WindSat AMSR2 SMOS AMSRE+SMOS WindSat+SMOS AMSRE+WindSat+SMOS AMSR2+SMOS SMAP AMSR2+SMAP SMOS+SMAP AMSR2+SMOS+SMAP",
          "flag_values": [
           0,
           1,
           2,
           4,
           8,
           16,
           24,
           32,
           64,
           72,
           80,
           88,
           96,
           1024,
           1056,
           1088,
           1120
          ],
          "long_name": "Sensor",
          "orig_data_type": "int16",
          "shape": [
           1,
           720,
           1440
          ],
          "size": 1036800
         },
         "dims": [
          "time",
          "lat",
          "lon"
         ],
         "dtype": "int16",
         "name": "sensor"
        },
        "sm": {
         "attrs": {
          "_CoordinateAxes": "time lat lon",
          "chunk_sizes": [
           1,
           720,
           1440
          ],
          "data_type": "float32",
          "dimensions": [
           "time",
           "lat",
           "lon"
          ],
          "file_chunk_sizes": [
           1,
           720,
           1440
          ],
          "file_dimensions": [
           "time",
           "lat",
           "lon"
          ],
          "fill_value": -9999,
          "long_name": "Volumetric Soil Moisture",
          "orig_data_type": "float32",
          "shape": [
           1,
           720,
           1440
          ],
          "size": 1036800,
          "units": "m3 m-3",
          "valid_range": [
           0,
           1
          ]
         },
         "dims": [
          "time",
          "lat",
          "lon"
         ],
         "dtype": "float32",
         "name": "sm"
        },
        "sm_uncertainty": {
         "attrs": {
          "_CoordinateAxes": "time lat lon",
          "chunk_sizes": [
           1,
           720,
           1440
          ],
          "data_type": "float32",
          "description": "Uncertainty is the estimated standard deviation of the  observation",
          "dimensions": [
           "time",
           "lat",
           "lon"
          ],
          "file_chunk_sizes": [
           1,
           720,
           1440
          ],
          "file_dimensions": [
           "time",
           "lat",
           "lon"
          ],
          "fill_value": -9999,
          "long_name": "Volumetric Soil Moisture Uncertainty",
          "orig_data_type": "float32",
          "shape": [
           1,
           720,
           1440
          ],
          "size": 1036800,
          "units": "m3 m-3",
          "valid_range": [
           0,
           1
          ]
         },
         "dims": [
          "time",
          "lat",
          "lon"
         ],
         "dtype": "float32",
         "name": "sm_uncertainty"
        },
        "t0": {
         "attrs": {
          "_CoordinateAxes": "time lat lon",
          "chunk_sizes": [
           1,
           360,
           720
          ],
          "data_type": "float64",
          "dimensions": [
           "time",
           "lat",
           "lon"
          ],
          "file_chunk_sizes": [
           1,
           360,
           720
          ],
          "file_dimensions": [
           "time",
           "lat",
           "lon"
          ],
          "fill_value": -9999,
          "long_name": "Observation Timestamp",
          "orig_data_type": "float64",
          "shape": [
           1,
           720,
           1440
          ],
          "size": 1036800,
          "units": "days since 1970-01-01 00:00:00 UTC",
          "valid_range": [
           3226.5,
           3227.5
          ]
         },
         "dims": [
          "time",
          "lat",
          "lon"
         ],
         "dtype": "float64",
         "name": "t0"
        }
       },
       "dims": {
        "lat": 720,
        "lon": 1440,
        "time": 15036
       },
       "open_params_schema": {
        "additionalProperties": false,
        "properties": {
         "bbox": {
          "items": [
           {
            "maximum": 180,
            "minimum": -180,
            "type": "number"
           },
           {
            "maximum": 90,
            "minimum": -90,
            "type": "number"
           },
           {
            "maximum": 180,
            "minimum": -180,
            "type": "number"
           },
           {
            "maximum": 90,
            "minimum": -90,
            "type": "number"
           }
          ],
          "type": "array"
         },
         "time_range": {
          "items": [
           {
            "format": "date",
            "maxDate": "2019-12-31",
            "minDate": "1978-11-01",
            "type": "string"
           },
           {
            "format": "date",
            "maxDate": "2019-12-31",
            "minDate": "1978-11-01",
            "type": "string"
           }
          ],
          "type": "array"
         },
         "variable_names": {
          "items": {
           "enum": [
            "t0",
            "sm",
            "sm_uncertainty",
            "dnflag",
            "flag",
            "freqbandID",
            "mode",
            "sensor"
           ],
           "type": "string"
          },
          "type": "array"
         }
        },
        "type": "object"
       },
       "time_period": "1D",
       "time_range": [
        "1978-11-01",
        "2019-12-31"
       ],
       "type_specifier": "dataset"
      },
      "text/plain": [
       "<xcube.core.store.descriptor.DatasetDescriptor at 0x7f3cabdb02e0>"
      ]
     },
     "metadata": {},
     "output_type": "display_data"
    },
    {
     "name": "stdout",
     "output_type": "stream",
     "text": [
      "\n",
      "Dataset item 7:\n",
      "ds_id: esacci.SOILMOISTURE.day.L3S.SSMV.multi-sensor.multi-platform.PASSIVE.v05-3.r1\n"
     ]
    },
    {
     "data": {
      "application/json": {
       "attrs": {
        "abstract": "The Soil Moisture CCI PASSIVE dataset is one of three datasets created as part of the European Space Agency's (ESA) Soil Moisture Essential Climate Variable (ECV) Climate Change Initiative (CCI) project. The product has been created by merging data from the SMMR, SSM/I, TMI, AMSR-E, WindSat, AMSR2, SMOS and SMAP satellite instruments. ACTIVE and COMBINED products have also been created.\n\nThe v05.3 PASSIVE product, provided as global daily images in NetCDF-4 classic file format, presents a global coverage of surface soil moisture at a spatial resolution of 0.25 degrees. It is provided in volumetric units [m3 m-3] and covers the period (yyyy-mm-dd) 1978-11-01 to 2020-12-31. For information regarding the theoretical and algorithmic base of the product, please see the Algorithm Theoretical Baseline Document. Other additional reference documents and information relating to the dataset can also be found on the CCI Soil Moisture project website.\n\nThe data set should be cited using all three of the following references:\n\n1. Gruber, A., Scanlon, T., van der Schalie, R., Wagner, W., and Dorigo, W. (2019). Evolution of the ESA CCI Soil Moisture climate data records and their underlying merging methodology, Earth Syst. Sci. Data, 11, 717–739, https://doi.org/10.5194/essd-11-717-2019\n\n2. Dorigo, W.A., Wagner, W., Albergel, C., Albrecht, F., Balsamo, G., Brocca, L., Chung, D., Ertl, M., Forkel, M., Gruber, A., Haas, E., Hamer, D. P. Hirschi, M., Ikonen, J., De Jeu, R. Kidd, R. Lahoz, W., Liu, Y.Y., Miralles, D., Lecomte, P. (2017). ESA CCI Soil Moisture for improved Earth system understanding: State-of-the art and future directions. In Remote Sensing of Environment, 2017, ISSN 0034-4257, https://doi.org/10.1016/j.rse.2017.07.001\n\n3. Gruber, A., Dorigo, W. A., Crow, W., Wagner W. (2017). Triple Collocation-Based Merging of Satellite Soil Moisture Retrievals. IEEE Transactions on Geoscience and Remote Sensing. PP. 1-13. 10.1109/TGRS.2017.2734070",
        "catalog_url": "https://catalogue.ceda.ac.uk/uuid/31137897d305407c9b83d49d124e4d1d",
        "cci_project": "SOILMOISTURE",
        "data_type": "SSMV",
        "ecv": "SOILMOISTURE",
        "licences": "Use of these data is covered by the following licence: http://artefacts.ceda.ac.uk/licences/specific_licences/esacci_soilmoisture_terms_and_conditions.pdf . When using these data you must cite them correctly using the citation given on the CEDA Data Catalogue record.",
        "platform_id": "multi-platform",
        "processing_level": "L3S",
        "product_string": "PASSIVE",
        "product_version": "v05-3",
        "publication_date": "2021-03-18T08:50:44",
        "sensor_id": "multi-sensor",
        "title": "ESA Soil Moisture Climate Change Initiative (Soil_Moisture_cci): PASSIVE Product, Version 05.3",
        "uuid": "31137897d305407c9b83d49d124e4d1d"
       },
       "bbox": [
        -180,
        -90,
        180,
        90
       ],
       "coords": {
        "time": {
         "attrs": {
          "calendar": "proleptic_gregorian",
          "standard_name": "time",
          "units": "seconds since 1970-01-01T00:00:00Z"
         },
         "dims": [
          "time"
         ],
         "dtype": "int64",
         "name": "time"
        }
       },
       "data_id": "esacci.SOILMOISTURE.day.L3S.SSMV.multi-sensor.multi-platform.PASSIVE.v05-3.r1",
       "dims": {
        "time": 15402
       },
       "open_params_schema": {
        "additionalProperties": false,
        "properties": {
         "time_range": {
          "items": [
           {
            "format": "date",
            "maxDate": "2020-12-31",
            "minDate": "1978-11-01",
            "type": "string"
           },
           {
            "format": "date",
            "maxDate": "2020-12-31",
            "minDate": "1978-11-01",
            "type": "string"
           }
          ],
          "type": "array"
         },
         "variable_names": {
          "items": {
           "type": "string"
          },
          "type": "array"
         }
        },
        "type": "object"
       },
       "time_period": "1D",
       "time_range": [
        "1978-11-01",
        "2020-12-31"
       ],
       "type_specifier": "dataset"
      },
      "text/plain": [
       "<xcube.core.store.descriptor.DatasetDescriptor at 0x7f3cabe70be0>"
      ]
     },
     "metadata": {},
     "output_type": "display_data"
    },
    {
     "name": "stdout",
     "output_type": "stream",
     "text": [
      "\n",
      "Dataset item 8:\n",
      "ds_id: esacci.SOILMOISTURE.day.L3S.SSMV.multi-sensor.multi-platform.PASSIVE.v06-1.r1\n"
     ]
    },
    {
     "data": {
      "application/json": {
       "attrs": {
        "abstract": "The Soil Moisture CCI PASSIVE dataset is one of three datasets created as part of the European Space Agency's (ESA) Soil Moisture Essential Climate Variable (ECV) Climate Change Initiative (CCI) project. The product has been created by merging data from the SMMR, SSM/I, TMI, AMSR-E, WindSat, AMSR2, SMOS, SMAP, FY-3B and GPM satellite instruments. ACTIVE and COMBINED products have also been created.\n\nThe v06.1 PASSIVE product, provided as global daily images in NetCDF-4 classic file format, presents a global coverage of surface soil moisture at a spatial resolution of 0.25 degrees. It is provided in volumetric units [m3 m-3] and covers the period (yyyy-mm-dd) 1978-11-01 to 2020-12-31. For information regarding the theoretical and algorithmic base of the product, please see the Algorithm Theoretical Baseline Document. Additional reference documents and information relating to the dataset can also be found on the CCI Soil Moisture project website.\n\nThe data set should be cited using the following references:\n\n1. Gruber, A., Scanlon, T., van der Schalie, R., Wagner, W., and Dorigo, W. (2019). Evolution of the ESA CCI Soil Moisture climate data records and their underlying merging methodology, Earth Syst. Sci. Data, 11, 717–739, https://doi.org/10.5194/essd-11-717-2019\n\n2. Dorigo, W.A., Wagner, W., Albergel, C., Albrecht, F., Balsamo, G., Brocca, L., Chung, D., Ertl, M., Forkel, M., Gruber, A., Haas, E., Hamer, D. P. Hirschi, M., Ikonen, J., De Jeu, R. Kidd, R. Lahoz, W., Liu, Y.Y., Miralles, D., Lecomte, P. (2017). ESA CCI Soil Moisture for improved Earth system understanding: State-of-the art and future directions. In Remote Sensing of Environment, 2017, ISSN 0034-4257, https://doi.org/10.1016/j.rse.2017.07.001",
        "catalog_url": "https://catalogue.ceda.ac.uk/uuid/f5ffbd016e6b44858a33ae38ed2a149e",
        "cci_project": "SOILMOISTURE",
        "data_type": "SSMV",
        "ecv": "SOILMOISTURE",
        "licences": "Use of these data is covered by the following licence: http://artefacts.ceda.ac.uk/licences/specific_licences/esacci_soilmoisture_terms_and_conditions.pdf . When using these data you must cite them correctly using the citation given on the CEDA Data Catalogue record.",
        "platform_id": "multi-platform",
        "processing_level": "L3S",
        "product_string": "PASSIVE",
        "product_version": "v06-1",
        "publication_date": "2021-04-19T15:36:01",
        "sensor_id": "multi-sensor",
        "title": "ESA Soil Moisture Climate Change Initiative (Soil_Moisture_cci): PASSIVE product, Version 06.1",
        "uuid": "f5ffbd016e6b44858a33ae38ed2a149e"
       },
       "bbox": [
        -180,
        -90,
        180,
        90
       ],
       "coords": {
        "time": {
         "attrs": {
          "calendar": "proleptic_gregorian",
          "standard_name": "time",
          "units": "seconds since 1970-01-01T00:00:00Z"
         },
         "dims": [
          "time"
         ],
         "dtype": "int64",
         "name": "time"
        }
       },
       "data_id": "esacci.SOILMOISTURE.day.L3S.SSMV.multi-sensor.multi-platform.PASSIVE.v06-1.r1",
       "dims": {
        "time": 15402
       },
       "open_params_schema": {
        "additionalProperties": false,
        "properties": {
         "time_range": {
          "items": [
           {
            "format": "date",
            "maxDate": "2020-12-31",
            "minDate": "1978-11-01",
            "type": "string"
           },
           {
            "format": "date",
            "maxDate": "2020-12-31",
            "minDate": "1978-11-01",
            "type": "string"
           }
          ],
          "type": "array"
         },
         "variable_names": {
          "items": {
           "type": "string"
          },
          "type": "array"
         }
        },
        "type": "object"
       },
       "time_period": "1D",
       "time_range": [
        "1978-11-01",
        "2020-12-31"
       ],
       "type_specifier": "dataset"
      },
      "text/plain": [
       "<xcube.core.store.descriptor.DatasetDescriptor at 0x7f3cabe260a0>"
      ]
     },
     "metadata": {},
     "output_type": "display_data"
    },
    {
     "data": {
      "application/json": {
       "attrs": {
        "abstract": "The Soil Moisture CCI ACTIVE dataset is one of the three datasets created as part of the European Space Agency's (ESA) Soil Moisture Essential Climate Variable (ECV) Climate Change Initiative (CCI) project. The product has been created by fusing scatterometer soil moisture products, derived from the instruments AMI-WS and ASCAT. PASSIVE and COMBINED products have also been created.\n\nThe v05.3 ACTIVE product, provided as global daily images in NetCDF-4 classic file format, presents a global coverage of surface soil moisture at a spatial resolution of 0.25 degrees. It is provided in percent of saturation [%] and covers the period (yyyy-mm-dd) 1991-08-05 to 2020-12-31. For information regarding the theoretical and algorithmic base of the product, please see the Algorithm Theoretical Baseline Document. Other additional reference documents and information relating to the dataset can also be found on the CCI Soil Moisture project website.\n\nThe data set should be cited using all three of the following references:\n\n1. Gruber, A., Scanlon, T., van der Schalie, R., Wagner, W., and Dorigo, W. (2019). Evolution of the ESA CCI Soil Moisture climate data records and their underlying merging methodology, Earth Syst. Sci. Data, 11, 717–739, https://doi.org/10.5194/essd-11-717-2019\n\n2. Dorigo, W.A., Wagner, W., Albergel, C., Albrecht, F., Balsamo, G., Brocca, L., Chung, D., Ertl, M., Forkel, M., Gruber, A., Haas, E., Hamer, D. P. Hirschi, M., Ikonen, J., De Jeu, R. Kidd, R. Lahoz, W., Liu, Y.Y., Miralles, D., Lecomte, P. (2017). ESA CCI Soil Moisture for improved Earth system understanding: State-of-the art and future directions. In Remote Sensing of Environment, 2017, ISSN 0034-4257, https://doi.org/10.1016/j.rse.2017.07.001\n\n3. Gruber, A., Dorigo, W. A., Crow, W., Wagner W. (2017). Triple Collocation-Based Merging of Satellite Soil Moisture Retrievals. IEEE Transactions on Geoscience and Remote Sensing. PP. 1-13. 10.1109/TGRS.2017.2734070",
        "catalog_url": "https://catalogue.ceda.ac.uk/uuid/1da8dadcdfb642f4aad2384f02efe756",
        "cci_project": "SOILMOISTURE",
        "data_type": "SSMS",
        "ecv": "SOILMOISTURE",
        "licences": "Use of these data is covered by the following licence: http://artefacts.ceda.ac.uk/licences/specific_licences/esacci_soilmoisture_terms_and_conditions.pdf . When using these data you must cite them correctly using the citation given on the CEDA Data Catalogue record.",
        "platform_id": "multi-platform",
        "processing_level": "L3S",
        "product_string": "ACTIVE",
        "product_version": "v05-3",
        "publication_date": "2021-03-18T08:51:13",
        "sensor_id": "multi-sensor",
        "title": "ESA Soil Moisture Climate Change Initiative (Soil_Moisture_cci): ACTIVE Product, Version 05.3",
        "uuid": "1da8dadcdfb642f4aad2384f02efe756"
       },
       "bbox": [
        -180,
        -90,
        180,
        90
       ],
       "coords": {
        "time": {
         "attrs": {
          "calendar": "proleptic_gregorian",
          "standard_name": "time",
          "units": "seconds since 1970-01-01T00:00:00Z"
         },
         "dims": [
          "time"
         ],
         "dtype": "int64",
         "name": "time"
        }
       },
       "data_id": "esacci.SOILMOISTURE.day.L3S.SSMS.multi-sensor.multi-platform.ACTIVE.v05-3.r1",
       "dims": {
        "time": 10742
       },
       "open_params_schema": {
        "additionalProperties": false,
        "properties": {
         "time_range": {
          "items": [
           {
            "format": "date",
            "maxDate": "2020-12-31",
            "minDate": "1991-08-05",
            "type": "string"
           },
           {
            "format": "date",
            "maxDate": "2020-12-31",
            "minDate": "1991-08-05",
            "type": "string"
           }
          ],
          "type": "array"
         },
         "variable_names": {
          "items": {
           "type": "string"
          },
          "type": "array"
         }
        },
        "type": "object"
       },
       "time_period": "1D",
       "time_range": [
        "1991-08-05",
        "2020-12-31"
       ],
       "type_specifier": "dataset"
      },
      "text/plain": [
       "<xcube.core.store.descriptor.DatasetDescriptor at 0x7f3d1ce91070>"
      ]
     },
     "metadata": {},
     "output_type": "display_data"
    }
   ],
   "source": [
    "# Let's have a look in what we found in the Query\n",
    "\n",
    "for i,soilItem in enumerate(soilmoistureQuery):\n",
    "    print(\"\\nDataset item %d:\\nds_id: %s\"%(i,soilItem.data_id))\n",
    "    display(soilItem)\n",
    "\n",
    "#note the appropriate dataset is called slightly different depending on the cci-store which is being used\n",
    "if cci_store == 'cci-store':\n",
    "    dataset_id=\"esacci.SOILMOISTURE.day.L3S.SSMV.multi-sensor.multi-platform.COMBINED.v05-3.r1\"\n",
    "    dataset_id=\"esacci.SOILMOISTURE.day.L3S.SSMS.multi-sensor.multi-platform.ACTIVE.v05-3.r1\"\n",
    "elif cci_store == \"cci-zarr-store\":\n",
    "    raise RuntimeError(\"This dataset is not available within the zarr store yet\")\n",
    "    \n",
    "#describe the dataset\n",
    "soil_descriptor=data_store.describe_data(dataset_id)\n",
    "display(soil_descriptor)    \n",
    "   \n",
    "    \n"
   ]
  },
  {
   "cell_type": "markdown",
   "metadata": {},
   "source": [
    "## Questions About the available data\n",
    "A number of checks need to be done over the available datasets regarding its usability: Use the `meta_info` property of the dataset to do the following:\n",
    "1. Note down the units of the Soil Moisture maps for your information.\n",
    "2. Are the units the same as required for the computation of the drought index?\n",
    "3. What are the time and regional bounds for which there is data available?\n",
    "4. What variables are relevant for this exercise?\n",
    "5. Make notes relevant to the characteristics of the image (spatial resolution and method of retrieval). This information is relevant to define the applicability of the data for your analysis."
   ]
  },
  {
   "cell_type": "markdown",
   "metadata": {},
   "source": [
    "# Step 3 Download (a subset of) the data and store it 'locally'\n",
    "Up to now, we just queried the open data portal but we did not actually download any data. \n",
    "We can now call the datasource' [make_local routine](https://cate.readthedocs.io/en/latest/api_reference.html#cate.core.DataSource.make_local).\n",
    "\n",
    "However, this is a large dataset and we only want to download a subset of it. So we're going to setup a few restrictions.\n",
    "\n",
    "## Apply a regional restriction based on a hand-drawn polygon\n",
    "Polygons, and other geometrical objects in GIS systems can be conveniently expressed in the [Well Known Text representation (WKT)](https://en.wikipedia.org/wiki/Well-known_text_representation_of_geometry). The polygon below `Polygon (( ...))`, was drawn using [QGIS](https://www.qgis.org/en/site/) and exported as WKT. We furthermore need to load this in a [Shapely Polygon object](https://shapely.readthedocs.io/en/stable/manual.html?highlight=Polygon#Polygon) so cate can work with."
   ]
  },
  {
   "cell_type": "code",
   "execution_count": 12,
   "metadata": {},
   "outputs": [
    {
     "data": {
      "text/plain": [
       "<cartopy.mpl.feature_artist.FeatureArtist at 0x7f3cabe63160>"
      ]
     },
     "execution_count": 12,
     "metadata": {},
     "output_type": "execute_result"
    },
    {
     "name": "stderr",
     "output_type": "stream",
     "text": [
      "WARNING:py.warnings:/usr/lib/python3.9/site-packages/IPython/core/events.py:89: UserWarning: This figure includes Axes that are not compatible with tight_layout, so results might be incorrect.\n",
      "  func(*args, **kwargs)\n",
      "\n",
      "WARNING:py.warnings:/usr/lib/python3.9/site-packages/IPython/core/pylabtools.py:134: UserWarning: This figure includes Axes that are not compatible with tight_layout, so results might be incorrect.\n",
      "  fig.canvas.print_figure(bytes_io, **kw)\n",
      "\n"
     ]
    },
    {
     "data": {
      "image/png": "[encoded data removed]",
      "text/plain": [
       "<Figure size 640x480 with 1 Axes>"
      ]
     },
     "metadata": {},
     "output_type": "display_data"
    }
   ],
   "source": [
    "# The WKT representation representing the rough outline of the region of interest \n",
    "wktEuroDrought=\"Polygon ((0.29 50.07, 3.18 52.53, 7.45 54.49, 7.52 57.24, 10.35 58.47, 13.82 54.49, 13.75 49.64, 0.29 50.07))\"\n",
    "EuroPoly=wkt.loads(wktEuroDrought)\n",
    "\n",
    "# Curious as you might be, let's make a quick and dirty plot to see how the polygon looks like on a map\n",
    "mapproj=ccrs.LambertConformal(central_longitude=5,central_latitude=55)\n",
    "ax = plt.axes([0, 0, 1, 1],projection=mapproj)\n",
    "ax.set_extent([15, 0, 59, 48])\n",
    "ax.coastlines()\n",
    "ax.add_geometries([EuroPoly],crs=ccrs.PlateCarree(),facecolor=\"lightblue\",edgecolor=\"blue\",alpha=0.5)\n"
   ]
  },
  {
   "cell_type": "code",
   "execution_count": 13,
   "metadata": {},
   "outputs": [
    {
     "name": "stderr",
     "output_type": "stream",
     "text": [
      "WARNING:xcube:Could not open opendap url. No dds or das file provided.\n",
      "WARNING:xcube:Could not open opendap url. No dds or das file provided.\n",
      "WARNING:py.warnings:/home/cate/pycciv30/lib/python3.9/site-packages/xcube_cci/chunkstore.py:182: UserWarning: Could not find dimensions of variable 'dnflag'. Will omit it from the dataset.\n",
      "  warnings.warn(f\"Could not find dimensions of variable '{variable_name}'. \"\n",
      "\n",
      "WARNING:py.warnings:/home/cate/pycciv30/lib/python3.9/site-packages/xcube_cci/chunkstore.py:182: UserWarning: Could not find dimensions of variable 'flag'. Will omit it from the dataset.\n",
      "  warnings.warn(f\"Could not find dimensions of variable '{variable_name}'. \"\n",
      "\n",
      "WARNING:py.warnings:/home/cate/pycciv30/lib/python3.9/site-packages/xcube_cci/chunkstore.py:182: UserWarning: Could not find dimensions of variable 'freqbandID'. Will omit it from the dataset.\n",
      "  warnings.warn(f\"Could not find dimensions of variable '{variable_name}'. \"\n",
      "\n",
      "WARNING:py.warnings:/home/cate/pycciv30/lib/python3.9/site-packages/xcube_cci/chunkstore.py:182: UserWarning: Could not find dimensions of variable 't0'. Will omit it from the dataset.\n",
      "  warnings.warn(f\"Could not find dimensions of variable '{variable_name}'. \"\n",
      "\n",
      "WARNING:py.warnings:/home/cate/pycciv30/lib/python3.9/site-packages/xcube_cci/chunkstore.py:182: UserWarning: Could not find dimensions of variable 'sm_uncertainty'. Will omit it from the dataset.\n",
      "  warnings.warn(f\"Could not find dimensions of variable '{variable_name}'. \"\n",
      "\n",
      "WARNING:py.warnings:/home/cate/pycciv30/lib/python3.9/site-packages/xcube_cci/chunkstore.py:182: UserWarning: Could not find dimensions of variable 'sm'. Will omit it from the dataset.\n",
      "  warnings.warn(f\"Could not find dimensions of variable '{variable_name}'. \"\n",
      "\n",
      "WARNING:py.warnings:/home/cate/pycciv30/lib/python3.9/site-packages/xcube_cci/chunkstore.py:182: UserWarning: Could not find dimensions of variable 'mode'. Will omit it from the dataset.\n",
      "  warnings.warn(f\"Could not find dimensions of variable '{variable_name}'. \"\n",
      "\n",
      "WARNING:py.warnings:/home/cate/pycciv30/lib/python3.9/site-packages/xcube_cci/chunkstore.py:182: UserWarning: Could not find dimensions of variable 'sensor'. Will omit it from the dataset.\n",
      "  warnings.warn(f\"Could not find dimensions of variable '{variable_name}'. \"\n",
      "\n",
      "WARNING:py.warnings:/home/cate/pycciv30/lib/python3.9/site-packages/xcube_cci/chunkstore.py:182: UserWarning: Could not find dimensions of variable 'lat'. Will omit it from the dataset.\n",
      "  warnings.warn(f\"Could not find dimensions of variable '{variable_name}'. \"\n",
      "\n",
      "WARNING:py.warnings:/home/cate/pycciv30/lib/python3.9/site-packages/xcube_cci/chunkstore.py:182: UserWarning: Could not find dimensions of variable 'lon'. Will omit it from the dataset.\n",
      "  warnings.warn(f\"Could not find dimensions of variable '{variable_name}'. \"\n",
      "\n"
     ]
    },
    {
     "ename": "ValueError",
     "evalue": "Dataset is not a valid xcube dataset, because:\n- missing spatial x,y coordinate variables.",
     "output_type": "error",
     "traceback": [
      "\u001b[0;31m---------------------------------------------------------------------------\u001b[0m",
      "\u001b[0;31mValueError\u001b[0m                                Traceback (most recent call last)",
      "\u001b[0;32m<ipython-input-13-9d691692c5ed>\u001b[0m in \u001b[0;36m<module>\u001b[0;34m\u001b[0m\n\u001b[1;32m      3\u001b[0m \u001b[0;34m\u001b[0m\u001b[0m\n\u001b[1;32m      4\u001b[0m \u001b[0;31m# load the dataset\u001b[0m\u001b[0;34m\u001b[0m\u001b[0;34m\u001b[0m\u001b[0;34m\u001b[0m\u001b[0m\n\u001b[0;32m----> 5\u001b[0;31m \u001b[0msoilDset\u001b[0m\u001b[0;34m=\u001b[0m\u001b[0mopen_dataset\u001b[0m\u001b[0;34m(\u001b[0m\u001b[0mds_id\u001b[0m\u001b[0;34m=\u001b[0m\u001b[0mdataset_id\u001b[0m\u001b[0;34m,\u001b[0m \u001b[0mdata_store_id\u001b[0m\u001b[0;34m=\u001b[0m\u001b[0mcci_store\u001b[0m\u001b[0;34m,\u001b[0m \u001b[0mtime_range\u001b[0m\u001b[0;34m=\u001b[0m\u001b[0mwithinT\u001b[0m\u001b[0;34m,\u001b[0m\u001b[0mnormalize\u001b[0m\u001b[0;34m=\u001b[0m\u001b[0;32mTrue\u001b[0m\u001b[0;34m)\u001b[0m\u001b[0;34m\u001b[0m\u001b[0;34m\u001b[0m\u001b[0m\n\u001b[0m\u001b[1;32m      6\u001b[0m \u001b[0;31m#Note if the data has already been downloaded it will not do it again, and this routine will load a lot faster\u001b[0m\u001b[0;34m\u001b[0m\u001b[0;34m\u001b[0m\u001b[0;34m\u001b[0m\u001b[0m\n",
      "\u001b[0;32m~/pycciv30/lib/python3.9/site-packages/cate/core/op.py\u001b[0m in \u001b[0;36m__call__\u001b[0;34m(self, monitor, *args, **kwargs)\u001b[0m\n\u001b[1;32m    214\u001b[0m \u001b[0;34m\u001b[0m\u001b[0m\n\u001b[1;32m    215\u001b[0m         \u001b[0;31m# call the callable\u001b[0m\u001b[0;34m\u001b[0m\u001b[0;34m\u001b[0m\u001b[0;34m\u001b[0m\u001b[0m\n\u001b[0;32m--> 216\u001b[0;31m         \u001b[0mreturn_value\u001b[0m \u001b[0;34m=\u001b[0m \u001b[0mself\u001b[0m\u001b[0;34m.\u001b[0m\u001b[0m_wrapped_op\u001b[0m\u001b[0;34m(\u001b[0m\u001b[0;34m**\u001b[0m\u001b[0minput_values\u001b[0m\u001b[0;34m)\u001b[0m\u001b[0;34m\u001b[0m\u001b[0;34m\u001b[0m\u001b[0m\n\u001b[0m\u001b[1;32m    217\u001b[0m \u001b[0;34m\u001b[0m\u001b[0m\n\u001b[1;32m    218\u001b[0m         \u001b[0;32mif\u001b[0m \u001b[0mself\u001b[0m\u001b[0;34m.\u001b[0m\u001b[0mop_meta_info\u001b[0m\u001b[0;34m.\u001b[0m\u001b[0mhas_named_outputs\u001b[0m\u001b[0;34m:\u001b[0m\u001b[0;34m\u001b[0m\u001b[0;34m\u001b[0m\u001b[0m\n",
      "\u001b[0;32m~/pycciv30/lib/python3.9/site-packages/cate/ops/io.py\u001b[0m in \u001b[0;36mopen_dataset\u001b[0;34m(ds_id, time_range, region, var_names, normalize, data_store_id, force_local, local_ds_id, monitor)\u001b[0m\n\u001b[1;32m     83\u001b[0m     \"\"\"\n\u001b[1;32m     84\u001b[0m     \u001b[0;32mimport\u001b[0m \u001b[0mcate\u001b[0m\u001b[0;34m.\u001b[0m\u001b[0mcore\u001b[0m\u001b[0;34m.\u001b[0m\u001b[0mds\u001b[0m\u001b[0;34m\u001b[0m\u001b[0;34m\u001b[0m\u001b[0m\n\u001b[0;32m---> 85\u001b[0;31m     ds, ds_id = cate.core.ds.open_dataset(dataset_id=ds_id,\n\u001b[0m\u001b[1;32m     86\u001b[0m                                           \u001b[0mtime_range\u001b[0m\u001b[0;34m=\u001b[0m\u001b[0mtime_range\u001b[0m\u001b[0;34m,\u001b[0m\u001b[0;34m\u001b[0m\u001b[0;34m\u001b[0m\u001b[0m\n\u001b[1;32m     87\u001b[0m                                           \u001b[0mvar_names\u001b[0m\u001b[0;34m=\u001b[0m\u001b[0mvar_names\u001b[0m\u001b[0;34m,\u001b[0m\u001b[0;34m\u001b[0m\u001b[0;34m\u001b[0m\u001b[0m\n",
      "\u001b[0;32m~/pycciv30/lib/python3.9/site-packages/cate/core/ds.py\u001b[0m in \u001b[0;36mopen_dataset\u001b[0;34m(dataset_id, time_range, region, var_names, data_store_id, force_local, local_ds_id, monitor)\u001b[0m\n\u001b[1;32m    454\u001b[0m     \u001b[0;32mwith\u001b[0m \u001b[0mmonitor\u001b[0m\u001b[0;34m.\u001b[0m\u001b[0mstarting\u001b[0m\u001b[0;34m(\u001b[0m\u001b[0;34m'Open dataset'\u001b[0m\u001b[0;34m,\u001b[0m \u001b[0mopen_work\u001b[0m \u001b[0;34m+\u001b[0m \u001b[0msubset_work\u001b[0m \u001b[0;34m+\u001b[0m \u001b[0mcache_work\u001b[0m\u001b[0;34m)\u001b[0m\u001b[0;34m:\u001b[0m\u001b[0;34m\u001b[0m\u001b[0;34m\u001b[0m\u001b[0m\n\u001b[1;32m    455\u001b[0m         \u001b[0;32mwith\u001b[0m \u001b[0madd_progress_observers\u001b[0m\u001b[0;34m(\u001b[0m\u001b[0mXcubeProgressObserver\u001b[0m\u001b[0;34m(\u001b[0m\u001b[0mChildMonitor\u001b[0m\u001b[0;34m(\u001b[0m\u001b[0mmonitor\u001b[0m\u001b[0;34m,\u001b[0m \u001b[0mopen_work\u001b[0m\u001b[0;34m)\u001b[0m\u001b[0;34m)\u001b[0m\u001b[0;34m)\u001b[0m\u001b[0;34m:\u001b[0m\u001b[0;34m\u001b[0m\u001b[0;34m\u001b[0m\u001b[0m\n\u001b[0;32m--> 456\u001b[0;31m             \u001b[0mdataset\u001b[0m \u001b[0;34m=\u001b[0m \u001b[0mdata_store\u001b[0m\u001b[0;34m.\u001b[0m\u001b[0mopen_data\u001b[0m\u001b[0;34m(\u001b[0m\u001b[0mdata_id\u001b[0m\u001b[0;34m=\u001b[0m\u001b[0mdataset_id\u001b[0m\u001b[0;34m,\u001b[0m \u001b[0mopener_id\u001b[0m\u001b[0;34m=\u001b[0m\u001b[0mopener_id\u001b[0m\u001b[0;34m,\u001b[0m \u001b[0;34m**\u001b[0m\u001b[0mopen_args\u001b[0m\u001b[0;34m)\u001b[0m\u001b[0;34m\u001b[0m\u001b[0;34m\u001b[0m\u001b[0m\n\u001b[0m\u001b[1;32m    457\u001b[0m \u001b[0;34m\u001b[0m\u001b[0m\n\u001b[1;32m    458\u001b[0m         \u001b[0mdataset\u001b[0m \u001b[0;34m=\u001b[0m \u001b[0mselect_subset\u001b[0m\u001b[0;34m(\u001b[0m\u001b[0mdataset\u001b[0m\u001b[0;34m,\u001b[0m \u001b[0;34m**\u001b[0m\u001b[0msubset_args\u001b[0m\u001b[0;34m)\u001b[0m\u001b[0;34m\u001b[0m\u001b[0;34m\u001b[0m\u001b[0m\n",
      "\u001b[0;32m~/pycciv30/lib/python3.9/site-packages/xcube_cci/dataaccess.py\u001b[0m in \u001b[0;36mopen_data\u001b[0;34m(self, data_id, opener_id, **open_params)\u001b[0m\n\u001b[1;32m    470\u001b[0m \u001b[0;34m\u001b[0m\u001b[0m\n\u001b[1;32m    471\u001b[0m     \u001b[0;32mdef\u001b[0m \u001b[0mopen_data\u001b[0m\u001b[0;34m(\u001b[0m\u001b[0mself\u001b[0m\u001b[0;34m,\u001b[0m \u001b[0mdata_id\u001b[0m\u001b[0;34m:\u001b[0m \u001b[0mstr\u001b[0m\u001b[0;34m,\u001b[0m \u001b[0mopener_id\u001b[0m\u001b[0;34m:\u001b[0m \u001b[0mstr\u001b[0m \u001b[0;34m=\u001b[0m \u001b[0;32mNone\u001b[0m\u001b[0;34m,\u001b[0m \u001b[0;34m**\u001b[0m\u001b[0mopen_params\u001b[0m\u001b[0;34m)\u001b[0m \u001b[0;34m->\u001b[0m \u001b[0mxr\u001b[0m\u001b[0;34m.\u001b[0m\u001b[0mDataset\u001b[0m\u001b[0;34m:\u001b[0m\u001b[0;34m\u001b[0m\u001b[0;34m\u001b[0m\u001b[0m\n\u001b[0;32m--> 472\u001b[0;31m         \u001b[0;32mreturn\u001b[0m \u001b[0mself\u001b[0m\u001b[0;34m.\u001b[0m\u001b[0m_get_opener\u001b[0m\u001b[0;34m(\u001b[0m\u001b[0mopener_id\u001b[0m\u001b[0;34m=\u001b[0m\u001b[0mopener_id\u001b[0m\u001b[0;34m)\u001b[0m\u001b[0;34m.\u001b[0m\u001b[0mopen_data\u001b[0m\u001b[0;34m(\u001b[0m\u001b[0mdata_id\u001b[0m\u001b[0;34m,\u001b[0m \u001b[0;34m**\u001b[0m\u001b[0mopen_params\u001b[0m\u001b[0;34m)\u001b[0m\u001b[0;34m\u001b[0m\u001b[0;34m\u001b[0m\u001b[0m\n\u001b[0m\u001b[1;32m    473\u001b[0m \u001b[0;34m\u001b[0m\u001b[0m\n\u001b[1;32m    474\u001b[0m     \u001b[0;31m#############################################################################\u001b[0m\u001b[0;34m\u001b[0m\u001b[0;34m\u001b[0m\u001b[0;34m\u001b[0m\u001b[0m\n",
      "\u001b[0;32m~/pycciv30/lib/python3.9/site-packages/xcube_cci/dataaccess.py\u001b[0m in \u001b[0;36mopen_data\u001b[0;34m(self, data_id, **open_params)\u001b[0m\n\u001b[1;32m    247\u001b[0m             \u001b[0mchunk_store\u001b[0m \u001b[0;34m=\u001b[0m \u001b[0mzarr\u001b[0m\u001b[0;34m.\u001b[0m\u001b[0mLRUStoreCache\u001b[0m\u001b[0;34m(\u001b[0m\u001b[0mchunk_store\u001b[0m\u001b[0;34m,\u001b[0m \u001b[0mmax_cache_size\u001b[0m\u001b[0;34m)\u001b[0m\u001b[0;34m\u001b[0m\u001b[0;34m\u001b[0m\u001b[0m\n\u001b[1;32m    248\u001b[0m         \u001b[0mds\u001b[0m \u001b[0;34m=\u001b[0m \u001b[0mxr\u001b[0m\u001b[0;34m.\u001b[0m\u001b[0mopen_zarr\u001b[0m\u001b[0;34m(\u001b[0m\u001b[0mchunk_store\u001b[0m\u001b[0;34m)\u001b[0m\u001b[0;34m\u001b[0m\u001b[0;34m\u001b[0m\u001b[0m\n\u001b[0;32m--> 249\u001b[0;31m         \u001b[0mds\u001b[0m \u001b[0;34m=\u001b[0m \u001b[0mself\u001b[0m\u001b[0;34m.\u001b[0m\u001b[0m_normalize_dataset\u001b[0m\u001b[0;34m(\u001b[0m\u001b[0mds\u001b[0m\u001b[0;34m,\u001b[0m \u001b[0mcci_schema\u001b[0m\u001b[0;34m,\u001b[0m \u001b[0;34m**\u001b[0m\u001b[0mopen_params\u001b[0m\u001b[0;34m)\u001b[0m\u001b[0;34m\u001b[0m\u001b[0;34m\u001b[0m\u001b[0m\n\u001b[0m\u001b[1;32m    250\u001b[0m         \u001b[0;32mreturn\u001b[0m \u001b[0mds\u001b[0m\u001b[0;34m\u001b[0m\u001b[0;34m\u001b[0m\u001b[0m\n\u001b[1;32m    251\u001b[0m \u001b[0;34m\u001b[0m\u001b[0m\n",
      "\u001b[0;32m~/pycciv30/lib/python3.9/site-packages/xcube_cci/dataaccess.py\u001b[0m in \u001b[0;36m_normalize_dataset\u001b[0;34m(self, ds, cci_schema, **open_params)\u001b[0m\n\u001b[1;32m    295\u001b[0m     \u001b[0;32mdef\u001b[0m \u001b[0m_normalize_dataset\u001b[0m\u001b[0;34m(\u001b[0m\u001b[0mself\u001b[0m\u001b[0;34m,\u001b[0m \u001b[0mds\u001b[0m\u001b[0;34m:\u001b[0m \u001b[0mxr\u001b[0m\u001b[0;34m.\u001b[0m\u001b[0mDataset\u001b[0m\u001b[0;34m,\u001b[0m \u001b[0mcci_schema\u001b[0m\u001b[0;34m:\u001b[0m \u001b[0mJsonObjectSchema\u001b[0m\u001b[0;34m,\u001b[0m \u001b[0;34m**\u001b[0m\u001b[0mopen_params\u001b[0m\u001b[0;34m)\u001b[0m\u001b[0;31m \u001b[0m\u001b[0;31m\\\u001b[0m\u001b[0;34m\u001b[0m\u001b[0;34m\u001b[0m\u001b[0m\n\u001b[1;32m    296\u001b[0m             \u001b[0;34m->\u001b[0m \u001b[0mxr\u001b[0m\u001b[0;34m.\u001b[0m\u001b[0mDataset\u001b[0m\u001b[0;34m:\u001b[0m\u001b[0;34m\u001b[0m\u001b[0;34m\u001b[0m\u001b[0m\n\u001b[0;32m--> 297\u001b[0;31m         \u001b[0mds\u001b[0m \u001b[0;34m=\u001b[0m \u001b[0mcubify_dataset\u001b[0m\u001b[0;34m(\u001b[0m\u001b[0mds\u001b[0m\u001b[0;34m)\u001b[0m\u001b[0;34m\u001b[0m\u001b[0;34m\u001b[0m\u001b[0m\n\u001b[0m\u001b[1;32m    298\u001b[0m         \u001b[0;32mreturn\u001b[0m \u001b[0mds\u001b[0m\u001b[0;34m\u001b[0m\u001b[0;34m\u001b[0m\u001b[0m\n\u001b[1;32m    299\u001b[0m \u001b[0;34m\u001b[0m\u001b[0m\n",
      "\u001b[0;32m~/pycciv30/lib/python3.9/site-packages/xcube/core/normalize.py\u001b[0m in \u001b[0;36mcubify_dataset\u001b[0;34m(ds)\u001b[0m\n\u001b[1;32m     46\u001b[0m     \"\"\"\n\u001b[1;32m     47\u001b[0m     \u001b[0mds\u001b[0m \u001b[0;34m=\u001b[0m \u001b[0mnormalize_dataset\u001b[0m\u001b[0;34m(\u001b[0m\u001b[0mds\u001b[0m\u001b[0;34m)\u001b[0m\u001b[0;34m\u001b[0m\u001b[0;34m\u001b[0m\u001b[0m\n\u001b[0;32m---> 48\u001b[0;31m     \u001b[0;32mreturn\u001b[0m \u001b[0massert_cube\u001b[0m\u001b[0;34m(\u001b[0m\u001b[0mds\u001b[0m\u001b[0;34m)\u001b[0m\u001b[0;34m\u001b[0m\u001b[0;34m\u001b[0m\u001b[0m\n\u001b[0m\u001b[1;32m     49\u001b[0m \u001b[0;34m\u001b[0m\u001b[0m\n\u001b[1;32m     50\u001b[0m \u001b[0;34m\u001b[0m\u001b[0m\n",
      "\u001b[0;32m~/pycciv30/lib/python3.9/site-packages/xcube/core/verify.py\u001b[0m in \u001b[0;36massert_cube\u001b[0;34m(dataset, name)\u001b[0m\n\u001b[1;32m     42\u001b[0m         \u001b[0mmessage\u001b[0m \u001b[0;34m+=\u001b[0m \u001b[0;34m\"is not a valid xcube dataset, because:\\n\"\u001b[0m\u001b[0;34m\u001b[0m\u001b[0;34m\u001b[0m\u001b[0m\n\u001b[1;32m     43\u001b[0m         \u001b[0mmessage\u001b[0m \u001b[0;34m+=\u001b[0m \u001b[0;34m\"- \"\u001b[0m \u001b[0;34m+\u001b[0m \u001b[0;34m\";\\n- \"\u001b[0m\u001b[0;34m.\u001b[0m\u001b[0mjoin\u001b[0m\u001b[0;34m(\u001b[0m\u001b[0mreport\u001b[0m\u001b[0;34m)\u001b[0m \u001b[0;34m+\u001b[0m \u001b[0;34m\".\"\u001b[0m\u001b[0;34m\u001b[0m\u001b[0;34m\u001b[0m\u001b[0m\n\u001b[0;32m---> 44\u001b[0;31m         \u001b[0;32mraise\u001b[0m \u001b[0mValueError\u001b[0m\u001b[0;34m(\u001b[0m\u001b[0mmessage\u001b[0m\u001b[0;34m)\u001b[0m\u001b[0;34m\u001b[0m\u001b[0;34m\u001b[0m\u001b[0m\n\u001b[0m\u001b[1;32m     45\u001b[0m \u001b[0;34m\u001b[0m\u001b[0m\n\u001b[1;32m     46\u001b[0m     \u001b[0;32mreturn\u001b[0m \u001b[0mdataset\u001b[0m\u001b[0;34m\u001b[0m\u001b[0;34m\u001b[0m\u001b[0m\n",
      "\u001b[0;31mValueError\u001b[0m: Dataset is not a valid xcube dataset, because:\n- missing spatial x,y coordinate variables."
     ]
    }
   ],
   "source": [
    "#Download a subset based upon region and time constraints\n",
    "withinT=[datetime(2016,1,1),datetime(2018,1,1)]\n",
    "\n",
    "# load the dataset\n",
    "soilDset=open_dataset(ds_id=dataset_id, data_store_id=cci_store, time_range=withinT,normalize=True)\n",
    "#Note if the data has already been downloaded it will not do it again, and this routine will load a lot faster\n"
   ]
  },
  {
   "cell_type": "code",
   "execution_count": 14,
   "metadata": {},
   "outputs": [
    {
     "ename": "NameError",
     "evalue": "name 'soilDset' is not defined",
     "output_type": "error",
     "traceback": [
      "\u001b[0;31m---------------------------------------------------------------------------\u001b[0m",
      "\u001b[0;31mNameError\u001b[0m                                 Traceback (most recent call last)",
      "\u001b[0;32m<ipython-input-14-998e87502e01>\u001b[0m in \u001b[0;36m<module>\u001b[0;34m\u001b[0m\n\u001b[0;32m----> 1\u001b[0;31m \u001b[0msoilDset\u001b[0m\u001b[0;34m\u001b[0m\u001b[0;34m\u001b[0m\u001b[0m\n\u001b[0m",
      "\u001b[0;31mNameError\u001b[0m: name 'soilDset' is not defined"
     ]
    }
   ],
   "source": [
    "soilDset"
   ]
  },
  {
   "cell_type": "markdown",
   "metadata": {},
   "source": [
    "# Step 4 Once we have downloaded the data let's check what we actually got"
   ]
  },
  {
   "cell_type": "markdown",
   "metadata": {},
   "source": [
    "# Step 5 Let's create monthly aggregates of the data\n",
    "The data is provided as daily values but for our exercise we would like to create monthly averages (STEP 2 in the workflow). For this we can use the [Cate routine `temporal_aggregation (..)`] (https://cate.readthedocs.io/en/latest/api_reference.html?highlight=aggregation#cate.ops.temporal_aggregation)"
   ]
  },
  {
   "cell_type": "code",
   "execution_count": null,
   "metadata": {},
   "outputs": [],
   "source": [
    "smMonDset=ops.temporal_aggregation(ds=soilDset,method=\"mean\",period=\"MS\")\n",
    "\n",
    "# select the first time slice of variable \"sm\" and make a quick and dirty plot (using the xarray routine plot())\n",
    "p = smMonDset.sm.isel(time=[0]).plot(transform=ccrs.PlateCarree(),subplot_kws={\"projection\": mapproj})\n",
    "p.axes.coastlines()"
   ]
  },
  {
   "cell_type": "markdown",
   "metadata": {},
   "source": [
    "## Questions\n",
    "1. Try selecting different time slices. \n",
    "2. Do you see a general difference between winter and summer?\n",
    "3. Considering that this is Volumetric Soil Moisture, what does a SM value of 0.25 physically mean?"
   ]
  },
  {
   "cell_type": "markdown",
   "metadata": {},
   "source": [
    "# Step 6 To identify drought periods we now want to compute the so called *Soil moisture deficit index SMDI*\n",
    "\n",
    "From the soil moisture we will compute a related severity drought index Soil moisture deficit index (SMDI) \n",
    "\n",
    "The SMDI method is defined in STEPS 3, 4 and 5 of figure 2. It is a solution where the soil moisture of the previous month (j-1) is used to calculate the SMDI of the actual month (j). A loop is used to cover the whole series. \n",
    "\n",
    "**Variables**\n",
    "\n",
    "1. ${SMDI}_j$= soil moisture deficit index of the month j\n",
    "2. ${SMDI}_{j-1}$= SMDI at month j-1 (previous month) \n",
    "3. $SD_j$ = monthly soil deficit at month j  \n",
    "4. $SW_j$ = actual monthly soil moisture at month j.The is the soil moiture map corresponding to a certain map\n",
    "5. $MSW_j$= long-term monthly **median** available soil water at month j. There will be 12 maps, one per month.\n",
    "6. $maxSW_j$= long-term monthly **maximum** available soil water at month j. There will be 12 maps, one per month.\n",
    "7. $minSW_j$ = long-term monthly **minimum** available soil water at month j. There will be 12 maps, one per month.\n",
    "8. NOTE: $_j-1$ stands for the month previous to month j.\n",
    "\n",
    "The sequence of the equations are:\n",
    "\n",
    "1. Calculate: $MSW_j$, $maxSW_j$, $minSW_j$\n",
    "2. Calculate the monthly soil deficit for the month j\n",
    "$$SD_j = (SW_j – MSW_j)/(maxSW_j – SW_j) *100,\\quad  if SWj > MSWj$$ \n",
    "$$SD_j= (SW_j – MSW_j)/(MSW_j – minSW_j)* 100,\\quad  if SW_j =< MSW_j$$ \n",
    "3. Calculate the soil moisture deficit index dor the month 1 (estimated and initial value)\n",
    "$SMDI_1 = SD_1/50$  for initial month \n",
    "4. Calculate the soil moistiure deficit index for all the other months\n",
    "$${SMDI}_j= 0.5 * {SMDI}_{j-1}+SD_j/50$$\n",
    "\n",
    "A SMDI value ranges from -4 to 4 being the negatives indicators of drought. Persistant drought can be detected by monthly accumulation of negatives SMDI giving room to a number of analysis."
   ]
  },
  {
   "cell_type": "code",
   "execution_count": null,
   "metadata": {},
   "outputs": [],
   "source": [
    "# get the median, min and max for all Jan's, Feb's etc.\n",
    "# we make use of xarray groupby functionality to group the data in months and precompute the median,max and min\n",
    "smClim=smMonDset.sm.groupby(\"time.month\")\n",
    "\n",
    "#print(smClim) # uncomment to get additional info\n",
    "\n",
    "smMed=smClim.median()\n",
    "smMin=smClim.min()\n",
    "smMax=smClim.max()"
   ]
  },
  {
   "cell_type": "code",
   "execution_count": null,
   "metadata": {},
   "outputs": [],
   "source": [
    "# compute the monthly soil moisture deficit according to Gabi's exercise (note: we split up the computation of SD and SDMI, which will computed later)\n",
    "\n",
    "# allocate enough data to hold the result (create an xarray.DataArray, and copy the coordinate axes lon,lat,time from the orginal dataset)\n",
    "# smd = xr.DataArray(np.zeros(smMonDset.sm.shape),name=\"smd_indx\",dims=[\"time\",\"lat\",\"lon\"],coords={\"lon\":smMonDset.lon,\"lat\":smMonDset.lat,\"time\":smMonDset.time})\n",
    "\n",
    "#Allocate the Soil Moisture deficit index\n",
    "smdIndex = xr.DataArray(np.zeros(smMonDset.sm.shape),name=\"smd_indx\",dims=[\"time\",\"lat\",\"lon\"],coords={\"lon\":smMonDset.lon,\"lat\":smMonDset.lat,\"time\":smMonDset.time})\n",
    "\n",
    "for i,dt in enumerate(smMonDset.time.to_pandas()):\n",
    "    #Monthly anomaly w.r.t. long term climatological median\n",
    "    print(\"Compute Soil moisture deficit for %d, %s\"%(i,str(dt)),end='\\r')\n",
    "    dSm=smMonDset.sm[i,:,:]-smMed[dt.month-1,:,:]\n",
    "    smMed_m_min=smMed[dt.month-1,:,:]-smMin[dt.month-1,:,:]\n",
    "    smMax_m_med=smMax[dt.month-1,:,:]-smMed[dt.month-1,:,:]\n",
    "    smd=100*xr.where(dSm < 0,dSm/smMed_m_min,dSm/smMax_m_med)\n",
    "    if i == 0:\n",
    "        smdIndex[i,:,:]=smd/50\n",
    "    else:\n",
    "        smdIndex[i,:,:]=0.5*smdIndex[i-1,:,:]+smd/50   "
   ]
  },
  {
   "cell_type": "markdown",
   "metadata": {},
   "source": [
    "# Step 7 Results analysis\n"
   ]
  },
  {
   "cell_type": "code",
   "execution_count": null,
   "metadata": {},
   "outputs": [],
   "source": [
    "## average over the whole NL\n",
    "\n",
    "#smdIndexMS=xr.DataArray(np.zeros(48))\n",
    "\n",
    "#for i,dt in enumerate(smMonDset.time.to_pandas()):\n",
    "#    #Monthly anomaly w.r.t. long term climatological median\n",
    "#    smdIndexMS[i]=smdIndex[i,:,:].mean()   \n",
    "\n",
    "#a_file = open(\"NL_meanSMDI_2016-2019.txt.txt\", \"w\")\n",
    "#np.savetxt(a_file, smdIndexMS)\n",
    "\n",
    "#a_file.close()\n",
    "\n",
    "\n",
    "# create a simple time series plot of a location\n",
    "plt.figure()\n",
    "ilon=9.0\n",
    "ilat=52.0\n",
    "ploc=smdIndex.sel(lat=ilat,lon=ilon,method=\"nearest\").plot()\n"
   ]
  },
  {
   "cell_type": "code",
   "execution_count": null,
   "metadata": {},
   "outputs": [],
   "source": [
    "# create a geographical plot at a certain month\n",
    "it=31\n",
    "epoch=smdIndex.time[it].data\n",
    "print(\"Plotting epoch %s\"%str(epoch))\n",
    "ax = plt.subplot(projection=mapproj)\n",
    "p = smdIndex.sel(time=epoch).plot(ax=ax,transform=ccrs.PlateCarree())\n",
    "#also plot the location relevant for the plot above\n",
    "ax.scatter([ilon],[ilat],transform=ccrs.PlateCarree(),color=\"red\")\n",
    "p.axes.coastlines()\n",
    "p.axes.set_title(\"Soil moisture deficit index at %s\"%(str(epoch)[:10]))\n"
   ]
  },
  {
   "cell_type": "markdown",
   "metadata": {},
   "source": [
    "## Questions\n",
    "\n",
    "1. You can change the location of the time series. Can you find a location which was severely affected by the 2018 drought?\n",
    "2. Try changing the month in the geographical plot to a wet and dry month. Explain the differences.\n",
    "3. Could you identify a period of consecutive negative values of SMDI indicating a severe persistant drought?\n",
    "4. Do an online search for drought indicators, can you find other types of drought indicators? What data do they ingest?\n",
    "\n",
    "## Bonus Programming Question (for the python fans)\n",
    "1. Instead of looking at a single point, can you try to average the SMDI over a region (e.g. select a set of neighbouring gridpoints), and plot that one instead?\n",
    "2. Try making a matplotlib animation of the SMDI over time\n",
    "\n",
    "\n"
   ]
  }
 ],
 "metadata": {
  "kernelspec": {
   "display_name": "pycciv30",
   "language": "python",
   "name": "pycciv30"
  },
  "language_info": {
   "codemirror_mode": {
    "name": "ipython",
    "version": 3
   },
   "file_extension": ".py",
   "mimetype": "text/x-python",
   "name": "python",
   "nbconvert_exporter": "python",
   "pygments_lexer": "ipython3",
   "version": "3.9.6"
  }
 },
 "nbformat": 4,
 "nbformat_minor": 4
}
