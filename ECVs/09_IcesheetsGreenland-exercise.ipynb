{
 "cells": [
  {
   "cell_type": "markdown",
   "metadata": {},
   "source": [
    "<img src=\"media/Cryo+ESA_Logo_plain-50gray.svg\" alt=\"CCI Cryosphere banner\" width=\"1000\"/>"
   ]
  },
  {
   "cell_type": "markdown",
   "metadata": {},
   "source": [
    "# Exercise: Greenland mass change from satellite gravimetry\n",
    "\n",
    "The Gravity Recovery and Climate Experiment (GRACE, and it's follow-on GRACE-FO), [have the unique ability to 'weigh' the ice sheets from space](https://earth.esa.int/eogateway/missions/grace). The satellite mission uses the principle that satellite orbits are affected by gravitational changes of the Earth. In reversal, a very accurate tracking of the satellite orbits over time allows the determination of mass changes on the Earth.\n",
    "\n",
    "In this exercise we download and visualize a GRACE CCI product of ice mass change using cate. After the exercise you'll have an idea of the current imbalance of the Greenland icesheet and see where the icesheet is losing mass.\n",
    "\n",
    "## Preparations\n",
    "If you haven't done so please follow the [Cate tutorial](https://www.futurelearn.com/courses/understanding-climate-change-using-satellite-climate-data/1/steps/1230976) to get started using the Jupyter notebook exercises.\n",
    "\n",
    "## Cate software and the open data portal\n",
    "\n",
    "We'll be querying the open data portal for sea ice concentration products as produced by the [Climate Change Initiative Sea Ice project](https://climate.esa.int/en/projects/sea-ice/). The [**open data portal**](https://climate.esa.int/en/odp/#/dashboard) hosts a variety of datasets on the [Jasmin infrastructure on the UK](https://jasmin.ac.uk/). These can be queried using the dedicated [Cate python module](https://cate.readthedocs.io/en/latest/). Cate allows retrieving data from the data portal and the web-interface which you find at [cate.climate.esa.int](https://cate.climate.esa.int) is build upon it.\n",
    "\n",
    "In this Jupyter notebook exercise we will directly call Cate functions, and it will show you how these can be used in advanced workflows.\n",
    "\n",
    "## Starting the exercise\n",
    "To perform the exercise and execute the code in this notebook you can run it through the [mybinder.org](https://mybinder.org/) service by clicking on the binder link below (if resources allow it). Alternatively, you can download/clone the notebooks from [github](https://github.com/CCI-Tools/cate-edu) and run them through your own Jupyter notebook instance (this may initially take more time to setup, but does allow you to store your changes and extend the notebooks exercises to your own needs).\n",
    "\n",
    "[![click to run this notebook on mybinder.org](https://mybinder.org/badge_logo.svg)](https://mybinder.org/v2/gh/CCI-Tools/cate-edu/HEAD?filepath=ECVs%2F09_IcesheetsGreenland-exercise.ipynb)\n",
    "\n",
    "or [clone the notebook repository on github](https://github.com/CCI-Tools/cate-edu)"
   ]
  },
  {
   "cell_type": "markdown",
   "metadata": {},
   "source": [
    "## Step 1: loading python modules and initialize the data store pool"
   ]
  },
  {
   "cell_type": "code",
   "execution_count": 1,
   "metadata": {},
   "outputs": [],
   "source": [
    "# To get things started we need to initialize a few things\n",
    "#Load some python modules to make them accessible to the notebook\n",
    "from cate.core.ds import DATA_STORE_POOL\n",
    "import cate.ops as ops\n",
    "from cate.util.monitor import ConsoleMonitor\n",
    "from cate.core.ds import get_metadata_from_descriptor\n",
    "from cate.ops.io import open_dataset\n",
    "\n",
    "# the following is needed to run Cate in a Jupyter Notebook\n",
    "from xcube.util.ipython import enable_asyncio\n",
    "enable_asyncio()\n",
    "\n",
    "# utilities\n",
    "from IPython.display import display\n",
    "import numpy as np\n",
    "from datetime import datetime\n",
    "\n",
    "monitor = ConsoleMonitor()"
   ]
  },
  {
   "cell_type": "markdown",
   "metadata": {},
   "source": [
    "To begin, let us see which data stores are available in the Data Store Pool."
   ]
  },
  {
   "cell_type": "code",
   "execution_count": 2,
   "metadata": {},
   "outputs": [
    {
     "data": {
      "text/plain": [
       "['cci-store', 'cci-zarr-store', 'local']"
      ]
     },
     "execution_count": 2,
     "metadata": {},
     "output_type": "execute_result"
    }
   ],
   "source": [
    "DATA_STORE_POOL.store_instance_ids"
   ]
  },
  {
   "cell_type": "markdown",
   "metadata": {},
   "source": [
    "We see three different stores. \n",
    "\n",
    "The **cci-store** is a store that provides access to all datasets from the CCI Open Data Portal. It connects to the Open Data Portal and allows access to the datasets listed at https://catalogue.ceda.ac.uk. We can ask for the search parameters of the store to see how a search can be performed.\n",
    "\n",
    "The **cci-zarr-store** is a store that contains selected data from the Open Data Portal, converted to the [zarr format](https://zarr.readthedocs.io/en/stable/). The datasets from this store can be opened and processed faster, but the store provides only a small subset of what is offered by the **cci-store**. \n",
    "\n",
    "The **local** data store finally allows to access locally provided data. Also, when you select to cache data, you will find it in this store. Cached data can also be opened quickly.\n",
    "\n",
    "This notebook will allow you to try out both the *cci-zarr-store* and the *cci-store*. Just uncomment/comment the appropriate `cci_store` variable below."
   ]
  },
  {
   "cell_type": "code",
   "execution_count": 3,
   "metadata": {},
   "outputs": [
    {
     "data": {
      "application/json": {
       "additionalProperties": false,
       "properties": {
        "bbox": {
         "items": [
          {
           "type": "number"
          },
          {
           "type": "number"
          },
          {
           "type": "number"
          },
          {
           "type": "number"
          }
         ],
         "type": "array"
        },
        "data_type": {
         "enum": [
          "AEX",
          "WB",
          "SITHICK",
          "MSL",
          "SICONC",
          "SSTskin",
          "K_490",
          "AGB",
          "SEC",
          "BA",
          "IV",
          "GTD",
          "SCFV",
          "GLL",
          "MSLAMPH",
          "LK_PRODUCTS",
          "MSLTR",
          "AER_PRODUCTS",
          "TC",
          "ALT",
          "PFR",
          "SSMV",
          "CO2",
          "SSMS",
          "SCFG",
          "IOP",
          "SSS",
          "RRS",
          "CLD_PRODUCTS",
          "CHLOR_A",
          "OC_PRODUCTS",
          "SWH",
          "SSTdepth",
          "AOD",
          "CH4",
          "GMB",
          "AAI",
          "SWE",
          "CFL",
          "LP",
          "MSLA",
          "NP",
          "LCCS"
         ],
         "type": "string"
        },
        "ecv": {
         "enum": [
          "LAKES",
          "ICESHEETS",
          "SEALEVEL",
          "SEAICE",
          "PERMAFROST",
          "BIOMASS",
          "SST",
          "FIRE",
          "SEASURFACESALINITY",
          "GHG",
          "SOILMOISTURE",
          "OZONE",
          "SEASTATE",
          "LC",
          "OC",
          "SNOW",
          "AEROSOL",
          "CLOUD"
         ],
         "type": "string"
        },
        "end_date": {
         "format": "date-time",
         "type": "string"
        },
        "frequency": {
         "enum": [
          "climatology",
          "satellite-orbit-frequency",
          "15 days",
          "unspecified",
          "5 days",
          "day",
          "13 years",
          "month",
          "8 days",
          "year"
         ],
         "type": "string"
        },
        "institute": {
         "enum": [
          "Plymouth Marine Laboratory",
          "Alfred-Wegener-Institut Helmholtz-Zentrum für Polar- und Meeresforschung",
          "ENVironmental Earth Observation IT GmbH",
          "multi-institution",
          "DTU Space",
          "Vienna University of Technology",
          "Deutscher Wetterdienst",
          "Netherlands Institute for Space Research",
          "Technische Universität Dresden",
          "Institute of Environmental Physics",
          "Rutherford Appleton Laboratory",
          "Universite Catholique de Louvain",
          "University of Alcala",
          "University of Leicester",
          "Norwegian Meteorological Institute",
          "University of Bremen",
          "Belgian Institute for Space Aeronomy",
          "Deutsches Zentrum fuer Luft- und Raumfahrt",
          "Freie Universitaet Berlin",
          "Royal Netherlands Meteorological Institute",
          "The Geological Survey of Denmark and Greenland"
         ],
         "type": "string"
        },
        "platform": {
         "enum": [
          "Sentinel-2A",
          "Terra",
          "NOAA-14",
          "Aqua",
          "NOAA-11",
          "Unspecified",
          "GRACE",
          "Jason-2",
          "Topex-Poseidon",
          "Jason-1",
          "Envisat",
          "Sentinel-1A",
          "NOAA-16",
          "SARAL",
          "NOAA-9",
          "OCO-2",
          "NOAA-15",
          "multi-platform",
          "GFO",
          "NOAA-19",
          "ODIN",
          "Sentinel-5P",
          "ERS-2",
          "GOSAT",
          "RadarSat-2",
          "NOAA-17",
          "ERS-1",
          "NOAA-12",
          "Metop-A",
          "ALOS",
          "NOAA-18",
          "NOAA-7",
          "Jason-3",
          "CryoSat-2"
         ],
         "type": "string"
        },
        "processing_level": {
         "enum": [
          "L2",
          "IND",
          "Unspecified",
          "L3S",
          "L3C",
          "L4",
          "L3U",
          "L2P",
          "L3"
         ],
         "type": "string"
        },
        "product_string": {
         "enum": [
          "MZM",
          "AATSR-ENVISAT-ENS",
          "MODIS_AQUA",
          "ATSR2-ENVISAT-ENS_ANNUAL",
          "Envisat",
          "MERIS_ENVISAT",
          "ATSR2-AATSR",
          "ORAC",
          "AATSR",
          "MULTI_1D",
          "SRFP",
          "ADV",
          "AVHRR11_G",
          "AVHRR16_G",
          "ATSR2-ENVISAT-ENS_DAILY",
          "Jason-3",
          "SCIAMACHY_ENVISAT",
          "NH25KMEASE2",
          "EMMA",
          "AVHRRMTA_G",
          "AMSR_50kmEASE2",
          "PASSIVE",
          "MODIS_TERRA",
          "Topex-Poseidon",
          "Jason-1",
          "AVHRR15_G",
          "AVHRR-PM",
          "OCFP",
          "GMPE",
          "GOMOS_ENVISAT",
          "MERIS-AATSR",
          "AVHRR19_G",
          "AVHRR12_G",
          "MODISLST_CRYOGRID",
          "AMSR_25kmEASE2",
          "ERA5_MODISLST_BIASCORRECTED",
          "OSIRIS_ODIN",
          "SRPR",
          "MIPAS_ENVISAT",
          "COMBINED",
          "AVHRR09_G",
          "WFMD",
          "AVHRR17_G",
          "MSI",
          "UNSPECIFIED",
          "NH",
          "AATSR-ENVISAT-ENS_DAILY",
          "AATSR-ENVISAT-ENS_MONTHLY",
          "BESD",
          "AVHRR07_G",
          "SU",
          "SMR_ODIN",
          "OSTIA",
          "AVHRR18_G",
          "MSAAI",
          "AERGOM",
          "FOCAL",
          "MULTI_1M",
          "MERGED",
          "OCPR",
          "Saral",
          "ATSR2-ENVISAT-ENS",
          "VARIOUS",
          "AATSR-ENVISAT-ENS_ANNUAL",
          "SH50KMEASE2",
          "CryoSat-2",
          "ATSR2-ENVISAT-ENS_MONTHLY",
          "Map",
          "ATSR2",
          "Jason-2",
          "AVHRR_MERGED",
          "ATSR1",
          "ACTIVE",
          "AVHRR14_G",
          "IMAP",
          "MERGED_OI_Monthly_CENTRED_15Day_25km",
          "SH",
          "GFO",
          "ERS-2",
          "ERS-1",
          "MERGED_OI_7DAY_RUNNINGMEAN_DAILY_25km",
          "AVHRR-AM"
         ],
         "type": "string"
        },
        "product_version": {
         "enum": [
          "1-2",
          "v06-1",
          "v08",
          "v2-3-8",
          "2-2",
          "v2-2c",
          "1-3",
          "4-0",
          "v1-1",
          "2-0",
          "1-4",
          "v0001",
          "v7-0-1",
          "3-00",
          "03-0",
          "4-2",
          "04-01-",
          "v7-0",
          "v09",
          "v2-6",
          "v05-3",
          "1-1",
          "fv0002",
          "3-1",
          "v2-1",
          "v1-0",
          "2-0-7",
          "3-0",
          "5-0",
          "v3-0",
          "v02-01-02",
          "2-1",
          "v7-2",
          "2-31",
          "04-01_seg-",
          "v5-1",
          "1-5",
          "v2-2a",
          "1-7",
          "1-0",
          "v2-2b",
          "fv0100",
          "05-2",
          "3-21",
          "v1-3",
          "04-01",
          "v1-2",
          "ch4_v1-2",
          "v4-0",
          "4-3"
         ],
         "type": "string"
        },
        "sensor": {
         "enum": [
          "Unspecified",
          "AltiKa",
          "SAR-C-(Sentinel-1)",
          "SCIAMACHY",
          "TROPOMI",
          "AVHRR-3",
          "GFO-RA",
          "Poseidon-3B",
          "SIRAL",
          "AATSR",
          "MIPAS",
          "PALSAR",
          "SMR",
          "SAR-2000",
          "RA",
          "MODIS",
          "RA-2",
          "multi-sensor",
          "AVHRR-2",
          "ATSR",
          "GRACE-instrument",
          "GOMOS",
          "MSI-(Sentinel-2)",
          "SAR-(RadarSat-2)",
          "MERIS",
          "OSIRIS",
          "Poseidon-3",
          "AMI-SAR",
          "OCO",
          "ATSR-2",
          "TANSO-FTS",
          "Poseidon-2",
          "NRA",
          "ASAR"
         ],
         "type": "string"
        },
        "start_date": {
         "format": "date-time",
         "type": "string"
        }
       },
       "type": "object"
      },
      "text/plain": [
       "<xcube.util.jsonschema.JsonObjectSchema at 0x7fbbd30e3400>"
      ]
     },
     "metadata": {},
     "output_type": "display_data"
    }
   ],
   "source": [
    "# uncomment/comment the cci_store variable below to use the \n",
    "# cci_store = 'cci-zarr-store'\n",
    "cci_store = 'cci-store'\n",
    "\n",
    "data_store = DATA_STORE_POOL.get_store(cci_store)\n",
    "display(data_store.get_search_params_schema())\n",
    "\n",
    "if cci_store == 'cci-zarr-store':\n",
    "    #you can also list all the data ids of the smaller zarr catalogue\n",
    "    list(data_store.get_data_ids())"
   ]
  },
  {
   "cell_type": "markdown",
   "metadata": {},
   "source": [
    "## Step 2: Finding ice sheet mass change data\n",
    "For this exercise, we are interested in GRACE data sets, so we ask for datasets of the platform \"GRACE\". We then display the results of the query."
   ]
  },
  {
   "cell_type": "code",
   "execution_count": 4,
   "metadata": {},
   "outputs": [
    {
     "name": "stderr",
     "output_type": "stream",
     "text": [
      "/home/alicja/miniconda3/envs/cate-env/lib/python3.9/site-packages/xcube_cci/cciodp.py:1184: CciOdpWarning: Variable \"crs\" has no fill value, cannot set one. For parts where no data isavailable you will see random values. Thisis usually the case when data is missing for a time step.\n",
      "  warnings.warn(f'Variable \"{fixed_key}\" has no fill value, '\n"
     ]
    },
    {
     "name": "stdout",
     "output_type": "stream",
     "text": [
      "\n",
      "Dataset item 0:\n"
     ]
    },
    {
     "data": {
      "application/json": {
       "attrs": {
        "abstract": "This dataset provides the Gravitational Mass Balance (GMB) product derived from gravimetry data from the GRACE satellite instrument, by TU Dresden.  The data consists of two products: a mass change time series for the entire Greenland Ice Sheet and different drainage basins for the period April 2002 to August 2016; and mass trend grids for different 5-year periods between 2003 and 2016.   This version (1.3) is derived from GRACE monthly solutions from the CSR RL06 product.\n\nThe mass change time series contains the mass change (with respect to a chosen reference month) for all of the Greenland Ice Sheet and each individual drainage basin.  For each month (defined by a decimal year) a mass change in Gt and its associated error (also in Gt) is provided.   The mass trend grid product is given in units of mm water equivalent per year.\n\nMass balance is an important variable to understand glacial thinning and ablation rates to enable mapping glacier area change. The time series allows the longer term comparison of trends whereas the mass trend grids provide a yearly snapshot which can be further analysed and compared across the data set. \n\nBasin definitions and further data descriptions can be found in the Algorithm Theoretical Baseline Document (ST-DTU-ESA-GISCCI-ATBD-001_v3.1.pdf) and Product Specification Document (ST-DTU-ESA-GISCCI-PSD_v2.2.pdf) which are provided on the Greenland Ice Sheet CCI project website. This GMB product has been produced by TU Dresden for comparison with the existing GMB product derived by DTU Space.\n\nPlease cite the dataset as follows: Groh, A., & Horwath, M. (2016). The method of tailored sensitivity kernels for GRACE mass change estimates. Geophysical Research Abstracts, 18, EGU2016-12065",
        "catalog_url": "https://catalogue.ceda.ac.uk/uuid/5970b33c92ef444793fb6d7e54d1230e",
        "cci_project": "ICESHEETS",
        "data_type": "GMB",
        "ecv": "ICESHEETS",
        "institute": "Technische Universität Dresden",
        "licences": "Use of these data is covered by the following licence: http://licences.ceda.ac.uk/image/data_access_condition/esacci_icesheets_greenland_terms_and_conditions.pdf . When using these data you must cite them correctly using the citation given on the CEDA Data Catalogue record.",
        "platform_id": "GRACE",
        "processing_level": "IND",
        "product_string": "VARIOUS",
        "product_version": "1-3",
        "publication_date": "2018-11-28T17:03:31",
        "sensor_id": "GRACE-instrument",
        "title": "ESA Greenland Ice Sheet Climate Change Initiative (Greenland_Ice_Sheet_cci): Greenland Gravimetric Mass Balance from GRACE data (CSR RL06), derived by TU Dresden, v1.3",
        "uuid": "5970b33c92ef444793fb6d7e54d1230e"
       },
       "bbox": [
        -80,
        60,
        -10,
        90
       ],
       "coords": {
        "time": {
         "attrs": {
          "calendar": "proleptic_gregorian",
          "standard_name": "time",
          "units": "seconds since 1970-01-01T00:00:00Z"
         },
         "dims": [
          "time"
         ],
         "dtype": "int64",
         "name": "time"
        },
        "time_bnds": {
         "attrs": {
          "calendar": "proleptic_gregorian",
          "standard_name": "time_bnds",
          "units": "seconds since 1970-01-01T00:00:00Z"
         },
         "dims": [
          "time",
          "bnds"
         ],
         "dtype": "int64",
         "name": "time_bnds"
        }
       },
       "crs": "WGS84",
       "data_id": "esacci.ICESHEETS.mon.IND.GMB.GRACE-instrument.GRACE.VARIOUS.1-3.greenland_gmb_time_series",
       "data_type": "dataset",
       "dims": {
        "bnds": 2,
        "time": 19
       },
       "open_params_schema": {
        "additionalProperties": false,
        "properties": {
         "bbox": {
          "items": [
           {
            "maximum": -10,
            "minimum": -80,
            "type": "number"
           },
           {
            "maximum": 90,
            "minimum": 60,
            "type": "number"
           },
           {
            "maximum": -10,
            "minimum": -80,
            "type": "number"
           },
           {
            "maximum": 90,
            "minimum": 60,
            "type": "number"
           }
          ],
          "type": "array"
         },
         "normalize_data": {
          "default": true,
          "type": "boolean"
         },
         "time_range": {
          "items": [
           {
            "format": "date",
            "maxDate": "2016-08-31",
            "minDate": "2002-03-31",
            "type": "string"
           },
           {
            "format": "date",
            "maxDate": "2016-08-31",
            "minDate": "2002-03-31",
            "type": "string"
           }
          ],
          "type": "array"
         },
         "variable_names": {
          "items": {
           "type": "string"
          },
          "type": "array"
         }
        },
        "type": "object"
       },
       "time_period": "1M",
       "time_range": [
        "2002-03-31",
        "2016-08-31"
       ]
      },
      "text/plain": [
       "<xcube.core.store.descriptor.DatasetDescriptor at 0x7fbbd30e3a30>"
      ]
     },
     "metadata": {},
     "output_type": "display_data"
    },
    {
     "name": "stdout",
     "output_type": "stream",
     "text": [
      "\n",
      "Dataset item 1:\n"
     ]
    },
    {
     "data": {
      "application/json": {
       "attrs": {
        "abstract": "This dataset provides the Gravitational Mass Balance (GMB) product derived from gravimetry data from the GRACE satellite instrument, by TU Dresden.  The data consists of two products: a mass change time series for the entire Greenland Ice Sheet and different drainage basins for the period April 2002 to August 2016; and mass trend grids for different 5-year periods between 2003 and 2016.   This version (1.2) is derived from GRACE monthly solutions provided by TU Graz (ITSG-Grace 2016)\n\nThe mass change time series contains the mass change (with respect to a chosen reference month) for all of the Greenland Ice Sheet and each individual drainage basin.  For each month (defined by a decimal year) a mass change in Gt and its associated error (also in Gt) is provided.   The mass trend grid product is given in units of mm water equivalent per year.\n\nMass balance is an important variable to understand glacial thinning and ablation rates to enable mapping glacier area change. The time series allows the longer term comparison of trends whereas the mass trend grids provide a yearly snapshot which can be further analysed and compared across the data set. \n\nBasin definitions and further data descriptions can be found in the Algorithm Theoretical Baseline Document (ST-DTU-ESA-GISCCI-ATBD-001_v3.1.pdf) and Product Specification Document (ST-DTU-ESA-GISCCI-PSD_v2.2.pdf) which are provided on the Greenland Ice Sheet CCI project website. This GMB product has been produced by TU Dresden for comparison with the existing GMB product derived by DTU Space.\n\nPlease cite the dataset as follows: Groh, A., & Horwath, M. (2016). The method of tailored sensitivity kernels for GRACE mass change estimates. Geophysical Research Abstracts, 18, EGU2016-12065",
        "catalog_url": "https://catalogue.ceda.ac.uk/uuid/b017235a8e544d6fbad21387ebfbf0d8",
        "cci_project": "ICESHEETS",
        "data_type": "GMB",
        "ecv": "ICESHEETS",
        "institute": "Technische Universität Dresden",
        "licences": "Use of these data is covered by the following licence: http://licences.ceda.ac.uk/image/data_access_condition/esacci_icesheets_greenland_terms_and_conditions.pdf . When using these data you must cite them correctly using the citation given on the CEDA Data Catalogue record.",
        "platform_id": "GRACE",
        "processing_level": "Unspecified",
        "product_string": "UNSPECIFIED",
        "product_version": "1-2",
        "project": "Greenland_Ice_Sheet_cci",
        "publication_date": "2018-11-28T16:59:20",
        "sensor_id": "GRACE-instrument",
        "source": "GRACE monthly solutions provided by TU Graz (ITSG-Grace2016)",
        "title": "ESA Greenland Ice Sheet Climate Change Initiative (Greenland_Ice_Sheet_cci): Greenland Gravimetric Mass Balance from GRACE data, derived by TU Dresden, v1.2",
        "uuid": "b017235a8e544d6fbad21387ebfbf0d8"
       },
       "bbox": [
        -80,
        60,
        -10,
        90
       ],
       "coords": {
        "latitude": {
         "attrs": {
          "chunk_sizes": 724,
          "data_type": "float64",
          "dimensions": [
           "meas_ind"
          ],
          "file_chunk_sizes": 724,
          "file_dimensions": [
           "meas_ind"
          ],
          "fill_value": null,
          "long_name": "latitude",
          "orig_data_type": "float64",
          "shape": [
           724
          ],
          "size": 724,
          "standard_name": "latitude",
          "units": "degrees_north"
         },
         "dims": [
          "meas_ind"
         ],
         "dtype": "float64",
         "name": "latitude"
        },
        "longitude": {
         "attrs": {
          "chunk_sizes": 724,
          "data_type": "float64",
          "dimensions": [
           "meas_ind"
          ],
          "file_chunk_sizes": 724,
          "file_dimensions": [
           "meas_ind"
          ],
          "fill_value": null,
          "long_name": "longitude",
          "orig_data_type": "float64",
          "shape": [
           724
          ],
          "size": 724,
          "standard_name": "longitude",
          "units": "degrees_east"
         },
         "dims": [
          "meas_ind"
         ],
         "dtype": "float64",
         "name": "longitude"
        },
        "time": {
         "attrs": {
          "calendar": "proleptic_gregorian",
          "standard_name": "time",
          "units": "seconds since 1970-01-01T00:00:00Z"
         },
         "dims": [
          "time"
         ],
         "dtype": "int64",
         "name": "time"
        },
        "time_bnds": {
         "attrs": {
          "calendar": "proleptic_gregorian",
          "standard_name": "time_bnds",
          "units": "seconds since 1970-01-01T00:00:00Z"
         },
         "dims": [
          "time",
          "bnds"
         ],
         "dtype": "int64",
         "name": "time_bnds"
        }
       },
       "crs": "\\\"WGS 84\\\"",
       "data_id": "esacci.ICESHEETS.yr.Unspecified.GMB.GRACE-instrument.GRACE.UNSPECIFIED.1-2.greenland_gmb_mass_trends",
       "data_type": "dataset",
       "data_vars": {
        "GMB_trend": {
         "attrs": {
          "chunk_sizes": [
           10,
           724
          ],
          "coordinates": "latitude longitude",
          "data_type": "float64",
          "dimensions": [
           "time",
           "meas_ind"
          ],
          "file_chunk_sizes": [
           10,
           724
          ],
          "file_dimensions": [
           "time",
           "meas_ind"
          ],
          "fill_value": null,
          "long_name": "mass trend for time span",
          "orig_data_type": "float64",
          "shape": [
           10,
           724
          ],
          "size": 7240,
          "source": "GRACE - ITSG-Grace2016",
          "standard_name": "tendency_of_change_in_land_ice_amount",
          "units": "kg m-2 yr-1",
          "units_comments": "kg m-2 yr-1 corresponds to mm water equivalent per year"
         },
         "dims": [
          "time",
          "meas_ind"
         ],
         "dtype": "float64",
         "name": "GMB_trend"
        },
        "crs": {
         "attrs": {
          "DODS": {
           "strlen": 0
          },
          "data_type": "bytes1024",
          "dimensions": [],
          "file_dimensions": [],
          "grid_mapping_name": "latitude_longitude",
          "inverse_flattening": "298.257223563",
          "longitude_of_prime_meridian": "0",
          "orig_data_type": "bytes1024",
          "semi_major_axis": "6378137.",
          "shape": [],
          "size": 1,
          "spatial_ref": "GEOGCS[\\\"WGS 84\\\",DATUM[\\\"WGS_1984\\\",SPHEROID[\\\"WGS 84\\\",6378137,298.257223563,AUTHORITY[\\\"EPSG\\\",\\\"7030\\\"]],AUTHORITY[\\\"EPSG\\\",\\\"6326\\\"]],PRIMEM[\\\"Greenwich\\\",0,AUTHORITY[\\\"EPSG\\\",\\\"8901\\\"]],UNIT[\\\"degree\\\",0.01745329251994328,AUTHORITY[\\\"EPSG\\\",\\\"9122\\\"]],AUTHORITY[\\\"EPSG\\\",\\\"4326\\\"]]"
         },
         "dims": [],
         "dtype": "bytes1024",
         "name": "crs"
        },
        "end_time": {
         "attrs": {
          "chunk_sizes": 10,
          "data_type": "float64",
          "dimensions": [
           "time"
          ],
          "file_chunk_sizes": 10,
          "file_dimensions": [
           "time"
          ],
          "fill_value": null,
          "long_name": "end of time span",
          "orig_data_type": "float64",
          "shape": [
           10
          ],
          "size": 10,
          "units": "days since 2003-01-01 00:00:00"
         },
         "dims": [
          "time"
         ],
         "dtype": "float64",
         "name": "end_time"
        },
        "start_time": {
         "attrs": {
          "chunk_sizes": 10,
          "data_type": "float64",
          "dimensions": [
           "time"
          ],
          "file_chunk_sizes": 10,
          "file_dimensions": [
           "time"
          ],
          "fill_value": null,
          "long_name": "start of time span",
          "orig_data_type": "float64",
          "shape": [
           10
          ],
          "size": 10,
          "units": "days since 2003-01-01 00:00:00"
         },
         "dims": [
          "time"
         ],
         "dtype": "float64",
         "name": "start_time"
        },
        "t": {
         "attrs": {
          "axis": "T",
          "calendar": "gregorian",
          "chunk_sizes": 10,
          "data_type": "float64",
          "dimensions": [
           "time"
          ],
          "file_chunk_sizes": 10,
          "file_dimensions": [
           "time"
          ],
          "fill_value": null,
          "long_name": "average time for time slice",
          "orig_data_type": "float64",
          "shape": [
           10
          ],
          "size": 10,
          "standard_name": "time",
          "units": "days since 2003-01-01 00:00:00"
         },
         "dims": [
          "time"
         ],
         "dtype": "float64",
         "name": "t"
        }
       },
       "dims": {
        "bnds": 2,
        "meas_ind": 724,
        "time": 1200
       },
       "open_params_schema": {
        "additionalProperties": false,
        "properties": {
         "normalize_data": {
          "default": true,
          "type": "boolean"
         },
         "time_range": {
          "items": [
           {
            "format": "date",
            "maxDate": "2016-08-31",
            "minDate": "2002-03-31",
            "type": "string"
           },
           {
            "format": "date",
            "maxDate": "2016-08-31",
            "minDate": "2002-03-31",
            "type": "string"
           }
          ],
          "type": "array"
         },
         "variable_names": {
          "items": {
           "enum": [
            "t",
            "start_time",
            "end_time",
            "GMB_trend",
            "crs"
           ],
           "type": "string"
          },
          "type": "array"
         }
        },
        "type": "object"
       },
       "time_period": "1Y",
       "time_range": [
        "2002-03-31",
        "2016-08-31"
       ]
      },
      "text/plain": [
       "<xcube.core.store.descriptor.DatasetDescriptor at 0x7fbbd2ec6400>"
      ]
     },
     "metadata": {},
     "output_type": "display_data"
    },
    {
     "name": "stdout",
     "output_type": "stream",
     "text": [
      "\n",
      "Dataset item 2:\n"
     ]
    },
    {
     "data": {
      "application/json": {
       "attrs": {
        "abstract": "This dataset provides the Gravitational Mass Balance (GMB) product derived from gravimetry data from the GRACE satellite instrument, by TU Dresden.  The data consists of two products: a mass change time series for the entire Greenland Ice Sheet and different drainage basins for the period April 2002 to August 2016; and mass trend grids for different 5-year periods between 2003 and 2016.   This version (1.2) is derived from GRACE monthly solutions provided by TU Graz (ITSG-Grace 2016)\n\nThe mass change time series contains the mass change (with respect to a chosen reference month) for all of the Greenland Ice Sheet and each individual drainage basin.  For each month (defined by a decimal year) a mass change in Gt and its associated error (also in Gt) is provided.   The mass trend grid product is given in units of mm water equivalent per year.\n\nMass balance is an important variable to understand glacial thinning and ablation rates to enable mapping glacier area change. The time series allows the longer term comparison of trends whereas the mass trend grids provide a yearly snapshot which can be further analysed and compared across the data set. \n\nBasin definitions and further data descriptions can be found in the Algorithm Theoretical Baseline Document (ST-DTU-ESA-GISCCI-ATBD-001_v3.1.pdf) and Product Specification Document (ST-DTU-ESA-GISCCI-PSD_v2.2.pdf) which are provided on the Greenland Ice Sheet CCI project website. This GMB product has been produced by TU Dresden for comparison with the existing GMB product derived by DTU Space.\n\nPlease cite the dataset as follows: Groh, A., & Horwath, M. (2016). The method of tailored sensitivity kernels for GRACE mass change estimates. Geophysical Research Abstracts, 18, EGU2016-12065",
        "catalog_url": "https://catalogue.ceda.ac.uk/uuid/b017235a8e544d6fbad21387ebfbf0d8",
        "cci_project": "ICESHEETS",
        "data_type": "GMB",
        "ecv": "ICESHEETS",
        "institute": "Technische Universität Dresden",
        "licences": "Use of these data is covered by the following licence: http://licences.ceda.ac.uk/image/data_access_condition/esacci_icesheets_greenland_terms_and_conditions.pdf . When using these data you must cite them correctly using the citation given on the CEDA Data Catalogue record.",
        "platform_id": "GRACE",
        "processing_level": "Unspecified",
        "product_string": "UNSPECIFIED",
        "product_version": "1-2",
        "publication_date": "2018-11-28T16:59:20",
        "sensor_id": "GRACE-instrument",
        "title": "ESA Greenland Ice Sheet Climate Change Initiative (Greenland_Ice_Sheet_cci): Greenland Gravimetric Mass Balance from GRACE data, derived by TU Dresden, v1.2",
        "uuid": "b017235a8e544d6fbad21387ebfbf0d8"
       },
       "bbox": [
        -80,
        60,
        -10,
        90
       ],
       "coords": {
        "time": {
         "attrs": {
          "calendar": "proleptic_gregorian",
          "standard_name": "time",
          "units": "seconds since 1970-01-01T00:00:00Z"
         },
         "dims": [
          "time"
         ],
         "dtype": "int64",
         "name": "time"
        },
        "time_bnds": {
         "attrs": {
          "calendar": "proleptic_gregorian",
          "standard_name": "time_bnds",
          "units": "seconds since 1970-01-01T00:00:00Z"
         },
         "dims": [
          "time",
          "bnds"
         ],
         "dtype": "int64",
         "name": "time_bnds"
        }
       },
       "crs": "WGS84",
       "data_id": "esacci.ICESHEETS.yr.Unspecified.GMB.GRACE-instrument.GRACE.UNSPECIFIED.1-2.greenland_gmb_timeseries",
       "data_type": "dataset",
       "dims": {
        "bnds": 2,
        "time": 19
       },
       "open_params_schema": {
        "additionalProperties": false,
        "properties": {
         "bbox": {
          "items": [
           {
            "maximum": -10,
            "minimum": -80,
            "type": "number"
           },
           {
            "maximum": 90,
            "minimum": 60,
            "type": "number"
           },
           {
            "maximum": -10,
            "minimum": -80,
            "type": "number"
           },
           {
            "maximum": 90,
            "minimum": 60,
            "type": "number"
           }
          ],
          "type": "array"
         },
         "normalize_data": {
          "default": true,
          "type": "boolean"
         },
         "time_range": {
          "items": [
           {
            "format": "date",
            "maxDate": "2016-08-31",
            "minDate": "2002-03-31",
            "type": "string"
           },
           {
            "format": "date",
            "maxDate": "2016-08-31",
            "minDate": "2002-03-31",
            "type": "string"
           }
          ],
          "type": "array"
         },
         "variable_names": {
          "items": {
           "type": "string"
          },
          "type": "array"
         }
        },
        "type": "object"
       },
       "time_period": "1Y",
       "time_range": [
        "2002-03-31",
        "2016-08-31"
       ]
      },
      "text/plain": [
       "<xcube.core.store.descriptor.DatasetDescriptor at 0x7fbbd2a76940>"
      ]
     },
     "metadata": {},
     "output_type": "display_data"
    },
    {
     "name": "stdout",
     "output_type": "stream",
     "text": [
      "\n",
      "Dataset item 3:\n"
     ]
    },
    {
     "data": {
      "application/json": {
       "attrs": {
        "abstract": "This dataset provides the Gravitational Mass Balance (GMB) product derived from gravimetry data from the GRACE satellite instrument, by TU Dresden.  The data consists of two products: a mass change time series for the entire Greenland Ice Sheet and different drainage basins for the period April 2002 to August 2016; and mass trend grids for different 5-year periods between 2003 and 2016.   This version (1.3) is derived from GRACE monthly solutions from the CSR RL06 product.\n\nThe mass change time series contains the mass change (with respect to a chosen reference month) for all of the Greenland Ice Sheet and each individual drainage basin.  For each month (defined by a decimal year) a mass change in Gt and its associated error (also in Gt) is provided.   The mass trend grid product is given in units of mm water equivalent per year.\n\nMass balance is an important variable to understand glacial thinning and ablation rates to enable mapping glacier area change. The time series allows the longer term comparison of trends whereas the mass trend grids provide a yearly snapshot which can be further analysed and compared across the data set. \n\nBasin definitions and further data descriptions can be found in the Algorithm Theoretical Baseline Document (ST-DTU-ESA-GISCCI-ATBD-001_v3.1.pdf) and Product Specification Document (ST-DTU-ESA-GISCCI-PSD_v2.2.pdf) which are provided on the Greenland Ice Sheet CCI project website. This GMB product has been produced by TU Dresden for comparison with the existing GMB product derived by DTU Space.\n\nPlease cite the dataset as follows: Groh, A., & Horwath, M. (2016). The method of tailored sensitivity kernels for GRACE mass change estimates. Geophysical Research Abstracts, 18, EGU2016-12065",
        "catalog_url": "https://catalogue.ceda.ac.uk/uuid/5970b33c92ef444793fb6d7e54d1230e",
        "cci_project": "ICESHEETS",
        "data_type": "GMB",
        "ecv": "ICESHEETS",
        "institute": "Technische Universität Dresden",
        "licences": "Use of these data is covered by the following licence: http://licences.ceda.ac.uk/image/data_access_condition/esacci_icesheets_greenland_terms_and_conditions.pdf . When using these data you must cite them correctly using the citation given on the CEDA Data Catalogue record.",
        "platform_id": "GRACE",
        "processing_level": "Unspecified",
        "product_string": "UNSPECIFIED",
        "product_version": "1-3",
        "project": "Greenland_Ice_Sheet_cci",
        "publication_date": "2018-11-28T17:03:31",
        "sensor_id": "GRACE-instrument",
        "source": "GRACE monthly solutions provided by CSR (RL06)",
        "title": "ESA Greenland Ice Sheet Climate Change Initiative (Greenland_Ice_Sheet_cci): Greenland Gravimetric Mass Balance from GRACE data (CSR RL06), derived by TU Dresden, v1.3",
        "uuid": "5970b33c92ef444793fb6d7e54d1230e"
       },
       "bbox": [
        -80,
        60,
        -10,
        90
       ],
       "coords": {
        "latitude": {
         "attrs": {
          "chunk_sizes": 724,
          "data_type": "float64",
          "dimensions": [
           "meas_ind"
          ],
          "file_chunk_sizes": 724,
          "file_dimensions": [
           "meas_ind"
          ],
          "fill_value": null,
          "long_name": "latitude",
          "orig_data_type": "float64",
          "shape": [
           724
          ],
          "size": 724,
          "standard_name": "latitude",
          "units": "degrees_north"
         },
         "dims": [
          "meas_ind"
         ],
         "dtype": "float64",
         "name": "latitude"
        },
        "longitude": {
         "attrs": {
          "chunk_sizes": 724,
          "data_type": "float64",
          "dimensions": [
           "meas_ind"
          ],
          "file_chunk_sizes": 724,
          "file_dimensions": [
           "meas_ind"
          ],
          "fill_value": null,
          "long_name": "longitude",
          "orig_data_type": "float64",
          "shape": [
           724
          ],
          "size": 724,
          "standard_name": "longitude",
          "units": "degrees_east"
         },
         "dims": [
          "meas_ind"
         ],
         "dtype": "float64",
         "name": "longitude"
        },
        "time": {
         "attrs": {
          "calendar": "proleptic_gregorian",
          "standard_name": "time",
          "units": "seconds since 1970-01-01T00:00:00Z"
         },
         "dims": [
          "time"
         ],
         "dtype": "int64",
         "name": "time"
        },
        "time_bnds": {
         "attrs": {
          "calendar": "proleptic_gregorian",
          "standard_name": "time_bnds",
          "units": "seconds since 1970-01-01T00:00:00Z"
         },
         "dims": [
          "time",
          "bnds"
         ],
         "dtype": "int64",
         "name": "time_bnds"
        }
       },
       "crs": "\\\"WGS 84\\\"",
       "data_id": "esacci.ICESHEETS.yr.Unspecified.GMB.GRACE-instrument.GRACE.UNSPECIFIED.1-3.greenland_gmb_mass_trends",
       "data_type": "dataset",
       "data_vars": {
        "GMB_trend": {
         "attrs": {
          "chunk_sizes": [
           10,
           724
          ],
          "coordinates": "latitude longitude",
          "data_type": "float64",
          "dimensions": [
           "time",
           "meas_ind"
          ],
          "file_chunk_sizes": [
           10,
           724
          ],
          "file_dimensions": [
           "time",
           "meas_ind"
          ],
          "fill_value": null,
          "long_name": "mass trend for time span",
          "orig_data_type": "float64",
          "shape": [
           10,
           724
          ],
          "size": 7240,
          "source": "GRACE - CSR RL06",
          "standard_name": "tendency_of_change_in_land_ice_amount",
          "units": "kg m-2 yr-1",
          "units_comments": "kg m-2 yr-1 corresponds to mm water equivalent per year"
         },
         "dims": [
          "time",
          "meas_ind"
         ],
         "dtype": "float64",
         "name": "GMB_trend"
        },
        "crs": {
         "attrs": {
          "DODS": {
           "strlen": 0
          },
          "data_type": "bytes1024",
          "dimensions": [],
          "file_dimensions": [],
          "grid_mapping_name": "latitude_longitude",
          "inverse_flattening": "298.257223563",
          "longitude_of_prime_meridian": "0",
          "orig_data_type": "bytes1024",
          "semi_major_axis": "6378137.",
          "shape": [],
          "size": 1,
          "spatial_ref": "GEOGCS[\\\"WGS 84\\\",DATUM[\\\"WGS_1984\\\",SPHEROID[\\\"WGS 84\\\",6378137,298.257223563,AUTHORITY[\\\"EPSG\\\",\\\"7030\\\"]],AUTHORITY[\\\"EPSG\\\",\\\"6326\\\"]],PRIMEM[\\\"Greenwich\\\",0,AUTHORITY[\\\"EPSG\\\",\\\"8901\\\"]],UNIT[\\\"degree\\\",0.01745329251994328,AUTHORITY[\\\"EPSG\\\",\\\"9122\\\"]],AUTHORITY[\\\"EPSG\\\",\\\"4326\\\"]]"
         },
         "dims": [],
         "dtype": "bytes1024",
         "name": "crs"
        },
        "end_time": {
         "attrs": {
          "chunk_sizes": 10,
          "data_type": "float64",
          "dimensions": [
           "time"
          ],
          "file_chunk_sizes": 10,
          "file_dimensions": [
           "time"
          ],
          "fill_value": null,
          "long_name": "end of time span",
          "orig_data_type": "float64",
          "shape": [
           10
          ],
          "size": 10,
          "units": "days since 2003-01-01 00:00:00"
         },
         "dims": [
          "time"
         ],
         "dtype": "float64",
         "name": "end_time"
        },
        "start_time": {
         "attrs": {
          "chunk_sizes": 10,
          "data_type": "float64",
          "dimensions": [
           "time"
          ],
          "file_chunk_sizes": 10,
          "file_dimensions": [
           "time"
          ],
          "fill_value": null,
          "long_name": "start of time span",
          "orig_data_type": "float64",
          "shape": [
           10
          ],
          "size": 10,
          "units": "days since 2003-01-01 00:00:00"
         },
         "dims": [
          "time"
         ],
         "dtype": "float64",
         "name": "start_time"
        },
        "t": {
         "attrs": {
          "axis": "T",
          "calendar": "gregorian",
          "chunk_sizes": 10,
          "data_type": "float64",
          "dimensions": [
           "time"
          ],
          "file_chunk_sizes": 10,
          "file_dimensions": [
           "time"
          ],
          "fill_value": null,
          "long_name": "average time for time slice",
          "orig_data_type": "float64",
          "shape": [
           10
          ],
          "size": 10,
          "standard_name": "time",
          "units": "days since 2003-01-01 00:00:00"
         },
         "dims": [
          "time"
         ],
         "dtype": "float64",
         "name": "t"
        }
       },
       "dims": {
        "bnds": 2,
        "meas_ind": 724,
        "time": 1200
       },
       "open_params_schema": {
        "additionalProperties": false,
        "properties": {
         "normalize_data": {
          "default": true,
          "type": "boolean"
         },
         "time_range": {
          "items": [
           {
            "format": "date",
            "maxDate": "2016-08-31",
            "minDate": "2002-03-31",
            "type": "string"
           },
           {
            "format": "date",
            "maxDate": "2016-08-31",
            "minDate": "2002-03-31",
            "type": "string"
           }
          ],
          "type": "array"
         },
         "variable_names": {
          "items": {
           "enum": [
            "t",
            "start_time",
            "end_time",
            "GMB_trend",
            "crs"
           ],
           "type": "string"
          },
          "type": "array"
         }
        },
        "type": "object"
       },
       "time_period": "1Y",
       "time_range": [
        "2002-03-31",
        "2016-08-31"
       ]
      },
      "text/plain": [
       "<xcube.core.store.descriptor.DatasetDescriptor at 0x7fbbd29f0310>"
      ]
     },
     "metadata": {},
     "output_type": "display_data"
    },
    {
     "name": "stdout",
     "output_type": "stream",
     "text": [
      "\n",
      "Dataset item 4:\n"
     ]
    },
    {
     "data": {
      "application/json": {
       "attrs": {
        "abstract": "This dataset provides the Gravitational Mass Balance (GMB) product derived from gravimetry data from the GRACE satellite instrument, by DTU Space.  The data consists of two products: a mass change time series for the entire Greenland Ice Sheet and different drainage basins for the period April 2002 to June 2017; and mass trend grids for different 5-year periods between 2003 and 2017.   This version (1.4) is derived from GRACE monthly solutions provided by TU Graz (ITSG-Grace 2016), apart from August 2016 time series which is computed using the CRS-R05 solution.\n\nThe mass change time series contains the mass change (with respect to a chosen reference month) for all of the Greenland Ice Sheet and each individual drainage basin.  For each month (defined by a decimal year) a mass change in Gt and its associated error (also in Gt) is provided.   The mass trend grid product is given in units of mm water equivalent per year.\n\nMass balance is an important variable to understand glacial thinning and ablation rates to enable mapping glacier area change. The time series allows the longer term comparison of trends whereas the mass trend grids provide a yearly snapshot which can be further analysed and compared across the data set. \n\nBasin definitions and further data descriptions can be found in the Algorithm Theoretical Baseline Document (ST-DTU-ESA-GISCCI-ATBD-001_v3.1.pdf) and Product Specification Document (ST-DTU-ESA-GISCCI-PSD_v2.2.pdf) which are provided on the Greenland Ice Sheet CCI project website. \n\nCitation: \nBarletta, V. R., Sørensen, L. S., and Forsberg, R.: Scatter of mass changes estimates at basin scale for Greenland and Antarctica, The Cryosphere, 7, 1411-1432, doi:10.5194/tc-7-1411-2013, 2013.",
        "catalog_url": "https://catalogue.ceda.ac.uk/uuid/35ea8189e75e4b6f95e7c86812080ecb",
        "cci_project": "ICESHEETS",
        "data_type": "GMB",
        "ecv": "ICESHEETS",
        "licences": "Use of these data is covered by the following licence: http://licences.ceda.ac.uk/image/data_access_condition/esacci_icesheets_greenland_terms_and_conditions.pdf . When using these data you must cite them correctly using the citation given on the CEDA Data Catalogue record.",
        "platform_id": "GRACE",
        "processing_level": "Unspecified",
        "product_string": "UNSPECIFIED",
        "product_version": "1-4",
        "publication_date": "2018-11-28T17:14:52",
        "sensor_id": "GRACE-instrument",
        "title": "ESA Greenland Ice Sheet Climate Change Initiative (Greenland_Ice_Sheet_cci): Greenland Gravimetric Mass Balance from GRACE data, derived by DTU Space,  v1.4",
        "uuid": "35ea8189e75e4b6f95e7c86812080ecb"
       },
       "bbox": [
        -80,
        60,
        -10,
        90
       ],
       "coords": {
        "latitude": {
         "attrs": {
          "data_type": "float32",
          "dimensions": [
           "meas_ind"
          ],
          "file_dimensions": [
           "meas_ind"
          ],
          "fill_value": null,
          "long_name": "latitude",
          "orig_data_type": "float32",
          "shape": [
           901
          ],
          "size": 901,
          "standard_name": "latitude",
          "units": "degrees_north"
         },
         "dims": [
          "meas_ind"
         ],
         "dtype": "float32",
         "name": "latitude"
        },
        "longitude": {
         "attrs": {
          "data_type": "float32",
          "dimensions": [
           "meas_ind"
          ],
          "file_dimensions": [
           "meas_ind"
          ],
          "fill_value": null,
          "long_name": "longitude",
          "orig_data_type": "float32",
          "shape": [
           901
          ],
          "size": 901,
          "standard_name": "longitude",
          "units": "degrees_east"
         },
         "dims": [
          "meas_ind"
         ],
         "dtype": "float32",
         "name": "longitude"
        },
        "time": {
         "attrs": {
          "calendar": "proleptic_gregorian",
          "standard_name": "time",
          "units": "seconds since 1970-01-01T00:00:00Z"
         },
         "dims": [
          "time"
         ],
         "dtype": "int64",
         "name": "time"
        },
        "time_bnds": {
         "attrs": {
          "calendar": "proleptic_gregorian",
          "standard_name": "time_bnds",
          "units": "seconds since 1970-01-01T00:00:00Z"
         },
         "dims": [
          "time",
          "bnds"
         ],
         "dtype": "int64",
         "name": "time_bnds"
        }
       },
       "crs": "WGS84",
       "data_id": "esacci.ICESHEETS.yr.Unspecified.GMB.GRACE-instrument.GRACE.UNSPECIFIED.1-4.greenland_gmb_mass_trends",
       "data_type": "dataset",
       "data_vars": {
        "GMB_trend": {
         "attrs": {
          "coordinates": "longitudes latitudes",
          "data_type": "float32",
          "dimensions": [
           "meas_ind",
           "time"
          ],
          "file_dimensions": [
           "meas_ind",
           "time"
          ],
          "fill_value": null,
          "long_name": "Mass trend for time span",
          "orig_data_type": "float32",
          "shape": [
           901,
           11
          ],
          "size": 9911,
          "source": "GRACE",
          "unit": "mm water equivalent"
         },
         "dims": [
          "meas_ind",
          "time"
         ],
         "dtype": "float32",
         "name": "GMB_trend"
        },
        "end_time": {
         "attrs": {
          "calendar": "gregorian",
          "data_type": "float32",
          "dimensions": [
           "time"
          ],
          "file_dimensions": [
           "time"
          ],
          "fill_value": null,
          "long_name": "End of time span",
          "orig_data_type": "float32",
          "shape": [
           11
          ],
          "size": 11,
          "title": "Time",
          "units": "days since 2003-01-01 00:00:00"
         },
         "dims": [
          "time"
         ],
         "dtype": "float32",
         "name": "end_time"
        },
        "start_time": {
         "attrs": {
          "calendar": "gregorian",
          "data_type": "float32",
          "dimensions": [
           "time"
          ],
          "file_dimensions": [
           "time"
          ],
          "fill_value": null,
          "long_name": "Mean of time span",
          "orig_data_type": "float32",
          "shape": [
           11
          ],
          "size": 11,
          "title": "Time",
          "units": "days since 2003-01-01 00:00:00"
         },
         "dims": [
          "time"
         ],
         "dtype": "float32",
         "name": "start_time"
        },
        "t": {
         "attrs": {
          "calendar": "gregorian",
          "data_type": "float32",
          "dimensions": [
           "time"
          ],
          "file_dimensions": [
           "time"
          ],
          "fill_value": null,
          "long_name": "Average time for time slice",
          "orig_data_type": "float32",
          "shape": [
           11
          ],
          "size": 11,
          "title": "Time",
          "units": "days since 2003-01-01 00:00:00"
         },
         "dims": [
          "time"
         ],
         "dtype": "float32",
         "name": "t"
        }
       },
       "dims": {
        "bnds": 2,
        "meas_ind": 901,
        "time": 2904
       },
       "open_params_schema": {
        "additionalProperties": false,
        "properties": {
         "bbox": {
          "items": [
           {
            "maximum": -10,
            "minimum": -80,
            "type": "number"
           },
           {
            "maximum": 90,
            "minimum": 60,
            "type": "number"
           },
           {
            "maximum": -10,
            "minimum": -80,
            "type": "number"
           },
           {
            "maximum": 90,
            "minimum": 60,
            "type": "number"
           }
          ],
          "type": "array"
         },
         "normalize_data": {
          "default": true,
          "type": "boolean"
         },
         "time_range": {
          "items": [
           {
            "format": "date",
            "maxDate": "2017-06-30",
            "minDate": "2002-03-31",
            "type": "string"
           },
           {
            "format": "date",
            "maxDate": "2017-06-30",
            "minDate": "2002-03-31",
            "type": "string"
           }
          ],
          "type": "array"
         },
         "variable_names": {
          "items": {
           "enum": [
            "t",
            "start_time",
            "end_time",
            "GMB_trend"
           ],
           "type": "string"
          },
          "type": "array"
         }
        },
        "type": "object"
       },
       "time_period": "1Y",
       "time_range": [
        "2002-03-31",
        "2017-06-30"
       ]
      },
      "text/plain": [
       "<xcube.core.store.descriptor.DatasetDescriptor at 0x7fbbd2f2ffd0>"
      ]
     },
     "metadata": {},
     "output_type": "display_data"
    },
    {
     "name": "stdout",
     "output_type": "stream",
     "text": [
      "\n",
      "Dataset item 5:\n"
     ]
    },
    {
     "data": {
      "application/json": {
       "attrs": {
        "abstract": "This dataset provides the Gravitational Mass Balance (GMB) product derived from gravimetry data from the GRACE satellite instrument, by DTU Space.  The data consists of two products: a mass change time series for the entire Greenland Ice Sheet and different drainage basins for the period April 2002 to June 2017; and mass trend grids for different 5-year periods between 2003 and 2017.   This version (1.4) is derived from GRACE monthly solutions provided by TU Graz (ITSG-Grace 2016), apart from August 2016 time series which is computed using the CRS-R05 solution.\n\nThe mass change time series contains the mass change (with respect to a chosen reference month) for all of the Greenland Ice Sheet and each individual drainage basin.  For each month (defined by a decimal year) a mass change in Gt and its associated error (also in Gt) is provided.   The mass trend grid product is given in units of mm water equivalent per year.\n\nMass balance is an important variable to understand glacial thinning and ablation rates to enable mapping glacier area change. The time series allows the longer term comparison of trends whereas the mass trend grids provide a yearly snapshot which can be further analysed and compared across the data set. \n\nBasin definitions and further data descriptions can be found in the Algorithm Theoretical Baseline Document (ST-DTU-ESA-GISCCI-ATBD-001_v3.1.pdf) and Product Specification Document (ST-DTU-ESA-GISCCI-PSD_v2.2.pdf) which are provided on the Greenland Ice Sheet CCI project website. \n\nCitation: \nBarletta, V. R., Sørensen, L. S., and Forsberg, R.: Scatter of mass changes estimates at basin scale for Greenland and Antarctica, The Cryosphere, 7, 1411-1432, doi:10.5194/tc-7-1411-2013, 2013.",
        "catalog_url": "https://catalogue.ceda.ac.uk/uuid/35ea8189e75e4b6f95e7c86812080ecb",
        "cci_project": "ICESHEETS",
        "data_type": "GMB",
        "ecv": "ICESHEETS",
        "licences": "Use of these data is covered by the following licence: http://licences.ceda.ac.uk/image/data_access_condition/esacci_icesheets_greenland_terms_and_conditions.pdf . When using these data you must cite them correctly using the citation given on the CEDA Data Catalogue record.",
        "platform_id": "GRACE",
        "processing_level": "Unspecified",
        "product_string": "UNSPECIFIED",
        "product_version": "1-4",
        "publication_date": "2018-11-28T17:14:52",
        "sensor_id": "GRACE-instrument",
        "title": "ESA Greenland Ice Sheet Climate Change Initiative (Greenland_Ice_Sheet_cci): Greenland Gravimetric Mass Balance from GRACE data, derived by DTU Space,  v1.4",
        "uuid": "35ea8189e75e4b6f95e7c86812080ecb"
       },
       "bbox": [
        -80,
        60,
        -10,
        90
       ],
       "coords": {
        "time": {
         "attrs": {
          "calendar": "proleptic_gregorian",
          "standard_name": "time",
          "units": "seconds since 1970-01-01T00:00:00Z"
         },
         "dims": [
          "time"
         ],
         "dtype": "int64",
         "name": "time"
        },
        "time_bnds": {
         "attrs": {
          "calendar": "proleptic_gregorian",
          "standard_name": "time_bnds",
          "units": "seconds since 1970-01-01T00:00:00Z"
         },
         "dims": [
          "time",
          "bnds"
         ],
         "dtype": "int64",
         "name": "time_bnds"
        }
       },
       "crs": "WGS84",
       "data_id": "esacci.ICESHEETS.yr.Unspecified.GMB.GRACE-instrument.GRACE.UNSPECIFIED.1-4.greenland_gmb_time_series",
       "data_type": "dataset",
       "dims": {
        "bnds": 2,
        "time": 19
       },
       "open_params_schema": {
        "additionalProperties": false,
        "properties": {
         "bbox": {
          "items": [
           {
            "maximum": -10,
            "minimum": -80,
            "type": "number"
           },
           {
            "maximum": 90,
            "minimum": 60,
            "type": "number"
           },
           {
            "maximum": -10,
            "minimum": -80,
            "type": "number"
           },
           {
            "maximum": 90,
            "minimum": 60,
            "type": "number"
           }
          ],
          "type": "array"
         },
         "normalize_data": {
          "default": true,
          "type": "boolean"
         },
         "time_range": {
          "items": [
           {
            "format": "date",
            "maxDate": "2017-06-30",
            "minDate": "2002-03-31",
            "type": "string"
           },
           {
            "format": "date",
            "maxDate": "2017-06-30",
            "minDate": "2002-03-31",
            "type": "string"
           }
          ],
          "type": "array"
         },
         "variable_names": {
          "items": {
           "type": "string"
          },
          "type": "array"
         }
        },
        "type": "object"
       },
       "time_period": "1Y",
       "time_range": [
        "2002-03-31",
        "2017-06-30"
       ]
      },
      "text/plain": [
       "<xcube.core.store.descriptor.DatasetDescriptor at 0x7fbbd2e9c910>"
      ]
     },
     "metadata": {},
     "output_type": "display_data"
    },
    {
     "name": "stdout",
     "output_type": "stream",
     "text": [
      "\n",
      "Dataset item 6:\n"
     ]
    },
    {
     "data": {
      "application/json": {
       "attrs": {
        "abstract": "This dataset provides the Gravitational Mass Balance (GMB) product derived from gravimetry data from the GRACE satellite instrument, by DTU Space.  The data consists of two products: a mass change time series for the entire Greenland Ice Sheet and different drainage basins for the period April 2002 to June 2016; and mass trend grids for different 5-year periods between 2003 and 2016.   This version (1.3) is derived from GRACE monthly solutions from the CSR RL06 product.\n\nThe mass change time series contains the mass change (with respect to a chosen reference month) for all of the Greenland Ice Sheet and each individual drainage basin.  For each month (defined by a decimal year) a mass change in Gt and its associated error (also in Gt) is provided.   The mass trend grid product is given in units of mm water equivalent per year.\n\nMass balance is an important variable to understand glacial thinning and ablation rates to enable mapping glacier area change. The time series allows the longer term comparison of trends whereas the mass trend grids provide a yearly snapshot which can be further analysed and compared across the data set. \n\nBasin definitions and further data descriptions can be found in the Algorithm Theoretical Baseline Document (ST-DTU-ESA-GISCCI-ATBD-001_v3.1.pdf) and Product Specification Document (ST-DTU-ESA-GISCCI-PSD_v2.2.pdf) which are provided on the Greenland Ice Sheet CCI project website. \n\nCitation: \nBarletta, V. R., Sørensen, L. S., and Forsberg, R.: Scatter of mass changes estimates at basin scale for Greenland and Antarctica, The Cryosphere, 7, 1411-1432, doi:10.5194/tc-7-1411-2013, 2013.",
        "catalog_url": "https://catalogue.ceda.ac.uk/uuid/ff4bfe39b7fe42fc993341d3cebdabb5",
        "cci_project": "ICESHEETS",
        "data_type": "GMB",
        "ecv": "ICESHEETS",
        "licences": "Use of these data is covered by the following licence: http://licences.ceda.ac.uk/image/data_access_condition/esacci_icesheets_greenland_terms_and_conditions.pdf . When using these data you must cite them correctly using the citation given on the CEDA Data Catalogue record.",
        "platform_id": "GRACE",
        "processing_level": "Unspecified",
        "product_string": "UNSPECIFIED",
        "product_version": "1-5",
        "publication_date": "2018-11-28T17:10:36",
        "sensor_id": "GRACE-instrument",
        "title": "ESA Greenland Ice Sheet Climate Change Initiative (Greenland_Ice_Sheet_cci): Greenland Gravimetric Mass Balance from GRACE data (CSR RL06), derived by DTU Space, v1.5",
        "uuid": "ff4bfe39b7fe42fc993341d3cebdabb5"
       },
       "bbox": [
        -80,
        60,
        -10,
        90
       ],
       "coords": {
        "latitude": {
         "attrs": {
          "data_type": "float32",
          "dimensions": [
           "meas_ind"
          ],
          "file_dimensions": [
           "meas_ind"
          ],
          "fill_value": null,
          "long_name": "latitude",
          "orig_data_type": "float32",
          "shape": [
           901
          ],
          "size": 901,
          "standard_name": "latitude",
          "units": "degrees_north"
         },
         "dims": [
          "meas_ind"
         ],
         "dtype": "float32",
         "name": "latitude"
        },
        "longitude": {
         "attrs": {
          "data_type": "float32",
          "dimensions": [
           "meas_ind"
          ],
          "file_dimensions": [
           "meas_ind"
          ],
          "fill_value": null,
          "long_name": "longitude",
          "orig_data_type": "float32",
          "shape": [
           901
          ],
          "size": 901,
          "standard_name": "longitude",
          "units": "degrees_east"
         },
         "dims": [
          "meas_ind"
         ],
         "dtype": "float32",
         "name": "longitude"
        },
        "time": {
         "attrs": {
          "calendar": "proleptic_gregorian",
          "standard_name": "time",
          "units": "seconds since 1970-01-01T00:00:00Z"
         },
         "dims": [
          "time"
         ],
         "dtype": "int64",
         "name": "time"
        },
        "time_bnds": {
         "attrs": {
          "calendar": "proleptic_gregorian",
          "standard_name": "time_bnds",
          "units": "seconds since 1970-01-01T00:00:00Z"
         },
         "dims": [
          "time",
          "bnds"
         ],
         "dtype": "int64",
         "name": "time_bnds"
        }
       },
       "crs": "WGS84",
       "data_id": "esacci.ICESHEETS.yr.Unspecified.GMB.GRACE-instrument.GRACE.UNSPECIFIED.1-5.greenland_gmb_mass_trends",
       "data_type": "dataset",
       "data_vars": {
        "GMB_trend": {
         "attrs": {
          "coordinates": "longitudes latitudes",
          "data_type": "float32",
          "dimensions": [
           "meas_ind",
           "time"
          ],
          "file_dimensions": [
           "meas_ind",
           "time"
          ],
          "fill_value": null,
          "long_name": "Mass trend for time span",
          "orig_data_type": "float32",
          "shape": [
           901,
           10
          ],
          "size": 9010,
          "source": "GRACE",
          "unit": "mm water equivalent"
         },
         "dims": [
          "meas_ind",
          "time"
         ],
         "dtype": "float32",
         "name": "GMB_trend"
        },
        "end_time": {
         "attrs": {
          "calendar": "gregorian",
          "data_type": "float32",
          "dimensions": [
           "time"
          ],
          "file_dimensions": [
           "time"
          ],
          "fill_value": null,
          "long_name": "End of time span",
          "orig_data_type": "float32",
          "shape": [
           10
          ],
          "size": 10,
          "title": "Time",
          "units": "days since 2003-01-01 00:00:00"
         },
         "dims": [
          "time"
         ],
         "dtype": "float32",
         "name": "end_time"
        },
        "start_time": {
         "attrs": {
          "calendar": "gregorian",
          "data_type": "float32",
          "dimensions": [
           "time"
          ],
          "file_dimensions": [
           "time"
          ],
          "fill_value": null,
          "long_name": "Mean of time span",
          "orig_data_type": "float32",
          "shape": [
           10
          ],
          "size": 10,
          "title": "Time",
          "units": "days since 2003-01-01 00:00:00"
         },
         "dims": [
          "time"
         ],
         "dtype": "float32",
         "name": "start_time"
        },
        "t": {
         "attrs": {
          "calendar": "gregorian",
          "data_type": "float32",
          "dimensions": [
           "time"
          ],
          "file_dimensions": [
           "time"
          ],
          "fill_value": null,
          "long_name": "Average time for time slice",
          "orig_data_type": "float32",
          "shape": [
           10
          ],
          "size": 10,
          "title": "Time",
          "units": "days since 2003-01-01 00:00:00"
         },
         "dims": [
          "time"
         ],
         "dtype": "float32",
         "name": "t"
        }
       },
       "dims": {
        "bnds": 2,
        "meas_ind": 901,
        "time": 2200
       },
       "open_params_schema": {
        "additionalProperties": false,
        "properties": {
         "bbox": {
          "items": [
           {
            "maximum": -10,
            "minimum": -80,
            "type": "number"
           },
           {
            "maximum": 90,
            "minimum": 60,
            "type": "number"
           },
           {
            "maximum": -10,
            "minimum": -80,
            "type": "number"
           },
           {
            "maximum": 90,
            "minimum": 60,
            "type": "number"
           }
          ],
          "type": "array"
         },
         "normalize_data": {
          "default": true,
          "type": "boolean"
         },
         "time_range": {
          "items": [
           {
            "format": "date",
            "maxDate": "2016-06-30",
            "minDate": "2002-03-31",
            "type": "string"
           },
           {
            "format": "date",
            "maxDate": "2016-06-30",
            "minDate": "2002-03-31",
            "type": "string"
           }
          ],
          "type": "array"
         },
         "variable_names": {
          "items": {
           "enum": [
            "t",
            "start_time",
            "end_time",
            "GMB_trend"
           ],
           "type": "string"
          },
          "type": "array"
         }
        },
        "type": "object"
       },
       "time_period": "1Y",
       "time_range": [
        "2002-03-31",
        "2016-06-30"
       ]
      },
      "text/plain": [
       "<xcube.core.store.descriptor.DatasetDescriptor at 0x7fbbd29f04f0>"
      ]
     },
     "metadata": {},
     "output_type": "display_data"
    },
    {
     "name": "stdout",
     "output_type": "stream",
     "text": [
      "\n",
      "Dataset item 7:\n"
     ]
    },
    {
     "data": {
      "application/json": {
       "attrs": {
        "abstract": "This dataset provides the Gravitational Mass Balance (GMB) product derived from gravimetry data from the GRACE satellite instrument, by DTU Space.  The data consists of two products: a mass change time series for the entire Greenland Ice Sheet and different drainage basins for the period April 2002 to June 2016; and mass trend grids for different 5-year periods between 2003 and 2016.   This version (1.3) is derived from GRACE monthly solutions from the CSR RL06 product.\n\nThe mass change time series contains the mass change (with respect to a chosen reference month) for all of the Greenland Ice Sheet and each individual drainage basin.  For each month (defined by a decimal year) a mass change in Gt and its associated error (also in Gt) is provided.   The mass trend grid product is given in units of mm water equivalent per year.\n\nMass balance is an important variable to understand glacial thinning and ablation rates to enable mapping glacier area change. The time series allows the longer term comparison of trends whereas the mass trend grids provide a yearly snapshot which can be further analysed and compared across the data set. \n\nBasin definitions and further data descriptions can be found in the Algorithm Theoretical Baseline Document (ST-DTU-ESA-GISCCI-ATBD-001_v3.1.pdf) and Product Specification Document (ST-DTU-ESA-GISCCI-PSD_v2.2.pdf) which are provided on the Greenland Ice Sheet CCI project website. \n\nCitation: \nBarletta, V. R., Sørensen, L. S., and Forsberg, R.: Scatter of mass changes estimates at basin scale for Greenland and Antarctica, The Cryosphere, 7, 1411-1432, doi:10.5194/tc-7-1411-2013, 2013.",
        "catalog_url": "https://catalogue.ceda.ac.uk/uuid/ff4bfe39b7fe42fc993341d3cebdabb5",
        "cci_project": "ICESHEETS",
        "data_type": "GMB",
        "ecv": "ICESHEETS",
        "licences": "Use of these data is covered by the following licence: http://licences.ceda.ac.uk/image/data_access_condition/esacci_icesheets_greenland_terms_and_conditions.pdf . When using these data you must cite them correctly using the citation given on the CEDA Data Catalogue record.",
        "platform_id": "GRACE",
        "processing_level": "Unspecified",
        "product_string": "UNSPECIFIED",
        "product_version": "1-5",
        "publication_date": "2018-11-28T17:10:36",
        "sensor_id": "GRACE-instrument",
        "title": "ESA Greenland Ice Sheet Climate Change Initiative (Greenland_Ice_Sheet_cci): Greenland Gravimetric Mass Balance from GRACE data (CSR RL06), derived by DTU Space, v1.5",
        "uuid": "ff4bfe39b7fe42fc993341d3cebdabb5"
       },
       "bbox": [
        -80,
        60,
        -10,
        90
       ],
       "coords": {
        "time": {
         "attrs": {
          "calendar": "proleptic_gregorian",
          "standard_name": "time",
          "units": "seconds since 1970-01-01T00:00:00Z"
         },
         "dims": [
          "time"
         ],
         "dtype": "int64",
         "name": "time"
        },
        "time_bnds": {
         "attrs": {
          "calendar": "proleptic_gregorian",
          "standard_name": "time_bnds",
          "units": "seconds since 1970-01-01T00:00:00Z"
         },
         "dims": [
          "time",
          "bnds"
         ],
         "dtype": "int64",
         "name": "time_bnds"
        }
       },
       "crs": "WGS84",
       "data_id": "esacci.ICESHEETS.yr.Unspecified.GMB.GRACE-instrument.GRACE.UNSPECIFIED.1-5.greenland_gmb_time_series",
       "data_type": "dataset",
       "dims": {
        "bnds": 2,
        "time": 19
       },
       "open_params_schema": {
        "additionalProperties": false,
        "properties": {
         "bbox": {
          "items": [
           {
            "maximum": -10,
            "minimum": -80,
            "type": "number"
           },
           {
            "maximum": 90,
            "minimum": 60,
            "type": "number"
           },
           {
            "maximum": -10,
            "minimum": -80,
            "type": "number"
           },
           {
            "maximum": 90,
            "minimum": 60,
            "type": "number"
           }
          ],
          "type": "array"
         },
         "normalize_data": {
          "default": true,
          "type": "boolean"
         },
         "time_range": {
          "items": [
           {
            "format": "date",
            "maxDate": "2016-06-30",
            "minDate": "2002-03-31",
            "type": "string"
           },
           {
            "format": "date",
            "maxDate": "2016-06-30",
            "minDate": "2002-03-31",
            "type": "string"
           }
          ],
          "type": "array"
         },
         "variable_names": {
          "items": {
           "type": "string"
          },
          "type": "array"
         }
        },
        "type": "object"
       },
       "time_period": "1Y",
       "time_range": [
        "2002-03-31",
        "2016-06-30"
       ]
      },
      "text/plain": [
       "<xcube.core.store.descriptor.DatasetDescriptor at 0x7fbbd2a9e6a0>"
      ]
     },
     "metadata": {},
     "output_type": "display_data"
    }
   ],
   "source": [
    "# lets query the dataserver\n",
    "icesheetqry = data_store.search_data(platform=\"GRACE\")\n",
    "\n",
    "for i,item in enumerate(icesheetqry):\n",
    "    print(f'\\nDataset item {i}:')\n",
    "    display(item)"
   ]
  },
  {
   "cell_type": "markdown",
   "metadata": {},
   "source": [
    "Of these, we pick \"esacci.ICESHEETS.yr.Unspecified.GMB.GRACE-instrument.GRACE.UNSPECIFIED.1-5.greenland_gmb_mass_trends\" and open it. The parameter 'data_store_id' is not absolutely necessary, but it makes the opening a little faster."
   ]
  },
  {
   "cell_type": "code",
   "execution_count": 5,
   "metadata": {},
   "outputs": [
    {
     "data": {
      "application/json": {
       "attrs": {
        "abstract": "This dataset provides the Gravitational Mass Balance (GMB) product derived from gravimetry data from the GRACE satellite instrument, by DTU Space.  The data consists of two products: a mass change time series for the entire Greenland Ice Sheet and different drainage basins for the period April 2002 to June 2016; and mass trend grids for different 5-year periods between 2003 and 2016.   This version (1.3) is derived from GRACE monthly solutions from the CSR RL06 product.\n\nThe mass change time series contains the mass change (with respect to a chosen reference month) for all of the Greenland Ice Sheet and each individual drainage basin.  For each month (defined by a decimal year) a mass change in Gt and its associated error (also in Gt) is provided.   The mass trend grid product is given in units of mm water equivalent per year.\n\nMass balance is an important variable to understand glacial thinning and ablation rates to enable mapping glacier area change. The time series allows the longer term comparison of trends whereas the mass trend grids provide a yearly snapshot which can be further analysed and compared across the data set. \n\nBasin definitions and further data descriptions can be found in the Algorithm Theoretical Baseline Document (ST-DTU-ESA-GISCCI-ATBD-001_v3.1.pdf) and Product Specification Document (ST-DTU-ESA-GISCCI-PSD_v2.2.pdf) which are provided on the Greenland Ice Sheet CCI project website. \n\nCitation: \nBarletta, V. R., Sørensen, L. S., and Forsberg, R.: Scatter of mass changes estimates at basin scale for Greenland and Antarctica, The Cryosphere, 7, 1411-1432, doi:10.5194/tc-7-1411-2013, 2013.",
        "catalog_url": "https://catalogue.ceda.ac.uk/uuid/ff4bfe39b7fe42fc993341d3cebdabb5",
        "cci_project": "ICESHEETS",
        "data_type": "GMB",
        "ecv": "ICESHEETS",
        "licences": "Use of these data is covered by the following licence: http://licences.ceda.ac.uk/image/data_access_condition/esacci_icesheets_greenland_terms_and_conditions.pdf . When using these data you must cite them correctly using the citation given on the CEDA Data Catalogue record.",
        "platform_id": "GRACE",
        "processing_level": "Unspecified",
        "product_string": "UNSPECIFIED",
        "product_version": "1-5",
        "publication_date": "2018-11-28T17:10:36",
        "sensor_id": "GRACE-instrument",
        "title": "ESA Greenland Ice Sheet Climate Change Initiative (Greenland_Ice_Sheet_cci): Greenland Gravimetric Mass Balance from GRACE data (CSR RL06), derived by DTU Space, v1.5",
        "uuid": "ff4bfe39b7fe42fc993341d3cebdabb5"
       },
       "bbox": [
        -80,
        60,
        -10,
        90
       ],
       "coords": {
        "latitude": {
         "attrs": {
          "data_type": "float32",
          "dimensions": [
           "meas_ind"
          ],
          "file_dimensions": [
           "meas_ind"
          ],
          "fill_value": null,
          "long_name": "latitude",
          "orig_data_type": "float32",
          "shape": [
           901
          ],
          "size": 901,
          "standard_name": "latitude",
          "units": "degrees_north"
         },
         "dims": [
          "meas_ind"
         ],
         "dtype": "float32",
         "name": "latitude"
        },
        "longitude": {
         "attrs": {
          "data_type": "float32",
          "dimensions": [
           "meas_ind"
          ],
          "file_dimensions": [
           "meas_ind"
          ],
          "fill_value": null,
          "long_name": "longitude",
          "orig_data_type": "float32",
          "shape": [
           901
          ],
          "size": 901,
          "standard_name": "longitude",
          "units": "degrees_east"
         },
         "dims": [
          "meas_ind"
         ],
         "dtype": "float32",
         "name": "longitude"
        },
        "time": {
         "attrs": {
          "calendar": "proleptic_gregorian",
          "standard_name": "time",
          "units": "seconds since 1970-01-01T00:00:00Z"
         },
         "dims": [
          "time"
         ],
         "dtype": "int64",
         "name": "time"
        },
        "time_bnds": {
         "attrs": {
          "calendar": "proleptic_gregorian",
          "standard_name": "time_bnds",
          "units": "seconds since 1970-01-01T00:00:00Z"
         },
         "dims": [
          "time",
          "bnds"
         ],
         "dtype": "int64",
         "name": "time_bnds"
        }
       },
       "crs": "WGS84",
       "data_id": "esacci.ICESHEETS.yr.Unspecified.GMB.GRACE-instrument.GRACE.UNSPECIFIED.1-5.greenland_gmb_mass_trends",
       "data_type": "dataset",
       "data_vars": {
        "GMB_trend": {
         "attrs": {
          "coordinates": "longitudes latitudes",
          "data_type": "float32",
          "dimensions": [
           "meas_ind",
           "time"
          ],
          "file_dimensions": [
           "meas_ind",
           "time"
          ],
          "fill_value": null,
          "long_name": "Mass trend for time span",
          "orig_data_type": "float32",
          "shape": [
           901,
           10
          ],
          "size": 9010,
          "source": "GRACE",
          "unit": "mm water equivalent"
         },
         "dims": [
          "meas_ind",
          "time"
         ],
         "dtype": "float32",
         "name": "GMB_trend"
        },
        "end_time": {
         "attrs": {
          "calendar": "gregorian",
          "data_type": "float32",
          "dimensions": [
           "time"
          ],
          "file_dimensions": [
           "time"
          ],
          "fill_value": null,
          "long_name": "End of time span",
          "orig_data_type": "float32",
          "shape": [
           10
          ],
          "size": 10,
          "title": "Time",
          "units": "days since 2003-01-01 00:00:00"
         },
         "dims": [
          "time"
         ],
         "dtype": "float32",
         "name": "end_time"
        },
        "start_time": {
         "attrs": {
          "calendar": "gregorian",
          "data_type": "float32",
          "dimensions": [
           "time"
          ],
          "file_dimensions": [
           "time"
          ],
          "fill_value": null,
          "long_name": "Mean of time span",
          "orig_data_type": "float32",
          "shape": [
           10
          ],
          "size": 10,
          "title": "Time",
          "units": "days since 2003-01-01 00:00:00"
         },
         "dims": [
          "time"
         ],
         "dtype": "float32",
         "name": "start_time"
        },
        "t": {
         "attrs": {
          "calendar": "gregorian",
          "data_type": "float32",
          "dimensions": [
           "time"
          ],
          "file_dimensions": [
           "time"
          ],
          "fill_value": null,
          "long_name": "Average time for time slice",
          "orig_data_type": "float32",
          "shape": [
           10
          ],
          "size": 10,
          "title": "Time",
          "units": "days since 2003-01-01 00:00:00"
         },
         "dims": [
          "time"
         ],
         "dtype": "float32",
         "name": "t"
        }
       },
       "dims": {
        "bnds": 2,
        "meas_ind": 901,
        "time": 2200
       },
       "open_params_schema": {
        "additionalProperties": false,
        "properties": {
         "bbox": {
          "items": [
           {
            "maximum": -10,
            "minimum": -80,
            "type": "number"
           },
           {
            "maximum": 90,
            "minimum": 60,
            "type": "number"
           },
           {
            "maximum": -10,
            "minimum": -80,
            "type": "number"
           },
           {
            "maximum": 90,
            "minimum": 60,
            "type": "number"
           }
          ],
          "type": "array"
         },
         "normalize_data": {
          "default": true,
          "type": "boolean"
         },
         "time_range": {
          "items": [
           {
            "format": "date",
            "maxDate": "2016-06-30",
            "minDate": "2002-03-31",
            "type": "string"
           },
           {
            "format": "date",
            "maxDate": "2016-06-30",
            "minDate": "2002-03-31",
            "type": "string"
           }
          ],
          "type": "array"
         },
         "variable_names": {
          "items": {
           "enum": [
            "t",
            "start_time",
            "end_time",
            "GMB_trend"
           ],
           "type": "string"
          },
          "type": "array"
         }
        },
        "type": "object"
       },
       "time_period": "1Y",
       "time_range": [
        "2002-03-31",
        "2016-06-30"
       ]
      },
      "text/plain": [
       "<xcube.core.store.descriptor.DatasetDescriptor at 0x7fbbd2a09640>"
      ]
     },
     "metadata": {},
     "output_type": "display_data"
    }
   ],
   "source": [
    "yr = 2012\n",
    "trange = [datetime(yr,1,1), datetime(yr,12,31)]\n",
    "#note the appropriate dataset is called slightly different depending on the cci-store which is being used\n",
    "if cci_store == 'cci-store':\n",
    "    dataset_id = \"esacci.ICESHEETS.yr.Unspecified.GMB.GRACE-instrument.GRACE.UNSPECIFIED.1-5.greenland_gmb_mass_trends\"\n",
    "elif cci_store == \"cci-zarr-store\":\n",
    "    dataset_id = \"ESACCI-ICESHEETS_Greenland_GMB-2003-2016-v1.1.zarr\"\n",
    "\n",
    "#describe the dataset\n",
    "data_descriptor = data_store.describe_data(dataset_id)\n",
    "display(data_descriptor)    \n",
    "   \n"
   ]
  },
  {
   "cell_type": "code",
   "execution_count": 6,
   "metadata": {},
   "outputs": [
    {
     "name": "stderr",
     "output_type": "stream",
     "text": [
      "/home/alicja/miniconda3/envs/cate-env/lib/python3.9/site-packages/xcube_cci/dataaccess.py:286: RuntimeWarning: Failed to open Zarr store with consolidated metadata, falling back to try reading non-consolidated metadata. This is typically much slower for opening a dataset. To silence this warning, consider:\n",
      "1. Consolidating metadata in this existing store with zarr.consolidate_metadata().\n",
      "2. Explicitly setting consolidated=False, to avoid trying to read consolidate metadata, or\n",
      "3. Explicitly setting consolidated=True, to raise an error in this case instead of falling back to try reading non-consolidated metadata.\n",
      "  ds = xr.open_zarr(chunk_store)\n",
      "/home/alicja/miniconda3/envs/cate-env/lib/python3.9/site-packages/dask/array/core.py:397: FutureWarning: elementwise comparison failed; returning scalar instead, but in the future will perform elementwise comparison\n",
      "  o = func(*args, **kwargs)\n"
     ]
    }
   ],
   "source": [
    "greenTrnd = open_dataset(ds_id=dataset_id, data_store_id=cci_store)"
   ]
  },
  {
   "cell_type": "markdown",
   "metadata": {},
   "source": [
    "## Step 3: Create a geographical plot of the mass trends"
   ]
  },
  {
   "cell_type": "code",
   "execution_count": 7,
   "metadata": {},
   "outputs": [
    {
     "data": {
      "text/html": [
       "<div><svg style=\"position: absolute; width: 0; height: 0; overflow: hidden\">\n",
       "<defs>\n",
       "<symbol id=\"icon-database\" viewBox=\"0 0 32 32\">\n",
       "<path d=\"M16 0c-8.837 0-16 2.239-16 5v4c0 2.761 7.163 5 16 5s16-2.239 16-5v-4c0-2.761-7.163-5-16-5z\"></path>\n",
       "<path d=\"M16 17c-8.837 0-16-2.239-16-5v6c0 2.761 7.163 5 16 5s16-2.239 16-5v-6c0 2.761-7.163 5-16 5z\"></path>\n",
       "<path d=\"M16 26c-8.837 0-16-2.239-16-5v6c0 2.761 7.163 5 16 5s16-2.239 16-5v-6c0 2.761-7.163 5-16 5z\"></path>\n",
       "</symbol>\n",
       "<symbol id=\"icon-file-text2\" viewBox=\"0 0 32 32\">\n",
       "<path d=\"M28.681 7.159c-0.694-0.947-1.662-2.053-2.724-3.116s-2.169-2.030-3.116-2.724c-1.612-1.182-2.393-1.319-2.841-1.319h-15.5c-1.378 0-2.5 1.121-2.5 2.5v27c0 1.378 1.122 2.5 2.5 2.5h23c1.378 0 2.5-1.122 2.5-2.5v-19.5c0-0.448-0.137-1.23-1.319-2.841zM24.543 5.457c0.959 0.959 1.712 1.825 2.268 2.543h-4.811v-4.811c0.718 0.556 1.584 1.309 2.543 2.268zM28 29.5c0 0.271-0.229 0.5-0.5 0.5h-23c-0.271 0-0.5-0.229-0.5-0.5v-27c0-0.271 0.229-0.5 0.5-0.5 0 0 15.499-0 15.5 0v7c0 0.552 0.448 1 1 1h7v19.5z\"></path>\n",
       "<path d=\"M23 26h-14c-0.552 0-1-0.448-1-1s0.448-1 1-1h14c0.552 0 1 0.448 1 1s-0.448 1-1 1z\"></path>\n",
       "<path d=\"M23 22h-14c-0.552 0-1-0.448-1-1s0.448-1 1-1h14c0.552 0 1 0.448 1 1s-0.448 1-1 1z\"></path>\n",
       "<path d=\"M23 18h-14c-0.552 0-1-0.448-1-1s0.448-1 1-1h14c0.552 0 1 0.448 1 1s-0.448 1-1 1z\"></path>\n",
       "</symbol>\n",
       "</defs>\n",
       "</svg>\n",
       "<style>/* CSS stylesheet for displaying xarray objects in jupyterlab.\n",
       " *\n",
       " */\n",
       "\n",
       ":root {\n",
       "  --xr-font-color0: var(--jp-content-font-color0, rgba(0, 0, 0, 1));\n",
       "  --xr-font-color2: var(--jp-content-font-color2, rgba(0, 0, 0, 0.54));\n",
       "  --xr-font-color3: var(--jp-content-font-color3, rgba(0, 0, 0, 0.38));\n",
       "  --xr-border-color: var(--jp-border-color2, #e0e0e0);\n",
       "  --xr-disabled-color: var(--jp-layout-color3, #bdbdbd);\n",
       "  --xr-background-color: var(--jp-layout-color0, white);\n",
       "  --xr-background-color-row-even: var(--jp-layout-color1, white);\n",
       "  --xr-background-color-row-odd: var(--jp-layout-color2, #eeeeee);\n",
       "}\n",
       "\n",
       "html[theme=dark],\n",
       "body.vscode-dark {\n",
       "  --xr-font-color0: rgba(255, 255, 255, 1);\n",
       "  --xr-font-color2: rgba(255, 255, 255, 0.54);\n",
       "  --xr-font-color3: rgba(255, 255, 255, 0.38);\n",
       "  --xr-border-color: #1F1F1F;\n",
       "  --xr-disabled-color: #515151;\n",
       "  --xr-background-color: #111111;\n",
       "  --xr-background-color-row-even: #111111;\n",
       "  --xr-background-color-row-odd: #313131;\n",
       "}\n",
       "\n",
       ".xr-wrap {\n",
       "  display: block;\n",
       "  min-width: 300px;\n",
       "  max-width: 700px;\n",
       "}\n",
       "\n",
       ".xr-text-repr-fallback {\n",
       "  /* fallback to plain text repr when CSS is not injected (untrusted notebook) */\n",
       "  display: none;\n",
       "}\n",
       "\n",
       ".xr-header {\n",
       "  padding-top: 6px;\n",
       "  padding-bottom: 6px;\n",
       "  margin-bottom: 4px;\n",
       "  border-bottom: solid 1px var(--xr-border-color);\n",
       "}\n",
       "\n",
       ".xr-header > div,\n",
       ".xr-header > ul {\n",
       "  display: inline;\n",
       "  margin-top: 0;\n",
       "  margin-bottom: 0;\n",
       "}\n",
       "\n",
       ".xr-obj-type,\n",
       ".xr-array-name {\n",
       "  margin-left: 2px;\n",
       "  margin-right: 10px;\n",
       "}\n",
       "\n",
       ".xr-obj-type {\n",
       "  color: var(--xr-font-color2);\n",
       "}\n",
       "\n",
       ".xr-sections {\n",
       "  padding-left: 0 !important;\n",
       "  display: grid;\n",
       "  grid-template-columns: 150px auto auto 1fr 20px 20px;\n",
       "}\n",
       "\n",
       ".xr-section-item {\n",
       "  display: contents;\n",
       "}\n",
       "\n",
       ".xr-section-item input {\n",
       "  display: none;\n",
       "}\n",
       "\n",
       ".xr-section-item input + label {\n",
       "  color: var(--xr-disabled-color);\n",
       "}\n",
       "\n",
       ".xr-section-item input:enabled + label {\n",
       "  cursor: pointer;\n",
       "  color: var(--xr-font-color2);\n",
       "}\n",
       "\n",
       ".xr-section-item input:enabled + label:hover {\n",
       "  color: var(--xr-font-color0);\n",
       "}\n",
       "\n",
       ".xr-section-summary {\n",
       "  grid-column: 1;\n",
       "  color: var(--xr-font-color2);\n",
       "  font-weight: 500;\n",
       "}\n",
       "\n",
       ".xr-section-summary > span {\n",
       "  display: inline-block;\n",
       "  padding-left: 0.5em;\n",
       "}\n",
       "\n",
       ".xr-section-summary-in:disabled + label {\n",
       "  color: var(--xr-font-color2);\n",
       "}\n",
       "\n",
       ".xr-section-summary-in + label:before {\n",
       "  display: inline-block;\n",
       "  content: '►';\n",
       "  font-size: 11px;\n",
       "  width: 15px;\n",
       "  text-align: center;\n",
       "}\n",
       "\n",
       ".xr-section-summary-in:disabled + label:before {\n",
       "  color: var(--xr-disabled-color);\n",
       "}\n",
       "\n",
       ".xr-section-summary-in:checked + label:before {\n",
       "  content: '▼';\n",
       "}\n",
       "\n",
       ".xr-section-summary-in:checked + label > span {\n",
       "  display: none;\n",
       "}\n",
       "\n",
       ".xr-section-summary,\n",
       ".xr-section-inline-details {\n",
       "  padding-top: 4px;\n",
       "  padding-bottom: 4px;\n",
       "}\n",
       "\n",
       ".xr-section-inline-details {\n",
       "  grid-column: 2 / -1;\n",
       "}\n",
       "\n",
       ".xr-section-details {\n",
       "  display: none;\n",
       "  grid-column: 1 / -1;\n",
       "  margin-bottom: 5px;\n",
       "}\n",
       "\n",
       ".xr-section-summary-in:checked ~ .xr-section-details {\n",
       "  display: contents;\n",
       "}\n",
       "\n",
       ".xr-array-wrap {\n",
       "  grid-column: 1 / -1;\n",
       "  display: grid;\n",
       "  grid-template-columns: 20px auto;\n",
       "}\n",
       "\n",
       ".xr-array-wrap > label {\n",
       "  grid-column: 1;\n",
       "  vertical-align: top;\n",
       "}\n",
       "\n",
       ".xr-preview {\n",
       "  color: var(--xr-font-color3);\n",
       "}\n",
       "\n",
       ".xr-array-preview,\n",
       ".xr-array-data {\n",
       "  padding: 0 5px !important;\n",
       "  grid-column: 2;\n",
       "}\n",
       "\n",
       ".xr-array-data,\n",
       ".xr-array-in:checked ~ .xr-array-preview {\n",
       "  display: none;\n",
       "}\n",
       "\n",
       ".xr-array-in:checked ~ .xr-array-data,\n",
       ".xr-array-preview {\n",
       "  display: inline-block;\n",
       "}\n",
       "\n",
       ".xr-dim-list {\n",
       "  display: inline-block !important;\n",
       "  list-style: none;\n",
       "  padding: 0 !important;\n",
       "  margin: 0;\n",
       "}\n",
       "\n",
       ".xr-dim-list li {\n",
       "  display: inline-block;\n",
       "  padding: 0;\n",
       "  margin: 0;\n",
       "}\n",
       "\n",
       ".xr-dim-list:before {\n",
       "  content: '(';\n",
       "}\n",
       "\n",
       ".xr-dim-list:after {\n",
       "  content: ')';\n",
       "}\n",
       "\n",
       ".xr-dim-list li:not(:last-child):after {\n",
       "  content: ',';\n",
       "  padding-right: 5px;\n",
       "}\n",
       "\n",
       ".xr-has-index {\n",
       "  font-weight: bold;\n",
       "}\n",
       "\n",
       ".xr-var-list,\n",
       ".xr-var-item {\n",
       "  display: contents;\n",
       "}\n",
       "\n",
       ".xr-var-item > div,\n",
       ".xr-var-item label,\n",
       ".xr-var-item > .xr-var-name span {\n",
       "  background-color: var(--xr-background-color-row-even);\n",
       "  margin-bottom: 0;\n",
       "}\n",
       "\n",
       ".xr-var-item > .xr-var-name:hover span {\n",
       "  padding-right: 5px;\n",
       "}\n",
       "\n",
       ".xr-var-list > li:nth-child(odd) > div,\n",
       ".xr-var-list > li:nth-child(odd) > label,\n",
       ".xr-var-list > li:nth-child(odd) > .xr-var-name span {\n",
       "  background-color: var(--xr-background-color-row-odd);\n",
       "}\n",
       "\n",
       ".xr-var-name {\n",
       "  grid-column: 1;\n",
       "}\n",
       "\n",
       ".xr-var-dims {\n",
       "  grid-column: 2;\n",
       "}\n",
       "\n",
       ".xr-var-dtype {\n",
       "  grid-column: 3;\n",
       "  text-align: right;\n",
       "  color: var(--xr-font-color2);\n",
       "}\n",
       "\n",
       ".xr-var-preview {\n",
       "  grid-column: 4;\n",
       "}\n",
       "\n",
       ".xr-var-name,\n",
       ".xr-var-dims,\n",
       ".xr-var-dtype,\n",
       ".xr-preview,\n",
       ".xr-attrs dt {\n",
       "  white-space: nowrap;\n",
       "  overflow: hidden;\n",
       "  text-overflow: ellipsis;\n",
       "  padding-right: 10px;\n",
       "}\n",
       "\n",
       ".xr-var-name:hover,\n",
       ".xr-var-dims:hover,\n",
       ".xr-var-dtype:hover,\n",
       ".xr-attrs dt:hover {\n",
       "  overflow: visible;\n",
       "  width: auto;\n",
       "  z-index: 1;\n",
       "}\n",
       "\n",
       ".xr-var-attrs,\n",
       ".xr-var-data {\n",
       "  display: none;\n",
       "  background-color: var(--xr-background-color) !important;\n",
       "  padding-bottom: 5px !important;\n",
       "}\n",
       "\n",
       ".xr-var-attrs-in:checked ~ .xr-var-attrs,\n",
       ".xr-var-data-in:checked ~ .xr-var-data {\n",
       "  display: block;\n",
       "}\n",
       "\n",
       ".xr-var-data > table {\n",
       "  float: right;\n",
       "}\n",
       "\n",
       ".xr-var-name span,\n",
       ".xr-var-data,\n",
       ".xr-attrs {\n",
       "  padding-left: 25px !important;\n",
       "}\n",
       "\n",
       ".xr-attrs,\n",
       ".xr-var-attrs,\n",
       ".xr-var-data {\n",
       "  grid-column: 1 / -1;\n",
       "}\n",
       "\n",
       "dl.xr-attrs {\n",
       "  padding: 0;\n",
       "  margin: 0;\n",
       "  display: grid;\n",
       "  grid-template-columns: 125px auto;\n",
       "}\n",
       "\n",
       ".xr-attrs dt,\n",
       ".xr-attrs dd {\n",
       "  padding: 0;\n",
       "  margin: 0;\n",
       "  float: left;\n",
       "  padding-right: 10px;\n",
       "  width: auto;\n",
       "}\n",
       "\n",
       ".xr-attrs dt {\n",
       "  font-weight: normal;\n",
       "  grid-column: 1;\n",
       "}\n",
       "\n",
       ".xr-attrs dt:hover span {\n",
       "  display: inline-block;\n",
       "  background: var(--xr-background-color);\n",
       "  padding-right: 10px;\n",
       "}\n",
       "\n",
       ".xr-attrs dd {\n",
       "  grid-column: 2;\n",
       "  white-space: pre-wrap;\n",
       "  word-break: break-all;\n",
       "}\n",
       "\n",
       ".xr-icon-database,\n",
       ".xr-icon-file-text2 {\n",
       "  display: inline-block;\n",
       "  vertical-align: middle;\n",
       "  width: 1em;\n",
       "  height: 1.5em !important;\n",
       "  stroke-width: 0;\n",
       "  stroke: currentColor;\n",
       "  fill: currentColor;\n",
       "}\n",
       "</style><pre class='xr-text-repr-fallback'>&lt;xarray.Dataset&gt;\n",
       "Dimensions:     (time: 15, meas_ind: 901, bnds: 2)\n",
       "Coordinates:\n",
       "  * time        (time) datetime64[ns] 2002-07-02T12:00:00 ... 2016-07-02\n",
       "    time_bnds   (time, bnds) datetime64[ns] dask.array&lt;chunksize=(15, 2), meta=np.ndarray&gt;\n",
       "Dimensions without coordinates: meas_ind, bnds\n",
       "Data variables:\n",
       "    GMB_trend   (time, meas_ind) float32 dask.array&lt;chunksize=(15, 901), meta=np.ndarray&gt;\n",
       "    end_time    (time) datetime64[ns] dask.array&lt;chunksize=(15,), meta=np.ndarray&gt;\n",
       "    latitude    (time, meas_ind) float32 dask.array&lt;chunksize=(1, 901), meta=np.ndarray&gt;\n",
       "    longitude   (time, meas_ind) float32 dask.array&lt;chunksize=(1, 901), meta=np.ndarray&gt;\n",
       "    start_time  (time) datetime64[ns] dask.array&lt;chunksize=(15,), meta=np.ndarray&gt;\n",
       "    t           (time) datetime64[ns] dask.array&lt;chunksize=(15,), meta=np.ndarray&gt;\n",
       "Attributes:\n",
       "    Conventions:               CF-1.7\n",
       "    title:                     esacci.ICESHEETS.yr.Unspecified.GMB.GRACE-inst...\n",
       "    date_created:              2021-11-04T15:08:52.700363\n",
       "    processing_level:          Unspecified\n",
       "    time_coverage_start:       2002-01-01T00:00:00\n",
       "    time_coverage_end:         2017-01-01T00:00:00\n",
       "    time_coverage_duration:    P5480D\n",
       "    history:                   [{&#x27;program&#x27;: &#x27;xcube_cci.chunkstore.CciChunkSto...\n",
       "    time_coverage_resolution:  P365D</pre><div class='xr-wrap' hidden><div class='xr-header'><div class='xr-obj-type'>xarray.Dataset</div></div><ul class='xr-sections'><li class='xr-section-item'><input id='section-53c247a7-ee90-498b-bccc-212b2527fda8' class='xr-section-summary-in' type='checkbox' disabled ><label for='section-53c247a7-ee90-498b-bccc-212b2527fda8' class='xr-section-summary'  title='Expand/collapse section'>Dimensions:</label><div class='xr-section-inline-details'><ul class='xr-dim-list'><li><span class='xr-has-index'>time</span>: 15</li><li><span>meas_ind</span>: 901</li><li><span>bnds</span>: 2</li></ul></div><div class='xr-section-details'></div></li><li class='xr-section-item'><input id='section-052e48c6-e807-46ae-a0f1-b683ad3306f8' class='xr-section-summary-in' type='checkbox'  checked><label for='section-052e48c6-e807-46ae-a0f1-b683ad3306f8' class='xr-section-summary' >Coordinates: <span>(2)</span></label><div class='xr-section-inline-details'></div><div class='xr-section-details'><ul class='xr-var-list'><li class='xr-var-item'><div class='xr-var-name'><span class='xr-has-index'>time</span></div><div class='xr-var-dims'>(time)</div><div class='xr-var-dtype'>datetime64[ns]</div><div class='xr-var-preview xr-preview'>2002-07-02T12:00:00 ... 2016-07-02</div><input id='attrs-890fc442-4f04-40f9-95f2-31e819c2f4f0' class='xr-var-attrs-in' type='checkbox' ><label for='attrs-890fc442-4f04-40f9-95f2-31e819c2f4f0' title='Show/Hide attributes'><svg class='icon xr-icon-file-text2'><use xlink:href='#icon-file-text2'></use></svg></label><input id='data-bd7620b8-201a-4480-ace0-66c5b7e07c06' class='xr-var-data-in' type='checkbox'><label for='data-bd7620b8-201a-4480-ace0-66c5b7e07c06' title='Show/Hide data repr'><svg class='icon xr-icon-database'><use xlink:href='#icon-database'></use></svg></label><div class='xr-var-attrs'><dl class='xr-attrs'><dt><span>standard_name :</span></dt><dd>time</dd><dt><span>bounds :</span></dt><dd>time_bnds</dd></dl></div><div class='xr-var-data'><pre>array([&#x27;2002-07-02T12:00:00.000000000&#x27;, &#x27;2003-07-02T12:00:00.000000000&#x27;,\n",
       "       &#x27;2004-07-02T00:00:00.000000000&#x27;, &#x27;2005-07-02T12:00:00.000000000&#x27;,\n",
       "       &#x27;2006-07-02T12:00:00.000000000&#x27;, &#x27;2007-07-02T12:00:00.000000000&#x27;,\n",
       "       &#x27;2008-07-02T00:00:00.000000000&#x27;, &#x27;2009-07-02T12:00:00.000000000&#x27;,\n",
       "       &#x27;2010-07-02T12:00:00.000000000&#x27;, &#x27;2011-07-02T12:00:00.000000000&#x27;,\n",
       "       &#x27;2012-07-02T00:00:00.000000000&#x27;, &#x27;2013-07-02T12:00:00.000000000&#x27;,\n",
       "       &#x27;2014-07-02T12:00:00.000000000&#x27;, &#x27;2015-07-02T12:00:00.000000000&#x27;,\n",
       "       &#x27;2016-07-02T00:00:00.000000000&#x27;], dtype=&#x27;datetime64[ns]&#x27;)</pre></div></li><li class='xr-var-item'><div class='xr-var-name'><span>time_bnds</span></div><div class='xr-var-dims'>(time, bnds)</div><div class='xr-var-dtype'>datetime64[ns]</div><div class='xr-var-preview xr-preview'>dask.array&lt;chunksize=(15, 2), meta=np.ndarray&gt;</div><input id='attrs-5c6712e0-0879-45a3-83a3-071f21c80561' class='xr-var-attrs-in' type='checkbox' ><label for='attrs-5c6712e0-0879-45a3-83a3-071f21c80561' title='Show/Hide attributes'><svg class='icon xr-icon-file-text2'><use xlink:href='#icon-file-text2'></use></svg></label><input id='data-165c5946-41a5-4155-8b69-da09965297b0' class='xr-var-data-in' type='checkbox'><label for='data-165c5946-41a5-4155-8b69-da09965297b0' title='Show/Hide data repr'><svg class='icon xr-icon-database'><use xlink:href='#icon-database'></use></svg></label><div class='xr-var-attrs'><dl class='xr-attrs'><dt><span>standard_name :</span></dt><dd>time</dd></dl></div><div class='xr-var-data'><table>\n",
       "    <tr>\n",
       "        <td>\n",
       "            <table>\n",
       "                <thead>\n",
       "                    <tr>\n",
       "                        <td> </td>\n",
       "                        <th> Array </th>\n",
       "                        <th> Chunk </th>\n",
       "                    </tr>\n",
       "                </thead>\n",
       "                <tbody>\n",
       "                    \n",
       "                    <tr>\n",
       "                        <th> Bytes </th>\n",
       "                        <td> 240 B </td>\n",
       "                        <td> 240 B </td>\n",
       "                    </tr>\n",
       "                    \n",
       "                    <tr>\n",
       "                        <th> Shape </th>\n",
       "                        <td> (15, 2) </td>\n",
       "                        <td> (15, 2) </td>\n",
       "                    </tr>\n",
       "                    <tr>\n",
       "                        <th> Count </th>\n",
       "                        <td> 2 Tasks </td>\n",
       "                        <td> 1 Chunks </td>\n",
       "                    </tr>\n",
       "                    <tr>\n",
       "                    <th> Type </th>\n",
       "                    <td> datetime64[ns] </td>\n",
       "                    <td> numpy.ndarray </td>\n",
       "                    </tr>\n",
       "                </tbody>\n",
       "            </table>\n",
       "        </td>\n",
       "        <td>\n",
       "        <svg width=\"90\" height=\"170\" style=\"stroke:rgb(0,0,0);stroke-width:1\" >\n",
       "\n",
       "  <!-- Horizontal lines -->\n",
       "  <line x1=\"0\" y1=\"0\" x2=\"40\" y2=\"0\" style=\"stroke-width:2\" />\n",
       "  <line x1=\"0\" y1=\"120\" x2=\"40\" y2=\"120\" style=\"stroke-width:2\" />\n",
       "\n",
       "  <!-- Vertical lines -->\n",
       "  <line x1=\"0\" y1=\"0\" x2=\"0\" y2=\"120\" style=\"stroke-width:2\" />\n",
       "  <line x1=\"40\" y1=\"0\" x2=\"40\" y2=\"120\" style=\"stroke-width:2\" />\n",
       "\n",
       "  <!-- Colored Rectangle -->\n",
       "  <polygon points=\"0.0,0.0 40.124120868580135,0.0 40.124120868580135,120.0 0.0,120.0\" style=\"fill:#ECB172A0;stroke-width:0\"/>\n",
       "\n",
       "  <!-- Text -->\n",
       "  <text x=\"20.062060\" y=\"140.000000\" font-size=\"1.0rem\" font-weight=\"100\" text-anchor=\"middle\" >2</text>\n",
       "  <text x=\"60.124121\" y=\"60.000000\" font-size=\"1.0rem\" font-weight=\"100\" text-anchor=\"middle\" transform=\"rotate(0,60.124121,60.000000)\">15</text>\n",
       "</svg>\n",
       "        </td>\n",
       "    </tr>\n",
       "</table></div></li></ul></div></li><li class='xr-section-item'><input id='section-34991910-885b-4338-8499-06a574a72777' class='xr-section-summary-in' type='checkbox'  checked><label for='section-34991910-885b-4338-8499-06a574a72777' class='xr-section-summary' >Data variables: <span>(6)</span></label><div class='xr-section-inline-details'></div><div class='xr-section-details'><ul class='xr-var-list'><li class='xr-var-item'><div class='xr-var-name'><span>GMB_trend</span></div><div class='xr-var-dims'>(time, meas_ind)</div><div class='xr-var-dtype'>float32</div><div class='xr-var-preview xr-preview'>dask.array&lt;chunksize=(15, 901), meta=np.ndarray&gt;</div><input id='attrs-681d0f0e-ea48-4462-8500-b5195d37fa91' class='xr-var-attrs-in' type='checkbox' ><label for='attrs-681d0f0e-ea48-4462-8500-b5195d37fa91' title='Show/Hide attributes'><svg class='icon xr-icon-file-text2'><use xlink:href='#icon-file-text2'></use></svg></label><input id='data-4f11eb81-d909-44f4-a467-948c63edf3df' class='xr-var-data-in' type='checkbox'><label for='data-4f11eb81-d909-44f4-a467-948c63edf3df' title='Show/Hide data repr'><svg class='icon xr-icon-database'><use xlink:href='#icon-database'></use></svg></label><div class='xr-var-attrs'><dl class='xr-attrs'><dt><span>long_name :</span></dt><dd>Mass trend for time span</dd><dt><span>coordinates :</span></dt><dd>longitudes latitudes</dd><dt><span>unit :</span></dt><dd>mm water equivalent</dd><dt><span>source :</span></dt><dd>GRACE</dd><dt><span>orig_data_type :</span></dt><dd>float32</dd><dt><span>fill_value :</span></dt><dd>nan</dd><dt><span>data_type :</span></dt><dd>float32</dd><dt><span>dimensions :</span></dt><dd>[&#x27;meas_ind&#x27;, &#x27;time&#x27;]</dd><dt><span>file_dimensions :</span></dt><dd>[&#x27;meas_ind&#x27;, &#x27;time&#x27;]</dd><dt><span>size :</span></dt><dd>9010</dd><dt><span>shape :</span></dt><dd>[901, 10]</dd><dt><span>chunk_sizes :</span></dt><dd>[901, 15]</dd><dt><span>file_chunk_sizes :</span></dt><dd>[901, 15]</dd></dl></div><div class='xr-var-data'><table>\n",
       "    <tr>\n",
       "        <td>\n",
       "            <table>\n",
       "                <thead>\n",
       "                    <tr>\n",
       "                        <td> </td>\n",
       "                        <th> Array </th>\n",
       "                        <th> Chunk </th>\n",
       "                    </tr>\n",
       "                </thead>\n",
       "                <tbody>\n",
       "                    \n",
       "                    <tr>\n",
       "                        <th> Bytes </th>\n",
       "                        <td> 52.79 kiB </td>\n",
       "                        <td> 52.79 kiB </td>\n",
       "                    </tr>\n",
       "                    \n",
       "                    <tr>\n",
       "                        <th> Shape </th>\n",
       "                        <td> (15, 901) </td>\n",
       "                        <td> (15, 901) </td>\n",
       "                    </tr>\n",
       "                    <tr>\n",
       "                        <th> Count </th>\n",
       "                        <td> 3 Tasks </td>\n",
       "                        <td> 1 Chunks </td>\n",
       "                    </tr>\n",
       "                    <tr>\n",
       "                    <th> Type </th>\n",
       "                    <td> float32 </td>\n",
       "                    <td> numpy.ndarray </td>\n",
       "                    </tr>\n",
       "                </tbody>\n",
       "            </table>\n",
       "        </td>\n",
       "        <td>\n",
       "        <svg width=\"170\" height=\"78\" style=\"stroke:rgb(0,0,0);stroke-width:1\" >\n",
       "\n",
       "  <!-- Horizontal lines -->\n",
       "  <line x1=\"0\" y1=\"0\" x2=\"120\" y2=\"0\" style=\"stroke-width:2\" />\n",
       "  <line x1=\"0\" y1=\"28\" x2=\"120\" y2=\"28\" style=\"stroke-width:2\" />\n",
       "\n",
       "  <!-- Vertical lines -->\n",
       "  <line x1=\"0\" y1=\"0\" x2=\"0\" y2=\"28\" style=\"stroke-width:2\" />\n",
       "  <line x1=\"120\" y1=\"0\" x2=\"120\" y2=\"28\" style=\"stroke-width:2\" />\n",
       "\n",
       "  <!-- Colored Rectangle -->\n",
       "  <polygon points=\"0.0,0.0 120.0,0.0 120.0,28.016915864689345 0.0,28.016915864689345\" style=\"fill:#ECB172A0;stroke-width:0\"/>\n",
       "\n",
       "  <!-- Text -->\n",
       "  <text x=\"60.000000\" y=\"48.016916\" font-size=\"1.0rem\" font-weight=\"100\" text-anchor=\"middle\" >901</text>\n",
       "  <text x=\"140.000000\" y=\"14.008458\" font-size=\"1.0rem\" font-weight=\"100\" text-anchor=\"middle\" transform=\"rotate(0,140.000000,14.008458)\">15</text>\n",
       "</svg>\n",
       "        </td>\n",
       "    </tr>\n",
       "</table></div></li><li class='xr-var-item'><div class='xr-var-name'><span>end_time</span></div><div class='xr-var-dims'>(time)</div><div class='xr-var-dtype'>datetime64[ns]</div><div class='xr-var-preview xr-preview'>dask.array&lt;chunksize=(15,), meta=np.ndarray&gt;</div><input id='attrs-034e3e17-cfd8-4360-a7f3-87af1e3428aa' class='xr-var-attrs-in' type='checkbox' ><label for='attrs-034e3e17-cfd8-4360-a7f3-87af1e3428aa' title='Show/Hide attributes'><svg class='icon xr-icon-file-text2'><use xlink:href='#icon-file-text2'></use></svg></label><input id='data-4557ea1d-1109-498d-9ef9-e10e3fe2488e' class='xr-var-data-in' type='checkbox'><label for='data-4557ea1d-1109-498d-9ef9-e10e3fe2488e' title='Show/Hide data repr'><svg class='icon xr-icon-database'><use xlink:href='#icon-database'></use></svg></label><div class='xr-var-attrs'><dl class='xr-attrs'><dt><span>long_name :</span></dt><dd>End of time span</dd><dt><span>title :</span></dt><dd>Time</dd><dt><span>orig_data_type :</span></dt><dd>float32</dd><dt><span>fill_value :</span></dt><dd>nan</dd><dt><span>data_type :</span></dt><dd>float32</dd><dt><span>dimensions :</span></dt><dd>[&#x27;time&#x27;]</dd><dt><span>file_dimensions :</span></dt><dd>[&#x27;time&#x27;]</dd><dt><span>size :</span></dt><dd>10</dd><dt><span>shape :</span></dt><dd>[10]</dd><dt><span>chunk_sizes :</span></dt><dd>[15]</dd><dt><span>file_chunk_sizes :</span></dt><dd>[15]</dd></dl></div><div class='xr-var-data'><table>\n",
       "    <tr>\n",
       "        <td>\n",
       "            <table>\n",
       "                <thead>\n",
       "                    <tr>\n",
       "                        <td> </td>\n",
       "                        <th> Array </th>\n",
       "                        <th> Chunk </th>\n",
       "                    </tr>\n",
       "                </thead>\n",
       "                <tbody>\n",
       "                    \n",
       "                    <tr>\n",
       "                        <th> Bytes </th>\n",
       "                        <td> 120 B </td>\n",
       "                        <td> 120 B </td>\n",
       "                    </tr>\n",
       "                    \n",
       "                    <tr>\n",
       "                        <th> Shape </th>\n",
       "                        <td> (15,) </td>\n",
       "                        <td> (15,) </td>\n",
       "                    </tr>\n",
       "                    <tr>\n",
       "                        <th> Count </th>\n",
       "                        <td> 2 Tasks </td>\n",
       "                        <td> 1 Chunks </td>\n",
       "                    </tr>\n",
       "                    <tr>\n",
       "                    <th> Type </th>\n",
       "                    <td> datetime64[ns] </td>\n",
       "                    <td> numpy.ndarray </td>\n",
       "                    </tr>\n",
       "                </tbody>\n",
       "            </table>\n",
       "        </td>\n",
       "        <td>\n",
       "        <svg width=\"170\" height=\"86\" style=\"stroke:rgb(0,0,0);stroke-width:1\" >\n",
       "\n",
       "  <!-- Horizontal lines -->\n",
       "  <line x1=\"0\" y1=\"0\" x2=\"120\" y2=\"0\" style=\"stroke-width:2\" />\n",
       "  <line x1=\"0\" y1=\"36\" x2=\"120\" y2=\"36\" style=\"stroke-width:2\" />\n",
       "\n",
       "  <!-- Vertical lines -->\n",
       "  <line x1=\"0\" y1=\"0\" x2=\"0\" y2=\"36\" style=\"stroke-width:2\" />\n",
       "  <line x1=\"120\" y1=\"0\" x2=\"120\" y2=\"36\" style=\"stroke-width:2\" />\n",
       "\n",
       "  <!-- Colored Rectangle -->\n",
       "  <polygon points=\"0.0,0.0 120.0,0.0 120.0,36.24782989210401 0.0,36.24782989210401\" style=\"fill:#ECB172A0;stroke-width:0\"/>\n",
       "\n",
       "  <!-- Text -->\n",
       "  <text x=\"60.000000\" y=\"56.247830\" font-size=\"1.0rem\" font-weight=\"100\" text-anchor=\"middle\" >15</text>\n",
       "  <text x=\"140.000000\" y=\"18.123915\" font-size=\"1.0rem\" font-weight=\"100\" text-anchor=\"middle\" transform=\"rotate(0,140.000000,18.123915)\">1</text>\n",
       "</svg>\n",
       "        </td>\n",
       "    </tr>\n",
       "</table></div></li><li class='xr-var-item'><div class='xr-var-name'><span>latitude</span></div><div class='xr-var-dims'>(time, meas_ind)</div><div class='xr-var-dtype'>float32</div><div class='xr-var-preview xr-preview'>dask.array&lt;chunksize=(1, 901), meta=np.ndarray&gt;</div><input id='attrs-b856ca7f-53eb-4289-bb0f-daadb0af817d' class='xr-var-attrs-in' type='checkbox' ><label for='attrs-b856ca7f-53eb-4289-bb0f-daadb0af817d' title='Show/Hide attributes'><svg class='icon xr-icon-file-text2'><use xlink:href='#icon-file-text2'></use></svg></label><input id='data-df81421e-0de0-4e9f-841d-492dbcc70c0e' class='xr-var-data-in' type='checkbox'><label for='data-df81421e-0de0-4e9f-841d-492dbcc70c0e' title='Show/Hide data repr'><svg class='icon xr-icon-database'><use xlink:href='#icon-database'></use></svg></label><div class='xr-var-attrs'><dl class='xr-attrs'><dt><span>units :</span></dt><dd>degrees_north</dd><dt><span>long_name :</span></dt><dd>latitude</dd><dt><span>standard_name :</span></dt><dd>latitude</dd><dt><span>orig_data_type :</span></dt><dd>float32</dd><dt><span>fill_value :</span></dt><dd>nan</dd><dt><span>data_type :</span></dt><dd>float32</dd><dt><span>dimensions :</span></dt><dd>[&#x27;time&#x27;, &#x27;meas_ind&#x27;]</dd><dt><span>file_dimensions :</span></dt><dd>[&#x27;meas_ind&#x27;]</dd><dt><span>size :</span></dt><dd>901</dd><dt><span>shape :</span></dt><dd>[901]</dd><dt><span>chunk_sizes :</span></dt><dd>[1, 901]</dd><dt><span>file_chunk_sizes :</span></dt><dd>[901]</dd></dl></div><div class='xr-var-data'><table>\n",
       "    <tr>\n",
       "        <td>\n",
       "            <table>\n",
       "                <thead>\n",
       "                    <tr>\n",
       "                        <td> </td>\n",
       "                        <th> Array </th>\n",
       "                        <th> Chunk </th>\n",
       "                    </tr>\n",
       "                </thead>\n",
       "                <tbody>\n",
       "                    \n",
       "                    <tr>\n",
       "                        <th> Bytes </th>\n",
       "                        <td> 52.79 kiB </td>\n",
       "                        <td> 3.52 kiB </td>\n",
       "                    </tr>\n",
       "                    \n",
       "                    <tr>\n",
       "                        <th> Shape </th>\n",
       "                        <td> (15, 901) </td>\n",
       "                        <td> (1, 901) </td>\n",
       "                    </tr>\n",
       "                    <tr>\n",
       "                        <th> Count </th>\n",
       "                        <td> 16 Tasks </td>\n",
       "                        <td> 15 Chunks </td>\n",
       "                    </tr>\n",
       "                    <tr>\n",
       "                    <th> Type </th>\n",
       "                    <td> float32 </td>\n",
       "                    <td> numpy.ndarray </td>\n",
       "                    </tr>\n",
       "                </tbody>\n",
       "            </table>\n",
       "        </td>\n",
       "        <td>\n",
       "        <svg width=\"170\" height=\"78\" style=\"stroke:rgb(0,0,0);stroke-width:1\" >\n",
       "\n",
       "  <!-- Horizontal lines -->\n",
       "  <line x1=\"0\" y1=\"0\" x2=\"120\" y2=\"0\" style=\"stroke-width:2\" />\n",
       "  <line x1=\"0\" y1=\"1\" x2=\"120\" y2=\"1\" />\n",
       "  <line x1=\"0\" y1=\"3\" x2=\"120\" y2=\"3\" />\n",
       "  <line x1=\"0\" y1=\"5\" x2=\"120\" y2=\"5\" />\n",
       "  <line x1=\"0\" y1=\"7\" x2=\"120\" y2=\"7\" />\n",
       "  <line x1=\"0\" y1=\"9\" x2=\"120\" y2=\"9\" />\n",
       "  <line x1=\"0\" y1=\"11\" x2=\"120\" y2=\"11\" />\n",
       "  <line x1=\"0\" y1=\"13\" x2=\"120\" y2=\"13\" />\n",
       "  <line x1=\"0\" y1=\"14\" x2=\"120\" y2=\"14\" />\n",
       "  <line x1=\"0\" y1=\"16\" x2=\"120\" y2=\"16\" />\n",
       "  <line x1=\"0\" y1=\"18\" x2=\"120\" y2=\"18\" />\n",
       "  <line x1=\"0\" y1=\"20\" x2=\"120\" y2=\"20\" />\n",
       "  <line x1=\"0\" y1=\"22\" x2=\"120\" y2=\"22\" />\n",
       "  <line x1=\"0\" y1=\"24\" x2=\"120\" y2=\"24\" />\n",
       "  <line x1=\"0\" y1=\"26\" x2=\"120\" y2=\"26\" />\n",
       "  <line x1=\"0\" y1=\"28\" x2=\"120\" y2=\"28\" style=\"stroke-width:2\" />\n",
       "\n",
       "  <!-- Vertical lines -->\n",
       "  <line x1=\"0\" y1=\"0\" x2=\"0\" y2=\"28\" style=\"stroke-width:2\" />\n",
       "  <line x1=\"120\" y1=\"0\" x2=\"120\" y2=\"28\" style=\"stroke-width:2\" />\n",
       "\n",
       "  <!-- Colored Rectangle -->\n",
       "  <polygon points=\"0.0,0.0 120.0,0.0 120.0,28.016915864689345 0.0,28.016915864689345\" style=\"fill:#ECB172A0;stroke-width:0\"/>\n",
       "\n",
       "  <!-- Text -->\n",
       "  <text x=\"60.000000\" y=\"48.016916\" font-size=\"1.0rem\" font-weight=\"100\" text-anchor=\"middle\" >901</text>\n",
       "  <text x=\"140.000000\" y=\"14.008458\" font-size=\"1.0rem\" font-weight=\"100\" text-anchor=\"middle\" transform=\"rotate(0,140.000000,14.008458)\">15</text>\n",
       "</svg>\n",
       "        </td>\n",
       "    </tr>\n",
       "</table></div></li><li class='xr-var-item'><div class='xr-var-name'><span>longitude</span></div><div class='xr-var-dims'>(time, meas_ind)</div><div class='xr-var-dtype'>float32</div><div class='xr-var-preview xr-preview'>dask.array&lt;chunksize=(1, 901), meta=np.ndarray&gt;</div><input id='attrs-6ff44944-78b2-4644-9f2c-a3b183f3a87f' class='xr-var-attrs-in' type='checkbox' ><label for='attrs-6ff44944-78b2-4644-9f2c-a3b183f3a87f' title='Show/Hide attributes'><svg class='icon xr-icon-file-text2'><use xlink:href='#icon-file-text2'></use></svg></label><input id='data-affd1fa2-222a-4ef3-a183-671113aad53b' class='xr-var-data-in' type='checkbox'><label for='data-affd1fa2-222a-4ef3-a183-671113aad53b' title='Show/Hide data repr'><svg class='icon xr-icon-database'><use xlink:href='#icon-database'></use></svg></label><div class='xr-var-attrs'><dl class='xr-attrs'><dt><span>units :</span></dt><dd>degrees_east</dd><dt><span>long_name :</span></dt><dd>longitude</dd><dt><span>standard_name :</span></dt><dd>longitude</dd><dt><span>orig_data_type :</span></dt><dd>float32</dd><dt><span>fill_value :</span></dt><dd>nan</dd><dt><span>data_type :</span></dt><dd>float32</dd><dt><span>dimensions :</span></dt><dd>[&#x27;time&#x27;, &#x27;meas_ind&#x27;]</dd><dt><span>file_dimensions :</span></dt><dd>[&#x27;meas_ind&#x27;]</dd><dt><span>size :</span></dt><dd>901</dd><dt><span>shape :</span></dt><dd>[901]</dd><dt><span>chunk_sizes :</span></dt><dd>[1, 901]</dd><dt><span>file_chunk_sizes :</span></dt><dd>[901]</dd></dl></div><div class='xr-var-data'><table>\n",
       "    <tr>\n",
       "        <td>\n",
       "            <table>\n",
       "                <thead>\n",
       "                    <tr>\n",
       "                        <td> </td>\n",
       "                        <th> Array </th>\n",
       "                        <th> Chunk </th>\n",
       "                    </tr>\n",
       "                </thead>\n",
       "                <tbody>\n",
       "                    \n",
       "                    <tr>\n",
       "                        <th> Bytes </th>\n",
       "                        <td> 52.79 kiB </td>\n",
       "                        <td> 3.52 kiB </td>\n",
       "                    </tr>\n",
       "                    \n",
       "                    <tr>\n",
       "                        <th> Shape </th>\n",
       "                        <td> (15, 901) </td>\n",
       "                        <td> (1, 901) </td>\n",
       "                    </tr>\n",
       "                    <tr>\n",
       "                        <th> Count </th>\n",
       "                        <td> 16 Tasks </td>\n",
       "                        <td> 15 Chunks </td>\n",
       "                    </tr>\n",
       "                    <tr>\n",
       "                    <th> Type </th>\n",
       "                    <td> float32 </td>\n",
       "                    <td> numpy.ndarray </td>\n",
       "                    </tr>\n",
       "                </tbody>\n",
       "            </table>\n",
       "        </td>\n",
       "        <td>\n",
       "        <svg width=\"170\" height=\"78\" style=\"stroke:rgb(0,0,0);stroke-width:1\" >\n",
       "\n",
       "  <!-- Horizontal lines -->\n",
       "  <line x1=\"0\" y1=\"0\" x2=\"120\" y2=\"0\" style=\"stroke-width:2\" />\n",
       "  <line x1=\"0\" y1=\"1\" x2=\"120\" y2=\"1\" />\n",
       "  <line x1=\"0\" y1=\"3\" x2=\"120\" y2=\"3\" />\n",
       "  <line x1=\"0\" y1=\"5\" x2=\"120\" y2=\"5\" />\n",
       "  <line x1=\"0\" y1=\"7\" x2=\"120\" y2=\"7\" />\n",
       "  <line x1=\"0\" y1=\"9\" x2=\"120\" y2=\"9\" />\n",
       "  <line x1=\"0\" y1=\"11\" x2=\"120\" y2=\"11\" />\n",
       "  <line x1=\"0\" y1=\"13\" x2=\"120\" y2=\"13\" />\n",
       "  <line x1=\"0\" y1=\"14\" x2=\"120\" y2=\"14\" />\n",
       "  <line x1=\"0\" y1=\"16\" x2=\"120\" y2=\"16\" />\n",
       "  <line x1=\"0\" y1=\"18\" x2=\"120\" y2=\"18\" />\n",
       "  <line x1=\"0\" y1=\"20\" x2=\"120\" y2=\"20\" />\n",
       "  <line x1=\"0\" y1=\"22\" x2=\"120\" y2=\"22\" />\n",
       "  <line x1=\"0\" y1=\"24\" x2=\"120\" y2=\"24\" />\n",
       "  <line x1=\"0\" y1=\"26\" x2=\"120\" y2=\"26\" />\n",
       "  <line x1=\"0\" y1=\"28\" x2=\"120\" y2=\"28\" style=\"stroke-width:2\" />\n",
       "\n",
       "  <!-- Vertical lines -->\n",
       "  <line x1=\"0\" y1=\"0\" x2=\"0\" y2=\"28\" style=\"stroke-width:2\" />\n",
       "  <line x1=\"120\" y1=\"0\" x2=\"120\" y2=\"28\" style=\"stroke-width:2\" />\n",
       "\n",
       "  <!-- Colored Rectangle -->\n",
       "  <polygon points=\"0.0,0.0 120.0,0.0 120.0,28.016915864689345 0.0,28.016915864689345\" style=\"fill:#ECB172A0;stroke-width:0\"/>\n",
       "\n",
       "  <!-- Text -->\n",
       "  <text x=\"60.000000\" y=\"48.016916\" font-size=\"1.0rem\" font-weight=\"100\" text-anchor=\"middle\" >901</text>\n",
       "  <text x=\"140.000000\" y=\"14.008458\" font-size=\"1.0rem\" font-weight=\"100\" text-anchor=\"middle\" transform=\"rotate(0,140.000000,14.008458)\">15</text>\n",
       "</svg>\n",
       "        </td>\n",
       "    </tr>\n",
       "</table></div></li><li class='xr-var-item'><div class='xr-var-name'><span>start_time</span></div><div class='xr-var-dims'>(time)</div><div class='xr-var-dtype'>datetime64[ns]</div><div class='xr-var-preview xr-preview'>dask.array&lt;chunksize=(15,), meta=np.ndarray&gt;</div><input id='attrs-4543521a-9188-41c7-b4d4-2e1322b7a46a' class='xr-var-attrs-in' type='checkbox' ><label for='attrs-4543521a-9188-41c7-b4d4-2e1322b7a46a' title='Show/Hide attributes'><svg class='icon xr-icon-file-text2'><use xlink:href='#icon-file-text2'></use></svg></label><input id='data-5a50a28b-7805-4d3d-a4c3-03482fe3d552' class='xr-var-data-in' type='checkbox'><label for='data-5a50a28b-7805-4d3d-a4c3-03482fe3d552' title='Show/Hide data repr'><svg class='icon xr-icon-database'><use xlink:href='#icon-database'></use></svg></label><div class='xr-var-attrs'><dl class='xr-attrs'><dt><span>long_name :</span></dt><dd>Mean of time span</dd><dt><span>title :</span></dt><dd>Time</dd><dt><span>orig_data_type :</span></dt><dd>float32</dd><dt><span>fill_value :</span></dt><dd>nan</dd><dt><span>data_type :</span></dt><dd>float32</dd><dt><span>dimensions :</span></dt><dd>[&#x27;time&#x27;]</dd><dt><span>file_dimensions :</span></dt><dd>[&#x27;time&#x27;]</dd><dt><span>size :</span></dt><dd>10</dd><dt><span>shape :</span></dt><dd>[10]</dd><dt><span>chunk_sizes :</span></dt><dd>[15]</dd><dt><span>file_chunk_sizes :</span></dt><dd>[15]</dd></dl></div><div class='xr-var-data'><table>\n",
       "    <tr>\n",
       "        <td>\n",
       "            <table>\n",
       "                <thead>\n",
       "                    <tr>\n",
       "                        <td> </td>\n",
       "                        <th> Array </th>\n",
       "                        <th> Chunk </th>\n",
       "                    </tr>\n",
       "                </thead>\n",
       "                <tbody>\n",
       "                    \n",
       "                    <tr>\n",
       "                        <th> Bytes </th>\n",
       "                        <td> 120 B </td>\n",
       "                        <td> 120 B </td>\n",
       "                    </tr>\n",
       "                    \n",
       "                    <tr>\n",
       "                        <th> Shape </th>\n",
       "                        <td> (15,) </td>\n",
       "                        <td> (15,) </td>\n",
       "                    </tr>\n",
       "                    <tr>\n",
       "                        <th> Count </th>\n",
       "                        <td> 2 Tasks </td>\n",
       "                        <td> 1 Chunks </td>\n",
       "                    </tr>\n",
       "                    <tr>\n",
       "                    <th> Type </th>\n",
       "                    <td> datetime64[ns] </td>\n",
       "                    <td> numpy.ndarray </td>\n",
       "                    </tr>\n",
       "                </tbody>\n",
       "            </table>\n",
       "        </td>\n",
       "        <td>\n",
       "        <svg width=\"170\" height=\"86\" style=\"stroke:rgb(0,0,0);stroke-width:1\" >\n",
       "\n",
       "  <!-- Horizontal lines -->\n",
       "  <line x1=\"0\" y1=\"0\" x2=\"120\" y2=\"0\" style=\"stroke-width:2\" />\n",
       "  <line x1=\"0\" y1=\"36\" x2=\"120\" y2=\"36\" style=\"stroke-width:2\" />\n",
       "\n",
       "  <!-- Vertical lines -->\n",
       "  <line x1=\"0\" y1=\"0\" x2=\"0\" y2=\"36\" style=\"stroke-width:2\" />\n",
       "  <line x1=\"120\" y1=\"0\" x2=\"120\" y2=\"36\" style=\"stroke-width:2\" />\n",
       "\n",
       "  <!-- Colored Rectangle -->\n",
       "  <polygon points=\"0.0,0.0 120.0,0.0 120.0,36.24782989210401 0.0,36.24782989210401\" style=\"fill:#ECB172A0;stroke-width:0\"/>\n",
       "\n",
       "  <!-- Text -->\n",
       "  <text x=\"60.000000\" y=\"56.247830\" font-size=\"1.0rem\" font-weight=\"100\" text-anchor=\"middle\" >15</text>\n",
       "  <text x=\"140.000000\" y=\"18.123915\" font-size=\"1.0rem\" font-weight=\"100\" text-anchor=\"middle\" transform=\"rotate(0,140.000000,18.123915)\">1</text>\n",
       "</svg>\n",
       "        </td>\n",
       "    </tr>\n",
       "</table></div></li><li class='xr-var-item'><div class='xr-var-name'><span>t</span></div><div class='xr-var-dims'>(time)</div><div class='xr-var-dtype'>datetime64[ns]</div><div class='xr-var-preview xr-preview'>dask.array&lt;chunksize=(15,), meta=np.ndarray&gt;</div><input id='attrs-18308448-7ffb-4299-b81e-ee741404439f' class='xr-var-attrs-in' type='checkbox' ><label for='attrs-18308448-7ffb-4299-b81e-ee741404439f' title='Show/Hide attributes'><svg class='icon xr-icon-file-text2'><use xlink:href='#icon-file-text2'></use></svg></label><input id='data-705e88bb-ce7e-4447-9e87-52de32f363b9' class='xr-var-data-in' type='checkbox'><label for='data-705e88bb-ce7e-4447-9e87-52de32f363b9' title='Show/Hide data repr'><svg class='icon xr-icon-database'><use xlink:href='#icon-database'></use></svg></label><div class='xr-var-attrs'><dl class='xr-attrs'><dt><span>long_name :</span></dt><dd>Average time for time slice</dd><dt><span>title :</span></dt><dd>Time</dd><dt><span>orig_data_type :</span></dt><dd>float32</dd><dt><span>fill_value :</span></dt><dd>nan</dd><dt><span>data_type :</span></dt><dd>float32</dd><dt><span>dimensions :</span></dt><dd>[&#x27;time&#x27;]</dd><dt><span>file_dimensions :</span></dt><dd>[&#x27;time&#x27;]</dd><dt><span>size :</span></dt><dd>10</dd><dt><span>shape :</span></dt><dd>[10]</dd><dt><span>chunk_sizes :</span></dt><dd>[15]</dd><dt><span>file_chunk_sizes :</span></dt><dd>[15]</dd></dl></div><div class='xr-var-data'><table>\n",
       "    <tr>\n",
       "        <td>\n",
       "            <table>\n",
       "                <thead>\n",
       "                    <tr>\n",
       "                        <td> </td>\n",
       "                        <th> Array </th>\n",
       "                        <th> Chunk </th>\n",
       "                    </tr>\n",
       "                </thead>\n",
       "                <tbody>\n",
       "                    \n",
       "                    <tr>\n",
       "                        <th> Bytes </th>\n",
       "                        <td> 120 B </td>\n",
       "                        <td> 120 B </td>\n",
       "                    </tr>\n",
       "                    \n",
       "                    <tr>\n",
       "                        <th> Shape </th>\n",
       "                        <td> (15,) </td>\n",
       "                        <td> (15,) </td>\n",
       "                    </tr>\n",
       "                    <tr>\n",
       "                        <th> Count </th>\n",
       "                        <td> 2 Tasks </td>\n",
       "                        <td> 1 Chunks </td>\n",
       "                    </tr>\n",
       "                    <tr>\n",
       "                    <th> Type </th>\n",
       "                    <td> datetime64[ns] </td>\n",
       "                    <td> numpy.ndarray </td>\n",
       "                    </tr>\n",
       "                </tbody>\n",
       "            </table>\n",
       "        </td>\n",
       "        <td>\n",
       "        <svg width=\"170\" height=\"86\" style=\"stroke:rgb(0,0,0);stroke-width:1\" >\n",
       "\n",
       "  <!-- Horizontal lines -->\n",
       "  <line x1=\"0\" y1=\"0\" x2=\"120\" y2=\"0\" style=\"stroke-width:2\" />\n",
       "  <line x1=\"0\" y1=\"36\" x2=\"120\" y2=\"36\" style=\"stroke-width:2\" />\n",
       "\n",
       "  <!-- Vertical lines -->\n",
       "  <line x1=\"0\" y1=\"0\" x2=\"0\" y2=\"36\" style=\"stroke-width:2\" />\n",
       "  <line x1=\"120\" y1=\"0\" x2=\"120\" y2=\"36\" style=\"stroke-width:2\" />\n",
       "\n",
       "  <!-- Colored Rectangle -->\n",
       "  <polygon points=\"0.0,0.0 120.0,0.0 120.0,36.24782989210401 0.0,36.24782989210401\" style=\"fill:#ECB172A0;stroke-width:0\"/>\n",
       "\n",
       "  <!-- Text -->\n",
       "  <text x=\"60.000000\" y=\"56.247830\" font-size=\"1.0rem\" font-weight=\"100\" text-anchor=\"middle\" >15</text>\n",
       "  <text x=\"140.000000\" y=\"18.123915\" font-size=\"1.0rem\" font-weight=\"100\" text-anchor=\"middle\" transform=\"rotate(0,140.000000,18.123915)\">1</text>\n",
       "</svg>\n",
       "        </td>\n",
       "    </tr>\n",
       "</table></div></li></ul></div></li><li class='xr-section-item'><input id='section-1d7c0f6b-c2b2-4dfd-86e2-396689ca0a0c' class='xr-section-summary-in' type='checkbox'  checked><label for='section-1d7c0f6b-c2b2-4dfd-86e2-396689ca0a0c' class='xr-section-summary' >Attributes: <span>(9)</span></label><div class='xr-section-inline-details'></div><div class='xr-section-details'><dl class='xr-attrs'><dt><span>Conventions :</span></dt><dd>CF-1.7</dd><dt><span>title :</span></dt><dd>esacci.ICESHEETS.yr.Unspecified.GMB.GRACE-instrument.GRACE.UNSPECIFIED.1-5.greenland_gmb_mass_trends</dd><dt><span>date_created :</span></dt><dd>2021-11-04T15:08:52.700363</dd><dt><span>processing_level :</span></dt><dd>Unspecified</dd><dt><span>time_coverage_start :</span></dt><dd>2002-01-01T00:00:00</dd><dt><span>time_coverage_end :</span></dt><dd>2017-01-01T00:00:00</dd><dt><span>time_coverage_duration :</span></dt><dd>P5480D</dd><dt><span>history :</span></dt><dd>[{&#x27;program&#x27;: &#x27;xcube_cci.chunkstore.CciChunkStore&#x27;, &#x27;cube_params&#x27;: {&#x27;time_range&#x27;: [&#x27;2002-03-31T23:00:00&#x27;, &#x27;2016-06-30T22:59:59&#x27;], &#x27;variable_names&#x27;: [&#x27;t&#x27;, &#x27;end_time&#x27;, &#x27;GMB_trend&#x27;, &#x27;start_time&#x27;, &#x27;latitude&#x27;, &#x27;longitude&#x27;]}}, &quot;\\nModified with Cate v3.0.1.dev1 cate.ops.normalize.normalize v1.0 \\nDefault input values: OrderedDict([(&#x27;ds&#x27;, {&#x27;position&#x27;: 0, &#x27;data_type&#x27;: &lt;class &#x27;xarray.core.dataset.Dataset&#x27;&gt;, &#x27;description&#x27;: &#x27;The dataset to normalize.&#x27;})])\\nProvided input values: {&#x27;ds&#x27;: &lt;class &#x27;xarray.core.dataset.Dataset&#x27;&gt;}\\n&quot;]</dd><dt><span>time_coverage_resolution :</span></dt><dd>P365D</dd></dl></div></li></ul></div></div>"
      ],
      "text/plain": [
       "<xarray.Dataset>\n",
       "Dimensions:     (time: 15, meas_ind: 901, bnds: 2)\n",
       "Coordinates:\n",
       "  * time        (time) datetime64[ns] 2002-07-02T12:00:00 ... 2016-07-02\n",
       "    time_bnds   (time, bnds) datetime64[ns] dask.array<chunksize=(15, 2), meta=np.ndarray>\n",
       "Dimensions without coordinates: meas_ind, bnds\n",
       "Data variables:\n",
       "    GMB_trend   (time, meas_ind) float32 dask.array<chunksize=(15, 901), meta=np.ndarray>\n",
       "    end_time    (time) datetime64[ns] dask.array<chunksize=(15,), meta=np.ndarray>\n",
       "    latitude    (time, meas_ind) float32 dask.array<chunksize=(1, 901), meta=np.ndarray>\n",
       "    longitude   (time, meas_ind) float32 dask.array<chunksize=(1, 901), meta=np.ndarray>\n",
       "    start_time  (time) datetime64[ns] dask.array<chunksize=(15,), meta=np.ndarray>\n",
       "    t           (time) datetime64[ns] dask.array<chunksize=(15,), meta=np.ndarray>\n",
       "Attributes:\n",
       "    Conventions:               CF-1.7\n",
       "    title:                     esacci.ICESHEETS.yr.Unspecified.GMB.GRACE-inst...\n",
       "    date_created:              2021-11-04T15:08:52.700363\n",
       "    processing_level:          Unspecified\n",
       "    time_coverage_start:       2002-01-01T00:00:00\n",
       "    time_coverage_end:         2017-01-01T00:00:00\n",
       "    time_coverage_duration:    P5480D\n",
       "    history:                   [{'program': 'xcube_cci.chunkstore.CciChunkSto...\n",
       "    time_coverage_resolution:  P365D"
      ]
     },
     "execution_count": 7,
     "metadata": {},
     "output_type": "execute_result"
    }
   ],
   "source": [
    "greenTrnd"
   ]
  },
  {
   "cell_type": "code",
   "execution_count": 20,
   "metadata": {},
   "outputs": [
    {
     "data": {
      "text/plain": [
       "Text(0.5, 1.0, 'mm/yr (equivalent water) 2002 - 2002')"
      ]
     },
     "execution_count": 20,
     "metadata": {},
     "output_type": "execute_result"
    },
    {
     "name": "stderr",
     "output_type": "stream",
     "text": [
      "/home/alicja/miniconda3/envs/cate-env/lib/python3.9/site-packages/cartopy/crs.py:825: ShapelyDeprecationWarning: __len__ for multi-part geometries is deprecated and will be removed in Shapely 2.0. Check the length of the `geoms` property instead to get the  number of parts of a multi-part geometry.\n",
      "  if len(multi_line_string) > 1:\n",
      "/home/alicja/miniconda3/envs/cate-env/lib/python3.9/site-packages/cartopy/crs.py:877: ShapelyDeprecationWarning: Iteration over multi-part geometries is deprecated and will be removed in Shapely 2.0. Use the `geoms` property to access the constituent parts of a multi-part geometry.\n",
      "  for line in multi_line_string:\n",
      "/home/alicja/miniconda3/envs/cate-env/lib/python3.9/site-packages/cartopy/crs.py:944: ShapelyDeprecationWarning: __len__ for multi-part geometries is deprecated and will be removed in Shapely 2.0. Check the length of the `geoms` property instead to get the  number of parts of a multi-part geometry.\n",
      "  if len(p_mline) > 0:\n",
      "/home/alicja/miniconda3/envs/cate-env/lib/python3.9/site-packages/cartopy/crs.py:982: ShapelyDeprecationWarning: Iteration over multi-part geometries is deprecated and will be removed in Shapely 2.0. Use the `geoms` property to access the constituent parts of a multi-part geometry.\n",
      "  line_strings.extend(multi_line_string)\n",
      "/home/alicja/miniconda3/envs/cate-env/lib/python3.9/site-packages/cartopy/crs.py:982: ShapelyDeprecationWarning: __len__ for multi-part geometries is deprecated and will be removed in Shapely 2.0. Check the length of the `geoms` property instead to get the  number of parts of a multi-part geometry.\n",
      "  line_strings.extend(multi_line_string)\n"
     ]
    },
    {
     "data": {
      "image/png": "[encoded data removed]",
      "text/plain": [
       "<Figure size 1152x576 with 2 Axes>"
      ]
     },
     "metadata": {
      "needs_background": "light"
     },
     "output_type": "display_data"
    }
   ],
   "source": [
    "from xarray.plot import scatter\n",
    "import cartopy.crs as ccrs\n",
    "import matplotlib.pyplot as mpl\n",
    "import pandas as pd\n",
    "import numpy as np\n",
    "\n",
    "%matplotlib inline\n",
    "itime = 0\n",
    "yrstart = np.datetime_as_string(greenTrnd.start_time[itime].time.values, unit=\"Y\")\n",
    "yrend = np.datetime_as_string(greenTrnd.end_time[itime].time.values, unit=\"Y\")\n",
    "\n",
    "mpl.figure(figsize=(16, 8))\n",
    "crs = ccrs.NorthPolarStereo(-45)\n",
    "xy = crs.transform_points(ccrs.PlateCarree(), greenTrnd.longitude.values, greenTrnd.latitude.values)\n",
    "ax = mpl.subplot(projection=crs)\n",
    "ax.coastlines()\n",
    "greenTrnd.isel(time=itime).plot.scatter(x=\"longitude\", \n",
    "                                        y=\"latitude\", \n",
    "                                        hue=\"GMB_trend\", \n",
    "                                        cmap=\"RdBu\",\n",
    "                                        transform=ccrs.PlateCarree(),\n",
    "                                        ax=ax,\n",
    "                                        vmin=-500,\n",
    "                                        vmax=500,\n",
    "                                        s=70,\n",
    "                                        marker='H')\n",
    "ax.set_title(f\"mm/yr (equivalent water) {yrstart} - {yrend}\")"
   ]
  },
  {
   "cell_type": "markdown",
   "metadata": {},
   "source": [
    "## Questions (please share and discuss your answers on the forum)\n",
    "* Try to select different trend periods (variable `itime`). In which regions do you see changes?\n",
    "* To better visualize the areas which have undergone change, adapt (or copy) the code and plot the difference between two trend periods.\n",
    "* The spatial resolution of mass changes from GRACE and GRACE-FO are much coarser than what can be obtained from for example ice altimetry from e.g. Cryosat-2, but there are advantages too. Try to make a list of advantages/disadvantages of gravimetry versus altimetry and exchange your findings on the forum.\n"
   ]
  }
 ],
 "metadata": {
  "kernelspec": {
   "display_name": "Python 3 (ipykernel)",
   "language": "python",
   "name": "python3"
  },
  "language_info": {
   "codemirror_mode": {
    "name": "ipython",
    "version": 3
   },
   "file_extension": ".py",
   "mimetype": "text/x-python",
   "name": "python",
   "nbconvert_exporter": "python",
   "pygments_lexer": "ipython3",
   "version": "3.9.7"
  }
 },
 "nbformat": 4,
 "nbformat_minor": 4
}
