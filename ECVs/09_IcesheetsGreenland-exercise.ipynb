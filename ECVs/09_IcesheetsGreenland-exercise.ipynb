{
 "cells": [
  {
   "cell_type": "markdown",
   "metadata": {},
   "source": [
    "<img src=\"media/Cryo+ESA_Logo_plain-50gray.svg\" alt=\"CCI Cryosphere banner\" width=\"1000\"/>"
   ]
  },
  {
   "cell_type": "markdown",
   "metadata": {},
   "source": [
    "# Exercise: Greenland mass change from satellite gravimetry\n",
    "\n",
    "The Gravity Recovery and Climate Experiment (GRACE, and it's follow-on GRACE-FO), [have the unique ability to 'weigh' the ice sheets from space](https://earth.esa.int/eogateway/missions/grace). The satellite mission uses the principle that satellite orbits are affected by gravitational changes of the Earth. In reversal, a very accurate tracking of the satellite orbits over time allows the determination of mass changes on the Earth.\n",
    "\n",
    "In this exercise we download and visualize a GRACE CCI product of ice mass change using cate. After the exercise you'll have an idea of the current imbalance of the Greenland icesheet and see where the icesheet is losing mass.\n",
    "\n",
    "## Preparations\n",
    "If you haven't done so please follow the [Cate tutorial](https://www.futurelearn.com/courses/understanding-climate-change-using-satellite-climate-data/1/steps/1230976) to get started using the Jupyter notebook exercises.\n",
    "\n",
    "## Cate software and the open data portal\n",
    "\n",
    "We'll be querying the open data portal for sea ice concentration products as produced by the [Climate Change Initiative Sea Ice project](https://climate.esa.int/en/projects/sea-ice/). The [**open data portal**](https://climate.esa.int/en/odp/#/dashboard) hosts a variety of datasets on the [Jasmin infrastructure on the UK](https://jasmin.ac.uk/). These can be queried using the dedicated [Cate python module](https://cate.readthedocs.io/en/latest/). Cate allows retrieving data from the data portal and the web-interface which you find at [cate.climate.esa.int](https://cate.climate.esa.int) is build upon it.\n",
    "\n",
    "In this Jupyter notebook exercise we will directly call Cate functions, and it will show you how these can be used in advanced workflows.\n",
    "\n",
    "## Starting the exercise\n",
    "To perform the exercise and execute the code in this notebook you can run it through the [mybinder.org](https://mybinder.org/) service by clicking on the binder link below (if resources allow it). Alternatively, you can download/clone the notebooks from [github](https://github.com/CCI-Tools/cate-edu) and run them through your own Jupyter notebook instance (this may initially take more time to setup, but does allow you to store your changes and extend the notebooks exercises to your own needs).\n",
    "\n",
    "[![click to run this notebook on mybinder.org](https://mybinder.org/badge_logo.svg)](https://mybinder.org/v2/gh/CCI-Tools/cate-edu/HEAD?filepath=ECVs%2F09_IcesheetsGreenland-exercise.ipynb)\n",
    "\n",
    "or [clone the notebook repository on github](https://github.com/CCI-Tools/cate-edu)"
   ]
  },
  {
   "cell_type": "markdown",
   "metadata": {},
   "source": [
    "## Step 1: loading python modules and initialize the data store pool"
   ]
  },
  {
   "cell_type": "code",
   "execution_count": null,
   "metadata": {},
   "outputs": [],
   "source": [
    "# To get things started we need to initialize a few things\n",
    "#Load some python modules to make them accessible to the notebook\n",
    "from cate.core.ds import DATA_STORE_POOL\n",
    "import cate.ops as ops\n",
    "from cate.util.monitor import ConsoleMonitor\n",
    "from cate.core.ds import get_metadata_from_descriptor\n",
    "from cate.ops.io import open_dataset\n",
    "\n",
    "# the following is needed to run Cate in a Jupyter Notebook\n",
    "from xcube.util.ipython import enable_asyncio\n",
    "enable_asyncio()\n",
    "\n",
    "# utilities\n",
    "from IPython.display import display\n",
    "import numpy as np\n",
    "from datetime import datetime\n",
    "\n",
    "monitor = ConsoleMonitor()"
   ]
  },
  {
   "cell_type": "markdown",
   "metadata": {},
   "source": [
    "To begin, let us see which data stores are available in the Data Store Pool."
   ]
  },
  {
   "cell_type": "code",
   "execution_count": null,
   "metadata": {},
   "outputs": [],
   "source": [
    "DATA_STORE_POOL.store_instance_ids"
   ]
  },
  {
   "cell_type": "markdown",
   "metadata": {},
   "source": [
    "We see three different stores. \n",
    "\n",
    "The **cci-store** is a store that provides access to all datasets from the CCI Open Data Portal. It connects to the Open Data Portal and allows access to the datasets listed at https://catalogue.ceda.ac.uk. We can ask for the search parameters of the store to see how a search can be performed.\n",
    "\n",
    "The **cci-zarr-store** is a store that contains selected data from the Open Data Portal, converted to the [zarr format](https://zarr.readthedocs.io/en/stable/). The datasets from this store can be opened and processed faster, but the store provides only a small subset of what is offered by the **cci-store**. \n",
    "\n",
    "The **local** data store finally allows to access locally provided data. Also, when you select to cache data, you will find it in this store. Cached data can also be opened quickly.\n",
    "\n",
    "This notebook will allow you to try out both the *cci-zarr-store* and the *cci-store*. Just uncomment/comment the appropriate `cci_store` variable below."
   ]
  },
  {
   "cell_type": "code",
   "execution_count": null,
   "metadata": {},
   "outputs": [],
   "source": [
    "# uncomment/comment the cci_store variable below to use the \n",
    "cci_store = 'cci-zarr-store'\n",
    "# cci_store = 'cci-store'\n",
    "\n",
    "data_store = DATA_STORE_POOL.get_store(cci_store)\n",
    "display(data_store.get_search_params_schema())\n",
    "\n",
    "if cci_store == 'cci-zarr-store':\n",
    "    #you can also list all the data ids of the smaller zarr catalogue\n",
    "    list(data_store.get_data_ids())"
   ]
  },
  {
   "cell_type": "markdown",
   "metadata": {},
   "source": [
    "## Step 2: Finding ice sheet mass change data\n",
    "For this exercise, we are interested in GRACE data sets, so we ask for datasets of the platform \"GRACE\". We then display the results of the query."
   ]
  },
  {
   "cell_type": "code",
   "execution_count": null,
   "metadata": {},
   "outputs": [],
   "source": [
    "# lets query the dataserver\n",
    "if cci_store != 'cci-zarr-store':\n",
    "    icesheetqry = data_store.search_data(platform=\"GRACE\")\n",
    "\n",
    "    for i,item in enumerate(icesheetqry):\n",
    "        print(f'\\nDataset item {i}:')\n",
    "        display(item)"
   ]
  },
  {
   "cell_type": "markdown",
   "metadata": {},
   "source": [
    "Of these, we pick \"esacci.ICESHEETS.yr.Unspecified.GMB.GRACE-instrument.GRACE.UNSPECIFIED.1-5.greenland_gmb_mass_trends\" and open it. The parameter 'data_store_id' is not absolutely necessary, but it makes the opening a little faster."
   ]
  },
  {
   "cell_type": "code",
   "execution_count": null,
   "metadata": {},
   "outputs": [],
   "source": [
    "yr = 2012\n",
    "trange = [datetime(yr,1,1), datetime(yr,12,31)]\n",
    "#note the appropriate dataset is called slightly different depending on the cci-store which is being used\n",
    "if cci_store == 'cci-store':\n",
    "    dataset_id = \"esacci.ICESHEETS.yr.Unspecified.GMB.GRACE-instrument.GRACE.UNSPECIFIED.1-5.greenland_gmb_mass_trends\"\n",
    "elif cci_store == \"cci-zarr-store\":\n",
    "    dataset_id = \"ESACCI-ICESHEETS_Greenland_GMB-2003-2016-v1.1.zarr\"\n",
    "\n",
    "#describe the dataset\n",
    "data_descriptor = data_store.describe_data(dataset_id)\n",
    "display(data_descriptor)    \n",
    "   \n"
   ]
  },
  {
   "cell_type": "code",
   "execution_count": null,
   "metadata": {},
   "outputs": [],
   "source": [
    "greenTrnd = open_dataset(ds_id=dataset_id, data_store_id=cci_store)"
   ]
  },
  {
   "cell_type": "markdown",
   "metadata": {},
   "source": [
    "## Step 3: Create a geographical plot of the mass trends"
   ]
  },
  {
   "cell_type": "code",
   "execution_count": null,
   "metadata": {},
   "outputs": [],
   "source": [
    "from xarray.plot import scatter\n",
    "import cartopy.crs as ccrs\n",
    "import matplotlib.pyplot as mpl\n",
    "import pandas as pd\n",
    "import numpy as np\n",
    "\n",
    "%matplotlib inline\n",
    "itime = 0\n",
    "yrstart = np.datetime_as_string(greenTrnd.start_time[itime].time.values, unit=\"Y\")\n",
    "yrend = np.datetime_as_string(greenTrnd.end_time[itime].time.values, unit=\"Y\")\n",
    "\n",
    "mpl.figure(figsize=(16, 8))\n",
    "crs = ccrs.NorthPolarStereo(-45)\n",
    "xy = crs.transform_points(ccrs.PlateCarree(), greenTrnd.longitude.values, greenTrnd.latitude.values)\n",
    "ax = mpl.subplot(projection=crs)\n",
    "ax.coastlines()\n",
    "greenTrnd.isel(time=itime).plot.scatter(x=\"longitude\", \n",
    "                                        y=\"latitude\", \n",
    "                                        hue=\"GMB_trend\", \n",
    "                                        cmap=\"RdBu\",\n",
    "                                        transform=ccrs.PlateCarree(),\n",
    "                                        ax=ax,\n",
    "                                        vmin=-500,\n",
    "                                        vmax=500,\n",
    "                                        s=70,\n",
    "                                        marker='H')\n",
    "ax.set_title(f\"mm/yr (equivalent water) {yrstart} - {yrend}\")"
   ]
  },
  {
   "cell_type": "markdown",
   "metadata": {},
   "source": [
    "## Questions (please share and discuss your answers on the forum)\n",
    "* Try to select different trend periods (variable `itime`). In which regions do you see changes?\n",
    "* To better visualize the areas which have undergone change, adapt (or copy) the code and plot the difference between two trend periods.\n",
    "* The spatial resolution of mass changes from GRACE and GRACE-FO are much coarser than what can be obtained from for example ice altimetry from e.g. Cryosat-2, but there are advantages too. Try to make a list of advantages/disadvantages of gravimetry versus altimetry and exchange your findings on the forum.\n"
   ]
  }
 ],
 "metadata": {
  "kernelspec": {
   "display_name": "Python 3 (ipykernel)",
   "language": "python",
   "name": "python3"
  },
  "language_info": {
   "codemirror_mode": {
    "name": "ipython",
    "version": 3
   },
   "file_extension": ".py",
   "mimetype": "text/x-python",
   "name": "python",
   "nbconvert_exporter": "python",
   "pygments_lexer": "ipython3",
   "version": "3.9.7"
  }
 },
 "nbformat": 4,
 "nbformat_minor": 4
}
