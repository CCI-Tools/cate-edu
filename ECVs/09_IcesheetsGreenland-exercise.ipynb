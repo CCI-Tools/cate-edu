{
 "cells": [
  {
   "cell_type": "markdown",
   "metadata": {},
   "source": [
    "<img src=\"media/Cryo+ESA_Logo_plain-50gray.svg\" alt=\"CCI Cryosphere banner\" width=\"1000\"/>"
   ]
  },
  {
   "cell_type": "markdown",
   "metadata": {},
   "source": [
    "# Greenland mass change exercise\n",
    "\n",
    "The Gravity Recovery and Climate Experiment (GRACE, and it's follow-on GRACE-FO), [have the unique ability to 'weigh' the ice sheets from space](https://earth.esa.int/eogateway/missions/grace). The satellite mission uses the principle that satellite orbits are affected by gravitational changes of the Earth. In reversal, a very accurate tracking of the satellite orbits over time allows the determination of mass changes on the Earth.\n",
    "\n",
    "In this exercise we download and visualize a GRACE CCI product of ice mass change using cate. After the exercise you'll have an idea of the current imbalance of the Greenland icesheet and see where the icesheet is losing mass.\n",
    "\n",
    "## Preparations\n",
    "If you haven't done so please follow the [Cate tutorial](futurelearn.com/tbd) to get started using the exercises.\n",
    "\n",
    "## Cate software and the open data portal\n",
    "\n",
    "In this exercise we'll be querying the open data portal for sea ice concentration products as produced by the [Climate Change Initiative Sea Ice project](https://climate.esa.int/en/projects/sea-ice/). The [**open data portal**](https://climate.esa.int/en/odp/#/dashboard) hosts a variety of datasets on the [Jasmin infrastructure on the UK](https://jasmin.ac.uk/). These can be queried using the dedicated [Cate python module](https://cate.readthedocs.io/en/latest/). Cate allows retrieving data from the data portal and the web-interface which you find at [cate.climate.esa.int](https://cate.climate.esa.int) is build upon it.\n",
    "\n",
    "In this Jupyter notebook exercise we will directly call Cate functions, and it will show you how these can be used in advanced worksflows."
   ]
  },
  {
   "cell_type": "markdown",
   "metadata": {},
   "source": [
    "## Step 1: loading python modules and initialize the data store pool"
   ]
  },
  {
   "cell_type": "code",
   "execution_count": 2,
   "metadata": {},
   "outputs": [],
   "source": [
    "# To get things started we need to initialize a few things\n",
    "#Load some python modules to make them accessible to the notebook\n",
    "from cate.core.ds import DATA_STORE_POOL\n",
    "import cate.ops as ops\n",
    "from cate.util.monitor import ConsoleMonitor\n",
    "from cate.core.ds import get_metadata_from_descriptor\n",
    "from cate.ops.io import open_dataset\n",
    "\n",
    "# the following is needed to run Cate in a Jupyter Notebook\n",
    "from xcube.util.ipython import enable_asyncio\n",
    "enable_asyncio()\n",
    "\n",
    "# utilities\n",
    "from IPython.display import display\n",
    "import numpy as np\n",
    "from datetime import datetime\n",
    "\n",
    "monitor=ConsoleMonitor()"
   ]
  },
  {
   "cell_type": "markdown",
   "metadata": {},
   "source": [
    "To begin, let us see which data stores are available in the Data Store Pool."
   ]
  },
  {
   "cell_type": "code",
   "execution_count": null,
   "metadata": {},
   "outputs": [],
   "source": [
    "DATA_STORE_POOL.store_instance_ids"
   ]
  },
  {
   "cell_type": "markdown",
   "metadata": {},
   "source": [
    "We see three stores. The 'cci-store' is a store that provides access to all datasets from the CCI Open Data Portal. The 'cci-zarr-store' is a store that contains selected data from the Open Data Portal, converted to the zarr format. The datasets from this store can be opened and processed faster, but the store provides only a small subset of what is offered by the 'cci-store'. The 'local' data store finally allows to access locally provided data. Also, when you select to cache data, you will find it in this store. Cached data can also be opened quickly.\n",
    "\n",
    "For starters, let us use the 'cci-store' which connects to the Open Data Portal and allows access to the datasets listed at https://catalogue.ceda.ac.uk. We can ask for the search parameters of the store to see how a search can be performed."
   ]
  },
  {
   "cell_type": "code",
   "execution_count": 3,
   "metadata": {},
   "outputs": [
    {
     "data": {
      "application/json": {
       "additionalProperties": false,
       "properties": {
        "bbox": {
         "items": [
          {
           "type": "number"
          },
          {
           "type": "number"
          },
          {
           "type": "number"
          },
          {
           "type": "number"
          }
         ],
         "type": "array"
        },
        "data_type": {
         "enum": [
          "MSLA",
          "SITHICK",
          "BA",
          "CHLOR_A",
          "SCFV",
          "SEC",
          "SSMS",
          "GTD",
          "PFR",
          "WB",
          "LP",
          "LK_PRODUCTS",
          "SSS",
          "K_490",
          "NP",
          "CH4",
          "MSLAMPH",
          "ALT",
          "TC",
          "AAI",
          "RRS",
          "AER_PRODUCTS",
          "OC_PRODUCTS",
          "SWE",
          "SSMV",
          "AEX",
          "AOD",
          "CO2",
          "MSLTR",
          "IOP",
          "CLD_PRODUCTS",
          "SSTskin",
          "SSTdepth",
          "SWH",
          "CFL",
          "SCFG",
          "SLA",
          "AGB",
          "SICONC",
          "GMB",
          "IV",
          "MSL",
          "GLL",
          "LCCS"
         ],
         "type": "string"
        },
        "ecv": {
         "enum": [
          "OZONE",
          "ICESHEETS",
          "FIRE",
          "CLOUD",
          "PERMAFROST",
          "SST",
          "BIOMASS",
          "SNOW",
          "LC",
          "SEASTATE",
          "LAKES",
          "SEALEVEL",
          "GHG",
          "SEASURFACESALINITY",
          "OC",
          "SOILMOISTURE",
          "SEAICE",
          "AEROSOL"
         ],
         "type": "string"
        },
        "end_date": {
         "format": "date-time",
         "type": "string"
        },
        "frequency": {
         "enum": [
          "day",
          "5 days",
          "satellite-orbit-frequency",
          "month",
          "8 days",
          "10 days",
          "13 years",
          "year",
          "15 days",
          "unspecified",
          "climatology"
         ],
         "type": "string"
        },
        "institute": {
         "enum": [
          "Plymouth Marine Laboratory",
          "Alfred-Wegener-Institut Helmholtz-Zentrum für Polar- und Meeresforschung",
          "ENVironmental Earth Observation IT GmbH",
          "multi-institution",
          "DTU Space",
          "Vienna University of Technology",
          "Deutscher Wetterdienst",
          "Netherlands Institute for Space Research",
          "Technische Universität Dresden",
          "Institute of Environmental Physics",
          "Rutherford Appleton Laboratory",
          "Universite Catholique de Louvain",
          "University of Alcala",
          "University of Leicester",
          "Norwegian Meteorological Institute",
          "University of Bremen",
          "Belgian Institute for Space Aeronomy",
          "Deutsches Zentrum fuer Luft- und Raumfahrt",
          "Freie Universitaet Berlin",
          "Royal Netherlands Meteorological Institute",
          "The Geological Survey of Denmark and Greenland"
         ],
         "type": "string"
        },
        "platform": {
         "enum": [
          "NOAA-18",
          "Aqua",
          "GOSAT",
          "ODIN",
          "GRACE",
          "GFO",
          "CryoSat-2",
          "Terra",
          "Sentinel-5P",
          "NOAA-12",
          "NOAA-16",
          "ALOS",
          "OCO-2",
          "Sentinel-2A",
          "NOAA-19",
          "Jason-2",
          "SARAL",
          "Unspecified",
          "Metop-A",
          "ERS-1",
          "Envisat",
          "NOAA-7",
          "Jason-3",
          "NOAA-14",
          "Topex-Poseidon",
          "NOAA-9",
          "ERS-2",
          "NOAA-11",
          "Sentinel-1A",
          "Jason-1",
          "NOAA-15",
          "NOAA-17",
          "RadarSat-2",
          "multi-platform"
         ],
         "type": "string"
        },
        "processing_level": {
         "enum": [
          "Unspecified",
          "L3S",
          "L2",
          "L3",
          "L3C",
          "IND",
          "L4",
          "L3U",
          "L2P"
         ],
         "type": "string"
        },
        "product_string": {
         "enum": [
          "GOMOS_ENVISAT",
          "OCPR",
          "MERGED_OI_7DAY_RUNNINGMEAN_DAILY_25km",
          "NH25KMEASE2",
          "AVHRR-PM",
          "AVHRR_MERGED",
          "MSI",
          "ATSR1",
          "ADV",
          "MULTI_1M",
          "AVHRR12_G",
          "AATSR-ENVISAT-ENS_DAILY",
          "Envisat",
          "SRPR",
          "SE_ASIA",
          "Jason-3",
          "GMPE",
          "Topex-Poseidon",
          "MZM",
          "ATSR2-ENVISAT-ENS",
          "AVHRR-AM",
          "SU",
          "ATSR2-ENVISAT-ENS_MONTHLY",
          "ATSR2",
          "COMBINED",
          "OSTIA",
          "AVHRR11_G",
          "MERIS-AATSR",
          "AMSR_25kmEASE2",
          "S_AUSTRALIA",
          "SRFP",
          "SH50KMEASE2",
          "ERA5_MODISLST_BIASCORRECTED",
          "Jason-2",
          "MSAAI",
          "AMSR_50kmEASE2",
          "SCIAMACHY_ENVISAT",
          "PASSIVE",
          "IMAP",
          "AVHRR19_G",
          "AATSR",
          "MERIS_ENVISAT",
          "UNSPECIFIED",
          "NH",
          "WFMD",
          "N_INDIAN",
          "WAFRICA",
          "AVHRR07_G",
          "MED_SEA",
          "EMMA",
          "CryoSat-2",
          "AERGOM",
          "ATSR2-AATSR",
          "SMR_ODIN",
          "Saral",
          "AVHRR09_G",
          "ORAC",
          "AVHRRMTA_G",
          "BESD",
          "ERS-2",
          "NE_ATL",
          "OSIRIS_ODIN",
          "AATSR-ENVISAT-ENS_ANNUAL",
          "MERGED",
          "OCFP",
          "ATSR2-ENVISAT-ENS_DAILY",
          "ACTIVE",
          "GFO",
          "MERGED_OI_Monthly_CENTRED_15Day_25km",
          "Map",
          "VARIOUS",
          "MODISLST_CRYOGRID",
          "AVHRR15_G",
          "SH",
          "ERS-1",
          "MULTI_1D",
          "MODIS_AQUA",
          "AVHRR14_G",
          "AATSR-ENVISAT-ENS_MONTHLY",
          "Jason-1",
          "MIPAS_ENVISAT",
          "AVHRR17_G",
          "MODIS_TERRA",
          "AATSR-ENVISAT-ENS",
          "AVHRR18_G",
          "AVHRR16_G",
          "ATSR2-ENVISAT-ENS_ANNUAL"
         ],
         "type": "string"
        },
        "product_version": {
         "enum": [
          "2-0-7",
          "fv0002",
          "v7-0-1",
          "2-31",
          "v0001",
          "v2-2a",
          "v06-1",
          "04-01-",
          "04-01_seg-",
          "1-2",
          "2-2",
          "v7-2",
          "v5-1",
          "03-0",
          "2-1",
          "v3-0",
          "1-5",
          "1-0",
          "v4-0",
          "04-01",
          "3-0",
          "v08",
          "v2-3-8",
          "v2-2c",
          "v1-0",
          "4-0",
          "v2-1",
          "3-1",
          "1-3",
          "1-1",
          "2-0",
          "v02-01-02",
          "4-3",
          "v7-0",
          "fv0100",
          "ch4_v1-2",
          "3-00",
          "v2-2b",
          "v1-3",
          "v05-3",
          "v2-6",
          "v1-2",
          "1-7",
          "4-2",
          "05-2",
          "1-4",
          "5-0",
          "v1-1"
         ],
         "type": "string"
        },
        "sensor": {
         "enum": [
          "AVHRR-3",
          "RA-2",
          "GRACE-instrument",
          "ASAR",
          "SIRAL",
          "AMI-SAR",
          "TANSO-FTS",
          "RA",
          "ATSR",
          "OSIRIS",
          "TROPOMI",
          "SAR-C-(Sentinel-1)",
          "multi-sensor",
          "Unspecified",
          "Poseidon-2",
          "Poseidon-3B",
          "MERIS",
          "SAR-(RadarSat-2)",
          "ATSR-2",
          "GFO-RA",
          "SCIAMACHY",
          "GOMOS",
          "PALSAR",
          "MODIS",
          "SMR",
          "Poseidon-3",
          "NRA",
          "MSI-(Sentinel-2)",
          "OCO",
          "AATSR",
          "AVHRR-2",
          "AltiKa",
          "SAR-2000",
          "MIPAS"
         ],
         "type": "string"
        },
        "start_date": {
         "format": "date-time",
         "type": "string"
        }
       },
       "type": "object"
      },
      "text/plain": [
       "<xcube.util.jsonschema.JsonObjectSchema at 0x7fa43cd250>"
      ]
     },
     "execution_count": 3,
     "metadata": {},
     "output_type": "execute_result"
    }
   ],
   "source": [
    "data_store = DATA_STORE_POOL.get_store('cci-store')\n",
    "data_store.get_search_params_schema()"
   ]
  },
  {
   "cell_type": "markdown",
   "metadata": {},
   "source": [
    "## Step 2: Finding ice sheet mass change data\n",
    "For this exercise, we are interested in GRACE data sets, so we ask for datasets of the platform \"GRACE\". We then display the results of the query."
   ]
  },
  {
   "cell_type": "code",
   "execution_count": null,
   "metadata": {},
   "outputs": [],
   "source": [
    "# lets query the dataserver\n",
    "icesheetqry=data_store.search_data(platform=\"GRACE\")\n",
    "\n",
    "for i,item in enumerate(icesheetqry):\n",
    "    print(f'\\nDataset item {i}:')\n",
    "    display(item)"
   ]
  },
  {
   "cell_type": "markdown",
   "metadata": {},
   "source": [
    "Of these, we pick \"esacci.ICESHEETS.yr.Unspecified.GMB.GRACE-instrument.GRACE.UNSPECIFIED.1-5.greenland_gmb_mass_trends\" and open it. The parameter 'data_store_id' is not absolutely necessary, but it makes the opening a little faster."
   ]
  },
  {
   "cell_type": "code",
   "execution_count": null,
   "metadata": {},
   "outputs": [],
   "source": [
    "greenTrnd=open_dataset(ds_id=\"esacci.ICESHEETS.yr.Unspecified.GMB.GRACE-instrument.GRACE.UNSPECIFIED.1-5.greenland_gmb_mass_trends\",\n",
    "                       data_store_id='cci-store')"
   ]
  },
  {
   "cell_type": "markdown",
   "metadata": {},
   "source": [
    "## Step 3: Create a geographical plot of the mass trends"
   ]
  },
  {
   "cell_type": "code",
   "execution_count": null,
   "metadata": {},
   "outputs": [],
   "source": [
    "from xarray.plot import scatter\n",
    "import cartopy.crs as ccrs\n",
    "import matplotlib.pyplot as mpl\n",
    "import pandas as pd\n",
    "import numpy as np\n",
    "\n",
    "%matplotlib inline\n",
    "itime=0\n",
    "yrstart=np.datetime_as_string(greenTrnd.start_time[itime],unit=\"Y\")\n",
    "yrend=np.datetime_as_string(greenTrnd.end_time[itime],unit=\"Y\")\n",
    "mpl.figure(figsize=(16,8))\n",
    "crs=ccrs.NorthPolarStereo(-45)\n",
    "xy=crs.transform_points(ccrs.PlateCarree(),greenTrnd.longitude.values,greenTrnd.latitude.values)\n",
    "ax = mpl.subplot(projection=crs)\n",
    "ax.coastlines()\n",
    "greenTrnd.isel(time=itime).plot.scatter(x=\"longitude\",y=\"latitude\",hue=\"GMB_trend\",cmap=\"RdBu\",transform=ccrs.PlateCarree(),ax=ax,vmin=-500,vmax=500,s=70,marker='H')\n",
    "ax.set_title(\"mm/yr (equivalent water) %s - %s\"%(yrstart,yrend))"
   ]
  },
  {
   "cell_type": "markdown",
   "metadata": {},
   "source": [
    "## Questions (please share and discuss your answers on the forum)\n",
    "* Try to select different trend periods (variable `itime`). In which regions do you see changes?\n",
    "* To better visualize the areas which have undergone change, adapt (or copy) the code and plot the difference between two trend periods.\n",
    "* The spatial resolution of mass changes from GRACE and GRACE-FO are much coarser than what can be obtained from for example ice altimetry from e.g. Cryosat-2, but there are advantages too. Try to make a list of advantages/disadvantages of gravimetry versus altimetry and exchange your findings on the forum.\n"
   ]
  }
 ],
 "metadata": {
  "kernelspec": {
   "display_name": "Python (ipykernel)",
   "language": "python",
   "name": "python3"
  },
  "language_info": {
   "codemirror_mode": {
    "name": "ipython",
    "version": 3
   },
   "file_extension": ".py",
   "mimetype": "text/x-python",
   "name": "python",
   "nbconvert_exporter": "python",
   "pygments_lexer": "ipython3",
   "version": "3.8.10"
  }
 },
 "nbformat": 4,
 "nbformat_minor": 4
}
