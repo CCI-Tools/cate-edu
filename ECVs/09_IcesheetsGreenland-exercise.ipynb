{
 "cells": [
  {
   "cell_type": "markdown",
   "metadata": {},
   "source": [
    "<img src=\"media/Cryo+ESA_Logo_plain-50gray.svg\" alt=\"CCI Cryosphere banner\" width=\"1000\"/>"
   ]
  },
  {
   "cell_type": "markdown",
   "metadata": {},
   "source": [
    "# Exercise: Greenland mass change from satellite gravimetry\n",
    "\n",
    "The Gravity Recovery and Climate Experiment (GRACE, and it's follow-on GRACE-FO), [have the unique ability to 'weigh' the ice sheets from space](https://earth.esa.int/eogateway/missions/grace). The satellite mission uses the principle that satellite orbits are affected by gravitational changes of the Earth. In reversal, a very accurate tracking of the satellite orbits over time allows the determination of mass changes on the Earth.\n",
    "\n",
    "In this exercise we download and visualize a GRACE CCI product of ice mass change using cate. After the exercise you'll have an idea of the current imbalance of the Greenland icesheet and see where the icesheet is losing mass.\n",
    "\n",
    "## Preparations\n",
    "If you haven't done so please follow the [Cate tutorial](https://www.futurelearn.com/courses/understanding-climate-change-using-satellite-climate-data/1/steps/1230976) to get started using the Jupyter notebook exercises.\n",
    "\n",
    "## Cate software and the open data portal\n",
    "\n",
    "We'll be querying the open data portal for sea ice concentration products as produced by the [Climate Change Initiative Sea Ice project](https://climate.esa.int/en/projects/sea-ice/). The [**open data portal**](https://climate.esa.int/en/odp/#/dashboard) hosts a variety of datasets on the [Jasmin infrastructure on the UK](https://jasmin.ac.uk/). These can be queried using the dedicated [Cate python module](https://cate.readthedocs.io/en/latest/). Cate allows retrieving data from the data portal and the web-interface which you find at [cate.climate.esa.int](https://cate.climate.esa.int) is build upon it.\n",
    "\n",
    "In this Jupyter notebook exercise we will directly call Cate functions, and it will show you how these can be used in advanced workflows.\n",
    "\n",
    "## Starting the exercise\n",
    "To perform the exercise and execute the code in this notebook you can run it through the [mybinder.org](https://mybinder.org/) service by clicking on the binder link below (if resources allow it). Alternatively, you can download/clone the notebooks from [github](https://github.com/CCI-Tools/cate-edu) and run them through your own Jupyter notebook instance (this may initially take more time to setup, but does allow you to store your changes and extend the notebooks exercises to your own needs).\n",
    "\n",
    "[![click to run this notebook on mybinder.org](https://mybinder.org/badge_logo.svg)](https://mybinder.org/v2/gh/CCI-Tools/cate-edu/HEAD?filepath=ECVs%2F09_IcesheetsGreenland-exercise.ipynb)\n",
    "\n",
    "or [clone the notebook repository on github](https://github.com/CCI-Tools/cate-edu)"
   ]
  },
  {
   "cell_type": "markdown",
   "metadata": {},
   "source": [
    "## Step 1: loading python modules and initialize the data store pool"
   ]
  },
  {
   "cell_type": "code",
   "execution_count": 1,
   "metadata": {},
   "outputs": [],
   "source": [
    "# To get things started we need to initialize a few things\n",
    "#Load some python modules to make them accessible to the notebook\n",
    "from cate.core.ds import DATA_STORE_POOL\n",
    "import cate.ops as ops\n",
    "from cate.util.monitor import ConsoleMonitor\n",
    "from cate.core.ds import get_metadata_from_descriptor\n",
    "from cate.ops.io import open_dataset\n",
    "\n",
    "# the following is needed to run Cate in a Jupyter Notebook\n",
    "from xcube.util.ipython import enable_asyncio\n",
    "enable_asyncio()\n",
    "\n",
    "# utilities\n",
    "from IPython.display import display\n",
    "import numpy as np\n",
    "from datetime import datetime\n",
    "\n",
    "monitor = ConsoleMonitor()"
   ]
  },
  {
   "cell_type": "markdown",
   "metadata": {},
   "source": [
    "To begin, let us see which data stores are available in the Data Store Pool."
   ]
  },
  {
   "cell_type": "code",
   "execution_count": 2,
   "metadata": {},
   "outputs": [
    {
     "data": {
      "text/plain": [
       "['cci-store', 'cci-zarr-store', 'local']"
      ]
     },
     "execution_count": 2,
     "metadata": {},
     "output_type": "execute_result"
    }
   ],
   "source": [
    "DATA_STORE_POOL.store_instance_ids"
   ]
  },
  {
   "cell_type": "markdown",
   "metadata": {},
   "source": [
    "We see three different stores. \n",
    "\n",
    "The **cci-store** is a store that provides access to all datasets from the CCI Open Data Portal. It connects to the Open Data Portal and allows access to the datasets listed at https://catalogue.ceda.ac.uk. We can ask for the search parameters of the store to see how a search can be performed.\n",
    "\n",
    "The **cci-zarr-store** is a store that contains selected data from the Open Data Portal, converted to the [zarr format](https://zarr.readthedocs.io/en/stable/). The datasets from this store can be opened and processed faster, but the store provides only a small subset of what is offered by the **cci-store**. \n",
    "\n",
    "The **local** data store finally allows to access locally provided data. Also, when you select to cache data, you will find it in this store. Cached data can also be opened quickly.\n",
    "\n",
    "This notebook will allow you to try out both the *cci-zarr-store* and the *cci-store*. Just uncomment/comment the appropriate `cci_store` variable below."
   ]
  },
  {
   "cell_type": "code",
   "execution_count": 18,
   "metadata": {},
   "outputs": [
    {
     "data": {
      "application/json": {
       "additionalProperties": false,
       "type": "object"
      },
      "text/plain": [
       "<xcube.util.jsonschema.JsonObjectSchema at 0x7fcd8f7f40d0>"
      ]
     },
     "metadata": {},
     "output_type": "display_data"
    }
   ],
   "source": [
    "# uncomment/comment the cci_store variable below to use the \n",
    "cci_store = 'cci-zarr-store'\n",
    "# cci_store = 'cci-store'\n",
    "\n",
    "data_store = DATA_STORE_POOL.get_store(cci_store)\n",
    "display(data_store.get_search_params_schema())\n",
    "\n",
    "if cci_store == 'cci-zarr-store':\n",
    "    #you can also list all the data ids of the smaller zarr catalogue\n",
    "    list(data_store.get_data_ids())"
   ]
  },
  {
   "cell_type": "markdown",
   "metadata": {},
   "source": [
    "## Step 2: Finding ice sheet mass change data\n",
    "For this exercise, we are interested in GRACE data sets, so we ask for datasets of the platform \"GRACE\". We then display the results of the query."
   ]
  },
  {
   "cell_type": "code",
   "execution_count": 4,
   "metadata": {},
   "outputs": [
    {
     "name": "stderr",
     "output_type": "stream",
     "text": [
      "/opt/conda/lib/python3.9/site-packages/xcube_cci/cciodp.py:1184: CciOdpWarning: Variable \"crs\" has no fill value, cannot set one. For parts where no data isavailable you will see random values. Thisis usually the case when data is missing for a time step.\n",
      "  warnings.warn(f'Variable \"{fixed_key}\" has no fill value, '\n"
     ]
    },
    {
     "name": "stdout",
     "output_type": "stream",
     "text": [
      "\n",
      "Dataset item 0:\n"
     ]
    },
    {
     "data": {
      "application/json": {
       "attrs": {
        "abstract": "This dataset provides the Gravitational Mass Balance (GMB) product derived from gravimetry data from the GRACE satellite instrument, by TU Dresden.  The data consists of two products: a mass change time series for the entire Greenland Ice Sheet and different drainage basins for the period April 2002 to August 2016; and mass trend grids for different 5-year periods between 2003 and 2016.   This version (1.3) is derived from GRACE monthly solutions from the CSR RL06 product.\n\nThe mass change time series contains the mass change (with respect to a chosen reference month) for all of the Greenland Ice Sheet and each individual drainage basin.  For each month (defined by a decimal year) a mass change in Gt and its associated error (also in Gt) is provided.   The mass trend grid product is given in units of mm water equivalent per year.\n\nMass balance is an important variable to understand glacial thinning and ablation rates to enable mapping glacier area change. The time series allows the longer term comparison of trends whereas the mass trend grids provide a yearly snapshot which can be further analysed and compared across the data set. \n\nBasin definitions and further data descriptions can be found in the Algorithm Theoretical Baseline Document (ST-DTU-ESA-GISCCI-ATBD-001_v3.1.pdf) and Product Specification Document (ST-DTU-ESA-GISCCI-PSD_v2.2.pdf) which are provided on the Greenland Ice Sheet CCI project website. This GMB product has been produced by TU Dresden for comparison with the existing GMB product derived by DTU Space.\n\nPlease cite the dataset as follows: Groh, A., & Horwath, M. (2016). The method of tailored sensitivity kernels for GRACE mass change estimates. Geophysical Research Abstracts, 18, EGU2016-12065",
        "catalog_url": "https://catalogue.ceda.ac.uk/uuid/5970b33c92ef444793fb6d7e54d1230e",
        "cci_project": "ICESHEETS",
        "data_type": "GMB",
        "ecv": "ICESHEETS",
        "institute": "Technische Universität Dresden",
        "licences": "Use of these data is covered by the following licence: http://licences.ceda.ac.uk/image/data_access_condition/esacci_icesheets_greenland_terms_and_conditions.pdf . When using these data you must cite them correctly using the citation given on the CEDA Data Catalogue record.",
        "platform_id": "GRACE",
        "processing_level": "IND",
        "product_string": "VARIOUS",
        "product_version": "1-3",
        "publication_date": "2018-11-28T17:03:31",
        "sensor_id": "GRACE-instrument",
        "title": "ESA Greenland Ice Sheet Climate Change Initiative (Greenland_Ice_Sheet_cci): Greenland Gravimetric Mass Balance from GRACE data (CSR RL06), derived by TU Dresden, v1.3",
        "uuid": "5970b33c92ef444793fb6d7e54d1230e"
       },
       "bbox": [
        -80,
        60,
        -10,
        90
       ],
       "coords": {
        "time": {
         "attrs": {
          "calendar": "proleptic_gregorian",
          "standard_name": "time",
          "units": "seconds since 1970-01-01T00:00:00Z"
         },
         "dims": [
          "time"
         ],
         "dtype": "int64",
         "name": "time"
        },
        "time_bnds": {
         "attrs": {
          "calendar": "proleptic_gregorian",
          "standard_name": "time_bnds",
          "units": "seconds since 1970-01-01T00:00:00Z"
         },
         "dims": [
          "time",
          "bnds"
         ],
         "dtype": "int64",
         "name": "time_bnds"
        }
       },
       "crs": "WGS84",
       "data_id": "esacci.ICESHEETS.mon.IND.GMB.GRACE-instrument.GRACE.VARIOUS.1-3.greenland_gmb_time_series",
       "data_type": "dataset",
       "dims": {
        "bnds": 2,
        "time": 19
       },
       "open_params_schema": {
        "additionalProperties": false,
        "properties": {
         "bbox": {
          "items": [
           {
            "maximum": -10,
            "minimum": -80,
            "type": "number"
           },
           {
            "maximum": 90,
            "minimum": 60,
            "type": "number"
           },
           {
            "maximum": -10,
            "minimum": -80,
            "type": "number"
           },
           {
            "maximum": 90,
            "minimum": 60,
            "type": "number"
           }
          ],
          "type": "array"
         },
         "normalize_data": {
          "default": true,
          "type": "boolean"
         },
         "time_range": {
          "items": [
           {
            "format": "date",
            "maxDate": "2016-08-31",
            "minDate": "2002-03-31",
            "type": "string"
           },
           {
            "format": "date",
            "maxDate": "2016-08-31",
            "minDate": "2002-03-31",
            "type": "string"
           }
          ],
          "type": "array"
         },
         "variable_names": {
          "items": {
           "type": "string"
          },
          "type": "array"
         }
        },
        "type": "object"
       },
       "time_period": "1M",
       "time_range": [
        "2002-03-31",
        "2016-08-31"
       ]
      },
      "text/plain": [
       "<xcube.core.store.descriptor.DatasetDescriptor at 0x7fcd8f794820>"
      ]
     },
     "metadata": {},
     "output_type": "display_data"
    },
    {
     "name": "stdout",
     "output_type": "stream",
     "text": [
      "\n",
      "Dataset item 1:\n"
     ]
    },
    {
     "data": {
      "application/json": {
       "attrs": {
        "abstract": "This dataset provides the Gravitational Mass Balance (GMB) product derived from gravimetry data from the GRACE satellite instrument, by TU Dresden.  The data consists of two products: a mass change time series for the entire Greenland Ice Sheet and different drainage basins for the period April 2002 to August 2016; and mass trend grids for different 5-year periods between 2003 and 2016.   This version (1.2) is derived from GRACE monthly solutions provided by TU Graz (ITSG-Grace 2016)\n\nThe mass change time series contains the mass change (with respect to a chosen reference month) for all of the Greenland Ice Sheet and each individual drainage basin.  For each month (defined by a decimal year) a mass change in Gt and its associated error (also in Gt) is provided.   The mass trend grid product is given in units of mm water equivalent per year.\n\nMass balance is an important variable to understand glacial thinning and ablation rates to enable mapping glacier area change. The time series allows the longer term comparison of trends whereas the mass trend grids provide a yearly snapshot which can be further analysed and compared across the data set. \n\nBasin definitions and further data descriptions can be found in the Algorithm Theoretical Baseline Document (ST-DTU-ESA-GISCCI-ATBD-001_v3.1.pdf) and Product Specification Document (ST-DTU-ESA-GISCCI-PSD_v2.2.pdf) which are provided on the Greenland Ice Sheet CCI project website. This GMB product has been produced by TU Dresden for comparison with the existing GMB product derived by DTU Space.\n\nPlease cite the dataset as follows: Groh, A., & Horwath, M. (2016). The method of tailored sensitivity kernels for GRACE mass change estimates. Geophysical Research Abstracts, 18, EGU2016-12065",
        "catalog_url": "https://catalogue.ceda.ac.uk/uuid/b017235a8e544d6fbad21387ebfbf0d8",
        "cci_project": "ICESHEETS",
        "data_type": "GMB",
        "ecv": "ICESHEETS",
        "institute": "Technische Universität Dresden",
        "licences": "Use of these data is covered by the following licence: http://licences.ceda.ac.uk/image/data_access_condition/esacci_icesheets_greenland_terms_and_conditions.pdf . When using these data you must cite them correctly using the citation given on the CEDA Data Catalogue record.",
        "platform_id": "GRACE",
        "processing_level": "Unspecified",
        "product_string": "UNSPECIFIED",
        "product_version": "1-2",
        "project": "Greenland_Ice_Sheet_cci",
        "publication_date": "2018-11-28T16:59:20",
        "sensor_id": "GRACE-instrument",
        "source": "GRACE monthly solutions provided by TU Graz (ITSG-Grace2016)",
        "title": "ESA Greenland Ice Sheet Climate Change Initiative (Greenland_Ice_Sheet_cci): Greenland Gravimetric Mass Balance from GRACE data, derived by TU Dresden, v1.2",
        "uuid": "b017235a8e544d6fbad21387ebfbf0d8"
       },
       "bbox": [
        -80,
        60,
        -10,
        90
       ],
       "coords": {
        "latitude": {
         "attrs": {
          "chunk_sizes": 724,
          "data_type": "float64",
          "dimensions": [
           "meas_ind"
          ],
          "file_chunk_sizes": 724,
          "file_dimensions": [
           "meas_ind"
          ],
          "fill_value": null,
          "long_name": "latitude",
          "orig_data_type": "float64",
          "shape": [
           724
          ],
          "size": 724,
          "standard_name": "latitude",
          "units": "degrees_north"
         },
         "dims": [
          "meas_ind"
         ],
         "dtype": "float64",
         "name": "latitude"
        },
        "longitude": {
         "attrs": {
          "chunk_sizes": 724,
          "data_type": "float64",
          "dimensions": [
           "meas_ind"
          ],
          "file_chunk_sizes": 724,
          "file_dimensions": [
           "meas_ind"
          ],
          "fill_value": null,
          "long_name": "longitude",
          "orig_data_type": "float64",
          "shape": [
           724
          ],
          "size": 724,
          "standard_name": "longitude",
          "units": "degrees_east"
         },
         "dims": [
          "meas_ind"
         ],
         "dtype": "float64",
         "name": "longitude"
        },
        "time": {
         "attrs": {
          "calendar": "proleptic_gregorian",
          "standard_name": "time",
          "units": "seconds since 1970-01-01T00:00:00Z"
         },
         "dims": [
          "time"
         ],
         "dtype": "int64",
         "name": "time"
        },
        "time_bnds": {
         "attrs": {
          "calendar": "proleptic_gregorian",
          "standard_name": "time_bnds",
          "units": "seconds since 1970-01-01T00:00:00Z"
         },
         "dims": [
          "time",
          "bnds"
         ],
         "dtype": "int64",
         "name": "time_bnds"
        }
       },
       "crs": "\\\"WGS 84\\\"",
       "data_id": "esacci.ICESHEETS.yr.Unspecified.GMB.GRACE-instrument.GRACE.UNSPECIFIED.1-2.greenland_gmb_mass_trends",
       "data_type": "dataset",
       "data_vars": {
        "GMB_trend": {
         "attrs": {
          "chunk_sizes": [
           10,
           724
          ],
          "coordinates": "latitude longitude",
          "data_type": "float64",
          "dimensions": [
           "time",
           "meas_ind"
          ],
          "file_chunk_sizes": [
           10,
           724
          ],
          "file_dimensions": [
           "time",
           "meas_ind"
          ],
          "fill_value": null,
          "long_name": "mass trend for time span",
          "orig_data_type": "float64",
          "shape": [
           10,
           724
          ],
          "size": 7240,
          "source": "GRACE - ITSG-Grace2016",
          "standard_name": "tendency_of_change_in_land_ice_amount",
          "units": "kg m-2 yr-1",
          "units_comments": "kg m-2 yr-1 corresponds to mm water equivalent per year"
         },
         "dims": [
          "time",
          "meas_ind"
         ],
         "dtype": "float64",
         "name": "GMB_trend"
        },
        "crs": {
         "attrs": {
          "DODS": {
           "strlen": 0
          },
          "data_type": "bytes1024",
          "dimensions": [],
          "file_dimensions": [],
          "grid_mapping_name": "latitude_longitude",
          "inverse_flattening": "298.257223563",
          "longitude_of_prime_meridian": "0",
          "orig_data_type": "bytes1024",
          "semi_major_axis": "6378137.",
          "shape": [],
          "size": 1,
          "spatial_ref": "GEOGCS[\\\"WGS 84\\\",DATUM[\\\"WGS_1984\\\",SPHEROID[\\\"WGS 84\\\",6378137,298.257223563,AUTHORITY[\\\"EPSG\\\",\\\"7030\\\"]],AUTHORITY[\\\"EPSG\\\",\\\"6326\\\"]],PRIMEM[\\\"Greenwich\\\",0,AUTHORITY[\\\"EPSG\\\",\\\"8901\\\"]],UNIT[\\\"degree\\\",0.01745329251994328,AUTHORITY[\\\"EPSG\\\",\\\"9122\\\"]],AUTHORITY[\\\"EPSG\\\",\\\"4326\\\"]]"
         },
         "dims": [],
         "dtype": "bytes1024",
         "name": "crs"
        },
        "end_time": {
         "attrs": {
          "chunk_sizes": 10,
          "data_type": "float64",
          "dimensions": [
           "time"
          ],
          "file_chunk_sizes": 10,
          "file_dimensions": [
           "time"
          ],
          "fill_value": null,
          "long_name": "end of time span",
          "orig_data_type": "float64",
          "shape": [
           10
          ],
          "size": 10,
          "units": "days since 2003-01-01 00:00:00"
         },
         "dims": [
          "time"
         ],
         "dtype": "float64",
         "name": "end_time"
        },
        "start_time": {
         "attrs": {
          "chunk_sizes": 10,
          "data_type": "float64",
          "dimensions": [
           "time"
          ],
          "file_chunk_sizes": 10,
          "file_dimensions": [
           "time"
          ],
          "fill_value": null,
          "long_name": "start of time span",
          "orig_data_type": "float64",
          "shape": [
           10
          ],
          "size": 10,
          "units": "days since 2003-01-01 00:00:00"
         },
         "dims": [
          "time"
         ],
         "dtype": "float64",
         "name": "start_time"
        },
        "t": {
         "attrs": {
          "axis": "T",
          "calendar": "gregorian",
          "chunk_sizes": 10,
          "data_type": "float64",
          "dimensions": [
           "time"
          ],
          "file_chunk_sizes": 10,
          "file_dimensions": [
           "time"
          ],
          "fill_value": null,
          "long_name": "average time for time slice",
          "orig_data_type": "float64",
          "shape": [
           10
          ],
          "size": 10,
          "standard_name": "time",
          "units": "days since 2003-01-01 00:00:00"
         },
         "dims": [
          "time"
         ],
         "dtype": "float64",
         "name": "t"
        }
       },
       "dims": {
        "bnds": 2,
        "meas_ind": 724,
        "time": 1200
       },
       "open_params_schema": {
        "additionalProperties": false,
        "properties": {
         "normalize_data": {
          "default": true,
          "type": "boolean"
         },
         "time_range": {
          "items": [
           {
            "format": "date",
            "maxDate": "2016-08-31",
            "minDate": "2002-03-31",
            "type": "string"
           },
           {
            "format": "date",
            "maxDate": "2016-08-31",
            "minDate": "2002-03-31",
            "type": "string"
           }
          ],
          "type": "array"
         },
         "variable_names": {
          "items": {
           "enum": [
            "t",
            "start_time",
            "end_time",
            "GMB_trend",
            "crs"
           ],
           "type": "string"
          },
          "type": "array"
         }
        },
        "type": "object"
       },
       "time_period": "1Y",
       "time_range": [
        "2002-03-31",
        "2016-08-31"
       ]
      },
      "text/plain": [
       "<xcube.core.store.descriptor.DatasetDescriptor at 0x7fcd8fa1d730>"
      ]
     },
     "metadata": {},
     "output_type": "display_data"
    },
    {
     "name": "stdout",
     "output_type": "stream",
     "text": [
      "\n",
      "Dataset item 2:\n"
     ]
    },
    {
     "data": {
      "application/json": {
       "attrs": {
        "abstract": "This dataset provides the Gravitational Mass Balance (GMB) product derived from gravimetry data from the GRACE satellite instrument, by TU Dresden.  The data consists of two products: a mass change time series for the entire Greenland Ice Sheet and different drainage basins for the period April 2002 to August 2016; and mass trend grids for different 5-year periods between 2003 and 2016.   This version (1.2) is derived from GRACE monthly solutions provided by TU Graz (ITSG-Grace 2016)\n\nThe mass change time series contains the mass change (with respect to a chosen reference month) for all of the Greenland Ice Sheet and each individual drainage basin.  For each month (defined by a decimal year) a mass change in Gt and its associated error (also in Gt) is provided.   The mass trend grid product is given in units of mm water equivalent per year.\n\nMass balance is an important variable to understand glacial thinning and ablation rates to enable mapping glacier area change. The time series allows the longer term comparison of trends whereas the mass trend grids provide a yearly snapshot which can be further analysed and compared across the data set. \n\nBasin definitions and further data descriptions can be found in the Algorithm Theoretical Baseline Document (ST-DTU-ESA-GISCCI-ATBD-001_v3.1.pdf) and Product Specification Document (ST-DTU-ESA-GISCCI-PSD_v2.2.pdf) which are provided on the Greenland Ice Sheet CCI project website. This GMB product has been produced by TU Dresden for comparison with the existing GMB product derived by DTU Space.\n\nPlease cite the dataset as follows: Groh, A., & Horwath, M. (2016). The method of tailored sensitivity kernels for GRACE mass change estimates. Geophysical Research Abstracts, 18, EGU2016-12065",
        "catalog_url": "https://catalogue.ceda.ac.uk/uuid/b017235a8e544d6fbad21387ebfbf0d8",
        "cci_project": "ICESHEETS",
        "data_type": "GMB",
        "ecv": "ICESHEETS",
        "institute": "Technische Universität Dresden",
        "licences": "Use of these data is covered by the following licence: http://licences.ceda.ac.uk/image/data_access_condition/esacci_icesheets_greenland_terms_and_conditions.pdf . When using these data you must cite them correctly using the citation given on the CEDA Data Catalogue record.",
        "platform_id": "GRACE",
        "processing_level": "Unspecified",
        "product_string": "UNSPECIFIED",
        "product_version": "1-2",
        "publication_date": "2018-11-28T16:59:20",
        "sensor_id": "GRACE-instrument",
        "title": "ESA Greenland Ice Sheet Climate Change Initiative (Greenland_Ice_Sheet_cci): Greenland Gravimetric Mass Balance from GRACE data, derived by TU Dresden, v1.2",
        "uuid": "b017235a8e544d6fbad21387ebfbf0d8"
       },
       "bbox": [
        -80,
        60,
        -10,
        90
       ],
       "coords": {
        "time": {
         "attrs": {
          "calendar": "proleptic_gregorian",
          "standard_name": "time",
          "units": "seconds since 1970-01-01T00:00:00Z"
         },
         "dims": [
          "time"
         ],
         "dtype": "int64",
         "name": "time"
        },
        "time_bnds": {
         "attrs": {
          "calendar": "proleptic_gregorian",
          "standard_name": "time_bnds",
          "units": "seconds since 1970-01-01T00:00:00Z"
         },
         "dims": [
          "time",
          "bnds"
         ],
         "dtype": "int64",
         "name": "time_bnds"
        }
       },
       "crs": "WGS84",
       "data_id": "esacci.ICESHEETS.yr.Unspecified.GMB.GRACE-instrument.GRACE.UNSPECIFIED.1-2.greenland_gmb_timeseries",
       "data_type": "dataset",
       "dims": {
        "bnds": 2,
        "time": 19
       },
       "open_params_schema": {
        "additionalProperties": false,
        "properties": {
         "bbox": {
          "items": [
           {
            "maximum": -10,
            "minimum": -80,
            "type": "number"
           },
           {
            "maximum": 90,
            "minimum": 60,
            "type": "number"
           },
           {
            "maximum": -10,
            "minimum": -80,
            "type": "number"
           },
           {
            "maximum": 90,
            "minimum": 60,
            "type": "number"
           }
          ],
          "type": "array"
         },
         "normalize_data": {
          "default": true,
          "type": "boolean"
         },
         "time_range": {
          "items": [
           {
            "format": "date",
            "maxDate": "2016-08-31",
            "minDate": "2002-03-31",
            "type": "string"
           },
           {
            "format": "date",
            "maxDate": "2016-08-31",
            "minDate": "2002-03-31",
            "type": "string"
           }
          ],
          "type": "array"
         },
         "variable_names": {
          "items": {
           "type": "string"
          },
          "type": "array"
         }
        },
        "type": "object"
       },
       "time_period": "1Y",
       "time_range": [
        "2002-03-31",
        "2016-08-31"
       ]
      },
      "text/plain": [
       "<xcube.core.store.descriptor.DatasetDescriptor at 0x7fcd8f6e8670>"
      ]
     },
     "metadata": {},
     "output_type": "display_data"
    },
    {
     "name": "stdout",
     "output_type": "stream",
     "text": [
      "\n",
      "Dataset item 3:\n"
     ]
    },
    {
     "data": {
      "application/json": {
       "attrs": {
        "abstract": "This dataset provides the Gravitational Mass Balance (GMB) product derived from gravimetry data from the GRACE satellite instrument, by TU Dresden.  The data consists of two products: a mass change time series for the entire Greenland Ice Sheet and different drainage basins for the period April 2002 to August 2016; and mass trend grids for different 5-year periods between 2003 and 2016.   This version (1.3) is derived from GRACE monthly solutions from the CSR RL06 product.\n\nThe mass change time series contains the mass change (with respect to a chosen reference month) for all of the Greenland Ice Sheet and each individual drainage basin.  For each month (defined by a decimal year) a mass change in Gt and its associated error (also in Gt) is provided.   The mass trend grid product is given in units of mm water equivalent per year.\n\nMass balance is an important variable to understand glacial thinning and ablation rates to enable mapping glacier area change. The time series allows the longer term comparison of trends whereas the mass trend grids provide a yearly snapshot which can be further analysed and compared across the data set. \n\nBasin definitions and further data descriptions can be found in the Algorithm Theoretical Baseline Document (ST-DTU-ESA-GISCCI-ATBD-001_v3.1.pdf) and Product Specification Document (ST-DTU-ESA-GISCCI-PSD_v2.2.pdf) which are provided on the Greenland Ice Sheet CCI project website. This GMB product has been produced by TU Dresden for comparison with the existing GMB product derived by DTU Space.\n\nPlease cite the dataset as follows: Groh, A., & Horwath, M. (2016). The method of tailored sensitivity kernels for GRACE mass change estimates. Geophysical Research Abstracts, 18, EGU2016-12065",
        "catalog_url": "https://catalogue.ceda.ac.uk/uuid/5970b33c92ef444793fb6d7e54d1230e",
        "cci_project": "ICESHEETS",
        "data_type": "GMB",
        "ecv": "ICESHEETS",
        "institute": "Technische Universität Dresden",
        "licences": "Use of these data is covered by the following licence: http://licences.ceda.ac.uk/image/data_access_condition/esacci_icesheets_greenland_terms_and_conditions.pdf . When using these data you must cite them correctly using the citation given on the CEDA Data Catalogue record.",
        "platform_id": "GRACE",
        "processing_level": "Unspecified",
        "product_string": "UNSPECIFIED",
        "product_version": "1-3",
        "project": "Greenland_Ice_Sheet_cci",
        "publication_date": "2018-11-28T17:03:31",
        "sensor_id": "GRACE-instrument",
        "source": "GRACE monthly solutions provided by CSR (RL06)",
        "title": "ESA Greenland Ice Sheet Climate Change Initiative (Greenland_Ice_Sheet_cci): Greenland Gravimetric Mass Balance from GRACE data (CSR RL06), derived by TU Dresden, v1.3",
        "uuid": "5970b33c92ef444793fb6d7e54d1230e"
       },
       "bbox": [
        -80,
        60,
        -10,
        90
       ],
       "coords": {
        "latitude": {
         "attrs": {
          "chunk_sizes": 724,
          "data_type": "float64",
          "dimensions": [
           "meas_ind"
          ],
          "file_chunk_sizes": 724,
          "file_dimensions": [
           "meas_ind"
          ],
          "fill_value": null,
          "long_name": "latitude",
          "orig_data_type": "float64",
          "shape": [
           724
          ],
          "size": 724,
          "standard_name": "latitude",
          "units": "degrees_north"
         },
         "dims": [
          "meas_ind"
         ],
         "dtype": "float64",
         "name": "latitude"
        },
        "longitude": {
         "attrs": {
          "chunk_sizes": 724,
          "data_type": "float64",
          "dimensions": [
           "meas_ind"
          ],
          "file_chunk_sizes": 724,
          "file_dimensions": [
           "meas_ind"
          ],
          "fill_value": null,
          "long_name": "longitude",
          "orig_data_type": "float64",
          "shape": [
           724
          ],
          "size": 724,
          "standard_name": "longitude",
          "units": "degrees_east"
         },
         "dims": [
          "meas_ind"
         ],
         "dtype": "float64",
         "name": "longitude"
        },
        "time": {
         "attrs": {
          "calendar": "proleptic_gregorian",
          "standard_name": "time",
          "units": "seconds since 1970-01-01T00:00:00Z"
         },
         "dims": [
          "time"
         ],
         "dtype": "int64",
         "name": "time"
        },
        "time_bnds": {
         "attrs": {
          "calendar": "proleptic_gregorian",
          "standard_name": "time_bnds",
          "units": "seconds since 1970-01-01T00:00:00Z"
         },
         "dims": [
          "time",
          "bnds"
         ],
         "dtype": "int64",
         "name": "time_bnds"
        }
       },
       "crs": "\\\"WGS 84\\\"",
       "data_id": "esacci.ICESHEETS.yr.Unspecified.GMB.GRACE-instrument.GRACE.UNSPECIFIED.1-3.greenland_gmb_mass_trends",
       "data_type": "dataset",
       "data_vars": {
        "GMB_trend": {
         "attrs": {
          "chunk_sizes": [
           10,
           724
          ],
          "coordinates": "latitude longitude",
          "data_type": "float64",
          "dimensions": [
           "time",
           "meas_ind"
          ],
          "file_chunk_sizes": [
           10,
           724
          ],
          "file_dimensions": [
           "time",
           "meas_ind"
          ],
          "fill_value": null,
          "long_name": "mass trend for time span",
          "orig_data_type": "float64",
          "shape": [
           10,
           724
          ],
          "size": 7240,
          "source": "GRACE - CSR RL06",
          "standard_name": "tendency_of_change_in_land_ice_amount",
          "units": "kg m-2 yr-1",
          "units_comments": "kg m-2 yr-1 corresponds to mm water equivalent per year"
         },
         "dims": [
          "time",
          "meas_ind"
         ],
         "dtype": "float64",
         "name": "GMB_trend"
        },
        "crs": {
         "attrs": {
          "DODS": {
           "strlen": 0
          },
          "data_type": "bytes1024",
          "dimensions": [],
          "file_dimensions": [],
          "grid_mapping_name": "latitude_longitude",
          "inverse_flattening": "298.257223563",
          "longitude_of_prime_meridian": "0",
          "orig_data_type": "bytes1024",
          "semi_major_axis": "6378137.",
          "shape": [],
          "size": 1,
          "spatial_ref": "GEOGCS[\\\"WGS 84\\\",DATUM[\\\"WGS_1984\\\",SPHEROID[\\\"WGS 84\\\",6378137,298.257223563,AUTHORITY[\\\"EPSG\\\",\\\"7030\\\"]],AUTHORITY[\\\"EPSG\\\",\\\"6326\\\"]],PRIMEM[\\\"Greenwich\\\",0,AUTHORITY[\\\"EPSG\\\",\\\"8901\\\"]],UNIT[\\\"degree\\\",0.01745329251994328,AUTHORITY[\\\"EPSG\\\",\\\"9122\\\"]],AUTHORITY[\\\"EPSG\\\",\\\"4326\\\"]]"
         },
         "dims": [],
         "dtype": "bytes1024",
         "name": "crs"
        },
        "end_time": {
         "attrs": {
          "chunk_sizes": 10,
          "data_type": "float64",
          "dimensions": [
           "time"
          ],
          "file_chunk_sizes": 10,
          "file_dimensions": [
           "time"
          ],
          "fill_value": null,
          "long_name": "end of time span",
          "orig_data_type": "float64",
          "shape": [
           10
          ],
          "size": 10,
          "units": "days since 2003-01-01 00:00:00"
         },
         "dims": [
          "time"
         ],
         "dtype": "float64",
         "name": "end_time"
        },
        "start_time": {
         "attrs": {
          "chunk_sizes": 10,
          "data_type": "float64",
          "dimensions": [
           "time"
          ],
          "file_chunk_sizes": 10,
          "file_dimensions": [
           "time"
          ],
          "fill_value": null,
          "long_name": "start of time span",
          "orig_data_type": "float64",
          "shape": [
           10
          ],
          "size": 10,
          "units": "days since 2003-01-01 00:00:00"
         },
         "dims": [
          "time"
         ],
         "dtype": "float64",
         "name": "start_time"
        },
        "t": {
         "attrs": {
          "axis": "T",
          "calendar": "gregorian",
          "chunk_sizes": 10,
          "data_type": "float64",
          "dimensions": [
           "time"
          ],
          "file_chunk_sizes": 10,
          "file_dimensions": [
           "time"
          ],
          "fill_value": null,
          "long_name": "average time for time slice",
          "orig_data_type": "float64",
          "shape": [
           10
          ],
          "size": 10,
          "standard_name": "time",
          "units": "days since 2003-01-01 00:00:00"
         },
         "dims": [
          "time"
         ],
         "dtype": "float64",
         "name": "t"
        }
       },
       "dims": {
        "bnds": 2,
        "meas_ind": 724,
        "time": 1200
       },
       "open_params_schema": {
        "additionalProperties": false,
        "properties": {
         "normalize_data": {
          "default": true,
          "type": "boolean"
         },
         "time_range": {
          "items": [
           {
            "format": "date",
            "maxDate": "2016-08-31",
            "minDate": "2002-03-31",
            "type": "string"
           },
           {
            "format": "date",
            "maxDate": "2016-08-31",
            "minDate": "2002-03-31",
            "type": "string"
           }
          ],
          "type": "array"
         },
         "variable_names": {
          "items": {
           "enum": [
            "t",
            "start_time",
            "end_time",
            "GMB_trend",
            "crs"
           ],
           "type": "string"
          },
          "type": "array"
         }
        },
        "type": "object"
       },
       "time_period": "1Y",
       "time_range": [
        "2002-03-31",
        "2016-08-31"
       ]
      },
      "text/plain": [
       "<xcube.core.store.descriptor.DatasetDescriptor at 0x7fcd8f78ddf0>"
      ]
     },
     "metadata": {},
     "output_type": "display_data"
    },
    {
     "name": "stdout",
     "output_type": "stream",
     "text": [
      "\n",
      "Dataset item 4:\n"
     ]
    },
    {
     "data": {
      "application/json": {
       "attrs": {
        "abstract": "This dataset provides the Gravitational Mass Balance (GMB) product derived from gravimetry data from the GRACE satellite instrument, by DTU Space.  The data consists of two products: a mass change time series for the entire Greenland Ice Sheet and different drainage basins for the period April 2002 to June 2017; and mass trend grids for different 5-year periods between 2003 and 2017.   This version (1.4) is derived from GRACE monthly solutions provided by TU Graz (ITSG-Grace 2016), apart from August 2016 time series which is computed using the CRS-R05 solution.\n\nThe mass change time series contains the mass change (with respect to a chosen reference month) for all of the Greenland Ice Sheet and each individual drainage basin.  For each month (defined by a decimal year) a mass change in Gt and its associated error (also in Gt) is provided.   The mass trend grid product is given in units of mm water equivalent per year.\n\nMass balance is an important variable to understand glacial thinning and ablation rates to enable mapping glacier area change. The time series allows the longer term comparison of trends whereas the mass trend grids provide a yearly snapshot which can be further analysed and compared across the data set. \n\nBasin definitions and further data descriptions can be found in the Algorithm Theoretical Baseline Document (ST-DTU-ESA-GISCCI-ATBD-001_v3.1.pdf) and Product Specification Document (ST-DTU-ESA-GISCCI-PSD_v2.2.pdf) which are provided on the Greenland Ice Sheet CCI project website. \n\nCitation: \nBarletta, V. R., Sørensen, L. S., and Forsberg, R.: Scatter of mass changes estimates at basin scale for Greenland and Antarctica, The Cryosphere, 7, 1411-1432, doi:10.5194/tc-7-1411-2013, 2013.",
        "catalog_url": "https://catalogue.ceda.ac.uk/uuid/35ea8189e75e4b6f95e7c86812080ecb",
        "cci_project": "ICESHEETS",
        "data_type": "GMB",
        "ecv": "ICESHEETS",
        "licences": "Use of these data is covered by the following licence: http://licences.ceda.ac.uk/image/data_access_condition/esacci_icesheets_greenland_terms_and_conditions.pdf . When using these data you must cite them correctly using the citation given on the CEDA Data Catalogue record.",
        "platform_id": "GRACE",
        "processing_level": "Unspecified",
        "product_string": "UNSPECIFIED",
        "product_version": "1-4",
        "publication_date": "2018-11-28T17:14:52",
        "sensor_id": "GRACE-instrument",
        "title": "ESA Greenland Ice Sheet Climate Change Initiative (Greenland_Ice_Sheet_cci): Greenland Gravimetric Mass Balance from GRACE data, derived by DTU Space,  v1.4",
        "uuid": "35ea8189e75e4b6f95e7c86812080ecb"
       },
       "bbox": [
        -80,
        60,
        -10,
        90
       ],
       "coords": {
        "latitude": {
         "attrs": {
          "data_type": "float32",
          "dimensions": [
           "meas_ind"
          ],
          "file_dimensions": [
           "meas_ind"
          ],
          "fill_value": null,
          "long_name": "latitude",
          "orig_data_type": "float32",
          "shape": [
           901
          ],
          "size": 901,
          "standard_name": "latitude",
          "units": "degrees_north"
         },
         "dims": [
          "meas_ind"
         ],
         "dtype": "float32",
         "name": "latitude"
        },
        "longitude": {
         "attrs": {
          "data_type": "float32",
          "dimensions": [
           "meas_ind"
          ],
          "file_dimensions": [
           "meas_ind"
          ],
          "fill_value": null,
          "long_name": "longitude",
          "orig_data_type": "float32",
          "shape": [
           901
          ],
          "size": 901,
          "standard_name": "longitude",
          "units": "degrees_east"
         },
         "dims": [
          "meas_ind"
         ],
         "dtype": "float32",
         "name": "longitude"
        },
        "time": {
         "attrs": {
          "calendar": "proleptic_gregorian",
          "standard_name": "time",
          "units": "seconds since 1970-01-01T00:00:00Z"
         },
         "dims": [
          "time"
         ],
         "dtype": "int64",
         "name": "time"
        },
        "time_bnds": {
         "attrs": {
          "calendar": "proleptic_gregorian",
          "standard_name": "time_bnds",
          "units": "seconds since 1970-01-01T00:00:00Z"
         },
         "dims": [
          "time",
          "bnds"
         ],
         "dtype": "int64",
         "name": "time_bnds"
        }
       },
       "crs": "WGS84",
       "data_id": "esacci.ICESHEETS.yr.Unspecified.GMB.GRACE-instrument.GRACE.UNSPECIFIED.1-4.greenland_gmb_mass_trends",
       "data_type": "dataset",
       "data_vars": {
        "GMB_trend": {
         "attrs": {
          "coordinates": "longitudes latitudes",
          "data_type": "float32",
          "dimensions": [
           "meas_ind",
           "time"
          ],
          "file_dimensions": [
           "meas_ind",
           "time"
          ],
          "fill_value": null,
          "long_name": "Mass trend for time span",
          "orig_data_type": "float32",
          "shape": [
           901,
           11
          ],
          "size": 9911,
          "source": "GRACE",
          "unit": "mm water equivalent"
         },
         "dims": [
          "meas_ind",
          "time"
         ],
         "dtype": "float32",
         "name": "GMB_trend"
        },
        "end_time": {
         "attrs": {
          "calendar": "gregorian",
          "data_type": "float32",
          "dimensions": [
           "time"
          ],
          "file_dimensions": [
           "time"
          ],
          "fill_value": null,
          "long_name": "End of time span",
          "orig_data_type": "float32",
          "shape": [
           11
          ],
          "size": 11,
          "title": "Time",
          "units": "days since 2003-01-01 00:00:00"
         },
         "dims": [
          "time"
         ],
         "dtype": "float32",
         "name": "end_time"
        },
        "start_time": {
         "attrs": {
          "calendar": "gregorian",
          "data_type": "float32",
          "dimensions": [
           "time"
          ],
          "file_dimensions": [
           "time"
          ],
          "fill_value": null,
          "long_name": "Mean of time span",
          "orig_data_type": "float32",
          "shape": [
           11
          ],
          "size": 11,
          "title": "Time",
          "units": "days since 2003-01-01 00:00:00"
         },
         "dims": [
          "time"
         ],
         "dtype": "float32",
         "name": "start_time"
        },
        "t": {
         "attrs": {
          "calendar": "gregorian",
          "data_type": "float32",
          "dimensions": [
           "time"
          ],
          "file_dimensions": [
           "time"
          ],
          "fill_value": null,
          "long_name": "Average time for time slice",
          "orig_data_type": "float32",
          "shape": [
           11
          ],
          "size": 11,
          "title": "Time",
          "units": "days since 2003-01-01 00:00:00"
         },
         "dims": [
          "time"
         ],
         "dtype": "float32",
         "name": "t"
        }
       },
       "dims": {
        "bnds": 2,
        "meas_ind": 901,
        "time": 2904
       },
       "open_params_schema": {
        "additionalProperties": false,
        "properties": {
         "bbox": {
          "items": [
           {
            "maximum": -10,
            "minimum": -80,
            "type": "number"
           },
           {
            "maximum": 90,
            "minimum": 60,
            "type": "number"
           },
           {
            "maximum": -10,
            "minimum": -80,
            "type": "number"
           },
           {
            "maximum": 90,
            "minimum": 60,
            "type": "number"
           }
          ],
          "type": "array"
         },
         "normalize_data": {
          "default": true,
          "type": "boolean"
         },
         "time_range": {
          "items": [
           {
            "format": "date",
            "maxDate": "2017-06-30",
            "minDate": "2002-03-31",
            "type": "string"
           },
           {
            "format": "date",
            "maxDate": "2017-06-30",
            "minDate": "2002-03-31",
            "type": "string"
           }
          ],
          "type": "array"
         },
         "variable_names": {
          "items": {
           "enum": [
            "t",
            "start_time",
            "end_time",
            "GMB_trend"
           ],
           "type": "string"
          },
          "type": "array"
         }
        },
        "type": "object"
       },
       "time_period": "1Y",
       "time_range": [
        "2002-03-31",
        "2017-06-30"
       ]
      },
      "text/plain": [
       "<xcube.core.store.descriptor.DatasetDescriptor at 0x7fcd8f794ca0>"
      ]
     },
     "metadata": {},
     "output_type": "display_data"
    },
    {
     "name": "stdout",
     "output_type": "stream",
     "text": [
      "\n",
      "Dataset item 5:\n"
     ]
    },
    {
     "data": {
      "application/json": {
       "attrs": {
        "abstract": "This dataset provides the Gravitational Mass Balance (GMB) product derived from gravimetry data from the GRACE satellite instrument, by DTU Space.  The data consists of two products: a mass change time series for the entire Greenland Ice Sheet and different drainage basins for the period April 2002 to June 2017; and mass trend grids for different 5-year periods between 2003 and 2017.   This version (1.4) is derived from GRACE monthly solutions provided by TU Graz (ITSG-Grace 2016), apart from August 2016 time series which is computed using the CRS-R05 solution.\n\nThe mass change time series contains the mass change (with respect to a chosen reference month) for all of the Greenland Ice Sheet and each individual drainage basin.  For each month (defined by a decimal year) a mass change in Gt and its associated error (also in Gt) is provided.   The mass trend grid product is given in units of mm water equivalent per year.\n\nMass balance is an important variable to understand glacial thinning and ablation rates to enable mapping glacier area change. The time series allows the longer term comparison of trends whereas the mass trend grids provide a yearly snapshot which can be further analysed and compared across the data set. \n\nBasin definitions and further data descriptions can be found in the Algorithm Theoretical Baseline Document (ST-DTU-ESA-GISCCI-ATBD-001_v3.1.pdf) and Product Specification Document (ST-DTU-ESA-GISCCI-PSD_v2.2.pdf) which are provided on the Greenland Ice Sheet CCI project website. \n\nCitation: \nBarletta, V. R., Sørensen, L. S., and Forsberg, R.: Scatter of mass changes estimates at basin scale for Greenland and Antarctica, The Cryosphere, 7, 1411-1432, doi:10.5194/tc-7-1411-2013, 2013.",
        "catalog_url": "https://catalogue.ceda.ac.uk/uuid/35ea8189e75e4b6f95e7c86812080ecb",
        "cci_project": "ICESHEETS",
        "data_type": "GMB",
        "ecv": "ICESHEETS",
        "licences": "Use of these data is covered by the following licence: http://licences.ceda.ac.uk/image/data_access_condition/esacci_icesheets_greenland_terms_and_conditions.pdf . When using these data you must cite them correctly using the citation given on the CEDA Data Catalogue record.",
        "platform_id": "GRACE",
        "processing_level": "Unspecified",
        "product_string": "UNSPECIFIED",
        "product_version": "1-4",
        "publication_date": "2018-11-28T17:14:52",
        "sensor_id": "GRACE-instrument",
        "title": "ESA Greenland Ice Sheet Climate Change Initiative (Greenland_Ice_Sheet_cci): Greenland Gravimetric Mass Balance from GRACE data, derived by DTU Space,  v1.4",
        "uuid": "35ea8189e75e4b6f95e7c86812080ecb"
       },
       "bbox": [
        -80,
        60,
        -10,
        90
       ],
       "coords": {
        "time": {
         "attrs": {
          "calendar": "proleptic_gregorian",
          "standard_name": "time",
          "units": "seconds since 1970-01-01T00:00:00Z"
         },
         "dims": [
          "time"
         ],
         "dtype": "int64",
         "name": "time"
        },
        "time_bnds": {
         "attrs": {
          "calendar": "proleptic_gregorian",
          "standard_name": "time_bnds",
          "units": "seconds since 1970-01-01T00:00:00Z"
         },
         "dims": [
          "time",
          "bnds"
         ],
         "dtype": "int64",
         "name": "time_bnds"
        }
       },
       "crs": "WGS84",
       "data_id": "esacci.ICESHEETS.yr.Unspecified.GMB.GRACE-instrument.GRACE.UNSPECIFIED.1-4.greenland_gmb_time_series",
       "data_type": "dataset",
       "dims": {
        "bnds": 2,
        "time": 19
       },
       "open_params_schema": {
        "additionalProperties": false,
        "properties": {
         "bbox": {
          "items": [
           {
            "maximum": -10,
            "minimum": -80,
            "type": "number"
           },
           {
            "maximum": 90,
            "minimum": 60,
            "type": "number"
           },
           {
            "maximum": -10,
            "minimum": -80,
            "type": "number"
           },
           {
            "maximum": 90,
            "minimum": 60,
            "type": "number"
           }
          ],
          "type": "array"
         },
         "normalize_data": {
          "default": true,
          "type": "boolean"
         },
         "time_range": {
          "items": [
           {
            "format": "date",
            "maxDate": "2017-06-30",
            "minDate": "2002-03-31",
            "type": "string"
           },
           {
            "format": "date",
            "maxDate": "2017-06-30",
            "minDate": "2002-03-31",
            "type": "string"
           }
          ],
          "type": "array"
         },
         "variable_names": {
          "items": {
           "type": "string"
          },
          "type": "array"
         }
        },
        "type": "object"
       },
       "time_period": "1Y",
       "time_range": [
        "2002-03-31",
        "2017-06-30"
       ]
      },
      "text/plain": [
       "<xcube.core.store.descriptor.DatasetDescriptor at 0x7fcd8f7ca2b0>"
      ]
     },
     "metadata": {},
     "output_type": "display_data"
    },
    {
     "name": "stdout",
     "output_type": "stream",
     "text": [
      "\n",
      "Dataset item 6:\n"
     ]
    },
    {
     "data": {
      "application/json": {
       "attrs": {
        "abstract": "This dataset provides the Gravitational Mass Balance (GMB) product derived from gravimetry data from the GRACE satellite instrument, by DTU Space.  The data consists of two products: a mass change time series for the entire Greenland Ice Sheet and different drainage basins for the period April 2002 to June 2016; and mass trend grids for different 5-year periods between 2003 and 2016.   This version (1.3) is derived from GRACE monthly solutions from the CSR RL06 product.\n\nThe mass change time series contains the mass change (with respect to a chosen reference month) for all of the Greenland Ice Sheet and each individual drainage basin.  For each month (defined by a decimal year) a mass change in Gt and its associated error (also in Gt) is provided.   The mass trend grid product is given in units of mm water equivalent per year.\n\nMass balance is an important variable to understand glacial thinning and ablation rates to enable mapping glacier area change. The time series allows the longer term comparison of trends whereas the mass trend grids provide a yearly snapshot which can be further analysed and compared across the data set. \n\nBasin definitions and further data descriptions can be found in the Algorithm Theoretical Baseline Document (ST-DTU-ESA-GISCCI-ATBD-001_v3.1.pdf) and Product Specification Document (ST-DTU-ESA-GISCCI-PSD_v2.2.pdf) which are provided on the Greenland Ice Sheet CCI project website. \n\nCitation: \nBarletta, V. R., Sørensen, L. S., and Forsberg, R.: Scatter of mass changes estimates at basin scale for Greenland and Antarctica, The Cryosphere, 7, 1411-1432, doi:10.5194/tc-7-1411-2013, 2013.",
        "catalog_url": "https://catalogue.ceda.ac.uk/uuid/ff4bfe39b7fe42fc993341d3cebdabb5",
        "cci_project": "ICESHEETS",
        "data_type": "GMB",
        "ecv": "ICESHEETS",
        "licences": "Use of these data is covered by the following licence: http://licences.ceda.ac.uk/image/data_access_condition/esacci_icesheets_greenland_terms_and_conditions.pdf . When using these data you must cite them correctly using the citation given on the CEDA Data Catalogue record.",
        "platform_id": "GRACE",
        "processing_level": "Unspecified",
        "product_string": "UNSPECIFIED",
        "product_version": "1-5",
        "publication_date": "2018-11-28T17:10:36",
        "sensor_id": "GRACE-instrument",
        "title": "ESA Greenland Ice Sheet Climate Change Initiative (Greenland_Ice_Sheet_cci): Greenland Gravimetric Mass Balance from GRACE data (CSR RL06), derived by DTU Space, v1.5",
        "uuid": "ff4bfe39b7fe42fc993341d3cebdabb5"
       },
       "bbox": [
        -80,
        60,
        -10,
        90
       ],
       "coords": {
        "latitude": {
         "attrs": {
          "data_type": "float32",
          "dimensions": [
           "meas_ind"
          ],
          "file_dimensions": [
           "meas_ind"
          ],
          "fill_value": null,
          "long_name": "latitude",
          "orig_data_type": "float32",
          "shape": [
           901
          ],
          "size": 901,
          "standard_name": "latitude",
          "units": "degrees_north"
         },
         "dims": [
          "meas_ind"
         ],
         "dtype": "float32",
         "name": "latitude"
        },
        "longitude": {
         "attrs": {
          "data_type": "float32",
          "dimensions": [
           "meas_ind"
          ],
          "file_dimensions": [
           "meas_ind"
          ],
          "fill_value": null,
          "long_name": "longitude",
          "orig_data_type": "float32",
          "shape": [
           901
          ],
          "size": 901,
          "standard_name": "longitude",
          "units": "degrees_east"
         },
         "dims": [
          "meas_ind"
         ],
         "dtype": "float32",
         "name": "longitude"
        },
        "time": {
         "attrs": {
          "calendar": "proleptic_gregorian",
          "standard_name": "time",
          "units": "seconds since 1970-01-01T00:00:00Z"
         },
         "dims": [
          "time"
         ],
         "dtype": "int64",
         "name": "time"
        },
        "time_bnds": {
         "attrs": {
          "calendar": "proleptic_gregorian",
          "standard_name": "time_bnds",
          "units": "seconds since 1970-01-01T00:00:00Z"
         },
         "dims": [
          "time",
          "bnds"
         ],
         "dtype": "int64",
         "name": "time_bnds"
        }
       },
       "crs": "WGS84",
       "data_id": "esacci.ICESHEETS.yr.Unspecified.GMB.GRACE-instrument.GRACE.UNSPECIFIED.1-5.greenland_gmb_mass_trends",
       "data_type": "dataset",
       "data_vars": {
        "GMB_trend": {
         "attrs": {
          "coordinates": "longitudes latitudes",
          "data_type": "float32",
          "dimensions": [
           "meas_ind",
           "time"
          ],
          "file_dimensions": [
           "meas_ind",
           "time"
          ],
          "fill_value": null,
          "long_name": "Mass trend for time span",
          "orig_data_type": "float32",
          "shape": [
           901,
           10
          ],
          "size": 9010,
          "source": "GRACE",
          "unit": "mm water equivalent"
         },
         "dims": [
          "meas_ind",
          "time"
         ],
         "dtype": "float32",
         "name": "GMB_trend"
        },
        "end_time": {
         "attrs": {
          "calendar": "gregorian",
          "data_type": "float32",
          "dimensions": [
           "time"
          ],
          "file_dimensions": [
           "time"
          ],
          "fill_value": null,
          "long_name": "End of time span",
          "orig_data_type": "float32",
          "shape": [
           10
          ],
          "size": 10,
          "title": "Time",
          "units": "days since 2003-01-01 00:00:00"
         },
         "dims": [
          "time"
         ],
         "dtype": "float32",
         "name": "end_time"
        },
        "start_time": {
         "attrs": {
          "calendar": "gregorian",
          "data_type": "float32",
          "dimensions": [
           "time"
          ],
          "file_dimensions": [
           "time"
          ],
          "fill_value": null,
          "long_name": "Mean of time span",
          "orig_data_type": "float32",
          "shape": [
           10
          ],
          "size": 10,
          "title": "Time",
          "units": "days since 2003-01-01 00:00:00"
         },
         "dims": [
          "time"
         ],
         "dtype": "float32",
         "name": "start_time"
        },
        "t": {
         "attrs": {
          "calendar": "gregorian",
          "data_type": "float32",
          "dimensions": [
           "time"
          ],
          "file_dimensions": [
           "time"
          ],
          "fill_value": null,
          "long_name": "Average time for time slice",
          "orig_data_type": "float32",
          "shape": [
           10
          ],
          "size": 10,
          "title": "Time",
          "units": "days since 2003-01-01 00:00:00"
         },
         "dims": [
          "time"
         ],
         "dtype": "float32",
         "name": "t"
        }
       },
       "dims": {
        "bnds": 2,
        "meas_ind": 901,
        "time": 2200
       },
       "open_params_schema": {
        "additionalProperties": false,
        "properties": {
         "bbox": {
          "items": [
           {
            "maximum": -10,
            "minimum": -80,
            "type": "number"
           },
           {
            "maximum": 90,
            "minimum": 60,
            "type": "number"
           },
           {
            "maximum": -10,
            "minimum": -80,
            "type": "number"
           },
           {
            "maximum": 90,
            "minimum": 60,
            "type": "number"
           }
          ],
          "type": "array"
         },
         "normalize_data": {
          "default": true,
          "type": "boolean"
         },
         "time_range": {
          "items": [
           {
            "format": "date",
            "maxDate": "2016-06-30",
            "minDate": "2002-03-31",
            "type": "string"
           },
           {
            "format": "date",
            "maxDate": "2016-06-30",
            "minDate": "2002-03-31",
            "type": "string"
           }
          ],
          "type": "array"
         },
         "variable_names": {
          "items": {
           "enum": [
            "t",
            "start_time",
            "end_time",
            "GMB_trend"
           ],
           "type": "string"
          },
          "type": "array"
         }
        },
        "type": "object"
       },
       "time_period": "1Y",
       "time_range": [
        "2002-03-31",
        "2016-06-30"
       ]
      },
      "text/plain": [
       "<xcube.core.store.descriptor.DatasetDescriptor at 0x7fcd8f7234f0>"
      ]
     },
     "metadata": {},
     "output_type": "display_data"
    },
    {
     "name": "stdout",
     "output_type": "stream",
     "text": [
      "\n",
      "Dataset item 7:\n"
     ]
    },
    {
     "data": {
      "application/json": {
       "attrs": {
        "abstract": "This dataset provides the Gravitational Mass Balance (GMB) product derived from gravimetry data from the GRACE satellite instrument, by DTU Space.  The data consists of two products: a mass change time series for the entire Greenland Ice Sheet and different drainage basins for the period April 2002 to June 2016; and mass trend grids for different 5-year periods between 2003 and 2016.   This version (1.3) is derived from GRACE monthly solutions from the CSR RL06 product.\n\nThe mass change time series contains the mass change (with respect to a chosen reference month) for all of the Greenland Ice Sheet and each individual drainage basin.  For each month (defined by a decimal year) a mass change in Gt and its associated error (also in Gt) is provided.   The mass trend grid product is given in units of mm water equivalent per year.\n\nMass balance is an important variable to understand glacial thinning and ablation rates to enable mapping glacier area change. The time series allows the longer term comparison of trends whereas the mass trend grids provide a yearly snapshot which can be further analysed and compared across the data set. \n\nBasin definitions and further data descriptions can be found in the Algorithm Theoretical Baseline Document (ST-DTU-ESA-GISCCI-ATBD-001_v3.1.pdf) and Product Specification Document (ST-DTU-ESA-GISCCI-PSD_v2.2.pdf) which are provided on the Greenland Ice Sheet CCI project website. \n\nCitation: \nBarletta, V. R., Sørensen, L. S., and Forsberg, R.: Scatter of mass changes estimates at basin scale for Greenland and Antarctica, The Cryosphere, 7, 1411-1432, doi:10.5194/tc-7-1411-2013, 2013.",
        "catalog_url": "https://catalogue.ceda.ac.uk/uuid/ff4bfe39b7fe42fc993341d3cebdabb5",
        "cci_project": "ICESHEETS",
        "data_type": "GMB",
        "ecv": "ICESHEETS",
        "licences": "Use of these data is covered by the following licence: http://licences.ceda.ac.uk/image/data_access_condition/esacci_icesheets_greenland_terms_and_conditions.pdf . When using these data you must cite them correctly using the citation given on the CEDA Data Catalogue record.",
        "platform_id": "GRACE",
        "processing_level": "Unspecified",
        "product_string": "UNSPECIFIED",
        "product_version": "1-5",
        "publication_date": "2018-11-28T17:10:36",
        "sensor_id": "GRACE-instrument",
        "title": "ESA Greenland Ice Sheet Climate Change Initiative (Greenland_Ice_Sheet_cci): Greenland Gravimetric Mass Balance from GRACE data (CSR RL06), derived by DTU Space, v1.5",
        "uuid": "ff4bfe39b7fe42fc993341d3cebdabb5"
       },
       "bbox": [
        -80,
        60,
        -10,
        90
       ],
       "coords": {
        "time": {
         "attrs": {
          "calendar": "proleptic_gregorian",
          "standard_name": "time",
          "units": "seconds since 1970-01-01T00:00:00Z"
         },
         "dims": [
          "time"
         ],
         "dtype": "int64",
         "name": "time"
        },
        "time_bnds": {
         "attrs": {
          "calendar": "proleptic_gregorian",
          "standard_name": "time_bnds",
          "units": "seconds since 1970-01-01T00:00:00Z"
         },
         "dims": [
          "time",
          "bnds"
         ],
         "dtype": "int64",
         "name": "time_bnds"
        }
       },
       "crs": "WGS84",
       "data_id": "esacci.ICESHEETS.yr.Unspecified.GMB.GRACE-instrument.GRACE.UNSPECIFIED.1-5.greenland_gmb_time_series",
       "data_type": "dataset",
       "dims": {
        "bnds": 2,
        "time": 19
       },
       "open_params_schema": {
        "additionalProperties": false,
        "properties": {
         "bbox": {
          "items": [
           {
            "maximum": -10,
            "minimum": -80,
            "type": "number"
           },
           {
            "maximum": 90,
            "minimum": 60,
            "type": "number"
           },
           {
            "maximum": -10,
            "minimum": -80,
            "type": "number"
           },
           {
            "maximum": 90,
            "minimum": 60,
            "type": "number"
           }
          ],
          "type": "array"
         },
         "normalize_data": {
          "default": true,
          "type": "boolean"
         },
         "time_range": {
          "items": [
           {
            "format": "date",
            "maxDate": "2016-06-30",
            "minDate": "2002-03-31",
            "type": "string"
           },
           {
            "format": "date",
            "maxDate": "2016-06-30",
            "minDate": "2002-03-31",
            "type": "string"
           }
          ],
          "type": "array"
         },
         "variable_names": {
          "items": {
           "type": "string"
          },
          "type": "array"
         }
        },
        "type": "object"
       },
       "time_period": "1Y",
       "time_range": [
        "2002-03-31",
        "2016-06-30"
       ]
      },
      "text/plain": [
       "<xcube.core.store.descriptor.DatasetDescriptor at 0x7fcd8f6e88e0>"
      ]
     },
     "metadata": {},
     "output_type": "display_data"
    }
   ],
   "source": [
    "# lets query the dataserver\n",
    "if cci_store != 'cci-zarr-store':\n",
    "    icesheetqry = data_store.search_data(platform=\"GRACE\")\n",
    "\n",
    "    for i,item in enumerate(icesheetqry):\n",
    "        print(f'\\nDataset item {i}:')\n",
    "        display(item)"
   ]
  },
  {
   "cell_type": "markdown",
   "metadata": {},
   "source": [
    "Of these, we pick \"esacci.ICESHEETS.yr.Unspecified.GMB.GRACE-instrument.GRACE.UNSPECIFIED.1-5.greenland_gmb_mass_trends\" and open it. The parameter 'data_store_id' is not absolutely necessary, but it makes the opening a little faster."
   ]
  },
  {
   "cell_type": "code",
   "execution_count": 19,
   "metadata": {},
   "outputs": [
    {
     "data": {
      "application/json": {
       "attrs": {
        "Institution": "DTU Space - Div. of Geodynamics",
        "Latitude_max": 83.23728,
        "Latitude_min": 60.73857,
        "Longitude_max": -14.706720000000018,
        "Longitude_min": -71.83566000000002,
        "Method": "GRACE GMB trend following Barletta et al. 2012",
        "Project": "Greenland ice sheet CCI.",
        "Source": "GRACE",
        "Title": "CCI GMB Greenland ice sheet",
        "Tracking_id": "74eef7fd-f5c6-499b-a268-0621cdc0cbf6",
        "Units": "Units used (mm water equivalent per year)",
        "date_created": "Created Thu Jun  7 20:05:15 2018",
        "grid_projection": "Geographical coordinates relative to WGS84",
        "netCDF_version": "NETCDF3_CLASSIC",
        "product_version": "1.2",
        "time_coverage_end": "Date and time of the last measurement in the data file: 2016-01-31",
        "time_coverage_start": "Date and time of the first measurement in the data file: 2003-01-01",
        "time_resolution": "5 year trends."
       },
       "data_id": "ESACCI-ICESHEETS_Greenland_GMB-2003-2016-v1.1.zarr",
       "data_type": "dataset",
       "data_vars": {
        "GMB_trend": {
         "attrs": {
          "coordinates": "longitudes latitudes",
          "long_name": "Mass trend for time span",
          "source": "GRACE",
          "unit": "mm water equivalent"
         },
         "chunks": [
          901,
          10
         ],
         "dims": [
          "meas_ind",
          "time"
         ],
         "dtype": "float32",
         "name": "GMB_trend"
        },
        "end_time": {
         "attrs": {
          "long_name": "End of time span",
          "title": "Time"
         },
         "chunks": [
          10
         ],
         "dims": [
          "time"
         ],
         "dtype": "datetime64[ns]",
         "name": "end_time"
        },
        "latitude": {
         "attrs": {
          "long_name": "latitude",
          "standard_name": "latitude",
          "units": "degrees_north"
         },
         "chunks": [
          901
         ],
         "dims": [
          "meas_ind"
         ],
         "dtype": "float32",
         "name": "latitude"
        },
        "longitude": {
         "attrs": {
          "long_name": "longitude",
          "standard_name": "longitude",
          "units": "degrees_east"
         },
         "chunks": [
          901
         ],
         "dims": [
          "meas_ind"
         ],
         "dtype": "float32",
         "name": "longitude"
        },
        "start_time": {
         "attrs": {
          "long_name": "Mean of time span",
          "title": "Time"
         },
         "chunks": [
          10
         ],
         "dims": [
          "time"
         ],
         "dtype": "datetime64[ns]",
         "name": "start_time"
        },
        "t": {
         "attrs": {
          "long_name": "Average time for time slice",
          "title": "Time"
         },
         "chunks": [
          10
         ],
         "dims": [
          "time"
         ],
         "dtype": "datetime64[ns]",
         "name": "t"
        }
       },
       "dims": {
        "meas_ind": 901,
        "time": 10
       },
       "time_range": [
        "2003-01-01",
        "2016-01-31"
       ]
      },
      "text/plain": [
       "<xcube.core.store.descriptor.DatasetDescriptor at 0x7fcd8f7d2fa0>"
      ]
     },
     "metadata": {},
     "output_type": "display_data"
    }
   ],
   "source": [
    "yr = 2012\n",
    "trange = [datetime(yr,1,1), datetime(yr,12,31)]\n",
    "#note the appropriate dataset is called slightly different depending on the cci-store which is being used\n",
    "if cci_store == 'cci-store':\n",
    "    dataset_id = \"esacci.ICESHEETS.yr.Unspecified.GMB.GRACE-instrument.GRACE.UNSPECIFIED.1-5.greenland_gmb_mass_trends\"\n",
    "elif cci_store == \"cci-zarr-store\":\n",
    "    dataset_id = \"ESACCI-ICESHEETS_Greenland_GMB-2003-2016-v1.1.zarr\"\n",
    "\n",
    "#describe the dataset\n",
    "data_descriptor = data_store.describe_data(dataset_id)\n",
    "display(data_descriptor)    \n",
    "   \n"
   ]
  },
  {
   "cell_type": "code",
   "execution_count": 20,
   "metadata": {},
   "outputs": [
    {
     "name": "stderr",
     "output_type": "stream",
     "text": [
      "/opt/conda/lib/python3.9/site-packages/dask/array/core.py:398: FutureWarning: elementwise comparison failed; returning scalar instead, but in the future will perform elementwise comparison\n",
      "  o = func(*args, **kwargs)\n"
     ]
    }
   ],
   "source": [
    "greenTrnd = open_dataset(ds_id=dataset_id, data_store_id=cci_store)"
   ]
  },
  {
   "cell_type": "markdown",
   "metadata": {},
   "source": [
    "## Step 3: Create a geographical plot of the mass trends"
   ]
  },
  {
   "cell_type": "code",
   "execution_count": 22,
   "metadata": {},
   "outputs": [
    {
     "data": {
      "text/plain": [
       "Text(0.5, 1.0, 'mm/yr (equivalent water) 2005 - 2005')"
      ]
     },
     "execution_count": 22,
     "metadata": {},
     "output_type": "execute_result"
    },
    {
     "name": "stderr",
     "output_type": "stream",
     "text": [
      "/opt/conda/lib/python3.9/site-packages/cartopy/crs.py:825: ShapelyDeprecationWarning: __len__ for multi-part geometries is deprecated and will be removed in Shapely 2.0. Check the length of the `geoms` property instead to get the  number of parts of a multi-part geometry.\n",
      "  if len(multi_line_string) > 1:\n",
      "/opt/conda/lib/python3.9/site-packages/cartopy/crs.py:877: ShapelyDeprecationWarning: Iteration over multi-part geometries is deprecated and will be removed in Shapely 2.0. Use the `geoms` property to access the constituent parts of a multi-part geometry.\n",
      "  for line in multi_line_string:\n",
      "/opt/conda/lib/python3.9/site-packages/cartopy/crs.py:944: ShapelyDeprecationWarning: __len__ for multi-part geometries is deprecated and will be removed in Shapely 2.0. Check the length of the `geoms` property instead to get the  number of parts of a multi-part geometry.\n",
      "  if len(p_mline) > 0:\n"
     ]
    },
    {
     "data": {
      "image/png": "[encoded data removed]",
      "text/plain": [
       "<Figure size 1152x576 with 2 Axes>"
      ]
     },
     "metadata": {
      "needs_background": "light"
     },
     "output_type": "display_data"
    }
   ],
   "source": [
    "from xarray.plot import scatter\n",
    "import cartopy.crs as ccrs\n",
    "import matplotlib.pyplot as mpl\n",
    "import pandas as pd\n",
    "import numpy as np\n",
    "\n",
    "%matplotlib inline\n",
    "itime = 0\n",
    "yrstart = np.datetime_as_string(greenTrnd.start_time[itime].time.values, unit=\"Y\")\n",
    "yrend = np.datetime_as_string(greenTrnd.end_time[itime].time.values, unit=\"Y\")\n",
    "\n",
    "mpl.figure(figsize=(16, 8))\n",
    "crs = ccrs.NorthPolarStereo(-45)\n",
    "xy = crs.transform_points(ccrs.PlateCarree(), greenTrnd.longitude.values, greenTrnd.latitude.values)\n",
    "ax = mpl.subplot(projection=crs)\n",
    "ax.coastlines()\n",
    "greenTrnd.isel(time=itime).plot.scatter(x=\"longitude\", \n",
    "                                        y=\"latitude\", \n",
    "                                        hue=\"GMB_trend\", \n",
    "                                        cmap=\"RdBu\",\n",
    "                                        transform=ccrs.PlateCarree(),\n",
    "                                        ax=ax,\n",
    "                                        vmin=-500,\n",
    "                                        vmax=500,\n",
    "                                        s=70,\n",
    "                                        marker='H')\n",
    "ax.set_title(f\"mm/yr (equivalent water) {yrstart} - {yrend}\")"
   ]
  },
  {
   "cell_type": "markdown",
   "metadata": {},
   "source": [
    "## Questions (please share and discuss your answers on the forum)\n",
    "* Try to select different trend periods (variable `itime`). In which regions do you see changes?\n",
    "* To better visualize the areas which have undergone change, adapt (or copy) the code and plot the difference between two trend periods.\n",
    "* The spatial resolution of mass changes from GRACE and GRACE-FO are much coarser than what can be obtained from for example ice altimetry from e.g. Cryosat-2, but there are advantages too. Try to make a list of advantages/disadvantages of gravimetry versus altimetry and exchange your findings on the forum.\n"
   ]
  }
 ],
 "metadata": {
  "kernelspec": {
   "display_name": "Python 3 (ipykernel)",
   "language": "python",
   "name": "python3"
  },
  "language_info": {
   "codemirror_mode": {
    "name": "ipython",
    "version": 3
   },
   "file_extension": ".py",
   "mimetype": "text/x-python",
   "name": "python",
   "nbconvert_exporter": "python",
   "pygments_lexer": "ipython3",
   "version": "3.9.7"
  }
 },
 "nbformat": 4,
 "nbformat_minor": 4
}
