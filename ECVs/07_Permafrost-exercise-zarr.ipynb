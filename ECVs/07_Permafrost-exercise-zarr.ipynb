{
 "cells": [
  {
   "cell_type": "markdown",
   "metadata": {},
   "source": [
    "<img src=\"media/Cryo+ESA_Logo_plain-50gray.svg\" alt=\"CCI Cryosphere banner\" width=\"1000\"/>\n",
    "\n",
    "# Mapping the permafrost active layer thickness using Cate and the Zarr Data Store\n",
    "\n",
    "The Zarr Data Store hosts one permafrost dataset. This exercise will show you how to visualize and process it.\n",
    "\n",
    "## Preparations\n",
    "If you haven't done so please follow the [Cate tutorial](futurelearn.com/tbd) to get started using the exercises.\n"
   ]
  },
  {
   "cell_type": "code",
   "execution_count": null,
   "metadata": {},
   "outputs": [],
   "source": [
    "# To get things started we need to initialize a few things\n",
    "#Load some python modules to make them accessible to the notebook\n",
    "from cate.core.ds import DATA_STORE_POOL\n",
    "import cate.ops as ops\n",
    "from cate.util.monitor import ConsoleMonitor\n",
    "from cate.core.ds import get_metadata_from_descriptor\n",
    "from cate.ops.io import open_dataset\n",
    "\n",
    "# the following is needed to run Cate in a Jupyter Notebook\n",
    "from xcube.util.ipython import enable_asyncio\n",
    "enable_asyncio()\n",
    "\n",
    "# utilities\n",
    "from IPython.display import display\n",
    "import numpy as np\n",
    "from datetime import datetime\n",
    "\n",
    "monitor=ConsoleMonitor()"
   ]
  },
  {
   "cell_type": "markdown",
   "metadata": {},
   "source": [
    "To begin, let us see which data stores are available in the Data Store Pool."
   ]
  },
  {
   "cell_type": "code",
   "execution_count": null,
   "metadata": {},
   "outputs": [],
   "source": [
    "DATA_STORE_POOL.store_instance_ids"
   ]
  },
  {
   "cell_type": "markdown",
   "metadata": {},
   "source": [
    "We see three stores. The 'cci-store' is a store that provides access to all datasets from the CCI Open Data Portal. The 'cci-zarr-store' is a store that contains selected data from the Open Data Portal, converted to the zarr format. The datasets from this store can be opened and processed faster, but the store provides only a small subset of what is offered by the 'cci-store'. The 'local' data store finally allows to access locally provided data. Also, when you select to cache data, you will find it in this store. Cached data can also be opened quickly.\n",
    "\n",
    "For this exercise we use the 'cci-zarr-store'. As this datat store only holds a few datasets, it is fine to list its content entirely."
   ]
  },
  {
   "cell_type": "code",
   "execution_count": null,
   "metadata": {},
   "outputs": [],
   "source": [
    "data_store = DATA_STORE_POOL.get_store('cci-zarr-store')\n",
    "list(data_store.get_data_ids())"
   ]
  },
  {
   "cell_type": "markdown",
   "metadata": {},
   "source": [
    "There is one permafrost dataset included. We then may proceed to show the contents of this dataset:"
   ]
  },
  {
   "cell_type": "code",
   "execution_count": null,
   "metadata": {},
   "outputs": [],
   "source": [
    "permafrost_descriptor=data_store.describe_data('ESACCI-PERMAFROST-L4-ALT-MODISLST-AREA4_PP-1997-2018-fv02.0.zarr')\n",
    "display(permafrost_descriptor)"
   ]
  },
  {
   "cell_type": "markdown",
   "metadata": {},
   "source": [
    "Now let us open it. The parameter 'data_store_id' is not absolutely necessary, but it makes the opening a little faste. The parameter 'normalize' should be used so that the dataset is preprocessed in a way that it can be optimally used in Cate."
   ]
  },
  {
   "cell_type": "code",
   "execution_count": null,
   "metadata": {},
   "outputs": [],
   "source": [
    "permaALTDset=open_dataset(ds_id=\"ESACCI-PERMAFROST-L4-ALT-MODISLST-AREA4_PP-1997-2018-fv02.0.zarr\",\n",
    "                          data_store_id='cci-zarr-store',\n",
    "                          normalize=True)"
   ]
  },
  {
   "cell_type": "markdown",
   "metadata": {},
   "source": [
    "Now that we have opened the dataset, we can plot it:"
   ]
  },
  {
   "cell_type": "code",
   "execution_count": null,
   "metadata": {},
   "outputs": [],
   "source": [
    "%matplotlib inline\n",
    "import matplotlib.pyplot as mpl\n",
    "import cartopy.crs as ccrs\n",
    "\n",
    "it=0\n",
    "\n",
    "mpl.figure(figsize=(16,10))\n",
    "crs=ccrs.NorthPolarStereo(0,true_scale_latitude=71)\n",
    "\n",
    "ax = mpl.subplot(projection=crs)\n",
    "permaALTDset.ALT[it,:,:].plot.imshow(vmin=0,vmax=4,ax=ax)\n",
    "\n",
    "ax.coastlines(resolution='10m')\n",
    "\n",
    "ax.set_title(\"Permafrost active layer thickness in the Northern hemisphere\")\n"
   ]
  },
  {
   "cell_type": "markdown",
   "metadata": {},
   "source": [
    "## Questions\n",
    "1. In general, higher latitudes are associated with a thinner active layer. How can you explain this?\n",
    "2. Copy the plotting code in a new cell and try to make a plot of the change in active layer thickness (difference between last and first epoch). Make sure to choose a divergent colormap (e.g. seismic centered at a value of zero)\n",
    "3. Is there a general decrease or increase of the active layer thickness? Would this be expected under a warming climate?"
   ]
  }
 ],
 "metadata": {
  "kernelspec": {
   "display_name": "xcube",
   "language": "python",
   "name": "xcube"
  },
  "language_info": {
   "codemirror_mode": {
    "name": "ipython",
    "version": 3
   },
   "file_extension": ".py",
   "mimetype": "text/x-python",
   "name": "python",
   "nbconvert_exporter": "python",
   "pygments_lexer": "ipython3",
   "version": "3.8.8"
  }
 },
 "nbformat": 4,
 "nbformat_minor": 4
}
